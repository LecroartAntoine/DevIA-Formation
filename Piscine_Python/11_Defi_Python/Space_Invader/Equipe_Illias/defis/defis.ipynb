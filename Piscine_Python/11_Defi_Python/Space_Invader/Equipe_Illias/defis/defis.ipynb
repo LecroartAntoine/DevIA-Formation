{
 "cells": [
  {
   "cell_type": "code",
   "execution_count": 179,
   "metadata": {},
   "outputs": [
    {
     "name": "stdout",
     "output_type": "stream",
     "text": [
      "iVBORw0KGgoAAAANSUhEUgAAAYAAAAEACAIAAAA1FTYwAAAG9klEQVR4nO3d0Y7jKBAF0GTUH+4/z76sNJ5Vs0M14IuTc54si2BiWyUoAX48AAAAAAAAAAAAAAAAANjdM92ApFex/EffrMVejafxvMtdP4rneTwej8evdAOAzyUAATECEBAzbYB9HsE/O85fqZrrqdojS7HzE/heK+/Tsl0+6Fhc/kLnZ3G+z63zs+gBATECEBAjAAExQ4O6kdzK6tF8T9tamZJqmVb59XZ+At+r5n1aYvmgY7N6OvTkd6pm5Yn0gIAYAQiIEYCAmPJAesWcmhWj+dVzf1rWZybu8gR+61nnNavMEkfH+VllFujJ9fTkdKr19NADAmIEICBGAAJiugZsPXNkWuV7ypQb1OG9ckB3fALnK619GrEc0F3qP1nxLEbuvx4QECMAATECEBAzlANaIbVGLJ8p+T/v9AR+61lDtHo/miFH47ha5kLVfX9W7xOkBwTECEBAjAAExHylG3CFkb1+WmX23Wl5b9V1RlfuT9zl6DgeKb/AyBqunvtsPyDglgQgIEYAAmLK84B6vjg16/yI1Fqz9WvB7vIEzrX/fC5J6ntVfziKx7N++wH0gIAYAQiIEYAAAAAAAAAAAAAAAAAAAAAAAAAAAAAAAAAAAAAAAAAAAAAAAAAg6JluQNLrVSv/3OBunZs80pxZ9Xy0O75Am/mVbgDwuQQgIEYAAmImDkpbWYV8tqE6VK9KDe2rdzb/JP7HUTy+0ru+QCev09vxPL0drfOz6AEBMQIQECMAATGdg7qe/M7IpednJ3qG7eehd6t8T5lW+RVWZCOWZyCOjuMd6jx71xfo5DXwNs3KB+kBATECEBAjAAExP8gB9VQ1kjO6Lge0woohfOuvjNzZnjqnOYpleo5HrtXjnV6gk5G8T8tIPkgPCIgRgIAYAQiI+cHg7R4zUe4+hA81/w+xfNAOdd79BTpp5X1auZue9V/VOlv0gIAYAQiIEYCAmK+xn1fn/sxaR/Z3raF0z5KdkfIrrL5r1z2V/zgmHa/wTi9QQ8+coBXzhs70gIAYAQiIEYCAmMG1YLO+TDWrzsaVBrZqqZaZZfUO25fu4H0Uz6fqbLnjC3SyOo9zZh4QcBsCEBAjAAEx+ckIi6webu8wvWNkn6C3ffCzvNELVP3m16zzPfSAgBgBCIgRgAAAAAAAAAAAAAAAAAAAAAAAAAAAAAAAAAAAAAAAAAAAAAAAACDoOfLj1+N1qujvVVXLr/b63ZzHs6M51fK8oaNxnKrn5n6lGwB8LgEIiBGAgJhpmYxWfme3vE9LK79zm7zP/f/A6fjZcX4DR+N4VvkLpe6+HhAQIwABMQIQEDNtHlD9wvnx/Ovnzb82ndKT36naIk800P7U+3PcpM6TnvxO1aw8kR4QECMAATECEBBTHki38j49c396frtaK23SkxLp+e0SPbmekT/QqmeJkcxDy+I2Hx3nW2Wq5XvqKeq54z05nWo9PfSAgBgBCIgRgICYriHbyHyfqhX5oJHpMlVb5IOqYnmf1nV7ZpZU6yw65lQz5Jhf5W4ZOD0gIEYAAmIEICDmq/qDnnk9V9ZTvu7ipVSXqs792aLRZz1t2KCdR+P4LvU3VOf+zFpHdqYHBMQIQECMAATElHNABIys4fLBs3WO0G+LRtZw9bwN9gMCbkkAAmIEICDGd8H+dfvPam1tZJbJyPnFjo7zPWU+mB4QECMAATECEBCz5Ltgu+0D3VLdH7pVBvgZPSAgRgACYgQgAAAAAAAAAAAAAAAAAAAAAAAAAAAAAAAAAAAAAAAAAICNPafV9Ho1rjDvErOdW9zTymr51V6Pxj1veG7R6pbWf9m5zfd2fn963o1q+R6/ptQC8AMCEBAjAAExYwO5Vt6nebV9x/Ot/M4OeZ9qrqcqlxuq/q+d35/v8yMr8iYrpNqvBwTECEBAjAAExNQHddW8T/PK+fHwyD9Z3fqevE9rrF4t0yq/xqx81g7vz8//yw75oB3arwcExAhAQIwABMT0DeR61nnNKrNYz4qjnjlBrd/OsnruT8ua3ET1ro+UWWvFc7kyH1TNFVbzjFV6QECMAATECEBAzFgOaFor1o6Br8ymzPonn5EDmmX1+1PLffSsn1qRT2m58l2qtl8PCIgRgIAYAQiI+eoq1crRnHNDI2Uu1DOr5Mp62vXPyR1cmWtoa12rZ7elHXZk+l5PbiWVy2uprg1cXY8eEBAjAAExAhAQ05cDOmvldKprwTbIB93FyF4/rTK5vYpHVtrtmw/iZ/SAgBgBCIgRgICY+lqwak5n5LcX2u27YKvn71w7P2jk7uafTPWbWbPOX8l3wYCPIwABMQIQEJNPvgTdYxdiWGPW/LIRekBAjAAExAhAAAAAAAAAAAAAAAAAAAAAAAAA8MH+AfekFCDIGtE/AAAAAElFTkSuQmCC\n",
      "<_io.BytesIO object at 0x0000015E1F76BE00>\n",
      "dict_keys(['A', 'B', 'D', 'E', 'F', 'G', 'H', 'I', 'C'])\n",
      "DEDCCBBEABEDFFBDABCFECDF\n",
      "Bravo, défi résolu !!!\n"
     ]
    }
   ],
   "source": [
    "from defisurl import DefisUrl\n",
    "# Connexion au défi et récupération des entrées \n",
    "d = DefisUrl('https://pydefis.callicode.fr/defis/C22_Invaders01/get/couscousHarr/fc162', verify=True) # Mettez votre URL personnalisée ici\n",
    "lignes = d.get()\n",
    "\n",
    "# Affichage pour contrôle :\n",
    "print(\"\\n\".join(lignes))\n",
    "\n",
    "import io\n",
    "import base64\n",
    "from PIL import Image, ImageFilter\n",
    "import numpy as np\n",
    "decode = io.BytesIO(base64.b64decode(lignes[0]))\n",
    "print(decode)\n",
    "image = Image.open(decode)\n",
    "image.show()\n",
    "l,h = image.size\n",
    "image = image.convert(\"L\")\n",
    "image.show()\n",
    "image = image.filter(ImageFilter.FIND_EDGES)\n",
    "image.show()\n",
    "for i in range(0,l):\n",
    "    for j in range(0,h):        \n",
    "        if image.getpixel((i,j)) != 0:\n",
    "            image.putpixel((i,j),255)\n",
    "image.show()\n",
    "liste_image = []\n",
    "for j in range(0,h,64):\n",
    "    for i in range(0,l,64):\n",
    "        liste_image.append(np.array(image.crop(((i,j,i+64,j+64)))))\n",
    "\n",
    "import json\n",
    "file = open(\"dico.json\",\"r\")\n",
    "dico = json.loads(file.read())\n",
    "res = \"\"\n",
    "print(dico.keys())\n",
    "for image in liste_image:\n",
    "    if np.array_equal(image.tolist(),dico[\"A\"]):\n",
    "       res += \"A\"\n",
    "    if np.array_equal(image.tolist(),dico[\"B\"]):\n",
    "        res += \"B\"\n",
    "    if np.array_equal(image.tolist(),dico[\"C\"]):\n",
    "        res += \"C\"\n",
    "    if np.array_equal(image.tolist(),dico[\"D\"]):\n",
    "        res += \"D\"\n",
    "    if np.array_equal(image.tolist(),dico[\"E\"]):\n",
    "        res += \"E\"\n",
    "    if np.array_equal(image.tolist(),dico[\"F\"]):\n",
    "        res += \"F\"\n",
    "    if np.array_equal(image.tolist(),dico[\"G\"]):\n",
    "        res += \"G\"\n",
    "    if np.array_equal(image.tolist(),dico[\"H\"]):\n",
    "        res += \"H\"\n",
    "    if np.array_equal(image.tolist(),dico[\"I\"]):\n",
    "        res += \"I\"\n",
    "# À vous de travailler pour calculer la réponse :\n",
    " # On met ici 0, ce qui n'est probablement pas la bonne réponse...\n",
    "\n",
    "# # Affichage de la réponse pour contrôle et envoi :\n",
    "print(res)\n",
    "rep = d.post(res)\n",
    "print(rep)"
   ]
  }
 ],
 "metadata": {
  "kernelspec": {
   "display_name": "Python 3.9.12 ('base')",
   "language": "python",
   "name": "python3"
  },
  "language_info": {
   "codemirror_mode": {
    "name": "ipython",
    "version": 3
   },
   "file_extension": ".py",
   "mimetype": "text/x-python",
   "name": "python",
   "nbconvert_exporter": "python",
   "pygments_lexer": "ipython3",
   "version": "3.9.12"
  },
  "orig_nbformat": 4,
  "vscode": {
   "interpreter": {
    "hash": "3eaa5cdd1289942b6b7dda0d9868ced9381786ff3eb9999613a8ce6e4c681bb2"
   }
  }
 },
 "nbformat": 4,
 "nbformat_minor": 2
}
