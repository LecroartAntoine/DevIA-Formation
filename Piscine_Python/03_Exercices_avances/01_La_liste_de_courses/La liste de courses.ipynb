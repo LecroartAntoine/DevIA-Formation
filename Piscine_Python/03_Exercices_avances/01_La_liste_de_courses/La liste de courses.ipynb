{
 "cells": [
  {
   "cell_type": "markdown",
   "id": "88d28d11-6ae4-47f4-8bb8-fb98f8fa12f3",
   "metadata": {},
   "source": [
    "# La liste de course\n",
    "\n",
    "## Notions abordées\n",
    "\n",
    "- Conditions, Boucle et Liste\n",
    "- Modules ```os``` et ```json```\n",
    "- Try et except (facultatif)\n",
    "\n",
    "## Énoncé\n",
    "\n",
    "Vous devez demander à l'utilisateur de choisir une option comme ceci :\n",
    "```py\n",
    "affichage = \"\"\"\n",
    "Choisissez une option:\n",
    "\\t1: Ajouter un élément\n",
    "\\t2: Enlever un élément\n",
    "\\t3: Afficher la liste\n",
    "\\t4: Vider la liste\n",
    "\\t5: Sauvegarder la liste\n",
    "\"\"\"\n",
    "```\n",
    "\n",
    "Ensuite selon l'option choisie par l'utilisateur, ajoute/enlève un élément, afficher/vider la liste.\n",
    "\n",
    "Puis une fois que l'utilisateur a fini de rajouter ces éléments, il peut choisir l'option 5 pour sauvegarder la liste dans le dossier courant dans un fichier json, la prochaine fois que l'utilisateur relance le programme, il faudra que le programme s'occupe de charger le json afin de remettre la liste que l'utilisateur avait écrite.\n",
    "\n",
    "## Solutions\n",
    "\n",
    "Le code de la solution a été écrit sous Windows 10 avec Python v3.7.4.\n",
    "\n",
    "Afin de rendre le terminal plus clair à certains endroits je clear la console pour avoir un meilleur affichage, sachez que cette commande est différente si vous êtes sur Mac/Linux donc si vous obtenez une erreur en lançant mon programme veuillez enlever les lignes :\n",
    "```py\n",
    "os.system('cls')\n",
    "```"
   ]
  },
  {
   "cell_type": "code",
   "execution_count": null,
   "id": "03d6fe97-ca58-4d76-bd16-9069ded2aa67",
   "metadata": {},
   "outputs": [],
   "source": [
    "import json\n",
    "\n",
    "with open(\"data.json\", \"r\") as  jsonContent:\n",
    "    dico = json.load(jsonContent)\n",
    "maListe = dico.get(\"1\", [])\n",
    "\n",
    "\n",
    "    \n",
    "while True:\n",
    "    try:\n",
    "        menu = int(input(\"Menu:\\n 1)Ajouter un élément\\n 2)Enlever un élément\\n 3)Afficher la liste\\n 4)Vider la liste\\n 5)Sauvegarder la liste\\n\\n Entrez 0 pour sortir\\n\"))\n",
    "    except :\n",
    "        continue\n",
    "    \n",
    "    if menu == 1 :\n",
    "        while True:\n",
    "            ajout = str(input(\"Que voulez-vous ajouter ? (0 pour sortir): \"))\n",
    "            if '0' in ajout:\n",
    "                break\n",
    "            maListe.append(ajout)\n",
    "            \n",
    "    elif menu == 2 :\n",
    "        while True:\n",
    "            try:\n",
    "                retirer = str(input(\"Que voulez vous enlever ? (0 pour sortir): \"))\n",
    "                maListe.remove(retirer)\n",
    "            except ValueError:\n",
    "                print(\"Votre élément n'est pas dans la liste de course !\\n\")\n",
    "                \n",
    "            if '0' in retirer:\n",
    "                break\n",
    "\n",
    "    elif menu == 3 :\n",
    "        print(maListe)\n",
    "    \n",
    "    elif menu == 4 :\n",
    "        maListe = []\n",
    "                                \n",
    "    elif menu == 5:\n",
    "        dico[\"1\"] = maListe\n",
    "        with open('data.json', 'w') as liste_course:\n",
    "            json.dump(dico, liste_course)\n",
    "        \n",
    "    else :\n",
    "        break"
   ]
  }
 ],
 "metadata": {
  "kernelspec": {
   "display_name": "Python 3 (ipykernel)",
   "language": "python",
   "name": "python3"
  },
  "language_info": {
   "codemirror_mode": {
    "name": "ipython",
    "version": 3
   },
   "file_extension": ".py",
   "mimetype": "text/x-python",
   "name": "python",
   "nbconvert_exporter": "python",
   "pygments_lexer": "ipython3",
   "version": "3.9.13"
  },
  "vscode": {
   "interpreter": {
    "hash": "2a1885724e913d0b65d097055564c28e89def6d4e3ad884e59e869a221e618f6"
   }
  }
 },
 "nbformat": 4,
 "nbformat_minor": 5
}
