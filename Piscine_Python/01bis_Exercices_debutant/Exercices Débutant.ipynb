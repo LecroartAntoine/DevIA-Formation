{
 "cells": [
  {
   "cell_type": "markdown",
   "id": "8e8bb0d0",
   "metadata": {},
   "source": [
    "# Exercice 1:\n",
    "\n",
    "Ecrire un programme qui affiche bonjour.<br />Bis : mettre ce programme dans une fonction bonjour qui prend en paramètres le nombre de fois que la fonctionne affichera bonjour et tester cette fonction."
   ]
  },
  {
   "cell_type": "code",
   "execution_count": null,
   "id": "7084cd22",
   "metadata": {},
   "outputs": [],
   "source": [
    "print(\"Bonjour\")\n",
    "\n",
    "#Bis:\n",
    "print(\"\\nBis:\")\n",
    "\n",
    "def bonjour(a):\n",
    "    print(\"Bonjour \\n\"*a)\n",
    "nombreFois=int(input(\"Combien de fois voulez-vous dire Bonjour ?:\"))\n",
    "bonjour(nombreFois)"
   ]
  },
  {
   "cell_type": "markdown",
   "id": "a0494815",
   "metadata": {},
   "source": [
    "---\n",
    "# Exercice 2:\n",
    "\n",
    "Écrire dans une cellule un programme qui demande à l'utilisateur de rentrer un rayon et la hauteur, puis , qui calcule le volume d'un cône droit. (Rappel : Vcone = 1/3 * pi * r^2 * h).<br :> Bis : mettre ce programme dans une fonction volume_cone et tester cette fonction."
   ]
  },
  {
   "cell_type": "code",
   "execution_count": null,
   "id": "47885656",
   "metadata": {},
   "outputs": [],
   "source": [
    "from math import *\n",
    "\n",
    "r = int(input(\"Quel est le rayon de votre cone ?:\"))\n",
    "h = int(input(\"Quelle est la hauteur de votre cone ?:\"))\n",
    "\n",
    "volume = ((pi*(r**2)*h)/3)\n",
    "\n",
    "print(\"Le volume de votre cone est :\",round(volume,1))\n",
    "\n",
    "#Bis : mettre ce programme dans une fonction **volume_cone** et tester cette fonction.\n",
    "print(\"\\nBis:\")\n",
    "\n",
    "def volume_cone(r,h):\n",
    "    volume = ((pi*(r**2)*h)/3)\n",
    "    return(round(volume,1))\n",
    "\n",
    "r = int(input(\"Quel est le rayon de votre cone ?:\"))\n",
    "h = int(input(\"Quelle est la hauteur de votre cone ?:\"))\n",
    "print(\"Le volume de votre cone est:\",volume_cone(r,h))"
   ]
  },
  {
   "cell_type": "markdown",
   "id": "7356ae29",
   "metadata": {},
   "source": [
    "---\n",
    "# Exercice 3:\n",
    "\n",
    "Écrire dans une cellule un programme qui demande à l'utilisateur son poids et sa taille et qui calcule son IMC.<br />Bis : mettre ce programme dans une fonction **imc** et tester cette fonction. "
   ]
  },
  {
   "cell_type": "code",
   "execution_count": null,
   "id": "414521d0",
   "metadata": {},
   "outputs": [],
   "source": [
    "p=float(input(\"Donnez moi votre poids en kilograms:\"))\n",
    "t=float(input(\"Donnez moi votre taille en mètre:\"))\n",
    "imc=p/(t**2)\n",
    "print(\"Votre IMC est:\",round(imc,1))\n",
    "\n",
    "#Bis : mettre ce programme dans une fonction **imc** et tester cette fonction.\n",
    "print(\"\\nBis:\")\n",
    "\n",
    "def imc_calcul():\n",
    "    p=float(input(\"Donnez moi votre poids en kilograms:\"))\n",
    "    t=float(input(\"Donnez moi votre taille en mètre:\"))\n",
    "    imc=p/(t**2)\n",
    "    print(\"Votre IMC est:\",round(imc,1))\n",
    "imc_calcul()"
   ]
  },
  {
   "cell_type": "markdown",
   "id": "b14df76e",
   "metadata": {},
   "source": [
    "---\n",
    "# Exercice 4:\n",
    "\n",
    "Écrire une fonction qui convertit en mètres par seconde et en km/h une vitesse fournie en paramètres par l'utilisateur en miles/heure (1 mile = 1609 mètres). Ce résultat sera retourné par la fonction."
   ]
  },
  {
   "cell_type": "code",
   "execution_count": null,
   "id": "eab09dd5",
   "metadata": {},
   "outputs": [],
   "source": [
    "def conversion_vitesse(v):\n",
    "    kmh = v*1.609\n",
    "    ms = (kmh*1000)/3600\n",
    "    answer = str(round(kmh,1)) + \"km/h, soit \"+ str(round(ms,1)) + \"m/s\"\n",
    "    return (answer)\n",
    "v=float(input(\"Donnez moi votre vitesse en miles par heure:\"))\n",
    "print(\"Votre vitesse en unité métrique est de\",conversion_vitesse(v))\n",
    "\n",
    "if v >=88 :\n",
    "    print(\"Votre DeLorean peut voyager dans le temps !\")"
   ]
  },
  {
   "cell_type": "markdown",
   "id": "7e52a269",
   "metadata": {},
   "source": [
    "---\n",
    "# Exercice 5:\n",
    "\n",
    "Écrire dans une cellule un programme qui demande à l'utilisateur de rentrer un entier n positif et qui affiche PAIR s'il est divisible par 2, IMPAIR sinon (penser au modulo). <br />Bis : mettre ce programme dans une fonction pair et tester cette fonction."
   ]
  },
  {
   "cell_type": "code",
   "execution_count": null,
   "id": "bd4825da",
   "metadata": {},
   "outputs": [],
   "source": [
    "n = -1\n",
    "while n < 0:\n",
    "    n = float(input(\"Donnez moi un entier positif: \"))\n",
    "    \n",
    "if n%2 == 0 or n == 0 :\n",
    "    print(\"PAIR\")\n",
    "elif n%2 == 1 :\n",
    "    print(\"IMPAIR\")\n",
    "else:\n",
    "    print(\"Vous n'avez pas donné un entier !\")\n",
    "\n",
    "\n",
    "#Bis : mettre ce programme dans une fonction **pair** et tester cette fonction\n",
    "print(\"\\nBis:\")\n",
    "\n",
    "def pair():\n",
    "    n = -1\n",
    "    while n < 0:\n",
    "        n = float(input(\"Donnez moi un entier positif: \"))\n",
    "    \n",
    "    if n%2 == 0 or n == 0 :\n",
    "        print(\"PAIR\")\n",
    "    elif n%2 == 1 :\n",
    "        print(\"IMPAIR\")\n",
    "    else:\n",
    "        print(\"Vous n'avez pas donné un entier !\")\n",
    "\n",
    "pair()"
   ]
  },
  {
   "cell_type": "markdown",
   "id": "cf5ac597",
   "metadata": {},
   "source": [
    "---\n",
    "# Exercice 6:\n",
    "\n",
    "Écrire un programme en python pour réviser ses tables de multiplication. Le programme tire au hasard deux entiers entre 0 et 10 et demande à l'utilisateur de donner leur produit. Si l'utilisateur répond juste, il gagne un point. Si il répond faux, il perd un point. On interrogera 5 fois l'utilisateur. Le programme affiche à la fin le score de l'utilisateur."
   ]
  },
  {
   "cell_type": "code",
   "execution_count": null,
   "id": "75351468",
   "metadata": {},
   "outputs": [],
   "source": [
    "import random\n",
    "\n",
    "def calcul (a):\n",
    "    resultat = a[0]*a[1]\n",
    "    print(\"Calculez\",a[0],\"x\",a[1],\"=\")\n",
    "    reponse = int(input())\n",
    "    if resultat == reponse:\n",
    "        print(\"Bonne réponse!\\n\")\n",
    "        score = 1\n",
    "    else:\n",
    "        print(\"Nope\\n\")\n",
    "        score = 0\n",
    "    return(score)\n",
    "\n",
    "def analyse_score(score):\n",
    "    if score <= 2:\n",
    "        print(\"Votre score est de\",score,\"/5, c'est vraiment nul :(\\n\")\n",
    "    elif score > 2 and score <= 4:\n",
    "        print(\"Votre score est de\",score,\"/5, c'est pas folichon :/\\n\")\n",
    "    else:\n",
    "        print(\"Votre score est de\",score,\"/5, c'est pas bien mais bon, c'était pas dure non plus :p\\n\")\n",
    "\n",
    "\n",
    "continuer = 'oui'\n",
    "\n",
    "while continuer != 'non':\n",
    "    count = 0\n",
    "    score = 0\n",
    "    while count < 5:\n",
    "    \n",
    "        a = random.sample(range(1,10),2)\n",
    "        a.sort()\n",
    "    \n",
    "        score += calcul(a)\n",
    "        count += 1\n",
    "    analyse_score(score)\n",
    "    continuer = str(input(\"Tu veux recommencer ? oui ou non:\\n\"))\n",
    "print(\"Merci d'avoir joué !\")"
   ]
  },
  {
   "cell_type": "markdown",
   "id": "44eb113b",
   "metadata": {},
   "source": [
    "---\n",
    "# Exercice 7:\n",
    "\n",
    "L'ordinateur tire un nombre entier au hasard entre 0 et 100. L'utilisateur doit le trouver et pour cela propose des valeurs. L'ordinateur indique pour chaque valeur proposée si la valeur est trop petite, trop grande ou s'il a trouvé. <br />a) Écrire un programme en Python pour jouer à ce jeu. <br />b) Modifier le programme pour qu'il s'arrête si l'utilisateur n'a pas trouvé au bout de 10 coups. <br />c) Mettre ce programme dans une fonction plus_ou_moins qui prendra en paramètres :\n",
    "- le nombre min et max de la plage de tirage du nombre au hasard.\n",
    "- le nombre de coups maximum.\n"
   ]
  },
  {
   "cell_type": "code",
   "execution_count": null,
   "id": "955e4070",
   "metadata": {},
   "outputs": [],
   "source": [
    "import random\n",
    "\n",
    "def plus_ou_moins(min,max,coupMax):\n",
    "    nombreMystere = random.randint(min,max)\n",
    "    coup = 0\n",
    "    victoire = False\n",
    "    while coup < coupMax and not victoire:\n",
    "        guess = int(input(\"Quel est le nombre mystère ?\\n\"))\n",
    "        if guess == nombreMystere:\n",
    "            print(\"Bravo! Vous avez touvé le nombre mystère en\",coup,\"coup(s).\\n\")\n",
    "            victoire = True\n",
    "        elif guess < nombreMystere and guess >= min:\n",
    "            print(\"C'est plus!\\n\")\n",
    "        elif guess > nombreMystere and guess <= max:\n",
    "            print(\"C'est moins!\\n\")\n",
    "        else:\n",
    "            print(\"Votre nombre n'est pas compris entre\",min,\"et\",max)\n",
    "        coup += 1\n",
    "    if not victoire:\n",
    "        print(\"Dommage, vous avez perdu! Le nombre mystere était\",nombreMystere,\".\\n\")\n",
    "        \n",
    "min = 1\n",
    "max = 100\n",
    "difficulte = 10\n",
    "rejouer = 'oui'\n",
    "\n",
    "while rejouer == 'oui':\n",
    "    print(\"Bienvenue au jeu du juste prix !\\n\")\n",
    "    min = int(input(\"Quel est le prix minimum ?\\n\"))\n",
    "    max = int(input(\"Quel est le prix maximum ?\\n\"))\n",
    "\n",
    "    difficulte = int(input(\"Entrez une difficulté (1=easy, 2=Medium, 3=Hard, 4=Mission Impossible):\\n\"))\n",
    "    if difficulte == 1:\n",
    "        coupMax = 15\n",
    "    elif difficulte == 2:\n",
    "        coupMax = 10\n",
    "    elif difficulte == 3:\n",
    "        coupMax = 5\n",
    "    if difficulte == 4:\n",
    "        coupMax = 1\n",
    "    print(\"\\n\\n\")    \n",
    "    plus_ou_moins(min,max,coupMax)\n",
    "    \n",
    "    rejouer = str(input(\"Voulez vous rejouer ? (oui ou non)\\n\\n\"))\n",
    "    \n",
    "print(\"Merci d'avoir joué !\")"
   ]
  },
  {
   "cell_type": "markdown",
   "id": "004ff39f",
   "metadata": {},
   "source": [
    "---\n",
    "# Exercice 8:\n",
    "\n",
    "Ecrire un programme qui tourne indéfiniement et qui demande à l'utilisateur de rentrer un nombre entier compris dans une plage définie aléatoirement (par exemple, entrer un nombre compris entre 12 et 34). Si le nombre entré est en dehors de la plage, le programme l'affiche et redemande à nouveau un nombre dans la même plage Si le nombre entré est dans la plage, on félicite l'utilisateur et le programme reprend avec un nouvelle plage."
   ]
  },
  {
   "cell_type": "code",
   "execution_count": null,
   "id": "7ab3ee8c",
   "metadata": {},
   "outputs": [],
   "source": [
    "import random\n",
    "\n",
    "indefini = True\n",
    "\n",
    "while indefini :\n",
    "    a = random.sample(range(1, 1000), 2)\n",
    "    a.sort()\n",
    "    guess = 0\n",
    "    print(\"Entrez un nombre compris entre\",a[0],\"et\",a[1],\":\")\n",
    "    while guess < a[0] or guess > a[1]:\n",
    "        guess = int(input())\n",
    "        if guess >= a[0] and guess <= a[1]:\n",
    "            print(\"Vous êtes un véritable génie !\\n\\n\")\n",
    "        else:\n",
    "            print(\"Faux, réessayez:\")"
   ]
  },
  {
   "cell_type": "markdown",
   "id": "3329703f",
   "metadata": {},
   "source": [
    "---\n",
    "# Exercice 9:\n",
    "\n",
    "Écrire un programme permettant d'entrer des notes d’élèves sur 20 jusqu’à ce l’utilisateur saisisse une note vide. Cette fonction retourne le nombre de notes entrées, la note la plus élevée, la note la plus basse, la moyenne de toutes les notes."
   ]
  },
  {
   "cell_type": "code",
   "execution_count": null,
   "id": "0af799b7",
   "metadata": {},
   "outputs": [],
   "source": [
    "def entrer_note ():\n",
    "    a = []\n",
    "    while True:\n",
    "        try:\n",
    "            entrer = float(input(\"Entrez une note (entre 0 et 20):\\n\"))\n",
    "            if entrer >= 0 and entrer <=20:\n",
    "                a.append(entrer)\n",
    "            else:\n",
    "                print(\"Votre note doit être comprise entre 0 et 20!\\n\")\n",
    "        except:\n",
    "            break\n",
    "    return (a)\n",
    "\n",
    "def traiter_liste_note (a):\n",
    "    try:\n",
    "        b = list(map(float,a))\n",
    "        b.sort()\n",
    "        noteQuantite = len(b)\n",
    "        noteMax = max(b)\n",
    "        noteMin = min(b)\n",
    "        noteMoyenne = sum(b)/len(b)\n",
    "        result = 'Nombre de notes: '+str(noteQuantite)+'\\nNote la plus élevée: '+str(noteMax)+'\\nNote la plus basse: '+str(noteMin)+'\\nMoyenne: '+str(round(noteMoyenne,2))\n",
    "    except ValueError :\n",
    "        result = \"Vous n'avez pas rentré de notes\"\n",
    "    return (result)\n",
    "\n",
    "print(traiter_liste_note(entrer_note()))"
   ]
  },
  {
   "cell_type": "markdown",
   "id": "04cdfac0",
   "metadata": {},
   "source": [
    "---\n",
    "# Exercice 10:\n",
    "\n",
    "Écrivez un script qui demande à l'utilisateur une chaine de caractère. Le script recopie la chaîne (dans une nouvelle variable), en insérant des astérisques entre les caractères. Par exemple, « gaston » devra devenir « g\\*a\\*s\\*t\\*o\\*n »."
   ]
  },
  {
   "cell_type": "code",
   "execution_count": null,
   "id": "2d713b34",
   "metadata": {},
   "outputs": [],
   "source": [
    "import re\n",
    "def message_etoile ():\n",
    "    messageFinal = ''\n",
    "    message = str(input(\"Entrez un message:\"))\n",
    "    wordList = re.sub(\"[^\\w\\']\", \" \",  message).split()\n",
    "    for i in range (0,len(wordList)):\n",
    "        mot = wordList[i]\n",
    "        for iBis in range (1,len(mot)*2-1,2):\n",
    "            mot = mot[:iBis]+'*'+mot[iBis:]\n",
    "        messageFinal += mot + ' ' \n",
    "    return (messageFinal)    \n",
    "print(message_etoile())"
   ]
  }
 ],
 "metadata": {
  "kernelspec": {
   "display_name": "Python 3 (ipykernel)",
   "language": "python",
   "name": "python3"
  },
  "language_info": {
   "codemirror_mode": {
    "name": "ipython",
    "version": 3
   },
   "file_extension": ".py",
   "mimetype": "text/x-python",
   "name": "python",
   "nbconvert_exporter": "python",
   "pygments_lexer": "ipython3",
   "version": "3.9.12"
  }
 },
 "nbformat": 4,
 "nbformat_minor": 5
}
