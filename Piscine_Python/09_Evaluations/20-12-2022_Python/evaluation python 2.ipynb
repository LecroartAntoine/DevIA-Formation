{
 "cells": [
  {
   "cell_type": "code",
   "execution_count": null,
   "id": "ad9d62a5",
   "metadata": {},
   "outputs": [],
   "source": [
    "personnes = {\n",
    "    \"personne1\":{\n",
    "        \"age\":18,\n",
    "         \"taille\":180,\n",
    "         \"poids\":80,\n",
    "         \"couleur_yeux\":\"bleus\",\n",
    "         \"metier\":\"enseignant\"\n",
    "    },\n",
    "    \n",
    "    \"personne2\":{\n",
    "         \"age\":87,\n",
    "         \"taille\":190,\n",
    "         \"poids\":59,\n",
    "         \"couleur_yeux\":\"rouges\",\n",
    "         \"metier\":\"vampire\"\n",
    "    }\n",
    "    \n",
    "}"
   ]
  }
 ],
 "metadata": {
  "kernelspec": {
   "display_name": "Python 3 (ipykernel)",
   "language": "python",
   "name": "python3"
  },
  "language_info": {
   "codemirror_mode": {
    "name": "ipython",
    "version": 3
   },
   "file_extension": ".py",
   "mimetype": "text/x-python",
   "name": "python",
   "nbconvert_exporter": "python",
   "pygments_lexer": "ipython3",
   "version": "3.9.7"
  }
 },
 "nbformat": 4,
 "nbformat_minor": 5
}
