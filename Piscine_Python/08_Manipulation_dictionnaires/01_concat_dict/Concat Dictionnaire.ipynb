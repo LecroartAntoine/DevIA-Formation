{
 "cells": [
  {
   "cell_type": "markdown",
   "id": "44cbe4db",
   "metadata": {},
   "source": [
    "Faire une fonction qui prend en entrée une liste de dictionnaires et qui renvoie quatre dictionnaires en fonction des données de chacun.</br>\n",
    "\n",
    "Si le nom contenu dans le dictionnaire fait moins de 5 caractères et que son age est plus jeune ou égale à 26 ans, le dictionnaire en cours est rajouté dans le dictionnaire \"jeune_court\"</br>\n",
    "Si le nom contenu dans le dictionnaire fait moins de 5 caractères et que son age est plus vieux que 26 ans, le dictionnaire en cours est rajouté dans le dictionnaire \"vieux_court\"</br>\n",
    "Si le nom contenu dans le dictionnaire fait plus de 5 caractères et que son age est plus jeune ou égale à 26 ans, le dictionnaire en cours est rajouté dans le dictionnaire \"jeune_long\"</br>\n",
    "Si le nom contenu dans le dictionnaire fait plus de 5 caractères et que son age est plus vieux que 26 ans, le dictionnaire en cours est rajouté dans le dictionnaire \"vieux_long\"</br>\n",
    "\n",
    "<img width=\"1046\" alt=\"Capture d’écran 2022-11-21 à 12 49 28\" src=\"https://user-images.githubusercontent.com/95213606/203044597-514f6e3d-5e16-4890-aec9-8f8ad3b92756.png\">\n",
    "\n",
    "La fonction renvoie les 4 dictionnaires même si l'un d'entre eux est vide. Dans ce cas le contenu du dictionnaire sera : {0: \"aucune entrée\"}. </br>\n",
    "\n",
    "On doit pouvoir appeler cette fonction avec n'importe quel nombre de dictionnaires. Attention à la numérotation des clés dans chaque dictionnaire qui doit commencer à 1 à chaque fois et s'enchainer. </br>"
   ]
  },
  {
   "cell_type": "code",
   "execution_count": null,
   "id": "119319ce",
   "metadata": {},
   "outputs": [],
   "source": [
    "eleve1 = {'nom' : 'Bébou', 'prenom' : 'olivier', 'age': 22}\n",
    "eleve2 = {'nom' : 'Bébouse', 'prenom' : 'bernard', 'age': 24}\n",
    "eleve3 = {'nom' : 'Béba', 'prenom' : 'rené', 'age': 26}\n",
    "eleve4 = {'nom' : 'Bébout', 'prenom' : 'tom', 'age': 21}\n",
    "eleve5 = {'nom' : 'Bébu', 'prenom' : 'léo', 'age': 30}\n",
    "eleve6 = {'nom' : 'Béboutte', 'prenom' : 'léa', 'age': 27}\n",
    "eleve7 = {'nom' : 'Bébouque', 'prenom' : 'jean', 'age': 97}\n",
    "eleve8 = {'nom' : 'Bébou', 'prenom' : 'fabrice', 'age': 55}\n",
    "eleve9 = {'prenom' : 'didier'}"
   ]
  },
  {
   "cell_type": "code",
   "execution_count": null,
   "id": "9801df51",
   "metadata": {},
   "outputs": [],
   "source": [
    "liste = [eleve1, eleve2, eleve3, eleve4, eleve5, eleve6, eleve7, eleve8, eleve9]"
   ]
  },
  {
   "cell_type": "code",
   "execution_count": null,
   "id": "a66cdc4e",
   "metadata": {},
   "outputs": [],
   "source": [
    "def trie_eleve(liste):\n",
    "    jeune_long = {}\n",
    "    jeune_court = {}\n",
    "    vieux_long = {}\n",
    "    vieux_court = {}\n",
    "    inclasses = {}\n",
    "    indice_jl = 1\n",
    "    indice_jc = 1\n",
    "    indice_vl = 1\n",
    "    indice_vc = 1\n",
    "    indice_null = 1\n",
    "    for i in range(len(liste)):\n",
    "        try:\n",
    "            if len(liste[i]['nom']) <= 5 and liste[i]['age'] <= 26:\n",
    "                jeune_court[indice_jc] = liste[i]\n",
    "                indice_jc += 1\n",
    "            elif len(liste[i]['nom']) > 5 and liste[i]['age'] <= 26:\n",
    "                jeune_long[indice_jl] = liste[i]\n",
    "                indice_jl += 1\n",
    "            elif len(liste[i]['nom']) > 5 and liste[i]['age'] > 26:\n",
    "                vieux_long[indice_vl] = liste[i]\n",
    "                indice_vl += 1\n",
    "            elif len(liste[i]['nom']) <= 5 and liste[i]['age'] > 26:\n",
    "                vieux_court[indice_vc] = liste[i]\n",
    "                indice_vc += 1\n",
    "        except KeyError:\n",
    "            inclasses[indice_null] = liste[i]\n",
    "            indice_null += 1\n",
    "            pass\n",
    "    if len(jeune_long) == 0:\n",
    "        jeune_long[0] = \"aucune entrée\"\n",
    "    if len(jeune_court) == 0:\n",
    "        jeune_court[0] = \"aucune entrée\"\n",
    "    if len(vieux_long) == 0:\n",
    "        vieux_long[0] = \"aucune entrée\"\n",
    "    if len(vieux_court) == 0:\n",
    "        vieux_court[0] = \"aucune entrée\"\n",
    "    if len(inclasses) == 0:\n",
    "        inclasses[0] = \"aucune entrée\"\n",
    "       \n",
    "    return(jeune_long, jeune_court, vieux_long, vieux_court, inclasses)            \n",
    "        \n",
    "            "
   ]
  },
  {
   "cell_type": "code",
   "execution_count": null,
   "id": "1965228a",
   "metadata": {},
   "outputs": [],
   "source": [
    "jl, jc, vl, vc, inc = trie_eleve(liste)\n",
    "\n",
    "print(f\"Jeunes au nom court: {jc}\\n\\nJeunes au nom long: {jl}\\n\\nVieux au nom court: {vc}\\n\\nVieux au nom long: {vl}\\n\\nInclassés: {inc}\")"
   ]
  }
 ],
 "metadata": {
  "kernelspec": {
   "display_name": "Python 3 (ipykernel)",
   "language": "python",
   "name": "python3"
  },
  "language_info": {
   "codemirror_mode": {
    "name": "ipython",
    "version": 3
   },
   "file_extension": ".py",
   "mimetype": "text/x-python",
   "name": "python",
   "nbconvert_exporter": "python",
   "pygments_lexer": "ipython3",
   "version": "3.9.13"
  }
 },
 "nbformat": 4,
 "nbformat_minor": 5
}
