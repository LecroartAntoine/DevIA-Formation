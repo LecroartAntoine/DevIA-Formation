{
 "cells": [
  {
   "cell_type": "markdown",
   "id": "f59999bf",
   "metadata": {},
   "source": [
    "# 1) Importer le fichier txt et récupérer la liste"
   ]
  },
  {
   "cell_type": "code",
   "execution_count": null,
   "id": "8971c117",
   "metadata": {},
   "outputs": [],
   "source": [
    "with open(\"training001.txt\", \"r\", encoding = 'utf-8') as f:\n",
    "    texte_brut = f.read()"
   ]
  },
  {
   "cell_type": "markdown",
   "id": "6f3be682",
   "metadata": {},
   "source": [
    "---\n",
    "\n",
    "# 2) Vérifier le contenu du dictionnaire initial (problème de cohérence, encodage, clés, numérotation etc)."
   ]
  },
  {
   "cell_type": "code",
   "execution_count": null,
   "id": "6651f51a",
   "metadata": {},
   "outputs": [],
   "source": [
    "import json, re\n",
    "\n",
    "texte_brut = texte_brut[:texte_brut.find(\"\\\"\\'\")] + texte_brut[texte_brut.find(\"\\\"\\'\")+1:]\n",
    "\n",
    "texte_brut = re.sub(r'\\'|(\"[^\"]*\")', r'\"\\1', texte_brut)\n",
    "\n",
    "texte_brut = texte_brut.replace('\\\"\\\"', '\\\"')\n",
    "\n",
    "texte_brut = texte_brut.replace(r'\\xa0', ' ')\n",
    "\n",
    "\n",
    "liste = json.loads(texte_brut)"
   ]
  },
  {
   "cell_type": "markdown",
   "id": "d2cfb769",
   "metadata": {},
   "source": [
    "---\n",
    "\n",
    "# 3) Virer les entrées où il y a « … » dans une langue ou l’autre (on supprime toute l’entrée du dictionnaire). </br>"
   ]
  },
  {
   "cell_type": "code",
   "execution_count": null,
   "id": "c7d50262",
   "metadata": {},
   "outputs": [],
   "source": [
    "to_remove = []\n",
    "\n",
    "for dico in liste:\n",
    "    \n",
    "    if '...' in dico['shi'] or '...' in dico['fr']:\n",
    "        to_remove.append(dico)\n",
    "    \n",
    "    \n",
    "for dico in to_remove:\n",
    "    liste.remove(dico)"
   ]
  },
  {
   "cell_type": "markdown",
   "id": "b1dbe69f",
   "metadata": {},
   "source": [
    "---\n",
    "\n",
    "# 4) Générer les dictionnaires suivants avec les clés (shimaore et français) :"
   ]
  },
  {
   "cell_type": "markdown",
   "id": "dc5d75d3",
   "metadata": {},
   "source": [
    "## 4.1) Shimaore/Français"
   ]
  },
  {
   "cell_type": "code",
   "execution_count": null,
   "id": "dab18819",
   "metadata": {},
   "outputs": [],
   "source": [
    "liste_dico_s_to_f = []\n",
    "\n",
    "for dico in liste:\n",
    "    \n",
    "    dico_s_f = {}\n",
    "    \n",
    "    dico_s_f['Shimaore'] = dico['shi']\n",
    "    dico_s_f['Français'] = dico['fr']\n",
    "    \n",
    "    liste_dico_s_to_f.append(dico_s_f)\n",
    "    \n",
    "print(liste_dico_s_to_f)"
   ]
  },
  {
   "cell_type": "markdown",
   "id": "d678c607",
   "metadata": {},
   "source": [
    "## 4.2) Français/Shimaore"
   ]
  },
  {
   "cell_type": "code",
   "execution_count": null,
   "id": "89823513",
   "metadata": {},
   "outputs": [],
   "source": [
    "liste_dico_f_to_s = []\n",
    "\n",
    "for dico in liste:\n",
    "    \n",
    "    dico_f_s = {}\n",
    "    \n",
    "    dico_f_s['Français'] = dico['fr']\n",
    "    dico_f_s['Shimaore'] = dico['shi']\n",
    "    \n",
    "    liste_dico_f_to_s.append(dico_f_s)\n",
    "    \n",
    "print(liste_dico_f_to_s)"
   ]
  },
  {
   "cell_type": "markdown",
   "id": "3981cfe3",
   "metadata": {},
   "source": [
    "## 4.3) Shimaore/Français mots"
   ]
  },
  {
   "cell_type": "code",
   "execution_count": null,
   "id": "1eeeae4e",
   "metadata": {},
   "outputs": [],
   "source": [
    "liste_dico_s_to_f_mots = []\n",
    "\n",
    "for dico in liste:\n",
    "    \n",
    "    dico_s_f_mots = {}\n",
    "    \n",
    "    if dico['shi'].find(' ') != -1:\n",
    "        continue\n",
    "        \n",
    "    else:\n",
    "        dico_s_f_mots['Shimaore'] = dico['shi']\n",
    "        dico_s_f_mots['Français'] = dico['fr']\n",
    "        \n",
    "        liste_dico_s_to_f_mots.append(dico_s_f_mots)\n",
    "        \n",
    "print(liste_dico_s_to_f_mots)"
   ]
  },
  {
   "cell_type": "markdown",
   "id": "255fc958",
   "metadata": {},
   "source": [
    "## 4.4) Français/Shimaore mots"
   ]
  },
  {
   "cell_type": "code",
   "execution_count": null,
   "id": "4af5ca0c",
   "metadata": {},
   "outputs": [],
   "source": [
    "liste_dico_f_to_s_mots = []\n",
    "\n",
    "for dico in liste:\n",
    "    \n",
    "    dico_f_s_mots = {}\n",
    "    \n",
    "    if dico['fr'].find(' ') != -1:\n",
    "        continue\n",
    "        \n",
    "    else:\n",
    "        dico_f_s_mots['Français'] = dico['fr']\n",
    "        dico_f_s_mots['Shimaore'] = dico['shi']\n",
    "        \n",
    "        liste_dico_f_to_s_mots.append(dico_f_s_mots)\n",
    "        \n",
    "print(liste_dico_f_to_s_mots)"
   ]
  },
  {
   "cell_type": "markdown",
   "id": "fd0a4844",
   "metadata": {},
   "source": [
    "## 4.5) Shimaore/Français phrases"
   ]
  },
  {
   "cell_type": "code",
   "execution_count": null,
   "id": "b6ae3b94",
   "metadata": {},
   "outputs": [],
   "source": [
    "liste_dico_s_to_f_phrases = []\n",
    "\n",
    "for dico in liste:\n",
    "    \n",
    "    dico_s_f_phrases = {}\n",
    "    \n",
    "    if dico['shi'].find(' ') == -1:\n",
    "        continue\n",
    "        \n",
    "    else:\n",
    "        dico_s_f_phrases['Shimaore'] = dico['shi']\n",
    "        dico_s_f_phrases['Français'] = dico['fr']\n",
    "        \n",
    "        liste_dico_s_to_f_phrases.append(dico_s_f_phrases)\n",
    "        \n",
    "print(liste_dico_s_to_f_phrases)"
   ]
  },
  {
   "cell_type": "markdown",
   "id": "12807056",
   "metadata": {},
   "source": [
    "## 4.6) Français/Shimaore phrases"
   ]
  },
  {
   "cell_type": "code",
   "execution_count": null,
   "id": "3386112a",
   "metadata": {},
   "outputs": [],
   "source": [
    "liste_dico_f_to_s_phrases = []\n",
    "\n",
    "for dico in liste:\n",
    "    \n",
    "    dico_f_s_phrases = {}\n",
    "        \n",
    "    if dico['fr'].find(' ') == -1 :\n",
    "        continue\n",
    "        \n",
    "    else:\n",
    "        dico_f_s_phrases['Français'] = dico['fr']\n",
    "        dico_f_s_phrases['Shimaore'] = dico['shi']\n",
    "        \n",
    "        liste_dico_f_to_s_phrases.append(dico_f_s_phrases)\n",
    "        \n",
    "print(liste_dico_f_to_s_phrases)"
   ]
  },
  {
   "cell_type": "markdown",
   "id": "6c10b441",
   "metadata": {},
   "source": [
    "---\n",
    "\n",
    "# 5) Faire une fonction qui permet de rechercher une traduction. La fonction: \n",
    "##    - Demande à l’utilisateur dans quelle langue il veut chercher</br>\n",
    "##    - Demande un mot ou une phrase</br>\n",
    "##    - En fonction du type de recherche choisit le dictionnaire à utiliser (cf points d’avant)"
   ]
  },
  {
   "cell_type": "code",
   "execution_count": null,
   "id": "5eb4a37a",
   "metadata": {},
   "outputs": [],
   "source": [
    "def recherche(saisie, m_ou_p, langue):\n",
    "    if m_ou_p == 1 and langue == 1:\n",
    "        \n",
    "        found = False\n",
    "        \n",
    "        for dico in liste_dico_f_to_s_mots:\n",
    "            \n",
    "            if dico['Français'] == saisie:\n",
    "                print(f\"\\naduction du mot '{saisie}' en Shimaore: {dico['Shimaore']}\\n\")\n",
    "                found = True\n",
    "                \n",
    "        if not found:\n",
    "            print(\"\\nImpossible de trouver une traduction\\n\")\n",
    "    \n",
    "    \n",
    "    elif m_ou_p == 1 and langue == 2:\n",
    "        \n",
    "        found = False\n",
    "        \n",
    "        for dico in liste_dico_s_to_f_mots:\n",
    "            \n",
    "            if dico['Shimaore'] == saisie:\n",
    "                print(f\"\\nTraduction du mot '{saisie}' en Français: {dico['Français']}\\n\")\n",
    "                found = True\n",
    "                \n",
    "        if not found:\n",
    "            print(\"\\nImpossible de trouver une traduction\\n\")\n",
    "            \n",
    "            \n",
    "    elif m_ou_p == 2 and langue == 1:\n",
    "        \n",
    "        found = False\n",
    "        \n",
    "        for dico in liste_dico_f_to_s_phrases:\n",
    "            \n",
    "            if dico['Français'] == saisie:\n",
    "                print(f\"\\nTraduction de la phrase '{saisie}' en Shimaore: {dico['Shimaore']}\\n\")\n",
    "                found = True\n",
    "                \n",
    "        if not found:\n",
    "            print(\"\\nImpossible de trouver une traduction\\n\")\n",
    "    \n",
    "    \n",
    "    elif m_ou_p == 2 and langue == 2:\n",
    "        \n",
    "        found = False\n",
    "        \n",
    "        for dico in liste_dico_s_to_f_phrases:\n",
    "            \n",
    "            if dico['Shimaore'] == saisie:\n",
    "                print(f\"\\nTraduction de la phrase '{saisie}' en Français: {dico['Français']}\\n\")\n",
    "                found = True\n",
    "                \n",
    "        if not found:\n",
    "            print(\"\\nImpossible de trouver une traduction\\n\")\n",
    "                \n",
    "       \n",
    "    \n",
    "def menu():\n",
    "    while True:\n",
    "        try:\n",
    "            menu = int(input(\"Quelle langue voulez-vous traduire ?\\n1)Francais\\n2)Shimaore\\n0)Quitter\\n\"))\n",
    "            if menu == 0:\n",
    "                break\n",
    "            elif menu == 1 or menu == 2:\n",
    "                saisie = input(\"Saisissez votre mot ou phrase:\\n\")\n",
    "                if saisie.find(' ') == -1:\n",
    "                    recherche(saisie, 1, menu)\n",
    "                else:\n",
    "                    recherche(saisie, 2, menu)\n",
    "            else:\n",
    "                1/0\n",
    "                \n",
    "        except (ValueError, ZeroDivisionError):\n",
    "            print(\"Saisie invalide\")\n",
    "            continue\n",
    "    \n",
    "    \n",
    "    \n",
    "menu()"
   ]
  },
  {
   "cell_type": "markdown",
   "id": "bb4adb7b",
   "metadata": {},
   "source": [
    "---\n",
    "\n",
    "# 6) Faire une fonction qui permet d’ajouter une traduction. La fonction:\n",
    "##    - Demande à l’utilisateur les deux mots ou phrases à ajouter dans chaque langue et </br>&nbsp;&nbsp;procède à l’ajout\n",
    "##    - Renvoie le dictionnaire mis à jour\n",
    "\n",
    "### Commentaire: nécessite de relancer toutes les cellules 4) pour trouver l'ajout dans 5) "
   ]
  },
  {
   "cell_type": "code",
   "execution_count": null,
   "id": "611b8d86",
   "metadata": {},
   "outputs": [],
   "source": [
    "def ajout_dico():\n",
    "    dico = {}\n",
    "    \n",
    "    saisie_fr = input(\"\\nSaisissez votre mot ou phrase en Français:\\n\")\n",
    "    saisie_shi = input(\"\\nSaisissez sa traduction:\\n\")\n",
    "    \n",
    "    dico['fr'] = saisie_fr\n",
    "    dico['shi'] = saisie_shi\n",
    "    \n",
    "    liste.append(dico)\n",
    "\n",
    "\n",
    "def menu():\n",
    "    while True:\n",
    "        try:\n",
    "            menu = int(input(\"1)Ajouter une traduction\\n0)Quitter\\n\"))\n",
    "            if menu == 0:\n",
    "                break\n",
    "            elif menu == 1:\n",
    "                ajout_dico()\n",
    "                \n",
    "                \n",
    "        except ValueError:\n",
    "            print(\"Saisie invalide\")\n",
    "            continue\n",
    "            \n",
    "            \n",
    "menu()       "
   ]
  }
 ],
 "metadata": {
  "kernelspec": {
   "display_name": "Python 3 (ipykernel)",
   "language": "python",
   "name": "python3"
  },
  "language_info": {
   "codemirror_mode": {
    "name": "ipython",
    "version": 3
   },
   "file_extension": ".py",
   "mimetype": "text/x-python",
   "name": "python",
   "nbconvert_exporter": "python",
   "pygments_lexer": "ipython3",
   "version": "3.9.13"
  }
 },
 "nbformat": 4,
 "nbformat_minor": 5
}
