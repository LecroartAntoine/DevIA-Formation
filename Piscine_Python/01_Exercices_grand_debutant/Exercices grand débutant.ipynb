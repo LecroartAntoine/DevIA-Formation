{
 "cells": [
  {
   "cell_type": "markdown",
   "id": "6453a027",
   "metadata": {},
   "source": [
    "# Exercice 1\n",
    "Ecrire un programme en langage Python qui demande à l'utilisateur de saisir son nom et de lui afficher son nom avec un message de bienvenue !\n"
   ]
  },
  {
   "cell_type": "code",
   "execution_count": null,
   "id": "e4535d5e",
   "metadata": {},
   "outputs": [],
   "source": [
    "nom = input(\"Quel est votre nom ?\")\n",
    "\n",
    "print(\"Bonjour {} !\".format(nom))"
   ]
  },
  {
   "cell_type": "markdown",
   "id": "f5d4ab68",
   "metadata": {},
   "source": [
    "---\n",
    "\n",
    "# Exercice 2\n",
    "Ecrire un programme en Python qui demande à l'utilisateur de saisir deux nombres **a** et **b** et de lui afficher leur somme : *a + b*"
   ]
  },
  {
   "cell_type": "code",
   "execution_count": null,
   "id": "1bd5984f",
   "metadata": {},
   "outputs": [],
   "source": [
    "while True:\n",
    "    try:\n",
    "        a = float(input((\"Entrez un nombre: \")))\n",
    "        b = float(input((\"Entrez un deuxième nombre: \")))\n",
    "        break\n",
    "    except ValueError:\n",
    "        print(\"Ce n'est pas un nombre!\")\n",
    "print(\"La somme de {} et {} est {}\".format(a,b,a+b))"
   ]
  },
  {
   "cell_type": "markdown",
   "id": "6bdcf1bc",
   "metadata": {},
   "source": [
    "---\n",
    "\n",
    "# Exercice 3 \n",
    "Ecrire un programme en Python qui demande à l'utilisateur de saisir deux nombres **a** et **b** et de lui afficher leur maximum."
   ]
  },
  {
   "cell_type": "code",
   "execution_count": null,
   "id": "572dcd98",
   "metadata": {},
   "outputs": [],
   "source": [
    "while True:\n",
    "    try:\n",
    "        a = float(input((\"Entrez un nombre: \")))\n",
    "        b = float(input((\"Entrez un deuxième nombre: \")))\n",
    "        break\n",
    "    except ValueError:\n",
    "        print(\"Ce n'est pas un nombre!\")\n",
    "if a > b:\n",
    "    print(\"{} est le plus grand nombre.\".format(a))\n",
    "elif a < b:\n",
    "    print(\"{} est le plus grand nombre.\".format(b))\n",
    "else:\n",
    "    print(\"Vos nombres sont égaux.\")"
   ]
  },
  {
   "cell_type": "markdown",
   "id": "e06d8427",
   "metadata": {},
   "source": [
    "---\n",
    "\n",
    "# Exercice 4\n",
    "Ecrire un programme en langage Python qui affiche les 100 premiers nombres entiers"
   ]
  },
  {
   "cell_type": "code",
   "execution_count": null,
   "id": "af1d91d0",
   "metadata": {},
   "outputs": [],
   "source": [
    "for i in range (0,101):\n",
    "    print(i)"
   ]
  },
  {
   "cell_type": "markdown",
   "id": "e0a744a8",
   "metadata": {},
   "source": [
    "---\n",
    "\n",
    "# Exercice 5\n",
    "Ecrire un programme en langage Python qui demande à l'utilisateur de saisir son nombre entier et de lui afficher si ce nombre est pair ou impair."
   ]
  },
  {
   "cell_type": "code",
   "execution_count": null,
   "id": "1acbf3fa",
   "metadata": {},
   "outputs": [],
   "source": [
    "while True:\n",
    "    try:\n",
    "        n = int(input(\"Donnez moi un entier: \"))\n",
    "        break\n",
    "    except ValueError:\n",
    "        print(\"Ce n'est pas un entier!\")\n",
    "    \n",
    "if n%2 == 0 or n == 0 :\n",
    "    print(\"PAIR\")\n",
    "elif n%2 == 1 :\n",
    "    print(\"IMPAIR\")"
   ]
  },
  {
   "cell_type": "markdown",
   "id": "625648f2",
   "metadata": {},
   "source": [
    "---\n",
    "\n",
    "# Exercice 6\n",
    "Ecrire un programme en langage Python qui demande à l'utilisateur de saisir son âge et de lui afficher le message *\"vous êtes Majeur !\"* si l’âge tapé est supérieur ou égale à 18 et le message *\"vous êtes mineur !\"*  si l’âge saisi est inférieur à 18"
   ]
  },
  {
   "cell_type": "code",
   "execution_count": null,
   "id": "a4725389",
   "metadata": {},
   "outputs": [],
   "source": [
    "while True:\n",
    "    try:\n",
    "        age = int(input(\"Quel est votre age: \"))\n",
    "        if age <= 0:\n",
    "            print(\"Cet age n'est pas valide!\")\n",
    "            continue\n",
    "        break\n",
    "    except ValueError:\n",
    "        print(\"Cet age n'est pas valide!\")\n",
    "if age < 18:\n",
    "    print(\"Vous êtes mineur!\")\n",
    "else:\n",
    "    print(\"Vous êtes majeur!\")"
   ]
  },
  {
   "cell_type": "markdown",
   "id": "8624d698",
   "metadata": {},
   "source": [
    "---\n",
    "\n",
    "# Exercice 7\n",
    "Ecrire un programme en Python qui demande à l'utilisateur de saisir 3 nombre **x**, **y** et **z** et de lui afficher leur maximum"
   ]
  },
  {
   "cell_type": "code",
   "execution_count": null,
   "id": "9fba9016",
   "metadata": {},
   "outputs": [],
   "source": [
    "n = []\n",
    "for i in range (0,3):\n",
    "    while True:\n",
    "        try:\n",
    "            add = float(input(\"Donnez moi un nombre: \"))\n",
    "            n.append(add)\n",
    "            break\n",
    "        except ValueError:\n",
    "            print(\"Ce n'est pas un nombre!\")\n",
    "print(\"Le plus grand nombre est {}\".format(max(n)))\n",
    "    "
   ]
  },
  {
   "cell_type": "markdown",
   "id": "a674f76d",
   "metadata": {},
   "source": [
    "---\n",
    "\n",
    "# Exercice 8\n",
    "Ecrire un programme en Python qui demande à l'utilisateur de saisir un nombre entier **n** et de lui afficher la valeur de la somme *1 + 2 + … + n =*\n"
   ]
  },
  {
   "cell_type": "code",
   "execution_count": null,
   "id": "d3d48ef3",
   "metadata": {},
   "outputs": [],
   "source": [
    "while True:\n",
    "    try:\n",
    "        n = int(input(\"Donnez moi un entier positif: \"))\n",
    "        if n <= 0:\n",
    "            print(\"Cet entier n'est pas valide!\")\n",
    "            continue\n",
    "        break\n",
    "    except ValueError:\n",
    "        print(\"Ce n'est pas un entier!\")\n",
    "result = 0\n",
    "for i in range (0,n+1):\n",
    "    result += i\n",
    "print(\"{}! = {}\".format(n,result))"
   ]
  },
  {
   "cell_type": "markdown",
   "id": "563de3ba",
   "metadata": {},
   "source": [
    "---\n",
    "\n",
    "# Exercice 9\n",
    "Ecrire un programme en Python qui demande à l'utilisateur de saisir un nombre entier **n** et de lui afficher *n !*\n"
   ]
  },
  {
   "cell_type": "code",
   "execution_count": null,
   "id": "75ef2c2b",
   "metadata": {},
   "outputs": [],
   "source": [
    "while True:\n",
    "    try:\n",
    "        n = int(input(\"Donnez moi un entier positif: \"))\n",
    "        if n <= 0:\n",
    "            print(\"Cet entier n'est pas valide!\")\n",
    "            continue\n",
    "        break\n",
    "    except ValueError:\n",
    "        print(\"Ce n'est pas un entier!\")\n",
    "result = 0\n",
    "for i in range (0,n+1):\n",
    "    result += i\n",
    "print(\"{}! = {}\".format(n,result))"
   ]
  },
  {
   "cell_type": "markdown",
   "id": "394a70aa",
   "metadata": {},
   "source": [
    "---\n",
    "\n",
    "# Exercice 10\n",
    "Ecrire un programme en Python qui demande à l’utilisateur de saisir le rayon d'un cercle et de lui renvoyer la surface et le périmètre.\n"
   ]
  },
  {
   "cell_type": "code",
   "execution_count": null,
   "id": "0a01eef0",
   "metadata": {},
   "outputs": [],
   "source": [
    "while True:\n",
    "    try:\n",
    "        r = int(input(\"Donnez moi le rayon d'un cercle plus grand que 0: \"))\n",
    "        if r <= 0:\n",
    "            print(\"Ce nombre n'est pas valide!\")\n",
    "            continue\n",
    "        break\n",
    "    except ValueError:\n",
    "        print(\"Ce n'est pas un nombre!\")\n",
    "        \n",
    "surface = 3.14 * r**2\n",
    "peri = 2 * 3.14 * r\n",
    "\n",
    "print(\"Périmètre: {}\\nAire: {}\".format(round(peri,2),round(surface,2)))"
   ]
  },
  {
   "cell_type": "markdown",
   "id": "cb09243d",
   "metadata": {},
   "source": [
    "---\n",
    "\n",
    "# Exercice 11\n",
    "Ecrire un programme en Python qui demande à l’utilisateur de saisir un nombre entier **n** et de lui afficher tous les diviseurs de ce nombre."
   ]
  },
  {
   "cell_type": "code",
   "execution_count": null,
   "id": "c50bafd0",
   "metadata": {},
   "outputs": [],
   "source": [
    "while True:\n",
    "    try:\n",
    "        n = int(input(\"Donnez moi un entier: \"))\n",
    "        break\n",
    "    except ValueError:\n",
    "        print(\"Ce n'est pas un entier!\")\n",
    "result=[]\n",
    "for i in range(1,n+1):\n",
    "    if n%i == 0:\n",
    "        result.append(i)\n",
    "print(\"Votre nombre est divisible par {}\".format(result))"
   ]
  },
  {
   "cell_type": "markdown",
   "id": "42b173c3",
   "metadata": {},
   "source": [
    "---\n",
    "\n",
    "# Exercice 12\n",
    "1. Ecrire un programme en Python qui demande à l’utilisateur de saisir un nombre entier **n** et de lui afficher la table de multiplication de ce nombre.\n"
   ]
  },
  {
   "cell_type": "code",
   "execution_count": null,
   "id": "373a114b",
   "metadata": {},
   "outputs": [],
   "source": [
    "while True:\n",
    "    try:\n",
    "        n = int(input(\"Donnez moi un entier: \"))\n",
    "        break\n",
    "    except ValueError:\n",
    "        print(\"Ce n'est pas un entier!\")\n",
    "for i in range (1,10):\n",
    "    print(\"{}x{}={}\".format(n,i,i*n))"
   ]
  },
  {
   "cell_type": "markdown",
   "id": "7052c3a8",
   "metadata": {},
   "source": [
    "2. Améliorez le programme afin qu’il affiche les tables de multiplications de tous les nombres compris entre 1 et 9"
   ]
  },
  {
   "cell_type": "code",
   "execution_count": null,
   "id": "efe1f9b0",
   "metadata": {},
   "outputs": [],
   "source": [
    "for x in range(1,10):\n",
    "    print('Table de {}:'.format(x))\n",
    "    for i in range (1,10):\n",
    "        print(\"{}x{}={}\".format(x,i,i*x))\n",
    "        \n",
    "    print('')"
   ]
  },
  {
   "cell_type": "markdown",
   "id": "afcd83a0",
   "metadata": {},
   "source": [
    "---\n",
    "\n",
    "# Exercice 13\n",
    "Ecrire un programme en langage Python qui demande à l'utilisateur de saisir deux nombres entiers **a** et **b** et de lui afficher le quotient et le reste de la division euclidienne de a par b."
   ]
  },
  {
   "cell_type": "code",
   "execution_count": null,
   "id": "1f2865cd",
   "metadata": {},
   "outputs": [],
   "source": [
    "while True:\n",
    "    try:\n",
    "        a = int(input(\"Donnez moi un entier: \"))\n",
    "        b = int(input(\"Donnez moi un deuxième entier: \"))\n",
    "        break\n",
    "    except ValueError:\n",
    "        print(\"Ce n'est pas un entier!\")\n",
    "print('{}/{}={}, reste={}'.format(a,b,a//b,a%b))"
   ]
  },
  {
   "cell_type": "markdown",
   "id": "aa91ccc4",
   "metadata": {},
   "source": [
    "---\n",
    "\n",
    "# Exercice 14\n",
    "Ecrire un programme en langage Python qui demande à l'utilisateur de saisir un nombre entier **n** et de lui afficher si ce nombre est carré parfait ou non\n"
   ]
  },
  {
   "cell_type": "code",
   "execution_count": null,
   "id": "c3e9e34b",
   "metadata": {},
   "outputs": [],
   "source": [
    "import math\n",
    "while True:\n",
    "    try:\n",
    "        n = int(input(\"Donnez moi un entier: \"))\n",
    "        break\n",
    "    except ValueError:\n",
    "        print(\"Ce n'est pas un entier!\")\n",
    "a = int(math.sqrt(n))\n",
    "if a**2 == n:\n",
    "    print(n,\"est un carré parfait.\")\n",
    "else:\n",
    "    print(n,\"n'est pas un carré parfait.\")  "
   ]
  },
  {
   "cell_type": "markdown",
   "id": "ebe469b9",
   "metadata": {},
   "source": [
    "---\n",
    "\n",
    "# Exercice 15\n",
    "Ecrire un programme en langage Python qui demande à l'utilisateur de saisir un nombre entier **n** et de lui afficher si ce nombre est premier ou non."
   ]
  },
  {
   "cell_type": "code",
   "execution_count": null,
   "id": "2004c437",
   "metadata": {},
   "outputs": [],
   "source": [
    "while True:\n",
    "    try:\n",
    "        n = int(input(\"Donnez moi un entier: \"))\n",
    "        break\n",
    "    except ValueError:\n",
    "        print(\"Ce n'est pas un entier!\")\n",
    "        \n",
    "result=[]\n",
    "for i in range(1,n+1):\n",
    "    if n%i == 0:\n",
    "        result.append(i)\n",
    "if len(result) == 2:\n",
    "    print(n,\"est un nombre premier.\")\n",
    "else:\n",
    "    print(n,\"n'est pas un nombre premier.\")"
   ]
  },
  {
   "cell_type": "markdown",
   "id": "ceff985a",
   "metadata": {},
   "source": [
    "---\n",
    "\n",
    "# Exercice 16\n",
    "Ecrire un programme en langage Python qui permet de parcourir et afficher les caractères d’une variable du type chaine de caractères. Exemple pour **s = \"Python\"** , le programme affiche les caractères :  \n",
    "P  </br>\n",
    "y  </br>\n",
    "t  </br>\n",
    "h  </br>\n",
    "o  </br>\n",
    "n  </br>"
   ]
  },
  {
   "cell_type": "code",
   "execution_count": null,
   "id": "e9de1b4d",
   "metadata": {},
   "outputs": [],
   "source": [
    "msg = input(\"Quelle est votre message ?\")\n",
    "\n",
    "for i in range (0,len(msg)):\n",
    "    print(msg[i])"
   ]
  },
  {
   "cell_type": "markdown",
   "id": "da861e1f",
   "metadata": {},
   "source": [
    "---\n",
    "\n",
    "# Exercice 17\n",
    "Ecrire un programme en Python permettant d’afficher pour une chaine de caractères donnée, le nombre d’occurrences de chaque caractère dans la chaine. Exemple pour la chaine de caractère **s = \"Python.org\"** le programme doit afficher :  \n",
    "*Le caractère : \" P \" figure 1 fois dans la chaine s*  \n",
    "*Le caractère : \" y \" figure 1 fois dans la chaine s*  \n",
    "*Le caractère : \" t \" figure 1 fois dans la chaine s*  \n",
    "*Le caractère : \" h \" figure 1 fois dans la chaine s*  \n",
    "*Le caractère : \" o \" figure 2 fois dans la chaine s*  \n",
    "*Le caractère : \" n \" figure 1 fois dans la chaine s*  \n",
    "*Le caractère : \" . \" figure 1 fois dans la chaine s*  \n",
    "*Le caractère : \" r \" figure 1 fois dans la chaine s*  \n",
    "*Le caractère : \" g \" figure 1 fois dans la chaine s*  "
   ]
  },
  {
   "cell_type": "code",
   "execution_count": null,
   "id": "0eead8ed",
   "metadata": {},
   "outputs": [],
   "source": [
    "msg = input(\"Quelle est votre message ?\")\n",
    "fait = []\n",
    "msg = msg.lower()\n",
    "for indice in range (0,len(msg)):\n",
    "    compteur = 0\n",
    "    if fait.count(msg[indice]) > 0 or not msg[indice].isalpha():\n",
    "        continue\n",
    "    for i in range (0,len(msg)):\n",
    "        if msg[indice] == msg[i] :\n",
    "            compteur += 1\n",
    "    fait.append(msg[indice])\n",
    "    print(\"Le caractère : '{}' figure {} fois dans la chaine\".format(msg[indice],compteur))"
   ]
  },
  {
   "cell_type": "markdown",
   "id": "f686b83b",
   "metadata": {},
   "source": [
    "---\n",
    "\n",
    "# Exercice 18\n",
    "Ecrire un programme en Python qui demande à l’utilisateur de saisir une chaine de caractère **s** et de lui renvoyer un message indiquant si la chaine contient la lettre **'a'** tout en indiquant sa position sur la chaine. Exemple si l’utilisateur tape la chaine **s = ‘langage’** le programme lui renvoie :  \n",
    "*La lettre 'a' se trouve à la position : 1*  \n",
    "*La lettre 'a' se trouve à la position : 4*  \n"
   ]
  },
  {
   "cell_type": "code",
   "execution_count": null,
   "id": "a5ed199e",
   "metadata": {},
   "outputs": [],
   "source": [
    "msg = input(\"Quelle est votre message ? \")\n",
    "indices = []\n",
    "for index, lettre in enumerate(msg):\n",
    "    if lettre == 'a':\n",
    "        indices.append(index)\n",
    "for i in range (0,len(indices)):\n",
    "    print(\"La lettre 'a' se trouve à la position : \",indices[i])"
   ]
  },
  {
   "cell_type": "markdown",
   "id": "ec680fd7",
   "metadata": {},
   "source": [
    "---\n",
    "\n",
    "# Exercice 19\n",
    "Ecrire un programme en Python qui permet de lister les chaines qui composent la liste **L = [\"laptop\", \"iphone\", \"tablet\"]** tout en indiquant la longueur de chaque chaine."
   ]
  },
  {
   "cell_type": "code",
   "execution_count": null,
   "id": "bcb21dc3",
   "metadata": {},
   "outputs": [],
   "source": [
    "L = [\"laptop\", \"iphone\", \"tablet\"]\n",
    "for i in range (0,len(L)):\n",
    "    print(\"Element n°{}: '{}' est long de {} caractères.\".format(i+1,L[i],len(L[i])))"
   ]
  },
  {
   "cell_type": "markdown",
   "id": "6d5de7ca",
   "metadata": {},
   "source": [
    "---\n",
    "\n",
    "# Exercice 20\n",
    "Ecrire un programme en langage Python, permettant d’échanger le premier et le dernier caractère d’une chaine donnée."
   ]
  },
  {
   "cell_type": "code",
   "execution_count": null,
   "id": "0bed1844",
   "metadata": {},
   "outputs": [],
   "source": [
    "msg = input(\"Quelle est votre message ? \")\n",
    "msg = msg[-1] + msg[1:-1] + msg [0]\n",
    "print(\"Votre message modifié: \",msg)"
   ]
  },
  {
   "cell_type": "markdown",
   "id": "d50bcc5b",
   "metadata": {},
   "source": [
    "---\n",
    "\n",
    "# Exercice 21\n",
    "Ecrire un programme en langage Python, qui permet de compter le nombre de voyelles dans une chaine donnée. Exemple pour la chaine **s='anticonstitutionellement'** le programme doit renvoyer le message suivant : *\"La chaine anticonstitutionellement possède 10 voyelles\"*."
   ]
  },
  {
   "cell_type": "code",
   "execution_count": null,
   "id": "c96c0b5b",
   "metadata": {},
   "outputs": [],
   "source": [
    "msg = input(\"Quelle est votre message ? \")\n",
    "compteur = 0\n",
    "for i in range(0,len(msg)):\n",
    "    if msg[i] == 'a' or msg[i] == 'e' or msg[i] == 'i' or msg[i] == 'o' or msg[i] == 'u' or msg[i] == 'y':\n",
    "        compteur += 1\n",
    "print(\"La chaine anticonstitutionellement possède {} voyelles\".format(compteur))"
   ]
  },
  {
   "cell_type": "markdown",
   "id": "a8dc91e2",
   "metadata": {},
   "source": [
    "---\n",
    "\n",
    "# Exercice 22\n",
    "Ecrire un programme en Python, qui permet de renvoyer le premier mot d’un texte donné. Exemple pour le texte : **t ='Python est un merveilleux langage de programmation'**, le programme doit renvoyer *\"Python\"*\n"
   ]
  },
  {
   "cell_type": "code",
   "execution_count": null,
   "id": "fc751078",
   "metadata": {},
   "outputs": [],
   "source": [
    "import re\n",
    "\n",
    "msg = input(\"Quelle est votre message ? \")\n",
    "liste = re.sub(\"[^\\w]\",\" \",msg).split()\n",
    "print(liste[0])"
   ]
  },
  {
   "cell_type": "markdown",
   "id": "047f3964",
   "metadata": {},
   "source": [
    "---\n",
    "\n",
    "# Exercice 23\n",
    "Ecrire un programme en langage Python qui demande à l’utilisateur de saisir le nom d’un fichier et de lui renvoyer son extension. Exemple si l’utilisateur saisie **\"coursPython.pdf\"** le programme lui renvoie le message *\"L’extension du fichier est .pdf\"*."
   ]
  },
  {
   "cell_type": "code",
   "execution_count": null,
   "id": "4a13e7c0",
   "metadata": {},
   "outputs": [],
   "source": [
    "msg = input(\"Quelle est le nom de votre fichier ? \")\n",
    "print(\"L’extension du fichier est {}\".format(msg[msg.index('.'):]))"
   ]
  },
  {
   "cell_type": "markdown",
   "id": "72cb128e",
   "metadata": {},
   "source": [
    "---\n",
    "\n",
    "# Exercice 24\n",
    "Un palindrome est un mot dont l'ordre des lettres reste le même si on le lit de gauche à droite ou de droite à gauche. Par exemple : **'laval' , 'radar, 'sos'**... sont des palindromes. Ecrire un programme en Python qui demande à l'utilisateur de saisir un mot et de lui renvoyer s'il s'agit d'un palindrome ou non?\n"
   ]
  },
  {
   "cell_type": "code",
   "execution_count": null,
   "id": "066217ad",
   "metadata": {},
   "outputs": [],
   "source": [
    "msg = input(\"Quelle est votre mot ? \")\n",
    "msgInverse = msg[::-1]\n",
    "if msg == msgInverse:\n",
    "    print(\"'{}' est un palindrome\".format(msg))\n",
    "else:\n",
    "    print(\"'{}' n'est pas un palindrome\".format(msg))"
   ]
  },
  {
   "cell_type": "markdown",
   "id": "f5b53c5f",
   "metadata": {},
   "source": [
    "---\n",
    "\n",
    "# Exercice 25\n",
    "Ecrire un programme qui demande à l’utilisateur de saisir un mot et de lui renvoyer son inverse. Exemple si l’utilisateur saisi le mot **\"python\"** , le programme lui renvoie *\"nohtyp\"*.\n"
   ]
  },
  {
   "cell_type": "code",
   "execution_count": null,
   "id": "9706c8e2",
   "metadata": {},
   "outputs": [],
   "source": [
    "msg = input(\"Quelle est votre mot ? \")\n",
    "msgInverse = msg[::-1]\n",
    "print(msgInverse)"
   ]
  },
  {
   "cell_type": "markdown",
   "id": "f79d3539",
   "metadata": {},
   "source": [
    "---\n",
    "\n",
    "# Exercice 26\n",
    "Ecrire un programme qui demande à l’utilisateur de saisir un texte et de lui renvoyer tous les mots commençant par la lettre **a**.\n"
   ]
  },
  {
   "cell_type": "code",
   "execution_count": null,
   "id": "a4fc4028",
   "metadata": {},
   "outputs": [],
   "source": [
    "import re\n",
    "\n",
    "msg = input(\"Quelle est votre message ? \")\n",
    "liste = re.sub(\"[^\\w]\",\" \",msg).split()\n",
    "for i in range (0,len(liste)):\n",
    "    if liste[i][0] == 'a':\n",
    "        print(liste[i])"
   ]
  }
 ],
 "metadata": {
  "kernelspec": {
   "display_name": "Python 3 (ipykernel)",
   "language": "python",
   "name": "python3"
  },
  "language_info": {
   "codemirror_mode": {
    "name": "ipython",
    "version": 3
   },
   "file_extension": ".py",
   "mimetype": "text/x-python",
   "name": "python",
   "nbconvert_exporter": "python",
   "pygments_lexer": "ipython3",
   "version": "3.9.13"
  }
 },
 "nbformat": 4,
 "nbformat_minor": 5
}
