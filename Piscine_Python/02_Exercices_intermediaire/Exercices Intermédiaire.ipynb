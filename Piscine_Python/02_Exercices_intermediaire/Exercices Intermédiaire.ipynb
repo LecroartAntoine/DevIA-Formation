{
 "cells": [
  {
   "cell_type": "markdown",
   "id": "bc22bd79",
   "metadata": {},
   "source": [
    "# Exercice 1:\n",
    "\n",
    "Utilisez une exception pour calculer, dans une boucle évoluant de -3 à 3 compris, la valeur de sin(x)/x. L'exception permettra de gérer l'erreur rencontrée, de l'afficher et de continuer le programme.\n"
   ]
  },
  {
   "cell_type": "code",
   "execution_count": null,
   "id": "4b2520d9",
   "metadata": {},
   "outputs": [],
   "source": [
    "from math import *\n",
    "def calculer_sin():\n",
    "    x = -3\n",
    "    while x<= 3:\n",
    "        try:\n",
    "            a = sin(x)/x\n",
    "            print('sin(',x,')/',x,' = ',a,'\\n')\n",
    "        except ZeroDivisionError:\n",
    "            print(\"Erreur : x = 0\\n\")\n",
    "        x+= 1\n",
    "        \n",
    "calculer_sin()"
   ]
  },
  {
   "cell_type": "markdown",
   "id": "8254c41b",
   "metadata": {},
   "source": [
    "---\n",
    "# Exercice 2:\n",
    "\n",
    "Écrire une fonction qui retourne f(x) = 2x3 + x − 5. Écrire une fonction poly avec quatre paramètres : fonction, borneInf, borneSup et nbPas. Cette procédure affiche les valeurs de fonction, de borneInf à borneSup, touslesnbPas. Elle doit respecter borne Inf < borne Sup.La fonction poly doit renvoyer un dictionnaire clé:valeur (clé = x, valeur = f(x))."
   ]
  },
  {
   "cell_type": "code",
   "execution_count": null,
   "id": "1dd8fa69",
   "metadata": {},
   "outputs": [],
   "source": [
    "def poly (f, bInf, bSup, nbPas):\n",
    "    result = {}\n",
    "    \n",
    "    if bInf > bSup:\n",
    "        bInf, bSup = bSup, bInf\n",
    "        \n",
    "    for i in range(bInf,bSup+1,nbPas):\n",
    "        result[i]=(f[0]*i**3)+(f[1]*i**2)+(f[2]*i)+f[3]\n",
    "    return(result)\n",
    "    \n",
    "print(poly([2,0,1,-5],0,10,1))"
   ]
  },
  {
   "cell_type": "markdown",
   "id": "2c2e054b",
   "metadata": {},
   "source": [
    "---\n",
    "# Exercice 3:\n",
    "\n",
    "Définir la liste : liste =[17, 38, 10, 25, 72] Puis effectuez les actions suivantes :\n",
    "- affichez la liste \n",
    "- ajoutez l’élément 12 à la liste et affichez là \n",
    "- affichez l’indice de l’élément 17 \n",
    "- enlevez l’élément 38 et affichez la liste \n",
    "- affichez la sous-liste du 2e au 3e élément \n",
    "- affichez la sous-liste du début au 2e élément \n",
    "- affichez le dernier élément en utilisant un indexage négatif."
   ]
  },
  {
   "cell_type": "code",
   "execution_count": null,
   "id": "05c23bcd",
   "metadata": {},
   "outputs": [],
   "source": [
    "liste =[17, 38, 10, 25, 72]\n",
    "\n",
    "#– affichez la liste \n",
    "\n",
    "print(liste,'\\n')\n",
    "\n",
    "#– ajoutez l’élément 12 à la liste et affichez là \n",
    "\n",
    "liste.append(12)\n",
    "print(liste,'\\n')\n",
    "\n",
    "#– affichez l’indice de l’élément 17 \n",
    "\n",
    "print(liste.index(17),'\\n')\n",
    "\n",
    "#– enlevez l’élément 38 et affichez la liste \n",
    "\n",
    "liste.pop(liste.index(38))\n",
    "print(liste,'\\n')\n",
    "\n",
    "#– affichez la sous-liste du 2e au 3e élément \n",
    "\n",
    "print(liste[1:3],'\\n')\n",
    "\n",
    "#– affichez la sous-liste du début au 2e élément \n",
    "\n",
    "print(liste[:2],'\\n')\n",
    "\n",
    "#– affichez le dernier élément en utilisant un indexage négatif.\n",
    "\n",
    "print(liste[-1])"
   ]
  },
  {
   "cell_type": "markdown",
   "id": "798b26b1",
   "metadata": {},
   "source": [
    "---\n",
    "# Exercice 4:\n",
    "\n",
    "Écrire une fonction compterMots ayant un argument (une chaîne de caractères) et qui renvoie un dictionnaire \n",
    "qui contient la fréquence de tous les mots de la chaîne entrée.\n"
   ]
  },
  {
   "cell_type": "code",
   "execution_count": null,
   "id": "587f7241",
   "metadata": {},
   "outputs": [],
   "source": [
    "import re\n",
    "\n",
    "def compterMots (chaine):\n",
    "    frequence = {}\n",
    "    wordList = re.sub(\"[^\\w\\']\", \" \",  chaine).split()\n",
    "    for i in range (0, len(wordList)):\n",
    "        comptage = 0\n",
    "        mot = wordList[i]\n",
    "        for x in range (0,len(wordList)):\n",
    "            if mot == wordList[x]:\n",
    "                comptage +=1\n",
    "        frequence[mot] = comptage\n",
    "        \n",
    "    return(frequence)\n",
    "\n",
    "chaine = str(input(\"Rentrez une phrase:\"))\n",
    "\n",
    "print('Fréquence des mots:',compterMots(chaine))"
   ]
  },
  {
   "cell_type": "markdown",
   "id": "586052bf",
   "metadata": {},
   "source": [
    "---\n",
    "# Exercice 5:\n",
    "\n",
    "Fonction renvoyant plusieurs valeurs sous forme d’un tuple. Écrire une fonction minMaxMoy qui reçoit une liste d’entiers et qui renvoie le minimum, le maximum et la moyenne de cette liste. Le programme principal appellera cette fonc- tion avec la liste : [10, 18, 14, 20, 12, 16]."
   ]
  },
  {
   "cell_type": "code",
   "execution_count": null,
   "id": "ba5ecbb6",
   "metadata": {},
   "outputs": [],
   "source": [
    "def minMaxMoy (liste):\n",
    "    mini = min(liste)\n",
    "    maxi = max(liste)\n",
    "    moy = sum(liste)/len(liste)\n",
    "    resultat = (mini, maxi, moy)\n",
    "    return (resultat)\n",
    "\n",
    "print(minMaxMoy([10, 18, 14, 20, 12, 16]))"
   ]
  },
  {
   "cell_type": "markdown",
   "id": "c9b5a96a",
   "metadata": {},
   "source": [
    "---\n",
    "# Exercice 6:\n",
    "\n",
    "![](https://user-images.githubusercontent.com/95213606/196275822-4bec6c44-3a28-4ca8-9479-5c03963d3b85.png)"
   ]
  },
  {
   "cell_type": "code",
   "execution_count": null,
   "id": "084f8a0c",
   "metadata": {},
   "outputs": [],
   "source": [
    "tableauPeri = {}\n",
    "tableauPeri['Au']={}\n",
    "tableauPeri['Au']['Te/Tf']=[2970,1063]\n",
    "tableauPeri['Au']['Z/A'] = [79,196.967]\n",
    "\n",
    "tableauPeri['Ga']={}\n",
    "tableauPeri['Ga']['Te/Tf']=[2237,29.8]\n",
    "tableauPeri['Ga']['Z/A']=[31,69.72]\n",
    "\n",
    "print(\"Numéro atomique de l'Or:\",tableauPeri['Au']['Z/A'][0])\n",
    "print(\"Température d'ébullition du Gallium:\",tableauPeri['Ga']['Te/Tf'][0])\n",
    "print(\"Numéro et masse atomique du Gallium:\",tableauPeri['Ga']['Z/A'])\n",
    "print(\"Informations atomique de l'Or:\",tableauPeri['Au'])"
   ]
  },
  {
   "cell_type": "markdown",
   "id": "41db30ce",
   "metadata": {},
   "source": [
    "---\n",
    "# Exercice 7:\n",
    "\n",
    "Le but de cet exercice est de créer une fonction à laquelle on donne un message et un décalage, et la fonction renvoie alors le message décalé dans l'alphabet. Il faudra faire attention que le message peut contenir des caractères ne faisant pas forcément partie de l'alphabet et dans ce cas, pour ne pas perdre la signification du texte, ces caractères doivent réapparaitre à l'identique dans le message chiffré. De plus, il faudra gérer le dépassement ('z' décalé vers la droite revient sur 'a', et 'a' décalé vers la gauche revient sur 'z').<br />À noter que la fonction pourra être utilisée aussi bien pour chiffrer que pour déchiffrer (il suffit pour cela de lui passer le message chiffré avec l'opposé du décalage utilisé pour retrouver le message d'origine)."
   ]
  },
  {
   "cell_type": "code",
   "execution_count": null,
   "id": "cd0a13f0",
   "metadata": {},
   "outputs": [],
   "source": [
    "def coder_message(chaine,deca):\n",
    "    \n",
    "    chaine = list(chaine.strip())\n",
    "    \n",
    "    for i in range (0,len(chaine)):\n",
    "        \n",
    "        chara = chaine[i]\n",
    "        \n",
    "        if ord(chara) >= 65 and ord(chara) <= 90:\n",
    "            \n",
    "            chara = chr(ord(chara)+deca)\n",
    "    \n",
    "            if ord(chara) < 65:\n",
    "                chara = chr(90-(65-ord(chara)))\n",
    "                \n",
    "            elif ord(chara) > 90:\n",
    "                chara = chr(65+(ord(chara)-90))\n",
    "                \n",
    "            chaine[i] = chara\n",
    "            \n",
    "        elif ord(chara) >= 97 and ord(chara) <= 122:\n",
    "            chara = chr(ord(chara)+deca)\n",
    "            \n",
    "            if ord(chara) < 97:\n",
    "                chara = chr(122-(97-ord(chara)))\n",
    "                \n",
    "            elif ord(chara) > 122:\n",
    "                chara = chr(97+(ord(chara)-122))\n",
    "                \n",
    "            chaine[i] = chara\n",
    "            \n",
    "        else:\n",
    "            continue\n",
    "            \n",
    "    chaine = ''.join(chaine)\n",
    "    return(chaine)\n",
    "\n",
    "while True:\n",
    "    chaine = str(input(\"Entrez votre message:\"))\n",
    "\n",
    "    while True:\n",
    "        clef = int(input(\"Entrez la clef de chiffrage (de -26 à 26):\"))\n",
    "        \n",
    "        if clef < -26 or clef > 26:\n",
    "            print(\"Votre clef doit être entre -26 et 26 !\\n\")\n",
    "        else:\n",
    "            break\n",
    "\n",
    "    option = int(input(\"Voulez-vous coder (0) ou décoder (1) votre message ?\"))\n",
    "\n",
    "    if option == 0:\n",
    "        print(\"Votre message codé est:\",coder_message(chaine,clef))\n",
    "    elif option == 1:\n",
    "        print(\"Votre message décodé est:\",coder_message(chaine,-clef))\n",
    "        \n",
    "    continuer = str(input(\"Voulez-vous continuer ? (y/n):\"))\n",
    "    if continuer == 'y':\n",
    "        continue\n",
    "    elif continuer == 'n':\n",
    "        break"
   ]
  }
 ],
 "metadata": {
  "kernelspec": {
   "display_name": "Python 3 (ipykernel)",
   "language": "python",
   "name": "python3"
  },
  "language_info": {
   "codemirror_mode": {
    "name": "ipython",
    "version": 3
   },
   "file_extension": ".py",
   "mimetype": "text/x-python",
   "name": "python",
   "nbconvert_exporter": "python",
   "pygments_lexer": "ipython3",
   "version": "3.9.13"
  }
 },
 "nbformat": 4,
 "nbformat_minor": 5
}
