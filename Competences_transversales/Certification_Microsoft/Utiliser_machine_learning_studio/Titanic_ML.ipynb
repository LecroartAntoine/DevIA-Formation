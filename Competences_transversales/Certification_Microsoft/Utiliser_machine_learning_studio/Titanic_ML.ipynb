{
 "cells": [
  {
   "attachments": {},
   "cell_type": "markdown",
   "metadata": {},
   "source": [
    "# Prédiction de la survie d'un passager du Titanic grâce à Microsoft Azure Machine Learning Studio\n",
    "\n",
    "---\n",
    "---"
   ]
  },
  {
   "attachments": {},
   "cell_type": "markdown",
   "metadata": {},
   "source": [
    "## Création des ressources\n",
    "\n",
    "```\n",
    "https://portal.azure.com > Create a ressource > Search : \"Machine Learning\" > Azure Machine Learning > Create\n",
    "```\n",
    "\n",
    "![alternative text](Images/Screenshot_1.jpg)"
   ]
  },
  {
   "attachments": {},
   "cell_type": "markdown",
   "metadata": {},
   "source": [
    "---\n",
    "---\n",
    "\n",
    "## Préparation des données\n",
    "\n",
    "```\n",
    "Sélectionner la ressource \"Azure Machine Learning workspace\" > Launch studio > Fenêtre de gauche : Data > Create\n",
    "```\n",
    "\n",
    "![alternative text](Images/Screenshot_2.jpg)\n",
    "\n",
    "---\n",
    "\n",
    "![alternative text](Images/Screenshot_3.jpg)\n",
    "\n",
    "---\n",
    "\n",
    "![alternative text](Images/Screenshot_4.jpg)\n",
    "\n",
    "---\n",
    "\n",
    "![alternative text](Images/Screenshot_5.jpg)\n",
    "\n",
    "---\n",
    "\n",
    "![alternative text](Images/Screenshot_6.jpg)\n",
    "\n",
    "---\n",
    "\n",
    "![alternative text](Images/Screenshot_7.jpg)\n",
    "\n",
    "---\n",
    "\n",
    "![alternative text](Images/Screenshot_8.jpg)"
   ]
  },
  {
   "attachments": {},
   "cell_type": "markdown",
   "metadata": {},
   "source": [
    "---\n",
    "---\n",
    "\n",
    "## Configuration du Machine Learning Automatic\n",
    "\n",
    "```\n",
    "Fenêtre de gauche : Automated ML > New Automated ML jobs\n",
    "```\n",
    "\n",
    "![alternative text](Images/Screenshot_9.jpg)\n",
    "\n",
    "---\n",
    "\n",
    "![alternative text](Images/Screenshot_11.jpg)\n",
    "\n",
    "---\n",
    "\n",
    "![alternative text](Images/Screenshot_12.jpg)\n",
    "\n",
    "---\n",
    "\n",
    "![alternative text](Images/Screenshot_13.jpg)\n",
    "\n",
    "---\n",
    "\n",
    "![alternative text](Images/Screenshot_14.jpg)"
   ]
  },
  {
   "attachments": {},
   "cell_type": "markdown",
   "metadata": {},
   "source": [
    "---\n",
    "---\n",
    "\n",
    "## Analyse du résultat\n",
    "\n",
    "```\n",
    "AL-ML > Jobs > Titanic_survived > Titanic_survived_AI > Models > Sort by AUC > VotingEnsemble > Metrics\n",
    "```\n",
    "\n",
    "![alternative text](Images/Screenshot_15.jpg)\n",
    "\n",
    "---\n",
    "\n",
    "![alternative text](Images/Screenshot_16.jpg)\n",
    "\n",
    "---\n",
    "\n",
    "![alternative text](Images/Screenshot_17.jpg)"
   ]
  },
  {
   "attachments": {},
   "cell_type": "markdown",
   "metadata": {},
   "source": [
    "---\n",
    "---\n",
    "\n",
    "## Sauvegarde du modèle\n",
    "\n",
    "```\n",
    "AL-ML > Jobs > Titanic_survived > Titanic_survived_AI > Titanic_survived_AI_VotingEnsemble > Download\n",
    "```\n",
    "\n",
    "![alternative text](Images/Screenshot_18.jpg)"
   ]
  },
  {
   "attachments": {},
   "cell_type": "markdown",
   "metadata": {},
   "source": [
    "---\n",
    "---\n",
    "\n",
    "## Déploiement du modèle via un service web\n",
    "\n",
    "```\n",
    "AL-ML > Jobs > Titanic_survived > Titanic_survived_AI > Titanic_survived_AI_VotingEnsemble > Deploy > Web service\n",
    "```\n",
    "\n",
    "![alternative text](Images/Screenshot_19.jpg)\n",
    "\n",
    "---\n",
    "\n",
    "```\n",
    "AL-ML > Endpoints > al-titanic_pred\n",
    "```\n",
    "\n",
    "![alternative text](Images/Screenshot_20.jpg)\n",
    "\n",
    "---\n",
    "\n",
    "```\n",
    "https://portal.azure.com > All resources > al-titanic-pred-LIpsG4tbd0GZgxgp4Nb3MQ\n",
    "```\n",
    "\n",
    "![alternative text](Images/Screenshot_21.jpg)"
   ]
  },
  {
   "attachments": {},
   "cell_type": "markdown",
   "metadata": {},
   "source": [
    "---\n",
    "---\n",
    "\n",
    "## Requête avec python"
   ]
  },
  {
   "attachments": {},
   "cell_type": "markdown",
   "metadata": {},
   "source": [
    "---\n",
    "\n",
    "### Import des libraires"
   ]
  },
  {
   "cell_type": "code",
   "execution_count": 1,
   "metadata": {},
   "outputs": [],
   "source": [
    "import urllib.request\n",
    "import json"
   ]
  },
  {
   "attachments": {},
   "cell_type": "markdown",
   "metadata": {},
   "source": [
    "---\n",
    "\n",
    "### Création d'une donnée de test"
   ]
  },
  {
   "cell_type": "code",
   "execution_count": 2,
   "metadata": {},
   "outputs": [],
   "source": [
    "data =  {\n",
    "  \"Inputs\": {\n",
    "    \"data\": [\n",
    "      {\n",
    "        \"PassengerId\": 421325,\n",
    "        \"Pclass\": 3,\n",
    "        \"Name\": \"Abitbol, Mr Georges\",\n",
    "        \"Sex\": \"male\",\n",
    "        \"Age\": 46,\n",
    "        \"SibSp\": 0,\n",
    "        \"Parch\": 5,\n",
    "        \"Ticket\": \"25484563\",\n",
    "        \"Fare\": 7.36,\n",
    "        \"Cabin\": \"B264\",\n",
    "        \"Embarked\": \"Q\"\n",
    "      },\n",
    "      {\n",
    "        \"PassengerId\": 2222,\n",
    "        \"Pclass\": 1,\n",
    "        \"Name\": \"Little, Miss Sunshine\",\n",
    "        \"Sex\": \"female\",\n",
    "        \"Age\": 16,\n",
    "        \"SibSp\": 0,\n",
    "        \"Parch\": 2,\n",
    "        \"Ticket\": \"azerty\",\n",
    "        \"Fare\": 21,\n",
    "        \"Cabin\": None,\n",
    "        \"Embarked\": \"S\"\n",
    "      },\n",
    "      {\n",
    "        \"PassengerId\": 0,\n",
    "        \"Pclass\": 999999,\n",
    "        \"Name\": \"?;/-(§)\",\n",
    "        \"Sex\": None,\n",
    "        \"Age\": 0,\n",
    "        \"SibSp\": 99999,\n",
    "        \"Parch\": -5,\n",
    "        \"Ticket\": \"aaaaaaaaa\",\n",
    "        \"Fare\": 0.000001,\n",
    "        \"Cabin\": \"w\",\n",
    "        \"Embarked\": \"X\"\n",
    "      },\n",
    "      {\n",
    "        \"PassengerId\": 0,\n",
    "        \"Pclass\": 0,\n",
    "        \"Name\": None,\n",
    "        \"Sex\": None,\n",
    "        \"Age\": None,\n",
    "        \"SibSp\": 0,\n",
    "        \"Parch\": 0,\n",
    "        \"Ticket\": None,\n",
    "        \"Fare\": None,\n",
    "        \"Cabin\": None,\n",
    "        \"Embarked\": None\n",
    "      }\n",
    "    ]\n",
    "  },\n",
    "  \"GlobalParameters\": {\n",
    "    \"method\": \"predict\"\n",
    "  }\n",
    "}"
   ]
  },
  {
   "attachments": {},
   "cell_type": "markdown",
   "metadata": {},
   "source": [
    "---\n",
    "\n",
    "### Test du modèle"
   ]
  },
  {
   "cell_type": "code",
   "execution_count": 4,
   "metadata": {},
   "outputs": [
    {
     "name": "stdout",
     "output_type": "stream",
     "text": [
      "Abitbol, Mr Georges est mort quand le titanic a coulé.\n",
      "\n",
      "Little, Miss Sunshine a survécu quand le titanic a coulé.\n",
      "\n",
      "?;/-(§) a survécu quand le titanic a coulé.\n",
      "\n",
      "None est mort quand le titanic a coulé.\n",
      "\n"
     ]
    }
   ],
   "source": [
    "def allowSelfSignedHttps(allowed):\n",
    "    # bypass the server certificate verification on client side\n",
    "    if allowed and not os.environ.get('PYTHONHTTPSVERIFY', '') and getattr(ssl, '_create_unverified_context', None):\n",
    "        ssl._create_default_https_context = ssl._create_unverified_context\n",
    "\n",
    "allowSelfSignedHttps(True) # this line is needed if you use self-signed certificate in your scoring service.\n",
    "\n",
    "body = str.encode(json.dumps(data))\n",
    "\n",
    "url = 'http://156c6842-88c8-4d8c-bc23-4f0c14c148ff.francecentral.azurecontainer.io/score'\n",
    "\n",
    "\n",
    "headers = {'Content-Type':'application/json'}\n",
    "\n",
    "req = urllib.request.Request(url, body, headers)\n",
    "\n",
    "try:\n",
    "    response = urllib.request.urlopen(req)\n",
    "\n",
    "    results = json.load(response)\n",
    "\n",
    "    for i, result in enumerate(results[\"Results\"]):\n",
    "        \n",
    "        print(f\"{data['Inputs']['data'][i]['Name']} {'a survécu' if result == 1 else 'est mort'} quand le titanic a coulé.\\n\")\n",
    "\n",
    "\n",
    "\n",
    "except urllib.error.HTTPError as error:\n",
    "    print(\"The request failed with status code: \" + str(error.code))\n",
    "\n",
    "    # Print the headers - they include the requert ID and the timestamp, which are useful for debugging the failure\n",
    "    print(error.info())\n",
    "    print(error.read().decode(\"utf8\", 'ignore'))"
   ]
  }
 ],
 "metadata": {
  "kernelspec": {
   "display_name": "base",
   "language": "python",
   "name": "python3"
  },
  "language_info": {
   "codemirror_mode": {
    "name": "ipython",
    "version": 3
   },
   "file_extension": ".py",
   "mimetype": "text/x-python",
   "name": "python",
   "nbconvert_exporter": "python",
   "pygments_lexer": "ipython3",
   "version": "3.9.15"
  },
  "orig_nbformat": 4,
  "vscode": {
   "interpreter": {
    "hash": "45bb1cb4637e4034484920e5cfb24c9afd84b0847d6c36e39edd3067d3a05462"
   }
  }
 },
 "nbformat": 4,
 "nbformat_minor": 2
}
