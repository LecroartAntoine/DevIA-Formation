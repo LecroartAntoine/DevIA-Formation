{
 "cells": [
  {
   "cell_type": "markdown",
   "id": "5e9a4890",
   "metadata": {},
   "source": [
    "# *** Introduction à la bibliothèque Pandas ***"
   ]
  },
  {
   "cell_type": "markdown",
   "id": "91ad1b12",
   "metadata": {},
   "source": [
    "Dans cette section, nous apprenons :\n",
    "* Comment charger un DataFrame pandas\n",
    "* Sauvegarder un DataFrame dans un fichier CSV (Commma Separated File).\n",
    "* Créer ou transformer d'autres types de données en un DataFrame.\n",
    "* Examiner les données d'un DataFrame\n",
    "* Indexation et sélection de segments/tranches de notre cadre de données\n",
    "* Découpage en tranches en utilisant iloc\n",
    "* Opérations numériques sur des séries\n",
    "* Cadres de données Pandas\n",
    "* Statistiques descriptives sur les séries\n",
    "* Statistiques descriptives sur les DataFrames\n",
    "* Filtrage à l'aide d'opérations booléennes\n",
    "* Trouver les cellules vides avec isnull()\n",
    "* Combinaison de filtrage booléen"
   ]
  },
  {
   "cell_type": "code",
   "execution_count": null,
   "id": "90dacfd6",
   "metadata": {
    "colab": {},
    "colab_type": "code",
    "id": "nXh-NdED96re"
   },
   "outputs": [],
   "source": [
    "# Importer la bibliothèque Pandas\n",
    "from pandas import Series as S\n",
    "import pandas as pd\n",
    "\n",
    "pd.set_option('display.max_rows', 1500)\n",
    "pd.set_option('display.max_columns', 1500)"
   ]
  },
  {
   "cell_type": "markdown",
   "id": "e5d404f5",
   "metadata": {},
   "source": [
    "### Connaître la série Pandas."
   ]
  },
  {
   "cell_type": "code",
   "execution_count": null,
   "id": "762c0ef7",
   "metadata": {},
   "outputs": [],
   "source": [
    "# Créer une liste simple en python [1,4,3,7,2,6,3]\n",
    "liste = [1, 4, 3, 7, 2, 6, 3]"
   ]
  },
  {
   "cell_type": "code",
   "execution_count": null,
   "id": "26d35291",
   "metadata": {},
   "outputs": [],
   "source": [
    "# Construire une série pandas appelée 'a' à partir de la liste crée précédemment\n",
    "a = S(data=liste)"
   ]
  },
  {
   "cell_type": "code",
   "execution_count": null,
   "id": "6db33efd",
   "metadata": {},
   "outputs": [],
   "source": [
    "# Afficher le type de 'a'\n",
    "print(type(a))"
   ]
  },
  {
   "cell_type": "markdown",
   "id": "ccc15e74",
   "metadata": {
    "colab_type": "text",
    "id": "4V7OiBHT-p4R"
   },
   "source": [
    "### Opérations simples sur les séries, telles que le tri, le maximum, le nombre, la somme, etc. "
   ]
  },
  {
   "cell_type": "code",
   "execution_count": null,
   "id": "9b1d5b03",
   "metadata": {
    "colab": {
     "base_uri": "https://localhost:8080/",
     "height": 35
    },
    "colab_type": "code",
    "executionInfo": {
     "elapsed": 609,
     "status": "ok",
     "timestamp": 1569575766606,
     "user": {
      "displayName": "Rajeev Ratan",
      "photoUrl": "https://lh3.googleusercontent.com/a-/AAuE7mCGo6aIm0tOcd5EhqWlYb0rime9sBvHS9YMpx0D2w=s64",
      "userId": "08597265227091462140"
     },
     "user_tz": -60
    },
    "id": "ZIMpJQhU-tf0",
    "outputId": "42c83929-2f24-44ba-a313-a1d822253f1d"
   },
   "outputs": [],
   "source": [
    "# Afficher le max de 'a'\n",
    "\n",
    "print(S.max(a))"
   ]
  },
  {
   "cell_type": "code",
   "execution_count": null,
   "id": "af928ad3",
   "metadata": {
    "colab": {
     "base_uri": "https://localhost:8080/",
     "height": 35
    },
    "colab_type": "code",
    "executionInfo": {
     "elapsed": 389,
     "status": "ok",
     "timestamp": 1569575766607,
     "user": {
      "displayName": "Rajeev Ratan",
      "photoUrl": "https://lh3.googleusercontent.com/a-/AAuE7mCGo6aIm0tOcd5EhqWlYb0rime9sBvHS9YMpx0D2w=s64",
      "userId": "08597265227091462140"
     },
     "user_tz": -60
    },
    "id": "-Pbw5-SJ-vjZ",
    "outputId": "f4f7db4f-b3b2-4d4a-a2f2-54082d270897"
   },
   "outputs": [],
   "source": [
    "# Afficher le min de 'a'\n",
    "\n",
    "print(S.min(a))"
   ]
  },
  {
   "cell_type": "code",
   "execution_count": null,
   "id": "b766a930",
   "metadata": {
    "colab": {
     "base_uri": "https://localhost:8080/",
     "height": 156
    },
    "colab_type": "code",
    "executionInfo": {
     "elapsed": 375,
     "status": "ok",
     "timestamp": 1569575766825,
     "user": {
      "displayName": "Rajeev Ratan",
      "photoUrl": "https://lh3.googleusercontent.com/a-/AAuE7mCGo6aIm0tOcd5EhqWlYb0rime9sBvHS9YMpx0D2w=s64",
      "userId": "08597265227091462140"
     },
     "user_tz": -60
    },
    "id": "UT5X-fyl-w0i",
    "outputId": "f7f7eb65-fad0-4c28-bbc2-f0c10ec78b6a"
   },
   "outputs": [],
   "source": [
    "# Trier a en utilisant tous les paramètres par défaut\n",
    "\n",
    "print(S.sort_values(a))"
   ]
  },
  {
   "cell_type": "code",
   "execution_count": null,
   "id": "3041b2d5",
   "metadata": {
    "colab": {
     "base_uri": "https://localhost:8080/",
     "height": 156
    },
    "colab_type": "code",
    "executionInfo": {
     "elapsed": 494,
     "status": "ok",
     "timestamp": 1569575767236,
     "user": {
      "displayName": "Rajeev Ratan",
      "photoUrl": "https://lh3.googleusercontent.com/a-/AAuE7mCGo6aIm0tOcd5EhqWlYb0rime9sBvHS9YMpx0D2w=s64",
      "userId": "08597265227091462140"
     },
     "user_tz": -60
    },
    "id": "JZGos1kX-2xJ",
    "outputId": "0b9bba5e-9582-4d8f-da72-5e6fdc548f69"
   },
   "outputs": [],
   "source": [
    "# Trier en plaçant le plus grand nombre en premier (Ordre décroissant)\n",
    "\n",
    "print(S.sort_values(a, ascending = False))"
   ]
  },
  {
   "cell_type": "code",
   "execution_count": null,
   "id": "117b9013",
   "metadata": {
    "colab": {
     "base_uri": "https://localhost:8080/",
     "height": 156
    },
    "colab_type": "code",
    "executionInfo": {
     "elapsed": 359,
     "status": "ok",
     "timestamp": 1569575767574,
     "user": {
      "displayName": "Rajeev Ratan",
      "photoUrl": "https://lh3.googleusercontent.com/a-/AAuE7mCGo6aIm0tOcd5EhqWlYb0rime9sBvHS9YMpx0D2w=s64",
      "userId": "08597265227091462140"
     },
     "user_tz": -60
    },
    "id": "NffgsltC_tV0",
    "outputId": "84138ed8-ebd2-4ae4-da89-3fee5a0ed74a"
   },
   "outputs": [],
   "source": [
    "# Afficher a\n",
    "\n",
    "print(a)"
   ]
  },
  {
   "cell_type": "code",
   "execution_count": null,
   "id": "ba2a3e83",
   "metadata": {
    "colab": {
     "base_uri": "https://localhost:8080/",
     "height": 156
    },
    "colab_type": "code",
    "executionInfo": {
     "elapsed": 465,
     "status": "ok",
     "timestamp": 1569575786510,
     "user": {
      "displayName": "Rajeev Ratan",
      "photoUrl": "https://lh3.googleusercontent.com/a-/AAuE7mCGo6aIm0tOcd5EhqWlYb0rime9sBvHS9YMpx0D2w=s64",
      "userId": "08597265227091462140"
     },
     "user_tz": -60
    },
    "id": "RG-bitVx9939",
    "outputId": "7116698a-72fb-49c8-835e-c6f0c7029e08"
   },
   "outputs": [],
   "source": [
    "# Appliquer le changement sur \"a\" en utilisant le \"inplace\"\n",
    "\n",
    "S.sort_values(a, ascending = False, inplace = True)"
   ]
  },
  {
   "cell_type": "code",
   "execution_count": null,
   "id": "2a1d973d",
   "metadata": {
    "colab": {
     "base_uri": "https://localhost:8080/",
     "height": 139
    },
    "colab_type": "code",
    "executionInfo": {
     "elapsed": 583,
     "status": "ok",
     "timestamp": 1569575793416,
     "user": {
      "displayName": "Rajeev Ratan",
      "photoUrl": "https://lh3.googleusercontent.com/a-/AAuE7mCGo6aIm0tOcd5EhqWlYb0rime9sBvHS9YMpx0D2w=s64",
      "userId": "08597265227091462140"
     },
     "user_tz": -60
    },
    "id": "srmhxkfb9148",
    "outputId": "9e6e8786-1097-42dc-b5ff-edc670166403",
    "scrolled": false
   },
   "outputs": [],
   "source": [
    "# Compter le nombre d'appartenances de chaque numéro dans 'a'\n",
    "\n",
    "S.value_counts(a)"
   ]
  },
  {
   "cell_type": "markdown",
   "id": "275069ca",
   "metadata": {},
   "source": [
    "## Création de dataframes à partir de sources non csv. \n",
    "#### Les DataFrames peuvent être chargés à partir de feuilles excel, de listes python, de dictionnaires et plus encore !"
   ]
  },
  {
   "cell_type": "code",
   "execution_count": null,
   "id": "7d290a77",
   "metadata": {},
   "outputs": [],
   "source": [
    "# Créer une liste 'list_a' contenant ['a', 'b', 'c']\n",
    "\n",
    "list_a = ['a', 'b', 'c']"
   ]
  },
  {
   "cell_type": "code",
   "execution_count": null,
   "id": "ac4c31ba",
   "metadata": {},
   "outputs": [],
   "source": [
    "# Contruire une nouvelle dataframe 'df_a' à partir de la liste 'list_a'\n",
    "\n",
    "df_a = S(list_a)"
   ]
  },
  {
   "cell_type": "code",
   "execution_count": null,
   "id": "0bfb9f42",
   "metadata": {},
   "outputs": [],
   "source": [
    "# Construire une dataframe 'dict_df' à partir d'un dictionnaire {'http_status': [200,200,404,404,301],'response_time': [0.04, 0.02, 0.07, 0.08, 1.0]}\n",
    "from pandas import DataFrame as DF\n",
    "dico = {'http_status' : [200,200,404,404,301], 'response_time' : [0.04, 0.02, 0.07, 0.08, 1.0]}\n",
    "dict_df = DF(dico)"
   ]
  },
  {
   "cell_type": "markdown",
   "id": "6dc1b90d",
   "metadata": {
    "colab_type": "text",
    "id": "zPbNf1sy3HIT"
   },
   "source": [
    "## Chargement de données depuis une source github"
   ]
  },
  {
   "cell_type": "code",
   "execution_count": null,
   "id": "96dfe370",
   "metadata": {
    "colab": {
     "base_uri": "https://localhost:8080/",
     "height": 202
    },
    "colab_type": "code",
    "executionInfo": {
     "elapsed": 890,
     "status": "ok",
     "timestamp": 1573430968715,
     "user": {
      "displayName": "Rajeev Ratan",
      "photoUrl": "https://lh3.googleusercontent.com/a-/AAuE7mCGo6aIm0tOcd5EhqWlYb0rime9sBvHS9YMpx0D2w=s64",
      "userId": "08597265227091462140"
     },
     "user_tz": 0
    },
    "id": "i-9HtBIJ2zmF",
    "outputId": "c1dbf581-c22f-44a8-d116-3ee4f2ea267d"
   },
   "outputs": [],
   "source": [
    "# Charger le fichier CSV en utilisant pandas et en exploitant ce lien github \"https://raw.githubusercontent.com/rajeevratan84/datascienceforbusiness/master/titanic.csv\"\n",
    "# Nommer le dataframe 'df'\n",
    "import pandas\n",
    "df = pandas.read_csv(\"https://raw.githubusercontent.com/rajeevratan84/datascienceforbusiness/master/titanic.csv\")\n",
    "df"
   ]
  },
  {
   "cell_type": "code",
   "execution_count": null,
   "id": "1635e744",
   "metadata": {},
   "outputs": [],
   "source": [
    "# Sauvegarder le dataframe au format CSV\n",
    "import os\n",
    "df.to_csv(os.getcwd() + '\\\\Dataframes\\\\Titanic.csv')\n",
    "\n",
    "# Sauvegarder le dataframe au format Excel\n",
    "\n",
    "df.to_excel(os.getcwd() + '\\\\Dataframes\\\\Titanic.xlsx')"
   ]
  },
  {
   "cell_type": "markdown",
   "id": "a3a8a626",
   "metadata": {},
   "source": [
    "# Examiner le DataFrame 'df'"
   ]
  },
  {
   "cell_type": "code",
   "execution_count": null,
   "id": "92d508e6",
   "metadata": {
    "colab": {
     "base_uri": "https://localhost:8080/",
     "height": 355
    },
    "colab_type": "code",
    "executionInfo": {
     "elapsed": 599,
     "status": "ok",
     "timestamp": 1573431010823,
     "user": {
      "displayName": "Rajeev Ratan",
      "photoUrl": "https://lh3.googleusercontent.com/a-/AAuE7mCGo6aIm0tOcd5EhqWlYb0rime9sBvHS9YMpx0D2w=s64",
      "userId": "08597265227091462140"
     },
     "user_tz": 0
    },
    "id": "RzkSZJ7ny9Vs",
    "outputId": "ebc28f06-7f03-4d9a-bce3-1a0cd2d5c5c6"
   },
   "outputs": [],
   "source": [
    "# Afficher les 10 premières lignes du dataframe 'df'\n",
    "\n",
    "print(df[0:10])"
   ]
  },
  {
   "cell_type": "markdown",
   "id": "97379d96",
   "metadata": {
    "colab_type": "text",
    "id": "yE4X7sZV23ss"
   },
   "source": [
    "**Description des colonnes**\n",
    "\n",
    "* pclass : classe de voyage\n",
    "* nom : nom complet du passager\n",
    "* sexe : genre\n",
    "* age : âge numérique\n",
    "* sibsp : # nombre de frères et sœurs/conjoints à bord\n",
    "* parch : nombre de parents/enfants à bord\n",
    "* ticket : numéro du billet\n",
    "* fare : coût du billet\n",
    "* cabin : emplacement de la chambre\n",
    "* emarked : port où le passager a embarqué (C - Cherbourg, S - Southampton, Q = Queenstown)\n",
    "* survécu : métrique de survie (0 - mort, 1 - survivant)"
   ]
  },
  {
   "cell_type": "code",
   "execution_count": null,
   "id": "7d4fd200",
   "metadata": {
    "colab": {
     "base_uri": "https://localhost:8080/",
     "height": 294
    },
    "colab_type": "code",
    "executionInfo": {
     "elapsed": 495,
     "status": "ok",
     "timestamp": 1569590057845,
     "user": {
      "displayName": "Rajeev Ratan",
      "photoUrl": "https://lh3.googleusercontent.com/a-/AAuE7mCGo6aIm0tOcd5EhqWlYb0rime9sBvHS9YMpx0D2w=s64",
      "userId": "08597265227091462140"
     },
     "user_tz": -60
    },
    "id": "r2vfNTty24GX",
    "outputId": "87247332-0beb-45f6-f588-394678af1f91"
   },
   "outputs": [],
   "source": [
    "# Explorer le dataframe 'df' à l'aide d'un résumer statistiques\n",
    "\n",
    "df.describe()"
   ]
  },
  {
   "cell_type": "code",
   "execution_count": null,
   "id": "334426a6",
   "metadata": {
    "colab": {
     "base_uri": "https://localhost:8080/",
     "height": 295
    },
    "colab_type": "code",
    "executionInfo": {
     "elapsed": 729,
     "status": "ok",
     "timestamp": 1573431174793,
     "user": {
      "displayName": "Rajeev Ratan",
      "photoUrl": "https://lh3.googleusercontent.com/a-/AAuE7mCGo6aIm0tOcd5EhqWlYb0rime9sBvHS9YMpx0D2w=s64",
      "userId": "08597265227091462140"
     },
     "user_tz": 0
    },
    "id": "7hGLbVUl25ky",
    "outputId": "92e1351f-bfa9-4f1e-8750-24f12dc9e541"
   },
   "outputs": [],
   "source": [
    "# Afficher les informations fondamentales du dataframe 'df' \n",
    "\n",
    "df.info()"
   ]
  },
  {
   "cell_type": "code",
   "execution_count": null,
   "id": "18879cae",
   "metadata": {
    "colab": {
     "base_uri": "https://localhost:8080/",
     "height": 225
    },
    "colab_type": "code",
    "executionInfo": {
     "elapsed": 431,
     "status": "ok",
     "timestamp": 1569753300960,
     "user": {
      "displayName": "Rajeev Ratan",
      "photoUrl": "https://lh3.googleusercontent.com/a-/AAuE7mCGo6aIm0tOcd5EhqWlYb0rime9sBvHS9YMpx0D2w=s64",
      "userId": "08597265227091462140"
     },
     "user_tz": -60
    },
    "id": "WqNCR8EzlmQb",
    "outputId": "1979b7ae-f4bf-4b7d-e04d-f12e2dfae3bc"
   },
   "outputs": [],
   "source": [
    "# Afficher le type de chaque colonne dans le dataframe 'df'.\n",
    "\n",
    "df.dtypes"
   ]
  },
  {
   "cell_type": "code",
   "execution_count": null,
   "id": "b85107aa",
   "metadata": {
    "colab": {
     "base_uri": "https://localhost:8080/",
     "height": 69
    },
    "colab_type": "code",
    "executionInfo": {
     "elapsed": 427,
     "status": "ok",
     "timestamp": 1573431306927,
     "user": {
      "displayName": "Rajeev Ratan",
      "photoUrl": "https://lh3.googleusercontent.com/a-/AAuE7mCGo6aIm0tOcd5EhqWlYb0rime9sBvHS9YMpx0D2w=s64",
      "userId": "08597265227091462140"
     },
     "user_tz": 0
    },
    "id": "bjhbXzLYklWG",
    "outputId": "a638130c-1498-49e7-9738-2276fef44291"
   },
   "outputs": [],
   "source": [
    "# Afficher les noms des colonnes du dataframe 'df'\n",
    "\n",
    "df.columns"
   ]
  },
  {
   "cell_type": "code",
   "execution_count": null,
   "id": "8dce2e39",
   "metadata": {
    "colab": {
     "base_uri": "https://localhost:8080/",
     "height": 1000
    },
    "colab_type": "code",
    "executionInfo": {
     "elapsed": 654,
     "status": "ok",
     "timestamp": 1569753098284,
     "user": {
      "displayName": "Rajeev Ratan",
      "photoUrl": "https://lh3.googleusercontent.com/a-/AAuE7mCGo6aIm0tOcd5EhqWlYb0rime9sBvHS9YMpx0D2w=s64",
      "userId": "08597265227091462140"
     },
     "user_tz": -60
    },
    "id": "ThkMVUA_kwn_",
    "outputId": "f6c141c8-e72a-46f0-8537-2a806893a934"
   },
   "outputs": [],
   "source": [
    "# Afficher la colonne 'name' du dataframe 'df'\n",
    "\n",
    "print(df['name'])"
   ]
  },
  {
   "cell_type": "markdown",
   "id": "7130b16b",
   "metadata": {
    "colab_type": "text",
    "id": "QdMejWxDlI8j"
   },
   "source": [
    "# Indexation et sélection des segments du 'df'"
   ]
  },
  {
   "cell_type": "code",
   "execution_count": null,
   "id": "d7db7f3b",
   "metadata": {
    "colab": {
     "base_uri": "https://localhost:8080/",
     "height": 202
    },
    "colab_type": "code",
    "executionInfo": {
     "elapsed": 618,
     "status": "ok",
     "timestamp": 1569753360786,
     "user": {
      "displayName": "Rajeev Ratan",
      "photoUrl": "https://lh3.googleusercontent.com/a-/AAuE7mCGo6aIm0tOcd5EhqWlYb0rime9sBvHS9YMpx0D2w=s64",
      "userId": "08597265227091462140"
     },
     "user_tz": -60
    },
    "id": "q-16pGZCl1kk",
    "outputId": "2532ee03-a1f3-486d-a31a-6fd0c36a187d"
   },
   "outputs": [],
   "source": [
    "# Afficher les 5 premières lignes du 'df'\n",
    "\n",
    "print(df[0 : 5])"
   ]
  },
  {
   "cell_type": "code",
   "execution_count": null,
   "id": "f31dd7de",
   "metadata": {
    "colab": {
     "base_uri": "https://localhost:8080/",
     "height": 35
    },
    "colab_type": "code",
    "executionInfo": {
     "elapsed": 476,
     "status": "ok",
     "timestamp": 1573431388605,
     "user": {
      "displayName": "Rajeev Ratan",
      "photoUrl": "https://lh3.googleusercontent.com/a-/AAuE7mCGo6aIm0tOcd5EhqWlYb0rime9sBvHS9YMpx0D2w=s64",
      "userId": "08597265227091462140"
     },
     "user_tz": 0
    },
    "id": "ckutiETElMxE",
    "outputId": "aaece2ba-9f09-4045-f9d1-372fca5c342f"
   },
   "outputs": [],
   "source": [
    "# Utiliser la fonction .loc pour Afficher les 'name' de la deuxième ligne\n",
    "\n",
    "print(df.loc[1, 'name'])"
   ]
  },
  {
   "cell_type": "code",
   "execution_count": null,
   "id": "09d32968",
   "metadata": {
    "colab": {
     "base_uri": "https://localhost:8080/",
     "height": 1000
    },
    "colab_type": "code",
    "executionInfo": {
     "elapsed": 477,
     "status": "ok",
     "timestamp": 1569753439229,
     "user": {
      "displayName": "Rajeev Ratan",
      "photoUrl": "https://lh3.googleusercontent.com/a-/AAuE7mCGo6aIm0tOcd5EhqWlYb0rime9sBvHS9YMpx0D2w=s64",
      "userId": "08597265227091462140"
     },
     "user_tz": -60
    },
    "id": "GJwecswRk2Wm",
    "outputId": "beecf32b-4ff7-407b-9511-a3be9c8e7ac7"
   },
   "outputs": [],
   "source": [
    "# Utiliser la fonction .loc pour Afficher les 'name' de toutes les lignes\n",
    "\n",
    "print(df.loc[:, 'name'])"
   ]
  },
  {
   "cell_type": "code",
   "execution_count": null,
   "id": "e8cf4bc2",
   "metadata": {
    "colab": {},
    "colab_type": "code",
    "id": "9v6p1rutmJmq"
   },
   "outputs": [],
   "source": [
    "# Utiliser la fonction .loc pour mettre les 'name' de toutes les lignes dans une variable appelée 'names'\n",
    "\n",
    "names = df.loc[:, 'name']"
   ]
  },
  {
   "cell_type": "code",
   "execution_count": null,
   "id": "d765516d",
   "metadata": {
    "colab": {
     "base_uri": "https://localhost:8080/",
     "height": 121
    },
    "colab_type": "code",
    "executionInfo": {
     "elapsed": 387,
     "status": "ok",
     "timestamp": 1573431427284,
     "user": {
      "displayName": "Rajeev Ratan",
      "photoUrl": "https://lh3.googleusercontent.com/a-/AAuE7mCGo6aIm0tOcd5EhqWlYb0rime9sBvHS9YMpx0D2w=s64",
      "userId": "08597265227091462140"
     },
     "user_tz": 0
    },
    "id": "WjukVJ3gmK2W",
    "outputId": "2dd9f5bc-e6cc-41d7-d3e3-a64479a73b7a"
   },
   "outputs": [],
   "source": [
    "# Afficher les 5 premiéres lignes du 'names'\n",
    "\n",
    "print(names[0 : 5])"
   ]
  },
  {
   "cell_type": "code",
   "execution_count": null,
   "id": "080d680c",
   "metadata": {
    "colab": {
     "base_uri": "https://localhost:8080/",
     "height": 225
    },
    "colab_type": "code",
    "executionInfo": {
     "elapsed": 454,
     "status": "ok",
     "timestamp": 1573431461588,
     "user": {
      "displayName": "Rajeev Ratan",
      "photoUrl": "https://lh3.googleusercontent.com/a-/AAuE7mCGo6aIm0tOcd5EhqWlYb0rime9sBvHS9YMpx0D2w=s64",
      "userId": "08597265227091462140"
     },
     "user_tz": 0
    },
    "id": "_oqguEdEXvRf",
    "outputId": "9d39e177-048c-47fe-841d-fb51a4e9071c"
   },
   "outputs": [],
   "source": [
    "# Utiliser la fonction .loc pour Afficher la première ligne avec toutes les colonnes\n",
    "\n",
    "print(df.loc[0])"
   ]
  },
  {
   "cell_type": "code",
   "execution_count": null,
   "id": "9a5c7736",
   "metadata": {
    "colab": {
     "base_uri": "https://localhost:8080/",
     "height": 35
    },
    "colab_type": "code",
    "executionInfo": {
     "elapsed": 509,
     "status": "ok",
     "timestamp": 1573431510143,
     "user": {
      "displayName": "Rajeev Ratan",
      "photoUrl": "https://lh3.googleusercontent.com/a-/AAuE7mCGo6aIm0tOcd5EhqWlYb0rime9sBvHS9YMpx0D2w=s64",
      "userId": "08597265227091462140"
     },
     "user_tz": 0
    },
    "id": "U8SA9whXyyYw",
    "outputId": "f8cf766a-9f75-499e-ba8d-10ceca4ab361"
   },
   "outputs": [],
   "source": [
    "# Utiliser la fonction .iloc pour Afficher la première ligne avec la deuxiéme colonne\n",
    "\n",
    "print(df.iloc[0, 1])"
   ]
  },
  {
   "cell_type": "code",
   "execution_count": null,
   "id": "186e2104",
   "metadata": {
    "colab": {
     "base_uri": "https://localhost:8080/",
     "height": 225
    },
    "colab_type": "code",
    "executionInfo": {
     "elapsed": 676,
     "status": "ok",
     "timestamp": 1573431516825,
     "user": {
      "displayName": "Rajeev Ratan",
      "photoUrl": "https://lh3.googleusercontent.com/a-/AAuE7mCGo6aIm0tOcd5EhqWlYb0rime9sBvHS9YMpx0D2w=s64",
      "userId": "08597265227091462140"
     },
     "user_tz": 0
    },
    "id": "ARQy1wf5y1Xd",
    "outputId": "80c837ad-f33e-43b8-b17d-7058353d4423"
   },
   "outputs": [],
   "source": [
    "# Utiliser la fonction .iloc pour Afficher toutes les colonnes pour la première ligne\n",
    "\n",
    "print(df.iloc[0])"
   ]
  },
  {
   "cell_type": "markdown",
   "id": "c1796660",
   "metadata": {
    "colab_type": "text",
    "id": "hubbeYTJnVsl"
   },
   "source": [
    "### Note : Un objet pandas 1-Dim est une série. Un objet pandas 2-Dim est un dataframe."
   ]
  },
  {
   "cell_type": "code",
   "execution_count": null,
   "id": "a9603e9f",
   "metadata": {
    "colab": {
     "base_uri": "https://localhost:8080/",
     "height": 1000
    },
    "colab_type": "code",
    "executionInfo": {
     "elapsed": 478,
     "status": "ok",
     "timestamp": 1569753842989,
     "user": {
      "displayName": "Rajeev Ratan",
      "photoUrl": "https://lh3.googleusercontent.com/a-/AAuE7mCGo6aIm0tOcd5EhqWlYb0rime9sBvHS9YMpx0D2w=s64",
      "userId": "08597265227091462140"
     },
     "user_tz": -60
    },
    "id": "gPX6ndxH263Z",
    "outputId": "a40ad3c7-9d7c-46f9-b25d-961dd7fd162a"
   },
   "outputs": [],
   "source": [
    "# Utiliser la fonction .loc pour Afficher toutes les lignes des colonnes \"name\" et \"sex\"\n",
    "\n",
    "print(df.loc[:, 'name':'sex'])"
   ]
  },
  {
   "cell_type": "code",
   "execution_count": null,
   "id": "bd12cb09",
   "metadata": {
    "colab": {
     "base_uri": "https://localhost:8080/",
     "height": 1000
    },
    "colab_type": "code",
    "executionInfo": {
     "elapsed": 515,
     "status": "ok",
     "timestamp": 1569753893734,
     "user": {
      "displayName": "Rajeev Ratan",
      "photoUrl": "https://lh3.googleusercontent.com/a-/AAuE7mCGo6aIm0tOcd5EhqWlYb0rime9sBvHS9YMpx0D2w=s64",
      "userId": "08597265227091462140"
     },
     "user_tz": -60
    },
    "id": "MCiS9YH33if7",
    "outputId": "d7eb039a-c5e2-46ae-f28a-aca3164950a2"
   },
   "outputs": [],
   "source": [
    "# Afficher toutes les lignes des colonnes \"name\" et \"sex\" sans la fonction .loc\n",
    "\n",
    "dico = {'name' : df[:]['name'], 'sex' : df[:]['sex']}\n",
    "\n",
    "print(DF(dico))"
   ]
  },
  {
   "cell_type": "code",
   "execution_count": null,
   "id": "d57db4da",
   "metadata": {
    "colab": {
     "base_uri": "https://localhost:8080/",
     "height": 141
    },
    "colab_type": "code",
    "executionInfo": {
     "elapsed": 503,
     "status": "ok",
     "timestamp": 1573431628765,
     "user": {
      "displayName": "Rajeev Ratan",
      "photoUrl": "https://lh3.googleusercontent.com/a-/AAuE7mCGo6aIm0tOcd5EhqWlYb0rime9sBvHS9YMpx0D2w=s64",
      "userId": "08597265227091462140"
     },
     "user_tz": 0
    },
    "id": "wGdOzV-A21qr",
    "outputId": "811d1fdb-30a2-4d70-e183-8dde99dfd26d"
   },
   "outputs": [],
   "source": [
    "# Utiliser la fonction .loc pour Afficher toutes les colonnes pour les lignes 2,3 et 4\n",
    "\n",
    "print(df.loc[2:5, :])"
   ]
  },
  {
   "cell_type": "markdown",
   "id": "7df32983",
   "metadata": {
    "colab_type": "text",
    "id": "CCj9CaTUsTLf"
   },
   "source": [
    "# Opérations numériques sur les dataframes"
   ]
  },
  {
   "cell_type": "code",
   "execution_count": null,
   "id": "e9e84b1e",
   "metadata": {
    "colab": {
     "base_uri": "https://localhost:8080/",
     "height": 202
    },
    "colab_type": "code",
    "executionInfo": {
     "elapsed": 4122,
     "status": "ok",
     "timestamp": 1573431649173,
     "user": {
      "displayName": "Rajeev Ratan",
      "photoUrl": "https://lh3.googleusercontent.com/a-/AAuE7mCGo6aIm0tOcd5EhqWlYb0rime9sBvHS9YMpx0D2w=s64",
      "userId": "08597265227091462140"
     },
     "user_tz": 0
    },
    "id": "Voa0JqhRsba6",
    "outputId": "a29abd78-0a22-4563-c061-f1866f8c11e6"
   },
   "outputs": [],
   "source": [
    "# Contruire une dataframe 'simple_df' contenant deux colonnes 'a' et 'b' et 5 lignes \n",
    "#'a': [1,2,3,4,5],'b': [5, 15, 10, 20, 15]\n",
    "\n",
    "dico = {'a': [1,2,3,4,5],'b': [5, 15, 10, 20, 15]}\n",
    "\n",
    "simple_df = DF(dico)"
   ]
  },
  {
   "cell_type": "code",
   "execution_count": null,
   "id": "e42042e8",
   "metadata": {
    "colab": {
     "base_uri": "https://localhost:8080/",
     "height": 121
    },
    "colab_type": "code",
    "executionInfo": {
     "elapsed": 898,
     "status": "ok",
     "timestamp": 1573431684061,
     "user": {
      "displayName": "Rajeev Ratan",
      "photoUrl": "https://lh3.googleusercontent.com/a-/AAuE7mCGo6aIm0tOcd5EhqWlYb0rime9sBvHS9YMpx0D2w=s64",
      "userId": "08597265227091462140"
     },
     "user_tz": 0
    },
    "id": "FmkMRR5YsU2Y",
    "outputId": "6a19dc40-cf70-4b3e-96c3-4c4b7c737841"
   },
   "outputs": [],
   "source": [
    "# mettre la colonne 'a' du dataframe dans une variable appelée a\n",
    "\n",
    "a = simple_df.loc[:, 'a']"
   ]
  },
  {
   "cell_type": "code",
   "execution_count": null,
   "id": "92aed0ba",
   "metadata": {
    "colab": {
     "base_uri": "https://localhost:8080/",
     "height": 121
    },
    "colab_type": "code",
    "executionInfo": {
     "elapsed": 426,
     "status": "ok",
     "timestamp": 1573431687821,
     "user": {
      "displayName": "Rajeev Ratan",
      "photoUrl": "https://lh3.googleusercontent.com/a-/AAuE7mCGo6aIm0tOcd5EhqWlYb0rime9sBvHS9YMpx0D2w=s64",
      "userId": "08597265227091462140"
     },
     "user_tz": 0
    },
    "id": "IZstqNbMqJfq",
    "outputId": "6f15b040-6ba7-4183-de18-185e3599a7df"
   },
   "outputs": [],
   "source": [
    "# mettre la colonne 'b' du dataframe dans une variable appelée b\n",
    "\n",
    "b = simple_df.loc[:, 'b']"
   ]
  },
  {
   "cell_type": "code",
   "execution_count": null,
   "id": "895c92f4",
   "metadata": {
    "colab": {
     "base_uri": "https://localhost:8080/",
     "height": 121
    },
    "colab_type": "code",
    "executionInfo": {
     "elapsed": 433,
     "status": "ok",
     "timestamp": 1573431695447,
     "user": {
      "displayName": "Rajeev Ratan",
      "photoUrl": "https://lh3.googleusercontent.com/a-/AAuE7mCGo6aIm0tOcd5EhqWlYb0rime9sBvHS9YMpx0D2w=s64",
      "userId": "08597265227091462140"
     },
     "user_tz": 0
    },
    "id": "MAX4C8G3s3E4",
    "outputId": "46993536-b024-4653-fdf7-2280ac5b10a1"
   },
   "outputs": [],
   "source": [
    "# Calculer 'c' la somme de a et b\n",
    "\n",
    "simple_df['c'] = simple_df['a'] + simple_df['b']"
   ]
  },
  {
   "cell_type": "markdown",
   "id": "7e1fa313",
   "metadata": {
    "colab_type": "text",
    "id": "cd98wSq4s9Xf"
   },
   "source": [
    "# Descriptives Statistiques sur les dataframes"
   ]
  },
  {
   "cell_type": "code",
   "execution_count": null,
   "id": "4a1e8cf6",
   "metadata": {
    "colab": {
     "base_uri": "https://localhost:8080/",
     "height": 35
    },
    "colab_type": "code",
    "executionInfo": {
     "elapsed": 419,
     "status": "ok",
     "timestamp": 1573431711734,
     "user": {
      "displayName": "Rajeev Ratan",
      "photoUrl": "https://lh3.googleusercontent.com/a-/AAuE7mCGo6aIm0tOcd5EhqWlYb0rime9sBvHS9YMpx0D2w=s64",
      "userId": "08597265227091462140"
     },
     "user_tz": 0
    },
    "id": "YlDVd5Oos_Sp",
    "outputId": "9b0e2ea0-e713-4fac-89ad-900dc375c19b"
   },
   "outputs": [],
   "source": [
    "# Afficher le max de 'a'\n",
    "\n",
    "print(S.max(a))"
   ]
  },
  {
   "cell_type": "code",
   "execution_count": null,
   "id": "c363fa26",
   "metadata": {
    "colab": {
     "base_uri": "https://localhost:8080/",
     "height": 35
    },
    "colab_type": "code",
    "executionInfo": {
     "elapsed": 438,
     "status": "ok",
     "timestamp": 1573431842502,
     "user": {
      "displayName": "Rajeev Ratan",
      "photoUrl": "https://lh3.googleusercontent.com/a-/AAuE7mCGo6aIm0tOcd5EhqWlYb0rime9sBvHS9YMpx0D2w=s64",
      "userId": "08597265227091462140"
     },
     "user_tz": 0
    },
    "id": "WoW95Mw1tB1Q",
    "outputId": "77c7d9e8-9be3-4088-cd0c-326f58c03264"
   },
   "outputs": [],
   "source": [
    "# Afficher le min de 'a'\n",
    "\n",
    "print(S.min(a))"
   ]
  },
  {
   "cell_type": "code",
   "execution_count": null,
   "id": "721b60b5",
   "metadata": {
    "colab": {
     "base_uri": "https://localhost:8080/",
     "height": 35
    },
    "colab_type": "code",
    "executionInfo": {
     "elapsed": 610,
     "status": "ok",
     "timestamp": 1573431843266,
     "user": {
      "displayName": "Rajeev Ratan",
      "photoUrl": "https://lh3.googleusercontent.com/a-/AAuE7mCGo6aIm0tOcd5EhqWlYb0rime9sBvHS9YMpx0D2w=s64",
      "userId": "08597265227091462140"
     },
     "user_tz": 0
    },
    "id": "wjCL4-EqtC_J",
    "outputId": "1b345ffb-9c77-48df-b728-c3b046c74a11"
   },
   "outputs": [],
   "source": [
    "# Afficher la moyenne de 'a'\n",
    "\n",
    "print(S.mean(a))"
   ]
  },
  {
   "cell_type": "code",
   "execution_count": null,
   "id": "473a152f",
   "metadata": {
    "colab": {
     "base_uri": "https://localhost:8080/",
     "height": 35
    },
    "colab_type": "code",
    "executionInfo": {
     "elapsed": 414,
     "status": "ok",
     "timestamp": 1573431843571,
     "user": {
      "displayName": "Rajeev Ratan",
      "photoUrl": "https://lh3.googleusercontent.com/a-/AAuE7mCGo6aIm0tOcd5EhqWlYb0rime9sBvHS9YMpx0D2w=s64",
      "userId": "08597265227091462140"
     },
     "user_tz": 0
    },
    "id": "6xplZqMptEBx",
    "outputId": "a73195ca-9bbd-4270-f42c-f21b0040e57c"
   },
   "outputs": [],
   "source": [
    "# Afficher la median de 'a'\n",
    "\n",
    "print(S.median(a))"
   ]
  },
  {
   "cell_type": "code",
   "execution_count": null,
   "id": "ef2fd256",
   "metadata": {
    "colab": {
     "base_uri": "https://localhost:8080/",
     "height": 35
    },
    "colab_type": "code",
    "executionInfo": {
     "elapsed": 407,
     "status": "ok",
     "timestamp": 1573431867448,
     "user": {
      "displayName": "Rajeev Ratan",
      "photoUrl": "https://lh3.googleusercontent.com/a-/AAuE7mCGo6aIm0tOcd5EhqWlYb0rime9sBvHS9YMpx0D2w=s64",
      "userId": "08597265227091462140"
     },
     "user_tz": 0
    },
    "id": "laSD7eMbtHvk",
    "outputId": "76a9ebc4-d047-4f49-d30e-959373376cb4"
   },
   "outputs": [],
   "source": [
    "# Calculer la somme de 'b'\n",
    "\n",
    "print(S.sum(b))"
   ]
  },
  {
   "cell_type": "code",
   "execution_count": null,
   "id": "b0657d5e",
   "metadata": {
    "colab": {
     "base_uri": "https://localhost:8080/",
     "height": 121
    },
    "colab_type": "code",
    "executionInfo": {
     "elapsed": 547,
     "status": "ok",
     "timestamp": 1573431870181,
     "user": {
      "displayName": "Rajeev Ratan",
      "photoUrl": "https://lh3.googleusercontent.com/a-/AAuE7mCGo6aIm0tOcd5EhqWlYb0rime9sBvHS9YMpx0D2w=s64",
      "userId": "08597265227091462140"
     },
     "user_tz": 0
    },
    "id": "v8TSJjnQ2PWe",
    "outputId": "b14b0c11-a19c-42ab-dad3-b8cc36fc697b"
   },
   "outputs": [],
   "source": [
    "# Afficher 'b'\n",
    "\n",
    "print(b)"
   ]
  },
  {
   "cell_type": "code",
   "execution_count": null,
   "id": "e4f7020d",
   "metadata": {
    "colab": {
     "base_uri": "https://localhost:8080/",
     "height": 104
    },
    "colab_type": "code",
    "executionInfo": {
     "elapsed": 701,
     "status": "ok",
     "timestamp": 1573431880403,
     "user": {
      "displayName": "Rajeev Ratan",
      "photoUrl": "https://lh3.googleusercontent.com/a-/AAuE7mCGo6aIm0tOcd5EhqWlYb0rime9sBvHS9YMpx0D2w=s64",
      "userId": "08597265227091462140"
     },
     "user_tz": 0
    },
    "id": "-im7vmeqtJCe",
    "outputId": "0d1b1577-7335-4fb1-b133-5c236a2b8c19"
   },
   "outputs": [],
   "source": [
    "# Compter le nombre d'appartenances de chaque numéro dans 'b'\n",
    "\n",
    "print(S.value_counts(b))"
   ]
  },
  {
   "cell_type": "code",
   "execution_count": null,
   "id": "69dcb22c",
   "metadata": {
    "colab": {
     "base_uri": "https://localhost:8080/",
     "height": 173
    },
    "colab_type": "code",
    "executionInfo": {
     "elapsed": 500,
     "status": "ok",
     "timestamp": 1573431892778,
     "user": {
      "displayName": "Rajeev Ratan",
      "photoUrl": "https://lh3.googleusercontent.com/a-/AAuE7mCGo6aIm0tOcd5EhqWlYb0rime9sBvHS9YMpx0D2w=s64",
      "userId": "08597265227091462140"
     },
     "user_tz": 0
    },
    "id": "p6Rbzi2btK5C",
    "outputId": "6895a061-339b-4bc0-ec7b-28e3ba5c5928"
   },
   "outputs": [],
   "source": [
    "# Explorer le dataframe 'b' à l'aide d'un résumer statistiques\n",
    "\n",
    "b.describe()"
   ]
  },
  {
   "cell_type": "code",
   "execution_count": null,
   "id": "9bb6af59",
   "metadata": {
    "colab": {
     "base_uri": "https://localhost:8080/",
     "height": 104
    },
    "colab_type": "code",
    "executionInfo": {
     "elapsed": 1077,
     "status": "ok",
     "timestamp": 1573432126258,
     "user": {
      "displayName": "Rajeev Ratan",
      "photoUrl": "https://lh3.googleusercontent.com/a-/AAuE7mCGo6aIm0tOcd5EhqWlYb0rime9sBvHS9YMpx0D2w=s64",
      "userId": "08597265227091462140"
     },
     "user_tz": 0
    },
    "id": "WRm95OKftcdY",
    "outputId": "40c3e7e7-befb-4b52-d94e-16bb35c39c3f"
   },
   "outputs": [],
   "source": [
    "# Afficher les informations fondamentales de la colonne 'sex' du datframe 'df'\n",
    "df['sex'].info()\n",
    "print(\"\\n\")\n",
    "# count - nombre de lignes ou de valeurs dans cette colonne\n",
    "print(df['sex'].count())\n",
    "print(\"\\n\")\n",
    "# unique - nombre de catégories uniques dans la colonne\n",
    "print(df['sex'].unique())\n",
    "print(\"\\n\")\n",
    "# top - catégorie la plus peuplée\n",
    "print(df['sex'].mode())\n",
    "print(\"\\n\")\n",
    "# freq - compte de la catégorie la plus populaire\n",
    "print(df['sex'].value_counts()[0])"
   ]
  },
  {
   "cell_type": "code",
   "execution_count": null,
   "id": "65bc73c5",
   "metadata": {
    "colab": {
     "base_uri": "https://localhost:8080/",
     "height": 35
    },
    "colab_type": "code",
    "executionInfo": {
     "elapsed": 987,
     "status": "ok",
     "timestamp": 1573432162380,
     "user": {
      "displayName": "Rajeev Ratan",
      "photoUrl": "https://lh3.googleusercontent.com/a-/AAuE7mCGo6aIm0tOcd5EhqWlYb0rime9sBvHS9YMpx0D2w=s64",
      "userId": "08597265227091462140"
     },
     "user_tz": 0
    },
    "id": "HoqBX4hluJok",
    "outputId": "59ef56a6-a82f-434c-d69e-0b31c2439e59"
   },
   "outputs": [],
   "source": [
    "# Afficher les valeurs existantes de la colonne 'pclass' du dataframe df\n",
    "\n",
    "df['pclass']"
   ]
  },
  {
   "cell_type": "code",
   "execution_count": null,
   "id": "81567019",
   "metadata": {
    "colab": {
     "base_uri": "https://localhost:8080/",
     "height": 69
    },
    "colab_type": "code",
    "executionInfo": {
     "elapsed": 983,
     "status": "ok",
     "timestamp": 1573432175182,
     "user": {
      "displayName": "Rajeev Ratan",
      "photoUrl": "https://lh3.googleusercontent.com/a-/AAuE7mCGo6aIm0tOcd5EhqWlYb0rime9sBvHS9YMpx0D2w=s64",
      "userId": "08597265227091462140"
     },
     "user_tz": 0
    },
    "id": "Oyr6L0mXwOz8",
    "outputId": "1d78df28-82a1-4469-e21e-18591f872dbd"
   },
   "outputs": [],
   "source": [
    "# Afficher les moyennes des deux colonnes 'fare' et 'age' du dataframe 'df'\n",
    "\n",
    "print(f\"Moyenne de 'fare': {S.mean(df['fare'])} \\nMoyenne de 'age': {S.mean(df['age'])}\")"
   ]
  },
  {
   "cell_type": "markdown",
   "id": "980d3e98",
   "metadata": {},
   "source": [
    "### Visualizing Axis\n",
    "```\n",
    "+------------+---------+--------+\n",
    "|            |  A      |  B     |\n",
    "+------------+---------+---------\n",
    "|      0     | 10      | 15     |----axis=1----->\n",
    "+------------+---------+--------+\n",
    "             |         |\n",
    "             | axis=0  |\n",
    "             ↓         ↓\n",
    "```\n",
    "\n"
   ]
  },
  {
   "cell_type": "code",
   "execution_count": null,
   "id": "1003069f",
   "metadata": {
    "colab": {
     "base_uri": "https://localhost:8080/",
     "height": 69
    },
    "colab_type": "code",
    "executionInfo": {
     "elapsed": 503,
     "status": "ok",
     "timestamp": 1569756238999,
     "user": {
      "displayName": "Rajeev Ratan",
      "photoUrl": "https://lh3.googleusercontent.com/a-/AAuE7mCGo6aIm0tOcd5EhqWlYb0rime9sBvHS9YMpx0D2w=s64",
      "userId": "08597265227091462140"
     },
     "user_tz": -60
    },
    "id": "RO0PKSaYwM7a",
    "outputId": "0dc4f59f-12e2-4a49-c057-0ed2c9ee46b0"
   },
   "outputs": [],
   "source": [
    "# Afficher les moyennes des deux colonnes 'fare' et 'age' du dataframe 'df' en spécifiant axe = 0\n",
    "\n",
    "print(f\"Moyenne de 'fare': {S.mean(df['fare'], axis = 0)} \\nMoyenne de 'age': {S.mean(df['age'], axis = 0)}\")"
   ]
  },
  {
   "cell_type": "code",
   "execution_count": null,
   "id": "6241e16a",
   "metadata": {
    "colab": {
     "base_uri": "https://localhost:8080/",
     "height": 225
    },
    "colab_type": "code",
    "executionInfo": {
     "elapsed": 505,
     "status": "ok",
     "timestamp": 1573432225575,
     "user": {
      "displayName": "Rajeev Ratan",
      "photoUrl": "https://lh3.googleusercontent.com/a-/AAuE7mCGo6aIm0tOcd5EhqWlYb0rime9sBvHS9YMpx0D2w=s64",
      "userId": "08597265227091462140"
     },
     "user_tz": 0
    },
    "id": "0rC0Zprrw1Iw",
    "outputId": "28474bd0-4188-41ea-9ce0-ec1cc33c5559"
   },
   "outputs": [],
   "source": [
    "# Afficher les moyennes des deux colonnes 'fare' et 'age' du dataframe 'df' en spécifiant axe = 1\n",
    "\n",
    "try:\n",
    "    print(f\"Moyenne de 'fare': {S.mean(df['fare'], axis = 1)} \\nMoyenne de 'age': {S.mean(df['age'], axis = 1)}\")\n",
    "except ValueError:\n",
    "    print(\"axe invalide\")"
   ]
  },
  {
   "cell_type": "code",
   "execution_count": null,
   "id": "529cf648",
   "metadata": {
    "colab": {
     "base_uri": "https://localhost:8080/",
     "height": 139
    },
    "colab_type": "code",
    "executionInfo": {
     "elapsed": 659,
     "status": "ok",
     "timestamp": 1573432353778,
     "user": {
      "displayName": "Rajeev Ratan",
      "photoUrl": "https://lh3.googleusercontent.com/a-/AAuE7mCGo6aIm0tOcd5EhqWlYb0rime9sBvHS9YMpx0D2w=s64",
      "userId": "08597265227091462140"
     },
     "user_tz": 0
    },
    "id": "ZSTgnbpOw6mq",
    "outputId": "2bef54b0-98d4-4722-b769-4738b6081008"
   },
   "outputs": [],
   "source": [
    "# Afficher les moyennes des colonnes du 'df' on appliquant 'numeric_only=True'\n",
    "\n",
    "print(DF.mean(df, numeric_only = True))"
   ]
  },
  {
   "cell_type": "markdown",
   "id": "0ffce1b9",
   "metadata": {
    "colab_type": "text",
    "id": "RJM-FBvsxUez"
   },
   "source": [
    "# Filtrage à l'aide d'opérations booléennes"
   ]
  },
  {
   "cell_type": "code",
   "execution_count": null,
   "id": "5ddfb850",
   "metadata": {
    "colab": {
     "base_uri": "https://localhost:8080/",
     "height": 1000
    },
    "colab_type": "code",
    "executionInfo": {
     "elapsed": 499,
     "status": "ok",
     "timestamp": 1569756400538,
     "user": {
      "displayName": "Rajeev Ratan",
      "photoUrl": "https://lh3.googleusercontent.com/a-/AAuE7mCGo6aIm0tOcd5EhqWlYb0rime9sBvHS9YMpx0D2w=s64",
      "userId": "08597265227091462140"
     },
     "user_tz": -60
    },
    "id": "SQmdOc-KxXqJ",
    "outputId": "88148b06-3223-4bbd-d19a-15e300ee365a"
   },
   "outputs": [],
   "source": [
    "# Afficher l'indice des lignes du dataframe où 'pclass' est égal à 1.\n",
    "\n",
    "df['pclass'] == 1"
   ]
  },
  {
   "cell_type": "code",
   "execution_count": null,
   "id": "a7d665c0",
   "metadata": {
    "colab": {
     "base_uri": "https://localhost:8080/",
     "height": 225
    },
    "colab_type": "code",
    "executionInfo": {
     "elapsed": 515,
     "status": "ok",
     "timestamp": 1573432600309,
     "user": {
      "displayName": "Rajeev Ratan",
      "photoUrl": "https://lh3.googleusercontent.com/a-/AAuE7mCGo6aIm0tOcd5EhqWlYb0rime9sBvHS9YMpx0D2w=s64",
      "userId": "08597265227091462140"
     },
     "user_tz": 0
    },
    "id": "-l7vqfaKxck4",
    "outputId": "6a1ae86f-cec9-4f4b-f1a4-e472df7c8d30"
   },
   "outputs": [],
   "source": [
    "# Afficher l'indice des lignes du dataframe où 'age' supérieur à 70\n",
    "\n",
    "df['age'] > 70"
   ]
  },
  {
   "cell_type": "code",
   "execution_count": null,
   "id": "5665b088",
   "metadata": {
    "colab": {
     "base_uri": "https://localhost:8080/",
     "height": 233
    },
    "colab_type": "code",
    "executionInfo": {
     "elapsed": 555,
     "status": "ok",
     "timestamp": 1573432647388,
     "user": {
      "displayName": "Rajeev Ratan",
      "photoUrl": "https://lh3.googleusercontent.com/a-/AAuE7mCGo6aIm0tOcd5EhqWlYb0rime9sBvHS9YMpx0D2w=s64",
      "userId": "08597265227091462140"
     },
     "user_tz": 0
    },
    "id": "YCcIX4dAxhJA",
    "outputId": "7174b7b2-9cbf-464e-e8d2-5f9e8caa0d9c"
   },
   "outputs": [],
   "source": [
    "# Afficher tout le dataframe df où 'age' supérieur à 70\n",
    "\n",
    "df[df['age'] > 70]"
   ]
  },
  {
   "cell_type": "code",
   "execution_count": null,
   "id": "fc9e647f",
   "metadata": {
    "colab": {
     "base_uri": "https://localhost:8080/",
     "height": 79
    },
    "colab_type": "code",
    "executionInfo": {
     "elapsed": 471,
     "status": "ok",
     "timestamp": 1569756574500,
     "user": {
      "displayName": "Rajeev Ratan",
      "photoUrl": "https://lh3.googleusercontent.com/a-/AAuE7mCGo6aIm0tOcd5EhqWlYb0rime9sBvHS9YMpx0D2w=s64",
      "userId": "08597265227091462140"
     },
     "user_tz": -60
    },
    "id": "7RCfpw3MxEj9",
    "outputId": "072a750f-411f-4304-9c83-edcc88776b8a"
   },
   "outputs": [],
   "source": [
    "# Afficher la ligne du 'df' où 'name' égale à 'Barkworth, Mr. Algernon Henry Wilson'\n",
    "\n",
    "df[df['name'] == \"Barkworth, Mr. Algernon Henry Wilson\"]"
   ]
  },
  {
   "cell_type": "markdown",
   "id": "9c3a7c01",
   "metadata": {
    "colab_type": "text",
    "id": "_8YaBz8_zQ6A"
   },
   "source": [
    "# Trouver les cellules vides "
   ]
  },
  {
   "cell_type": "code",
   "execution_count": null,
   "id": "98dfb441",
   "metadata": {
    "colab": {
     "base_uri": "https://localhost:8080/",
     "height": 415
    },
    "colab_type": "code",
    "executionInfo": {
     "elapsed": 533,
     "status": "ok",
     "timestamp": 1573432698185,
     "user": {
      "displayName": "Rajeev Ratan",
      "photoUrl": "https://lh3.googleusercontent.com/a-/AAuE7mCGo6aIm0tOcd5EhqWlYb0rime9sBvHS9YMpx0D2w=s64",
      "userId": "08597265227091462140"
     },
     "user_tz": 0
    },
    "id": "TCbmcZytyHDM",
    "outputId": "51e2891f-b672-47b1-d600-23cc33ce8597"
   },
   "outputs": [],
   "source": [
    "# Afficher le dataframe boléen du 'df' où les valeurs manquantes sont true et existantes sont false\n",
    "\n",
    "df.isna()"
   ]
  },
  {
   "cell_type": "code",
   "execution_count": null,
   "id": "f1d6cf8c",
   "metadata": {
    "colab": {
     "base_uri": "https://localhost:8080/",
     "height": 225
    },
    "colab_type": "code",
    "executionInfo": {
     "elapsed": 523,
     "status": "ok",
     "timestamp": 1573432709540,
     "user": {
      "displayName": "Rajeev Ratan",
      "photoUrl": "https://lh3.googleusercontent.com/a-/AAuE7mCGo6aIm0tOcd5EhqWlYb0rime9sBvHS9YMpx0D2w=s64",
      "userId": "08597265227091462140"
     },
     "user_tz": 0
    },
    "id": "VzdcMp4KzN6P",
    "outputId": "1bc4907c-5c7c-4da1-b529-6607087bb11c"
   },
   "outputs": [],
   "source": [
    "# Montrer les valeurs manquantes de la colonne 'cabin'\n",
    "\n",
    "df[df['cabin'].isna()]"
   ]
  },
  {
   "cell_type": "code",
   "execution_count": null,
   "id": "1da5c1fa",
   "metadata": {
    "colab": {
     "base_uri": "https://localhost:8080/",
     "height": 415
    },
    "colab_type": "code",
    "executionInfo": {
     "elapsed": 598,
     "status": "ok",
     "timestamp": 1573432729220,
     "user": {
      "displayName": "Rajeev Ratan",
      "photoUrl": "https://lh3.googleusercontent.com/a-/AAuE7mCGo6aIm0tOcd5EhqWlYb0rime9sBvHS9YMpx0D2w=s64",
      "userId": "08597265227091462140"
     },
     "user_tz": 0
    },
    "id": "CoJbPR_1zbd0",
    "outputId": "fc8375d2-16c6-438a-dd94-d3f3195587e2"
   },
   "outputs": [],
   "source": [
    "# Afficher le dataframe df sans les valeurs manquantes de la colonne 'cabin'\n",
    "\n",
    "df[df['cabin'].notna()]"
   ]
  }
 ],
 "metadata": {
  "kernelspec": {
   "display_name": "Python 3 (ipykernel)",
   "language": "python",
   "name": "python3"
  },
  "language_info": {
   "codemirror_mode": {
    "name": "ipython",
    "version": 3
   },
   "file_extension": ".py",
   "mimetype": "text/x-python",
   "name": "python",
   "nbconvert_exporter": "python",
   "pygments_lexer": "ipython3",
   "version": "3.9.13"
  }
 },
 "nbformat": 4,
 "nbformat_minor": 5
}
