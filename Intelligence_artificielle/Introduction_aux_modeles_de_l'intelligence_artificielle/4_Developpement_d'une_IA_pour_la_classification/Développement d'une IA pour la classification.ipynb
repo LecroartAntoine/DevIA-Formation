{
 "cells": [
  {
   "cell_type": "markdown",
   "id": "d64a369a",
   "metadata": {
    "colab_type": "text",
    "id": "o1yU4bjMVFYP"
   },
   "source": [
    "# Problème de classification 1 - Déterminer quels employés peuvent démissionner\n",
    "### Chargement de nos principaux enregistrements de base de données RH"
   ]
  },
  {
   "cell_type": "code",
   "execution_count": null,
   "id": "f0189b40",
   "metadata": {
    "colab": {
     "base_uri": "https://localhost:8080/",
     "height": 200
    },
    "colab_type": "code",
    "executionInfo": {
     "elapsed": 7901,
     "status": "ok",
     "timestamp": 1582032173592,
     "user": {
      "displayName": "Rajeev Ratan",
      "photoUrl": "https://lh3.googleusercontent.com/a-/AAuE7mCGo6aIm0tOcd5EhqWlYb0rime9sBvHS9YMpx0D2w=s64",
      "userId": "08597265227091462140"
     },
     "user_tz": 240
    },
    "id": "tP4HgyJVVFYS",
    "outputId": "a8c15d00-fabe-4a36-8667-363491bcd3a0",
    "scrolled": true
   },
   "outputs": [],
   "source": [
    "import pandas as pd\n",
    "import numpy as np\n",
    "import seaborn as sns\n",
    "import matplotlib.pyplot as plt\n",
    "\n",
    "file_name = \"https://raw.githubusercontent.com/rajeevratan84/datascienceforbusiness/master/hr_data.csv\"\n",
    "hr_df = pd.read_csv(file_name)\n"
   ]
  },
  {
   "cell_type": "code",
   "execution_count": null,
   "id": "3930383c",
   "metadata": {
    "colab": {
     "base_uri": "https://localhost:8080/",
     "height": 200
    },
    "colab_type": "code",
    "executionInfo": {
     "elapsed": 7882,
     "status": "ok",
     "timestamp": 1582032173595,
     "user": {
      "displayName": "Rajeev Ratan",
      "photoUrl": "https://lh3.googleusercontent.com/a-/AAuE7mCGo6aIm0tOcd5EhqWlYb0rime9sBvHS9YMpx0D2w=s64",
      "userId": "08597265227091462140"
     },
     "user_tz": 240
    },
    "id": "QPzmu708WWhl",
    "outputId": "bc19950d-9243-42c5-8f65-a0bf3638ecc4"
   },
   "outputs": [],
   "source": [
    "# Afficher les 10 premières lignes de notre dataframe \"hr_df\"\n",
    "\n",
    "display(hr_df.head(10))\n",
    "\n",
    "# Afficher les 5 dernières lignes de notre dataframe \"hr_df\"\n",
    "\n",
    "display(hr_df.tail())"
   ]
  },
  {
   "cell_type": "code",
   "execution_count": null,
   "id": "eea93820",
   "metadata": {
    "colab": {
     "base_uri": "https://localhost:8080/",
     "height": 266
    },
    "colab_type": "code",
    "executionInfo": {
     "elapsed": 7865,
     "status": "ok",
     "timestamp": 1582032173596,
     "user": {
      "displayName": "Rajeev Ratan",
      "photoUrl": "https://lh3.googleusercontent.com/a-/AAuE7mCGo6aIm0tOcd5EhqWlYb0rime9sBvHS9YMpx0D2w=s64",
      "userId": "08597265227091462140"
     },
     "user_tz": 240
    },
    "id": "ejatsdkCYTOk",
    "outputId": "4c62738a-e78f-4be6-c483-94283125c52c"
   },
   "outputs": [],
   "source": [
    "# Afficher des informations générales de notre dataframe \"hr_df\"\n",
    "\n",
    "hr_df.info()"
   ]
  },
  {
   "cell_type": "code",
   "execution_count": null,
   "id": "f33716e9",
   "metadata": {
    "colab": {
     "base_uri": "https://localhost:8080/",
     "height": 35
    },
    "colab_type": "code",
    "executionInfo": {
     "elapsed": 7853,
     "status": "ok",
     "timestamp": 1582032173597,
     "user": {
      "displayName": "Rajeev Ratan",
      "photoUrl": "https://lh3.googleusercontent.com/a-/AAuE7mCGo6aIm0tOcd5EhqWlYb0rime9sBvHS9YMpx0D2w=s64",
      "userId": "08597265227091462140"
     },
     "user_tz": 240
    },
    "id": "gPjh1ep8XCcd",
    "outputId": "2def1bca-575d-4b77-8624-b97f32a19dfb"
   },
   "outputs": [],
   "source": [
    "# Voir quelles colonnes sont catégorielles\n",
    "\n",
    "hr_df.select_dtypes(include = 'object')"
   ]
  },
  {
   "cell_type": "code",
   "execution_count": null,
   "id": "2efd3d11",
   "metadata": {
    "colab": {
     "base_uri": "https://localhost:8080/",
     "height": 70
    },
    "colab_type": "code",
    "executionInfo": {
     "elapsed": 7839,
     "status": "ok",
     "timestamp": 1582032173598,
     "user": {
      "displayName": "Rajeev Ratan",
      "photoUrl": "https://lh3.googleusercontent.com/a-/AAuE7mCGo6aIm0tOcd5EhqWlYb0rime9sBvHS9YMpx0D2w=s64",
      "userId": "08597265227091462140"
     },
     "user_tz": 240
    },
    "id": "xzpAD1gAXJm2",
    "outputId": "4c33979a-fd6d-4824-e2ff-074be892d6aa"
   },
   "outputs": [],
   "source": [
    "# Afficher les valeurs existantes dans les colonnes catégorielles\n",
    "\n",
    "for i in hr_df.select_dtypes(include = 'object'):\n",
    "    print(hr_df[i].unique())\n"
   ]
  },
  {
   "cell_type": "code",
   "execution_count": null,
   "id": "bd7579ce",
   "metadata": {
    "colab": {
     "base_uri": "https://localhost:8080/",
     "height": 35
    },
    "colab_type": "code",
    "executionInfo": {
     "elapsed": 7829,
     "status": "ok",
     "timestamp": 1582032173600,
     "user": {
      "displayName": "Rajeev Ratan",
      "photoUrl": "https://lh3.googleusercontent.com/a-/AAuE7mCGo6aIm0tOcd5EhqWlYb0rime9sBvHS9YMpx0D2w=s64",
      "userId": "08597265227091462140"
     },
     "user_tz": 240
    },
    "id": "YuNe-gbeVFYZ",
    "outputId": "f85a4b65-cbbe-4e6b-a7c9-33d9da78f886"
   },
   "outputs": [],
   "source": [
    "# Combien y a-t-il de lignes et de colonnes dans notre jeu de données \"hr_df\" ?\n",
    "\n",
    "hr_df.shape"
   ]
  },
  {
   "cell_type": "markdown",
   "id": "33b6fd9c",
   "metadata": {
    "colab_type": "text",
    "id": "w7RvpiotVFYl"
   },
   "source": [
    "### Chargement de nos données d'évaluation et de satisfaction des employés"
   ]
  },
  {
   "cell_type": "code",
   "execution_count": null,
   "id": "7b2f3bb3",
   "metadata": {
    "colab": {
     "base_uri": "https://localhost:8080/",
     "height": 200
    },
    "colab_type": "code",
    "executionInfo": {
     "elapsed": 8334,
     "status": "ok",
     "timestamp": 1582032174162,
     "user": {
      "displayName": "Rajeev Ratan",
      "photoUrl": "https://lh3.googleusercontent.com/a-/AAuE7mCGo6aIm0tOcd5EhqWlYb0rime9sBvHS9YMpx0D2w=s64",
      "userId": "08597265227091462140"
     },
     "user_tz": 240
    },
    "id": "IB8Wuy0hVFYl",
    "outputId": "a80ac0e5-b9c1-4a32-d91f-a5b34204e720"
   },
   "outputs": [],
   "source": [
    "file_name = \"https://raw.githubusercontent.com/rajeevratan84/datascienceforbusiness/master/employee_satisfaction_evaluation.xlsx\"\n",
    "emp_satis_eval = pd.read_excel(file_name)\n",
    "\n",
    "emp_satis_eval.head()"
   ]
  },
  {
   "cell_type": "code",
   "execution_count": null,
   "id": "653cebfe",
   "metadata": {
    "colab": {
     "base_uri": "https://localhost:8080/",
     "height": 35
    },
    "colab_type": "code",
    "executionInfo": {
     "elapsed": 8318,
     "status": "ok",
     "timestamp": 1582032174164,
     "user": {
      "displayName": "Rajeev Ratan",
      "photoUrl": "https://lh3.googleusercontent.com/a-/AAuE7mCGo6aIm0tOcd5EhqWlYb0rime9sBvHS9YMpx0D2w=s64",
      "userId": "08597265227091462140"
     },
     "user_tz": 240
    },
    "id": "yGKsELd6ZAPH",
    "outputId": "674e722a-0583-4125-c928-d2ca8e7c390a"
   },
   "outputs": [],
   "source": [
    "# Combien y a-t-il de lignes et de colonnes dans le jeu de données \"emp_satis_eval\" ?\n",
    "\n",
    "emp_satis_eval.shape"
   ]
  },
  {
   "cell_type": "markdown",
   "id": "747029b3",
   "metadata": {
    "colab_type": "text",
    "id": "uxZ5oWhTVFYq"
   },
   "source": [
    "### Fusionner ou joindre des tables"
   ]
  },
  {
   "cell_type": "code",
   "execution_count": null,
   "id": "34655e5d",
   "metadata": {
    "colab": {
     "base_uri": "https://localhost:8080/",
     "height": 200
    },
    "colab_type": "code",
    "executionInfo": {
     "elapsed": 8292,
     "status": "ok",
     "timestamp": 1582032174166,
     "user": {
      "displayName": "Rajeev Ratan",
      "photoUrl": "https://lh3.googleusercontent.com/a-/AAuE7mCGo6aIm0tOcd5EhqWlYb0rime9sBvHS9YMpx0D2w=s64",
      "userId": "08597265227091462140"
     },
     "user_tz": 240
    },
    "id": "zBb3mz5dVFYr",
    "outputId": "7aad5487-cd41-4073-e674-1c1a9d81e8df"
   },
   "outputs": [],
   "source": [
    "# Fusionnez les deux dataframes (hr_df et emp_satis_eval), le nom du nouveau dataframe est \"main_df\" et n'oubliez pas de réinitialiser son index\n",
    "\n",
    "main_df = pd.merge(hr_df, emp_satis_eval.drop('EMPLOYEE #', axis = 1), left_index = True, right_index=True)\n",
    "\n",
    "\n",
    "# Affichez les 5 premières lignes du dataframe \"main_df\" pour vérifier la bonne fusion\n",
    "\n",
    "main_df.head()"
   ]
  },
  {
   "cell_type": "code",
   "execution_count": null,
   "id": "e10976ad",
   "metadata": {
    "colab": {
     "base_uri": "https://localhost:8080/",
     "height": 1000
    },
    "colab_type": "code",
    "executionInfo": {
     "elapsed": 8263,
     "status": "ok",
     "timestamp": 1582032174167,
     "user": {
      "displayName": "Rajeev Ratan",
      "photoUrl": "https://lh3.googleusercontent.com/a-/AAuE7mCGo6aIm0tOcd5EhqWlYb0rime9sBvHS9YMpx0D2w=s64",
      "userId": "08597265227091462140"
     },
     "user_tz": 240
    },
    "id": "iHFImujqVFYu",
    "outputId": "a617f1ed-be33-413d-89c1-7f24adeea388"
   },
   "outputs": [],
   "source": [
    "# Découvrez s'il y a des valeurs manquantes ou non dans notre dataframe\n",
    "\n",
    "print(main_df.isnull().sum())"
   ]
  },
  {
   "cell_type": "code",
   "execution_count": null,
   "id": "72beedc8",
   "metadata": {
    "colab": {
     "base_uri": "https://localhost:8080/",
     "height": 291
    },
    "colab_type": "code",
    "executionInfo": {
     "elapsed": 8243,
     "status": "ok",
     "timestamp": 1582032174169,
     "user": {
      "displayName": "Rajeev Ratan",
      "photoUrl": "https://lh3.googleusercontent.com/a-/AAuE7mCGo6aIm0tOcd5EhqWlYb0rime9sBvHS9YMpx0D2w=s64",
      "userId": "08597265227091462140"
     },
     "user_tz": 240
    },
    "id": "lLuUfXrLVFYx",
    "outputId": "b7959ab1-aa99-4220-87db-9965ab9e231b"
   },
   "outputs": [],
   "source": [
    "# Afficher le tableau descriptif du dataframe (count,mean,std... )\n",
    "\n",
    "main_df.describe()"
   ]
  },
  {
   "cell_type": "code",
   "execution_count": null,
   "id": "b36f50d6",
   "metadata": {
    "colab": {
     "base_uri": "https://localhost:8080/",
     "height": 200
    },
    "colab_type": "code",
    "executionInfo": {
     "elapsed": 8559,
     "status": "ok",
     "timestamp": 1582032174502,
     "user": {
      "displayName": "Rajeev Ratan",
      "photoUrl": "https://lh3.googleusercontent.com/a-/AAuE7mCGo6aIm0tOcd5EhqWlYb0rime9sBvHS9YMpx0D2w=s64",
      "userId": "08597265227091462140"
     },
     "user_tz": 240
    },
    "id": "E0lI2wquVFYz",
    "outputId": "c5d80841-614d-4d55-fb17-7fe95fa8b878"
   },
   "outputs": [],
   "source": [
    "# Remplacer les valeurs manquantes par la valeur moyenne\n",
    "\n",
    "main_df.fillna(main_df[['satisfaction_level', 'last_evaluation']].mean(), inplace = True)"
   ]
  },
  {
   "cell_type": "code",
   "execution_count": null,
   "id": "0abe8237",
   "metadata": {
    "colab": {
     "base_uri": "https://localhost:8080/",
     "height": 200
    },
    "colab_type": "code",
    "executionInfo": {
     "elapsed": 8492,
     "status": "ok",
     "timestamp": 1582032174506,
     "user": {
      "displayName": "Rajeev Ratan",
      "photoUrl": "https://lh3.googleusercontent.com/a-/AAuE7mCGo6aIm0tOcd5EhqWlYb0rime9sBvHS9YMpx0D2w=s64",
      "userId": "08597265227091462140"
     },
     "user_tz": 240
    },
    "id": "12HnW51pVFY9",
    "outputId": "4d8cdb6e-6da7-4ada-f080-6f138191a778"
   },
   "outputs": [],
   "source": [
    "# Supprimer la colonne 'employee_id'\n",
    "\n",
    "main_df.drop('employee_id', axis = 1, inplace = True)\n",
    "main_df"
   ]
  },
  {
   "cell_type": "code",
   "execution_count": null,
   "id": "d88ee45b",
   "metadata": {
    "colab": {
     "base_uri": "https://localhost:8080/",
     "height": 664
    },
    "colab_type": "code",
    "executionInfo": {
     "elapsed": 8821,
     "status": "ok",
     "timestamp": 1582032174938,
     "user": {
      "displayName": "Rajeev Ratan",
      "photoUrl": "https://lh3.googleusercontent.com/a-/AAuE7mCGo6aIm0tOcd5EhqWlYb0rime9sBvHS9YMpx0D2w=s64",
      "userId": "08597265227091462140"
     },
     "user_tz": 240
    },
    "id": "X2WWVwTbVFZF",
    "outputId": "c1c251ae-b80f-4612-efa5-42bf948f5e65"
   },
   "outputs": [],
   "source": [
    "# Afficher la matrice de corrélation\n",
    "\n",
    "plt.figure(figsize = (10, 10))\n",
    "\n",
    "heatmap = sns.heatmap(main_df.corr(), vmin=-1, vmax=1, annot=True)"
   ]
  },
  {
   "cell_type": "markdown",
   "id": "c389c745",
   "metadata": {
    "colab_type": "text",
    "id": "U5s4GE_0VFZN"
   },
   "source": [
    "## Préparer l'ensemble de données pour l'apprentissage automatique\n",
    "### Numérisation des données catégorielles"
   ]
  },
  {
   "cell_type": "code",
   "execution_count": null,
   "id": "a6cd7838",
   "metadata": {
    "colab": {
     "base_uri": "https://localhost:8080/",
     "height": 220
    },
    "colab_type": "code",
    "executionInfo": {
     "elapsed": 9110,
     "status": "ok",
     "timestamp": 1582032175248,
     "user": {
      "displayName": "Rajeev Ratan",
      "photoUrl": "https://lh3.googleusercontent.com/a-/AAuE7mCGo6aIm0tOcd5EhqWlYb0rime9sBvHS9YMpx0D2w=s64",
      "userId": "08597265227091462140"
     },
     "user_tz": 240
    },
    "id": "cMwVUqzUVFZO",
    "outputId": "91666439-b0a3-4a48-ee62-06fe6345995d"
   },
   "outputs": [],
   "source": [
    "# Effectuer un \"Hot encoding\" sur les données catégorielles afin de les numériser\n",
    "\n",
    "main_df = pd.get_dummies(main_df)\n"
   ]
  },
  {
   "cell_type": "code",
   "execution_count": null,
   "id": "56ba8d3f",
   "metadata": {
    "colab": {
     "base_uri": "https://localhost:8080/",
     "height": 35
    },
    "colab_type": "code",
    "executionInfo": {
     "elapsed": 9090,
     "status": "ok",
     "timestamp": 1582032175250,
     "user": {
      "displayName": "Rajeev Ratan",
      "photoUrl": "https://lh3.googleusercontent.com/a-/AAuE7mCGo6aIm0tOcd5EhqWlYb0rime9sBvHS9YMpx0D2w=s64",
      "userId": "08597265227091462140"
     },
     "user_tz": 240
    },
    "id": "M47yoxS8VFZQ",
    "outputId": "e86d69f2-881c-44db-894c-8dd83a001e9b"
   },
   "outputs": [],
   "source": [
    "# Affichez les 5 premières lignes et observez le changement\n",
    "\n",
    "display(main_df.head())\n",
    "\n",
    "# Combien de colonnes avons-nous maintenant ?\n",
    "\n",
    "print(f\"Nombre de colones: {main_df. shape[1]}.\")"
   ]
  },
  {
   "cell_type": "code",
   "execution_count": null,
   "id": "34bc3160",
   "metadata": {
    "colab": {
     "base_uri": "https://localhost:8080/",
     "height": 444
    },
    "colab_type": "code",
    "executionInfo": {
     "elapsed": 962,
     "status": "ok",
     "timestamp": 1582032200498,
     "user": {
      "displayName": "Rajeev Ratan",
      "photoUrl": "https://lh3.googleusercontent.com/a-/AAuE7mCGo6aIm0tOcd5EhqWlYb0rime9sBvHS9YMpx0D2w=s64",
      "userId": "08597265227091462140"
     },
     "user_tz": 240
    },
    "id": "FGZ_clH7ndHo",
    "outputId": "28d68298-5135-4062-be6f-59f5b1b47493"
   },
   "outputs": [],
   "source": [
    "# Afficher les informations générales de notre dataframe pour vérifier qu'il n'y a plus de colonnes catégorielles\n",
    "\n",
    "main_df.info()"
   ]
  },
  {
   "cell_type": "markdown",
   "id": "43cc4640",
   "metadata": {
    "colab_type": "text",
    "id": "8xxy7KOUVFZc"
   },
   "source": [
    "### standardisation de données"
   ]
  },
  {
   "cell_type": "code",
   "execution_count": null,
   "id": "23f6ace2",
   "metadata": {
    "colab": {},
    "colab_type": "code",
    "id": "hVaL6a2vVFZd"
   },
   "outputs": [],
   "source": [
    "from sklearn.model_selection import train_test_split\n",
    "\n",
    "# Mettez toutes les colonnes d'entrée sauf la colonne de sortie 'left' dans une variable nommée 'X' \n",
    "\n",
    "X = main_df.drop('left', axis = 1)\n",
    "\n",
    "# Mettez la colonne de sortie 'left' dans une variable nommée 'y' \n",
    "\n",
    "y = main_df['left']"
   ]
  },
  {
   "cell_type": "code",
   "execution_count": null,
   "id": "654ea3da",
   "metadata": {
    "colab": {},
    "colab_type": "code",
    "id": "OqXn7bgyVFZf"
   },
   "outputs": [],
   "source": [
    "# Divisez-les en un rapport Train:Test de 70:30 (X_train, X_test, y_train, y_test)\n",
    "\n",
    "X_train, X_test, y_train, y_test = train_test_split(X, y, test_size=0.3)"
   ]
  },
  {
   "cell_type": "code",
   "execution_count": null,
   "id": "8ec41702",
   "metadata": {
    "colab": {},
    "colab_type": "code",
    "id": "sqvo7UBuVFZk"
   },
   "outputs": [],
   "source": [
    "from sklearn.preprocessing import StandardScaler\n",
    "# standardiser les données d'entrée d'entrainement et de test (X_train, X_test)\n",
    "\n",
    "scaler = StandardScaler()\n",
    "\n",
    "X_train = scaler.fit_transform(X_train)\n",
    "\n",
    "X_test = scaler.fit_transform(X_test)"
   ]
  },
  {
   "cell_type": "markdown",
   "id": "d554f5c6",
   "metadata": {
    "colab_type": "text",
    "id": "wVdxf3nWVFZu"
   },
   "source": [
    "## Apprentissage automatique\n",
    "### Régression logistique"
   ]
  },
  {
   "cell_type": "code",
   "execution_count": null,
   "id": "b3dcd4a6",
   "metadata": {
    "colab": {
     "base_uri": "https://localhost:8080/",
     "height": 230
    },
    "colab_type": "code",
    "executionInfo": {
     "elapsed": 1197,
     "status": "ok",
     "timestamp": 1582032208339,
     "user": {
      "displayName": "Rajeev Ratan",
      "photoUrl": "https://lh3.googleusercontent.com/a-/AAuE7mCGo6aIm0tOcd5EhqWlYb0rime9sBvHS9YMpx0D2w=s64",
      "userId": "08597265227091462140"
     },
     "user_tz": 240
    },
    "id": "qo11EANxVFZu",
    "outputId": "6232df41-0ff5-42f2-a73d-f6f9d566835d"
   },
   "outputs": [],
   "source": [
    "from sklearn.linear_model import LogisticRegression\n",
    "from sklearn.metrics import confusion_matrix\n",
    "from sklearn.metrics import classification_report\n",
    "from sklearn.metrics import accuracy_score\n",
    "\n",
    "# Définir et entrainer une Régression logistique, définir le solver = 'lbfgs'\n",
    "\n",
    "logReg = LogisticRegression(solver = 'lbfgs')\n",
    "\n",
    "logReg.fit(X_test, y_test)\n",
    "\n",
    "y_pred = logReg.predict(X_test)"
   ]
  },
  {
   "cell_type": "code",
   "execution_count": null,
   "id": "effcc564",
   "metadata": {},
   "outputs": [],
   "source": [
    "# Afficher les évaluateurs métriques (Accuracy,precision,recall,f1-score,support) dans une \"confusion matrix\"\n",
    "\n",
    "print(f\"Matrice de confusion: \\n{confusion_matrix(y_test, y_pred)}\\n\")\n",
    "\n",
    "print(f\"Precision: {round(accuracy_score(y_test, y_pred), 3) * 100}%\\n\")\n",
    "\n",
    "print(classification_report(y_test, y_pred))"
   ]
  },
  {
   "cell_type": "markdown",
   "id": "d60dd5e4",
   "metadata": {
    "colab_type": "text",
    "id": "6DOCXvrMVFZw"
   },
   "source": [
    "### Classificateur de forêt aléatoire ( Random Forest )"
   ]
  },
  {
   "cell_type": "code",
   "execution_count": null,
   "id": "c0ce8b0a",
   "metadata": {
    "colab": {
     "base_uri": "https://localhost:8080/",
     "height": 230
    },
    "colab_type": "code",
    "executionInfo": {
     "elapsed": 1915,
     "status": "ok",
     "timestamp": 1582032214459,
     "user": {
      "displayName": "Rajeev Ratan",
      "photoUrl": "https://lh3.googleusercontent.com/a-/AAuE7mCGo6aIm0tOcd5EhqWlYb0rime9sBvHS9YMpx0D2w=s64",
      "userId": "08597265227091462140"
     },
     "user_tz": 240
    },
    "id": "-c9I7I1NVFZx",
    "outputId": "35eaaf97-61b9-4663-f06c-efef1b1696bb"
   },
   "outputs": [],
   "source": [
    "from sklearn.ensemble import RandomForestClassifier\n",
    "from sklearn.metrics import confusion_matrix\n",
    "from sklearn.metrics import classification_report\n",
    "from sklearn.metrics import accuracy_score\n",
    "\n",
    "# Définir et entrainer une Random Forest\n",
    "\n",
    "forest = RandomForestClassifier()\n",
    "\n",
    "forest.fit(X_train, y_train)\n",
    "\n",
    "y_pred = forest.predict(X_test)"
   ]
  },
  {
   "cell_type": "code",
   "execution_count": null,
   "id": "0268e0fc",
   "metadata": {},
   "outputs": [],
   "source": [
    "# Afficher les évaluateurs métriques (Accuracy,precision,recall,f1-score,support) dans une \"confusion matrix\"\n",
    "\n",
    "print(f\"Matrice de confusion: \\n{confusion_matrix(y_test, y_pred)}\\n\")\n",
    "\n",
    "print(f\"Precision: {round(accuracy_score(y_test, y_pred), 3) * 100}%\\n\")\n",
    "\n",
    "print(classification_report(y_test, y_pred))"
   ]
  },
  {
   "cell_type": "code",
   "execution_count": null,
   "id": "a9bbe467",
   "metadata": {
    "colab": {
     "base_uri": "https://localhost:8080/",
     "height": 141
    },
    "colab_type": "code",
    "executionInfo": {
     "elapsed": 525,
     "status": "ok",
     "timestamp": 1582032215249,
     "user": {
      "displayName": "Rajeev Ratan",
      "photoUrl": "https://lh3.googleusercontent.com/a-/AAuE7mCGo6aIm0tOcd5EhqWlYb0rime9sBvHS9YMpx0D2w=s64",
      "userId": "08597265227091462140"
     },
     "user_tz": 240
    },
    "id": "5pQmueZLoIdq",
    "outputId": "232bdb54-a8b0-40d3-e28d-2f434dbc6653"
   },
   "outputs": [],
   "source": [
    "# Supprimer la colonne de sortie 'left' de notre dataframe 'main_df_final'\n",
    "\n",
    "main_df_final = main_df.drop('left', axis = 1)"
   ]
  },
  {
   "cell_type": "code",
   "execution_count": null,
   "id": "47db28e5",
   "metadata": {
    "colab": {
     "base_uri": "https://localhost:8080/",
     "height": 595
    },
    "colab_type": "code",
    "executionInfo": {
     "elapsed": 403,
     "status": "ok",
     "timestamp": 1582032215558,
     "user": {
      "displayName": "Rajeev Ratan",
      "photoUrl": "https://lh3.googleusercontent.com/a-/AAuE7mCGo6aIm0tOcd5EhqWlYb0rime9sBvHS9YMpx0D2w=s64",
      "userId": "08597265227091462140"
     },
     "user_tz": 240
    },
    "id": "ijboE4YJnhiy",
    "outputId": "460bce37-dfb7-447f-e37f-d58b39ff1535"
   },
   "outputs": [],
   "source": [
    "import pandas as pd\n",
    "# Afficher l'importance de chaque colonne d'entrée sur notre prédiction\n",
    "\n",
    "importances = forest.feature_importances_\n",
    "colones = main_df_final.columns.values.tolist()\n",
    "\n",
    "imp_df = pd.DataFrame()\n",
    "\n",
    "imp_df['feature'] = colones\n",
    "imp_df['importance'] = importances\n",
    "\n",
    "imp_df.sort_values('importance', axis = 0, ascending = False, inplace = True)\n",
    "\n",
    "imp_df.plot.bar(x = 'feature', y = 'importance', rot = 90)"
   ]
  },
  {
   "cell_type": "markdown",
   "id": "9b6e79b1",
   "metadata": {},
   "source": [
    "### Classificateur de SVM "
   ]
  },
  {
   "cell_type": "code",
   "execution_count": null,
   "id": "5d1ac342",
   "metadata": {},
   "outputs": [],
   "source": [
    "from sklearn.svm import SVC\n",
    "\n",
    "# Définir et entrainer un classificateur de SVM\n",
    "\n",
    "clf = SVC()\n",
    "clf.fit(X_train, y_train)\n",
    "y_pred = clf.predict(X_test)"
   ]
  },
  {
   "cell_type": "code",
   "execution_count": null,
   "id": "b6ca91cd",
   "metadata": {},
   "outputs": [],
   "source": [
    "# Afficher les évaluateurs métriques (Accuracy,precision,recall,f1-score,support) dans une \"confusion matrix\"\n",
    "\n",
    "print(f\"Matrice de confusion: \\n{confusion_matrix(y_test, y_pred)}\\n\")\n",
    "\n",
    "print(f\"Precision: {round(accuracy_score(y_test, y_pred), 3) * 100}%\\n\")\n",
    "\n",
    "print(classification_report(y_test, y_pred))"
   ]
  },
  {
   "cell_type": "markdown",
   "id": "af7d71c4",
   "metadata": {},
   "source": [
    "### Classificateur de XGboost"
   ]
  },
  {
   "cell_type": "code",
   "execution_count": null,
   "id": "10e640d1",
   "metadata": {},
   "outputs": [],
   "source": [
    "from sklearn.ensemble import GradientBoostingClassifier\n",
    "\n",
    "# Définir et entrainer un classificateur de XGboost\n",
    "\n",
    "xg_boost = GradientBoostingClassifier()\n",
    "xg_boost.fit(X_train, y_train)\n",
    "y_pred = xg_boost.predict(X_test)"
   ]
  },
  {
   "cell_type": "code",
   "execution_count": null,
   "id": "ec21dfbf",
   "metadata": {},
   "outputs": [],
   "source": [
    "# Afficher les évaluateurs métriques (Accuracy,precision,recall,f1-score,support) dans une \"confusion matrix\"\n",
    "\n",
    "print(f\"Matrice de confusion: \\n{confusion_matrix(y_test, y_pred)}\\n\")\n",
    "\n",
    "print(f\"Precision: {round(accuracy_score(y_test, y_pred), 3) * 100}%\\n\")\n",
    "\n",
    "print(classification_report(y_test, y_pred))"
   ]
  },
  {
   "cell_type": "markdown",
   "id": "e0bc16e9",
   "metadata": {
    "colab_type": "text",
    "id": "mGQWcMLIVFZz"
   },
   "source": [
    "### Apprentissage approfondie (réseaux de neurones)"
   ]
  },
  {
   "cell_type": "code",
   "execution_count": null,
   "id": "c3652e9e",
   "metadata": {
    "colab": {
     "base_uri": "https://localhost:8080/",
     "height": 35
    },
    "colab_type": "code",
    "executionInfo": {
     "elapsed": 799,
     "status": "ok",
     "timestamp": 1582032217003,
     "user": {
      "displayName": "Rajeev Ratan",
      "photoUrl": "https://lh3.googleusercontent.com/a-/AAuE7mCGo6aIm0tOcd5EhqWlYb0rime9sBvHS9YMpx0D2w=s64",
      "userId": "08597265227091462140"
     },
     "user_tz": 240
    },
    "id": "9fIRqswd3ONA",
    "outputId": "13c93fc2-ac11-4186-cdc3-32d5b1de0d31"
   },
   "outputs": [],
   "source": [
    "import tensorflow as tf\n",
    "from keras.models import Sequential\n",
    "from keras.layers import Dense\n",
    "\n",
    "# Utilisez la dernière version de TensorFlow 2.0\n",
    "\n",
    "print(tf.__version__)"
   ]
  },
  {
   "cell_type": "code",
   "execution_count": null,
   "id": "b8b15827",
   "metadata": {},
   "outputs": [],
   "source": [
    "# Contruire un réseaux de neurones tels que :\n",
    "# la couche d'entrée admet le \"relu\" comme fonction d'activation avec le kernel_initializer \"uniform\"\n",
    "# La couche de sortie admet la \"sigmoid\" comme fonction d'activation avec le kernel_initializer \"uniform\"\n",
    "# Le compile se fait avec ( optimizer= \"adam\",loss = \"binary_crossentropy\",metrics = [\"accuracy\"] )\n",
    "\n",
    "model = Sequential()\n",
    "model.add(Dense(20, activation = \"relu\", kernel_initializer = \"uniform\", name = 'entree', input_dim = 20 ))\n",
    "model.add(Dense(1, activation = \"sigmoid\", kernel_initializer = \"uniform\", name = 'sortie'))\n",
    "\n",
    "model.compile(optimizer = \"adam\", loss = \"binary_crossentropy\", metrics = [\"accuracy\"])"
   ]
  },
  {
   "cell_type": "code",
   "execution_count": null,
   "id": "57ef2d1e",
   "metadata": {
    "colab": {
     "base_uri": "https://localhost:8080/",
     "height": 230
    },
    "colab_type": "code",
    "executionInfo": {
     "elapsed": 7442,
     "status": "ok",
     "timestamp": 1582032224849,
     "user": {
      "displayName": "Rajeev Ratan",
      "photoUrl": "https://lh3.googleusercontent.com/a-/AAuE7mCGo6aIm0tOcd5EhqWlYb0rime9sBvHS9YMpx0D2w=s64",
      "userId": "08597265227091462140"
     },
     "user_tz": 240
    },
    "id": "y6LBNIODVFZ2",
    "outputId": "1a22ec83-250b-47e0-e45b-319dc7710b75"
   },
   "outputs": [],
   "source": [
    "# Afficher le résumé du modèle et afficher les paramètres\n",
    "model.summary()"
   ]
  },
  {
   "cell_type": "code",
   "execution_count": null,
   "id": "c0dc597e",
   "metadata": {
    "colab": {
     "base_uri": "https://localhost:8080/",
     "height": 959
    },
    "colab_type": "code",
    "executionInfo": {
     "elapsed": 63412,
     "status": "ok",
     "timestamp": 1582032281368,
     "user": {
      "displayName": "Rajeev Ratan",
      "photoUrl": "https://lh3.googleusercontent.com/a-/AAuE7mCGo6aIm0tOcd5EhqWlYb0rime9sBvHS9YMpx0D2w=s64",
      "userId": "08597265227091462140"
     },
     "user_tz": 240
    },
    "id": "dUYhD66EVFZ5",
    "outputId": "84b09e29-758e-4f42-f165-786d94580ae2"
   },
   "outputs": [],
   "source": [
    "# Entrainer le réseux de neurones, mettez le batch_size à 10 et l'epochs à 25\n",
    "\n",
    "history = model.fit(X_train, y_train, batch_size = 10, epochs = 25)"
   ]
  },
  {
   "cell_type": "code",
   "execution_count": null,
   "id": "a8855fce",
   "metadata": {
    "colab": {
     "base_uri": "https://localhost:8080/",
     "height": 279
    },
    "colab_type": "code",
    "executionInfo": {
     "elapsed": 62903,
     "status": "ok",
     "timestamp": 1582032281370,
     "user": {
      "displayName": "Rajeev Ratan",
      "photoUrl": "https://lh3.googleusercontent.com/a-/AAuE7mCGo6aIm0tOcd5EhqWlYb0rime9sBvHS9YMpx0D2w=s64",
      "userId": "08597265227091462140"
     },
     "user_tz": 240
    },
    "id": "9YZey5CpVFZ7",
    "outputId": "861ac0f2-e78e-4ebf-ce9a-bb02a09c4c59"
   },
   "outputs": [],
   "source": [
    "# Tracer le graphique de perte \"loss charts\" (Une courbe qui affiche la perte en fonction des époques)\n",
    "import matplotlib.pyplot as plt\n",
    "\n",
    "plt.plot(history.history['loss'])"
   ]
  },
  {
   "cell_type": "code",
   "execution_count": null,
   "id": "7772b928",
   "metadata": {
    "colab": {
     "base_uri": "https://localhost:8080/",
     "height": 279
    },
    "colab_type": "code",
    "executionInfo": {
     "elapsed": 62675,
     "status": "ok",
     "timestamp": 1582032281779,
     "user": {
      "displayName": "Rajeev Ratan",
      "photoUrl": "https://lh3.googleusercontent.com/a-/AAuE7mCGo6aIm0tOcd5EhqWlYb0rime9sBvHS9YMpx0D2w=s64",
      "userId": "08597265227091462140"
     },
     "user_tz": 240
    },
    "id": "l3KjhDw6VFZ9",
    "outputId": "9b62c58e-166e-4f2a-bbb2-ace1bfbd5899"
   },
   "outputs": [],
   "source": [
    "# Tracer le graphique d'Accuracy  (Une courbe qui affiche l'Accuracy en fonction des époques)\n",
    "import matplotlib.pyplot as plt\n",
    "\n",
    "plt.plot(history.history['accuracy'])"
   ]
  },
  {
   "cell_type": "code",
   "execution_count": null,
   "id": "9df039c1",
   "metadata": {
    "colab": {
     "base_uri": "https://localhost:8080/",
     "height": 212
    },
    "colab_type": "code",
    "executionInfo": {
     "elapsed": 972,
     "status": "ok",
     "timestamp": 1582032329314,
     "user": {
      "displayName": "Rajeev Ratan",
      "photoUrl": "https://lh3.googleusercontent.com/a-/AAuE7mCGo6aIm0tOcd5EhqWlYb0rime9sBvHS9YMpx0D2w=s64",
      "userId": "08597265227091462140"
     },
     "user_tz": 240
    },
    "id": "AO7dNFk2VFZ_",
    "outputId": "25fb3362-4031-458f-d0a2-2aa4aa9e97bd"
   },
   "outputs": [],
   "source": [
    "# Afficher les évaluateurs métriques (Accuracy,precision,recall,f1-score,support ) dans une \"confusion matrix\"\n",
    "\n",
    "y_pred = model.predict(X_test)\n",
    "y_pred = y_pred > 0.5\n",
    "\n",
    "print(f\"Matrice de confusion: \\n{confusion_matrix(y_test, y_pred)}\\n\")\n",
    "\n",
    "print(f\"Precision: {round(accuracy_score(y_test, y_pred), 4) * 100}%\\n\")\n",
    "\n",
    "print(classification_report(y_test, y_pred))"
   ]
  },
  {
   "cell_type": "markdown",
   "id": "a4e72c1e",
   "metadata": {
    "colab_type": "text",
    "id": "8W2VQFFo5NtA"
   },
   "source": [
    "# # Problème de classification 2 : Déterminer quels clients peuvent partir - Analyse du taux de désabonnement\n",
    "\n",
    "### À propos de notre jeu de données\n",
    "Source - https://www.kaggle.com/blastchar/telco-customer-churn\n",
    "1. Nous avons des informations sur les clients d'une entreprise de télécommunications\n",
    "2. Nous avons des identifiants clients, des informations générales sur les clients, les services auxquels ils sont également abonnés, le type de contrat et les frais mensuels.\n",
    "3. Il s'agit d'une information historique sur le client, nous avons donc un champ indiquant si ce client a **baratté**\n",
    "**Descriptions des champs**\n",
    "- IDclient - ID client\n",
    "- genre - Si le client est un homme ou une femme\n",
    "- SeniorCitizen - Si le client est un senior ou non (1, 0)\n",
    "- Partenaire - Si le client a un partenaire ou non (Oui, Non)\n",
    "- Personnes à charge - Si le client a des personnes à charge ou non (Oui, Non)\n",
    "- ancienneté - nombre de mois pendant lesquels le client est resté dans l'entreprise\n",
    "- PhoneService - Si le client a un service téléphonique ou non (Oui, Non)\n",
    "- MultipleLines - Si le client a plusieurs lignes ou non (Oui, Non, Pas de service téléphonique)\n",
    "- InternetService - Fournisseur de services Internet du client (DSL, Fibre optique, Non)\n",
    "- OnlineSecurity - Si le client dispose ou non d'une sécurité en ligne (Oui, Non, Pas de service Internet)\n",
    "- OnlineBackup - Si le client a une sauvegarde en ligne ou non (Oui, Non, Pas de service Internet)\n",
    "- DeviceProtection - Si le client dispose ou non d'une protection d'appareil (Oui, Non, Pas de service Internet)\n",
    "- TechSupport - Si le client dispose d'un support technique ou non (Oui, Non, Pas de service Internet)\n",
    "- StreamingTV - Si le client a la télévision en streaming ou non (Oui, Non, Pas de service Internet)\n",
    "- StreamingMovies - Si le client a des films en streaming ou non (Oui, Non, Pas de service Internet)\n",
    "- Contrat - La durée du contrat du client (mensuel, un an, deux ans)\n",
    "- PaperlessBilling - Si le client a une facturation sans papier ou non (Oui, Non)\n",
    "- PaymentMethod - Le mode de paiement du client (Chèque électronique, Chèque postal Virement bancaire (automatique), Carte de crédit (automatique))\n",
    "- MonthlyCharges - Le montant facturé au client mensuellement\n",
    "- TotalCharges - Le montant total facturé au client\n",
    "- Churn - Si le client s'est désabonné ou non (Oui ou Non)\n",
    "\n",
    "***Désabonnement client*** - le désabonnement se produit lorsqu'un client existant, un utilisateur, un joueur, un abonné ou tout type de client de retour cesse de faire des affaires ou met fin à la relation avec une entreprise.\n",
    "\n",
    "**L'objectif -** est de déterminer quels clients sont susceptibles d'abandonner à l'avenir"
   ]
  },
  {
   "cell_type": "code",
   "execution_count": null,
   "id": "3740c034",
   "metadata": {
    "colab": {
     "base_uri": "https://localhost:8080/",
     "height": 309
    },
    "colab_type": "code",
    "executionInfo": {
     "elapsed": 541,
     "status": "ok",
     "timestamp": 1573928473004,
     "user": {
      "displayName": "Rajeev Ratan",
      "photoUrl": "https://lh3.googleusercontent.com/a-/AAuE7mCGo6aIm0tOcd5EhqWlYb0rime9sBvHS9YMpx0D2w=s64",
      "userId": "08597265227091462140"
     },
     "user_tz": 0
    },
    "id": "MTTvvk1L5Pon",
    "outputId": "ed22b80e-0571-4fec-ce39-5a70d84db1c2"
   },
   "outputs": [],
   "source": [
    "# Chargement de données\n",
    "import pandas as pd\n",
    "\n",
    "file_name = \"https://raw.githubusercontent.com/rajeevratan84/datascienceforbusiness/master/WA_Fn-UseC_-Telco-Customer-Churn.csv\"\n",
    "churn_df = pd.read_csv(file_name)"
   ]
  },
  {
   "cell_type": "code",
   "execution_count": null,
   "id": "3f1d8b80",
   "metadata": {},
   "outputs": [],
   "source": [
    "# Afficher les 10 premières lignes de notre dataframe \"churn_df\"\n",
    "\n",
    "display(churn_df.head(10))\n",
    "\n",
    "# Afficher les 5 dernières lignes de notre dataframe \"churn_df\"\n",
    "\n",
    "display(churn_df.tail())"
   ]
  },
  {
   "cell_type": "code",
   "execution_count": null,
   "id": "b3bcd0ec",
   "metadata": {
    "colab": {
     "base_uri": "https://localhost:8080/",
     "height": 294
    },
    "colab_type": "code",
    "executionInfo": {
     "elapsed": 477,
     "status": "ok",
     "timestamp": 1573928601415,
     "user": {
      "displayName": "Rajeev Ratan",
      "photoUrl": "https://lh3.googleusercontent.com/a-/AAuE7mCGo6aIm0tOcd5EhqWlYb0rime9sBvHS9YMpx0D2w=s64",
      "userId": "08597265227091462140"
     },
     "user_tz": 0
    },
    "id": "Zc-0l3DYWh17",
    "outputId": "457d6c6d-ecee-4ca2-c608-f87c7e8968e1"
   },
   "outputs": [],
   "source": [
    "# Afficher des informations générales de notre dataframe \"churn_df\"\n",
    "\n",
    "churn_df.info()"
   ]
  },
  {
   "cell_type": "code",
   "execution_count": null,
   "id": "48a48985",
   "metadata": {
    "colab": {
     "base_uri": "https://localhost:8080/",
     "height": 575
    },
    "colab_type": "code",
    "executionInfo": {
     "elapsed": 374,
     "status": "ok",
     "timestamp": 1573928688309,
     "user": {
      "displayName": "Rajeev Ratan",
      "photoUrl": "https://lh3.googleusercontent.com/a-/AAuE7mCGo6aIm0tOcd5EhqWlYb0rime9sBvHS9YMpx0D2w=s64",
      "userId": "08597265227091462140"
     },
     "user_tz": 0
    },
    "id": "qOaDNamdWh2J",
    "outputId": "13d1f6a7-c077-45f8-8d55-65c74f23463d"
   },
   "outputs": [],
   "source": [
    "# Afficher le nombre de colonnes\n",
    "print (f\"Rows     : {churn_df.shape[0]}\" )\n",
    "\n",
    "# Afficher le nombre de lignes\n",
    "print (f\"Columns  : {churn_df.shape[1]}\")\n",
    "\n",
    "# Afficher les paramètres d'entrée (tolist)\n",
    "print (f\"\\nFeatures : {churn_df.columns.values.tolist()}\\n\")\n",
    "\n",
    "# Afficher le nombre de valeurs manquantes\n",
    "print (f\"\\nMissing values :  {churn_df.isna().sum().sum()}\")\n",
    "\n",
    "# Afficher uniquement la colonne de sortie 'churn'\n",
    "print (f\"\\nUnique values :  \\n{churn_df['Churn']}\\n\")\n"
   ]
  },
  {
   "cell_type": "code",
   "execution_count": null,
   "id": "a83167c1",
   "metadata": {
    "colab": {
     "base_uri": "https://localhost:8080/",
     "height": 69
    },
    "colab_type": "code",
    "executionInfo": {
     "elapsed": 371,
     "status": "ok",
     "timestamp": 1573928694356,
     "user": {
      "displayName": "Rajeev Ratan",
      "photoUrl": "https://lh3.googleusercontent.com/a-/AAuE7mCGo6aIm0tOcd5EhqWlYb0rime9sBvHS9YMpx0D2w=s64",
      "userId": "08597265227091462140"
     },
     "user_tz": 0
    },
    "id": "QKGzA_2DWh2L",
    "outputId": "c20c51b0-acd0-4fa7-b71b-8ec8bb5a866e"
   },
   "outputs": [],
   "source": [
    "# Afficher le nombre de personnes abonnées et désabonnées\n",
    "\n",
    "print (f\"\\nPersonnes abonnées :  \\n{churn_df['Churn'].value_counts()}\\n\")"
   ]
  },
  {
   "cell_type": "markdown",
   "id": "b25c13f6",
   "metadata": {
    "colab_type": "text",
    "id": "-0Cg4i8vWh2O"
   },
   "source": [
    "### Exploratory Data Analysis"
   ]
  },
  {
   "cell_type": "code",
   "execution_count": null,
   "id": "1b875426",
   "metadata": {
    "colab": {},
    "colab_type": "code",
    "id": "neecocV7Wh2P"
   },
   "outputs": [],
   "source": [
    "# Conservez une copie au cas où nous devions consulter l'ensemble de données d'origine à l'avenir\n",
    "churn_df_copy = churn_df.copy()"
   ]
  },
  {
   "cell_type": "code",
   "execution_count": null,
   "id": "6ea7c6a4",
   "metadata": {
    "colab": {
     "base_uri": "https://localhost:8080/",
     "height": 291
    },
    "colab_type": "code",
    "executionInfo": {
     "elapsed": 376,
     "status": "ok",
     "timestamp": 1573929673517,
     "user": {
      "displayName": "Rajeev Ratan",
      "photoUrl": "https://lh3.googleusercontent.com/a-/AAuE7mCGo6aIm0tOcd5EhqWlYb0rime9sBvHS9YMpx0D2w=s64",
      "userId": "08597265227091462140"
     },
     "user_tz": 0
    },
    "id": "_hrXyOAOWh2R",
    "outputId": "e9d46b41-9945-454f-debb-49296f74ecd0"
   },
   "outputs": [],
   "source": [
    "# Supprimer les colonnes 'customerID', 'MonthlyCharges', 'TotalCharges' et 'tenure' du dataframe \"churn_df_copy\"\n",
    "\n",
    "churn_df_copy.drop(['customerID', 'MonthlyCharges', 'TotalCharges', 'tenure'], axis=1, inplace = True)\n",
    "\n",
    "# Afficher les 5 premiéres lignes pour vérifier la bonne modification\n",
    "\n",
    "churn_df_copy.head()"
   ]
  },
  {
   "cell_type": "code",
   "execution_count": null,
   "id": "bd30a34a",
   "metadata": {
    "colab": {
     "base_uri": "https://localhost:8080/",
     "height": 1000
    },
    "colab_type": "code",
    "executionInfo": {
     "elapsed": 564,
     "status": "ok",
     "timestamp": 1573929695989,
     "user": {
      "displayName": "Rajeev Ratan",
      "photoUrl": "https://lh3.googleusercontent.com/a-/AAuE7mCGo6aIm0tOcd5EhqWlYb0rime9sBvHS9YMpx0D2w=s64",
      "userId": "08597265227091462140"
     },
     "user_tz": 0
    },
    "id": "5kFxfk-DWh2T",
    "outputId": "9f250c4e-4491-4808-c03a-c7a9d5852ad7"
   },
   "outputs": [],
   "source": [
    "# Créez un nouvel ensemble de données appelé \"summary\" afin que nous puissions résumer nos données de désabonnement\n",
    "# Tableau croisé - Calculez un simple tableau croisé de deux facteurs (ou plus). Par défaut, développer un tableau de fréquence des facteurs à moins qu'un tableau de valeurs et une fonction d'agrégation ne soient passés.\n",
    "# Pour simplifier l'instruction, vous trouverez ci-dessous la sortie souhaitée\n",
    "\n",
    "summary = pd.concat((pd.crosstab([churn_df_copy[column]],churn_df_copy['Churn']) for column in churn_df_copy.columns[:-1]),keys=churn_df_copy.columns[:-1])\n",
    "summary"
   ]
  },
  {
   "attachments": {
    "S1.PNG": {
     "image/png": "[encoded data removed]"
    }
   },
   "cell_type": "markdown",
   "id": "2776d423",
   "metadata": {},
   "source": [
    "![S1.PNG](attachment:S1.PNG)"
   ]
  },
  {
   "cell_type": "code",
   "execution_count": null,
   "id": "d2b47db2",
   "metadata": {
    "colab": {
     "base_uri": "https://localhost:8080/",
     "height": 1000
    },
    "colab_type": "code",
    "executionInfo": {
     "elapsed": 516,
     "status": "ok",
     "timestamp": 1573929835556,
     "user": {
      "displayName": "Rajeev Ratan",
      "photoUrl": "https://lh3.googleusercontent.com/a-/AAuE7mCGo6aIm0tOcd5EhqWlYb0rime9sBvHS9YMpx0D2w=s64",
      "userId": "08597265227091462140"
     },
     "user_tz": 0
    },
    "id": "PLTlkVBMWh2W",
    "outputId": "8ec9f83e-5e48-4283-e0d4-83ae8b1dafe2"
   },
   "outputs": [],
   "source": [
    "# Ajouter une colonne qui contient le pourcentage dans l'ensemble de données \"summary\"\n",
    "\n",
    "summary['Churn_Percentage'] = summary.apply(lambda x: round(x['Yes'] / x[['Yes', 'No']].sum() * 100, 2), axis=1)\n",
    "summary"
   ]
  },
  {
   "cell_type": "markdown",
   "id": "12b0476a",
   "metadata": {
    "colab_type": "text",
    "id": "WyG2_zhJWh2Y"
   },
   "source": [
    "### Visualisation de données"
   ]
  },
  {
   "cell_type": "code",
   "execution_count": null,
   "id": "95f69048",
   "metadata": {
    "colab": {
     "base_uri": "https://localhost:8080/",
     "height": 427
    },
    "colab_type": "code",
    "executionInfo": {
     "elapsed": 456,
     "status": "ok",
     "timestamp": 1573929919827,
     "user": {
      "displayName": "Rajeev Ratan",
      "photoUrl": "https://lh3.googleusercontent.com/a-/AAuE7mCGo6aIm0tOcd5EhqWlYb0rime9sBvHS9YMpx0D2w=s64",
      "userId": "08597265227091462140"
     },
     "user_tz": 0
    },
    "id": "_53uS753Wh2Z",
    "outputId": "55daf7e8-fed1-4e59-b65b-7b17228014a0"
   },
   "outputs": [],
   "source": [
    "import matplotlib.pyplot as plt \n",
    "import seaborn as sns \n",
    "from pylab import rcParams \n",
    "\n",
    "# Créer et afficher un cercle de pourcentage de clients abonnés et désabonnés\n",
    "# Pour simplifier l'instruction, vous trouverez ci-dessous la sortie souhaitée\n",
    "\n",
    "summary[['Yes', 'No']].sum().plot(kind='pie', ylabel='', colors=('red', 'lightblue'), autopct='%1.1f%%', shadow=True, explode=(0.03, 0.03), startangle=355, title='Customer Churn Breakdown', figsize=(5.8, 5.8))"
   ]
  },
  {
   "attachments": {
    "S2.PNG": {
     "image/png": "[encoded data removed]"
    }
   },
   "cell_type": "markdown",
   "id": "5b53a058",
   "metadata": {
    "colab": {
     "base_uri": "https://localhost:8080/",
     "height": 35
    },
    "colab_type": "code",
    "executionInfo": {
     "elapsed": 323,
     "status": "ok",
     "timestamp": 1573929932580,
     "user": {
      "displayName": "Rajeev Ratan",
      "photoUrl": "https://lh3.googleusercontent.com/a-/AAuE7mCGo6aIm0tOcd5EhqWlYb0rime9sBvHS9YMpx0D2w=s64",
      "userId": "08597265227091462140"
     },
     "user_tz": 0
    },
    "id": "O_0mpl24NziE",
    "outputId": "8d820e94-aced-45c7-b68d-79f6300aa556"
   },
   "source": [
    "![S2.PNG](attachment:S2.PNG)"
   ]
  },
  {
   "cell_type": "code",
   "execution_count": null,
   "id": "55b09e2d",
   "metadata": {
    "colab": {
     "base_uri": "https://localhost:8080/",
     "height": 424
    },
    "colab_type": "code",
    "executionInfo": {
     "elapsed": 729,
     "status": "ok",
     "timestamp": 1573929943885,
     "user": {
      "displayName": "Rajeev Ratan",
      "photoUrl": "https://lh3.googleusercontent.com/a-/AAuE7mCGo6aIm0tOcd5EhqWlYb0rime9sBvHS9YMpx0D2w=s64",
      "userId": "08597265227091462140"
     },
     "user_tz": 0
    },
    "id": "Omhtf3SrWh2b",
    "outputId": "01ebf074-6fab-42cd-c400-6dc50b4fb80f"
   },
   "outputs": [],
   "source": [
    "# Créez un tracé de violon (Violin Plot) montrant comment les frais mensuels \"MonthlyCharges\" sont liés au taux de désabonnement \"Churn\"\n",
    "# Nous constatons que les clients barattés ont tendance à être des clients mieux rémunérés\n",
    "\n",
    "sns.violinplot(data=churn_df, y=churn_df[\"MonthlyCharges\"], x=churn_df[\"Churn\"])"
   ]
  },
  {
   "cell_type": "code",
   "execution_count": null,
   "id": "4042382a",
   "metadata": {
    "colab": {
     "base_uri": "https://localhost:8080/",
     "height": 424
    },
    "colab_type": "code",
    "executionInfo": {
     "elapsed": 782,
     "status": "ok",
     "timestamp": 1573929964552,
     "user": {
      "displayName": "Rajeev Ratan",
      "photoUrl": "https://lh3.googleusercontent.com/a-/AAuE7mCGo6aIm0tOcd5EhqWlYb0rime9sBvHS9YMpx0D2w=s64",
      "userId": "08597265227091462140"
     },
     "user_tz": 0
    },
    "id": "frsognfxWh2d",
    "outputId": "e12d84e3-5d74-4f1a-8953-c08637bcca54"
   },
   "outputs": [],
   "source": [
    "# Créez un tracé de violon (Volin Plot) montrant comment les Mandat \"tenure\" sont liés au taux de désabonnement \"Churn\"\n",
    "\n",
    "sns.violinplot(data=churn_df, y=churn_df[\"tenure\"], x=churn_df[\"Churn\"])"
   ]
  },
  {
   "cell_type": "code",
   "execution_count": null,
   "id": "214d5604",
   "metadata": {},
   "outputs": [],
   "source": [
    "churn_df_corr = churn_df.apply(lambda x : pd.factorize(x)[0])"
   ]
  },
  {
   "cell_type": "code",
   "execution_count": null,
   "id": "bb130ac8",
   "metadata": {
    "colab": {
     "base_uri": "https://localhost:8080/",
     "height": 595
    },
    "colab_type": "code",
    "executionInfo": {
     "elapsed": 592,
     "status": "ok",
     "timestamp": 1573930022838,
     "user": {
      "displayName": "Rajeev Ratan",
      "photoUrl": "https://lh3.googleusercontent.com/a-/AAuE7mCGo6aIm0tOcd5EhqWlYb0rime9sBvHS9YMpx0D2w=s64",
      "userId": "08597265227091462140"
     },
     "user_tz": 0
    },
    "id": "xeZLl7JcWh2i",
    "outputId": "e9df3eb2-87fd-49d9-c297-8e360d20ff41"
   },
   "outputs": [],
   "source": [
    "# Créer et afficher la matrice de corrélation\n",
    "\n",
    "plt.figure(figsize = (15, 15))\n",
    "\n",
    "sns.heatmap(churn_df_corr.corr(), vmin=-1, vmax=1, annot=True)\n"
   ]
  },
  {
   "cell_type": "markdown",
   "id": "10ade723",
   "metadata": {
    "colab_type": "text",
    "id": "G6pKb88gQEx7"
   },
   "source": [
    "# Préparer les données pour le classificateur d'apprentissage automatique"
   ]
  },
  {
   "cell_type": "code",
   "execution_count": null,
   "id": "f4383761",
   "metadata": {},
   "outputs": [],
   "source": [
    "# Vérifiez les champs vides \" \" dans la colonne 'TotalCharges': \" \" n'est pas Null mais un caractère espacé\n",
    "\n",
    "print(f\"\"\"Nombres de colonnes dans 'TotalCharges' qui contiennent \" \": {(churn_df['TotalCharges'] == ' ').sum()}\\nNombres de colonnes dans 'TotalCharges' qui contiennent Null: {(churn_df['TotalCharges'].isna()).sum()}\"\"\")\n"
   ]
  },
  {
   "cell_type": "code",
   "execution_count": null,
   "id": "4a99ff5a",
   "metadata": {},
   "outputs": [],
   "source": [
    "## Supprimer les données manquantes (Les espaces \" \" de la colonne 'TotalCharges') et vérifier la bonne suppression\n",
    "\n",
    "churn_df.TotalCharges = churn_df.TotalCharges.replace(\" \", None)\n",
    "\n",
    "print(f\"\"\"Nombres de colonnes dans 'TotalCharges' qui contiennent \" \": {(churn_df['TotalCharges'] == ' ').sum()}\\nNombres de colonnes dans 'TotalCharges' qui contiennent Null: {(churn_df['TotalCharges'].isna()).sum()}\"\"\")\n",
    "\n",
    "indexNames = churn_df[churn_df.TotalCharges.isnull()].index\n",
    "churn_df.drop(indexNames , inplace=True)\n",
    "\n",
    "print(f\"\"\"\\nAprès supression des lignes où TotalCharges est manquant:\\nNombres de colonnes dans 'TotalCharges' qui contiennent \" \": {(churn_df['TotalCharges'] == ' ').sum()}\\nNombres de colonnes dans 'TotalCharges' qui contiennent Null: {(churn_df['TotalCharges'].isna()).sum()}\"\"\")"
   ]
  },
  {
   "cell_type": "code",
   "execution_count": null,
   "id": "aadbab88",
   "metadata": {},
   "outputs": [],
   "source": [
    "# Transformer la colonne 'TotalCharges' en type float\n",
    "\n",
    "churn_df.TotalCharges = pd.to_numeric(churn_df.TotalCharges)"
   ]
  },
  {
   "cell_type": "code",
   "execution_count": null,
   "id": "c1ebb151",
   "metadata": {
    "colab": {
     "base_uri": "https://localhost:8080/",
     "height": 326
    },
    "colab_type": "code",
    "executionInfo": {
     "elapsed": 442,
     "status": "ok",
     "timestamp": 1573935665399,
     "user": {
      "displayName": "Rajeev Ratan",
      "photoUrl": "https://lh3.googleusercontent.com/a-/AAuE7mCGo6aIm0tOcd5EhqWlYb0rime9sBvHS9YMpx0D2w=s64",
      "userId": "08597265227091462140"
     },
     "user_tz": 0
    },
    "id": "0Dq5MU4tWh22",
    "outputId": "a747628f-c4c2-4776-c9dd-c04696ffc69f"
   },
   "outputs": [],
   "source": [
    "from sklearn.preprocessing import LabelEncoder\n",
    "from sklearn.preprocessing import StandardScaler\n",
    "\n",
    "# Mettez la colonne 'customerID' dans une liste appelée \"Id_col\"\n",
    "Id_col = ['customerID']\n",
    "\n",
    "# Mettez la colonne de sortie \"Churn\" dans une liste appelée target_col\n",
    "target_col = [\"Churn\"]\n",
    "\n",
    "# Créez une liste appelée \"cat_cols\" qui contient toutes les colonnes d'entrée catégorielles\n",
    "cat_cols = (churn_df.drop((Id_col + target_col), axis = 1)).select_dtypes(include=['object']).keys().tolist()\n",
    "\n",
    "# Créez une liste appelée \"num_cols\" qui contient toutes les colonnes d'entrée numériques\n",
    "num_cols = (churn_df.drop((Id_col + target_col + cat_cols), axis = 1)).keys().tolist()\n",
    "\n",
    "# Créez une liste appelée \"bin_cols\" qui contient toutes les colonnes d'entrée binaire avec seulement deux valeurs\n",
    "bin_cols =  (churn_df.drop((Id_col + target_col), axis = 1)).nunique()[churn_df.nunique() == 2].keys().tolist()\n",
    "\n",
    "# Créez une liste appelée \"multi_cols\" qui contient les colonnes d'entrée catégorielles avec plus de 2 valeurs\n",
    "multi_cols =  (churn_df.drop((Id_col + target_col + bin_cols + num_cols), axis = 1)).keys().tolist()\n",
    "\n",
    "# Créez un Label encoding et appliquez le aux colonnes binaires (utiliser la liste construite \"bin_cols\")\n",
    "\n",
    "for col in bin_cols:\n",
    "    churn_df[col] = LabelEncoder().fit_transform(churn_df[col])\n",
    "\n",
    "# Dupliquer les colonnes qui contient les colonnes d'entrée catégorielles avec plus de 2 valeurs \"multi_cols\"\n",
    "# Utiliser la fonction pd.get_dummies()\n",
    "\n",
    "churn_df = pd.get_dummies(churn_df, columns = multi_cols)\n"
   ]
  },
  {
   "cell_type": "code",
   "execution_count": null,
   "id": "37a52e2c",
   "metadata": {
    "colab": {
     "base_uri": "https://localhost:8080/",
     "height": 35
    },
    "colab_type": "code",
    "executionInfo": {
     "elapsed": 474,
     "status": "ok",
     "timestamp": 1573935822624,
     "user": {
      "displayName": "Rajeev Ratan",
      "photoUrl": "https://lh3.googleusercontent.com/a-/AAuE7mCGo6aIm0tOcd5EhqWlYb0rime9sBvHS9YMpx0D2w=s64",
      "userId": "08597265227091462140"
     },
     "user_tz": 0
    },
    "id": "oU8JZOemWh25",
    "outputId": "9c4bcecd-784e-441a-fd26-40e591c6f0e5"
   },
   "outputs": [],
   "source": [
    "# Affichez les 5 premières lignes de notre dataframe et observez la différence\n",
    "\n",
    "churn_df.head()"
   ]
  },
  {
   "cell_type": "code",
   "execution_count": null,
   "id": "0b97bc7a",
   "metadata": {},
   "outputs": [],
   "source": [
    "# Afficher le nombre de colonnes de notre base de données\n",
    "\n",
    "churn_df.shape[1]"
   ]
  },
  {
   "cell_type": "code",
   "execution_count": null,
   "id": "629ff117",
   "metadata": {
    "colab": {
     "base_uri": "https://localhost:8080/",
     "height": 326
    },
    "colab_type": "code",
    "executionInfo": {
     "elapsed": 395,
     "status": "ok",
     "timestamp": 1573935855695,
     "user": {
      "displayName": "Rajeev Ratan",
      "photoUrl": "https://lh3.googleusercontent.com/a-/AAuE7mCGo6aIm0tOcd5EhqWlYb0rime9sBvHS9YMpx0D2w=s64",
      "userId": "08597265227091462140"
     },
     "user_tz": 0
    },
    "id": "eFpfY3YqWh2-",
    "outputId": "73b4df8f-8a9b-4459-d5ca-b0f66d57dccb"
   },
   "outputs": [],
   "source": [
    "# Standardiser les colonnes numériques (Utilisez la fonction StandardScaler(), avec la liste \"num_cols\")\n",
    "\n",
    "sc = StandardScaler()\n",
    "churn_df[num_cols] = sc.fit_transform(churn_df[num_cols])\n",
    "\n",
    "# Affichez les 5 premières lignes de notre dataframe et observez la différence\n",
    "\n",
    "churn_df.head()"
   ]
  },
  {
   "cell_type": "code",
   "execution_count": null,
   "id": "9ce1fc9c",
   "metadata": {
    "colab": {
     "base_uri": "https://localhost:8080/",
     "height": 257
    },
    "colab_type": "code",
    "executionInfo": {
     "elapsed": 377,
     "status": "ok",
     "timestamp": 1573935881974,
     "user": {
      "displayName": "Rajeev Ratan",
      "photoUrl": "https://lh3.googleusercontent.com/a-/AAuE7mCGo6aIm0tOcd5EhqWlYb0rime9sBvHS9YMpx0D2w=s64",
      "userId": "08597265227091462140"
     },
     "user_tz": 0
    },
    "id": "1LR67A43Wh3A",
    "outputId": "a9633ccd-d584-4f0c-fc22-db24d4050cbd"
   },
   "outputs": [],
   "source": [
    "# Supprimer les colonnes 'customerID'\n",
    "\n",
    "churn_df.drop('customerID', axis = 1, inplace = True)\n",
    "\n",
    "# Afficher les 5 premiéres lignes pour vérifier la bonne modification\n",
    "\n",
    "churn_df.head()"
   ]
  },
  {
   "cell_type": "code",
   "execution_count": null,
   "id": "eaf75c91",
   "metadata": {
    "colab": {
     "base_uri": "https://localhost:8080/",
     "height": 441
    },
    "colab_type": "code",
    "executionInfo": {
     "elapsed": 366,
     "status": "ok",
     "timestamp": 1573935888246,
     "user": {
      "displayName": "Rajeev Ratan",
      "photoUrl": "https://lh3.googleusercontent.com/a-/AAuE7mCGo6aIm0tOcd5EhqWlYb0rime9sBvHS9YMpx0D2w=s64",
      "userId": "08597265227091462140"
     },
     "user_tz": 0
    },
    "id": "jRytT7GHWh3D",
    "outputId": "c4f81751-788a-4dab-aebf-091c4f89477a"
   },
   "outputs": [],
   "source": [
    "# Vérifiez s'il y a des valeurs manquantes dans notre base de données\n",
    "\n",
    "print(f\"Nombre de valeurs manquantes: {churn_df.isna().sum().sum()}\")"
   ]
  },
  {
   "cell_type": "markdown",
   "id": "d775ce6e",
   "metadata": {
    "colab_type": "text",
    "id": "QDb6tbc9QJaf"
   },
   "source": [
    "# Modélisation"
   ]
  },
  {
   "cell_type": "code",
   "execution_count": null,
   "id": "c21428df",
   "metadata": {
    "colab": {},
    "colab_type": "code",
    "id": "NYdRJZ1LWh3H"
   },
   "outputs": [],
   "source": [
    "from sklearn.model_selection import train_test_split\n",
    "\n",
    "# Mettez toutes les colonnes d'entrée sauf la colonne de sortie 'Churn' dans une variable nommée 'x' \n",
    "\n",
    "X = churn_df.drop('Churn', axis = 1)\n",
    "\n",
    "# Mettez la colonne de sortie 'left' dans une variable nommée 'y' \n",
    "\n",
    "y = LabelEncoder().fit_transform(churn_df['Churn'])"
   ]
  },
  {
   "cell_type": "code",
   "execution_count": null,
   "id": "13bb6876",
   "metadata": {
    "colab": {},
    "colab_type": "code",
    "id": "ZBlp6W4zWh3K"
   },
   "outputs": [],
   "source": [
    "# Divisez-les en un rapport Train:Test de 70:30 (X_train, X_test, y_train, y_test)\n",
    "\n",
    "X_train, X_test, y_train, y_test = train_test_split(X, y, test_size=0.3)"
   ]
  },
  {
   "cell_type": "code",
   "execution_count": null,
   "id": "7fbda267",
   "metadata": {
    "colab": {
     "base_uri": "https://localhost:8080/",
     "height": 35
    },
    "colab_type": "code",
    "executionInfo": {
     "elapsed": 358,
     "status": "ok",
     "timestamp": 1573936038226,
     "user": {
      "displayName": "Rajeev Ratan",
      "photoUrl": "https://lh3.googleusercontent.com/a-/AAuE7mCGo6aIm0tOcd5EhqWlYb0rime9sBvHS9YMpx0D2w=s64",
      "userId": "08597265227091462140"
     },
     "user_tz": 0
    },
    "id": "iUniwyaq5d7S",
    "outputId": "6d4d84c6-9c9e-4b85-9902-8144eef7069c"
   },
   "outputs": [],
   "source": [
    "# Affichez le type de \"X_train\"\n",
    "\n",
    "print(type(X_train))"
   ]
  },
  {
   "cell_type": "code",
   "execution_count": null,
   "id": "a416db7d",
   "metadata": {
    "colab": {
     "base_uri": "https://localhost:8080/",
     "height": 222
    },
    "colab_type": "code",
    "executionInfo": {
     "elapsed": 339,
     "status": "ok",
     "timestamp": 1573935987465,
     "user": {
      "displayName": "Rajeev Ratan",
      "photoUrl": "https://lh3.googleusercontent.com/a-/AAuE7mCGo6aIm0tOcd5EhqWlYb0rime9sBvHS9YMpx0D2w=s64",
      "userId": "08597265227091462140"
     },
     "user_tz": 0
    },
    "id": "62iGXr5yWh3N",
    "outputId": "dd0230c9-af0f-4e74-aade-03dd23593430"
   },
   "outputs": [],
   "source": [
    "# Construire un data frame par \"X_train\", puis afficher ses 5 premières lignes\n",
    "\n",
    "X_train.head()"
   ]
  },
  {
   "cell_type": "code",
   "execution_count": null,
   "id": "39c1d60c",
   "metadata": {
    "colab": {
     "base_uri": "https://localhost:8080/",
     "height": 347
    },
    "colab_type": "code",
    "executionInfo": {
     "elapsed": 379,
     "status": "ok",
     "timestamp": 1573936002003,
     "user": {
      "displayName": "Rajeev Ratan",
      "photoUrl": "https://lh3.googleusercontent.com/a-/AAuE7mCGo6aIm0tOcd5EhqWlYb0rime9sBvHS9YMpx0D2w=s64",
      "userId": "08597265227091462140"
     },
     "user_tz": 0
    },
    "id": "kM_zmKdFWh3P",
    "outputId": "46724a6d-256e-4abd-e947-3a919faba643"
   },
   "outputs": [],
   "source": [
    "# Déterminer le nombre de colonnes de notre base de données\n",
    "\n",
    "print(f\"Nombre de colonnes dans X_train: {X_train.columns.value_counts().sum()}\")"
   ]
  },
  {
   "cell_type": "markdown",
   "id": "7a4c1196",
   "metadata": {
    "colab_type": "text",
    "id": "-U1CjXtbQQXP"
   },
   "source": [
    "# Fit a Logistic Regression"
   ]
  },
  {
   "cell_type": "code",
   "execution_count": null,
   "id": "5cf2c5b0",
   "metadata": {
    "colab": {
     "base_uri": "https://localhost:8080/",
     "height": 280
    },
    "colab_type": "code",
    "executionInfo": {
     "elapsed": 383,
     "status": "ok",
     "timestamp": 1573936103341,
     "user": {
      "displayName": "Rajeev Ratan",
      "photoUrl": "https://lh3.googleusercontent.com/a-/AAuE7mCGo6aIm0tOcd5EhqWlYb0rime9sBvHS9YMpx0D2w=s64",
      "userId": "08597265227091462140"
     },
     "user_tz": 0
    },
    "id": "RHDfM_k2Wh3T",
    "outputId": "55386ce4-584a-41d2-a4c3-31b8c526a46c"
   },
   "outputs": [],
   "source": [
    "from sklearn.linear_model import LogisticRegression\n",
    "from sklearn.metrics import confusion_matrix\n",
    "from sklearn.metrics import classification_report\n",
    "from sklearn.metrics import accuracy_score\n",
    "\n",
    "\n",
    "# Définir et entrainer une Régression logistique\n",
    "\n",
    "logReg = LogisticRegression(solver = 'lbfgs')\n",
    "\n",
    "logReg.fit(X_test, y_test)\n",
    "\n",
    "y_pred = logReg.predict(X_test)\n",
    "\n",
    "# Afficher les évaluateurs métriques (Accuracy,precision,recall,f1-score,support ) dans une \"confusion matrix\"\n",
    "\n",
    "print(f\"Matrice de confusion: \\n{confusion_matrix(y_test, y_pred)}\\n\")\n",
    "\n",
    "print(f\"Precision: {round(accuracy_score(y_test, y_pred), 3) * 100}%\\n\")\n",
    "\n",
    "print(classification_report(y_test, y_pred))"
   ]
  },
  {
   "cell_type": "markdown",
   "id": "901819a0",
   "metadata": {
    "colab_type": "text",
    "id": "6o8duCaXQdT9"
   },
   "source": [
    "## Importance des fonctionnalités à l'aide de la régression logistique"
   ]
  },
  {
   "cell_type": "code",
   "execution_count": null,
   "id": "cee87049",
   "metadata": {
    "colab": {
     "base_uri": "https://localhost:8080/",
     "height": 55
    },
    "colab_type": "code",
    "executionInfo": {
     "elapsed": 353,
     "status": "ok",
     "timestamp": 1573936240518,
     "user": {
      "displayName": "Rajeev Ratan",
      "photoUrl": "https://lh3.googleusercontent.com/a-/AAuE7mCGo6aIm0tOcd5EhqWlYb0rime9sBvHS9YMpx0D2w=s64",
      "userId": "08597265227091462140"
     },
     "user_tz": 0
    },
    "id": "K2c7rJTuWh3W",
    "outputId": "dec65097-8dcb-4783-8044-a1b9c9f13047"
   },
   "outputs": [],
   "source": [
    "# Afficher les coefficients d'importance des variables d'entrée sur notre prédiction\n",
    "\n",
    "importances = logReg.coef_[0]\n",
    "colones = churn_df.drop(['Churn'], axis = 1).columns.values.tolist()\n",
    "\n",
    "imp_df = pd.DataFrame()\n",
    "\n",
    "imp_df['feature'] = colones\n",
    "imp_df['importance'] = importances\n",
    "\n",
    "imp_df.sort_values('importance', axis = 0, ascending = False, inplace = True)\n",
    "\n",
    "imp_df.plot.bar(x = 'feature', y = 'importance', rot = 90)"
   ]
  },
  {
   "cell_type": "markdown",
   "id": "92e80ca6",
   "metadata": {
    "colab_type": "text",
    "id": "XO_mL0ZFQh8a"
   },
   "source": [
    "# Forêts aléatoires (Random Forests)"
   ]
  },
  {
   "cell_type": "code",
   "execution_count": null,
   "id": "de20480e",
   "metadata": {
    "colab": {
     "base_uri": "https://localhost:8080/",
     "height": 280
    },
    "colab_type": "code",
    "executionInfo": {
     "elapsed": 423,
     "status": "ok",
     "timestamp": 1573936348593,
     "user": {
      "displayName": "Rajeev Ratan",
      "photoUrl": "https://lh3.googleusercontent.com/a-/AAuE7mCGo6aIm0tOcd5EhqWlYb0rime9sBvHS9YMpx0D2w=s64",
      "userId": "08597265227091462140"
     },
     "user_tz": 0
    },
    "id": "gbHoOy4sWh3g",
    "outputId": "dcc57a38-bb55-43c3-ef68-b33f25537a19"
   },
   "outputs": [],
   "source": [
    "from sklearn.ensemble import RandomForestClassifier\n",
    "\n",
    "# Définir et entrainer une Random Forest\n",
    "\n",
    "forest = RandomForestClassifier()\n",
    "\n",
    "forest.fit(X_train, y_train)\n",
    "\n",
    "y_pred = forest.predict(X_test)\n",
    "\n",
    "# Afficher les évaluateurs métriques (Accuracy,precision,recall,f1-score,support ) dans une \"confusion matrix\"\n",
    "\n",
    "print(f\"Matrice de confusion: \\n{confusion_matrix(y_test, y_pred)}\\n\")\n",
    "\n",
    "print(f\"Precision: {round(accuracy_score(y_test, y_pred), 3) * 100}%\\n\")\n",
    "\n",
    "print(classification_report(y_test, y_pred))"
   ]
  },
  {
   "cell_type": "markdown",
   "id": "bf4f0f1f",
   "metadata": {},
   "source": [
    "# Arbre de décision\n"
   ]
  },
  {
   "cell_type": "code",
   "execution_count": null,
   "id": "c88516bc",
   "metadata": {},
   "outputs": [],
   "source": [
    "from sklearn.tree import DecisionTreeClassifier\n",
    "\n",
    "# Définir et entrainer un arbre de décision\n",
    "\n",
    "deci_tree = DecisionTreeClassifier()\n",
    "\n",
    "deci_tree.fit(X_train, y_train)\n",
    "\n",
    "y_pred = deci_tree.predict(X_test)\n",
    "\n",
    "# Afficher les évaluateurs métriques (Accuracy,precision,recall,f1-score,support ) dans une \"confusion matrix\"\n",
    "\n",
    "print(f\"Matrice de confusion: \\n{confusion_matrix(y_test, y_pred)}\\n\")\n",
    "\n",
    "print(f\"Precision: {round(accuracy_score(y_test, y_pred), 3) * 100}%\\n\")\n",
    "\n",
    "print(classification_report(y_test, y_pred))"
   ]
  },
  {
   "cell_type": "markdown",
   "id": "993b8e43",
   "metadata": {},
   "source": [
    "# SVM"
   ]
  },
  {
   "cell_type": "code",
   "execution_count": null,
   "id": "c9796dd8",
   "metadata": {},
   "outputs": [],
   "source": [
    "from sklearn.svm import SVC\n",
    "\n",
    "# Définir et entrainer un classificateur de SVM\n",
    "\n",
    "clf = SVC()\n",
    "clf.fit(X_train, y_train)\n",
    "y_pred = clf.predict(X_test)\n",
    "\n",
    "# Afficher les évaluateurs métriques (Accuracy,precision,recall,f1-score,support) dans une \"confusion matrix\"\n",
    "\n",
    "print(f\"Matrice de confusion: \\n{confusion_matrix(y_test, y_pred)}\\n\")\n",
    "\n",
    "print(f\"Precision: {round(accuracy_score(y_test, y_pred), 3) * 100}%\\n\")\n",
    "\n",
    "print(classification_report(y_test, y_pred))"
   ]
  },
  {
   "cell_type": "markdown",
   "id": "47f65e77",
   "metadata": {},
   "source": [
    "# XG-boost"
   ]
  },
  {
   "cell_type": "code",
   "execution_count": null,
   "id": "4b078ec7",
   "metadata": {},
   "outputs": [],
   "source": [
    "from sklearn.ensemble import GradientBoostingClassifier\n",
    "\n",
    "# Définir et entrainer un classificateur de XGboost\n",
    "\n",
    "xg_boost = GradientBoostingClassifier()\n",
    "xg_boost.fit(X_train, y_train)\n",
    "y_pred = xg_boost.predict(X_test)\n",
    "\n",
    "# Afficher les évaluateurs métriques (Accuracy,precision,recall,f1-score,support) dans une \"confusion matrix\"\n",
    "\n",
    "print(f\"Matrice de confusion: \\n{confusion_matrix(y_test, y_pred)}\\n\")\n",
    "\n",
    "print(f\"Precision: {round(accuracy_score(y_test, y_pred), 3) * 100}%\\n\")\n",
    "\n",
    "print(classification_report(y_test, y_pred))"
   ]
  },
  {
   "cell_type": "markdown",
   "id": "c8dcc898",
   "metadata": {
    "colab_type": "text",
    "id": "N_KTwkW1TGiF"
   },
   "source": [
    "# Enregistrement et chargement de modèles"
   ]
  },
  {
   "cell_type": "code",
   "execution_count": null,
   "id": "2fb78ecc",
   "metadata": {
    "colab": {},
    "colab_type": "code",
    "id": "XzNQwWEYTHeL"
   },
   "outputs": [],
   "source": [
    "import pickle\n",
    "\n",
    "# Enregistrer et charger le modèle\n",
    "\n"
   ]
  },
  {
   "cell_type": "markdown",
   "id": "de872caf",
   "metadata": {
    "colab_type": "text",
    "id": "Ec1GwvWOQk_S"
   },
   "source": [
    "# Try Deep Learning"
   ]
  },
  {
   "cell_type": "code",
   "execution_count": null,
   "id": "7f4ac823",
   "metadata": {
    "colab": {},
    "colab_type": "code",
    "id": "9ffefRIm_Xg5"
   },
   "outputs": [],
   "source": [
    "# Use the newest version of TensorFlow 2.0\n",
    "import tensorflow as tf\n",
    "\n",
    "tf.__version__"
   ]
  },
  {
   "cell_type": "code",
   "execution_count": null,
   "id": "b4acfdeb",
   "metadata": {
    "colab": {
     "base_uri": "https://localhost:8080/",
     "height": 35
    },
    "colab_type": "code",
    "executionInfo": {
     "elapsed": 380,
     "status": "ok",
     "timestamp": 1573936521415,
     "user": {
      "displayName": "Rajeev Ratan",
      "photoUrl": "https://lh3.googleusercontent.com/a-/AAuE7mCGo6aIm0tOcd5EhqWlYb0rime9sBvHS9YMpx0D2w=s64",
      "userId": "08597265227091462140"
     },
     "user_tz": 0
    },
    "id": "iYbg3BqIR1lN",
    "outputId": "6b75a237-456e-47a8-cea3-24e4d94676fc"
   },
   "outputs": [],
   "source": [
    "# Check to ensure we're using our GPU\n",
    "from tensorflow.python.client import device_lib\n",
    "\n",
    "print(tf.config.list_physical_devices('GPU'))\n",
    "gpu = [x.name for x in device_lib.list_local_devices() if x.device_type == 'GPU']\n",
    "print(gpu)"
   ]
  },
  {
   "cell_type": "code",
   "execution_count": null,
   "id": "4317313b",
   "metadata": {
    "colab": {},
    "colab_type": "code",
    "id": "Zfu5IBNvWh3k"
   },
   "outputs": [],
   "source": [
    "# Create a simple model\n",
    "from keras.models import Sequential\n",
    "from keras.layers import Dense\n",
    "\n",
    "# Contruire un réseaux de neurones tels que :\n",
    "# la couche d'entrée admet le \"relu\" comme fonction d'activation avec le kernel_initializer \"uniform\"\n",
    "# La couche de sortie admet la \"sigmoid\" comme fonction d'activation avec le kernel_initializer \"uniform\"\n",
    "# Le compile se fait avec ( optimizer= \"adam\",loss = \"binary_crossentropy\",metrics = [\"accuracy\"] )\n",
    "\n",
    "model = Sequential()\n",
    "model.add(Dense(40, activation = \"relu\", kernel_initializer = \"uniform\", name = 'entree', input_dim = 40 ))\n",
    "model.add(Dense(1, activation = \"sigmoid\", kernel_initializer = \"uniform\", name = 'sortie'))\n",
    "\n",
    "model.compile(optimizer = \"adam\", loss = \"binary_crossentropy\", metrics = [\"accuracy\"])"
   ]
  },
  {
   "cell_type": "code",
   "execution_count": null,
   "id": "9443907f",
   "metadata": {
    "colab": {
     "base_uri": "https://localhost:8080/",
     "height": 225
    },
    "colab_type": "code",
    "executionInfo": {
     "elapsed": 382,
     "status": "ok",
     "timestamp": 1573936550570,
     "user": {
      "displayName": "Rajeev Ratan",
      "photoUrl": "https://lh3.googleusercontent.com/a-/AAuE7mCGo6aIm0tOcd5EhqWlYb0rime9sBvHS9YMpx0D2w=s64",
      "userId": "08597265227091462140"
     },
     "user_tz": 0
    },
    "id": "LlG4aoSUWh3l",
    "outputId": "45a1fed0-89b4-4e29-86fd-2e0d6121d144"
   },
   "outputs": [],
   "source": [
    "# Afficher le résumé du modèle et afficher les paramètres\n",
    "\n",
    "model.summary()"
   ]
  },
  {
   "cell_type": "code",
   "execution_count": null,
   "id": "be464e13",
   "metadata": {
    "colab": {
     "base_uri": "https://localhost:8080/",
     "height": 936
    },
    "colab_type": "code",
    "executionInfo": {
     "elapsed": 12029,
     "status": "ok",
     "timestamp": 1573936570213,
     "user": {
      "displayName": "Rajeev Ratan",
      "photoUrl": "https://lh3.googleusercontent.com/a-/AAuE7mCGo6aIm0tOcd5EhqWlYb0rime9sBvHS9YMpx0D2w=s64",
      "userId": "08597265227091462140"
     },
     "user_tz": 0
    },
    "id": "5XBBfBWTWh3o",
    "outputId": "89b2bbcc-0602-49c9-83ea-3a152b35bb1f"
   },
   "outputs": [],
   "source": [
    "# Entrainer le réseux de neurones, mettez le batch_size à 64 et l'epochs à 25\n",
    "\n",
    "history = model.fit(X_train, y_train, batch_size = 64, epochs = 25)"
   ]
  },
  {
   "cell_type": "code",
   "execution_count": null,
   "id": "30c12f96",
   "metadata": {
    "colab": {
     "base_uri": "https://localhost:8080/",
     "height": 208
    },
    "colab_type": "code",
    "executionInfo": {
     "elapsed": 475,
     "status": "ok",
     "timestamp": 1573936580242,
     "user": {
      "displayName": "Rajeev Ratan",
      "photoUrl": "https://lh3.googleusercontent.com/a-/AAuE7mCGo6aIm0tOcd5EhqWlYb0rime9sBvHS9YMpx0D2w=s64",
      "userId": "08597265227091462140"
     },
     "user_tz": 0
    },
    "id": "72wpaRH1Wh3s",
    "outputId": "ecd8fff3-2f8b-4877-9154-6a39b5708bc2"
   },
   "outputs": [],
   "source": [
    "# Afficher les évaluateurs métriques (Accuracy,precision,recall,f1-score,support ) dans une \"confusion matrix\"\n",
    "\n",
    "y_pred = model.predict(X_test)\n",
    "y_pred = y_pred > 0.5\n",
    "\n",
    "print(f\"Matrice de confusion: \\n{confusion_matrix(y_test, y_pred)}\\n\")\n",
    "\n",
    "print(f\"Precision: {round(accuracy_score(y_test, y_pred), 4) * 100}%\\n\")\n",
    "\n",
    "\n",
    "print(classification_report(y_test, y_pred))"
   ]
  },
  {
   "cell_type": "markdown",
   "id": "c3f0ae99",
   "metadata": {
    "colab_type": "text",
    "id": "SaZvnoFnV3wE"
   },
   "source": [
    "## Sauvegarder et charger nos modèles de Deep Learning"
   ]
  },
  {
   "cell_type": "code",
   "execution_count": null,
   "id": "f2ca3dec",
   "metadata": {
    "colab": {
     "base_uri": "https://localhost:8080/",
     "height": 35
    },
    "colab_type": "code",
    "executionInfo": {
     "elapsed": 383,
     "status": "ok",
     "timestamp": 1573936607660,
     "user": {
      "displayName": "Rajeev Ratan",
      "photoUrl": "https://lh3.googleusercontent.com/a-/AAuE7mCGo6aIm0tOcd5EhqWlYb0rime9sBvHS9YMpx0D2w=s64",
      "userId": "08597265227091462140"
     },
     "user_tz": 0
    },
    "id": "WqCalNWiV3T4",
    "outputId": "67cb5bed-adcd-4aaf-b6b2-142015454f8a"
   },
   "outputs": [],
   "source": [
    "# Sauvgarder le modéle\n"
   ]
  },
  {
   "cell_type": "code",
   "execution_count": null,
   "id": "9a128230",
   "metadata": {
    "colab": {},
    "colab_type": "code",
    "id": "zA_Qf1S7WU1x"
   },
   "outputs": [],
   "source": [
    "# Chargez le modéle\n"
   ]
  },
  {
   "cell_type": "markdown",
   "id": "63b7e7d9",
   "metadata": {
    "colab_type": "text",
    "id": "EiRTlcN5WALu"
   },
   "source": [
    "## Essayons un modèle plus profond et apprenons à utiliser les points de contrôle et l'arrêt anticipé"
   ]
  },
  {
   "cell_type": "code",
   "execution_count": null,
   "id": "5f18eedb",
   "metadata": {
    "colab": {
     "base_uri": "https://localhost:8080/",
     "height": 399
    },
    "colab_type": "code",
    "executionInfo": {
     "elapsed": 822,
     "status": "ok",
     "timestamp": 1573936738656,
     "user": {
      "displayName": "Rajeev Ratan",
      "photoUrl": "https://lh3.googleusercontent.com/a-/AAuE7mCGo6aIm0tOcd5EhqWlYb0rime9sBvHS9YMpx0D2w=s64",
      "userId": "08597265227091462140"
     },
     "user_tz": 0
    },
    "id": "Vb75XWr8Q-Hl",
    "outputId": "efe46547-c3cc-46e2-f683-1323e63a28e9"
   },
   "outputs": [],
   "source": [
    "from keras.regularizers import l2\n",
    "from keras.layers import Dropout\n",
    "from keras.callbacks import ModelCheckpoint\n",
    "\n",
    "# Construisez un modéle de réseaux de neurones appelé \"modell2\" avec 3 couches cachées, la fonction d'activation des couches cachées est 'activation='relu''\n",
    "\n",
    "model_l2 = Sequential()\n",
    "\n",
    "model_l2.add(Dense(40, kernel_regularizer = l2(), activation = \"relu\", input_shape = (40,)))\n",
    "model_l2.add(Dropout(0.2))\n",
    "\n",
    "model_l2.add(Dense(40, kernel_regularizer = l2(), activation = \"relu\"))\n",
    "model_l2.add(Dropout(0.2))\n",
    "\n",
    "model_l2.add(Dense(40, kernel_regularizer = l2(), activation = \"relu\"))\n",
    "model_l2.add(Dropout(0.2))\n",
    "\n",
    "model_l2.add(Dense(1, kernel_regularizer = l2(), activation = \"sigmoid\"))\n",
    "\n",
    "# Créez notre point de contrôle \"Checkpoint\" afin que nous sauvegardions chaque modèle après chaque époque\n",
    "\n",
    "filepath = \"mnist_data_checkpoint\"\n",
    "checkpoint = ModelCheckpoint(filepath, monitor='val_accuracy', verbose=1, save_best_only=True, mode='max')\n",
    "callbacks_list = [checkpoint]\n",
    "print(model_l2)\n",
    "print(callbacks_list)"
   ]
  },
  {
   "cell_type": "code",
   "execution_count": null,
   "id": "351a0454",
   "metadata": {
    "colab": {},
    "colab_type": "code",
    "id": "40ag97J8RHaF"
   },
   "outputs": [],
   "source": [
    "# Compilez \"le model12\", La compilation se fait avec ( optimizer= \"adam\",loss = \"binary_crossentropy\",metrics = [\"accuracy\"] )\n",
    "\n",
    "model_l2.compile(optimizer = \"adam\", loss = \"binary_crossentropy\", metrics = [\"accuracy\"])"
   ]
  },
  {
   "cell_type": "code",
   "execution_count": null,
   "id": "947ab933",
   "metadata": {},
   "outputs": [],
   "source": [
    "model_l2.summary()"
   ]
  },
  {
   "cell_type": "code",
   "execution_count": null,
   "id": "d5abaddf",
   "metadata": {
    "colab": {},
    "colab_type": "code",
    "id": "aaFC77JyUTAW"
   },
   "outputs": [],
   "source": [
    "from keras.callbacks import EarlyStopping \n",
    "\n",
    "# Définir des critères d'arrêt anticipé :\n",
    "# monitor = 'val_loss' : valeur faisant l'objet d'un suivi d'amélioration\n",
    "# min_delta = 0 : Valeur abs et est le changement minimum requis avant que nous nous arrêtions\n",
    "# patience = 2 : Nombre d'époques que nous attendons avant de nous arrêter\n",
    "# verbose = 1 \n",
    "# restore_best_weights = True : garde les meilleurs poids une fois à l'arrêt\n",
    "\n",
    "\n",
    "# Mettez les critères d'arrêt anticipé dans une liste\n",
    "\n",
    "callback = EarlyStopping(monitor = \"val_loss\", min_delta = 0, patience = 2, verbose = 1, restore_best_weights = True)"
   ]
  },
  {
   "cell_type": "code",
   "execution_count": null,
   "id": "36e485d4",
   "metadata": {
    "colab": {
     "base_uri": "https://localhost:8080/",
     "height": 728
    },
    "colab_type": "code",
    "executionInfo": {
     "elapsed": 17578,
     "status": "ok",
     "timestamp": 1573936825517,
     "user": {
      "displayName": "Rajeev Ratan",
      "photoUrl": "https://lh3.googleusercontent.com/a-/AAuE7mCGo6aIm0tOcd5EhqWlYb0rime9sBvHS9YMpx0D2w=s64",
      "userId": "08597265227091462140"
     },
     "user_tz": 0
    },
    "id": "Mefoo_iORH2J",
    "outputId": "7b90e45b-7375-4a86-ebb1-5541c81b31f7"
   },
   "outputs": [],
   "source": [
    "# Entrainer le réseux de neurones, mettez le batch_size à 32 et l'epochs à 10\n",
    "\n",
    "history = model_l2.fit(X_train, y_train, batch_size = 32, epochs = 10, callbacks = [callback])"
   ]
  },
  {
   "cell_type": "code",
   "execution_count": null,
   "id": "51737f29",
   "metadata": {},
   "outputs": [],
   "source": [
    "y_pred = model_l2.predict(X_test)\n",
    "y_pred = y_pred > 0.5\n",
    "\n",
    "print(f\"Matrice de confusion: \\n{confusion_matrix(y_test, y_pred)}\\n\")\n",
    "\n",
    "print(f\"Precision: {round(accuracy_score(y_test, y_pred), 4) * 100}%\\n\")\n",
    "\n",
    "print(classification_report(y_test, y_pred))"
   ]
  },
  {
   "cell_type": "code",
   "execution_count": null,
   "id": "e6d43e55",
   "metadata": {},
   "outputs": [],
   "source": [
    "display(plt.plot(history.history['loss']))"
   ]
  },
  {
   "cell_type": "code",
   "execution_count": null,
   "id": "2558ef06",
   "metadata": {},
   "outputs": [],
   "source": [
    "display(plt.plot(history.history['accuracy']))"
   ]
  }
 ],
 "metadata": {
  "kernelspec": {
   "display_name": "base",
   "language": "python",
   "name": "python3"
  },
  "language_info": {
   "codemirror_mode": {
    "name": "ipython",
    "version": 3
   },
   "file_extension": ".py",
   "mimetype": "text/x-python",
   "name": "python",
   "nbconvert_exporter": "python",
   "pygments_lexer": "ipython3",
   "version": "3.9.15"
  },
  "vscode": {
   "interpreter": {
    "hash": "ad2bdc8ecc057115af97d19610ffacc2b4e99fae6737bb82f5d7fb13d2f2c186"
   }
  }
 },
 "nbformat": 4,
 "nbformat_minor": 5
}
