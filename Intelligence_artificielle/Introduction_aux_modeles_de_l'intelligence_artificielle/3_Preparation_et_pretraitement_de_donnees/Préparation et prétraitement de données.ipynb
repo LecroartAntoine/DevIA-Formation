{
 "cells": [
  {
   "cell_type": "markdown",
   "metadata": {
    "colab_type": "text",
    "id": "YZSnXLtHjPg1"
   },
   "source": [
    "# Pandas - Nettoyage des données\n",
    "\n",
    "1. Renommer les colonnes\n",
    "2. Réorganiser l'ordre des colonnes\n",
    "3. Vérification des types de données de colonnes spécifiques\n",
    "4. Suppression du texte de la colonne\n",
    "5. Traitement des données manquantes\n",
    "6. Modification des types de données\n",
    "7. Remplacement de texte dans une colonne\n",
    "8. Opérations de chaîne de données de colonne\n",
    "9. Suppression de colonnes\n",
    "10. Suppression de lignes\n"
   ]
  },
  {
   "cell_type": "code",
   "execution_count": null,
   "metadata": {
    "colab": {
     "base_uri": "https://localhost:8080/",
     "height": 204
    },
    "colab_type": "code",
    "executionInfo": {
     "elapsed": 6225,
     "status": "ok",
     "timestamp": 1576604923232,
     "user": {
      "displayName": "Rajeev Ratan",
      "photoUrl": "https://lh3.googleusercontent.com/a-/AAuE7mCGo6aIm0tOcd5EhqWlYb0rime9sBvHS9YMpx0D2w=s64",
      "userId": "08597265227091462140"
     },
     "user_tz": 240
    },
    "id": "tCpBAX3FiCCZ",
    "outputId": "52befb42-df23-4075-8b3e-ca4551902e2d",
    "scrolled": false
   },
   "outputs": [],
   "source": [
    "import pandas as pd\n",
    "file_name = \"https://raw.githubusercontent.com/rajeevratan84/datascienceforbusiness/master/amazon_fires.csv\"\n",
    "df = pd.read_csv(file_name, encoding = \"ISO-8859-1\")\n",
    "\n",
    "pd.set_option('display.max_rows', 7000)\n",
    "pd.set_option('display.max_columns', 7000)\n",
    "\n",
    "df.tail()"
   ]
  },
  {
   "cell_type": "code",
   "execution_count": null,
   "metadata": {
    "colab": {
     "base_uri": "https://localhost:8080/",
     "height": 102
    },
    "colab_type": "code",
    "executionInfo": {
     "elapsed": 6207,
     "status": "ok",
     "timestamp": 1576604923234,
     "user": {
      "displayName": "Rajeev Ratan",
      "photoUrl": "https://lh3.googleusercontent.com/a-/AAuE7mCGo6aIm0tOcd5EhqWlYb0rime9sBvHS9YMpx0D2w=s64",
      "userId": "08597265227091462140"
     },
     "user_tz": 240
    },
    "id": "ltOfXHFzghuz",
    "outputId": "595172c4-5a06-48e6-927e-57adca8a5887"
   },
   "outputs": [],
   "source": [
    "# afficher uniquement la colonne 'estado'\n",
    "\n",
    "display(df['estado'])\n"
   ]
  },
  {
   "cell_type": "markdown",
   "metadata": {
    "colab_type": "text",
    "id": "0jP8IvwOpA9k"
   },
   "source": [
    "# Renommer les colonnes"
   ]
  },
  {
   "cell_type": "code",
   "execution_count": null,
   "metadata": {
    "colab": {},
    "colab_type": "code",
    "id": "6-6ZsPU7pCwx"
   },
   "outputs": [],
   "source": [
    "#Renommer les colonnes en anglais\n",
    "    #'ano' : 'year'\n",
    "    #'estado': 'state'\n",
    "    #'mes': 'month'\n",
    "    #'numero': 'number_of_fires'\n",
    "    #'encontro': 'date'\n",
    "    \n",
    "df.rename(columns={'ano': 'year', 'estado': 'state', 'mes' : 'month', 'numero' : 'number_of_fires', 'encontro' : 'date'}, inplace = True)  "
   ]
  },
  {
   "cell_type": "code",
   "execution_count": null,
   "metadata": {
    "colab": {
     "base_uri": "https://localhost:8080/",
     "height": 204
    },
    "colab_type": "code",
    "executionInfo": {
     "elapsed": 6188,
     "status": "ok",
     "timestamp": 1576604923237,
     "user": {
      "displayName": "Rajeev Ratan",
      "photoUrl": "https://lh3.googleusercontent.com/a-/AAuE7mCGo6aIm0tOcd5EhqWlYb0rime9sBvHS9YMpx0D2w=s64",
      "userId": "08597265227091462140"
     },
     "user_tz": 240
    },
    "id": "zy3PLHgKpgYg",
    "outputId": "bd42cf59-7491-4afe-8ba3-b386fb908185"
   },
   "outputs": [],
   "source": [
    "# Afficher les 5 premières lignes pour vérifier qu'il est bien modifié\n",
    "\n",
    "df.head()"
   ]
  },
  {
   "cell_type": "code",
   "execution_count": null,
   "metadata": {
    "colab": {
     "base_uri": "https://localhost:8080/",
     "height": 51
    },
    "colab_type": "code",
    "executionInfo": {
     "elapsed": 6174,
     "status": "ok",
     "timestamp": 1576604923238,
     "user": {
      "displayName": "Rajeev Ratan",
      "photoUrl": "https://lh3.googleusercontent.com/a-/AAuE7mCGo6aIm0tOcd5EhqWlYb0rime9sBvHS9YMpx0D2w=s64",
      "userId": "08597265227091462140"
     },
     "user_tz": 240
    },
    "id": "9316IE7JjkMn",
    "outputId": "c43d5385-f4e3-490e-dacd-709f416656df"
   },
   "outputs": [],
   "source": [
    "# Combien d'années y a-t-il dans la colonne 'year' ?\n",
    "\n",
    "len(df['year'].value_counts())"
   ]
  },
  {
   "cell_type": "code",
   "execution_count": null,
   "metadata": {
    "colab": {
     "base_uri": "https://localhost:8080/",
     "height": 187
    },
    "colab_type": "code",
    "executionInfo": {
     "elapsed": 6152,
     "status": "ok",
     "timestamp": 1576604923239,
     "user": {
      "displayName": "Rajeev Ratan",
      "photoUrl": "https://lh3.googleusercontent.com/a-/AAuE7mCGo6aIm0tOcd5EhqWlYb0rime9sBvHS9YMpx0D2w=s64",
      "userId": "08597265227091462140"
     },
     "user_tz": 240
    },
    "id": "lshR7OeagEW7",
    "outputId": "e91ba48f-436d-47db-dea3-33676718c0e3"
   },
   "outputs": [],
   "source": [
    "# Consulter les types des colonnes\n",
    "\n",
    "df.dtypes"
   ]
  },
  {
   "cell_type": "markdown",
   "metadata": {
    "colab_type": "text",
    "id": "1Q6ugBSjADMh"
   },
   "source": [
    "# Réorganiser les colonnes"
   ]
  },
  {
   "cell_type": "code",
   "execution_count": null,
   "metadata": {
    "colab": {
     "base_uri": "https://localhost:8080/",
     "height": 204
    },
    "colab_type": "code",
    "executionInfo": {
     "elapsed": 6123,
     "status": "ok",
     "timestamp": 1576604923241,
     "user": {
      "displayName": "Rajeev Ratan",
      "photoUrl": "https://lh3.googleusercontent.com/a-/AAuE7mCGo6aIm0tOcd5EhqWlYb0rime9sBvHS9YMpx0D2w=s64",
      "userId": "08597265227091462140"
     },
     "user_tz": 240
    },
    "id": "rsia68dVAEnI",
    "outputId": "732715b0-9d95-4bea-cdbe-0fc60269817d"
   },
   "outputs": [],
   "source": [
    "# Les colonnes sont numérotées de 0 à 4, de gauche à droite\n",
    "# Mettez la date en premier, le mois en second et l'année en 3ème\n",
    "\n",
    "colones = df.columns.tolist()\n",
    "colones = colones[4:] + colones[1:2] + colones[0:1] + colones[2:4]\n",
    "df = df[colones]"
   ]
  },
  {
   "cell_type": "code",
   "execution_count": null,
   "metadata": {
    "colab": {
     "base_uri": "https://localhost:8080/",
     "height": 824
    },
    "colab_type": "code",
    "executionInfo": {
     "elapsed": 6106,
     "status": "ok",
     "timestamp": 1576604923242,
     "user": {
      "displayName": "Rajeev Ratan",
      "photoUrl": "https://lh3.googleusercontent.com/a-/AAuE7mCGo6aIm0tOcd5EhqWlYb0rime9sBvHS9YMpx0D2w=s64",
      "userId": "08597265227091462140"
     },
     "user_tz": 240
    },
    "id": "ILfBkSgRznr0",
    "outputId": "f4f3f2b2-7e77-4463-c534-a7169f5493e0"
   },
   "outputs": [],
   "source": [
    "# Afficher les 5 premières lignes pour vérifier la modification\n",
    "df.head()"
   ]
  },
  {
   "cell_type": "code",
   "execution_count": null,
   "metadata": {
    "colab": {
     "base_uri": "https://localhost:8080/",
     "height": 204
    },
    "colab_type": "code",
    "executionInfo": {
     "elapsed": 6093,
     "status": "ok",
     "timestamp": 1576604923243,
     "user": {
      "displayName": "Rajeev Ratan",
      "photoUrl": "https://lh3.googleusercontent.com/a-/AAuE7mCGo6aIm0tOcd5EhqWlYb0rime9sBvHS9YMpx0D2w=s64",
      "userId": "08597265227091462140"
     },
     "user_tz": 240
    },
    "id": "w5BTWHkRweKR",
    "outputId": "dffbfd0d-e4dc-400b-f653-141b8739a117"
   },
   "outputs": [],
   "source": [
    "# Afficher les 5 derniéres lignes\n",
    "df.tail()"
   ]
  },
  {
   "cell_type": "markdown",
   "metadata": {
    "colab_type": "text",
    "id": "hWNUppp2vK6B"
   },
   "source": [
    "# Déterminer si une colonne contient des données numériques"
   ]
  },
  {
   "cell_type": "code",
   "execution_count": null,
   "metadata": {
    "colab": {
     "base_uri": "https://localhost:8080/",
     "height": 221
    },
    "colab_type": "code",
    "executionInfo": {
     "elapsed": 6073,
     "status": "ok",
     "timestamp": 1576604923246,
     "user": {
      "displayName": "Rajeev Ratan",
      "photoUrl": "https://lh3.googleusercontent.com/a-/AAuE7mCGo6aIm0tOcd5EhqWlYb0rime9sBvHS9YMpx0D2w=s64",
      "userId": "08597265227091462140"
     },
     "user_tz": 240
    },
    "id": "BYS0q1LYqT6G",
    "outputId": "84c8f7fe-d951-4062-a4ec-08228025add6"
   },
   "outputs": [],
   "source": [
    "# vérifie si le contenu de la colonne 'number_of_fires' est numérique ou non\n",
    "\n",
    "pd.api.types.is_numeric_dtype(df['number_of_fires'])"
   ]
  },
  {
   "cell_type": "code",
   "execution_count": null,
   "metadata": {
    "colab": {
     "base_uri": "https://localhost:8080/",
     "height": 221
    },
    "colab_type": "code",
    "executionInfo": {
     "elapsed": 1035,
     "status": "ok",
     "timestamp": 1576604968081,
     "user": {
      "displayName": "Rajeev Ratan",
      "photoUrl": "https://lh3.googleusercontent.com/a-/AAuE7mCGo6aIm0tOcd5EhqWlYb0rime9sBvHS9YMpx0D2w=s64",
      "userId": "08597265227091462140"
     },
     "user_tz": 240
    },
    "id": "lcWU0PwYrCvs",
    "outputId": "afe83a31-6aed-4118-8d36-5be991f5b825"
   },
   "outputs": [],
   "source": [
    "# vérifie si le contenu de la colonne 'number_of_fires' est digital ou non\n",
    "\n",
    "pd.api.types.is_string_dtype(df['number_of_fires'])"
   ]
  },
  {
   "cell_type": "markdown",
   "metadata": {
    "colab_type": "text",
    "id": "V1gaXjc-vuQq"
   },
   "source": [
    "# Suppression du texte inutile des colonnes"
   ]
  },
  {
   "cell_type": "code",
   "execution_count": null,
   "metadata": {
    "colab": {
     "base_uri": "https://localhost:8080/",
     "height": 221
    },
    "colab_type": "code",
    "executionInfo": {
     "elapsed": 815,
     "status": "ok",
     "timestamp": 1576604969012,
     "user": {
      "displayName": "Rajeev Ratan",
      "photoUrl": "https://lh3.googleusercontent.com/a-/AAuE7mCGo6aIm0tOcd5EhqWlYb0rime9sBvHS9YMpx0D2w=s64",
      "userId": "08597265227091462140"
     },
     "user_tz": 240
    },
    "id": "ModoDUIHvySz",
    "outputId": "cf30816e-7712-48d8-d699-2e5765b59637"
   },
   "outputs": [],
   "source": [
    "# Supprimez le mot 'Fires' du contenu de 'number_of_fires'\n",
    "import re\n",
    "\n",
    "df['number_of_fires'] = df['number_of_fires'].str.replace(r'\\D', '', regex = True)"
   ]
  },
  {
   "cell_type": "code",
   "execution_count": null,
   "metadata": {
    "colab": {
     "base_uri": "https://localhost:8080/",
     "height": 204
    },
    "colab_type": "code",
    "executionInfo": {
     "elapsed": 1142,
     "status": "ok",
     "timestamp": 1576604970105,
     "user": {
      "displayName": "Rajeev Ratan",
      "photoUrl": "https://lh3.googleusercontent.com/a-/AAuE7mCGo6aIm0tOcd5EhqWlYb0rime9sBvHS9YMpx0D2w=s64",
      "userId": "08597265227091462140"
     },
     "user_tz": 240
    },
    "id": "iVLxwJ6Ssggj",
    "outputId": "6791b61e-f936-408b-b7f2-3cbf0f0f9bae"
   },
   "outputs": [],
   "source": [
    "# remplacer la colonne 'number_of_fires' sans le mot 'Fires' et vérifier le changement\n",
    "\n",
    "df"
   ]
  },
  {
   "cell_type": "code",
   "execution_count": null,
   "metadata": {
    "colab": {
     "base_uri": "https://localhost:8080/",
     "height": 204
    },
    "colab_type": "code",
    "executionInfo": {
     "elapsed": 750,
     "status": "ok",
     "timestamp": 1576604970442,
     "user": {
      "displayName": "Rajeev Ratan",
      "photoUrl": "https://lh3.googleusercontent.com/a-/AAuE7mCGo6aIm0tOcd5EhqWlYb0rime9sBvHS9YMpx0D2w=s64",
      "userId": "08597265227091462140"
     },
     "user_tz": 240
    },
    "id": "9BFmmCGSwhie",
    "outputId": "24803351-e686-49c4-e76b-dd088556647c"
   },
   "outputs": [],
   "source": [
    "# convertir notre colonne 'number_of_fires' en un type de données flottant et vérifier le changement\n",
    "\n",
    "df['number_of_fires'] = pd.to_numeric(df['number_of_fires'])\n",
    "\n",
    "print(f\"La colone 'number_of_fires' est de type 'float': {pd.api.types.is_numeric_dtype(df['number_of_fires'])}\")\n",
    "\n",
    "df"
   ]
  },
  {
   "cell_type": "markdown",
   "metadata": {
    "colab_type": "text",
    "id": "zAwSjmRwyyPv"
   },
   "source": [
    "# Gerer les valeurs manquantes"
   ]
  },
  {
   "cell_type": "code",
   "execution_count": null,
   "metadata": {
    "colab": {
     "base_uri": "https://localhost:8080/",
     "height": 204
    },
    "colab_type": "code",
    "executionInfo": {
     "elapsed": 870,
     "status": "ok",
     "timestamp": 1576604971522,
     "user": {
      "displayName": "Rajeev Ratan",
      "photoUrl": "https://lh3.googleusercontent.com/a-/AAuE7mCGo6aIm0tOcd5EhqWlYb0rime9sBvHS9YMpx0D2w=s64",
      "userId": "08597265227091462140"
     },
     "user_tz": 240
    },
    "id": "ofXoeQDzyz4S",
    "outputId": "2b2877d5-e2c6-4d9a-daf0-8c6e440f8053"
   },
   "outputs": [],
   "source": [
    "# On recharge le dataframe\n",
    "file_name = \"https://raw.githubusercontent.com/rajeevratan84/datascienceforbusiness/master/amazon_fires.csv\"\n",
    "df = pd.read_csv(file_name, encoding = \"ISO-8859-1\")\n",
    "new_columns = {'ano' : 'year',\n",
    "               'estado': 'state',\n",
    "               'mes': 'month',\n",
    "               'numero': 'number_of_fires',\n",
    "               'encontro': 'date'}\n",
    "df.rename(columns = new_columns, inplace=True)\n",
    "df['number_of_fires'] = df['number_of_fires'].str.strip(\" Fires\")\n",
    "# Creating a true copy of our dataframe\n",
    "df_copy = df.copy()\n",
    "df.head()"
   ]
  },
  {
   "cell_type": "code",
   "execution_count": null,
   "metadata": {
    "colab": {
     "base_uri": "https://localhost:8080/",
     "height": 119
    },
    "colab_type": "code",
    "executionInfo": {
     "elapsed": 927,
     "status": "ok",
     "timestamp": 1576604974153,
     "user": {
      "displayName": "Rajeev Ratan",
      "photoUrl": "https://lh3.googleusercontent.com/a-/AAuE7mCGo6aIm0tOcd5EhqWlYb0rime9sBvHS9YMpx0D2w=s64",
      "userId": "08597265227091462140"
     },
     "user_tz": 240
    },
    "id": "1llYdbJmy0jX",
    "outputId": "769d83e5-c651-4108-bcda-e0cd11cbcb9a"
   },
   "outputs": [],
   "source": [
    "# Affichage de la somme des valeurs manquantes dans chaque colonne\n",
    "\n",
    "print(df.isnull().sum())"
   ]
  },
  {
   "cell_type": "code",
   "execution_count": null,
   "metadata": {
    "colab": {
     "base_uri": "https://localhost:8080/",
     "height": 204
    },
    "colab_type": "code",
    "executionInfo": {
     "elapsed": 745,
     "status": "ok",
     "timestamp": 1576604974424,
     "user": {
      "displayName": "Rajeev Ratan",
      "photoUrl": "https://lh3.googleusercontent.com/a-/AAuE7mCGo6aIm0tOcd5EhqWlYb0rime9sBvHS9YMpx0D2w=s64",
      "userId": "08597265227091462140"
     },
     "user_tz": 240
    },
    "id": "Z3VqKSGo1hZ2",
    "outputId": "cd4bcd4e-bc50-4f80-f389-af9bcd2baf30"
   },
   "outputs": [],
   "source": [
    "# Nous pouvons facilement supprimer les valeurs Null ou NaN (pas un nombre)\n",
    "# Supprimer les lignes avec des valeurs NaN et vérifier la supression\n",
    "\n",
    "df.dropna(inplace=True)\n",
    "print(df.isnull().sum())"
   ]
  },
  {
   "cell_type": "code",
   "execution_count": null,
   "metadata": {
    "colab": {
     "base_uri": "https://localhost:8080/",
     "height": 204
    },
    "colab_type": "code",
    "executionInfo": {
     "elapsed": 924,
     "status": "ok",
     "timestamp": 1576604975285,
     "user": {
      "displayName": "Rajeev Ratan",
      "photoUrl": "https://lh3.googleusercontent.com/a-/AAuE7mCGo6aIm0tOcd5EhqWlYb0rime9sBvHS9YMpx0D2w=s64",
      "userId": "08597265227091462140"
     },
     "user_tz": 240
    },
    "id": "xsCrKdDe2I0S",
    "outputId": "ba056969-e855-488b-8016-061d46b0ed19"
   },
   "outputs": [],
   "source": [
    "file_name = \"https://raw.githubusercontent.com/rajeevratan84/datascienceforbusiness/master/amazon_fires.csv\"\n",
    "df = pd.read_csv(file_name, encoding = \"ISO-8859-1\")\n",
    "new_columns = {'ano' : 'year',\n",
    "               'estado': 'state',\n",
    "               'mes': 'month',\n",
    "               'numero': 'number_of_fires',\n",
    "               'encontro': 'date'}\n",
    "df.rename(columns = new_columns, inplace=True)\n",
    "df['number_of_fires'] = df['number_of_fires'].str.strip(\" Fires\")\n",
    "df_copy = df.copy()\n",
    "df.head()"
   ]
  },
  {
   "cell_type": "code",
   "execution_count": null,
   "metadata": {
    "colab": {
     "base_uri": "https://localhost:8080/",
     "height": 221
    },
    "colab_type": "code",
    "executionInfo": {
     "elapsed": 536,
     "status": "ok",
     "timestamp": 1576604975286,
     "user": {
      "displayName": "Rajeev Ratan",
      "photoUrl": "https://lh3.googleusercontent.com/a-/AAuE7mCGo6aIm0tOcd5EhqWlYb0rime9sBvHS9YMpx0D2w=s64",
      "userId": "08597265227091462140"
     },
     "user_tz": 240
    },
    "id": "o17eMGD3zhBV",
    "outputId": "21453433-f62e-409c-caa6-da7becb0eb9a"
   },
   "outputs": [],
   "source": [
    "# Créer un index booléen pour toutes les valeurs nulles\n",
    "\n",
    "df.isna()"
   ]
  },
  {
   "cell_type": "markdown",
   "metadata": {
    "colab_type": "text",
    "id": "-fFL8Q1qz0w2"
   },
   "source": [
    "# Que faire des données manquantes ?\n",
    "\n",
    "* Supprimez-les \n",
    "* Remplacez-les par un nombre arbitraire (par exemple une moyenne)\n",
    "* Remplacez-les par des zéros, ou un autre entier"
   ]
  },
  {
   "cell_type": "code",
   "execution_count": null,
   "metadata": {
    "colab": {
     "base_uri": "https://localhost:8080/",
     "height": 119
    },
    "colab_type": "code",
    "executionInfo": {
     "elapsed": 435,
     "status": "ok",
     "timestamp": 1576604976533,
     "user": {
      "displayName": "Rajeev Ratan",
      "photoUrl": "https://lh3.googleusercontent.com/a-/AAuE7mCGo6aIm0tOcd5EhqWlYb0rime9sBvHS9YMpx0D2w=s64",
      "userId": "08597265227091462140"
     },
     "user_tz": 240
    },
    "id": "71X8XQk5zWL9",
    "outputId": "8c471eff-f5fd-4a2b-a2cb-59e0ca816712"
   },
   "outputs": [],
   "source": [
    "# Remplacer les valeurs manquantes de la colonne 'number_of_fires' par des zéros\n",
    "\n",
    "df['number_of_fires'].fillna(0, inplace = True)"
   ]
  },
  {
   "cell_type": "code",
   "execution_count": null,
   "metadata": {
    "colab": {
     "base_uri": "https://localhost:8080/",
     "height": 221
    },
    "colab_type": "code",
    "executionInfo": {
     "elapsed": 960,
     "status": "ok",
     "timestamp": 1576604979077,
     "user": {
      "displayName": "Rajeev Ratan",
      "photoUrl": "https://lh3.googleusercontent.com/a-/AAuE7mCGo6aIm0tOcd5EhqWlYb0rime9sBvHS9YMpx0D2w=s64",
      "userId": "08597265227091462140"
     },
     "user_tz": 240
    },
    "id": "0qEtD8XA0t4a",
    "outputId": "25d2aef1-53a4-4be7-94dd-431c9925932c"
   },
   "outputs": [],
   "source": [
    "# Remplacer les valeurs manquantes de la colonne 'number_of_fires' par un remplissage vers l'avant\n",
    "\n",
    "df.fillna(method = 'ffill')"
   ]
  },
  {
   "cell_type": "code",
   "execution_count": null,
   "metadata": {
    "colab": {
     "base_uri": "https://localhost:8080/",
     "height": 119
    },
    "colab_type": "code",
    "executionInfo": {
     "elapsed": 917,
     "status": "ok",
     "timestamp": 1576604987044,
     "user": {
      "displayName": "Rajeev Ratan",
      "photoUrl": "https://lh3.googleusercontent.com/a-/AAuE7mCGo6aIm0tOcd5EhqWlYb0rime9sBvHS9YMpx0D2w=s64",
      "userId": "08597265227091462140"
     },
     "user_tz": 240
    },
    "id": "flBKEp3m589g",
    "outputId": "f0ef61b2-8598-4c49-8126-ad21ef8a97cd"
   },
   "outputs": [],
   "source": [
    "# afficher la somme des valeurs nulles dans notre Dataframe\n",
    "\n",
    "print(df.isnull().sum())"
   ]
  },
  {
   "cell_type": "markdown",
   "metadata": {
    "colab_type": "text",
    "id": "C45xJKsD2jmd"
   },
   "source": [
    "# Removing columns"
   ]
  },
  {
   "cell_type": "code",
   "execution_count": null,
   "metadata": {
    "colab": {
     "base_uri": "https://localhost:8080/",
     "height": 204
    },
    "colab_type": "code",
    "executionInfo": {
     "elapsed": 600,
     "status": "ok",
     "timestamp": 1576604990467,
     "user": {
      "displayName": "Rajeev Ratan",
      "photoUrl": "https://lh3.googleusercontent.com/a-/AAuE7mCGo6aIm0tOcd5EhqWlYb0rime9sBvHS9YMpx0D2w=s64",
      "userId": "08597265227091462140"
     },
     "user_tz": 240
    },
    "id": "21e6myQZ2p6W",
    "outputId": "022f2e2e-adfa-4a0f-ca1f-c547950014db"
   },
   "outputs": [],
   "source": [
    "# Supprimer la colonne 'date'\n",
    "\n",
    "df.drop('date', axis = 1)"
   ]
  },
  {
   "cell_type": "code",
   "execution_count": null,
   "metadata": {
    "colab": {
     "base_uri": "https://localhost:8080/",
     "height": 204
    },
    "colab_type": "code",
    "executionInfo": {
     "elapsed": 1063,
     "status": "ok",
     "timestamp": 1576605011864,
     "user": {
      "displayName": "Rajeev Ratan",
      "photoUrl": "https://lh3.googleusercontent.com/a-/AAuE7mCGo6aIm0tOcd5EhqWlYb0rime9sBvHS9YMpx0D2w=s64",
      "userId": "08597265227091462140"
     },
     "user_tz": 240
    },
    "id": "NN-hWExd5JUD",
    "outputId": "76380a2f-23f2-4520-f293-560ed62208fb"
   },
   "outputs": [],
   "source": [
    "# On recharge le dataframe\n",
    "file_name = \"https://raw.githubusercontent.com/rajeevratan84/datascienceforbusiness/master/amazon_fires.csv\"\n",
    "df = pd.read_csv(file_name, encoding = \"ISO-8859-1\")\n",
    "new_columns = {'ano' : 'year',\n",
    "               'estado': 'state',\n",
    "               'mes': 'month',\n",
    "               'numero': 'number_of_fires',\n",
    "               'encontro': 'date'}\n",
    "df.rename(columns = new_columns, inplace=True)\n",
    "df['number_of_fires'] = df['number_of_fires'].str.strip(\" Fires\")\n",
    "df_copy = df.copy()\n",
    "df.head()"
   ]
  },
  {
   "cell_type": "code",
   "execution_count": null,
   "metadata": {
    "colab": {
     "base_uri": "https://localhost:8080/",
     "height": 204
    },
    "colab_type": "code",
    "executionInfo": {
     "elapsed": 437,
     "status": "ok",
     "timestamp": 1576605011866,
     "user": {
      "displayName": "Rajeev Ratan",
      "photoUrl": "https://lh3.googleusercontent.com/a-/AAuE7mCGo6aIm0tOcd5EhqWlYb0rime9sBvHS9YMpx0D2w=s64",
      "userId": "08597265227091462140"
     },
     "user_tz": 240
    },
    "id": "0slNSrhM2xd4",
    "outputId": "f50e2c03-75c0-4d1f-f7d3-3a3b9ca1492e"
   },
   "outputs": [],
   "source": [
    "# Supprimer les colonnes 'year' et 'date' dans une seule instruction\n",
    "\n",
    "df.drop({'year','date'}, axis = 1)"
   ]
  },
  {
   "cell_type": "markdown",
   "metadata": {
    "colab_type": "text",
    "id": "uZgwkek_5wEk"
   },
   "source": [
    "# Suppression de lignes\n"
   ]
  },
  {
   "cell_type": "code",
   "execution_count": null,
   "metadata": {
    "colab": {
     "base_uri": "https://localhost:8080/",
     "height": 204
    },
    "colab_type": "code",
    "executionInfo": {
     "elapsed": 537,
     "status": "ok",
     "timestamp": 1576605018268,
     "user": {
      "displayName": "Rajeev Ratan",
      "photoUrl": "https://lh3.googleusercontent.com/a-/AAuE7mCGo6aIm0tOcd5EhqWlYb0rime9sBvHS9YMpx0D2w=s64",
      "userId": "08597265227091462140"
     },
     "user_tz": 240
    },
    "id": "wkwh740u4fl0",
    "outputId": "fcfb428a-f1d4-45e3-ff9e-5806163ab108"
   },
   "outputs": [],
   "source": [
    "# Supprimer la premiére ligne du Dataframe\n",
    "\n",
    "df.drop(0)"
   ]
  },
  {
   "cell_type": "code",
   "execution_count": null,
   "metadata": {
    "colab": {
     "base_uri": "https://localhost:8080/",
     "height": 204
    },
    "colab_type": "code",
    "executionInfo": {
     "elapsed": 984,
     "status": "ok",
     "timestamp": 1576605049246,
     "user": {
      "displayName": "Rajeev Ratan",
      "photoUrl": "https://lh3.googleusercontent.com/a-/AAuE7mCGo6aIm0tOcd5EhqWlYb0rime9sBvHS9YMpx0D2w=s64",
      "userId": "08597265227091462140"
     },
     "user_tz": 240
    },
    "id": "ScsfhmMP4O5c",
    "outputId": "5f1278d9-ac92-4fa6-9b76-f758e0b9809a"
   },
   "outputs": [],
   "source": [
    "# Supprimer les 3ème et 4ème lignes dans la même instruction\n",
    "\n",
    "df.drop({2, 3})"
   ]
  },
  {
   "cell_type": "markdown",
   "metadata": {
    "colab_type": "text",
    "id": "QInJpfQdFZVV"
   },
   "source": [
    "# Pandas - Agrégation de données\n",
    "\n",
    "1. Grouper par\n",
    "2. Fonctions cartographiques\n",
    "3. Pivotez\n",
    "4. Fonctions agrégées"
   ]
  },
  {
   "cell_type": "code",
   "execution_count": null,
   "metadata": {
    "colab": {
     "base_uri": "https://localhost:8080/",
     "height": 509
    },
    "colab_type": "code",
    "executionInfo": {
     "elapsed": 862,
     "status": "ok",
     "timestamp": 1573649597337,
     "user": {
      "displayName": "Rajeev Ratan",
      "photoUrl": "https://lh3.googleusercontent.com/a-/AAuE7mCGo6aIm0tOcd5EhqWlYb0rime9sBvHS9YMpx0D2w=s64",
      "userId": "08597265227091462140"
     },
     "user_tz": 0
    },
    "id": "L47qIZ2rFXAA",
    "outputId": "9f5e95f2-2e5a-4a26-bf33-3f3a2ff889ae"
   },
   "outputs": [],
   "source": [
    "# On recharge le dataframe\n",
    "import pandas as pd\n",
    "\n",
    "file_name = \"https://raw.githubusercontent.com/rajeevratan84/datascienceforbusiness/master/amazon_fires.csv\"\n",
    "df = pd.read_csv(file_name, encoding = \"ISO-8859-1\")\n",
    "new_columns = {'ano' : 'year',\n",
    "               'estado': 'state',\n",
    "               'mes': 'month',\n",
    "               'numero': 'number_of_fires',\n",
    "               'encontro': 'date'}\n",
    "df.rename(columns = new_columns, inplace=True)\n",
    "df['state'] = df['state'].str.title()\n",
    "\n",
    "df['number_of_fires'] = df['number_of_fires'].str.strip(\" Fires\")\n",
    "df['number_of_fires'] = df['number_of_fires'].fillna(0)\n",
    "df['number_of_fires'] = df['number_of_fires'].astype(float)\n",
    "\n",
    "\n",
    "# Introduction à la Map Function\n",
    "month_translations = {'Janeiro': 'January',\n",
    "'Fevereiro': 'February',\n",
    "'Março': 'March',\n",
    "'Abril': 'April',\n",
    "'Maio': 'May',\n",
    "'Junho': 'June',\n",
    "'Julho': 'July',\n",
    "'Agosto': 'August',\n",
    "'Setembro': 'September',\n",
    "'Outubro': 'October',\n",
    "'Novembro': 'November',\n",
    "'Dezembro': 'December'}\n",
    "\n",
    "df[\"month\"] = df[\"month\"].map(month_translations)\n",
    "df.head(15)"
   ]
  },
  {
   "cell_type": "markdown",
   "metadata": {
    "colab_type": "text",
    "id": "t_3euXQqr1BW"
   },
   "source": [
    "# Utilisation de la fonction Groupby \n",
    "\n",
    "C'est l'un des outils d'analyse de données les plus utiles fournis par Pandas. Il nous permet de partager des segments de données et d'effectuer une opération dessus. Par exemple, nous pouvons regrouper nos « États » et trouver la somme totale des incendies par État."
   ]
  },
  {
   "cell_type": "code",
   "execution_count": null,
   "metadata": {
    "colab": {
     "base_uri": "https://localhost:8080/",
     "height": 35
    },
    "colab_type": "code",
    "executionInfo": {
     "elapsed": 700,
     "status": "ok",
     "timestamp": 1573649649688,
     "user": {
      "displayName": "Rajeev Ratan",
      "photoUrl": "https://lh3.googleusercontent.com/a-/AAuE7mCGo6aIm0tOcd5EhqWlYb0rime9sBvHS9YMpx0D2w=s64",
      "userId": "08597265227091462140"
     },
     "user_tz": 0
    },
    "id": "hGfQ7o2WsR-G",
    "outputId": "cc1845c4-0ca9-4227-8b97-217af72207fd"
   },
   "outputs": [],
   "source": [
    "# Crée un object groupé par la colonne 'state'\n",
    "\n",
    "obj_grp = df.groupby(\"state\")\n"
   ]
  },
  {
   "cell_type": "code",
   "execution_count": null,
   "metadata": {
    "colab": {
     "base_uri": "https://localhost:8080/",
     "height": 415
    },
    "colab_type": "code",
    "executionInfo": {
     "elapsed": 474,
     "status": "ok",
     "timestamp": 1573649669987,
     "user": {
      "displayName": "Rajeev Ratan",
      "photoUrl": "https://lh3.googleusercontent.com/a-/AAuE7mCGo6aIm0tOcd5EhqWlYb0rime9sBvHS9YMpx0D2w=s64",
      "userId": "08597265227091462140"
     },
     "user_tz": 0
    },
    "id": "j9TkT9PRGS7a",
    "outputId": "26cd090e-c83e-4929-8e1a-6e2af01e3966"
   },
   "outputs": [],
   "source": [
    "# Crée un object groupé par la variable 'Rio' dans la colonne 'state'\n",
    "\n",
    "obj_grp.get_group('Rio')"
   ]
  },
  {
   "cell_type": "markdown",
   "metadata": {
    "colab_type": "text",
    "id": "08KWdT-g3Mrp"
   },
   "source": [
    "# Utiliser certaines fonctions d'agrégation\n",
    "\n",
    "* mean()\n",
    "* size()\n",
    "* count()\n",
    "* sum()\n",
    "* min()\n",
    "* max()"
   ]
  },
  {
   "cell_type": "code",
   "execution_count": null,
   "metadata": {
    "colab": {
     "base_uri": "https://localhost:8080/",
     "height": 785
    },
    "colab_type": "code",
    "executionInfo": {
     "elapsed": 383,
     "status": "ok",
     "timestamp": 1573649733323,
     "user": {
      "displayName": "Rajeev Ratan",
      "photoUrl": "https://lh3.googleusercontent.com/a-/AAuE7mCGo6aIm0tOcd5EhqWlYb0rime9sBvHS9YMpx0D2w=s64",
      "userId": "08597265227091462140"
     },
     "user_tz": 0
    },
    "id": "eJ4aaB5R3Pis",
    "outputId": "85af8e6e-0f88-4525-a185-6ab200ae68a6"
   },
   "outputs": [],
   "source": [
    "# Afficher les sommes de groupe de la colonne 'state' dans une seule intruction\n",
    "\n",
    "obj_grp.count()"
   ]
  },
  {
   "cell_type": "code",
   "execution_count": null,
   "metadata": {
    "colab": {
     "base_uri": "https://localhost:8080/",
     "height": 785
    },
    "colab_type": "code",
    "executionInfo": {
     "elapsed": 430,
     "status": "ok",
     "timestamp": 1573649775595,
     "user": {
      "displayName": "Rajeev Ratan",
      "photoUrl": "https://lh3.googleusercontent.com/a-/AAuE7mCGo6aIm0tOcd5EhqWlYb0rime9sBvHS9YMpx0D2w=s64",
      "userId": "08597265227091462140"
     },
     "user_tz": 0
    },
    "id": "Xh-Fquk93KK5",
    "outputId": "f86460e5-9743-4714-d9c5-68c58485b545"
   },
   "outputs": [],
   "source": [
    "# Afficher les valeurs moyennes correspondent au groupe de la colonne 'state' dans une seule instruction\n",
    "\n",
    "obj_grp.mean()"
   ]
  },
  {
   "cell_type": "code",
   "execution_count": null,
   "metadata": {
    "colab": {
     "base_uri": "https://localhost:8080/",
     "height": 451
    },
    "colab_type": "code",
    "executionInfo": {
     "elapsed": 760,
     "status": "ok",
     "timestamp": 1573649823078,
     "user": {
      "displayName": "Rajeev Ratan",
      "photoUrl": "https://lh3.googleusercontent.com/a-/AAuE7mCGo6aIm0tOcd5EhqWlYb0rime9sBvHS9YMpx0D2w=s64",
      "userId": "08597265227091462140"
     },
     "user_tz": 0
    },
    "id": "RzBJpN8V28dA",
    "outputId": "ac8454c8-9e83-4854-dd7c-807fc22f060e"
   },
   "outputs": [],
   "source": [
    "# Afficher le valeur moyenne de 'number_of_fires' correspondent au groupe de la colonne 'state' dans une seule instruction\n",
    "\n",
    "obj_grp = df.groupby(\"state\")['number_of_fires'].mean()\n",
    "obj_grp"
   ]
  },
  {
   "cell_type": "markdown",
   "metadata": {
    "colab_type": "text",
    "id": "RvZ_9e0ZIHZD"
   },
   "source": [
    "# Tableau croisé dynamique"
   ]
  },
  {
   "cell_type": "code",
   "execution_count": null,
   "metadata": {
    "colab": {
     "base_uri": "https://localhost:8080/",
     "height": 785
    },
    "colab_type": "code",
    "executionInfo": {
     "elapsed": 584,
     "status": "ok",
     "timestamp": 1573649930375,
     "user": {
      "displayName": "Rajeev Ratan",
      "photoUrl": "https://lh3.googleusercontent.com/a-/AAuE7mCGo6aIm0tOcd5EhqWlYb0rime9sBvHS9YMpx0D2w=s64",
      "userId": "08597265227091462140"
     },
     "user_tz": 0
    },
    "id": "JVHYa6wqIIvL",
    "outputId": "14740805-7c7d-4181-b43a-c157e96c70b3"
   },
   "outputs": [],
   "source": [
    "import numpy as np\n",
    "# Faites pivoter la colonne 'number_of_fires' indexée par la colonne 'state' et indiquez que la fonc moyenne est la fonction globale à utiliser\n",
    "\n",
    "pd.pivot_table(data = df, values = 'number_of_fires', index = 'state')"
   ]
  },
  {
   "cell_type": "code",
   "execution_count": null,
   "metadata": {
    "colab": {
     "base_uri": "https://localhost:8080/",
     "height": 299
    },
    "colab_type": "code",
    "executionInfo": {
     "elapsed": 810,
     "status": "ok",
     "timestamp": 1573650162766,
     "user": {
      "displayName": "Rajeev Ratan",
      "photoUrl": "https://lh3.googleusercontent.com/a-/AAuE7mCGo6aIm0tOcd5EhqWlYb0rime9sBvHS9YMpx0D2w=s64",
      "userId": "08597265227091462140"
     },
     "user_tz": 0
    },
    "id": "dfJcnQ3zVWn7",
    "outputId": "4ab9e62b-ce29-4b03-f771-643414ba0ca7"
   },
   "outputs": [],
   "source": [
    "# Créer un graphique en utilisant la fonction de la question précédente \n",
    "# Ajouter les étiquettes et un titre\n",
    "\n",
    "pd.pivot_table(data = df, values = 'number_of_fires', index = 'state').plot(kind = \"bar\", ylabel = \"count\", title = \"Number of fire per state\", figsize = (12, 12), legend = False)\n",
    "\n",
    "\n"
   ]
  },
  {
   "cell_type": "markdown",
   "metadata": {
    "colab_type": "text",
    "id": "qUjDltSlWJyX"
   },
   "source": [
    "# Agrégation de plusieurs colonnes à l'aide de tableaux croisés dynamiques"
   ]
  },
  {
   "cell_type": "code",
   "execution_count": null,
   "metadata": {
    "colab": {
     "base_uri": "https://localhost:8080/",
     "height": 355
    },
    "colab_type": "code",
    "executionInfo": {
     "elapsed": 452,
     "status": "ok",
     "timestamp": 1573650254083,
     "user": {
      "displayName": "Rajeev Ratan",
      "photoUrl": "https://lh3.googleusercontent.com/a-/AAuE7mCGo6aIm0tOcd5EhqWlYb0rime9sBvHS9YMpx0D2w=s64",
      "userId": "08597265227091462140"
     },
     "user_tz": 0
    },
    "id": "-xnTnbkgV3QD",
    "outputId": "2d036302-2318-45a7-e8b4-ee5a060d8b0e"
   },
   "outputs": [],
   "source": [
    "# créer une colonne de fausse date appelée \"gravité\", dans cette colonne, nous utiliserons une cote de 1 à 5 pour indiquer la gravité de chaque incendie\n",
    "\n",
    "df['seriousness'] = np.random.randint(1, 6, df.shape[0])\n",
    "\n",
    "df"
   ]
  },
  {
   "cell_type": "markdown",
   "metadata": {
    "colab_type": "text",
    "id": "mbT6dzjNY6XQ"
   },
   "source": [
    "## Format pour agréger plusieurs colonnes de données\n",
    "\n",
    "\n",
    "**DataFrame.pivot_table([column1_values, column2_values], column_index)**"
   ]
  },
  {
   "cell_type": "code",
   "execution_count": null,
   "metadata": {
    "colab": {
     "base_uri": "https://localhost:8080/",
     "height": 785
    },
    "colab_type": "code",
    "executionInfo": {
     "elapsed": 626,
     "status": "ok",
     "timestamp": 1573650298659,
     "user": {
      "displayName": "Rajeev Ratan",
      "photoUrl": "https://lh3.googleusercontent.com/a-/AAuE7mCGo6aIm0tOcd5EhqWlYb0rime9sBvHS9YMpx0D2w=s64",
      "userId": "08597265227091462140"
     },
     "user_tz": 0
    },
    "id": "qavWcRExXA_9",
    "outputId": "013c10d9-352f-45d8-b818-c43420afdd41"
   },
   "outputs": [],
   "source": [
    "# Agréger la colonne 'state' en fontion des deux colonnes 'severity' et 'number_of_fires'\n",
    "\n",
    "df.pivot_table(['seriousness', 'number_of_fires'], 'state')"
   ]
  },
  {
   "cell_type": "code",
   "execution_count": null,
   "metadata": {
    "colab": {
     "base_uri": "https://localhost:8080/",
     "height": 815
    },
    "colab_type": "code",
    "executionInfo": {
     "elapsed": 527,
     "status": "ok",
     "timestamp": 1573650326769,
     "user": {
      "displayName": "Rajeev Ratan",
      "photoUrl": "https://lh3.googleusercontent.com/a-/AAuE7mCGo6aIm0tOcd5EhqWlYb0rime9sBvHS9YMpx0D2w=s64",
      "userId": "08597265227091462140"
     },
     "user_tz": 0
    },
    "id": "WflrajFUVvxT",
    "outputId": "af8e8090-ce74-4ad6-b867-ff333aae4996"
   },
   "outputs": [],
   "source": [
    "# Ajouter la marge à l'instruction de la question précédente\n",
    "\n",
    "df.pivot_table(['seriousness', 'number_of_fires'], 'state', margins = True)"
   ]
  },
  {
   "cell_type": "code",
   "execution_count": null,
   "metadata": {
    "colab": {
     "base_uri": "https://localhost:8080/",
     "height": 846
    },
    "colab_type": "code",
    "executionInfo": {
     "elapsed": 723,
     "status": "ok",
     "timestamp": 1573650366420,
     "user": {
      "displayName": "Rajeev Ratan",
      "photoUrl": "https://lh3.googleusercontent.com/a-/AAuE7mCGo6aIm0tOcd5EhqWlYb0rime9sBvHS9YMpx0D2w=s64",
      "userId": "08597265227091462140"
     },
     "user_tz": 0
    },
    "id": "cbwapAbPaqlI",
    "outputId": "fc4c0b91-d8fb-4938-d2e6-20e2511b6c8b"
   },
   "outputs": [],
   "source": [
    "# Agréger la colonne 'state' en fontion des deux colonnes 'severity' et 'number_of_fires' avec la marge avec 3 fonction globales 'mean','min','max'.\n",
    "\n",
    "df.pivot_table(['seriousness', 'number_of_fires'], 'state', margins = True, aggfunc=[np.mean, np.max, np.min])"
   ]
  }
 ],
 "metadata": {
  "colab": {
   "collapsed_sections": [],
   "name": "4.2 Pandas 3 - Data Cleaning.ipynb",
   "provenance": []
  },
  "kernelspec": {
   "display_name": "Python 3 (ipykernel)",
   "language": "python",
   "name": "python3"
  },
  "language_info": {
   "codemirror_mode": {
    "name": "ipython",
    "version": 3
   },
   "file_extension": ".py",
   "mimetype": "text/x-python",
   "name": "python",
   "nbconvert_exporter": "python",
   "pygments_lexer": "ipython3",
   "version": "3.9.13"
  }
 },
 "nbformat": 4,
 "nbformat_minor": 1
}
