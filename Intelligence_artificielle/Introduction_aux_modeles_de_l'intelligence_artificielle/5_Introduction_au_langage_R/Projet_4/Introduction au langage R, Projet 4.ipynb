{
 "cells": [
  {
   "cell_type": "markdown",
   "id": "b6fa5170",
   "metadata": {},
   "source": [
    "# Projet 4 - NBA\n",
    "\n",
    "---\n",
    "\n",
    "Voici la présentation du jeu de données :\n",
    "\n",
    "- `GAME_ID` : ID du match\n",
    "- `LOCATION` : Lieu du match (*Home* / *Away*)\n",
    "- `GAME_RESULT` : Résultat du match (*Won* / *Lost*)\n",
    "- `PERIOD` : Numéro de quart-temps et prolongations éventuelles\n",
    "- `SHOT_CLOCK` : Durée de la possession de l'équipe au moment du tir\n",
    "- `DRIBBLES` : Nombre de dribbles avant le tir\n",
    "- `TOUCH_TIME` : Durée de la possession du joueur avant le tir\n",
    "- `SHOT_DIST` : Distance de tir en *foot* (*1 foot = 0,30 mètre*)\n",
    "- `PTS_TYPE` : Tentative à 2 ou 3 points (les lancers francs à 1 point ne sont pas répertoriés)\n",
    "- `SHOT_RESULT` : Résultat du tir (*made* / *missed*)\n",
    "- `CLOSE_DEF_DIST` : Distance entre le tireur et le défenseur le plus proche en *foot* (*1 foot = 0,30 \n",
    "mètre*)\n",
    "- `SHOOTER` : Nom du tireur\n",
    "\n",
    "---\n",
    "---\n",
    "\n",
    "## Exercice 1 : Importer les données\n",
    "\n",
    "---\n",
    "\n",
    "### a. Importer le jeu de données `NBA.csv` avec la fonction `read.csv()`."
   ]
  },
  {
   "cell_type": "code",
   "execution_count": null,
   "id": "18a460ee",
   "metadata": {},
   "outputs": [],
   "source": [
    "df <- read.csv(\"NBA.csv\")\n",
    "df"
   ]
  },
  {
   "cell_type": "markdown",
   "id": "8f61896e",
   "metadata": {},
   "source": [
    "---\n",
    "\n",
    "### b. Combien de lignes, colonnes sont présentes dans ce dataset (utilisez les fonctions adaptées) ?"
   ]
  },
  {
   "cell_type": "code",
   "execution_count": null,
   "id": "a3b8cf0c",
   "metadata": {},
   "outputs": [],
   "source": [
    "sprintf(\"Nombre de lignes: %s\", dim(df)[1])\n",
    "sprintf(\"Nombre de colonnes: %s\", dim(df)[2])"
   ]
  },
  {
   "cell_type": "markdown",
   "id": "84da6f51",
   "metadata": {},
   "source": [
    "---\n",
    "\n",
    "### c. Afficher le nom des colonnes."
   ]
  },
  {
   "cell_type": "code",
   "execution_count": null,
   "id": "ccd3b4ba",
   "metadata": {},
   "outputs": [],
   "source": [
    "writeLines(sprintf(\"Nom colonne %s: %s\", 1:12, colnames(df)))"
   ]
  },
  {
   "cell_type": "markdown",
   "id": "f9e00bb7",
   "metadata": {},
   "source": [
    "---\n",
    "\n",
    "### d. Afficher le type des colonnes avec la fonction adaptée."
   ]
  },
  {
   "cell_type": "code",
   "execution_count": null,
   "id": "8218c4a3",
   "metadata": {},
   "outputs": [],
   "source": [
    "sapply(df, class)"
   ]
  },
  {
   "cell_type": "markdown",
   "id": "4e40893e",
   "metadata": {},
   "source": [
    "---\n",
    "\n",
    "### e. On souhaite analyser les variables `PERIOD`, `PTS_TYPE`, et `SHOOTER` en tant que variables qualitatives. Modifier le type de ces variables pour les transformer en type factor."
   ]
  },
  {
   "cell_type": "code",
   "execution_count": null,
   "id": "9fd02477",
   "metadata": {},
   "outputs": [],
   "source": [
    "names <- c('PERIOD', 'PTS_TYPE', 'SHOOTER')\n",
    "df[names] <- lapply(df[names], factor)"
   ]
  },
  {
   "cell_type": "markdown",
   "id": "1b00c491",
   "metadata": {},
   "source": [
    "---\n",
    "\n",
    "### f. Combien de niveaux (*levels*) sont présents dans ces variables ?"
   ]
  },
  {
   "cell_type": "code",
   "execution_count": null,
   "id": "90731603",
   "metadata": {},
   "outputs": [],
   "source": [
    "str(df[names])"
   ]
  },
  {
   "cell_type": "markdown",
   "id": "b5ac4c17",
   "metadata": {},
   "source": [
    "---\n",
    "\n",
    "### g. Afficher un résumé des données avec la fonction adaptée."
   ]
  },
  {
   "cell_type": "code",
   "execution_count": null,
   "id": "e682e806",
   "metadata": {},
   "outputs": [],
   "source": [
    "summary(df)"
   ]
  },
  {
   "cell_type": "markdown",
   "id": "508b7572",
   "metadata": {},
   "source": [
    "---\n",
    "---\n",
    "\n",
    "## Exercice 2 : Statistiques descriptives\n",
    "\n",
    "---\n",
    "\n",
    "### a. Calculer l'écart-type de la variable présentant la distance de tir (`SHOT_DIST`)."
   ]
  },
  {
   "cell_type": "code",
   "execution_count": null,
   "id": "3d55cacd",
   "metadata": {},
   "outputs": [],
   "source": [
    "sprintf(\"Ecart-type de la colonne `SHOT_DIST` : %s\", round(sd(na.omit(df$SHOT_DIST)), 2))"
   ]
  },
  {
   "cell_type": "markdown",
   "id": "0825049c",
   "metadata": {},
   "source": [
    "---\n",
    "\n",
    "### b. Calculer l'écart-type de la variable présentant la durée de la possession de l'équipe au moment du tir (`SHOT_CLOCK`)."
   ]
  },
  {
   "cell_type": "code",
   "execution_count": null,
   "id": "a52bec65",
   "metadata": {},
   "outputs": [],
   "source": [
    "sprintf(\"Ecart-type de la colonne `SHOT_CLOCK` : %s\", round(sd(na.omit(df$SHOT_CLOCK)), 2))"
   ]
  },
  {
   "cell_type": "markdown",
   "id": "c719947c",
   "metadata": {},
   "source": [
    "---\n",
    "\n",
    "### c. Calculer la répartition du nombre de tirs manqués et réussis (`SHOT_RESULT`)."
   ]
  },
  {
   "cell_type": "code",
   "execution_count": null,
   "id": "51a2e18e",
   "metadata": {},
   "outputs": [],
   "source": [
    "missed <- round((sum(df$SHOT_RESULT == \"missed\") / length(df$SHOT_RESULT)) * 100, 2)\n",
    "made <- round((sum(df$SHOT_RESULT == \"made\") / length(df$SHOT_RESULT)) * 100, 2)\n",
    "\n",
    "sprintf(\"Tirs réussis : %s%%\", missed)\n",
    "sprintf(\"Tirs ratés : %s%%\", made)"
   ]
  },
  {
   "cell_type": "markdown",
   "id": "e5a2e1e8",
   "metadata": {},
   "source": [
    "---\n",
    "\n",
    "### d. Calculer les **quartiles** de la variable présentant le nombre de dribbles avant un tir (`DRIBBLES`).\n"
   ]
  },
  {
   "cell_type": "code",
   "execution_count": null,
   "id": "ef3a1b36",
   "metadata": {},
   "outputs": [],
   "source": [
    "quartiles <- c('0%' ,'25%', '50%', '75%', '100%')\n",
    "writeLines(sprintf(\"Quartile %s de la colonne `DRIBBLES` : %s\", quartiles, quantile(na.omit(df$DRIBBLES))))"
   ]
  },
  {
   "cell_type": "markdown",
   "id": "1fb6b154",
   "metadata": {},
   "source": [
    "---\n",
    "\n",
    "### e. Calculer les **déciles** de la variable présentant la distance entre le tireur et le défenseur le plus proche (`CLOSE_DEF_DIST`)."
   ]
  },
  {
   "cell_type": "code",
   "execution_count": null,
   "id": "1931fc2f",
   "metadata": {},
   "outputs": [],
   "source": [
    "deciles <- c('10%' ,'20%', '30%', '40%', '50%', '60%' ,'70%', '80%', '90%')\n",
    "writeLines(sprintf(\"Décile %s de la colonne `CLOSE_DEF_DIST` : %s\", deciles, quantile(na.omit(df$CLOSE_DEF_DIST), probs = seq(.1, .9, by = .1))))"
   ]
  },
  {
   "cell_type": "markdown",
   "id": "66132719",
   "metadata": {},
   "source": [
    "---\n",
    "\n",
    "### f. Combien de matchs se sont déroulés lors de cette saison de basket ?"
   ]
  },
  {
   "cell_type": "code",
   "execution_count": null,
   "id": "6d39dbd2",
   "metadata": {},
   "outputs": [],
   "source": [
    "sprintf(\"Il y a eu %s matchs cette saison\", length(unique(df$GAME_ID)))"
   ]
  },
  {
   "cell_type": "markdown",
   "id": "230b615b",
   "metadata": {},
   "source": [
    "---\n",
    "\n",
    "### g. Combien y-a-t-il de `SHOOTER` différents ?"
   ]
  },
  {
   "cell_type": "code",
   "execution_count": null,
   "id": "56daf522",
   "metadata": {},
   "outputs": [],
   "source": [
    "sprintf(\"Il y a eu %s tireurs différents\", length(unique(df$SHOOTER)))"
   ]
  },
  {
   "cell_type": "markdown",
   "id": "1a9690f4",
   "metadata": {},
   "source": [
    "---\n",
    "---\n",
    "\n",
    "## Exercice 3 : Modifier le jeu de données\n",
    "\n",
    "---\n",
    "\n",
    "### a. Créer une variable `SHOT_DIST_METRE` qui affiche la variable `SHOT_DIST` convertit en mètre (*1 foot = 0,30 mètre*)."
   ]
  },
  {
   "cell_type": "code",
   "execution_count": null,
   "id": "46bec773",
   "metadata": {},
   "outputs": [],
   "source": [
    "df$SHOT_DIST_METRE <- (df$SHOT_DIST * 0.3)\n",
    "df"
   ]
  },
  {
   "cell_type": "markdown",
   "id": "8768cc8f",
   "metadata": {},
   "source": [
    "---\n",
    "\n",
    "### b. Créer une variable `PTS_MARQUES` qui prend la valeur 0, 2 ou 3 en fonction de l'issue du tir."
   ]
  },
  {
   "cell_type": "code",
   "execution_count": null,
   "id": "2352ca25",
   "metadata": {},
   "outputs": [],
   "source": [
    "df$PTS_MARQUES <- ifelse(df$SHOT_RESULT == \"missed\", 0, ifelse(df$SHOT_DIST < 23.75, 2, 3))\n",
    "df"
   ]
  },
  {
   "cell_type": "markdown",
   "id": "62800be1",
   "metadata": {},
   "source": [
    "---\n",
    "\n",
    "### c. Supprimer la variable `GAME_RESULT` car elle est inutile."
   ]
  },
  {
   "cell_type": "code",
   "execution_count": null,
   "id": "b1291781",
   "metadata": {},
   "outputs": [],
   "source": [
    "df <- subset(df, select = -GAME_RESULT)\n",
    "df"
   ]
  },
  {
   "cell_type": "markdown",
   "id": "b76a0273",
   "metadata": {},
   "source": [
    "---\n",
    "---\n",
    "\n",
    "## Exercice 4 : Interroger les données\n",
    "\n",
    "Attention, certaines questions peuvent nécessiter plusieurs étapes. Penser à vérifier vos requêtes \n",
    "avec la fonction `dim()` ou `View()`.Pour chaque question, affecter le résultat ddans un objet comme \n",
    "dans l'exemple ci-dessous.\n",
    "\n",
    "```{r}\n",
    "#Selectionnez les deux premières colonnes du data frame\n",
    "requete_0 <- NBA[, c(1,2)]\n",
    "```\n",
    "\n",
    "---\n",
    "\n",
    "### a. On souhaite extraire uniquement la colonne `SHOOTER` , `SHOT_RESULT` et `PTS_TYPE` dans cet ordre."
   ]
  },
  {
   "cell_type": "code",
   "execution_count": null,
   "id": "d6d0baa6",
   "metadata": {},
   "outputs": [],
   "source": [
    "select <- subset(df, select = c(SHOOTER, SHOT_RESULT, PTS_TYPE))\n",
    "select"
   ]
  },
  {
   "cell_type": "markdown",
   "id": "097d7538",
   "metadata": {},
   "source": [
    "---\n",
    "\n",
    "### b. On souhaite extraire uniquement les 50 premières lignes."
   ]
  },
  {
   "cell_type": "code",
   "execution_count": null,
   "id": "5317bbfd",
   "metadata": {},
   "outputs": [],
   "source": [
    "select <- df[1:50,]\n",
    "select"
   ]
  },
  {
   "cell_type": "markdown",
   "id": "9f0acaae",
   "metadata": {},
   "source": [
    "---\n",
    "\n",
    "### c. On souhaite extraire toutes les colonnes sauf la première."
   ]
  },
  {
   "cell_type": "code",
   "execution_count": null,
   "id": "47035dc7",
   "metadata": {},
   "outputs": [],
   "source": [
    "select <- df[,2:13]\n",
    "select"
   ]
  },
  {
   "cell_type": "markdown",
   "id": "8baec4ad",
   "metadata": {},
   "source": [
    "---\n",
    "\n",
    "### d. On souhaite extraire uniquement les 100 **tirs tentés** avec les `SHOT_DIST` les plus loin."
   ]
  },
  {
   "cell_type": "code",
   "execution_count": null,
   "id": "12873069",
   "metadata": {},
   "outputs": [],
   "source": [
    "select <- df[order(-df$SHOT_DIST),][1:100,]\n",
    "select"
   ]
  },
  {
   "cell_type": "markdown",
   "id": "b5140239",
   "metadata": {},
   "source": [
    "---\n",
    "\n",
    "### e. On souhaite extraire uniquement les 100 **tirs réussis** avec les `SHOT_DIST` les plus loin."
   ]
  },
  {
   "cell_type": "code",
   "execution_count": null,
   "id": "5e5c3a95",
   "metadata": {},
   "outputs": [],
   "source": [
    "select <- df[df$SHOT_RESULT == 'made',]\n",
    "select <- select[order(-select$SHOT_DIST),][1:100,]\n",
    "select"
   ]
  },
  {
   "cell_type": "markdown",
   "id": "62c12c25",
   "metadata": {},
   "source": [
    "---\n",
    "\n",
    "### f. On souhaite extraire uniquement les tirs réussis à 3 points de *kobe bryant*."
   ]
  },
  {
   "cell_type": "code",
   "execution_count": null,
   "id": "6e1b42d6",
   "metadata": {},
   "outputs": [],
   "source": [
    "select <- df[df$SHOOTER == 'kobe bryant',]\n",
    "select <- select[select$PTS_MARQUES == 3,]\n",
    "select"
   ]
  },
  {
   "cell_type": "markdown",
   "id": "850e8f22",
   "metadata": {},
   "source": [
    "---\n",
    "\n",
    "### g. On souhaite construire un data frame avec les 5 `SHOOTER` qui ont inscrit le plus de points."
   ]
  },
  {
   "cell_type": "code",
   "execution_count": null,
   "id": "35672872",
   "metadata": {},
   "outputs": [],
   "source": [
    "select <- aggregate(PTS_MARQUES ~ SHOOTER, data = df, FUN = sum)\n",
    "\n",
    "select <- select[order(-select$PTS_MARQUES),]\n",
    "\n",
    "select[1:5,]"
   ]
  }
 ],
 "metadata": {
  "kernelspec": {
   "display_name": "R",
   "language": "R",
   "name": "ir"
  },
  "language_info": {
   "codemirror_mode": "r",
   "file_extension": ".r",
   "mimetype": "text/x-r-source",
   "name": "R",
   "pygments_lexer": "r",
   "version": "3.6.1"
  }
 },
 "nbformat": 4,
 "nbformat_minor": 5
}
