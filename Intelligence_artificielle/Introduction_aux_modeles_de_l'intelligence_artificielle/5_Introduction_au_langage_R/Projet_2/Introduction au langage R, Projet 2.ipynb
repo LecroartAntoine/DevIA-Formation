{
 "cells": [
  {
   "cell_type": "markdown",
   "id": "23231fe5",
   "metadata": {},
   "source": [
    "# Projet 2 - Pokemon\n",
    "\n",
    "---\n",
    "\n",
    "On utilise le fichier `pokemon.xlsx` qui décrit les statistiques des pokemon des deux premières \n",
    "générations.\n",
    "\n",
    "- `pokedex_number` : numéro du pokemon\n",
    "- `nom` : nom du pokemon\n",
    "- `generation` : le numéro de génération dont est issu le pokemon\n",
    "- `is_legendary` : Oui / Non si le pokemon est légendaire\n",
    "- `type` : le type du pokemon\n",
    "- `weight_kg` : le poids du pokemon en kg\n",
    "- `height_m` : la taille du pokemon en mètre\n",
    "- `attack` : la puissance d'attaque du pokemon\n",
    "- `defense` : la puissance de défense du pokemon\n",
    "- `speed` : la vitesse du pokemon\n",
    "\n",
    "---\n",
    "---\n",
    "\n",
    "## Exercice 1 : Importer les données\n",
    "\n",
    "---\n",
    "\n",
    "### a. Importez le jeu de données `pokemon.xlsx` à l'aide du package `readxl`."
   ]
  },
  {
   "cell_type": "code",
   "execution_count": null,
   "id": "b4cf0108",
   "metadata": {},
   "outputs": [],
   "source": [
    "library(readxl)\n",
    "\n",
    "df <-read_excel(path = \"./pokemon.xlsx\", sheet=\"pokemon\")\n",
    "df"
   ]
  },
  {
   "cell_type": "markdown",
   "id": "b58c27c7",
   "metadata": {},
   "source": [
    "---\n",
    "\n",
    "### b. Combien de lignes, colonnes sont présentes dans ce dataset (utilisez les fonctions adaptées) ?"
   ]
  },
  {
   "cell_type": "code",
   "execution_count": null,
   "id": "53981e26",
   "metadata": {},
   "outputs": [],
   "source": [
    "sprintf(\"Nombre de lignes: %s\", dim(df)[1])\n",
    "sprintf(\"Nombre de colonnes: %s\", dim(df)[2])"
   ]
  },
  {
   "cell_type": "markdown",
   "id": "d938cead",
   "metadata": {},
   "source": [
    "---\n",
    "\n",
    "### c. Affichez le nom des colonnes."
   ]
  },
  {
   "cell_type": "code",
   "execution_count": null,
   "id": "11e89896",
   "metadata": {},
   "outputs": [],
   "source": [
    "writeLines(sprintf(\"Nom colonne %s: %s\", 1:10, colnames(df)))"
   ]
  },
  {
   "cell_type": "markdown",
   "id": "08623ad7",
   "metadata": {},
   "source": [
    "---\n",
    "\n",
    "### d. Affichez le type des colonnes avec la fonction adaptée.\n"
   ]
  },
  {
   "cell_type": "code",
   "execution_count": null,
   "id": "76b8d068",
   "metadata": {},
   "outputs": [],
   "source": [
    "sapply(df, class)"
   ]
  },
  {
   "cell_type": "markdown",
   "id": "f3af5b4f",
   "metadata": {},
   "source": [
    "---\n",
    "\n",
    "### e. On souhaite analyser les variables `generation`, `is_legendary`, et `type` en tant que variables qualitatives. Modifier le type de ces variables pour les transformer en type factor."
   ]
  },
  {
   "cell_type": "code",
   "execution_count": null,
   "id": "15a6c3d1",
   "metadata": {},
   "outputs": [],
   "source": [
    "names <- c('generation', 'is_legendary')\n",
    "df[names] <- lapply(df[names], factor)"
   ]
  },
  {
   "cell_type": "markdown",
   "id": "4f751337",
   "metadata": {},
   "source": [
    "---\n",
    "\n",
    "### f. Combien de niveaux (*levels*) sont présents dans ces variables ?"
   ]
  },
  {
   "cell_type": "code",
   "execution_count": null,
   "id": "6392285e",
   "metadata": {},
   "outputs": [],
   "source": [
    "str(df[names])"
   ]
  },
  {
   "cell_type": "markdown",
   "id": "1999153e",
   "metadata": {},
   "source": [
    "---\n",
    "\n",
    "### g. Affichez un résumé des données avec la fonction adaptée."
   ]
  },
  {
   "cell_type": "code",
   "execution_count": null,
   "id": "73329d9b",
   "metadata": {},
   "outputs": [],
   "source": [
    "summary(df)"
   ]
  },
  {
   "cell_type": "markdown",
   "id": "a531ce08",
   "metadata": {},
   "source": [
    "---\n",
    "---\n",
    "\n",
    "## Exercice 2 : Statistiques descriptives\n",
    "\n",
    "---\n",
    "\n",
    "### a. Déterminer la moyenne de la variable `weight_kg`."
   ]
  },
  {
   "cell_type": "code",
   "execution_count": null,
   "id": "c80e4b9b",
   "metadata": {},
   "outputs": [],
   "source": [
    "sprintf(\"Moyenne de la colonne `weight_kg` : %s\", mean(na.omit(df$weight_kg)))"
   ]
  },
  {
   "cell_type": "markdown",
   "id": "3f7867a4",
   "metadata": {},
   "source": [
    "---\n",
    "\n",
    "### b. Déterminer la médiane de la variable `weight_kg`."
   ]
  },
  {
   "cell_type": "code",
   "execution_count": null,
   "id": "f37cc7e9",
   "metadata": {},
   "outputs": [],
   "source": [
    "sprintf(\"Médiane de la colonne `weight_kg` : %s\", median(na.omit(df$weight_kg)))"
   ]
  },
  {
   "cell_type": "markdown",
   "id": "ee5a6231",
   "metadata": {},
   "source": [
    "---\n",
    "\n",
    "### d. Déterminer les quartiles de la variable `height_m`."
   ]
  },
  {
   "cell_type": "code",
   "execution_count": null,
   "id": "60418037",
   "metadata": {},
   "outputs": [],
   "source": [
    "quartiles <- c('0%' ,'25%', '50%', '75%', '100%')\n",
    "writeLines(sprintf(\"Quartile %s de la colonne `height_m` : %s\", quartiles, quantile(na.omit(df$height_m))))"
   ]
  },
  {
   "cell_type": "markdown",
   "id": "d4168fed",
   "metadata": {},
   "source": [
    "---\n",
    "\n",
    "### e. Déterminer les déciles de la variable `height_m`."
   ]
  },
  {
   "cell_type": "code",
   "execution_count": null,
   "id": "4598111b",
   "metadata": {},
   "outputs": [],
   "source": [
    "deciles <- c('10%' ,'20%', '30%', '40%', '50%', '60%' ,'70%', '80%', '90%')\n",
    "writeLines(sprintf(\"Décile %s de la colonne `height_m` : %s\", deciles, quantile(na.omit(df$height_m), probs = seq(.1, .9, by = .1))))"
   ]
  },
  {
   "cell_type": "markdown",
   "id": "65f6db71",
   "metadata": {},
   "source": [
    "---\n",
    "\n",
    "### f. Déterminer la variance et l'écart-type de la variable `weight_kg`."
   ]
  },
  {
   "cell_type": "code",
   "execution_count": null,
   "id": "c75c368a",
   "metadata": {},
   "outputs": [],
   "source": [
    "sprintf(\"Variance de la colonne `weight_kg` : %s\", var(na.omit(df$weight_kg)))\n",
    "sprintf(\"Ecart-type de la colonne `weight_kg` : %s\", sd(na.omit(df$weight_kg)))"
   ]
  },
  {
   "cell_type": "markdown",
   "id": "c23f5305",
   "metadata": {},
   "source": [
    "---\n",
    "\n",
    "### g. Déterminer un tri à plat pour compter les effectifs des modalités de chaque variable *factor* en triant chaque sortie par ordre décroissant."
   ]
  },
  {
   "cell_type": "code",
   "execution_count": null,
   "id": "823e699d",
   "metadata": {},
   "outputs": [],
   "source": [
    "sapply(df[names], function(x) sort(table(x)))"
   ]
  },
  {
   "cell_type": "markdown",
   "id": "00cf8102",
   "metadata": {},
   "source": [
    "---\n",
    "---\n",
    "\n",
    "## Exercice 3 : Tris et Selections\n",
    "\n",
    "Pour chaque question suivante, affectez le résultat de la requête dans un objet puis calculez sa \n",
    "dimension.\n",
    "\n",
    "---\n",
    "\n",
    "### a. Sélectionnez la colonne `nom` et `is_legendary`."
   ]
  },
  {
   "cell_type": "code",
   "execution_count": null,
   "id": "d64a392e",
   "metadata": {},
   "outputs": [],
   "source": [
    "sel <- df[c('nom', 'is_legendary')]\n",
    "\n",
    "sprintf(\"Nombre de lignes: %s\", dim(sel)[1])\n",
    "sprintf(\"Nombre de colonnes: %s\", dim(sel)[2])\n",
    "\n",
    "sel"
   ]
  },
  {
   "cell_type": "markdown",
   "id": "0ac44cd4",
   "metadata": {},
   "source": [
    "---\n",
    "\n",
    "### b. Sélectionnez les 50 premières lignes et les deux premières colonnes."
   ]
  },
  {
   "cell_type": "code",
   "execution_count": null,
   "id": "0dfb9a1a",
   "metadata": {},
   "outputs": [],
   "source": [
    "sel <- df[1:50, 1:2]\n",
    "\n",
    "sprintf(\"Nombre de lignes: %s\", dim(sel)[1])\n",
    "sprintf(\"Nombre de colonnes: %s\", dim(sel)[2])\n",
    "\n",
    "sel"
   ]
  },
  {
   "cell_type": "markdown",
   "id": "4431a1a4",
   "metadata": {},
   "source": [
    "---\n",
    "\n",
    "### c. Sélectionnez les 10 premières lignes et toutes les colonnes."
   ]
  },
  {
   "cell_type": "code",
   "execution_count": null,
   "id": "df0fddf5",
   "metadata": {},
   "outputs": [],
   "source": [
    "sel <- df[1:10,]\n",
    "\n",
    "sprintf(\"Nombre de lignes: %s\", dim(sel)[1])\n",
    "sprintf(\"Nombre de colonnes: %s\", dim(sel)[2])\n",
    "\n",
    "sel"
   ]
  },
  {
   "cell_type": "markdown",
   "id": "8c319f22",
   "metadata": {},
   "source": [
    "---\n",
    "\n",
    "### d. Sélectionnez toutes les colonnes sauf la dernière."
   ]
  },
  {
   "cell_type": "code",
   "execution_count": null,
   "id": "72d33be8",
   "metadata": {},
   "outputs": [],
   "source": [
    "sel <- df[,1:dim(df)[2]-1]\n",
    "\n",
    "sprintf(\"Nombre de lignes: %s\", dim(sel)[1])\n",
    "sprintf(\"Nombre de colonnes: %s\", dim(sel)[2])\n",
    "\n",
    "sel"
   ]
  },
  {
   "cell_type": "markdown",
   "id": "406b8d60",
   "metadata": {},
   "source": [
    "---\n",
    "\n",
    "### e. Sélectionnez les colonnes 2,8,9 et 10."
   ]
  },
  {
   "cell_type": "code",
   "execution_count": null,
   "id": "1eb8a299",
   "metadata": {},
   "outputs": [],
   "source": [
    "sel <- df[c(2, 8, 9, 10)]\n",
    "\n",
    "sprintf(\"Nombre de lignes: %s\", dim(sel)[1])\n",
    "sprintf(\"Nombre de colonnes: %s\", dim(sel)[2])\n",
    "\n",
    "sel"
   ]
  },
  {
   "cell_type": "markdown",
   "id": "70d6ca03",
   "metadata": {},
   "source": [
    "---\n",
    "\n",
    "### f. Sélectionnez les lignes 20 à 30 et 80 à 100."
   ]
  },
  {
   "cell_type": "code",
   "execution_count": null,
   "id": "530fda3f",
   "metadata": {},
   "outputs": [],
   "source": [
    "sel <- df[c(20:30, 80:100),]\n",
    "\n",
    "sprintf(\"Nombre de lignes: %s\", dim(sel)[1])\n",
    "sprintf(\"Nombre de colonnes: %s\", dim(sel)[2])\n",
    "\n",
    "sel"
   ]
  },
  {
   "cell_type": "markdown",
   "id": "8d31e5c7",
   "metadata": {},
   "source": [
    "---\n",
    "\n",
    "### g. Triez le dataset par ordre alphabétique et afficher le `nom` du pokemon dela première ligne."
   ]
  },
  {
   "cell_type": "code",
   "execution_count": null,
   "id": "075430b3",
   "metadata": {},
   "outputs": [],
   "source": [
    "sel <- df[order(df$nom),]\n",
    "\n",
    "sprintf(\"Nombre de lignes: %s\", dim(sel)[1])\n",
    "sprintf(\"Nombre de colonnes: %s\", dim(sel)[2])\n",
    "\n",
    "sel[1, \"nom\"]"
   ]
  },
  {
   "cell_type": "markdown",
   "id": "ddacc05e",
   "metadata": {},
   "source": [
    "---\n",
    "\n",
    "### h. Triez le dataset par `weight_kg` en ordre **décroissant**, et afficher le `nom`du pokemon de la première ligne."
   ]
  },
  {
   "cell_type": "code",
   "execution_count": null,
   "id": "60cd9d40",
   "metadata": {},
   "outputs": [],
   "source": [
    "sel <- df[order(-df$weight_kg),]\n",
    "\n",
    "sprintf(\"Nombre de lignes: %s\", dim(sel)[1])\n",
    "sprintf(\"Nombre de colonnes: %s\", dim(sel)[2])\n",
    "\n",
    "sel[1, \"nom\"]\n"
   ]
  },
  {
   "cell_type": "markdown",
   "id": "1a34a381",
   "metadata": {},
   "source": [
    "---\n",
    "\n",
    "### i. Triez le dataset par `attack` en ordre **décroissant** puis par `speed` en ordre **croissant**, et afficher le `nom` des pokemons des 10 premières lignes."
   ]
  },
  {
   "cell_type": "code",
   "execution_count": null,
   "id": "16b70e26",
   "metadata": {},
   "outputs": [],
   "source": [
    "sel <- df[c(order(-df$attack), order(df$speed)),]\n",
    "\n",
    "sprintf(\"Nombre de lignes: %s\", dim(sel)[1])\n",
    "sprintf(\"Nombre de colonnes: %s\", dim(sel)[2])\n",
    "\n",
    "sel[1:10, \"nom\"]"
   ]
  },
  {
   "cell_type": "markdown",
   "id": "13ef85c2",
   "metadata": {},
   "source": [
    "---\n",
    "---\n",
    "\n",
    "## Exercice 4 : Tris et Filtres\n",
    "\n",
    "Pour chaque question suivante, affectez le résultat de la requête dans un objet puis calculez sa \n",
    "dimension. Pour faciliter la lecture, sélectionnez la colonne `nom`et les colonnes concernées par le \n",
    "filtre. \n",
    "\n",
    "---\n",
    "\n",
    "### a. Filtrez sur les pokemons qui ont 150 ou plus d'`attack` puis trier le résultat par ordre décroissant d'`attack`. "
   ]
  },
  {
   "cell_type": "code",
   "execution_count": null,
   "id": "d9851cd9",
   "metadata": {},
   "outputs": [],
   "source": [
    "sel <- df[df$attack >= 150,]\n",
    "sel <- sel[order(-sel$attack),]\n",
    "\n",
    "sprintf(\"Nombre de lignes: %s\", dim(sel)[1])\n",
    "sprintf(\"Nombre de colonnes: %s\", dim(sel)[2])\n",
    "\n",
    "sel[c(\"nom\", \"attack\")]"
   ]
  },
  {
   "cell_type": "markdown",
   "id": "80128307",
   "metadata": {},
   "source": [
    "---\n",
    "\n",
    "### b. Filtrez sur les pokemons de `type` *dragon*, *ghost*, *psychic* et *dark*."
   ]
  },
  {
   "cell_type": "code",
   "execution_count": null,
   "id": "5f226a44",
   "metadata": {},
   "outputs": [],
   "source": [
    "sel <- df[df$type %in% c('dragon', 'ghost', 'psychic', 'dark'),]\n",
    "\n",
    "sprintf(\"Nombre de lignes: %s\", dim(sel)[1])\n",
    "sprintf(\"Nombre de colonnes: %s\", dim(sel)[2])\n",
    "\n",
    "sel[c(\"nom\", \"type\")]"
   ]
  },
  {
   "cell_type": "markdown",
   "id": "b549bbcf",
   "metadata": {},
   "source": [
    "---\n",
    "\n",
    "### c. Filtrez sur les pokemons de `type` *fire* avec plus de 100 d'`attack`, puis trier le résultat par ordre décroissant d'`attack`. "
   ]
  },
  {
   "cell_type": "code",
   "execution_count": null,
   "id": "245c5574",
   "metadata": {},
   "outputs": [],
   "source": [
    "sel <- df[df$type == 'fire' & df$attack >= 100,]\n",
    "sel <- sel[order(-sel$attack),]\n",
    "\n",
    "sprintf(\"Nombre de lignes: %s\", dim(sel)[1])\n",
    "sprintf(\"Nombre de colonnes: %s\", dim(sel)[2])\n",
    "\n",
    "sel[c(\"nom\", \"type\", \"attack\")]"
   ]
  },
  {
   "cell_type": "markdown",
   "id": "d0a9d405",
   "metadata": {},
   "source": [
    "---\n",
    "\n",
    "### d. Filtrez sur les pokemons qui ont entre 100 et 150 de `speed`. Les trier par `speed` décroissant."
   ]
  },
  {
   "cell_type": "code",
   "execution_count": null,
   "id": "b3330491",
   "metadata": {},
   "outputs": [],
   "source": [
    "sel <- df[df$speed >= 100 & df$speed <= 150,]\n",
    "sel <- sel[order(-sel$speed),]\n",
    "\n",
    "sprintf(\"Nombre de lignes: %s\", dim(sel)[1])\n",
    "sprintf(\"Nombre de colonnes: %s\", dim(sel)[2])\n",
    "\n",
    "sel[c(\"nom\", \"speed\")]"
   ]
  },
  {
   "cell_type": "markdown",
   "id": "1b4a8e72",
   "metadata": {},
   "source": [
    "---\n",
    "\n",
    "### e. Filtrez sur les pokemons pesant plus de 250 kg et affichez le résultat pour vérifier."
   ]
  },
  {
   "cell_type": "code",
   "execution_count": null,
   "id": "250a1107",
   "metadata": {},
   "outputs": [],
   "source": [
    "sel <- na.omit(df[df$weight_kg >= 250,])\n",
    "\n",
    "sprintf(\"Nombre de lignes: %s\", dim(sel)[1])\n",
    "sprintf(\"Nombre de colonnes: %s\", dim(sel)[2])\n",
    "\n",
    "sel[c(\"nom\", \"weight_kg\")]"
   ]
  },
  {
   "cell_type": "markdown",
   "id": "fa2c2279",
   "metadata": {},
   "source": [
    "---\n",
    "\n",
    "### f. Filtrez sur les pokémons qui ont des valeurs manquantes sur la variable `height_m`."
   ]
  },
  {
   "cell_type": "code",
   "execution_count": null,
   "id": "ab33319a",
   "metadata": {},
   "outputs": [],
   "source": [
    "sel <- df[is.na(df$height_m),]\n",
    "\n",
    "sprintf(\"Nombre de lignes: %s\", dim(sel)[1])\n",
    "sprintf(\"Nombre de colonnes: %s\", dim(sel)[2])\n",
    "\n",
    "sel[c(\"nom\", \"height_m\")]"
   ]
  },
  {
   "cell_type": "markdown",
   "id": "0e2e6abd",
   "metadata": {},
   "source": [
    "---\n",
    "\n",
    "### g. Filtrez sur les pokemons qui ont des valeurs renseignées à la fois pour la variable `weight_kg` **et** la variable `height`."
   ]
  },
  {
   "cell_type": "code",
   "execution_count": null,
   "id": "5b225db1",
   "metadata": {},
   "outputs": [],
   "source": [
    "sel <- df[complete.cases(df$height_m) & complete.cases(df$weight_kg),]\n",
    "\n",
    "sprintf(\"Nombre de lignes: %s\", dim(sel)[1])\n",
    "sprintf(\"Nombre de colonnes: %s\", dim(sel)[2])\n",
    "\n",
    "sel[c(\"nom\", \"height_m\", 'weight_kg')]"
   ]
  },
  {
   "cell_type": "markdown",
   "id": "a33155ed",
   "metadata": {},
   "source": [
    "---\n",
    "---\n",
    "\n",
    "## Exercice 5 : Agregations\n",
    "\n",
    "Pour chaque question suivante, affectez le résultat de la requête dans un objet puis calculez sa \n",
    "dimension. \n",
    "\n",
    "---\n",
    "\n",
    "### a. Calculez l'`attack` moyenne en fonction de la variable `type`, puis filtrez sur les 3 types avec les moyennes les plus élevées."
   ]
  },
  {
   "cell_type": "code",
   "execution_count": null,
   "id": "bc41e008",
   "metadata": {},
   "outputs": [],
   "source": [
    "sel <- aggregate(attack ~ type, data = df, mean)\n",
    "\n",
    "sprintf(\"Nombre de lignes: %s\", dim(sel)[1])\n",
    "sprintf(\"Nombre de colonnes: %s\", dim(sel)[2])\n",
    "\n",
    "sel[order(-sel$attack)[1:3],]"
   ]
  },
  {
   "cell_type": "markdown",
   "id": "b0def007",
   "metadata": {},
   "source": [
    "---\n",
    "\n",
    "### b. Calculez le nombre de pokemon par `type` , puis triez par ordre décroissant ces effectifs."
   ]
  },
  {
   "cell_type": "code",
   "execution_count": null,
   "id": "b3a1e665",
   "metadata": {},
   "outputs": [],
   "source": [
    "sel <- sort(table(df$type), decreasing = T)\n",
    "\n",
    "sprintf(\"Nombre de lignes: %s\", dim(sel)[1])\n",
    "sprintf(\"Nombre de colonnes: %s\", dim(sel)[2])\n",
    "\n",
    "sel"
   ]
  },
  {
   "cell_type": "markdown",
   "id": "7fbd25c6",
   "metadata": {},
   "source": [
    "---\n",
    "\n",
    "### c. Calculez la médiane de `weight_kg` par `type`."
   ]
  },
  {
   "cell_type": "code",
   "execution_count": null,
   "id": "e21d9f95",
   "metadata": {},
   "outputs": [],
   "source": [
    "sel <- aggregate(weight_kg ~ type, data = df, median)\n",
    "\n",
    "sprintf(\"Nombre de lignes: %s\", dim(sel)[1])\n",
    "sprintf(\"Nombre de colonnes: %s\", dim(sel)[2])\n",
    "\n",
    "sel"
   ]
  },
  {
   "cell_type": "markdown",
   "id": "3356e16f",
   "metadata": {},
   "source": [
    "---\n",
    "\n",
    "### d. Calculez le nombre de pokemon par `type` et `generation`."
   ]
  },
  {
   "cell_type": "code",
   "execution_count": null,
   "id": "68070fa2",
   "metadata": {},
   "outputs": [],
   "source": [
    "sel <- table(df$type, df$generation)\n",
    "\n",
    "sprintf(\"Nombre de lignes: %s\", dim(sel)[1])\n",
    "sprintf(\"Nombre de colonnes: %s\", dim(sel)[2])\n",
    "\n",
    "sel"
   ]
  },
  {
   "cell_type": "markdown",
   "id": "367a84b5",
   "metadata": {},
   "source": [
    "---\n",
    "\n",
    "### e. Calculez la moyenne de chaque critère (`weight_kg`, `height_m`, `attack`, `defense` et `speed`) en fonction de chaque `type`.\n"
   ]
  },
  {
   "cell_type": "code",
   "execution_count": null,
   "id": "2b3ec0f3",
   "metadata": {},
   "outputs": [],
   "source": [
    "sel <- aggregate(cbind(weight_kg, height_m, attack, defense, speed) ~ type, data = df, mean)\n",
    "\n",
    "sprintf(\"Nombre de lignes: %s\", dim(sel)[1])\n",
    "sprintf(\"Nombre de colonnes: %s\", dim(sel)[2])\n",
    "\n",
    "sel"
   ]
  }
 ],
 "metadata": {
  "kernelspec": {
   "display_name": "R",
   "language": "R",
   "name": "ir"
  },
  "language_info": {
   "codemirror_mode": "r",
   "file_extension": ".r",
   "mimetype": "text/x-r-source",
   "name": "R",
   "pygments_lexer": "r",
   "version": "3.6.1"
  }
 },
 "nbformat": 4,
 "nbformat_minor": 5
}
