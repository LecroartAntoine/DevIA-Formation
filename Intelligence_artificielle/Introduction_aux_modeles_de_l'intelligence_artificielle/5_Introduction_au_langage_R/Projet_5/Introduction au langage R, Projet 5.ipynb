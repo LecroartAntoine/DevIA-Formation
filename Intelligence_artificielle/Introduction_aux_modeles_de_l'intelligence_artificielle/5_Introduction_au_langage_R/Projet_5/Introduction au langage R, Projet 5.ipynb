{
 "cells": [
  {
   "cell_type": "markdown",
   "id": "e41e9d49",
   "metadata": {},
   "source": [
    "# Projet 5 - Students\n",
    "\n",
    "---\n",
    "\n",
    "Voici la présentation du jeu de données :\n",
    "\n",
    "- `ID_etudiant` : Le matricule des étudiants\n",
    "- `Genre` : Le genre des étudiants\n",
    "- `Groupe.TP` : Le groupe de travaux pratiques\n",
    "- `Groupe.TD` : Le groupe de travaux dirigés\n",
    "- `QUIZ#` : Le score du quiz numéro #\n",
    "- `TP#` : La note au TP numéro #\n",
    "\n",
    "---\n",
    "---\n",
    "\n",
    "## Exercice 1 : Importer les données\n",
    "\n",
    "---\n",
    "\n",
    "### a. Importer le jeu de données `students_results.csv` avec la fonction `read.csv()`."
   ]
  },
  {
   "cell_type": "code",
   "execution_count": null,
   "id": "d2f136d2",
   "metadata": {},
   "outputs": [],
   "source": [
    "df <- read.csv2(\"students_results.csv\")\n",
    "df"
   ]
  },
  {
   "cell_type": "markdown",
   "id": "e29ca386",
   "metadata": {},
   "source": [
    "---\n",
    "\n",
    "### b. Combien de lignes, colonnes sont présentes dans ce dataset (utilisez les fonctions adaptées) ?"
   ]
  },
  {
   "cell_type": "code",
   "execution_count": null,
   "id": "72fa55de",
   "metadata": {},
   "outputs": [],
   "source": [
    "sprintf(\"Nombre de lignes: %s\", dim(df)[1])\n",
    "sprintf(\"Nombre de colonnes: %s\", dim(df)[2])"
   ]
  },
  {
   "cell_type": "markdown",
   "id": "34c571d5",
   "metadata": {},
   "source": [
    "---\n",
    "\n",
    "### c. Afficher le nom des colonnes."
   ]
  },
  {
   "cell_type": "code",
   "execution_count": null,
   "id": "11cb4f03",
   "metadata": {},
   "outputs": [],
   "source": [
    "writeLines(sprintf(\"Nom colonne %s: %s\", 1:9, colnames(df)))"
   ]
  },
  {
   "cell_type": "markdown",
   "id": "90ce6104",
   "metadata": {},
   "source": [
    "---\n",
    "\n",
    "### d. Afficher le type des colonnes avec la fonction adaptée."
   ]
  },
  {
   "cell_type": "code",
   "execution_count": null,
   "id": "cfbceb99",
   "metadata": {},
   "outputs": [],
   "source": [
    "sapply(df, class)"
   ]
  },
  {
   "cell_type": "markdown",
   "id": "fd2566e0",
   "metadata": {},
   "source": [
    "---\n",
    "\n",
    "### e. Afficher un résumé des données avec la fonction adaptée."
   ]
  },
  {
   "cell_type": "code",
   "execution_count": null,
   "id": "4c4c5b8c",
   "metadata": {},
   "outputs": [],
   "source": [
    "summary(df)"
   ]
  },
  {
   "cell_type": "markdown",
   "id": "a1c0565a",
   "metadata": {},
   "source": [
    "---\n",
    "\n",
    "### f. On souhaite analyser les variables `Groupe.TP` et `Groupe.TD` en tant que variables qualitatives. Modifier le type de ces variables pour les transformer en type factor.\n"
   ]
  },
  {
   "cell_type": "code",
   "execution_count": null,
   "id": "4e584170",
   "metadata": {},
   "outputs": [],
   "source": [
    "names <- c('Groupe.TP', 'Groupe.TD')\n",
    "df[names] <- lapply(df[names], factor)"
   ]
  },
  {
   "cell_type": "markdown",
   "id": "c94b93e7",
   "metadata": {},
   "source": [
    "---\n",
    "---\n",
    "\n",
    "## Exercice 2 : Statistiques descriptives\n",
    "\n",
    "---\n",
    "\n",
    "### a. Ajouter une colonne appelée `TOTAL_QUIZ` qui correspond à la somme des notes des quiz.\n",
    "\n",
    "```{r, echo=FALSE}\n",
    "df$TOTAL_QUIZ <- df$QUIZ1 + df$QUIZ2\n",
    "```"
   ]
  },
  {
   "cell_type": "code",
   "execution_count": null,
   "id": "d99c3136",
   "metadata": {},
   "outputs": [],
   "source": [
    "df$TOTAL_QUIZ <- df$QUIZ1 + df$QUIZ2\n",
    "df"
   ]
  },
  {
   "cell_type": "markdown",
   "id": "d00c01ae",
   "metadata": {},
   "source": [
    "---\n",
    "\n",
    "### b. Déterminer la moyenne du score total des quiz. Proposez un graphique adapté pour visualiser la distribution de tous les scores totaux des étudiants."
   ]
  },
  {
   "cell_type": "code",
   "execution_count": null,
   "id": "3c8e4132",
   "metadata": {},
   "outputs": [],
   "source": [
    "sprintf(\"Moyenne du score total des quiz : %s\", round(mean(na.omit(df$TOTAL_QUIZ)), 2))"
   ]
  },
  {
   "cell_type": "code",
   "execution_count": null,
   "id": "47705b23",
   "metadata": {},
   "outputs": [],
   "source": [
    "barplot(\n",
    "    df$TOTAL_QUIZ, \n",
    "    ylab=\"Score\", \n",
    "    main = \"Score total des quiz par étudiant\", \n",
    "    ylim = c(0,80000),\n",
    ")\n"
   ]
  },
  {
   "cell_type": "markdown",
   "id": "1debb5cf",
   "metadata": {},
   "source": [
    "---\n",
    "\n",
    "### c. Déterminer les déciles des notes du TP4. Proposez un autre graphique pour visualiser la distribution des notes des étudiants au TP4."
   ]
  },
  {
   "cell_type": "code",
   "execution_count": null,
   "id": "7308ffe4",
   "metadata": {},
   "outputs": [],
   "source": [
    "deciles <- c('10%' ,'20%', '30%', '40%', '50%', '60%' ,'70%', '80%', '90%')\n",
    "writeLines(sprintf(\"Décile %s des notes du TP4 : %s\", deciles, quantile(na.omit(df$TP4), probs = seq(.1, .9, by = .1))))"
   ]
  },
  {
   "cell_type": "code",
   "execution_count": null,
   "id": "d00bc55a",
   "metadata": {},
   "outputs": [],
   "source": [
    "barplot(\n",
    "    df$TP4, \n",
    "    ylab=\"Score\", \n",
    "    main = \"Score total des quiz par étudiant\", \n",
    "    ylim = c(0,20)\n",
    ")"
   ]
  },
  {
   "cell_type": "markdown",
   "id": "5a1049ab",
   "metadata": {},
   "source": [
    "---\n",
    "\n",
    "### d. Déterminer le nombre d'étudiants par groupe de TP. Proposez un graphique adapté pour visualiser cette répartition par groupe."
   ]
  },
  {
   "cell_type": "code",
   "execution_count": null,
   "id": "e3740d95",
   "metadata": {},
   "outputs": [],
   "source": [
    "result <- as.numeric(lapply(unique(df$Groupe.TP), function(x) nrow(df[df$Groupe.TP == x,])))"
   ]
  },
  {
   "cell_type": "code",
   "execution_count": null,
   "id": "2d444a19",
   "metadata": {},
   "outputs": [],
   "source": [
    "barplot(\n",
    "    result,\n",
    "    names.arg = 1:length(result),\n",
    "    ylim = c(0,20),\n",
    "    col = c(\"darkred\")\n",
    ")"
   ]
  },
  {
   "cell_type": "markdown",
   "id": "7ea055f0",
   "metadata": {},
   "source": [
    "---\n",
    "\n",
    "### e. Déterminer le nombre d'étudiants par genre. Proposez un autre graphique pour visualiser cette répartition par genre."
   ]
  },
  {
   "cell_type": "code",
   "execution_count": null,
   "id": "a062a8d4",
   "metadata": {},
   "outputs": [],
   "source": [
    "result <- as.numeric(lapply(unique(df$Genre), function(x) nrow(df[df$Genre == x,])))"
   ]
  },
  {
   "cell_type": "code",
   "execution_count": null,
   "id": "cc7911bc",
   "metadata": {},
   "outputs": [],
   "source": [
    "barplot(\n",
    "    result,\n",
    "    names.arg = c(\"Femme\", \"Homme\"),\n",
    "    ylim = c(0,50),\n",
    "    col = c(\"darkred\")\n",
    ")"
   ]
  },
  {
   "cell_type": "markdown",
   "id": "df1ffd54",
   "metadata": {},
   "source": [
    "---\n",
    "---\n",
    "\n",
    "## Exercice 3 : Qui sont les meilleurs ?\n",
    "\n",
    "---\n",
    "\n",
    "### a. Proposer un graphique adapté pour visualiser la distribution du score total aux quiz par genre."
   ]
  },
  {
   "cell_type": "code",
   "execution_count": null,
   "id": "c451cbe2",
   "metadata": {},
   "outputs": [],
   "source": [
    "plot(\n",
    "    df$Genre, \n",
    "    df$TOTAL_QUIZ,\n",
    "    main = \"Distribution du score total aux quiz par genre\",\n",
    "    xlab = \"Genre\", \n",
    "    ylab = \"Score\", \n",
    "    col = \"darkred\"\n",
    ")"
   ]
  },
  {
   "cell_type": "markdown",
   "id": "b64df757",
   "metadata": {},
   "source": [
    "---\n",
    "\n",
    "### b. Calculer la moyenne du score total aux quiz par genre."
   ]
  },
  {
   "cell_type": "code",
   "execution_count": null,
   "id": "10a18920",
   "metadata": {},
   "outputs": [],
   "source": [
    "avg_m <- mean(na.omit(df[df$Genre == 'H',]$TOTAL_QUIZ))\n",
    "avg_f <- mean(na.omit(df[df$Genre == 'F',]$TOTAL_QUIZ))\n",
    "\n",
    "result <- data.frame(Genre = unique(df$Genre), Avg_Score = c(avg_f, avg_m))\n",
    "result\n"
   ]
  },
  {
   "cell_type": "markdown",
   "id": "8bdc1b7c",
   "metadata": {},
   "source": [
    "---\n",
    "\n",
    "### c. Proposer un graphique adapté pour visualiser la distribution du score total aux quiz par groupe de TP."
   ]
  },
  {
   "cell_type": "code",
   "execution_count": null,
   "id": "0841d14b",
   "metadata": {},
   "outputs": [],
   "source": [
    "sum(na.omit(df[df$Groupe.TP == 2,]$TOTAL_QUIZ))"
   ]
  },
  {
   "cell_type": "code",
   "execution_count": null,
   "id": "7bcbcb6c",
   "metadata": {},
   "outputs": [],
   "source": [
    "result <- as.numeric(lapply(unique(df$Groupe.TP), function(x) sum(na.omit(df[df$Groupe.TP == x,]$TOTAL_QUIZ))))\n",
    "barplot(\n",
    "    result,\n",
    "    names.arg = unique(df$Groupe.TP),\n",
    "    main = \"Distribution du score total aux quiz par groupe de TP\",\n",
    "    xlab = \"Groupe\", \n",
    "    ylab = \"Score\", \n",
    "    ylim = c(0,900000),\n",
    "    col = c(\"darkred\")\n",
    ")"
   ]
  },
  {
   "cell_type": "markdown",
   "id": "696d8a82",
   "metadata": {},
   "source": [
    "---\n",
    "\n",
    "### d. Calculer la moyenne du score total aux quiz par groupe de TP."
   ]
  },
  {
   "cell_type": "code",
   "execution_count": null,
   "id": "7c36d32d",
   "metadata": {},
   "outputs": [],
   "source": [
    "result <- lapply(unique(df$Groupe.TP), function(x) mean(na.omit(df[df$Groupe.TP == x,]$TOTAL_QUIZ)))\n",
    "result                            "
   ]
  },
  {
   "cell_type": "markdown",
   "id": "ddaeb91d",
   "metadata": {},
   "source": [
    "---\n",
    "\n",
    "### e. On souhaite visualiser avec un graphique adapté le score total aux quiz uniquement des 5 meilleurs étudiants."
   ]
  },
  {
   "cell_type": "code",
   "execution_count": null,
   "id": "bae4694a",
   "metadata": {},
   "outputs": [],
   "source": [
    "result <- df[order(-df$TOTAL_QUIZ),]\n",
    "\n",
    "barplot(\n",
    "    \n",
    "    result[1:5,]$TOTAL_QUIZ,\n",
    "    names.arg = result[1:5,]$ID_etudiant,\n",
    "    main = \"Score total aux quiz uniquement des 5 meilleurs étudiants\",\n",
    "    xlab = \"ID\", \n",
    "    ylab = \"Score\", \n",
    "    col = \"darkred\",\n",
    "    ylim = c(0, 80000)\n",
    ")"
   ]
  },
  {
   "cell_type": "markdown",
   "id": "1f6611b8",
   "metadata": {},
   "source": [
    "---\n",
    "\n",
    "### f. On souhaite conserver les lignes uniquement des 3 meilleur(e)s étudiant(e)s du groupe de TP 1."
   ]
  },
  {
   "cell_type": "code",
   "execution_count": null,
   "id": "40e2230c",
   "metadata": {},
   "outputs": [],
   "source": [
    "result <- df[order(-df[df$Groupe.TP == 1,]$TOTAL_QUIZ),][(1:3),]\n",
    "result"
   ]
  }
 ],
 "metadata": {
  "kernelspec": {
   "display_name": "R",
   "language": "R",
   "name": "ir"
  },
  "language_info": {
   "codemirror_mode": "r",
   "file_extension": ".r",
   "mimetype": "text/x-r-source",
   "name": "R",
   "pygments_lexer": "r",
   "version": "3.6.1"
  }
 },
 "nbformat": 4,
 "nbformat_minor": 5
}
