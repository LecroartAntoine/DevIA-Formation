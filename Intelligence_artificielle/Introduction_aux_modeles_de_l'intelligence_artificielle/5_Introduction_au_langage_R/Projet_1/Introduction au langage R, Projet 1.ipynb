{
 "cells": [
  {
   "cell_type": "markdown",
   "id": "85cd4337",
   "metadata": {},
   "source": [
    "# Projet 1 - Cars\n",
    "\n",
    "---\n",
    "\n",
    "On utilise le dataset `mtcars` qui décrit les statistiques de voitures.\n",
    "Le dataset est présent dans le package *datasets* automatiquement installé sur R. Voici une \n",
    "description des données :\n",
    "- `mpg` : Miles/(US) gallon\n",
    "- `cyl` : Number of cylinders\n",
    "- `disp` : Displacement (cu.in.)\n",
    "- `hp` : Gross horsepower\n",
    "- `drat` : Rear axle ratio\n",
    "- `wt` : Weight (1000 lbs)\n",
    "- `qsec` : 1/4 mile time\n",
    "- `vs` : Engine (0 = V-shaped, 1 = straight)\n",
    "- `am` : Transmission (0 = automatic, 1 = manual)\n",
    "- `gear` : Number of forward gears\n",
    "- `carb` : Number of carburetors\n",
    "\n",
    "---\n",
    "---\n",
    "\n",
    "## Exercice 1 : Préparer son environnement de travail\n",
    "\n",
    "---\n",
    "\n",
    "### a. Dupliquer le dataset dans un nouvel objet appelé `df`."
   ]
  },
  {
   "cell_type": "code",
   "execution_count": null,
   "id": "33b293c3",
   "metadata": {},
   "outputs": [],
   "source": [
    "df <- mtcars\n",
    "df"
   ]
  },
  {
   "cell_type": "markdown",
   "id": "cb9cd7ae",
   "metadata": {},
   "source": [
    "---\n",
    "\n",
    "### b. Combien de lignes, colonnes sont présentes dans ce dataset (utilisez les fonctions adaptées) ?"
   ]
  },
  {
   "cell_type": "code",
   "execution_count": null,
   "id": "73119f77",
   "metadata": {},
   "outputs": [],
   "source": [
    "sprintf(\"Nombre de lignes: %s\", dim(df)[1])\n",
    "sprintf(\"Nombre de colonnes: %s\", dim(df)[2])"
   ]
  },
  {
   "cell_type": "markdown",
   "id": "219f51d3",
   "metadata": {},
   "source": [
    "---\n",
    "\n",
    "### c. Affichez le nom des colonnes"
   ]
  },
  {
   "cell_type": "code",
   "execution_count": null,
   "id": "66b34a36",
   "metadata": {},
   "outputs": [],
   "source": [
    "writeLines(sprintf(\"Nom colonne %s: %s\", 1:11, colnames(df)))"
   ]
  },
  {
   "cell_type": "markdown",
   "id": "0a1f444b",
   "metadata": {},
   "source": [
    "---\n",
    "\n",
    "### d. Affichez le type des colonnes avec la fonction adaptée."
   ]
  },
  {
   "cell_type": "code",
   "execution_count": null,
   "id": "43b226c2",
   "metadata": {},
   "outputs": [],
   "source": [
    "sapply(df, class)"
   ]
  },
  {
   "cell_type": "markdown",
   "id": "75c991ba",
   "metadata": {},
   "source": [
    "---\n",
    "\n",
    "### e. On souhaite analyser les variables `cyl`, `vs`, `am`, `gear` et `carb` en tant que variables qualitatives. Modifier le type de ces variables pour les transformer en type factor."
   ]
  },
  {
   "cell_type": "code",
   "execution_count": null,
   "id": "c1eba605",
   "metadata": {},
   "outputs": [],
   "source": [
    "names <- c('cyl' ,'vs', 'am', 'gear', 'carb')\n",
    "df[names] <- lapply(df[names], factor)"
   ]
  },
  {
   "cell_type": "markdown",
   "id": "c3afb48d",
   "metadata": {},
   "source": [
    "---\n",
    "\n",
    "### f. Combien de niveaux (*levels*) sont présents dans ces variables ?"
   ]
  },
  {
   "cell_type": "code",
   "execution_count": null,
   "id": "8fccaef8",
   "metadata": {},
   "outputs": [],
   "source": [
    "str(df[names])"
   ]
  },
  {
   "cell_type": "markdown",
   "id": "4a5dfa12",
   "metadata": {},
   "source": [
    "---\n",
    "\n",
    "### g. Affichez un résumé des données avec la fonction adaptée."
   ]
  },
  {
   "cell_type": "code",
   "execution_count": null,
   "id": "e07410e2",
   "metadata": {},
   "outputs": [],
   "source": [
    "summary(df)"
   ]
  },
  {
   "cell_type": "markdown",
   "id": "832ea9cd",
   "metadata": {},
   "source": [
    "---\n",
    "---\n",
    "\n",
    "## Exercice 2 : Statistiques descriptives\n",
    "\n",
    "---\n",
    "\n",
    "### a. Déterminer la moyenne de la variable `mpg`"
   ]
  },
  {
   "cell_type": "code",
   "execution_count": null,
   "id": "f6ba2a61",
   "metadata": {},
   "outputs": [],
   "source": [
    "sprintf(\"Moyenne de la colonne `mpg` : %s\", mean(df$mpg))"
   ]
  },
  {
   "cell_type": "markdown",
   "id": "6d20cb19",
   "metadata": {},
   "source": [
    "---\n",
    "\n",
    "### b. Déterminer le maximum la variable `wt`."
   ]
  },
  {
   "cell_type": "code",
   "execution_count": null,
   "id": "517c1e76",
   "metadata": {},
   "outputs": [],
   "source": [
    "sprintf(\"Maximum de la colonne `wt` : %s\", max(df$wt))"
   ]
  },
  {
   "cell_type": "markdown",
   "id": "e62b6821",
   "metadata": {},
   "source": [
    "---\n",
    "\n",
    "### c. Déterminer la médiane de la variable `hp`."
   ]
  },
  {
   "cell_type": "code",
   "execution_count": null,
   "id": "52e1cac5",
   "metadata": {},
   "outputs": [],
   "source": [
    "sprintf(\"Médianne de la colonne `hp` : %s\", median(df$hp))"
   ]
  },
  {
   "cell_type": "markdown",
   "id": "d7273f80",
   "metadata": {},
   "source": [
    "---\n",
    "\n",
    "### d. Déterminer les quartiles de la variable `qsec`."
   ]
  },
  {
   "cell_type": "code",
   "execution_count": null,
   "id": "5f2ec567",
   "metadata": {},
   "outputs": [],
   "source": [
    "quartiles <- c('0%' ,'25%', '50%', '75%', '100%')\n",
    "writeLines(sprintf(\"Quartile %s de la colonne `qsec` : %s\", quartiles, quantile(df$qsec)))"
   ]
  },
  {
   "cell_type": "markdown",
   "id": "427da9ea",
   "metadata": {},
   "source": [
    "---\n",
    "\n",
    "### e. Déterminer les déciles de la variable `qsec`."
   ]
  },
  {
   "cell_type": "code",
   "execution_count": null,
   "id": "fde70f5d",
   "metadata": {},
   "outputs": [],
   "source": [
    "deciles <- c('10%' ,'20%', '30%', '40%', '50%', '60%' ,'70%', '80%', '90%')\n",
    "writeLines(sprintf(\"Décile %s de la colonne `qsec` : %s\", deciles, quantile(df$qsec, probs = seq(.1, .9, by = .1))))"
   ]
  },
  {
   "cell_type": "markdown",
   "id": "a8321714",
   "metadata": {},
   "source": [
    "---\n",
    "\n",
    "### f. Déterminer la variance et l'écart-type de la variable `qsec`."
   ]
  },
  {
   "cell_type": "code",
   "execution_count": null,
   "id": "216a3f9e",
   "metadata": {},
   "outputs": [],
   "source": [
    "sprintf(\"Variance de la colonne `qsec` : %s\", var(df$qsec))\n",
    "sprintf(\"Ecart-type de la colonne `qsec` : %s\", sd(df$qsec))"
   ]
  },
  {
   "cell_type": "markdown",
   "id": "6d56b457",
   "metadata": {},
   "source": [
    "---\n",
    "\n",
    "### g. Déterminer un tri à plat pour compter les effectifs des modalités de chaque variables *factor*."
   ]
  },
  {
   "cell_type": "code",
   "execution_count": null,
   "id": "2d149e16",
   "metadata": {},
   "outputs": [],
   "source": [
    "sapply(df[names], function(x) sort(table(x)))"
   ]
  },
  {
   "cell_type": "markdown",
   "id": "4ec7448e",
   "metadata": {},
   "source": [
    "---\n",
    "---\n",
    "\n",
    "## Exercice 3 : Quelques graphiques\n",
    "\n",
    "---\n",
    "\n",
    "### a. Contruire un histogramme de la distribution de la variable `qsec`."
   ]
  },
  {
   "cell_type": "code",
   "execution_count": null,
   "id": "3c75622f",
   "metadata": {},
   "outputs": [],
   "source": [
    "hist(df$qsec, main = \"Histogramme de la distribution de la variable `qsec`\", ylab = 'Fréqence', xlab = \"Valeur\", col = \"darkred\")"
   ]
  },
  {
   "cell_type": "markdown",
   "id": "0cd16266",
   "metadata": {},
   "source": [
    "---\n",
    "\n",
    "### b. Constuire une boîte à moustache de la distribution de la variable `qsec`."
   ]
  },
  {
   "cell_type": "code",
   "execution_count": null,
   "id": "2178bade",
   "metadata": {},
   "outputs": [],
   "source": [
    "boxplot(df$qsec, main = \"Boîte à moustache de la distribution de la variable `qsec`\", ylab = \"Valeur\", col = \"darkred\")"
   ]
  },
  {
   "cell_type": "markdown",
   "id": "67b065e1",
   "metadata": {},
   "source": [
    "---\n",
    "\n",
    "### c. Construire un diagramme en barre de répartition de la variable `carb`."
   ]
  },
  {
   "cell_type": "code",
   "execution_count": null,
   "id": "39c85ac2",
   "metadata": {},
   "outputs": [],
   "source": [
    "barplot(table(df$carb), main = \"Diagramme en barre de répartition de la variable `carb`\", xlab = \"Catégorie\", ylab = \"Valeur\", col = \"darkred\")"
   ]
  },
  {
   "cell_type": "markdown",
   "id": "91eeda3d",
   "metadata": {},
   "source": [
    "---\n",
    "\n",
    "### d. Construire un diagramme circulaire de la répartition de la variable `vs`."
   ]
  },
  {
   "cell_type": "code",
   "execution_count": null,
   "id": "65b9f641",
   "metadata": {},
   "outputs": [],
   "source": [
    "pie_labels <- c(paste0(df$vs[1], \" = \", round(100 * summary(df$vs)[1]/(summary(df$vs)[1] + summary(df$vs)[2]), 2), \"%\"), paste0(df$vs[3], \" = \", round(100 * summary(df$vs)[2]/(summary(df$vs)[1] + summary(df$vs)[2]), 2), \"%\"))\n",
    "\n",
    "pie(table(df$vs), main = \"Diagramme circulaire de la répartition de la variable `vs`\", labels = pie_labels, col = c(\"darkred\", \"darkblue\"))"
   ]
  }
 ],
 "metadata": {
  "kernelspec": {
   "display_name": "R",
   "language": "R",
   "name": "ir"
  },
  "language_info": {
   "codemirror_mode": "r",
   "file_extension": ".r",
   "mimetype": "text/x-r-source",
   "name": "R",
   "pygments_lexer": "r",
   "version": "3.6.1"
  }
 },
 "nbformat": 4,
 "nbformat_minor": 5
}
