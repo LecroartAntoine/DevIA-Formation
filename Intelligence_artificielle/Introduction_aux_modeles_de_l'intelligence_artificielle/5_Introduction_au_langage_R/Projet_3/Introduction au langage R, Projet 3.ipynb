{
 "cells": [
  {
   "cell_type": "markdown",
   "id": "ecfa3143",
   "metadata": {},
   "source": [
    "# Projet 3 - Among Us\n",
    "\n",
    "---\n",
    "\n",
    "On utilise le fichier compressé `AmongUs.7z` où l'ensemble des fichiers décrivent les statistiques des \n",
    "parties jouées sur le jeu *Among Us*. Il y a un fichier par joueur nommé *UserX.csv*.\n",
    "\n",
    "Les fichiers csv ont tous la même structure avec :\n",
    "\n",
    "- `Game.Completed.Date` : Date de la partie\n",
    "- `Team` : l'équipe attribuée\n",
    "- `Outcome` : résultat de la partie\n",
    "- `Task.Completed` : le nombre de tâches effectuées\n",
    "- `All.Tasks.Completed` : si toutes les tâches ont été effectuées\n",
    "- `Murdered` : si le joueur a été tué\n",
    "- `Imposter.Kills` : le nombre de joueurs tués par l'imposteur\n",
    "- `Game.Length` : durée de la partie\n",
    "- `Ejected` : si le joueur a été éliminé par les autres au cours de la partie\n",
    "- `Sabotages.Fixed` : nombre de sabotages réparés\n",
    "- `Time.to.complete.all.tasks` : temps pour compléter les toutes les tâches\n",
    "- `Rank.Change` : Non renseigné\n",
    "- `Region.Game.Code` : la région du serveur de jeu\n",
    "\n",
    "---\n",
    "---\n",
    "\n",
    "## Exercice 1 : Créer le jeu de données\n",
    "\n",
    "---\n",
    "\n",
    "### a. Télécharger le fichier compressé `AmongUs.7z` et le déziper. \n",
    "\n",
    "La fonction `list.files()` devrait vous aider à extraire l'ensemble des noms de fichiers présents dans un répertoire (voir l'exemple ci-dessous).\n",
    "```{r}\n",
    "list.files(path = \"dataset/\", pattern=\"*.csv\", full.names=FALSE)\n",
    "```\n"
   ]
  },
  {
   "cell_type": "code",
   "execution_count": null,
   "id": "8b8964c8",
   "metadata": {},
   "outputs": [],
   "source": [
    "files <- list.files(path = \"./AmongUs/\", pattern = \"*.csv\", full.names = FALSE)\n",
    "files"
   ]
  },
  {
   "cell_type": "markdown",
   "id": "1079f5e4",
   "metadata": {},
   "source": [
    "---\n",
    "\n",
    "### b. Compiler l'ensemble des fichiers *UserX.csv* présents dans le fichier zip dans un seul et même data frame. Utiliser une boucle qui parcourt chaque fichier csv utilisateur. \n",
    "La fonction `rbind()` devrait vous aider à compiler les différents csv dans un seul data frame (voir l'exemple ci-dessous). \n",
    "\n",
    "```{r}\n",
    "df <- data.frame()\n",
    "dim(df)\n",
    "df <- rbind(df, mtcars)\n",
    "dim(df)\n",
    "df <- rbind(df, mtcars)\n",
    "dim(df)\n",
    "```\n",
    "Attention, pour le bon déroulement du Brief, intégrer l'argument `stringsAsFactors = FALSE` dans votre fonction `read.csv()`. Cet argument permet de ne pas typer par défaut les variables `character` en `factor` lors de l'importation.\n"
   ]
  },
  {
   "cell_type": "code",
   "execution_count": null,
   "id": "1659793b",
   "metadata": {},
   "outputs": [],
   "source": [
    "df <- data.frame()\n",
    "for (file in files){\n",
    "    df <- rbind(df, read.csv(paste0(\"./AmongUs/\", file), stringsAsFactors = FALSE))\n",
    "}\n",
    "df"
   ]
  },
  {
   "cell_type": "markdown",
   "id": "ed9e803b",
   "metadata": {},
   "source": [
    "---\n",
    "\n",
    "###  c. Modifier votre boucle afin d'ajouter une colonne dans le data frame final qui renseigne le numéro d'utilisateur disponible dans le nom de chaque fichier csv.\n",
    "\n",
    "indice : Il est plus simple d'ajouter une colonne avec le nom du fichier juste avant la fonction `rbind()`."
   ]
  },
  {
   "cell_type": "code",
   "execution_count": null,
   "id": "69c0144b",
   "metadata": {},
   "outputs": [],
   "source": [
    "df <- data.frame()\n",
    "for (file in files){\n",
    "    name <- substr(file, 1, nchar(file)-4)\n",
    "    df_temp <- read.csv(paste0(\"./AmongUs/\", file), stringsAsFactors = FALSE)\n",
    "    df_temp$User <- name\n",
    "    df <- rbind(df, df_temp) \n",
    "}\n",
    "df\n"
   ]
  },
  {
   "cell_type": "markdown",
   "id": "13539939",
   "metadata": {},
   "source": [
    "---\n",
    "\n",
    "### d. Stocker le data frame final dans un objet appelé *AmongUs*."
   ]
  },
  {
   "cell_type": "code",
   "execution_count": null,
   "id": "34ea5097",
   "metadata": {},
   "outputs": [],
   "source": [
    "AmongUs <- data.frame(df)"
   ]
  },
  {
   "cell_type": "markdown",
   "id": "9aca9498",
   "metadata": {},
   "source": [
    "---\n",
    "\n",
    "### e. Supprimer la colonne `Rank.Change` qui est inutile."
   ]
  },
  {
   "cell_type": "code",
   "execution_count": null,
   "id": "9b6b74da",
   "metadata": {},
   "outputs": [],
   "source": [
    "AmongUs = subset(AmongUs, select = -Rank.Change )\n",
    "AmongUs"
   ]
  },
  {
   "cell_type": "markdown",
   "id": "fd10518f",
   "metadata": {},
   "source": [
    "---\n",
    "\n",
    "### f. On observe des valeurs manquantes dans le dataset à travers les champs `-` et `N/A`, on souhaite remplacer ces valeurs textuelles par la véritable valeur `NA` permettant d'indiquer à R que la valeur est manquante.\n",
    "\n",
    "Construire une fonction appelée `manage_na()` qui prend en entrée :\n",
    "- un vecteur `x` correspondra à une colonne d'un dataset.\n",
    "- un vecteur `string_to_na` correspondant à la liste des chaînes de caractères qu'on souhaite transformer en `NA`.\n",
    "\n",
    "La fonction retournera le vecteur modifié.\n",
    "\n",
    "indice : voici ci-dessous la tête que doit avoir votre fonction :\n",
    "```{r, eval=FALSE}\n",
    "manage_na <- function(x, string_to_na) {\n",
    " \n",
    " ...\n",
    " ...\n",
    " ...\n",
    " \n",
    " return(x_modif)\n",
    "}\n",
    "```"
   ]
  },
  {
   "cell_type": "code",
   "execution_count": null,
   "id": "57697e62",
   "metadata": {},
   "outputs": [],
   "source": [
    "manage_na <- function(x, string_to_na){\n",
    "    \n",
    "    for (mot in string_to_na){\n",
    "        \n",
    "      x[x == mot] <- NA  \n",
    "    }\n",
    "\n",
    "return(x)\n",
    "}"
   ]
  },
  {
   "cell_type": "markdown",
   "id": "ad400183",
   "metadata": {},
   "source": [
    "---\n",
    "\n",
    "### g. Construire une boucle qui parcourt toutes les colonnes du data frame *AmongUs* et qui remplace les champs avec des `-` et `N/A` par des valeurs manquantes `NA`. Utilisez la fonction `manage_na()` créée précédemment.\n"
   ]
  },
  {
   "cell_type": "code",
   "execution_count": null,
   "id": "a7c1f7f1",
   "metadata": {},
   "outputs": [],
   "source": [
    "for (i in 1:ncol(AmongUs)){\n",
    "    \n",
    "    AmongUs[i] <- manage_na(AmongUs[i], c(\"-\", \"N/A\"))\n",
    "}\n",
    "\n",
    "AmongUs"
   ]
  },
  {
   "cell_type": "markdown",
   "id": "457fc928",
   "metadata": {},
   "source": [
    "---\n",
    "\n",
    "### h. Suppression des symboles dans le nom de la première colonne"
   ]
  },
  {
   "cell_type": "code",
   "execution_count": null,
   "id": "57721a39",
   "metadata": {},
   "outputs": [],
   "source": [
    "colnames(AmongUs)[1] <- gsub('^...','',colnames(AmongUs)[1])\n",
    "AmongUs"
   ]
  },
  {
   "cell_type": "markdown",
   "id": "826f7040",
   "metadata": {},
   "source": [
    "---\n",
    "---\n",
    "\n",
    "## Exercice 2 : Manipuler le texte et les dates\n",
    "\n",
    "---\n",
    "\n",
    "### a. À partir de la colonne `Game.Completed.Date`, construire une colonne appelée `Date` avec la date de la partie au format *yyyy-mm-dd* uniquement. Veiller à ce que le type de cette colonne soit *Date*."
   ]
  },
  {
   "cell_type": "code",
   "execution_count": null,
   "id": "f43a2376",
   "metadata": {},
   "outputs": [],
   "source": [
    "library(lubridate)"
   ]
  },
  {
   "cell_type": "code",
   "execution_count": null,
   "id": "716b1c4d",
   "metadata": {},
   "outputs": [],
   "source": [
    "AmongUs$Date <- lapply(AmongUs$Game.Completed.Date, function (x) substr(x, 1, 10))\n",
    "                       \n",
    "AmongUs$Date <- mdy(AmongUs$Date)\n",
    "                                                \n",
    "AmongUs"
   ]
  },
  {
   "cell_type": "markdown",
   "id": "39556ae2",
   "metadata": {},
   "source": [
    "---\n",
    "\n",
    "### b. À partir de la colonne `Game.Completed.Date`, construire une colonne appelée `Heure` avec **l'heure uniquement** de la partie. Attention au format *am* et *pm*. "
   ]
  },
  {
   "cell_type": "code",
   "execution_count": null,
   "id": "f0d3fe25",
   "metadata": {},
   "outputs": [],
   "source": [
    "AmongUs$Heure <- lapply(AmongUs$Game.Completed.Date, function (x) substr(x, 15, 25))\n",
    "\n",
    "convert_time <- function(time) {\n",
    "    is_pm <- (substring(time, regexpr(\"\\\\s\", time)[[1]] + 1, regexpr(\"\\\\s\", time)[[1]] + 2) == \"pm\")\n",
    "    if (is_pm) {\n",
    "        result <- (as.POSIXct(substring(time, 1, regexpr(\"\\\\s\", time)[[1]] - 1), format = \"%H:%M:%S\") + hours(12))\n",
    "        return(strftime(result, format=\"%H:%M:%S\"))\n",
    "    } \n",
    "    else {\n",
    "        result <- (as.POSIXct(substring(time, 1, regexpr(\"\\\\s\", time)[[1]] - 1), format = \"%H:%M:%S\"))\n",
    "        return(strftime(result, format=\"%H:%M:%S\"))\n",
    "    }\n",
    "}   \n",
    "\n",
    "                 \n",
    "AmongUs$Heure <- hms(lapply(AmongUs$Heure, convert_time))\n",
    "                \n",
    "AmongUs"
   ]
  },
  {
   "cell_type": "markdown",
   "id": "d497eb40",
   "metadata": {},
   "source": [
    "---\n",
    "\n",
    "### c. À partir de la colonne `Game Length`, construire une colonne appelée `Game.Length.sec` correspondant à la durée de la partie en secondes. "
   ]
  },
  {
   "cell_type": "code",
   "execution_count": null,
   "id": "4646a587",
   "metadata": {},
   "outputs": [],
   "source": [
    "AmongUs$Game.Length.sec <-  as.integer(substr(AmongUs$Game.Length, 1, 2)) * 60 + as.integer(substr(AmongUs$Game.Length, 4, 5))\n",
    "\n",
    "AmongUs"
   ]
  },
  {
   "cell_type": "markdown",
   "id": "04366cc7",
   "metadata": {},
   "source": [
    "---\n",
    "\n",
    "### d. À partir de la colonne `Time.to.complete.all.tasks`, construire une colonne appelée `Complete.all.tasks.sec` correspondant à la durée en secondes pour compléter toutes les tâches."
   ]
  },
  {
   "cell_type": "code",
   "execution_count": null,
   "id": "1387188f",
   "metadata": {},
   "outputs": [],
   "source": [
    "AmongUs$Complete.all.tasks.sec <-  as.integer(substr(AmongUs$Time.to.complete.all.tasks, 1, 2)) * 60 + as.integer(substr(AmongUs$Time.to.complete.all.tasks, 4, 5))\n",
    "\n",
    "AmongUs"
   ]
  },
  {
   "cell_type": "markdown",
   "id": "81bba154",
   "metadata": {},
   "source": [
    "---\n",
    "\n",
    "### e. À partir de la colonne `Region.Game.Code` construire une colonne appelée `Region` correspondant au nom du continent uniquement."
   ]
  },
  {
   "cell_type": "code",
   "execution_count": null,
   "id": "c7a0aa53",
   "metadata": {},
   "outputs": [],
   "source": [
    "AmongUs$Region <- substr(AmongUs$Region.Game.Code, 1, regexpr(\" \", AmongUs$Region.Game.Code))\n",
    "\n",
    "AmongUs$Region <- gsub(\"NA\", \"North America\", AmongUs$Region)\n",
    "\n",
    "AmongUs"
   ]
  },
  {
   "cell_type": "markdown",
   "id": "5fd36b6f",
   "metadata": {},
   "source": [
    "---\n",
    "---\n",
    "\n",
    "## Exercice 3 : Type des variables\n",
    "\n",
    "---\n",
    "\n",
    "### a. Combien de lignes, colonnes sont présentes dans ce dataset (Utiliser la fonction adaptée) ?"
   ]
  },
  {
   "cell_type": "code",
   "execution_count": null,
   "id": "9c67f685",
   "metadata": {},
   "outputs": [],
   "source": [
    "sprintf(\"Nombre de lignes: %s\", dim(AmongUs)[1])\n",
    "sprintf(\"Nombre de colonnes: %s\", dim(AmongUs)[2])"
   ]
  },
  {
   "cell_type": "markdown",
   "id": "e81ae02f",
   "metadata": {},
   "source": [
    "---\n",
    "\n",
    "### b. Afficher un résumé des données avec la fonction adaptée. "
   ]
  },
  {
   "cell_type": "code",
   "execution_count": null,
   "id": "005cc33e",
   "metadata": {},
   "outputs": [],
   "source": [
    "summary(AmongUs)"
   ]
  },
  {
   "cell_type": "markdown",
   "id": "9f95c331",
   "metadata": {},
   "source": [
    "---\n",
    "\n",
    "### c. Veiller à ce que les types de chaque colonne du dataset correspondent aux types ci-dessous. Sinon, convertir les variables dans leur type approprié.\n",
    "\n",
    "Variable | Type souhaité\n",
    "------------ | ------------\n",
    "Game.Completed.Date | character\n",
    "Team | factor\n",
    "Outcome| factor\n",
    "Task.Completed| numeric\n",
    "All.Tasks.Completed| factor\n",
    "Murdered| factor\n",
    "Imposter.Kills| numeric\n",
    "Game.Length| character\n",
    "Ejected| factor\n",
    "Sabotages.Fixed| numeric \n",
    "Time.to.complete.all.tasks| character\n",
    "Region.Game.Code| character\n",
    "**Date** | Date\n",
    "**Heure** | numeric\n",
    "**Game.Length.sec** | numeric\n",
    "**Complete.all.tasks.sec** | numeric\n",
    "**Region** | factor\n",
    "\n",
    "<br>\n",
    "\n",
    "Attention, lorsqu'on convertit un vecteur de type `factor` en type `numeric`, il est recommandé de passer d'abord par le type `character` (voir exemple ci-dessous). Ce ne sera peu être pas utile pour ce TP, mais c'est bien de le savoir !\n",
    "\n",
    "Ce qu'il ne faut pas faire \n",
    "```{r}\n",
    "x <- factor(c(7,7,8,7,9,6,6))\n",
    "levels(x)\n",
    "x <- as.numeric(x)\n",
    "x\n",
    "```\n",
    "Ce qu'il faut faire \n",
    "```{r}\n",
    "x <- factor(c(7,7,8,7,9,6,6))\n",
    "levels(x)\n",
    "x <- as.numeric(as.character(x))\n",
    "x\n",
    "```"
   ]
  },
  {
   "cell_type": "code",
   "execution_count": null,
   "id": "3285008a",
   "metadata": {},
   "outputs": [],
   "source": [
    "sapply(AmongUs, class)"
   ]
  },
  {
   "cell_type": "code",
   "execution_count": null,
   "id": "e100b2ab",
   "metadata": {},
   "outputs": [],
   "source": [
    "names <- c('Team' ,'Outcome', 'All.Tasks.Completed', 'Murdered', 'Ejected', 'Region')\n",
    "AmongUs[names] <- lapply(AmongUs[names], factor)\n",
    "\n",
    "names <- c('Task.Completed' ,'Imposter.Kills', 'Sabotages.Fixed', 'Heure')\n",
    "AmongUs[names] <- lapply(AmongUs[names], as.numeric)"
   ]
  },
  {
   "cell_type": "markdown",
   "id": "1f4f351e",
   "metadata": {},
   "source": [
    "---\n",
    "\n",
    "### e. Vérifier si cela a fonctionné en affichant le type de chaque variable du data frame."
   ]
  },
  {
   "cell_type": "code",
   "execution_count": null,
   "id": "d5d63355",
   "metadata": {},
   "outputs": [],
   "source": [
    "sapply(AmongUs, class)"
   ]
  },
  {
   "cell_type": "markdown",
   "id": "eceaee6d",
   "metadata": {},
   "source": [
    "---\n",
    "---\n",
    "\n",
    "## Exercice 4 : Analyses statistiques\n",
    "\n",
    "La plupart des questions de cet exercice demandent un peu de réflexion. <br>\n",
    "Ne partez pas à l'abordage, les solutions peuvent se coder en plusieurs étapes (*tris*,*filtres*, \n",
    "*agregations*, *etc.*).\n",
    "\n",
    "---\n",
    "\n",
    "### a. Quelle est la durée moyenne d'une partie ?"
   ]
  },
  {
   "cell_type": "code",
   "execution_count": null,
   "id": "76d1a7bd",
   "metadata": {},
   "outputs": [],
   "source": [
    "min <- floor(mean(AmongUs$Game.Length.sec)/60)\n",
    "sec <- floor(mean(AmongUs$Game.Length.sec) %% 60)\n",
    "\n",
    "sprintf(\"Durée moyenne d'une partie : %smin %ssec\", min, sec)"
   ]
  },
  {
   "cell_type": "markdown",
   "id": "753508df",
   "metadata": {},
   "source": [
    "---\n",
    "\n",
    "### b. Combien y-a-t-il de régions serveurs différentes ?."
   ]
  },
  {
   "cell_type": "code",
   "execution_count": null,
   "id": "d25dd262",
   "metadata": {},
   "outputs": [],
   "source": [
    "sprintf(\"Nombre de régions différentes : %s\", length(unique(AmongUs$Region)))"
   ]
  },
  {
   "cell_type": "markdown",
   "id": "57d9fe10",
   "metadata": {},
   "source": [
    "---\n",
    "\n",
    "### c. Combien de tâche maximum un Crewmate peut-il réaliser ?"
   ]
  },
  {
   "cell_type": "code",
   "execution_count": null,
   "id": "81155ed6",
   "metadata": {},
   "outputs": [],
   "source": [
    "sprintf(\"Nombre de tâche maximum réalisable : %s\", max(AmongUs$Task.Completed, na.rm = TRUE))"
   ]
  },
  {
   "cell_type": "markdown",
   "id": "721987ea",
   "metadata": {},
   "source": [
    "---\n",
    "\n",
    "### d. Quel est le taux de parties remportées par les imposteurs ?"
   ]
  },
  {
   "cell_type": "code",
   "execution_count": null,
   "id": "e27d71f3",
   "metadata": {},
   "outputs": [],
   "source": [
    "Imp_win <- round((sum(AmongUs$Team == \"Imposter\" & AmongUs$Outcome == \"Win\") / sum(AmongUs$Team == \"Imposter\")) * 100, 2)\n",
    "\n",
    "sprintf(\"Taux de victoire des imposteurs : %s%%\", Imp_win)"
   ]
  },
  {
   "cell_type": "markdown",
   "id": "8c479a77",
   "metadata": {},
   "source": [
    "---\n",
    "\n",
    "### e. Construire **un graphique adapté** permettant de visualiser la répartition du nombre de parties jouées selon la`Region`."
   ]
  },
  {
   "cell_type": "code",
   "execution_count": null,
   "id": "630a7cb4",
   "metadata": {},
   "outputs": [],
   "source": [
    "barplot(\n",
    "    table(AmongUs$Region), \n",
    "    main = \"Répartition du nombre de parties jouées selon la Region\", \n",
    "    xlab = \"Région\", \n",
    "    ylab = \"Nombre de partie\", \n",
    "    col = \"darkred\",\n",
    "    ylim = c(0,1600)\n",
    ")"
   ]
  },
  {
   "cell_type": "markdown",
   "id": "0880ebce",
   "metadata": {},
   "source": [
    "---\n",
    "\n",
    "### f. Construire **un graphique adapté** permettant de visualiser la répartition des joueurs qui termine ou pas leurs tâches selon s'ils se font tuer ou pas."
   ]
  },
  {
   "cell_type": "code",
   "execution_count": null,
   "id": "1200d0a1",
   "metadata": {},
   "outputs": [],
   "source": [
    "d_c <- sum(AmongUs$Team == \"Crewmate\" & AmongUs$All.Tasks.Completed == \"Yes\" & AmongUs$Murdered == \"Yes\")\n",
    "\n",
    "d_i <- sum(AmongUs$Team == \"Crewmate\" & AmongUs$All.Tasks.Completed == \"No\" & AmongUs$Murdered == \"Yes\")\n",
    "\n",
    "a_c <- sum(AmongUs$Team == \"Crewmate\" & AmongUs$All.Tasks.Completed == \"Yes\" & AmongUs$Murdered == \"No\")\n",
    "\n",
    "a_i <- sum(AmongUs$Team == \"Crewmate\" & AmongUs$All.Tasks.Completed == \"No\" & AmongUs$Murdered == \"No\")\n",
    "\n",
    "\n",
    "df = data.frame(\n",
    "  x = c('Mort Fini', 'Mort Non-Fini', 'Vivant Fini', 'Vivant Non-fini'),\n",
    "  y = c(d_c, d_i, a_c, a_i)\n",
    ")\n",
    "\n",
    "barplot(\n",
    "    df$y, \n",
    "    names.arg=df$x, \n",
    "    ylab=\"Nombre\", \n",
    "    main = \"Répartition des joueurs qui termine ou pas leurs tâches \\n selon s'ils se font tuer ou pas\", \n",
    "    col = c(\"red\", \"darkred\", \"blue\", \"darkblue\"),\n",
    "    ylim = c(0,600)\n",
    ")"
   ]
  },
  {
   "cell_type": "markdown",
   "id": "c16af57d",
   "metadata": {},
   "source": [
    "---\n",
    "\n",
    "### g. Construire **un graphique adapté** permettant de visualiser la distribution du nombre de tâches complétées par les joueurs."
   ]
  },
  {
   "cell_type": "code",
   "execution_count": null,
   "id": "dd37d393",
   "metadata": {},
   "outputs": [],
   "source": [
    "barplot(\n",
    "    table(AmongUs$Task.Completed), \n",
    "    main = \"Distribution du nombre de tâches complétées par les joueurs\", \n",
    "    xlab = \"Nombre de tâches\", \n",
    "    ylab = \"Comptage\", \n",
    "    col = \"darkred\",\n",
    "    ylim = c(0,500)\n",
    ")"
   ]
  },
  {
   "cell_type": "markdown",
   "id": "31b230e4",
   "metadata": {},
   "source": [
    "---\n",
    "\n",
    "### h. Construire **un graphique adapté** permettant de visualiser pour chaque partie jouée, la durée de la partie et le temps pour compléter toutes les tâches."
   ]
  },
  {
   "cell_type": "code",
   "execution_count": null,
   "id": "751d41c2",
   "metadata": {},
   "outputs": [],
   "source": [
    "plot(\n",
    "    AmongUs$Complete.all.tasks.sec, \n",
    "    AmongUs$Game.Length.sec, \n",
    "    main = \"Durée de la partie en fonction du temps \\n pour compléter toutes les tâches\",\n",
    "    xlab = \"Temps pour finir les tâches\", \n",
    "    ylab = \"Temps de la partie\", \n",
    "    col = \"darkred\"\n",
    ")"
   ]
  },
  {
   "cell_type": "markdown",
   "id": "b83b711f",
   "metadata": {},
   "source": [
    "---\n",
    "\n",
    "### i. Construire **un graphique adapté** permettant de visualiser la distribution du temps des parties selon la `Region`."
   ]
  },
  {
   "cell_type": "code",
   "execution_count": null,
   "id": "8a8fb676",
   "metadata": {},
   "outputs": [],
   "source": [
    "plot(\n",
    "    AmongUs$Region, \n",
    "    AmongUs$Game.Length.sec, \n",
    "    main = \"Distribution du temps des parties selon la Region\",\n",
    "    xlab = \"Temps pour finir les tâches\", \n",
    "    ylab = \"Temps de la partie\", \n",
    "    col = \"darkred\"\n",
    ")"
   ]
  },
  {
   "cell_type": "markdown",
   "id": "19b23988",
   "metadata": {},
   "source": [
    "---\n",
    "\n",
    "### j. Construire **un graphique adapté** permettant de visualiser l'évolution du nombre de parties jouées selon l'heure de la journée."
   ]
  },
  {
   "cell_type": "code",
   "execution_count": null,
   "id": "ec62220a",
   "metadata": {},
   "outputs": [],
   "source": [
    "barplot(\n",
    "    table(floor(AmongUs$Heure / (60*60))),\n",
    "    main = \"Nombre de parties en fonction de l'heure de la journée\", \n",
    "    xlab = \"Heure\", \n",
    "    ylab = \"Nombre de parties\", \n",
    "    col = \"darkred\",\n",
    "    ylim = c(0,200)\n",
    ")\n",
    "    "
   ]
  },
  {
   "cell_type": "markdown",
   "id": "7ca34394",
   "metadata": {},
   "source": [
    "---\n",
    "\n",
    "### k. Construire **un graphique adapté** permettant de visualiser les variations du taux de succès des imposteurs selon les régions serveurs."
   ]
  },
  {
   "cell_type": "code",
   "execution_count": null,
   "id": "202aa1d0",
   "metadata": {},
   "outputs": [],
   "source": [
    "Imp_win_eu <- round((sum(AmongUs$Team == \"Imposter\" & AmongUs$Outcome == \"Win\" & AmongUs$Region == \"Europe \") / sum(AmongUs$Team == \"Imposter\" & AmongUs$Region == \"Europe \")) * 100, 2)\n",
    "Imp_win_na <- round((sum(AmongUs$Team == \"Imposter\" & AmongUs$Outcome == \"Win\" & AmongUs$Region != \"Europe \") / sum(AmongUs$Team == \"Imposter\" & AmongUs$Region != \"Europe \")) * 100, 2)\n",
    "\n",
    "df <- data.frame(\n",
    "    x = c(\"Europe\", \"North America\"),\n",
    "    y = c(Imp_win_eu, Imp_win_na)\n",
    ")\n",
    "\n",
    "barplot(\n",
    "    df$y, \n",
    "    names.arg=df$x, \n",
    "    ylab=\"Nombre\", \n",
    "    main = \"Variations du taux de succès des imposteurs selon les régions serveurs\", \n",
    "    col = c(\"darkred\", \"darkblue\"),\n",
    "    ylim = c(0,60)\n",
    ")"
   ]
  },
  {
   "cell_type": "markdown",
   "id": "f3a3e8ea",
   "metadata": {},
   "source": [
    "---\n",
    "\n",
    "### l. Construire **un graphique adapté** permettant de visualiser les taux de succès des 5 meilleurs utilisateurs."
   ]
  },
  {
   "cell_type": "code",
   "execution_count": null,
   "id": "5345cf24",
   "metadata": {},
   "outputs": [],
   "source": [
    "df <- data.frame(User = unique(AmongUs$User))\n",
    "df$winrate <- as.numeric(lapply(df$User, function(x) round((sum(AmongUs$Outcome == \"Win\" & AmongUs$User == x) / sum(AmongUs$User == x)) * 100, 2)))\n",
    "\n",
    "df <- df[order(-df$winrate),][1:5,]\n",
    "barplot(                        \n",
    "    df$winrate, \n",
    "    names.arg=df$User, \n",
    "    ylab=\"Winrate\", \n",
    "    main = \"Taux de succès des 5 meilleurs utilisateurs\", \n",
    "    col = c('darkred'),\n",
    "    ylim = c(0,100)\n",
    ")\n",
    "      \n"
   ]
  }
 ],
 "metadata": {
  "kernelspec": {
   "display_name": "R",
   "language": "R",
   "name": "ir"
  },
  "language_info": {
   "codemirror_mode": "r",
   "file_extension": ".r",
   "mimetype": "text/x-r-source",
   "name": "R",
   "pygments_lexer": "r",
   "version": "3.6.1"
  }
 },
 "nbformat": 4,
 "nbformat_minor": 5
}
