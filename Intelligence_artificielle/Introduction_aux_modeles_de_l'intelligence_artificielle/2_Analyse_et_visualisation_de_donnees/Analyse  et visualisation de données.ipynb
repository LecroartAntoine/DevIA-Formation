{
 "cells": [
  {
   "cell_type": "markdown",
   "metadata": {},
   "source": [
    "# Partie 1 : Analyser les données à l'aide d'outils de visualisation\n",
    "\n",
    "- Tracés d'histogramme\n",
    "- Nuages de points\n",
    "- Centiles\n",
    "- Boîtes à moustaches\n",
    "- Violon\n",
    "- Cartes thermiques\n",
    "- Barplots\n",
    "- Parcelles factorielles\n",
    "- Parcelles de densité\n",
    "- Parcelles de distribution conjointes"
   ]
  },
  {
   "cell_type": "code",
   "execution_count": null,
   "metadata": {
    "colab": {
     "base_uri": "https://localhost:8080/",
     "height": 202
    },
    "colab_type": "code",
    "executionInfo": {
     "elapsed": 1277,
     "status": "ok",
     "timestamp": 1574220044871,
     "user": {
      "displayName": "Rajeev Ratan",
      "photoUrl": "https://lh3.googleusercontent.com/a-/AAuE7mCGo6aIm0tOcd5EhqWlYb0rime9sBvHS9YMpx0D2w=s64",
      "userId": "08597265227091462140"
     },
     "user_tz": 0
    },
    "id": "oJftGcoyYExs",
    "outputId": "ce43fcfc-9089-45a3-ec42-db169b9ad8d3"
   },
   "outputs": [],
   "source": [
    "import pandas as pd\n",
    "import numpy as np\n",
    "\n",
    "pd.set_option('display.max_rows', 7000)\n",
    "pd.set_option('display.max_columns', 7000)\n",
    "\n",
    "file_name = \"https://raw.githubusercontent.com/rajeevratan84/datascienceforbusiness/master/winequalityN.csv\"\n",
    "df = pd.read_csv(file_name)\n",
    "df.head()"
   ]
  },
  {
   "cell_type": "code",
   "execution_count": null,
   "metadata": {
    "colab": {
     "base_uri": "https://localhost:8080/",
     "height": 294
    },
    "colab_type": "code",
    "executionInfo": {
     "elapsed": 783,
     "status": "ok",
     "timestamp": 1574220045271,
     "user": {
      "displayName": "Rajeev Ratan",
      "photoUrl": "https://lh3.googleusercontent.com/a-/AAuE7mCGo6aIm0tOcd5EhqWlYb0rime9sBvHS9YMpx0D2w=s64",
      "userId": "08597265227091462140"
     },
     "user_tz": 0
    },
    "id": "7h-tV8SqRVPS",
    "outputId": "246a755e-2815-43c3-9160-c7ca21dc329a"
   },
   "outputs": [],
   "source": [
    "# afficher le tableau descriptif (Count, mean, std, ...) Dans une seule instruction en utilisant la librairie Pandas\n",
    "df.describe()"
   ]
  },
  {
   "cell_type": "code",
   "execution_count": null,
   "metadata": {
    "colab": {
     "base_uri": "https://localhost:8080/",
     "height": 329
    },
    "colab_type": "code",
    "executionInfo": {
     "elapsed": 1109,
     "status": "ok",
     "timestamp": 1574220046088,
     "user": {
      "displayName": "Rajeev Ratan",
      "photoUrl": "https://lh3.googleusercontent.com/a-/AAuE7mCGo6aIm0tOcd5EhqWlYb0rime9sBvHS9YMpx0D2w=s64",
      "userId": "08597265227091462140"
     },
     "user_tz": 0
    },
    "id": "lj7vT6NBRW67",
    "outputId": "0442d622-949d-4e9e-8fd5-eb4bfa8188c0"
   },
   "outputs": [],
   "source": [
    "# afficher les informations fondamentales de notre base de données (Column, Dtype ...) Dans une seule instruction en utilisant la librairie Pandas \n",
    "\n",
    "df.info()"
   ]
  },
  {
   "cell_type": "code",
   "execution_count": null,
   "metadata": {
    "colab": {
     "base_uri": "https://localhost:8080/",
     "height": 35
    },
    "colab_type": "code",
    "executionInfo": {
     "elapsed": 610,
     "status": "ok",
     "timestamp": 1574220046089,
     "user": {
      "displayName": "Rajeev Ratan",
      "photoUrl": "https://lh3.googleusercontent.com/a-/AAuE7mCGo6aIm0tOcd5EhqWlYb0rime9sBvHS9YMpx0D2w=s64",
      "userId": "08597265227091462140"
     },
     "user_tz": 0
    },
    "id": "S2TR7TqJRKgK",
    "outputId": "60790c5f-598b-4ef7-d405-09ac36a86ac7"
   },
   "outputs": [],
   "source": [
    "# Determiner la moyenne de la colonne 'alcohol'\n",
    "\n",
    "df['alcohol'].mean()"
   ]
  },
  {
   "cell_type": "markdown",
   "metadata": {
    "colab_type": "text",
    "id": "HBhn2LJoR8WM"
   },
   "source": [
    "# Commençons à tracer en utilisant un histogramme"
   ]
  },
  {
   "cell_type": "code",
   "execution_count": null,
   "metadata": {
    "colab": {
     "base_uri": "https://localhost:8080/",
     "height": 319
    },
    "colab_type": "code",
    "executionInfo": {
     "elapsed": 1038,
     "status": "ok",
     "timestamp": 1574220047588,
     "user": {
      "displayName": "Rajeev Ratan",
      "photoUrl": "https://lh3.googleusercontent.com/a-/AAuE7mCGo6aIm0tOcd5EhqWlYb0rime9sBvHS9YMpx0D2w=s64",
      "userId": "08597265227091462140"
     },
     "user_tz": 0
    },
    "id": "4f1EDKdRR-Ug",
    "outputId": "336e49e0-4931-43f8-dfdc-4a0761244699"
   },
   "outputs": [],
   "source": [
    "# Tracer l'histogramme de la colonne 'alcohol'\n",
    "\n",
    "df['alcohol'].hist()"
   ]
  },
  {
   "cell_type": "code",
   "execution_count": null,
   "metadata": {
    "colab": {
     "base_uri": "https://localhost:8080/",
     "height": 428
    },
    "colab_type": "code",
    "executionInfo": {
     "elapsed": 744,
     "status": "ok",
     "timestamp": 1574220047876,
     "user": {
      "displayName": "Rajeev Ratan",
      "photoUrl": "https://lh3.googleusercontent.com/a-/AAuE7mCGo6aIm0tOcd5EhqWlYb0rime9sBvHS9YMpx0D2w=s64",
      "userId": "08597265227091462140"
     },
     "user_tz": 0
    },
    "id": "DDbkkUZFR41z",
    "outputId": "cc433c08-ed73-43b4-a3e9-c31d718a908e"
   },
   "outputs": [],
   "source": [
    "# Tracez l'histogramme de la colonne 'alcohol' en respectant les exigences ci-dessous :\n",
    "#10 bacs\n",
    "#Sans grid\n",
    "#taille de figure : (10,6)\n",
    "#Couleur : vert\n",
    "\n",
    "df.hist(column = \"alcohol\", grid  =False, xlabelsize = 10, ylabelsize = 6, bins = 11, color = \"#00561b\")\n"
   ]
  },
  {
   "cell_type": "markdown",
   "metadata": {
    "colab_type": "text",
    "id": "R7nsTMr5Un-7"
   },
   "source": [
    "# Celles-ci ont l'air bien, mais en utilisant la bibliothèque Seaborn, nous pouvons rapidement produire des parcelles encore plus belles"
   ]
  },
  {
   "cell_type": "code",
   "execution_count": null,
   "metadata": {
    "colab": {
     "base_uri": "https://localhost:8080/",
     "height": 303
    },
    "colab_type": "code",
    "executionInfo": {
     "elapsed": 1091,
     "status": "ok",
     "timestamp": 1574220049321,
     "user": {
      "displayName": "Rajeev Ratan",
      "photoUrl": "https://lh3.googleusercontent.com/a-/AAuE7mCGo6aIm0tOcd5EhqWlYb0rime9sBvHS9YMpx0D2w=s64",
      "userId": "08597265227091462140"
     },
     "user_tz": 0
    },
    "id": "gib-4lCaUtMz",
    "outputId": "9e458f94-7f72-4670-f1a5-5d63a8df3631"
   },
   "outputs": [],
   "source": [
    "import seaborn as sns\n",
    "# Tracer l'histogramme de la colonne 'alcohol', sans kde\n",
    "\n",
    "sns.histplot(df['alcohol'], kde = False)"
   ]
  },
  {
   "cell_type": "code",
   "execution_count": null,
   "metadata": {
    "colab": {
     "base_uri": "https://localhost:8080/",
     "height": 303
    },
    "colab_type": "code",
    "executionInfo": {
     "elapsed": 832,
     "status": "ok",
     "timestamp": 1574220049744,
     "user": {
      "displayName": "Rajeev Ratan",
      "photoUrl": "https://lh3.googleusercontent.com/a-/AAuE7mCGo6aIm0tOcd5EhqWlYb0rime9sBvHS9YMpx0D2w=s64",
      "userId": "08597265227091462140"
     },
     "user_tz": 0
    },
    "id": "oteTGe8vR29s",
    "outputId": "75ca2650-1a4a-49e4-feb4-63ab79a36923"
   },
   "outputs": [],
   "source": [
    "# Tracer l'histogramme de la colonne 'alcohol', avec kde et de couleur rouge\n",
    "\n",
    "sns.histplot(df['alcohol'], kde = True, color = \"red\")"
   ]
  },
  {
   "cell_type": "code",
   "execution_count": null,
   "metadata": {
    "colab": {
     "base_uri": "https://localhost:8080/",
     "height": 121
    },
    "colab_type": "code",
    "executionInfo": {
     "elapsed": 543,
     "status": "ok",
     "timestamp": 1574220050052,
     "user": {
      "displayName": "Rajeev Ratan",
      "photoUrl": "https://lh3.googleusercontent.com/a-/AAuE7mCGo6aIm0tOcd5EhqWlYb0rime9sBvHS9YMpx0D2w=s64",
      "userId": "08597265227091462140"
     },
     "user_tz": 0
    },
    "id": "LYRAVX11Vdyd",
    "outputId": "7e24b610-eba9-4275-a51d-b27149a5b912"
   },
   "outputs": [],
   "source": [
    "# Comptez les valeurs de la colonne 'alcohol' et affichez ces 5 premières lignes dans une seule instruction\n",
    "\n",
    "df[\"alcohol\"].value_counts().head()"
   ]
  },
  {
   "cell_type": "markdown",
   "metadata": {
    "colab_type": "text",
    "id": "qkWQiGg3Drjd"
   },
   "source": [
    "# Style et étiquettes d'axe\n",
    "https://seaborn.pydata.org/tutorial/aesthetics.html?highlight=style"
   ]
  },
  {
   "cell_type": "code",
   "execution_count": null,
   "metadata": {
    "colab": {
     "base_uri": "https://localhost:8080/",
     "height": 301
    },
    "colab_type": "code",
    "executionInfo": {
     "elapsed": 1372,
     "status": "ok",
     "timestamp": 1574220051974,
     "user": {
      "displayName": "Rajeev Ratan",
      "photoUrl": "https://lh3.googleusercontent.com/a-/AAuE7mCGo6aIm0tOcd5EhqWlYb0rime9sBvHS9YMpx0D2w=s64",
      "userId": "08597265227091462140"
     },
     "user_tz": 0
    },
    "id": "Fxaf8IgfDPde",
    "outputId": "76c31df1-b1aa-48fd-cf47-86e0b79f6262"
   },
   "outputs": [],
   "source": [
    "import matplotlib.pyplot as plt\n",
    "\n",
    "# Construire l'histogramme avec la bibliothèque Seaborn\n",
    "\n",
    "sns.histplot(df['alcohol'])\n",
    "\n",
    "# Ajouter l'étiquette 'Alcohol Percentage' sur l'axe des abscisses avec la bibliothèque matplotlib.pyplot\n",
    "\n",
    "plt.xlabel(\"Alcohol Percentage\")\n",
    "\n",
    "# Ajouter l'étiquette 'Alcohol Percentage' sur l'axe des ordonnées avec la bibliothèque matplotlib.pyplot\n",
    "\n",
    "plt.ylabel(\"Quantity\")\n",
    "\n",
    "# Ajouter Le titre 'Alcohol Content' avec la bibliothèque matplotlib.pyplot\n",
    "\n",
    "plt.title(\"Alcohol Content\")\n",
    "\n",
    "# Afficher l'image avec la bibliothèque matplotlib.pyplot\n",
    "\n",
    "plt.show()"
   ]
  },
  {
   "cell_type": "code",
   "execution_count": null,
   "metadata": {
    "colab": {
     "base_uri": "https://localhost:8080/",
     "height": 303
    },
    "colab_type": "code",
    "executionInfo": {
     "elapsed": 974,
     "status": "ok",
     "timestamp": 1574220052340,
     "user": {
      "displayName": "Rajeev Ratan",
      "photoUrl": "https://lh3.googleusercontent.com/a-/AAuE7mCGo6aIm0tOcd5EhqWlYb0rime9sBvHS9YMpx0D2w=s64",
      "userId": "08597265227091462140"
     },
     "user_tz": 0
    },
    "id": "aDCZfSNdDIZJ",
    "outputId": "aa5710b2-84b9-4f6f-e4f8-ff889e4d722a"
   },
   "outputs": [],
   "source": [
    "# Modifier le type de l'histogramme en 'dark' avec la bibliothèque Seaborn\n",
    "sns.set_theme('notebook', style='dark')\n",
    "sns.histplot(df['alcohol'])"
   ]
  },
  {
   "cell_type": "markdown",
   "metadata": {
    "colab_type": "text",
    "id": "yRD-mtKWYxF6"
   },
   "source": [
    "# Nuages de points"
   ]
  },
  {
   "cell_type": "code",
   "execution_count": null,
   "metadata": {
    "colab": {
     "base_uri": "https://localhost:8080/",
     "height": 383
    },
    "colab_type": "code",
    "executionInfo": {
     "elapsed": 2050,
     "status": "ok",
     "timestamp": 1574220054890,
     "user": {
      "displayName": "Rajeev Ratan",
      "photoUrl": "https://lh3.googleusercontent.com/a-/AAuE7mCGo6aIm0tOcd5EhqWlYb0rime9sBvHS9YMpx0D2w=s64",
      "userId": "08597265227091462140"
     },
     "user_tz": 0
    },
    "id": "R30dAYJjYyqe",
    "outputId": "705d2fad-afe4-499a-d3ec-8df45dee9dbb"
   },
   "outputs": [],
   "source": [
    "# Créez un diagramme de dispersion de la «fixed acidity» en fonction de l'«alcohol» avec la bibliothèque Seaborn\n",
    "sns.lmplot(data = df, x='fixed acidity', y='alcohol')"
   ]
  },
  {
   "cell_type": "code",
   "execution_count": null,
   "metadata": {
    "colab": {
     "base_uri": "https://localhost:8080/",
     "height": 383
    },
    "colab_type": "code",
    "executionInfo": {
     "elapsed": 1114,
     "status": "ok",
     "timestamp": 1574220056573,
     "user": {
      "displayName": "Rajeev Ratan",
      "photoUrl": "https://lh3.googleusercontent.com/a-/AAuE7mCGo6aIm0tOcd5EhqWlYb0rime9sBvHS9YMpx0D2w=s64",
      "userId": "08597265227091462140"
     },
     "user_tz": 0
    },
    "id": "yjYbzK0_VtAX",
    "outputId": "0b635acc-8d32-4a4d-9a53-6086590d8351"
   },
   "outputs": [],
   "source": [
    "# Créez un diagramme de dispersion de la «fixed acidity» en fonction de l'«alcohol» avec la bibliothèque Seaborn sans la ligne de régression\n",
    "\n",
    "sns.lmplot(data = df, x='fixed acidity', y='alcohol', fit_reg = False)"
   ]
  },
  {
   "cell_type": "code",
   "execution_count": null,
   "metadata": {
    "colab": {
     "base_uri": "https://localhost:8080/",
     "height": 383
    },
    "colab_type": "code",
    "executionInfo": {
     "elapsed": 1834,
     "status": "ok",
     "timestamp": 1574220058892,
     "user": {
      "displayName": "Rajeev Ratan",
      "photoUrl": "https://lh3.googleusercontent.com/a-/AAuE7mCGo6aIm0tOcd5EhqWlYb0rime9sBvHS9YMpx0D2w=s64",
      "userId": "08597265227091462140"
     },
     "user_tz": 0
    },
    "id": "-h3H6uBPZJLL",
    "outputId": "89f50a0d-a93c-4c74-a2d5-3e3c7c7b9bf0"
   },
   "outputs": [],
   "source": [
    "# Créez un diagramme de dispersion de la «fixed acidity» en fonction de l'«alcohol» et de la «quality» avec la bibliothèque Seaborn sans la ligne de régression\n",
    "plt.figure(figsize = (12, 8))\n",
    "sns.lmplot(data = df, x='fixed acidity', y='alcohol', hue = \"quality\", fit_reg = False)"
   ]
  },
  {
   "cell_type": "markdown",
   "metadata": {
    "colab_type": "text",
    "id": "coCYM3DXmjEq"
   },
   "source": [
    "# Boîtes à moustaches et recherche de valeurs aberrantes\n",
    "\n",
    "https://seaborn.pydata.org/generated/seaborn.boxplot.html\n",
    "\n",
    "![alt text](https://pro.arcgis.com/en/pro-app/help/analysis/geoprocessing/charts/GUID-0E2C3730-C535-40CD-8152-80D794A996A7-web.png)\n",
    "\n",
    "“maximum”: Q3 + 1.5*IQR\n",
    "\n",
    "“minimum”: Q1 -1.5*IQR"
   ]
  },
  {
   "cell_type": "code",
   "execution_count": null,
   "metadata": {
    "colab": {
     "base_uri": "https://localhost:8080/",
     "height": 337
    },
    "colab_type": "code",
    "executionInfo": {
     "elapsed": 562,
     "status": "ok",
     "timestamp": 1574220065052,
     "user": {
      "displayName": "Rajeev Ratan",
      "photoUrl": "https://lh3.googleusercontent.com/a-/AAuE7mCGo6aIm0tOcd5EhqWlYb0rime9sBvHS9YMpx0D2w=s64",
      "userId": "08597265227091462140"
     },
     "user_tz": 0
    },
    "id": "J0cmugpPmlrK",
    "outputId": "d491ea48-751c-4f9a-b783-b6d27980dc86"
   },
   "outputs": [],
   "source": [
    "# Afficher l'intervalle de quantité entre 0,25 et 0,75 de la colonne 'alcohol'\n",
    "\n",
    "print(df['alcohol'].quantile([0.25, 0.75]))\n",
    "\n",
    "# Tracez la Boîtes à moustaches de la colonne 'alcohol' avec la bibliothèque Seaborn\n",
    "\n",
    "sns.boxplot(data = df['alcohol'])"
   ]
  },
  {
   "cell_type": "code",
   "execution_count": null,
   "metadata": {
    "colab": {
     "base_uri": "https://localhost:8080/",
     "height": 285
    },
    "colab_type": "code",
    "executionInfo": {
     "elapsed": 946,
     "status": "ok",
     "timestamp": 1574220066772,
     "user": {
      "displayName": "Rajeev Ratan",
      "photoUrl": "https://lh3.googleusercontent.com/a-/AAuE7mCGo6aIm0tOcd5EhqWlYb0rime9sBvHS9YMpx0D2w=s64",
      "userId": "08597265227091462140"
     },
     "user_tz": 0
    },
    "id": "JMuPCjDGmw9Y",
    "outputId": "bffcf117-3340-40dd-ca29-938ee9569a46"
   },
   "outputs": [],
   "source": [
    "# Tracez les Boîtes à moustaches de tout la base de données, rajouter palette = \"Set3\"\n",
    "\n",
    "sns.boxplot(data = df, palette = \"Set3\")"
   ]
  },
  {
   "cell_type": "code",
   "execution_count": null,
   "metadata": {
    "colab": {
     "base_uri": "https://localhost:8080/",
     "height": 503
    },
    "colab_type": "code",
    "executionInfo": {
     "elapsed": 1353,
     "status": "ok",
     "timestamp": 1574220068603,
     "user": {
      "displayName": "Rajeev Ratan",
      "photoUrl": "https://lh3.googleusercontent.com/a-/AAuE7mCGo6aIm0tOcd5EhqWlYb0rime9sBvHS9YMpx0D2w=s64",
      "userId": "08597265227091462140"
     },
     "user_tz": 0
    },
    "id": "IhR5U49Xn-53",
    "outputId": "7b2a00d8-c798-463e-c39a-747b81f5d485"
   },
   "outputs": [],
   "source": [
    "from matplotlib import pyplot as plt\n",
    "\n",
    "# Créer une figure de taille 12x8 avec la bibliothèque 'matplotlib'\n",
    "\n",
    "plt.figure(figsize = (12, 8))\n",
    "\n",
    "# Créer une variable appelée 'summary' qui contient notre base de données sans les colonnes ci-dessous\n",
    "# ['free sulfur dioxide', 'total sulfur dioxide', 'quality','residual sugar', 'fixed acidity', 'alcohol']\n",
    "\n",
    "summary = df.drop(['free sulfur dioxide', 'total sulfur dioxide', 'quality','residual sugar', 'fixed acidity', 'alcohol'], axis=1)\n",
    "\n",
    "# Tracez les Boîtes à moustaches de la nouvelle base de données 'summary', rajouter palette = \"Set3\"\n",
    "\n",
    "sns.boxplot(data = summary, palette = \"Set3\")"
   ]
  },
  {
   "cell_type": "markdown",
   "metadata": {
    "colab_type": "text",
    "id": "gEEQlaQKotQA"
   },
   "source": [
    "# Parcelles de violon"
   ]
  },
  {
   "cell_type": "code",
   "execution_count": null,
   "metadata": {
    "colab": {
     "base_uri": "https://localhost:8080/",
     "height": 285
    },
    "colab_type": "code",
    "executionInfo": {
     "elapsed": 627,
     "status": "ok",
     "timestamp": 1574220071548,
     "user": {
      "displayName": "Rajeev Ratan",
      "photoUrl": "https://lh3.googleusercontent.com/a-/AAuE7mCGo6aIm0tOcd5EhqWlYb0rime9sBvHS9YMpx0D2w=s64",
      "userId": "08597265227091462140"
     },
     "user_tz": 0
    },
    "id": "-3plFhJknABy",
    "outputId": "45326437-221c-4028-bed6-fc549d217674"
   },
   "outputs": [],
   "source": [
    "# Créer une Parcelles de violon de la colonne 'alcohol' avec la bib Seaborn\n",
    "\n",
    "sns.violinplot(x = df['alcohol'])"
   ]
  },
  {
   "cell_type": "code",
   "execution_count": null,
   "metadata": {
    "colab": {
     "base_uri": "https://localhost:8080/",
     "height": 519
    },
    "colab_type": "code",
    "executionInfo": {
     "elapsed": 1004,
     "status": "ok",
     "timestamp": 1574220072996,
     "user": {
      "displayName": "Rajeev Ratan",
      "photoUrl": "https://lh3.googleusercontent.com/a-/AAuE7mCGo6aIm0tOcd5EhqWlYb0rime9sBvHS9YMpx0D2w=s64",
      "userId": "08597265227091462140"
     },
     "user_tz": 0
    },
    "id": "O8-t9eKKqOkL",
    "outputId": "672c72cd-c787-406e-de93-96cce4681539"
   },
   "outputs": [],
   "source": [
    "# Bar Plot :\n",
    "# Créer une figure de taille 12x8 avec la bibliothèque 'matplotlib'\n",
    "plt.figure(figsize = (12, 8))\n",
    "\n",
    "# Créer un complot de la colonne 'quality' différencié par la colonne 'type' avec la bib Seaborn\n",
    "\n",
    "sns.countplot(data = df, x = 'quality', hue = 'type')"
   ]
  },
  {
   "cell_type": "code",
   "execution_count": null,
   "metadata": {
    "colab": {
     "base_uri": "https://localhost:8080/",
     "height": 303
    },
    "colab_type": "code",
    "executionInfo": {
     "elapsed": 4762,
     "status": "ok",
     "timestamp": 1574220079819,
     "user": {
      "displayName": "Rajeev Ratan",
      "photoUrl": "https://lh3.googleusercontent.com/a-/AAuE7mCGo6aIm0tOcd5EhqWlYb0rime9sBvHS9YMpx0D2w=s64",
      "userId": "08597265227091462140"
     },
     "user_tz": 0
    },
    "id": "aDSg96lVrw24",
    "outputId": "47647449-791b-482d-b80b-72c78469050c"
   },
   "outputs": [],
   "source": [
    "# Traçer la courbe de densité de la colonne 'alcohol' avec la bib Seaborn\n",
    "\n",
    "sns.displot(df['alcohol'], kind = 'kde', multiple=\"stack\")"
   ]
  },
  {
   "cell_type": "code",
   "execution_count": null,
   "metadata": {
    "colab": {
     "base_uri": "https://localhost:8080/",
     "height": 455
    },
    "colab_type": "code",
    "executionInfo": {
     "elapsed": 1978,
     "status": "ok",
     "timestamp": 1574220082432,
     "user": {
      "displayName": "Rajeev Ratan",
      "photoUrl": "https://lh3.googleusercontent.com/a-/AAuE7mCGo6aIm0tOcd5EhqWlYb0rime9sBvHS9YMpx0D2w=s64",
      "userId": "08597265227091462140"
     },
     "user_tz": 0
    },
    "id": "L7gxEU7nsDrC",
    "outputId": "6fd1894d-0f8b-4993-c273-661fb75f9a01"
   },
   "outputs": [],
   "source": [
    "# Joindre le diagramme de distribution avec la bib Seaborn\n",
    "\n",
    "sns.displot(df['alcohol'], kde = True)"
   ]
  },
  {
   "cell_type": "markdown",
   "metadata": {
    "colab_type": "text",
    "id": "bRpuM95DtEUg"
   },
   "source": [
    "# Diagrammes factoriels et diagrammes d'essaims d'abeilles\n",
    "\n",
    "Les diagrammes factoriels nous permettent de créer des diagrammes séparés par classes catégorielles."
   ]
  },
  {
   "cell_type": "code",
   "execution_count": null,
   "metadata": {
    "colab": {
     "base_uri": "https://localhost:8080/",
     "height": 456
    },
    "colab_type": "code",
    "executionInfo": {
     "elapsed": 38376,
     "status": "ok",
     "timestamp": 1574220342315,
     "user": {
      "displayName": "Rajeev Ratan",
      "photoUrl": "https://lh3.googleusercontent.com/a-/AAuE7mCGo6aIm0tOcd5EhqWlYb0rime9sBvHS9YMpx0D2w=s64",
      "userId": "08597265227091462140"
     },
     "user_tz": 0
    },
    "id": "q4dlA2M3sVh7",
    "outputId": "bad7f42e-4cb5-4a66-9cee-cd574824c54d"
   },
   "outputs": [],
   "source": [
    "# Traçer un diagramme factoriel de 'alcohol' en fonction de 'free sulfur dioxide' séparés par la 'quality' et par le type 'point' avec la bib Seaborn\n",
    "# Faire pivoter les étiquettes de l'axe des x de -45°\n",
    "\n",
    "sns.catplot(x = 'alcohol', y = 'free sulfur dioxide', data = df, hue = 'quality', kind = 'point').set_xticklabels(rotation=45)"
   ]
  },
  {
   "cell_type": "markdown",
   "metadata": {
    "colab_type": "text",
    "id": "h4yFyC0WOGa6"
   },
   "source": [
    "# Partie 2 : Échantillonnage"
   ]
  },
  {
   "cell_type": "code",
   "execution_count": null,
   "metadata": {
    "colab": {
     "base_uri": "https://localhost:8080/",
     "height": 200
    },
    "colab_type": "code",
    "executionInfo": {
     "elapsed": 565,
     "status": "ok",
     "timestamp": 1573665355285,
     "user": {
      "displayName": "Rajeev Ratan",
      "photoUrl": "https://lh3.googleusercontent.com/a-/AAuE7mCGo6aIm0tOcd5EhqWlYb0rime9sBvHS9YMpx0D2w=s64",
      "userId": "08597265227091462140"
     },
     "user_tz": 0
    },
    "id": "Yk6lpNsKOHd4",
    "outputId": "4594bb34-dca8-4740-a45e-85215777b344"
   },
   "outputs": [],
   "source": [
    "import pandas as pd\n",
    "import numpy as np\n",
    "import seaborn as sns\n",
    "import matplotlib.pyplot as plt\n",
    "\n",
    "file_name = \"https://raw.githubusercontent.com/rajeevratan84/datascienceforbusiness/master/winequalityN.csv\"\n",
    "df = pd.read_csv(file_name)\n",
    "df.head()"
   ]
  },
  {
   "cell_type": "code",
   "execution_count": null,
   "metadata": {
    "colab": {
     "base_uri": "https://localhost:8080/",
     "height": 35
    },
    "colab_type": "code",
    "executionInfo": {
     "elapsed": 813,
     "status": "ok",
     "timestamp": 1573665359122,
     "user": {
      "displayName": "Rajeev Ratan",
      "photoUrl": "https://lh3.googleusercontent.com/a-/AAuE7mCGo6aIm0tOcd5EhqWlYb0rime9sBvHS9YMpx0D2w=s64",
      "userId": "08597265227091462140"
     },
     "user_tz": 0
    },
    "id": "1-UExI4Qw7MG",
    "outputId": "232cbf50-eb5d-4b88-997c-5bfbd4fd1099"
   },
   "outputs": [],
   "source": [
    "# Afficher la forme de la base de données\n",
    "\n",
    "df.shape"
   ]
  },
  {
   "cell_type": "code",
   "execution_count": null,
   "metadata": {
    "colab": {
     "base_uri": "https://localhost:8080/",
     "height": 319
    },
    "colab_type": "code",
    "executionInfo": {
     "elapsed": 976,
     "status": "ok",
     "timestamp": 1573665503362,
     "user": {
      "displayName": "Rajeev Ratan",
      "photoUrl": "https://lh3.googleusercontent.com/a-/AAuE7mCGo6aIm0tOcd5EhqWlYb0rime9sBvHS9YMpx0D2w=s64",
      "userId": "08597265227091462140"
     },
     "user_tz": 0
    },
    "id": "ZG-MgxTuOjC4",
    "outputId": "c42b72bf-66fc-4abe-8df2-2d35d0f30c93"
   },
   "outputs": [],
   "source": [
    "import pandas as pd\n",
    "\n",
    "# declarer une variable de type liste nomée \"sample_means\"\n",
    "\n",
    "sample_means = []\n",
    "\n",
    "# déclarer une variable qui reçoit la moyenne de la colonne 'alcohol' nommée \"population_mean\"\n",
    "\n",
    "population_mean = df['alcohol'].mean()\n",
    "\n",
    "# declarer une variable qui reçoit la valeur 100 nommée \"sample_size\"\n",
    "\n",
    "sample_size = 100\n",
    "\n",
    "\n",
    "# Créer une boucle \"for\" balayant la plage de 'sample_size'\n",
    "\n",
    "for i in range(sample_size):\n",
    "    \n",
    "    # declarer une variable appelée 'sample' qui reçoit l'échantillon de la colonne 'alcohol' (mettre sample_size et i comme paramètres de fonction)\n",
    "    \n",
    "    sample = df['alcohol'].sample(n = sample_size, random_state = i)\n",
    "    \n",
    "    # Ajouter la moyenne de 'sample' à 'sample_means'\n",
    "\n",
    "    sample_means.append(sample.mean())\n",
    "\n",
    "# Tracer le diagramme de dispersion de la plage de sample_size en fonction de sample_means\n",
    "\n",
    "sns.scatterplot(data = df['alcohol'], x = range(sample_size), y = sample_means)\n",
    "\n",
    "# Traçer une ligne moyenne de l'alcohol' pour toute la population avec la bib matplotlib.pyplot\n",
    "\n",
    "plt.axhline(df['alcohol'].mean(), color='red', linestyle='dashed', linewidth=2)\n",
    "\n",
    "# Crée une variable appelée 'sample_size_mean' qui reçoit la moyenne de l'array' de 'sample_means' \n",
    "\n",
    "sample_size_mean = sum(sample_means)/len(sample_means)\n",
    "\n",
    "# Traçer une ligne moyenne 'sample_size_mean' avec la bib matplotlib.pyplot\n",
    "\n",
    "plt.axhline(sample_size_mean, color='blue', linestyle='dashed', linewidth=2)\n",
    "\n",
    "print(\"Actual Mean: %2f\" % (population_mean))\n",
    "print(\"Sample Mean: %2f\" % (sample_size_mean))\n",
    "print(\"Sample Error: %2f\" % (population_mean-sample_size_mean))"
   ]
  },
  {
   "cell_type": "markdown",
   "metadata": {
    "colab_type": "text",
    "id": "fgRRKQmFSbxa"
   },
   "source": [
    "# Échantillonnage stratifié\n",
    "\n",
    "Prendre la teneur moyenne en alcool des vins sur la base de notre échantillon peut être trompeur car notre ensemble de données contient à la fois des vins rouges et blancs, et en regardant la proportion, il contient beaucoup plus de vins blancs."
   ]
  },
  {
   "cell_type": "code",
   "execution_count": null,
   "metadata": {
    "colab": {
     "base_uri": "https://localhost:8080/",
     "height": 70
    },
    "colab_type": "code",
    "executionInfo": {
     "elapsed": 789,
     "status": "ok",
     "timestamp": 1573665525292,
     "user": {
      "displayName": "Rajeev Ratan",
      "photoUrl": "https://lh3.googleusercontent.com/a-/AAuE7mCGo6aIm0tOcd5EhqWlYb0rime9sBvHS9YMpx0D2w=s64",
      "userId": "08597265227091462140"
     },
     "user_tz": 0
    },
    "id": "DKli6WCUSqdZ",
    "outputId": "93c6497e-a34b-46ce-89ad-23ad2bd46799"
   },
   "outputs": [],
   "source": [
    "# Compter les valeurs de la colonne 'type'\n",
    "\n",
    "df['type'].value_counts()\n"
   ]
  },
  {
   "cell_type": "code",
   "execution_count": null,
   "metadata": {
    "colab": {},
    "colab_type": "code",
    "id": "hPUi80aNPXKu"
   },
   "outputs": [],
   "source": [
    "# Créer une variable nommée 'stratum_white' reçoit df si le 'type' est 'white'\n",
    "\n",
    "stratum_white = df.loc[df['type'] == 'white']\n",
    "\n",
    "# Créer une variable nommée 'stratum_red' reçoit df si le 'type' est 'red'\n",
    "\n",
    "stratum_red = df.loc[df['type'] == 'red']"
   ]
  },
  {
   "cell_type": "code",
   "execution_count": null,
   "metadata": {
    "colab": {
     "base_uri": "https://localhost:8080/",
     "height": 35
    },
    "colab_type": "code",
    "executionInfo": {
     "elapsed": 565,
     "status": "ok",
     "timestamp": 1573665540777,
     "user": {
      "displayName": "Rajeev Ratan",
      "photoUrl": "https://lh3.googleusercontent.com/a-/AAuE7mCGo6aIm0tOcd5EhqWlYb0rime9sBvHS9YMpx0D2w=s64",
      "userId": "08597265227091462140"
     },
     "user_tz": 0
    },
    "id": "1y7OMOlUS2ZJ",
    "outputId": "058a2cab-f798-44a8-cbc0-3776a36811d8"
   },
   "outputs": [],
   "source": [
    "# Afficher la longeur de la variable 'stratum_white'\n",
    "\n",
    "print(len(stratum_white))"
   ]
  },
  {
   "cell_type": "code",
   "execution_count": null,
   "metadata": {
    "colab": {
     "base_uri": "https://localhost:8080/",
     "height": 35
    },
    "colab_type": "code",
    "executionInfo": {
     "elapsed": 621,
     "status": "ok",
     "timestamp": 1573665570770,
     "user": {
      "displayName": "Rajeev Ratan",
      "photoUrl": "https://lh3.googleusercontent.com/a-/AAuE7mCGo6aIm0tOcd5EhqWlYb0rime9sBvHS9YMpx0D2w=s64",
      "userId": "08597265227091462140"
     },
     "user_tz": 0
    },
    "id": "3lnXtaT8SOC_",
    "outputId": "54cd648f-5eba-4803-d5c1-120b2379f288"
   },
   "outputs": [],
   "source": [
    "# Créer une variable de type dictionnaire nommée 'alcohol_per_wine_type'\n",
    "\n",
    "alcohol_per_wine_type = {}\n",
    "\n",
    "# Créer une boucle 'For' de 'stratum' et 'wine_type' en (stratum_white, 'white') et (stratum_red, 'red')\n",
    "\n",
    "for stratum, wine_type in ((stratum_white, 'white'), (stratum_red, 'red')):\n",
    "\n",
    "    # la variable sample reçoit l'échantillon de la stratum[alcohol], mettre 250 et random_state = 0 comme parametres\n",
    "    \n",
    "    sample = stratum['alcohol'].sample(n = 250, random_state = 0)\n",
    "    \n",
    "    # le 'wine_type' de 'alcohol_per_wine_type' reçoit la moyenne de sample\n",
    "    \n",
    "    alcohol_per_wine_type[wine_type] = round(sample.mean(), 1)\n",
    "\n",
    "# Afficher 'alcohol_per_wine_type'\n",
    "\n",
    "print(alcohol_per_wine_type)\n"
   ]
  },
  {
   "cell_type": "markdown",
   "metadata": {
    "colab_type": "text",
    "id": "BokGhRyMMggo"
   },
   "source": [
    "# Statistiques en Python\n",
    "\n",
    "1. Analyser les distributions de fréquence\n",
    "2. Moyenne\n",
    "3. Mode\n",
    "4. Médiane\n",
    "5. MST\n",
    "6. Corrélation\n",
    "7. Par paires\n",
    "8. Scores Z"
   ]
  },
  {
   "cell_type": "code",
   "execution_count": null,
   "metadata": {
    "colab": {
     "base_uri": "https://localhost:8080/",
     "height": 197
    },
    "colab_type": "code",
    "executionInfo": {
     "elapsed": 1719,
     "status": "ok",
     "timestamp": 1573668523126,
     "user": {
      "displayName": "Rajeev Ratan",
      "photoUrl": "https://lh3.googleusercontent.com/a-/AAuE7mCGo6aIm0tOcd5EhqWlYb0rime9sBvHS9YMpx0D2w=s64",
      "userId": "08597265227091462140"
     },
     "user_tz": 0
    },
    "id": "PtTsElfgMgE-",
    "outputId": "5daaf874-c840-47ab-bad1-270b0d9f9431"
   },
   "outputs": [],
   "source": [
    "import pandas as pd\n",
    "import numpy as np\n",
    "import seaborn as sns\n",
    "import matplotlib.pyplot as plt\n",
    "\n",
    "file_name = \"https://raw.githubusercontent.com/rajeevratan84/datascienceforbusiness/master/winequalityN.csv\"\n",
    "df = pd.read_csv(file_name)\n",
    "df.head()"
   ]
  },
  {
   "cell_type": "markdown",
   "metadata": {
    "colab_type": "text",
    "id": "XpjUZQztNe0h"
   },
   "source": [
    "## Comprendre les fonctions lambda (Feature engineering)\n",
    "\n",
    "lambda: arguements : expression\n",
    "\n"
   ]
  },
  {
   "cell_type": "code",
   "execution_count": null,
   "metadata": {
    "colab": {
     "base_uri": "https://localhost:8080/",
     "height": 33
    },
    "colab_type": "code",
    "executionInfo": {
     "elapsed": 986,
     "status": "ok",
     "timestamp": 1573668586433,
     "user": {
      "displayName": "Rajeev Ratan",
      "photoUrl": "https://lh3.googleusercontent.com/a-/AAuE7mCGo6aIm0tOcd5EhqWlYb0rime9sBvHS9YMpx0D2w=s64",
      "userId": "08597265227091462140"
     },
     "user_tz": 0
    },
    "id": "yHwjB4IBNp4n",
    "outputId": "aca2c497-4d76-4b59-8a1d-481e48bc5a58"
   },
   "outputs": [],
   "source": [
    "# Construire une fonction lambda qui multiplie nos arguments d'entrée par 2 nommée 'our_lambda_function'\n",
    "\n",
    "our_lambda_function = lambda a: a * 2"
   ]
  },
  {
   "cell_type": "code",
   "execution_count": null,
   "metadata": {},
   "outputs": [],
   "source": [
    "# Utilisez une fonction lambda pour ajouter une colonne nommée 'rating' qui prend la chaîne 'good' si la 'quality' est supérieur ou égal à 6 sinon elle prend 'bad'\n",
    "\n",
    "our_lambda_function = lambda x: 'good' if x['quality'] >= 6  else 'bad'\n",
    "\n",
    "df['rating'] = df.apply(our_lambda_function, axis = 1)\n",
    "\n",
    "print(df)"
   ]
  },
  {
   "cell_type": "markdown",
   "metadata": {
    "colab_type": "text",
    "id": "YYRtpe_lRb3O"
   },
   "source": [
    "# Recherche de la moyenne, du mode et de la médiane"
   ]
  },
  {
   "cell_type": "code",
   "execution_count": null,
   "metadata": {
    "colab": {
     "base_uri": "https://localhost:8080/",
     "height": 197
    },
    "colab_type": "code",
    "executionInfo": {
     "elapsed": 461,
     "status": "ok",
     "timestamp": 1573679261190,
     "user": {
      "displayName": "Rajeev Ratan",
      "photoUrl": "https://lh3.googleusercontent.com/a-/AAuE7mCGo6aIm0tOcd5EhqWlYb0rime9sBvHS9YMpx0D2w=s64",
      "userId": "08597265227091462140"
     },
     "user_tz": 0
    },
    "id": "iIkPlcSTcrPQ",
    "outputId": "747b2495-85e7-4d60-de74-17537b1a6c00"
   },
   "outputs": [],
   "source": [
    "# Let's load our Titantic dataset\n",
    "\n",
    "import pandas as pd\n",
    "\n",
    "file_name = \"https://raw.githubusercontent.com/rajeevratan84/datascienceforbusiness/master/titanic.csv\"\n",
    "df = pd.read_csv(file_name)\n",
    "\n",
    "df.head()"
   ]
  },
  {
   "cell_type": "code",
   "execution_count": null,
   "metadata": {
    "colab": {
     "base_uri": "https://localhost:8080/",
     "height": 287
    },
    "colab_type": "code",
    "executionInfo": {
     "elapsed": 573,
     "status": "ok",
     "timestamp": 1573679283703,
     "user": {
      "displayName": "Rajeev Ratan",
      "photoUrl": "https://lh3.googleusercontent.com/a-/AAuE7mCGo6aIm0tOcd5EhqWlYb0rime9sBvHS9YMpx0D2w=s64",
      "userId": "08597265227091462140"
     },
     "user_tz": 0
    },
    "id": "QpYn_onUi3Ex",
    "outputId": "fcf91097-30b1-4d40-d87f-ddc40f67bbcb"
   },
   "outputs": [],
   "source": [
    "# afficher le tableau descriptif (Count, mean, std, ...) Dans une seule instruction en utilisant la librairie Pandas\n",
    "\n",
    "df.describe()"
   ]
  },
  {
   "cell_type": "code",
   "execution_count": null,
   "metadata": {},
   "outputs": [],
   "source": [
    "# Ecrire une fonction qui prend en paramétre une 'dataset' et une 'feature' et retourne le mode: def getMode(dataset, feature):\n",
    "\n",
    "def getMode(dataset, feature):\n",
    "    return(dataset[feature].mode())\n",
    "\n"
   ]
  },
  {
   "cell_type": "code",
   "execution_count": null,
   "metadata": {},
   "outputs": [],
   "source": [
    "# afficher le mode de l'age'\n",
    "\n",
    "getMode(df,  'age')"
   ]
  },
  {
   "cell_type": "code",
   "execution_count": null,
   "metadata": {
    "colab": {
     "base_uri": "https://localhost:8080/",
     "height": 66
    },
    "colab_type": "code",
    "executionInfo": {
     "elapsed": 449,
     "status": "ok",
     "timestamp": 1573679377028,
     "user": {
      "displayName": "Rajeev Ratan",
      "photoUrl": "https://lh3.googleusercontent.com/a-/AAuE7mCGo6aIm0tOcd5EhqWlYb0rime9sBvHS9YMpx0D2w=s64",
      "userId": "08597265227091462140"
     },
     "user_tz": 0
    },
    "id": "U9D3CQjlSJ3n",
    "outputId": "49f1ef09-78cf-41a7-dca9-581bfeee033b"
   },
   "outputs": [],
   "source": [
    "# afficher le mode, la moyenne et la médiane de l'age'\n",
    "\n",
    "print(f\"Le mode est:\\n {df['age'].mode()}\\n\\nLa moyenne est: {df['age'].mean()}\\n\\nLa médiane est: {df['age'].median()}\")\n"
   ]
  },
  {
   "cell_type": "markdown",
   "metadata": {
    "colab_type": "text",
    "id": "FscZLCR-ksMq"
   },
   "source": [
    "# Écart-type"
   ]
  },
  {
   "cell_type": "code",
   "execution_count": null,
   "metadata": {
    "colab": {
     "base_uri": "https://localhost:8080/",
     "height": 197
    },
    "colab_type": "code",
    "executionInfo": {
     "elapsed": 1512,
     "status": "ok",
     "timestamp": 1573681729016,
     "user": {
      "displayName": "Rajeev Ratan",
      "photoUrl": "https://lh3.googleusercontent.com/a-/AAuE7mCGo6aIm0tOcd5EhqWlYb0rime9sBvHS9YMpx0D2w=s64",
      "userId": "08597265227091462140"
     },
     "user_tz": 0
    },
    "id": "0PXuFuC5kvTW",
    "outputId": "5f689c88-46a1-4795-d4b8-fd9573e1fa9b"
   },
   "outputs": [],
   "source": [
    "import pandas as pd\n",
    "import numpy as np\n",
    "import seaborn as sns\n",
    "import matplotlib.pyplot as plt\n",
    "\n",
    "file_name = \"https://raw.githubusercontent.com/rajeevratan84/datascienceforbusiness/master/winequalityN.csv\"\n",
    "df = pd.read_csv(file_name)\n",
    "df.head()"
   ]
  },
  {
   "cell_type": "code",
   "execution_count": null,
   "metadata": {
    "colab": {
     "base_uri": "https://localhost:8080/",
     "height": 297
    },
    "colab_type": "code",
    "executionInfo": {
     "elapsed": 684,
     "status": "ok",
     "timestamp": 1573681531582,
     "user": {
      "displayName": "Rajeev Ratan",
      "photoUrl": "https://lh3.googleusercontent.com/a-/AAuE7mCGo6aIm0tOcd5EhqWlYb0rime9sBvHS9YMpx0D2w=s64",
      "userId": "08597265227091462140"
     },
     "user_tz": 0
    },
    "id": "h0hyYfiEXM8F",
    "outputId": "835c4dbd-f889-4ac5-8c1d-8c3622f37288"
   },
   "outputs": [],
   "source": [
    "# Traçer l'histogramme de l'Écart-type de la colonne 'alcohol'\n",
    "\n",
    "df['alcohol'].hist()\n",
    "\n",
    "plt.axvline(df['alcohol'].std(), color='red', linestyle='dashed', linewidth=2)"
   ]
  },
  {
   "cell_type": "markdown",
   "metadata": {
    "colab_type": "text",
    "id": "eqGbVmKjocGk"
   },
   "source": [
    "# Matrice de corrélation"
   ]
  },
  {
   "cell_type": "code",
   "execution_count": null,
   "metadata": {
    "colab": {
     "base_uri": "https://localhost:8080/",
     "height": 696
    },
    "colab_type": "code",
    "executionInfo": {
     "elapsed": 1176,
     "status": "ok",
     "timestamp": 1573681762082,
     "user": {
      "displayName": "Rajeev Ratan",
      "photoUrl": "https://lh3.googleusercontent.com/a-/AAuE7mCGo6aIm0tOcd5EhqWlYb0rime9sBvHS9YMpx0D2w=s64",
      "userId": "08597265227091462140"
     },
     "user_tz": 0
    },
    "id": "pHLvNg5zoeqe",
    "outputId": "ace9be65-03f3-4c3b-d048-bd486757b860"
   },
   "outputs": [],
   "source": [
    "# Traçer la Matrice de corrélation\n",
    "plt.figure(figsize = (10, 10))\n",
    "\n",
    "heatmap = sns.heatmap(df.corr(), vmin=-1, vmax=1, annot=True)"
   ]
  }
 ],
 "metadata": {
  "colab": {
   "collapsed_sections": [],
   "name": "5.0 Statistics 1 - Visualuzations & EDA.ipynb",
   "provenance": []
  },
  "kernelspec": {
   "display_name": "base",
   "language": "python",
   "name": "python3"
  },
  "language_info": {
   "codemirror_mode": {
    "name": "ipython",
    "version": 3
   },
   "file_extension": ".py",
   "mimetype": "text/x-python",
   "name": "python",
   "nbconvert_exporter": "python",
   "pygments_lexer": "ipython3",
   "version": "3.9.15 (main, Nov 24 2022, 14:39:17) [MSC v.1916 64 bit (AMD64)]"
  },
  "vscode": {
   "interpreter": {
    "hash": "ad2bdc8ecc057115af97d19610ffacc2b4e99fae6737bb82f5d7fb13d2f2c186"
   }
  }
 },
 "nbformat": 4,
 "nbformat_minor": 1
}
