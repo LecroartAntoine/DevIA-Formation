{
 "cells": [
  {
   "cell_type": "markdown",
   "metadata": {
    "colab_type": "text",
    "id": "8jq0aTTCstFj"
   },
   "source": [
    "# Spam Dectector"
   ]
  },
  {
   "attachments": {},
   "cell_type": "markdown",
   "metadata": {},
   "source": [
    "## Imports"
   ]
  },
  {
   "cell_type": "code",
   "execution_count": null,
   "metadata": {},
   "outputs": [],
   "source": [
    "import numpy as np\n",
    "import pandas as pd\n",
    "import nltk, string\n",
    "nltk.download('stopwords')\n",
    "nltk.download('wordnet')\n",
    "nltk.download('omw-1.4')\n",
    "from nltk.stem import WordNetLemmatizer\n",
    "from nltk.corpus import stopwords\n",
    "from nltk import pos_tag, word_tokenize\n",
    "from sklearn.model_selection import train_test_split\n",
    "from sklearn.feature_extraction.text import TfidfVectorizer\n",
    "from sklearn import svm\n",
    "from sklearn.metrics import confusion_matrix\n",
    "from sklearn.metrics import classification_report\n",
    "from sklearn.metrics import accuracy_score"
   ]
  },
  {
   "cell_type": "code",
   "execution_count": null,
   "metadata": {
    "colab": {
     "base_uri": "https://localhost:8080/",
     "height": 202
    },
    "colab_type": "code",
    "executionInfo": {
     "elapsed": 1507,
     "status": "ok",
     "timestamp": 1572036934225,
     "user": {
      "displayName": "Rajeev Ratan",
      "photoUrl": "https://lh3.googleusercontent.com/a-/AAuE7mCGo6aIm0tOcd5EhqWlYb0rime9sBvHS9YMpx0D2w=s64",
      "userId": "08597265227091462140"
     },
     "user_tz": -60
    },
    "id": "Sb_0JPXcrijp",
    "outputId": "f3cad6f7-e71a-49fa-feb1-a70defea27af"
   },
   "outputs": [],
   "source": [
    "file_name = \"https://raw.githubusercontent.com/rajeevratan84/datascienceforbusiness/master/spam.csv\"\n",
    "data = pd.read_csv(file_name, encoding = \"latin-1\")\n",
    "data = data[['v1', 'v2']]\n",
    "data = data.rename(columns = {'v1': 'label', 'v2': 'text'})\n",
    "data.head()"
   ]
  },
  {
   "cell_type": "code",
   "execution_count": null,
   "metadata": {
    "colab": {
     "base_uri": "https://localhost:8080/",
     "height": 52
    },
    "colab_type": "code",
    "executionInfo": {
     "elapsed": 1169,
     "status": "ok",
     "timestamp": 1572036934229,
     "user": {
      "displayName": "Rajeev Ratan",
      "photoUrl": "https://lh3.googleusercontent.com/a-/AAuE7mCGo6aIm0tOcd5EhqWlYb0rime9sBvHS9YMpx0D2w=s64",
      "userId": "08597265227091462140"
     },
     "user_tz": -60
    },
    "id": "7H_Uz4xMsWBu",
    "outputId": "e1b6f1b1-f5c9-4d97-9492-0ccec178125a"
   },
   "outputs": [],
   "source": [
    "def review_messages(msg):\n",
    "    # converting messages to lowercase\n",
    "    return msg.lower()\n",
    "\n",
    "def alternative_review_messages(msg):\n",
    "    lemmatizer = WordNetLemmatizer()\n",
    "    # converting messages to lowercase\n",
    "    msg.lower()\n",
    "\n",
    "    # translate the nltk pos to wordnet\n",
    "    msg = [lemmatizer.lemmatize(word) for word in msg.split(' ') ]\n",
    "\n",
    "    # removing punctuation \n",
    "    msg = \" \".join(msg)\n",
    "    msg = [letter for letter in msg if letter not in string.punctuation]\n",
    "\n",
    "    # removing stopwords \n",
    "    msg = \"\".join(msg)\n",
    "    msg = [word for word in msg.split(' ') if word not in stopwords.words('english')]\n",
    "    \n",
    "    msg = \" \".join(msg)\n",
    "\n",
    "    return msg"
   ]
  },
  {
   "cell_type": "code",
   "execution_count": null,
   "metadata": {
    "colab": {},
    "colab_type": "code",
    "id": "bNeYbeGnsYu_"
   },
   "outputs": [],
   "source": [
    "# Processing text messages\n",
    "data['text'] = data['text'].apply(alternative_review_messages)\n",
    "data.head()"
   ]
  },
  {
   "cell_type": "code",
   "execution_count": null,
   "metadata": {
    "colab": {},
    "colab_type": "code",
    "id": "FF2dHCXQsM4F"
   },
   "outputs": [],
   "source": [
    "# train test split \n",
    "x = data['text']\n",
    "y = data['label']\n",
    "X_train, X_test, y_train, y_test = train_test_split(x, y, test_size=0.3)\n",
    "\n",
    "# training vectorizer\n",
    "Tfidf_vect = TfidfVectorizer(max_features = 5000)\n",
    "Tfidf_vect.fit(data['text'])\n",
    "\n",
    "Train_X_Tfidf = Tfidf_vect.transform(X_train)\n",
    "Test_X_Tfidf = Tfidf_vect.transform(X_test)"
   ]
  },
  {
   "cell_type": "code",
   "execution_count": null,
   "metadata": {
    "colab": {
     "base_uri": "https://localhost:8080/",
     "height": 141
    },
    "colab_type": "code",
    "executionInfo": {
     "elapsed": 1719,
     "status": "ok",
     "timestamp": 1572036935708,
     "user": {
      "displayName": "Rajeev Ratan",
      "photoUrl": "https://lh3.googleusercontent.com/a-/AAuE7mCGo6aIm0tOcd5EhqWlYb0rime9sBvHS9YMpx0D2w=s64",
      "userId": "08597265227091462140"
     },
     "user_tz": -60
    },
    "id": "uPlaxorAsa2E",
    "outputId": "9ead5170-89ce-4b9c-a3ac-8e20c4064ef2"
   },
   "outputs": [],
   "source": [
    "# training an SVM classifier \n",
    "\n",
    "SVM = svm.SVC(C = 1.5, kernel = 'linear', tol = 0.1)\n",
    "\n",
    "SVM.fit(Train_X_Tfidf, y_train)"
   ]
  },
  {
   "cell_type": "code",
   "execution_count": null,
   "metadata": {
    "colab": {
     "base_uri": "https://localhost:8080/",
     "height": 52
    },
    "colab_type": "code",
    "executionInfo": {
     "elapsed": 1383,
     "status": "ok",
     "timestamp": 1572036935710,
     "user": {
      "displayName": "Rajeev Ratan",
      "photoUrl": "https://lh3.googleusercontent.com/a-/AAuE7mCGo6aIm0tOcd5EhqWlYb0rime9sBvHS9YMpx0D2w=s64",
      "userId": "08597265227091462140"
     },
     "user_tz": -60
    },
    "id": "icHBwnywscLX",
    "outputId": "d1d8b0c4-9ef5-4a4d-8a30-7f7baf50ceb6"
   },
   "outputs": [],
   "source": [
    "# testing against testing set \n",
    "y_pred = SVM.predict(Test_X_Tfidf)\n",
    "\n",
    "print(f\"Matrice de confusion: \\n{confusion_matrix(y_test, y_pred)}\\n\")\n",
    "print(f\"Precision: {round(accuracy_score(y_test, y_pred), 3) * 100}%\\n\")\n",
    "print(classification_report(y_test, y_pred))"
   ]
  },
  {
   "cell_type": "code",
   "execution_count": null,
   "metadata": {
    "colab": {},
    "colab_type": "code",
    "id": "u0Qpz_S0sdJ9"
   },
   "outputs": [],
   "source": [
    "# test against new messages \n",
    "\n",
    "with open (\"SMSSpamCollection.txt\", 'r') as file:\n",
    "    data = file.read().split('\\n')\n",
    "\n",
    "data = pd.read_csv('SMSSpamCollection.txt', sep = '\\t', names = ['label', 'text'])\n",
    "data['text'] = data['text'].apply(alternative_review_messages)\n",
    "\n",
    "X_new = data['text']\n",
    "y_new = data['label']\n",
    "\n",
    "# training vectorizer\n",
    "New_X_Tfidf = Tfidf_vect.transform(X_new)\n",
    "\n",
    "y_pred = SVM.predict(New_X_Tfidf)\n",
    "\n",
    "print(f\"Matrice de confusion: \\n{confusion_matrix(y_new, y_pred)}\\n\")\n",
    "print(f\"Precision: {round(accuracy_score(y_new, y_pred), 3) * 100}%\\n\")\n",
    "print(classification_report(y_new, y_pred))"
   ]
  }
 ],
 "metadata": {
  "colab": {
   "name": "NLP Spam Classifier.ipynb",
   "provenance": []
  },
  "kernelspec": {
   "display_name": "Python 3",
   "language": "python",
   "name": "python3"
  },
  "language_info": {
   "codemirror_mode": {
    "name": "ipython",
    "version": 3
   },
   "file_extension": ".py",
   "mimetype": "text/x-python",
   "name": "python",
   "nbconvert_exporter": "python",
   "pygments_lexer": "ipython3",
   "version": "3.9.15"
  }
 },
 "nbformat": 4,
 "nbformat_minor": 1
}
