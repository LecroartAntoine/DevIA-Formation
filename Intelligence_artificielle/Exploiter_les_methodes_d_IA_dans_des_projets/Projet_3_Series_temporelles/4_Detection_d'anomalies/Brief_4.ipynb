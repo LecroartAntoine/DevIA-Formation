{
 "cells": [
  {
   "cell_type": "markdown",
   "metadata": {
    "colab_type": "text",
    "id": "o40y8HxDYE3G"
   },
   "source": [
    "# Détection d'anomalies dans les séries chronologiques à l'aide d'autoencodeurs LSTM avec PyTorch en Python"
   ]
  },
  {
   "cell_type": "markdown",
   "metadata": {},
   "source": [
    "#### Définir les autoencodeurs et leurs rôles"
   ]
  },
  {
   "attachments": {},
   "cell_type": "markdown",
   "metadata": {},
   "source": [
    "```\n",
    "Les auto encodeurs sont des réseaux de neurones qui possèdent exactement le même nombre de neurones sur leur couche d’entrée et leur couche de sortie. Le but pour un auto encodeur est d’avoir une sortie la plus proche de l’entrée en minimisant le coût de reconstruction.\n",
    "\n",
    "Lors de l’apprentissage, l’auto encodeur va donc apprendre à chercher les informations les plus essentielles pour reconstruire la sortie. Ainsi, l’encodeur apprend les composantes les plus importantes d’une entrée pour avoir la meilleure compression possible. \n",
    "```"
   ]
  },
  {
   "cell_type": "markdown",
   "metadata": {},
   "source": [
    "#### Définir la bibliothèque PyTorch "
   ]
  },
  {
   "attachments": {},
   "cell_type": "markdown",
   "metadata": {},
   "source": [
    "```\n",
    "PyTorch est une bibliothèque d'IA, développée par Meta (ex-Facebook), écrite en Python.\n",
    "PyTorch est disponible depuis 2016 en open source sous licence BSD Modifiée. En 2018, la librairie est fusionnée par Meta avec Caffe2, son infrastructure de deep learning taillée pour les déploiements et capable de prendre en charge des algorithmes d'apprentissage ingérant jusqu'à des dizaines de milliards de paramètres.\n",
    "```"
   ]
  },
  {
   "cell_type": "code",
   "execution_count": 58,
   "metadata": {
    "colab": {},
    "colab_type": "code",
    "id": "3RY_N3gOmfDi"
   },
   "outputs": [],
   "source": [
    "\n",
    "#Importez les bibliothèques torch, copy, pandas, seaborn, rcParams (from pylab)\n",
    "#Remplissez ce champ, au fur et à mesure avec les bibliothèques nécessaires \n",
    "\n",
    "import torch, copy, os\n",
    "\n",
    "import pandas as pd\n",
    "import seaborn as sns\n",
    "import matplotlib.pyplot as plt\n",
    "import numpy as np\n",
    "\n",
    "from pylab import rcParams\n",
    "from sklearn.model_selection import train_test_split\n",
    "\n",
    "os.environ[\"KMP_DUPLICATE_LIB_OK\"]=\"TRUE\""
   ]
  },
  {
   "cell_type": "markdown",
   "metadata": {
    "colab_type": "text",
    "id": "RN0e4KktjE88"
   },
   "source": [
    "Dans ce brief, nous allons apprendre à détecter les anomalies dans les données de séries temporelles à l'aide d'un autoencodeur LSTM. Vous allez utiliser les données d'ECG (Electrocardiographie) du monde réel d'un seul patient souffrant d'une maladie cardiaque pour détecter les battements de cœur anormaux."
   ]
  },
  {
   "cell_type": "markdown",
   "metadata": {
    "colab_type": "text",
    "id": "iVrX_m4CBAD6"
   },
   "source": [
    "**Importer les deux datasets \"train\" et \"test\" et assignez les respectivement dans les dataFrame \"tr\" et \"ts\"**  \n",
    "(Remarque: le délimiteur est un \";\")."
   ]
  },
  {
   "cell_type": "code",
   "execution_count": 22,
   "metadata": {
    "colab": {},
    "colab_type": "code",
    "id": "sh_8XjtEBVYq"
   },
   "outputs": [
    {
     "data": {
      "text/html": [
       "<div>\n",
       "<style scoped>\n",
       "    .dataframe tbody tr th:only-of-type {\n",
       "        vertical-align: middle;\n",
       "    }\n",
       "\n",
       "    .dataframe tbody tr th {\n",
       "        vertical-align: top;\n",
       "    }\n",
       "\n",
       "    .dataframe thead th {\n",
       "        text-align: right;\n",
       "    }\n",
       "</style>\n",
       "<table border=\"1\" class=\"dataframe\">\n",
       "  <thead>\n",
       "    <tr style=\"text-align: right;\">\n",
       "      <th></th>\n",
       "      <th>att1</th>\n",
       "      <th>att2</th>\n",
       "      <th>att3</th>\n",
       "      <th>att4</th>\n",
       "      <th>att5</th>\n",
       "      <th>att6</th>\n",
       "      <th>att7</th>\n",
       "      <th>att8</th>\n",
       "      <th>att9</th>\n",
       "      <th>att10</th>\n",
       "      <th>...</th>\n",
       "      <th>att132</th>\n",
       "      <th>att133</th>\n",
       "      <th>att134</th>\n",
       "      <th>att135</th>\n",
       "      <th>att136</th>\n",
       "      <th>att137</th>\n",
       "      <th>att138</th>\n",
       "      <th>att139</th>\n",
       "      <th>att140</th>\n",
       "      <th>Unnamed: 140</th>\n",
       "    </tr>\n",
       "  </thead>\n",
       "  <tbody>\n",
       "    <tr>\n",
       "      <th>count</th>\n",
       "      <td>500.000000</td>\n",
       "      <td>500.000000</td>\n",
       "      <td>500.000000</td>\n",
       "      <td>500.000000</td>\n",
       "      <td>500.000000</td>\n",
       "      <td>500.000000</td>\n",
       "      <td>500.000000</td>\n",
       "      <td>500.000000</td>\n",
       "      <td>500.000000</td>\n",
       "      <td>500.000000</td>\n",
       "      <td>...</td>\n",
       "      <td>500.000000</td>\n",
       "      <td>500.000000</td>\n",
       "      <td>500.000000</td>\n",
       "      <td>500.000000</td>\n",
       "      <td>500.000000</td>\n",
       "      <td>500.000000</td>\n",
       "      <td>500.000000</td>\n",
       "      <td>500.000000</td>\n",
       "      <td>500.000000</td>\n",
       "      <td>500.0000</td>\n",
       "    </tr>\n",
       "    <tr>\n",
       "      <th>mean</th>\n",
       "      <td>-0.159100</td>\n",
       "      <td>-1.551951</td>\n",
       "      <td>-2.442733</td>\n",
       "      <td>-3.098292</td>\n",
       "      <td>-3.177269</td>\n",
       "      <td>-2.899259</td>\n",
       "      <td>-2.286133</td>\n",
       "      <td>-1.800159</td>\n",
       "      <td>-1.429717</td>\n",
       "      <td>-0.948419</td>\n",
       "      <td>...</td>\n",
       "      <td>0.049037</td>\n",
       "      <td>-0.085459</td>\n",
       "      <td>-0.300097</td>\n",
       "      <td>-0.552943</td>\n",
       "      <td>-0.825774</td>\n",
       "      <td>-0.929637</td>\n",
       "      <td>-0.750090</td>\n",
       "      <td>-0.602488</td>\n",
       "      <td>-0.805451</td>\n",
       "      <td>1.5240</td>\n",
       "    </tr>\n",
       "    <tr>\n",
       "      <th>std</th>\n",
       "      <td>1.140292</td>\n",
       "      <td>1.416321</td>\n",
       "      <td>1.400143</td>\n",
       "      <td>1.325583</td>\n",
       "      <td>1.128045</td>\n",
       "      <td>0.904602</td>\n",
       "      <td>0.697134</td>\n",
       "      <td>0.575725</td>\n",
       "      <td>0.587910</td>\n",
       "      <td>0.637730</td>\n",
       "      <td>...</td>\n",
       "      <td>1.353449</td>\n",
       "      <td>1.594624</td>\n",
       "      <td>1.857173</td>\n",
       "      <td>2.025423</td>\n",
       "      <td>2.076705</td>\n",
       "      <td>2.106171</td>\n",
       "      <td>1.955936</td>\n",
       "      <td>1.946638</td>\n",
       "      <td>1.438395</td>\n",
       "      <td>0.7527</td>\n",
       "    </tr>\n",
       "    <tr>\n",
       "      <th>min</th>\n",
       "      <td>-3.694197</td>\n",
       "      <td>-5.117621</td>\n",
       "      <td>-5.110389</td>\n",
       "      <td>-5.060774</td>\n",
       "      <td>-5.375715</td>\n",
       "      <td>-5.056184</td>\n",
       "      <td>-3.960660</td>\n",
       "      <td>-3.066900</td>\n",
       "      <td>-2.906713</td>\n",
       "      <td>-2.698503</td>\n",
       "      <td>...</td>\n",
       "      <td>-3.560666</td>\n",
       "      <td>-4.006379</td>\n",
       "      <td>-4.212592</td>\n",
       "      <td>-4.526051</td>\n",
       "      <td>-5.150100</td>\n",
       "      <td>-4.872557</td>\n",
       "      <td>-4.959774</td>\n",
       "      <td>-5.639460</td>\n",
       "      <td>-5.797645</td>\n",
       "      <td>1.0000</td>\n",
       "    </tr>\n",
       "    <tr>\n",
       "      <th>25%</th>\n",
       "      <td>-0.928707</td>\n",
       "      <td>-2.644930</td>\n",
       "      <td>-3.617218</td>\n",
       "      <td>-4.251520</td>\n",
       "      <td>-4.022823</td>\n",
       "      <td>-3.537361</td>\n",
       "      <td>-2.779345</td>\n",
       "      <td>-2.182877</td>\n",
       "      <td>-1.786397</td>\n",
       "      <td>-1.393333</td>\n",
       "      <td>...</td>\n",
       "      <td>-0.965218</td>\n",
       "      <td>-1.485576</td>\n",
       "      <td>-2.038443</td>\n",
       "      <td>-2.654917</td>\n",
       "      <td>-3.075720</td>\n",
       "      <td>-3.032576</td>\n",
       "      <td>-2.315601</td>\n",
       "      <td>-1.970478</td>\n",
       "      <td>-1.663648</td>\n",
       "      <td>1.0000</td>\n",
       "    </tr>\n",
       "    <tr>\n",
       "      <th>50%</th>\n",
       "      <td>-0.216883</td>\n",
       "      <td>-1.539340</td>\n",
       "      <td>-2.513000</td>\n",
       "      <td>-3.309532</td>\n",
       "      <td>-3.541513</td>\n",
       "      <td>-3.008340</td>\n",
       "      <td>-2.298235</td>\n",
       "      <td>-1.761069</td>\n",
       "      <td>-1.438962</td>\n",
       "      <td>-0.929379</td>\n",
       "      <td>...</td>\n",
       "      <td>0.438875</td>\n",
       "      <td>0.652819</td>\n",
       "      <td>0.585367</td>\n",
       "      <td>0.320551</td>\n",
       "      <td>-0.125691</td>\n",
       "      <td>-0.254106</td>\n",
       "      <td>-0.292570</td>\n",
       "      <td>-0.233793</td>\n",
       "      <td>-0.663025</td>\n",
       "      <td>1.0000</td>\n",
       "    </tr>\n",
       "    <tr>\n",
       "      <th>75%</th>\n",
       "      <td>0.582008</td>\n",
       "      <td>-0.595632</td>\n",
       "      <td>-1.448769</td>\n",
       "      <td>-2.199136</td>\n",
       "      <td>-2.546305</td>\n",
       "      <td>-2.432860</td>\n",
       "      <td>-1.847942</td>\n",
       "      <td>-1.489967</td>\n",
       "      <td>-1.108815</td>\n",
       "      <td>-0.484015</td>\n",
       "      <td>...</td>\n",
       "      <td>1.147758</td>\n",
       "      <td>1.215568</td>\n",
       "      <td>1.239330</td>\n",
       "      <td>1.186627</td>\n",
       "      <td>1.016514</td>\n",
       "      <td>0.933622</td>\n",
       "      <td>0.960665</td>\n",
       "      <td>1.002865</td>\n",
       "      <td>0.222464</td>\n",
       "      <td>2.0000</td>\n",
       "    </tr>\n",
       "    <tr>\n",
       "      <th>max</th>\n",
       "      <td>4.058127</td>\n",
       "      <td>2.087844</td>\n",
       "      <td>1.592974</td>\n",
       "      <td>1.423006</td>\n",
       "      <td>1.014557</td>\n",
       "      <td>0.610640</td>\n",
       "      <td>0.778013</td>\n",
       "      <td>0.812531</td>\n",
       "      <td>1.136212</td>\n",
       "      <td>1.455688</td>\n",
       "      <td>...</td>\n",
       "      <td>2.602337</td>\n",
       "      <td>2.723053</td>\n",
       "      <td>2.912394</td>\n",
       "      <td>2.630759</td>\n",
       "      <td>2.852050</td>\n",
       "      <td>2.959741</td>\n",
       "      <td>2.613987</td>\n",
       "      <td>2.589474</td>\n",
       "      <td>2.854707</td>\n",
       "      <td>5.0000</td>\n",
       "    </tr>\n",
       "  </tbody>\n",
       "</table>\n",
       "<p>8 rows × 141 columns</p>\n",
       "</div>"
      ],
      "text/plain": [
       "             att1        att2        att3        att4        att5        att6  \\\n",
       "count  500.000000  500.000000  500.000000  500.000000  500.000000  500.000000   \n",
       "mean    -0.159100   -1.551951   -2.442733   -3.098292   -3.177269   -2.899259   \n",
       "std      1.140292    1.416321    1.400143    1.325583    1.128045    0.904602   \n",
       "min     -3.694197   -5.117621   -5.110389   -5.060774   -5.375715   -5.056184   \n",
       "25%     -0.928707   -2.644930   -3.617218   -4.251520   -4.022823   -3.537361   \n",
       "50%     -0.216883   -1.539340   -2.513000   -3.309532   -3.541513   -3.008340   \n",
       "75%      0.582008   -0.595632   -1.448769   -2.199136   -2.546305   -2.432860   \n",
       "max      4.058127    2.087844    1.592974    1.423006    1.014557    0.610640   \n",
       "\n",
       "             att7        att8        att9       att10  ...      att132  \\\n",
       "count  500.000000  500.000000  500.000000  500.000000  ...  500.000000   \n",
       "mean    -2.286133   -1.800159   -1.429717   -0.948419  ...    0.049037   \n",
       "std      0.697134    0.575725    0.587910    0.637730  ...    1.353449   \n",
       "min     -3.960660   -3.066900   -2.906713   -2.698503  ...   -3.560666   \n",
       "25%     -2.779345   -2.182877   -1.786397   -1.393333  ...   -0.965218   \n",
       "50%     -2.298235   -1.761069   -1.438962   -0.929379  ...    0.438875   \n",
       "75%     -1.847942   -1.489967   -1.108815   -0.484015  ...    1.147758   \n",
       "max      0.778013    0.812531    1.136212    1.455688  ...    2.602337   \n",
       "\n",
       "           att133      att134      att135      att136      att137      att138  \\\n",
       "count  500.000000  500.000000  500.000000  500.000000  500.000000  500.000000   \n",
       "mean    -0.085459   -0.300097   -0.552943   -0.825774   -0.929637   -0.750090   \n",
       "std      1.594624    1.857173    2.025423    2.076705    2.106171    1.955936   \n",
       "min     -4.006379   -4.212592   -4.526051   -5.150100   -4.872557   -4.959774   \n",
       "25%     -1.485576   -2.038443   -2.654917   -3.075720   -3.032576   -2.315601   \n",
       "50%      0.652819    0.585367    0.320551   -0.125691   -0.254106   -0.292570   \n",
       "75%      1.215568    1.239330    1.186627    1.016514    0.933622    0.960665   \n",
       "max      2.723053    2.912394    2.630759    2.852050    2.959741    2.613987   \n",
       "\n",
       "           att139      att140  Unnamed: 140  \n",
       "count  500.000000  500.000000      500.0000  \n",
       "mean    -0.602488   -0.805451        1.5240  \n",
       "std      1.946638    1.438395        0.7527  \n",
       "min     -5.639460   -5.797645        1.0000  \n",
       "25%     -1.970478   -1.663648        1.0000  \n",
       "50%     -0.233793   -0.663025        1.0000  \n",
       "75%      1.002865    0.222464        2.0000  \n",
       "max      2.589474    2.854707        5.0000  \n",
       "\n",
       "[8 rows x 141 columns]"
      ]
     },
     "execution_count": 22,
     "metadata": {},
     "output_type": "execute_result"
    }
   ],
   "source": [
    "tr = pd.read_csv('train.csv', sep = ';')\n",
    "tr.describe()"
   ]
  },
  {
   "cell_type": "code",
   "execution_count": 23,
   "metadata": {},
   "outputs": [
    {
     "data": {
      "text/html": [
       "<div>\n",
       "<style scoped>\n",
       "    .dataframe tbody tr th:only-of-type {\n",
       "        vertical-align: middle;\n",
       "    }\n",
       "\n",
       "    .dataframe tbody tr th {\n",
       "        vertical-align: top;\n",
       "    }\n",
       "\n",
       "    .dataframe thead th {\n",
       "        text-align: right;\n",
       "    }\n",
       "</style>\n",
       "<table border=\"1\" class=\"dataframe\">\n",
       "  <thead>\n",
       "    <tr style=\"text-align: right;\">\n",
       "      <th></th>\n",
       "      <th>att1</th>\n",
       "      <th>att2</th>\n",
       "      <th>att3</th>\n",
       "      <th>att4</th>\n",
       "      <th>att5</th>\n",
       "      <th>att6</th>\n",
       "      <th>att7</th>\n",
       "      <th>att8</th>\n",
       "      <th>att9</th>\n",
       "      <th>att10</th>\n",
       "      <th>...</th>\n",
       "      <th>att132</th>\n",
       "      <th>att133</th>\n",
       "      <th>att134</th>\n",
       "      <th>att135</th>\n",
       "      <th>att136</th>\n",
       "      <th>att137</th>\n",
       "      <th>att138</th>\n",
       "      <th>att139</th>\n",
       "      <th>att140</th>\n",
       "      <th>Unnamed: 140</th>\n",
       "    </tr>\n",
       "  </thead>\n",
       "  <tbody>\n",
       "    <tr>\n",
       "      <th>count</th>\n",
       "      <td>4500.000000</td>\n",
       "      <td>4500.000000</td>\n",
       "      <td>4500.000000</td>\n",
       "      <td>4500.000000</td>\n",
       "      <td>4500.000000</td>\n",
       "      <td>4500.000000</td>\n",
       "      <td>4500.000000</td>\n",
       "      <td>4500.000000</td>\n",
       "      <td>4500.000000</td>\n",
       "      <td>4500.000000</td>\n",
       "      <td>...</td>\n",
       "      <td>4500.000000</td>\n",
       "      <td>4500.000000</td>\n",
       "      <td>4500.000000</td>\n",
       "      <td>4500.000000</td>\n",
       "      <td>4500.000000</td>\n",
       "      <td>4500.000000</td>\n",
       "      <td>4500.000000</td>\n",
       "      <td>4500.000000</td>\n",
       "      <td>4500.000000</td>\n",
       "      <td>4500.000000</td>\n",
       "    </tr>\n",
       "    <tr>\n",
       "      <th>mean</th>\n",
       "      <td>-0.273962</td>\n",
       "      <td>-1.660351</td>\n",
       "      <td>-2.497708</td>\n",
       "      <td>-3.121793</td>\n",
       "      <td>-3.166346</td>\n",
       "      <td>-2.862646</td>\n",
       "      <td>-2.271681</td>\n",
       "      <td>-1.797901</td>\n",
       "      <td>-1.407947</td>\n",
       "      <td>-0.934711</td>\n",
       "      <td>...</td>\n",
       "      <td>0.073410</td>\n",
       "      <td>-0.060409</td>\n",
       "      <td>-0.273551</td>\n",
       "      <td>-0.502636</td>\n",
       "      <td>-0.753850</td>\n",
       "      <td>-0.824197</td>\n",
       "      <td>-0.630282</td>\n",
       "      <td>-0.474437</td>\n",
       "      <td>-0.694958</td>\n",
       "      <td>1.527778</td>\n",
       "    </tr>\n",
       "    <tr>\n",
       "      <th>std</th>\n",
       "      <td>1.153257</td>\n",
       "      <td>1.448446</td>\n",
       "      <td>1.384922</td>\n",
       "      <td>1.300375</td>\n",
       "      <td>1.101844</td>\n",
       "      <td>0.906330</td>\n",
       "      <td>0.735420</td>\n",
       "      <td>0.628203</td>\n",
       "      <td>0.642411</td>\n",
       "      <td>0.660208</td>\n",
       "      <td>...</td>\n",
       "      <td>1.410561</td>\n",
       "      <td>1.652410</td>\n",
       "      <td>1.899489</td>\n",
       "      <td>2.063698</td>\n",
       "      <td>2.087378</td>\n",
       "      <td>2.050563</td>\n",
       "      <td>1.848085</td>\n",
       "      <td>1.817460</td>\n",
       "      <td>1.411511</td>\n",
       "      <td>0.761301</td>\n",
       "    </tr>\n",
       "    <tr>\n",
       "      <th>min</th>\n",
       "      <td>-6.729499</td>\n",
       "      <td>-7.090374</td>\n",
       "      <td>-5.132459</td>\n",
       "      <td>-5.363241</td>\n",
       "      <td>-5.259295</td>\n",
       "      <td>-5.330194</td>\n",
       "      <td>-4.782240</td>\n",
       "      <td>-4.311288</td>\n",
       "      <td>-4.071361</td>\n",
       "      <td>-4.142476</td>\n",
       "      <td>...</td>\n",
       "      <td>-4.167040</td>\n",
       "      <td>-4.557576</td>\n",
       "      <td>-4.530488</td>\n",
       "      <td>-4.563270</td>\n",
       "      <td>-4.911417</td>\n",
       "      <td>-4.880460</td>\n",
       "      <td>-5.496107</td>\n",
       "      <td>-5.880890</td>\n",
       "      <td>-6.092227</td>\n",
       "      <td>1.000000</td>\n",
       "    </tr>\n",
       "    <tr>\n",
       "      <th>25%</th>\n",
       "      <td>-1.018202</td>\n",
       "      <td>-2.710514</td>\n",
       "      <td>-3.675967</td>\n",
       "      <td>-4.221921</td>\n",
       "      <td>-4.006748</td>\n",
       "      <td>-3.472986</td>\n",
       "      <td>-2.779941</td>\n",
       "      <td>-2.164166</td>\n",
       "      <td>-1.773173</td>\n",
       "      <td>-1.360472</td>\n",
       "      <td>...</td>\n",
       "      <td>-1.104062</td>\n",
       "      <td>-1.598281</td>\n",
       "      <td>-2.157220</td>\n",
       "      <td>-2.743237</td>\n",
       "      <td>-3.014821</td>\n",
       "      <td>-2.856324</td>\n",
       "      <td>-2.131719</td>\n",
       "      <td>-1.635179</td>\n",
       "      <td>-1.577515</td>\n",
       "      <td>1.000000</td>\n",
       "    </tr>\n",
       "    <tr>\n",
       "      <th>50%</th>\n",
       "      <td>-0.303240</td>\n",
       "      <td>-1.672456</td>\n",
       "      <td>-2.592071</td>\n",
       "      <td>-3.397653</td>\n",
       "      <td>-3.460329</td>\n",
       "      <td>-2.938500</td>\n",
       "      <td>-2.282163</td>\n",
       "      <td>-1.748535</td>\n",
       "      <td>-1.420713</td>\n",
       "      <td>-0.909183</td>\n",
       "      <td>...</td>\n",
       "      <td>0.676028</td>\n",
       "      <td>0.732593</td>\n",
       "      <td>0.608052</td>\n",
       "      <td>0.335153</td>\n",
       "      <td>-0.025628</td>\n",
       "      <td>-0.180293</td>\n",
       "      <td>-0.191248</td>\n",
       "      <td>-0.144524</td>\n",
       "      <td>-0.551293</td>\n",
       "      <td>1.000000</td>\n",
       "    </tr>\n",
       "    <tr>\n",
       "      <th>75%</th>\n",
       "      <td>0.485655</td>\n",
       "      <td>-0.684776</td>\n",
       "      <td>-1.519119</td>\n",
       "      <td>-2.240458</td>\n",
       "      <td>-2.530796</td>\n",
       "      <td>-2.397532</td>\n",
       "      <td>-1.822741</td>\n",
       "      <td>-1.483616</td>\n",
       "      <td>-1.059521</td>\n",
       "      <td>-0.476321</td>\n",
       "      <td>...</td>\n",
       "      <td>1.173172</td>\n",
       "      <td>1.239463</td>\n",
       "      <td>1.267172</td>\n",
       "      <td>1.237470</td>\n",
       "      <td>1.037941</td>\n",
       "      <td>0.947254</td>\n",
       "      <td>0.948825</td>\n",
       "      <td>1.002692</td>\n",
       "      <td>0.277078</td>\n",
       "      <td>2.000000</td>\n",
       "    </tr>\n",
       "    <tr>\n",
       "      <th>max</th>\n",
       "      <td>4.966414</td>\n",
       "      <td>3.479689</td>\n",
       "      <td>2.660597</td>\n",
       "      <td>1.899798</td>\n",
       "      <td>2.147015</td>\n",
       "      <td>1.614375</td>\n",
       "      <td>1.868728</td>\n",
       "      <td>1.804251</td>\n",
       "      <td>1.683730</td>\n",
       "      <td>1.898627</td>\n",
       "      <td>...</td>\n",
       "      <td>3.007606</td>\n",
       "      <td>2.854680</td>\n",
       "      <td>2.912134</td>\n",
       "      <td>2.937685</td>\n",
       "      <td>3.351437</td>\n",
       "      <td>3.432519</td>\n",
       "      <td>3.579448</td>\n",
       "      <td>4.425976</td>\n",
       "      <td>7.402103</td>\n",
       "      <td>5.000000</td>\n",
       "    </tr>\n",
       "  </tbody>\n",
       "</table>\n",
       "<p>8 rows × 141 columns</p>\n",
       "</div>"
      ],
      "text/plain": [
       "              att1         att2         att3         att4         att5  \\\n",
       "count  4500.000000  4500.000000  4500.000000  4500.000000  4500.000000   \n",
       "mean     -0.273962    -1.660351    -2.497708    -3.121793    -3.166346   \n",
       "std       1.153257     1.448446     1.384922     1.300375     1.101844   \n",
       "min      -6.729499    -7.090374    -5.132459    -5.363241    -5.259295   \n",
       "25%      -1.018202    -2.710514    -3.675967    -4.221921    -4.006748   \n",
       "50%      -0.303240    -1.672456    -2.592071    -3.397653    -3.460329   \n",
       "75%       0.485655    -0.684776    -1.519119    -2.240458    -2.530796   \n",
       "max       4.966414     3.479689     2.660597     1.899798     2.147015   \n",
       "\n",
       "              att6         att7         att8         att9        att10  ...  \\\n",
       "count  4500.000000  4500.000000  4500.000000  4500.000000  4500.000000  ...   \n",
       "mean     -2.862646    -2.271681    -1.797901    -1.407947    -0.934711  ...   \n",
       "std       0.906330     0.735420     0.628203     0.642411     0.660208  ...   \n",
       "min      -5.330194    -4.782240    -4.311288    -4.071361    -4.142476  ...   \n",
       "25%      -3.472986    -2.779941    -2.164166    -1.773173    -1.360472  ...   \n",
       "50%      -2.938500    -2.282163    -1.748535    -1.420713    -0.909183  ...   \n",
       "75%      -2.397532    -1.822741    -1.483616    -1.059521    -0.476321  ...   \n",
       "max       1.614375     1.868728     1.804251     1.683730     1.898627  ...   \n",
       "\n",
       "            att132       att133       att134       att135       att136  \\\n",
       "count  4500.000000  4500.000000  4500.000000  4500.000000  4500.000000   \n",
       "mean      0.073410    -0.060409    -0.273551    -0.502636    -0.753850   \n",
       "std       1.410561     1.652410     1.899489     2.063698     2.087378   \n",
       "min      -4.167040    -4.557576    -4.530488    -4.563270    -4.911417   \n",
       "25%      -1.104062    -1.598281    -2.157220    -2.743237    -3.014821   \n",
       "50%       0.676028     0.732593     0.608052     0.335153    -0.025628   \n",
       "75%       1.173172     1.239463     1.267172     1.237470     1.037941   \n",
       "max       3.007606     2.854680     2.912134     2.937685     3.351437   \n",
       "\n",
       "            att137       att138       att139       att140  Unnamed: 140  \n",
       "count  4500.000000  4500.000000  4500.000000  4500.000000   4500.000000  \n",
       "mean     -0.824197    -0.630282    -0.474437    -0.694958      1.527778  \n",
       "std       2.050563     1.848085     1.817460     1.411511      0.761301  \n",
       "min      -4.880460    -5.496107    -5.880890    -6.092227      1.000000  \n",
       "25%      -2.856324    -2.131719    -1.635179    -1.577515      1.000000  \n",
       "50%      -0.180293    -0.191248    -0.144524    -0.551293      1.000000  \n",
       "75%       0.947254     0.948825     1.002692     0.277078      2.000000  \n",
       "max       3.432519     3.579448     4.425976     7.402103      5.000000  \n",
       "\n",
       "[8 rows x 141 columns]"
      ]
     },
     "execution_count": 23,
     "metadata": {},
     "output_type": "execute_result"
    }
   ],
   "source": [
    "ts = pd.read_csv('test.csv', sep = ';')\n",
    "ts.describe()\n"
   ]
  },
  {
   "cell_type": "markdown",
   "metadata": {
    "colab_type": "text",
    "id": "UDtaZ2uTCG11"
   },
   "source": [
    "**Nous allons combiner les données de training et de test en un seul dataFrame. Cela nous donnera plus de données pour entraîner notre autoencodeur. Nous allons également les mélanger:**"
   ]
  },
  {
   "cell_type": "code",
   "execution_count": 24,
   "metadata": {
    "colab": {
     "base_uri": "https://localhost:8080/",
     "height": 35
    },
    "colab_type": "code",
    "id": "tAyxwvbB5-9o",
    "outputId": "7c69e8d9-7b80-436c-8dea-16109169fc83"
   },
   "outputs": [],
   "source": [
    "df = pd.concat([tr, ts])\n",
    "df = df.sample(frac=1).reset_index(drop = True)"
   ]
  },
  {
   "cell_type": "code",
   "execution_count": 25,
   "metadata": {
    "colab": {
     "base_uri": "https://localhost:8080/",
     "height": 253
    },
    "colab_type": "code",
    "id": "KpkkVdrLCSAs",
    "outputId": "9dc73fde-a213-47f4-8b8b-f55fbf3c1dc1"
   },
   "outputs": [
    {
     "data": {
      "text/html": [
       "<div>\n",
       "<style scoped>\n",
       "    .dataframe tbody tr th:only-of-type {\n",
       "        vertical-align: middle;\n",
       "    }\n",
       "\n",
       "    .dataframe tbody tr th {\n",
       "        vertical-align: top;\n",
       "    }\n",
       "\n",
       "    .dataframe thead th {\n",
       "        text-align: right;\n",
       "    }\n",
       "</style>\n",
       "<table border=\"1\" class=\"dataframe\">\n",
       "  <thead>\n",
       "    <tr style=\"text-align: right;\">\n",
       "      <th></th>\n",
       "      <th>att1</th>\n",
       "      <th>att2</th>\n",
       "      <th>att3</th>\n",
       "      <th>att4</th>\n",
       "      <th>att5</th>\n",
       "      <th>att6</th>\n",
       "      <th>att7</th>\n",
       "      <th>att8</th>\n",
       "      <th>att9</th>\n",
       "      <th>att10</th>\n",
       "      <th>...</th>\n",
       "      <th>att132</th>\n",
       "      <th>att133</th>\n",
       "      <th>att134</th>\n",
       "      <th>att135</th>\n",
       "      <th>att136</th>\n",
       "      <th>att137</th>\n",
       "      <th>att138</th>\n",
       "      <th>att139</th>\n",
       "      <th>att140</th>\n",
       "      <th>Unnamed: 140</th>\n",
       "    </tr>\n",
       "  </thead>\n",
       "  <tbody>\n",
       "    <tr>\n",
       "      <th>0</th>\n",
       "      <td>-1.461036</td>\n",
       "      <td>-3.694497</td>\n",
       "      <td>-4.338064</td>\n",
       "      <td>-4.352150</td>\n",
       "      <td>-4.027225</td>\n",
       "      <td>-3.480386</td>\n",
       "      <td>-2.008748</td>\n",
       "      <td>-1.313345</td>\n",
       "      <td>-1.111645</td>\n",
       "      <td>-0.442795</td>\n",
       "      <td>...</td>\n",
       "      <td>0.936000</td>\n",
       "      <td>1.132870</td>\n",
       "      <td>1.065463</td>\n",
       "      <td>0.951055</td>\n",
       "      <td>0.646349</td>\n",
       "      <td>0.796355</td>\n",
       "      <td>1.090618</td>\n",
       "      <td>0.424267</td>\n",
       "      <td>-1.901421</td>\n",
       "      <td>1</td>\n",
       "    </tr>\n",
       "    <tr>\n",
       "      <th>1</th>\n",
       "      <td>0.883159</td>\n",
       "      <td>-0.759310</td>\n",
       "      <td>-2.628565</td>\n",
       "      <td>-4.117845</td>\n",
       "      <td>-4.338255</td>\n",
       "      <td>-3.528236</td>\n",
       "      <td>-2.512334</td>\n",
       "      <td>-1.855844</td>\n",
       "      <td>-1.637926</td>\n",
       "      <td>-0.942783</td>\n",
       "      <td>...</td>\n",
       "      <td>1.404509</td>\n",
       "      <td>1.675578</td>\n",
       "      <td>2.094587</td>\n",
       "      <td>2.177011</td>\n",
       "      <td>1.821510</td>\n",
       "      <td>1.167246</td>\n",
       "      <td>0.817841</td>\n",
       "      <td>1.256876</td>\n",
       "      <td>0.165824</td>\n",
       "      <td>1</td>\n",
       "    </tr>\n",
       "    <tr>\n",
       "      <th>2</th>\n",
       "      <td>-1.530214</td>\n",
       "      <td>-1.997999</td>\n",
       "      <td>-1.927152</td>\n",
       "      <td>-2.463646</td>\n",
       "      <td>-2.419654</td>\n",
       "      <td>-2.299942</td>\n",
       "      <td>-2.118728</td>\n",
       "      <td>-1.806651</td>\n",
       "      <td>-1.467962</td>\n",
       "      <td>-0.941041</td>\n",
       "      <td>...</td>\n",
       "      <td>-2.122940</td>\n",
       "      <td>-2.891670</td>\n",
       "      <td>-3.717853</td>\n",
       "      <td>-4.014832</td>\n",
       "      <td>-3.872671</td>\n",
       "      <td>-3.161674</td>\n",
       "      <td>-2.100360</td>\n",
       "      <td>-1.896710</td>\n",
       "      <td>-0.731388</td>\n",
       "      <td>2</td>\n",
       "    </tr>\n",
       "    <tr>\n",
       "      <th>3</th>\n",
       "      <td>1.078572</td>\n",
       "      <td>-1.152037</td>\n",
       "      <td>-2.712268</td>\n",
       "      <td>-3.702277</td>\n",
       "      <td>-4.537162</td>\n",
       "      <td>-3.794368</td>\n",
       "      <td>-2.446789</td>\n",
       "      <td>-1.729855</td>\n",
       "      <td>-1.515999</td>\n",
       "      <td>-0.405619</td>\n",
       "      <td>...</td>\n",
       "      <td>0.406030</td>\n",
       "      <td>1.178879</td>\n",
       "      <td>1.303537</td>\n",
       "      <td>1.656051</td>\n",
       "      <td>1.641966</td>\n",
       "      <td>1.603795</td>\n",
       "      <td>1.222840</td>\n",
       "      <td>0.572081</td>\n",
       "      <td>1.062028</td>\n",
       "      <td>1</td>\n",
       "    </tr>\n",
       "    <tr>\n",
       "      <th>4</th>\n",
       "      <td>0.109517</td>\n",
       "      <td>-0.244626</td>\n",
       "      <td>-0.780074</td>\n",
       "      <td>-1.049431</td>\n",
       "      <td>-1.256571</td>\n",
       "      <td>-1.553503</td>\n",
       "      <td>-1.777700</td>\n",
       "      <td>-1.796117</td>\n",
       "      <td>-1.676495</td>\n",
       "      <td>-1.412903</td>\n",
       "      <td>...</td>\n",
       "      <td>-1.932396</td>\n",
       "      <td>-2.601818</td>\n",
       "      <td>-3.360360</td>\n",
       "      <td>-3.942239</td>\n",
       "      <td>-4.281020</td>\n",
       "      <td>-4.142634</td>\n",
       "      <td>-3.362297</td>\n",
       "      <td>-2.769953</td>\n",
       "      <td>-1.609311</td>\n",
       "      <td>2</td>\n",
       "    </tr>\n",
       "    <tr>\n",
       "      <th>5</th>\n",
       "      <td>-0.338822</td>\n",
       "      <td>-1.670724</td>\n",
       "      <td>-3.040589</td>\n",
       "      <td>-4.175229</td>\n",
       "      <td>-4.299424</td>\n",
       "      <td>-3.549401</td>\n",
       "      <td>-2.468915</td>\n",
       "      <td>-1.781773</td>\n",
       "      <td>-1.552058</td>\n",
       "      <td>-0.865544</td>\n",
       "      <td>...</td>\n",
       "      <td>1.728927</td>\n",
       "      <td>1.874774</td>\n",
       "      <td>2.237946</td>\n",
       "      <td>2.118211</td>\n",
       "      <td>1.523045</td>\n",
       "      <td>0.781780</td>\n",
       "      <td>0.390808</td>\n",
       "      <td>0.612616</td>\n",
       "      <td>-0.146795</td>\n",
       "      <td>1</td>\n",
       "    </tr>\n",
       "    <tr>\n",
       "      <th>6</th>\n",
       "      <td>-1.128814</td>\n",
       "      <td>-2.038117</td>\n",
       "      <td>-2.384954</td>\n",
       "      <td>-3.105648</td>\n",
       "      <td>-3.014970</td>\n",
       "      <td>-2.772561</td>\n",
       "      <td>-2.405708</td>\n",
       "      <td>-1.865114</td>\n",
       "      <td>-1.327811</td>\n",
       "      <td>-0.850339</td>\n",
       "      <td>...</td>\n",
       "      <td>-1.874524</td>\n",
       "      <td>-2.370187</td>\n",
       "      <td>-3.194264</td>\n",
       "      <td>-3.671344</td>\n",
       "      <td>-3.561135</td>\n",
       "      <td>-3.059398</td>\n",
       "      <td>-1.891961</td>\n",
       "      <td>-1.136140</td>\n",
       "      <td>0.077307</td>\n",
       "      <td>2</td>\n",
       "    </tr>\n",
       "    <tr>\n",
       "      <th>7</th>\n",
       "      <td>-0.100116</td>\n",
       "      <td>-2.352734</td>\n",
       "      <td>-4.127956</td>\n",
       "      <td>-4.425552</td>\n",
       "      <td>-4.362354</td>\n",
       "      <td>-4.084848</td>\n",
       "      <td>-3.246232</td>\n",
       "      <td>-1.865253</td>\n",
       "      <td>-1.280394</td>\n",
       "      <td>-0.935507</td>\n",
       "      <td>...</td>\n",
       "      <td>0.873581</td>\n",
       "      <td>1.079805</td>\n",
       "      <td>1.169158</td>\n",
       "      <td>1.261764</td>\n",
       "      <td>1.082071</td>\n",
       "      <td>0.799359</td>\n",
       "      <td>0.868221</td>\n",
       "      <td>1.090843</td>\n",
       "      <td>-0.119246</td>\n",
       "      <td>1</td>\n",
       "    </tr>\n",
       "    <tr>\n",
       "      <th>8</th>\n",
       "      <td>-0.757178</td>\n",
       "      <td>-3.396066</td>\n",
       "      <td>-4.089193</td>\n",
       "      <td>-4.307271</td>\n",
       "      <td>-3.673054</td>\n",
       "      <td>-2.558748</td>\n",
       "      <td>-1.797710</td>\n",
       "      <td>-1.558311</td>\n",
       "      <td>-0.826008</td>\n",
       "      <td>-0.454440</td>\n",
       "      <td>...</td>\n",
       "      <td>0.986183</td>\n",
       "      <td>1.317548</td>\n",
       "      <td>1.045827</td>\n",
       "      <td>1.000235</td>\n",
       "      <td>0.720204</td>\n",
       "      <td>0.724679</td>\n",
       "      <td>0.554332</td>\n",
       "      <td>0.991150</td>\n",
       "      <td>0.886523</td>\n",
       "      <td>1</td>\n",
       "    </tr>\n",
       "    <tr>\n",
       "      <th>9</th>\n",
       "      <td>-0.418828</td>\n",
       "      <td>-1.256109</td>\n",
       "      <td>-2.062180</td>\n",
       "      <td>-2.508502</td>\n",
       "      <td>-2.639580</td>\n",
       "      <td>-2.517016</td>\n",
       "      <td>-2.284097</td>\n",
       "      <td>-1.945279</td>\n",
       "      <td>-1.264099</td>\n",
       "      <td>-0.816035</td>\n",
       "      <td>...</td>\n",
       "      <td>-0.249821</td>\n",
       "      <td>-1.099008</td>\n",
       "      <td>-2.040666</td>\n",
       "      <td>-3.107655</td>\n",
       "      <td>-4.108462</td>\n",
       "      <td>-4.402550</td>\n",
       "      <td>-3.808157</td>\n",
       "      <td>-2.711431</td>\n",
       "      <td>-2.016510</td>\n",
       "      <td>2</td>\n",
       "    </tr>\n",
       "  </tbody>\n",
       "</table>\n",
       "<p>10 rows × 141 columns</p>\n",
       "</div>"
      ],
      "text/plain": [
       "       att1      att2      att3      att4      att5      att6      att7  \\\n",
       "0 -1.461036 -3.694497 -4.338064 -4.352150 -4.027225 -3.480386 -2.008748   \n",
       "1  0.883159 -0.759310 -2.628565 -4.117845 -4.338255 -3.528236 -2.512334   \n",
       "2 -1.530214 -1.997999 -1.927152 -2.463646 -2.419654 -2.299942 -2.118728   \n",
       "3  1.078572 -1.152037 -2.712268 -3.702277 -4.537162 -3.794368 -2.446789   \n",
       "4  0.109517 -0.244626 -0.780074 -1.049431 -1.256571 -1.553503 -1.777700   \n",
       "5 -0.338822 -1.670724 -3.040589 -4.175229 -4.299424 -3.549401 -2.468915   \n",
       "6 -1.128814 -2.038117 -2.384954 -3.105648 -3.014970 -2.772561 -2.405708   \n",
       "7 -0.100116 -2.352734 -4.127956 -4.425552 -4.362354 -4.084848 -3.246232   \n",
       "8 -0.757178 -3.396066 -4.089193 -4.307271 -3.673054 -2.558748 -1.797710   \n",
       "9 -0.418828 -1.256109 -2.062180 -2.508502 -2.639580 -2.517016 -2.284097   \n",
       "\n",
       "       att8      att9     att10  ...    att132    att133    att134    att135  \\\n",
       "0 -1.313345 -1.111645 -0.442795  ...  0.936000  1.132870  1.065463  0.951055   \n",
       "1 -1.855844 -1.637926 -0.942783  ...  1.404509  1.675578  2.094587  2.177011   \n",
       "2 -1.806651 -1.467962 -0.941041  ... -2.122940 -2.891670 -3.717853 -4.014832   \n",
       "3 -1.729855 -1.515999 -0.405619  ...  0.406030  1.178879  1.303537  1.656051   \n",
       "4 -1.796117 -1.676495 -1.412903  ... -1.932396 -2.601818 -3.360360 -3.942239   \n",
       "5 -1.781773 -1.552058 -0.865544  ...  1.728927  1.874774  2.237946  2.118211   \n",
       "6 -1.865114 -1.327811 -0.850339  ... -1.874524 -2.370187 -3.194264 -3.671344   \n",
       "7 -1.865253 -1.280394 -0.935507  ...  0.873581  1.079805  1.169158  1.261764   \n",
       "8 -1.558311 -0.826008 -0.454440  ...  0.986183  1.317548  1.045827  1.000235   \n",
       "9 -1.945279 -1.264099 -0.816035  ... -0.249821 -1.099008 -2.040666 -3.107655   \n",
       "\n",
       "     att136    att137    att138    att139    att140  Unnamed: 140  \n",
       "0  0.646349  0.796355  1.090618  0.424267 -1.901421             1  \n",
       "1  1.821510  1.167246  0.817841  1.256876  0.165824             1  \n",
       "2 -3.872671 -3.161674 -2.100360 -1.896710 -0.731388             2  \n",
       "3  1.641966  1.603795  1.222840  0.572081  1.062028             1  \n",
       "4 -4.281020 -4.142634 -3.362297 -2.769953 -1.609311             2  \n",
       "5  1.523045  0.781780  0.390808  0.612616 -0.146795             1  \n",
       "6 -3.561135 -3.059398 -1.891961 -1.136140  0.077307             2  \n",
       "7  1.082071  0.799359  0.868221  1.090843 -0.119246             1  \n",
       "8  0.720204  0.724679  0.554332  0.991150  0.886523             1  \n",
       "9 -4.108462 -4.402550 -3.808157 -2.711431 -2.016510             2  \n",
       "\n",
       "[10 rows x 141 columns]"
      ]
     },
     "execution_count": 25,
     "metadata": {},
     "output_type": "execute_result"
    }
   ],
   "source": [
    "#Affichez un aperçu \n",
    "\n",
    "df.head(10)"
   ]
  },
  {
   "cell_type": "markdown",
   "metadata": {
    "colab_type": "text",
    "id": "K_f7F-ipCZNH"
   },
   "source": [
    "Nous avons 5000 exemples. Chaque ligne représente un seul enregistrement de battement de cœur. Nommons les classes possibles et qui sont (en Anglais): \n",
    "\n",
    "- Normal (N)\n",
    "- R-on-T Premature Ventricular Contraction (R-on-T PVC)\n",
    "- Premature Ventricular Contraction (PVC)\n",
    "- Supra-ventricular Premature or Ectopic Beat (SP or EB)\n",
    "- Unclassified Beat (UB)."
   ]
  },
  {
   "cell_type": "markdown",
   "metadata": {},
   "source": [
    "Créer une liste \"class_names\" des (abréviations) des classes ci-dessus: "
   ]
  },
  {
   "cell_type": "code",
   "execution_count": 26,
   "metadata": {
    "colab": {},
    "colab_type": "code",
    "id": "9fcKHB5rcDcm"
   },
   "outputs": [],
   "source": [
    "class_names = ['N', 'R-on-T PVC', 'PVC', 'SP or EB', 'UB']"
   ]
  },
  {
   "cell_type": "markdown",
   "metadata": {
    "colab_type": "text",
    "id": "TFWOyTF3CpgT"
   },
   "source": [
    "Ensuite, nous allons renommer la dernière colonne en `target`, pour que ça soit plus facile de la référencer :"
   ]
  },
  {
   "cell_type": "code",
   "execution_count": 27,
   "metadata": {
    "colab": {},
    "colab_type": "code",
    "id": "6bfjzgJ7YEww"
   },
   "outputs": [],
   "source": [
    "df.columns = [*df.columns[:-1], 'target']"
   ]
  },
  {
   "cell_type": "markdown",
   "metadata": {
    "colab_type": "text",
    "id": "nlf5aVLnjRCz"
   },
   "source": [
    "## Analyse et Exploration des données\n",
    "\n",
    "Vérifions le nombre d'exemples nous avons pour chaque classe de battements de cœur :\n"
   ]
  },
  {
   "cell_type": "code",
   "execution_count": 28,
   "metadata": {
    "colab": {
     "base_uri": "https://localhost:8080/",
     "height": 119
    },
    "colab_type": "code",
    "id": "QBxuqD1cdd2y",
    "outputId": "0746b248-5074-42b1-ce48-a69dce46322e"
   },
   "outputs": [
    {
     "data": {
      "text/plain": [
       "1    2919\n",
       "2    1767\n",
       "4     194\n",
       "3      96\n",
       "5      24\n",
       "Name: target, dtype: int64"
      ]
     },
     "execution_count": 28,
     "metadata": {},
     "output_type": "execute_result"
    }
   ],
   "source": [
    "classe_resum = df['target'].value_counts()\n",
    "classe_resum"
   ]
  },
  {
   "cell_type": "markdown",
   "metadata": {
    "colab_type": "text",
    "id": "2EZVZYCsQKXV"
   },
   "source": [
    "Traçons les résultats avec seaborn\n"
   ]
  },
  {
   "cell_type": "code",
   "execution_count": 32,
   "metadata": {
    "colab": {
     "base_uri": "https://localhost:8080/",
     "height": 506
    },
    "colab_type": "code",
    "id": "wn4s427Sf4eb",
    "outputId": "e2577373-8571-452d-b41c-6b8659ea15d3"
   },
   "outputs": [
    {
     "data": {
      "image/png": "[encoded data removed]",
      "text/plain": [
       "<Figure size 640x480 with 1 Axes>"
      ]
     },
     "metadata": {},
     "output_type": "display_data"
    }
   ],
   "source": [
    "#histogramme présentant le nombre des exemples pour chaque classe \n",
    "\n",
    "ax = sns.countplot(data = df, x = 'target')\n",
    "ax.set_xticklabels(class_names)\n",
    "plt.show()"
   ]
  },
  {
   "cell_type": "markdown",
   "metadata": {
    "colab_type": "text",
    "id": "e2m55fTyRNIf"
   },
   "source": [
    "La classe 'Normale' a, de loin, le plus d'exemples. C'est une bonne chose car nous allons l'utiliser pour entraîner notre modèle.\n",
    "\n",
    "Jetons un coup d'œil à la série temporelle moyenne (lissée avec un écart type en haut et en bas) pour chaque classe. "
   ]
  },
  {
   "cell_type": "code",
   "execution_count": 33,
   "metadata": {
    "colab": {},
    "colab_type": "code",
    "id": "UVvG0vhiU-ju"
   },
   "outputs": [],
   "source": [
    "#Compléter le code suivant: \n",
    "def plot_time_series_class(data, classes, ax, steps = 10):\n",
    "  df = pd.DataFrame(data)\n",
    "\n",
    "  smooth_path = df.rolling(steps).mean()\n",
    "  path_deviation = 2 * df.rolling(steps).std()\n",
    "\n",
    "  under_line = (smooth_path - path_deviation)[0]\n",
    "  over_line = (smooth_path + path_deviation)[0]\n",
    "\n",
    "  ax.plot(smooth_path, linewidth=2)\n",
    "  ax.fill_between(\n",
    "    path_deviation.index,\n",
    "    under_line,\n",
    "    over_line,\n",
    "    alpha=.125\n",
    "  )\n",
    "  ax.set_title(classes)\n"
   ]
  },
  {
   "cell_type": "code",
   "execution_count": 38,
   "metadata": {
    "colab": {
     "base_uri": "https://localhost:8080/",
     "height": 596
    },
    "colab_type": "code",
    "id": "xHaslHZ8JMSk",
    "outputId": "b394badd-9919-4aa7-ee69-8b7f9174484f"
   },
   "outputs": [
    {
     "data": {
      "image/png": "[encoded data removed]",
      "text/plain": [
       "<Figure size 1000x500 with 5 Axes>"
      ]
     },
     "metadata": {},
     "output_type": "display_data"
    }
   ],
   "source": [
    "#  Commenter le code suivant (objectif de chaque instruction)\n",
    "classes = df.target.unique() # classes contient les 5 valeurs distincs de df['target']\n",
    "\n",
    "# On créé un ensemble de graphiques (3 par ligne, 2 lignes). sharey veut dire que tous les digramme ont le meme axe y. La taille de l'ensemble des graphique est de 14 par 8.\n",
    "fig, axs = plt.subplots(\n",
    "  nrows=len(classes) // 3 + 1,\n",
    "  ncols=3,\n",
    "  sharey=True,\n",
    "  figsize=(10, 5)\n",
    ")\n",
    "\n",
    "\n",
    "for i, cls in enumerate(classes): # On itère chaque classe (i sa position dans la liste, cls la classe)\n",
    "  ax = axs.flat[i] # On applatit l'ensemble des graphique (on avait 2 lignes et 3 colonnes, maintenant on a 6 graphique à la suite(pour mieux les parcourir)) et on séléctionne le graphique i\n",
    "  \n",
    "  # On prend le dataframe où la valeur de la colonne 'target' est la classe itéré.\n",
    "  # On ne garde que les données (supprime 'target')\n",
    "  # On calcul la moyenne de chaque colonne\n",
    "  # On convertit le tout en format numpy\n",
    "  data = df[df.target == cls].drop(labels='target', axis=1).mean(axis=0).to_numpy()\n",
    "  \n",
    "  plot_time_series_class(data, class_names[i], ax) # Appelle de la fonction précedente pour créé un graphique et l'intégrer à notre ensemble\n",
    "\n",
    "fig.delaxes(axs.flat[-1]) # On supprime le dernier graphique (vide car 5 classes en sorties mais 6 graphiques initialisés)\n",
    "fig.tight_layout() # On 'compact' l'ensemble des graphiques pour prendre moins de place"
   ]
  },
  {
   "cell_type": "markdown",
   "metadata": {},
   "source": [
    "Interpetez les deux dernières fonctions qu'on a définies"
   ]
  },
  {
   "attachments": {},
   "cell_type": "markdown",
   "metadata": {},
   "source": [
    "```\n",
    "Ces deux fonctions nous permettent de visualiser les séries temporelles pour chaque sortie unique.\n",
    "Des courbes sont créées représentant la moyenne de chaque colonne du dataframe avec une représentation de l'ecart-type en 'zone pâle'. \n",
    "On peut ainsi visualiser quel genre de données donne tel ou tel sortie, en moyenne.\n",
    "```"
   ]
  },
  {
   "cell_type": "markdown",
   "metadata": {
    "colab_type": "text",
    "id": "eFZ3o2F8eUaW"
   },
   "source": [
    "## Détection d'anomalies dans les données ECG\n",
    "\n",
    "Nous allons utiliser des battements de cœur normaux comme données d'entraînement pour notre modèle et enregistrer la *perte de reconstruction*. Mais d'abord, nous devons préparer les données :"
   ]
  },
  {
   "cell_type": "markdown",
   "metadata": {
    "colab_type": "text",
    "id": "QGKKj6fgUV_a"
   },
   "source": [
    "### Prétraitement des données\n",
    "\n",
    "Récupérons tous les battements de cœur normaux et supprimons la colonne cible ('target') :"
   ]
  },
  {
   "cell_type": "code",
   "execution_count": 46,
   "metadata": {},
   "outputs": [
    {
     "name": "stdout",
     "output_type": "stream",
     "text": [
      "<class 'pandas.core.frame.DataFrame'>\n",
      "RangeIndex: 2919 entries, 0 to 2918\n",
      "Columns: 140 entries, att1 to att140\n",
      "dtypes: float64(140)\n",
      "memory usage: 3.1 MB\n"
     ]
    }
   ],
   "source": [
    "normal_df = df[df['target'] == 1].drop('target', axis = 1).reset_index(drop = True)\n",
    "normal_df.info()"
   ]
  },
  {
   "cell_type": "markdown",
   "metadata": {
    "colab_type": "text",
    "id": "PRCZ7uviaI1Y"
   },
   "source": [
    "Nous allons fusionner toutes les autres classes et les marquer comme des anomalies :"
   ]
  },
  {
   "cell_type": "code",
   "execution_count": 47,
   "metadata": {
    "colab": {
     "base_uri": "https://localhost:8080/",
     "height": 34
    },
    "colab_type": "code",
    "id": "xpdXIaDJstD3",
    "outputId": "c65ca508-0bb1-4de4-90c6-9fbad1eda682"
   },
   "outputs": [
    {
     "name": "stdout",
     "output_type": "stream",
     "text": [
      "<class 'pandas.core.frame.DataFrame'>\n",
      "RangeIndex: 2081 entries, 0 to 2080\n",
      "Columns: 140 entries, att1 to att140\n",
      "dtypes: float64(140)\n",
      "memory usage: 2.2 MB\n"
     ]
    }
   ],
   "source": [
    "anomaly_df = df[df['target'] != 1].drop('target', axis=1).reset_index(drop = True)\n",
    "anomaly_df.info()"
   ]
  },
  {
   "cell_type": "markdown",
   "metadata": {
    "colab_type": "text",
    "id": "ILcJJwpda15z"
   },
   "source": [
    "Nous allons diviser les exemples normaux en ensembles de training, de validation et de test :"
   ]
  },
  {
   "cell_type": "code",
   "execution_count": 67,
   "metadata": {
    "colab": {},
    "colab_type": "code",
    "id": "n7kJ7C3IFWIV"
   },
   "outputs": [],
   "source": [
    "#diviser les données de la classe 'normale' en données de 'train' (85%) et de 'validation' (15%) \n",
    "\n",
    "X_train, validation = train_test_split(normal_df, test_size = 0.15, random_state = 1)\n",
    "\n",
    "#Reprendre 1/3 des données de validation pour le 'test' .\n",
    "\n",
    "x_val, x_test = train_test_split(validation, test_size = 1/3, random_state = 1)\n"
   ]
  },
  {
   "cell_type": "code",
   "execution_count": 57,
   "metadata": {},
   "outputs": [
    {
     "name": "stdout",
     "output_type": "stream",
     "text": [
      "train (2481) : 85%\n",
      "val (292) : 10%\n",
      "test (146) : 5%\n"
     ]
    }
   ],
   "source": [
    "print(f\"train ({len(X_train)}) : {round(len(X_train) / normal_df.shape[0] * 100)}%\")\n",
    "print(f\"val ({len(x_val)}) : {round(len(x_val) / normal_df.shape[0] * 100)}%\")\n",
    "print(f\"test ({len(x_test)}) : {round(len(x_test) / normal_df.shape[0] * 100)}%\")"
   ]
  },
  {
   "cell_type": "markdown",
   "metadata": {
    "colab_type": "text",
    "id": "nWasRQ1dcAp4"
   },
   "source": [
    "Nous devons convertir nos exemples en tenseurs ('torch.tensor'), afin de pouvoir les utiliser pour entraîner notre autoencodeur. "
   ]
  },
  {
   "cell_type": "code",
   "execution_count": 68,
   "metadata": {
    "colab": {},
    "colab_type": "code",
    "id": "h2kKiIIeBwKb"
   },
   "outputs": [],
   "source": [
    "#commenter le code suivant (objectif de chaque instruction)\n",
    "\n",
    "def create_dataset(df):\n",
    "\n",
    "# Les valeurs du dataframe sont convertis en float 32 bits, puis le dataframe est transformés en liste numpy ou chaque ligne du dataframe est une liste (donc on a une nested liste numpy)\n",
    "  sequences = df.astype(np.float32).to_numpy().tolist()\n",
    "\n",
    "# Chaque element de 'sequences' (donc des listes) est transormé en tenseur pytorch, puis on ajoute une dimension supplémentaire à chaque tenseur avec 'unsqueeze(1)' et enfin on convertit chaque nombre en float() (encore ?)\n",
    "  dataset = [torch.tensor(s).unsqueeze(1) for s in sequences]\n",
    "\n",
    "# torch.stack(dataset).shape nous donne le nombre total de séquences, la longueur de chaque séquence et le nombre de fonctionnalités dans chaque séquence.\n",
    "  n_seq, seq_len, n_features = torch.stack(dataset).shape\n",
    "\n",
    "  return dataset, seq_len, n_features\n"
   ]
  },
  {
   "cell_type": "markdown",
   "metadata": {
    "colab_type": "text",
    "id": "WT4BekX2g4L_"
   },
   "source": [
    "Chaque série temporelle sera convertie en un tenseur 2D de la forme longueur de la séquence x nombre de caractéristiques (140x1 dans notre cas).\n",
    "**Les dataset à utiliser sont prédéfinis ci-dessous:**"
   ]
  },
  {
   "cell_type": "code",
   "execution_count": 84,
   "metadata": {
    "colab": {},
    "colab_type": "code",
    "id": "Rb1UeUwbjmMD"
   },
   "outputs": [
    {
     "name": "stdout",
     "output_type": "stream",
     "text": [
      "140 1\n",
      "140 1\n",
      "140 1\n",
      "140 1\n"
     ]
    }
   ],
   "source": [
    "train_dataset, seq_len, n_features = create_dataset(X_train)\n",
    "\n",
    "val_dataset, seq_len, n_features = create_dataset(x_val)\n",
    "\n",
    "test_dataset, seq_len, n_features = create_dataset(x_test)\n",
    "\n",
    "test_anomaly_dataset, seq_len, n_features = create_dataset(anomaly_df)\n"
   ]
  },
  {
   "cell_type": "markdown",
   "metadata": {
    "colab_type": "text",
    "id": "gLe1hXvRUSnA"
   },
   "source": [
    "### LSTM Autoencoder\n"
   ]
  },
  {
   "cell_type": "markdown",
   "metadata": {
    "colab_type": "text",
    "id": "SgZpEEzfqxNp"
   },
   "source": [
    "Définir & déderminer l'architecture d'un autoencoder LSTM\n"
   ]
  },
  {
   "attachments": {},
   "cell_type": "markdown",
   "metadata": {},
   "source": [
    "![Image](Autoencoder.jpg)\n",
    "\n",
    "```\n",
    "Dans un réseau autoencoder, les couches cachées sont plus petites que les couches d’entrée. On appelle ce type d’architecture une architecture « bottleneck ». On peut décomposer un auto encodeur en deux parties à gauche et à droite de ce « bottleneck ».\n",
    "\n",
    "La partie gauche s’appelle l’encodeur. L’encodeur transforme l’entrée en une représentation dans un espace de dimension plus faible appelé espace latent. L’encodeur compresse donc l’entrée dans une représentation moins coûteuse.\n",
    "\n",
    "La partie droite est appelée décodeur, car elle doit reconstruire à l’aide de la représentation latente de l’entrée, une sortie la plus fidèle à l’entrée.\n",
    "```"
   ]
  },
  {
   "attachments": {},
   "cell_type": "markdown",
   "metadata": {},
   "source": [
    "Nous utiliserons l'autoencodeur LSTM de ce [dépôt GitHub](https://github.com/shobrook/sequitur) avec quelques petites modifications. Le travail de notre modèle est de reconstruire les données des séries temporelles. Commençons par le *Encodeur* :"
   ]
  },
  {
   "cell_type": "code",
   "execution_count": 73,
   "metadata": {
    "colab": {},
    "colab_type": "code",
    "id": "X_f1WaTJhiXy"
   },
   "outputs": [],
   "source": [
    "class Encoder(torch.nn.Module):\n",
    "  def __init__(self, seq_len, n_features, embedding_dim=64):\n",
    "    super(Encoder, self).__init__()\n",
    "\n",
    "    self.seq_len, self.n_features = seq_len, n_features\n",
    "    self.embedding_dim, self.hidden_dim = embedding_dim, 2 * embedding_dim\n",
    "\n",
    "    self.rnn1 = torch.nn.LSTM(\n",
    "      input_size = n_features,\n",
    "      hidden_size = self.hidden_dim,\n",
    "      num_layers = 1,\n",
    "      batch_first = True\n",
    "    )\n",
    "    \n",
    "    self.rnn2 = torch.nn.LSTM(\n",
    "      input_size = self.hidden_dim,\n",
    "      hidden_size = embedding_dim,\n",
    "      num_layers = 1,\n",
    "      batch_first = True\n",
    "    )\n",
    "\n",
    "  def forward(self, x):\n",
    "    x = x.reshape((1, self.seq_len, self.n_features))\n",
    "\n",
    "    x, (hidden_n, cell_n) = self.rnn1(x)\n",
    "    x, (hidden_n, cell_n) = self.rnn2(x)\n",
    "\n",
    "    return hidden_n.reshape((self.n_features, self.embedding_dim))\n"
   ]
  },
  {
   "cell_type": "markdown",
   "metadata": {},
   "source": [
    "Le *Encoder* utilise deux couches LSTM pour compresser les données de la série temporelle en entrée.\n",
    "Ensuite, nous allons décoder la représentation compressée en utilisant un *Décodeur* :\n",
    "\n",
    "Vous n'avez qu'a comprendre comment coder et décoder! Commentez le programme ci-dessous. "
   ]
  },
  {
   "cell_type": "code",
   "execution_count": 72,
   "metadata": {
    "colab": {},
    "colab_type": "code",
    "id": "AdEft7l3hk6S"
   },
   "outputs": [],
   "source": [
    "class Decoder(torch.nn.Module):\n",
    "\n",
    "# Initialisation des paramètres\n",
    "  def __init__(self, seq_len, n_features=1, input_dim=64):\n",
    "    super(Decoder, self).__init__()\n",
    "\n",
    "    self.seq_len, self.input_dim = seq_len, input_dim # seq_len : longueur de la sequence d'entrée / input_dim : dimension de chaque vector de la sequence d'entrée\n",
    "    self.hidden_dim, self.n_features = 2 * input_dim, n_features # hidden_dim : 2 fois la valeur de input_dim / n_feature : nombre de feature\n",
    "\n",
    "  # Couche LSTM 1\n",
    "    self.rnn1 = torch.nn.LSTM(\n",
    "      input_size = input_dim,\n",
    "      hidden_size = input_dim,\n",
    "      num_layers = 1,\n",
    "      batch_first = True\n",
    "    )\n",
    "\n",
    "  # Couche LSTM 2\n",
    "    self.rnn2 = torch.nn.LSTM(\n",
    "      input_size = input_dim,\n",
    "      hidden_size = self.hidden_dim,\n",
    "      num_layers = 1,\n",
    "      batch_first = True\n",
    "    )\n",
    "\n",
    "  # Couche de sortie\n",
    "    self.output_layer = torch.nn.Linear(self.hidden_dim, n_features)\n",
    "\n",
    "  # Fonction d'execution.\n",
    "  def forward(self, x):\n",
    "    x = x.repeat(self.seq_len, self.n_features) # Le tenseur est cloné 'n_features' fois \n",
    "    x = x.reshape((self.n_features, self.seq_len, self.input_dim)) # Le tenseur est redimensionner \n",
    "\n",
    "    x, (hidden_n, cell_n) = self.rnn1(x) # Le tenseur est donné à la couche 1\n",
    "    x, (hidden_n, cell_n) = self.rnn2(x) # Puis la sortie de la couche 1 est donné à la couche 2\n",
    "    x = x.reshape((self.seq_len, self.hidden_dim)) # Le tenseur est redimensionné\n",
    "\n",
    "    return self.output_layer(x) # On revoit le tenseur passé dans la dernière couche, qui renconstruit l'entrée"
   ]
  },
  {
   "cell_type": "code",
   "execution_count": 77,
   "metadata": {
    "colab": {},
    "colab_type": "code",
    "id": "vgUChGd_A-Bv"
   },
   "outputs": [],
   "source": [
    "class RecurrentAutoencoder(torch.nn.Module):\n",
    "\n",
    "# Initialisation des paramètres\n",
    "  def __init__(self, seq_len, n_features, embedding_dim = 64):\n",
    "    super(RecurrentAutoencoder, self).__init__()\n",
    "\n",
    "    self.encoder = Encoder(seq_len, n_features, embedding_dim) # On donne à l'encoder la longueur de la sequence, le nombre de features et la dimension de l'espace latent\n",
    "    self.decoder = Decoder(seq_len, n_features, embedding_dim) # On donne au decoder la longueur de la sequence, le nombre de features et la dimension de l'espace latent\n",
    "\n",
    "# Fonction d'execution\n",
    "  def forward(self, x):\n",
    "    x = self.encoder(x) # On encode la sequence\n",
    "    x = self.decoder(x) # On decode la sequence\n",
    "\n",
    "    return x # On renvoie la sequence qui est passé dans le LSTM Autoencoder"
   ]
  },
  {
   "cell_type": "markdown",
   "metadata": {
    "colab_type": "text",
    "id": "zT6Cwq78sOrI"
   },
   "source": [
    "Notre Autoencodeur fait passer l'entrée par l'Encodeur et le Décodeur. Créons une instance de celui-ci :"
   ]
  },
  {
   "cell_type": "code",
   "execution_count": 78,
   "metadata": {},
   "outputs": [],
   "source": [
    "train_dataset, seq_len, n_features = create_dataset(X_train)\n",
    "\n",
    "model = RecurrentAutoencoder(seq_len, n_features)"
   ]
  },
  {
   "cell_type": "markdown",
   "metadata": {
    "colab_type": "text",
    "id": "n1ENnubQdnJN"
   },
   "source": [
    "## Training\n",
    "\n",
    "Écrivons une fonction d'aide pour notre processus de training:\n"
   ]
  },
  {
   "cell_type": "code",
   "execution_count": 88,
   "metadata": {
    "colab": {},
    "colab_type": "code",
    "id": "ryEmRvl9DfEj"
   },
   "outputs": [],
   "source": [
    "def train_model(model, train_dataset, val_dataset, n_epochs):\n",
    "    optimizer = torch.optim.Adam(model.parameters(), lr= 1e-3)\n",
    "    criterion = torch.nn.L1Loss(reduction='sum')\n",
    "  \n",
    "    history = dict(train=[], val=[])              \n",
    "\n",
    "    for epoch in range(1, n_epochs + 1):\n",
    "\n",
    "        model = model.train()\n",
    "\n",
    "        train_losses = []\n",
    "\n",
    "        for seq_true in train_dataset:\n",
    "\n",
    "            optimizer.zero_grad()\n",
    "\n",
    "            seq_pred = model(seq_true)\n",
    "\n",
    "            loss = criterion(seq_pred, seq_true) \n",
    "\n",
    "            loss.backward()      \n",
    "            optimizer.step()\n",
    "            train_losses.append(loss.item())\n",
    "\n",
    "        val_losses = []\n",
    "        model = model.eval()\n",
    "\n",
    "        with torch.no_grad(): \n",
    "            for seq_true in val_dataset:\n",
    "                seq_pred = model(seq_true)\n",
    "\n",
    "                loss = criterion(seq_pred, seq_true)\n",
    "\n",
    "                val_losses.append(loss.item())  \n",
    "\n",
    "  \n",
    "        train_loss = np.mean(train_losses)\n",
    "        val_loss = np.mean(val_losses)\n",
    "        history['train'].append(train_loss)\n",
    "        history['val'].append(val_loss)\n",
    "    \n",
    "        print(f'Epoch {epoch}: train loss = {train_loss}, val loss = {val_loss}')\n",
    "\n",
    "    return model.eval(), history"
   ]
  },
  {
   "cell_type": "markdown",
   "metadata": {
    "colab_type": "text",
    "id": "7iWQrzV1ASpW"
   },
   "source": [
    "À chaque étape, le processus de training alimente notre modèle avec tous les exemples de training et évalue les performances sur l'ensemble de validation. Notez que nous utilisons une taille de lot de 1 (notre modèle ne voit qu'une seule séquence à la fois). Nous enregistrons également les pertes des ensembles d'apprentissage et de validation au cours du processus.\n",
    "\n",
    "Notez que nous minimisons la perte L1Loss, qui mesure la MAE (erreur absolue moyenne). Pourquoi ? Les reconstructions semblent être meilleures qu'avec la MSE (erreur quadratique moyenne).\n",
    "\n",
    "Nous obtiendrons la version du modèle avec la plus petite erreur de validation. Faisons un peu d'entraînement :"
   ]
  },
  {
   "cell_type": "code",
   "execution_count": 89,
   "metadata": {
    "colab": {
     "base_uri": "https://localhost:8080/",
     "height": 1000
    },
    "colab_type": "code",
    "id": "saamYyUsHdw0",
    "outputId": "811c91c2-de6e-4215-f331-af9e33799c18"
   },
   "outputs": [
    {
     "name": "stdout",
     "output_type": "stream",
     "text": [
      "Epoch 1: train loss = 49.46361988333626, val loss = 47.0204524797936\n",
      "Epoch 2: train loss = 35.21408532791107, val loss = 30.873773303750443\n",
      "Epoch 3: train loss = 32.1931789014571, val loss = 42.35403693865423\n",
      "Epoch 4: train loss = 31.390756800404386, val loss = 25.538290046665768\n",
      "Epoch 5: train loss = 27.304148730516722, val loss = 27.482923752641025\n",
      "Epoch 6: train loss = 25.54072431459008, val loss = 25.7500164280199\n",
      "Epoch 7: train loss = 24.79159030084022, val loss = 25.241583902541905\n",
      "Epoch 8: train loss = 23.75237082128129, val loss = 22.273566177446547\n",
      "Epoch 9: train loss = 22.79240524341194, val loss = 22.465742336560602\n",
      "Epoch 10: train loss = 22.07704332191009, val loss = 22.604257580352154\n",
      "Epoch 11: train loss = 21.040542659428944, val loss = 21.569807601301637\n",
      "Epoch 12: train loss = 20.13424668048765, val loss = 18.60709228091044\n"
     ]
    },
    {
     "ename": "KeyboardInterrupt",
     "evalue": "",
     "output_type": "error",
     "traceback": [
      "\u001b[1;31m---------------------------------------------------------------------------\u001b[0m",
      "\u001b[1;31mKeyboardInterrupt\u001b[0m                         Traceback (most recent call last)",
      "\u001b[1;32m~\\AppData\\Local\\Temp\\ipykernel_15528\\818275970.py\u001b[0m in \u001b[0;36m<module>\u001b[1;34m\u001b[0m\n\u001b[0;32m      1\u001b[0m \u001b[1;31m#Programme d'entraînement\u001b[0m\u001b[1;33m\u001b[0m\u001b[1;33m\u001b[0m\u001b[0m\n\u001b[0;32m      2\u001b[0m \u001b[1;33m\u001b[0m\u001b[0m\n\u001b[1;32m----> 3\u001b[1;33m \u001b[0mmodel\u001b[0m\u001b[1;33m,\u001b[0m \u001b[0mhistory\u001b[0m \u001b[1;33m=\u001b[0m \u001b[0mtrain_model\u001b[0m\u001b[1;33m(\u001b[0m\u001b[0mmodel\u001b[0m\u001b[1;33m,\u001b[0m \u001b[0mtrain_dataset\u001b[0m\u001b[1;33m,\u001b[0m \u001b[0mval_dataset\u001b[0m\u001b[1;33m,\u001b[0m \u001b[0mn_epochs\u001b[0m\u001b[1;33m=\u001b[0m \u001b[1;36m150\u001b[0m\u001b[1;33m)\u001b[0m\u001b[1;33m\u001b[0m\u001b[1;33m\u001b[0m\u001b[0m\n\u001b[0m",
      "\u001b[1;32m~\\AppData\\Local\\Temp\\ipykernel_15528\\1382698162.py\u001b[0m in \u001b[0;36mtrain_model\u001b[1;34m(model, train_dataset, val_dataset, n_epochs)\u001b[0m\n\u001b[0;32m     19\u001b[0m             \u001b[0mloss\u001b[0m \u001b[1;33m=\u001b[0m \u001b[0mcriterion\u001b[0m\u001b[1;33m(\u001b[0m\u001b[0mseq_pred\u001b[0m\u001b[1;33m,\u001b[0m \u001b[0mseq_true\u001b[0m\u001b[1;33m)\u001b[0m\u001b[1;33m\u001b[0m\u001b[1;33m\u001b[0m\u001b[0m\n\u001b[0;32m     20\u001b[0m \u001b[1;33m\u001b[0m\u001b[0m\n\u001b[1;32m---> 21\u001b[1;33m             \u001b[0mloss\u001b[0m\u001b[1;33m.\u001b[0m\u001b[0mbackward\u001b[0m\u001b[1;33m(\u001b[0m\u001b[1;33m)\u001b[0m\u001b[1;33m\u001b[0m\u001b[1;33m\u001b[0m\u001b[0m\n\u001b[0m\u001b[0;32m     22\u001b[0m             \u001b[0moptimizer\u001b[0m\u001b[1;33m.\u001b[0m\u001b[0mstep\u001b[0m\u001b[1;33m(\u001b[0m\u001b[1;33m)\u001b[0m\u001b[1;33m\u001b[0m\u001b[1;33m\u001b[0m\u001b[0m\n\u001b[0;32m     23\u001b[0m             \u001b[0mtrain_losses\u001b[0m\u001b[1;33m.\u001b[0m\u001b[0mappend\u001b[0m\u001b[1;33m(\u001b[0m\u001b[0mloss\u001b[0m\u001b[1;33m.\u001b[0m\u001b[0mitem\u001b[0m\u001b[1;33m(\u001b[0m\u001b[1;33m)\u001b[0m\u001b[1;33m)\u001b[0m\u001b[1;33m\u001b[0m\u001b[1;33m\u001b[0m\u001b[0m\n",
      "\u001b[1;32m~\\AppData\\Roaming\\Python\\Python39\\site-packages\\torch\\_tensor.py\u001b[0m in \u001b[0;36mbackward\u001b[1;34m(self, gradient, retain_graph, create_graph, inputs)\u001b[0m\n\u001b[0;32m    486\u001b[0m                 \u001b[0minputs\u001b[0m\u001b[1;33m=\u001b[0m\u001b[0minputs\u001b[0m\u001b[1;33m,\u001b[0m\u001b[1;33m\u001b[0m\u001b[1;33m\u001b[0m\u001b[0m\n\u001b[0;32m    487\u001b[0m             )\n\u001b[1;32m--> 488\u001b[1;33m         torch.autograd.backward(\n\u001b[0m\u001b[0;32m    489\u001b[0m             \u001b[0mself\u001b[0m\u001b[1;33m,\u001b[0m \u001b[0mgradient\u001b[0m\u001b[1;33m,\u001b[0m \u001b[0mretain_graph\u001b[0m\u001b[1;33m,\u001b[0m \u001b[0mcreate_graph\u001b[0m\u001b[1;33m,\u001b[0m \u001b[0minputs\u001b[0m\u001b[1;33m=\u001b[0m\u001b[0minputs\u001b[0m\u001b[1;33m\u001b[0m\u001b[1;33m\u001b[0m\u001b[0m\n\u001b[0;32m    490\u001b[0m         )\n",
      "\u001b[1;32m~\\AppData\\Roaming\\Python\\Python39\\site-packages\\torch\\autograd\\__init__.py\u001b[0m in \u001b[0;36mbackward\u001b[1;34m(tensors, grad_tensors, retain_graph, create_graph, grad_variables, inputs)\u001b[0m\n\u001b[0;32m    195\u001b[0m     \u001b[1;31m# some Python versions print out the first line of a multi-line function\u001b[0m\u001b[1;33m\u001b[0m\u001b[1;33m\u001b[0m\u001b[0m\n\u001b[0;32m    196\u001b[0m     \u001b[1;31m# calls in the traceback and some print out the last line\u001b[0m\u001b[1;33m\u001b[0m\u001b[1;33m\u001b[0m\u001b[0m\n\u001b[1;32m--> 197\u001b[1;33m     Variable._execution_engine.run_backward(  # Calls into the C++ engine to run the backward pass\n\u001b[0m\u001b[0;32m    198\u001b[0m         \u001b[0mtensors\u001b[0m\u001b[1;33m,\u001b[0m \u001b[0mgrad_tensors_\u001b[0m\u001b[1;33m,\u001b[0m \u001b[0mretain_graph\u001b[0m\u001b[1;33m,\u001b[0m \u001b[0mcreate_graph\u001b[0m\u001b[1;33m,\u001b[0m \u001b[0minputs\u001b[0m\u001b[1;33m,\u001b[0m\u001b[1;33m\u001b[0m\u001b[1;33m\u001b[0m\u001b[0m\n\u001b[0;32m    199\u001b[0m         allow_unreachable=True, accumulate_grad=True)  # Calls into the C++ engine to run the backward pass\n",
      "\u001b[1;31mKeyboardInterrupt\u001b[0m: "
     ]
    }
   ],
   "source": [
    "#Programme d'entraînement\n",
    "\n",
    "model, history = train_model(model, train_dataset, val_dataset, n_epochs= 150)"
   ]
  },
  {
   "cell_type": "markdown",
   "metadata": {
    "colab_type": "text",
    "id": "X2IGZFBEVJjq"
   },
   "source": [
    "Notre modèle a bien convergé. Il semble que nous aurions eu besoin d'un ensemble de validation plus important pour lisser les résultats, mais cela suffira pour l'instant."
   ]
  },
  {
   "cell_type": "markdown",
   "metadata": {
    "colab_type": "text",
    "id": "pmoaNSERn09J"
   },
   "source": [
    "## Sauvegarder le modèle\n",
    "\n",
    "Stockons le modèle pour une utilisation ultérieure :"
   ]
  },
  {
   "cell_type": "code",
   "execution_count": 90,
   "metadata": {
    "colab": {},
    "colab_type": "code",
    "id": "tLC_ClIpnv9H"
   },
   "outputs": [],
   "source": [
    "torch.save(model, 'model.pth')"
   ]
  },
  {
   "cell_type": "markdown",
   "metadata": {
    "colab_type": "text",
    "id": "EwLujPFXT054"
   },
   "source": [
    "## Choix d'un seuil\n",
    "\n",
    "Avec notre modèle en main, nous pouvons examiner l'erreur de reconstruction sur l'ensemble d'apprentissage. Commençons par écrire une fonction d'aide pour obtenir les prédictions de notre modèle :"
   ]
  },
  {
   "cell_type": "code",
   "execution_count": 91,
   "metadata": {
    "colab": {},
    "colab_type": "code",
    "id": "AAhYZy9bRNLM"
   },
   "outputs": [],
   "source": [
    "def predict(model, dataset):\n",
    "  predictions, losses = [], []\n",
    "  criterion = torch.nn.L1Loss(reduction = 'sum')\n",
    "\n",
    "  with torch.no_grad():\n",
    "    model = model.eval()      \n",
    "    for seq_true in dataset:\n",
    "      seq_pred = model(seq_true)\n",
    "\n",
    "      loss = criterion(seq_pred, seq_true)\n",
    "      \n",
    "      predictions.append(seq_pred.cpu().numpy().flatten())\n",
    "      losses.append(loss.item())\n",
    "\n",
    "  return predictions, losses"
   ]
  },
  {
   "cell_type": "markdown",
   "metadata": {
    "colab_type": "text",
    "id": "wVnNtIreDXf5"
   },
   "source": [
    "Notre fonction passe en revue chaque exemple de l'ensemble de données et enregistre les prédictions et les pertes. Récupérons les pertes et regardons-les :"
   ]
  },
  {
   "cell_type": "code",
   "execution_count": 92,
   "metadata": {
    "colab": {
     "base_uri": "https://localhost:8080/",
     "height": 488
    },
    "colab_type": "code",
    "id": "pvn141SDS33P",
    "outputId": "f6d9f42f-489e-4268-fc3e-368859fffa43"
   },
   "outputs": [],
   "source": [
    "_, losses = predict(model, train_dataset)"
   ]
  },
  {
   "cell_type": "code",
   "execution_count": 94,
   "metadata": {
    "colab": {},
    "colab_type": "code",
    "id": "MjSCtDZ8_xGB"
   },
   "outputs": [
    {
     "data": {
      "text/plain": [
       "<seaborn.axisgrid.FacetGrid at 0x1e6459a3610>"
      ]
     },
     "execution_count": 94,
     "metadata": {},
     "output_type": "execute_result"
    },
    {
     "data": {
      "image/png": "[encoded data removed]",
      "text/plain": [
       "<Figure size 500x500 with 1 Axes>"
      ]
     },
     "metadata": {},
     "output_type": "display_data"
    }
   ],
   "source": [
    "sns.displot(losses, bins= 50, kde= True)"
   ]
  },
  {
   "cell_type": "markdown",
   "metadata": {
    "colab_type": "text",
    "id": "mw2dm631T4a5"
   },
   "source": [
    "## Évaluation\n",
    "\n",
    "En utilisant le seuil, nous pouvons transformer le problème en une simple tâche de classification binaire :\n",
    "\n",
    "- Si la perte de reconstruction pour un exemple est inférieure au seuil, nous le classerons comme un battement de cœur *normal*.\n",
    "- Sinon, si la perte est supérieure au seuil, nous le classerons comme une anomalie."
   ]
  },
  {
   "cell_type": "markdown",
   "metadata": {
    "colab_type": "text",
    "id": "k94t9U3X7uVA"
   },
   "source": [
    "### Battements de coeur normaux\n",
    "\n",
    "Vérifions la performance de notre modèle sur des battements de cœur normaux. Nous utiliserons les battements de cœur normaux de l'ensemble de test (notre modèle ne les a pas vus) :"
   ]
  },
  {
   "cell_type": "code",
   "execution_count": 95,
   "metadata": {
    "colab": {
     "base_uri": "https://localhost:8080/",
     "height": 488
    },
    "colab_type": "code",
    "id": "-z630B5v7Fid",
    "outputId": "38289be7-f326-4759-d1e3-4be4783e3060"
   },
   "outputs": [
    {
     "name": "stderr",
     "output_type": "stream",
     "text": [
      "C:\\Users\\antoine.lecroart\\AppData\\Local\\Temp\\ipykernel_15528\\994026187.py:3: UserWarning: \n",
      "\n",
      "`distplot` is a deprecated function and will be removed in seaborn v0.14.0.\n",
      "\n",
      "Please adapt your code to use either `displot` (a figure-level function with\n",
      "similar flexibility) or `histplot` (an axes-level function for histograms).\n",
      "\n",
      "For a guide to updating your code to use the new functions, please see\n",
      "https://gist.github.com/mwaskom/de44147ed2974457ad6372750bbe5751\n",
      "\n",
      "  sns.distplot(pred_losses, bins= 50, kde= True);\n"
     ]
    },
    {
     "data": {
      "image/png": "[encoded data removed]",
      "text/plain": [
       "<Figure size 640x480 with 1 Axes>"
      ]
     },
     "metadata": {},
     "output_type": "display_data"
    }
   ],
   "source": [
    "predictions, pred_losses = predict(model, test_dataset)\n",
    "\n",
    "sns.distplot(pred_losses, bins= 50, kde= True);"
   ]
  },
  {
   "cell_type": "markdown",
   "metadata": {
    "colab_type": "text",
    "id": "xCmzETkkLLvh"
   },
   "source": [
    "Nous compterons les bonnes prédictions :"
   ]
  },
  {
   "cell_type": "code",
   "execution_count": 96,
   "metadata": {
    "colab": {
     "base_uri": "https://localhost:8080/",
     "height": 34
    },
    "colab_type": "code",
    "id": "BR-hcvUP7OBt",
    "outputId": "9f7c7a5d-e130-483c-e3b9-526697bdf775"
   },
   "outputs": [
    {
     "name": "stdout",
     "output_type": "stream",
     "text": [
      "Correct normal precitions: 144/146\n"
     ]
    }
   ],
   "source": [
    "correct = sum(l <= 40 for l in pred_losses)\n",
    "print(f'Correct normal precitions: {correct}/{len(test_dataset)}')"
   ]
  },
  {
   "cell_type": "markdown",
   "metadata": {
    "colab_type": "text",
    "id": "hYbH8iEz7wmh"
   },
   "source": [
    "### Anomalies"
   ]
  },
  {
   "cell_type": "markdown",
   "metadata": {
    "colab_type": "text",
    "id": "hidyhcu6zC8-"
   },
   "source": [
    "Nous ferons de même avec les exemples d'anomalies, mais leur nombre est beaucoup plus élevé. Nous obtiendrons un sous-ensemble qui a la même taille que les battements de cœur normaux :"
   ]
  },
  {
   "cell_type": "code",
   "execution_count": 97,
   "metadata": {
    "colab": {},
    "colab_type": "code",
    "id": "WJcg5DXWyiep"
   },
   "outputs": [],
   "source": [
    "anomaly_dataset = test_anomaly_dataset[:len(test_dataset)]"
   ]
  },
  {
   "cell_type": "markdown",
   "metadata": {
    "colab_type": "text",
    "id": "gcBoplGU0hR8"
   },
   "source": [
    "Maintenant, nous pouvons prendre les prédictions de notre modèle pour le sous-ensemble d'anomalies :"
   ]
  },
  {
   "cell_type": "code",
   "execution_count": 98,
   "metadata": {},
   "outputs": [
    {
     "name": "stderr",
     "output_type": "stream",
     "text": [
      "C:\\Users\\antoine.lecroart\\AppData\\Local\\Temp\\ipykernel_15528\\1734349305.py:3: UserWarning: \n",
      "\n",
      "`distplot` is a deprecated function and will be removed in seaborn v0.14.0.\n",
      "\n",
      "Please adapt your code to use either `displot` (a figure-level function with\n",
      "similar flexibility) or `histplot` (an axes-level function for histograms).\n",
      "\n",
      "For a guide to updating your code to use the new functions, please see\n",
      "https://gist.github.com/mwaskom/de44147ed2974457ad6372750bbe5751\n",
      "\n",
      "  sns.distplot(pred_losses, bins= 50, kde= True);\n"
     ]
    },
    {
     "data": {
      "image/png": "[encoded data removed]",
      "text/plain": [
       "<Figure size 640x480 with 1 Axes>"
      ]
     },
     "metadata": {},
     "output_type": "display_data"
    }
   ],
   "source": [
    "predictions, pred_losses = predict(model, anomaly_dataset)\n",
    "\n",
    "sns.distplot(pred_losses, bins= 50, kde= True);"
   ]
  },
  {
   "cell_type": "markdown",
   "metadata": {
    "colab_type": "text",
    "id": "EkgGXs4E06so"
   },
   "source": [
    "Enfin, nous pouvons compter le nombre d'exemples au-dessus du seuil (considérés comme des anomalies) :"
   ]
  },
  {
   "cell_type": "code",
   "execution_count": 99,
   "metadata": {
    "colab": {
     "base_uri": "https://localhost:8080/",
     "height": 488
    },
    "colab_type": "code",
    "id": "tLCuS8oL7hG2",
    "outputId": "5944d102-7682-4524-eb8e-4eb025fb8669"
   },
   "outputs": [
    {
     "name": "stdout",
     "output_type": "stream",
     "text": [
      "Correct anomaly precitions: 143/146\n"
     ]
    }
   ],
   "source": [
    "correct = sum(l > 40 for l in pred_losses)\n",
    "print(f'Correct anomaly precitions: {correct}/{len(anomaly_dataset)}')"
   ]
  },
  {
   "cell_type": "markdown",
   "metadata": {
    "colab_type": "text",
    "id": "v0PfwvTZ23_s"
   },
   "source": [
    "Nous obtenons de très bons résultats. Dans le monde réel, vous pouvez modifier le seuil en fonction du type d'erreurs que vous souhaitez tolérer. Dans ce cas, vous pourriez vouloir avoir plus de faux positifs (battements de cœur normaux considérés comme des anomalies) que de faux négatifs (anomalies considérées comme normales)."
   ]
  }
 ],
 "metadata": {
  "accelerator": "GPU",
  "colab": {
   "collapsed_sections": [],
   "name": "06.time-series-anomaly-detection-ecg.ipynb",
   "provenance": []
  },
  "kernelspec": {
   "display_name": "Python 3 (ipykernel)",
   "language": "python",
   "name": "python3"
  },
  "language_info": {
   "codemirror_mode": {
    "name": "ipython",
    "version": 3
   },
   "file_extension": ".py",
   "mimetype": "text/x-python",
   "name": "python",
   "nbconvert_exporter": "python",
   "pygments_lexer": "ipython3",
   "version": "3.9.16"
  }
 },
 "nbformat": 4,
 "nbformat_minor": 1
}
