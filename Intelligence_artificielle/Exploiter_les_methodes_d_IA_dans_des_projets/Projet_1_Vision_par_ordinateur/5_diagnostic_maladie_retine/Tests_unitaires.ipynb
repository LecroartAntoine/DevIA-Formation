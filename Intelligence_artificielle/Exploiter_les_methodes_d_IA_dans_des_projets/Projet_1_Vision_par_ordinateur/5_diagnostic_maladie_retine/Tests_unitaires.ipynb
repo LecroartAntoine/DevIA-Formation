{
 "cells": [
  {
   "cell_type": "markdown",
   "metadata": {},
   "source": [
    "# Tests Unitaires Local"
   ]
  },
  {
   "cell_type": "markdown",
   "metadata": {},
   "source": [
    "---\n",
    "---\n",
    "\n",
    "## Imports"
   ]
  },
  {
   "cell_type": "code",
   "execution_count": 1,
   "metadata": {},
   "outputs": [
    {
     "name": "stdout",
     "output_type": "stream",
     "text": [
      "WARNING:tensorflow:From c:\\Users\\lanto\\AppData\\Local\\Programs\\Python\\Python39\\lib\\site-packages\\keras\\src\\losses.py:2976: The name tf.losses.sparse_softmax_cross_entropy is deprecated. Please use tf.compat.v1.losses.sparse_softmax_cross_entropy instead.\n",
      "\n"
     ]
    }
   ],
   "source": [
    "import numpy as np\n",
    "from keras.preprocessing import image\n",
    "from keras.models import load_model\n",
    "import os, requests"
   ]
  },
  {
   "cell_type": "markdown",
   "metadata": {},
   "source": [
    "---\n",
    "\n",
    "## Test du modèle"
   ]
  },
  {
   "cell_type": "code",
   "execution_count": 1,
   "metadata": {},
   "outputs": [
    {
     "ename": "NameError",
     "evalue": "name 'load_model' is not defined",
     "output_type": "error",
     "traceback": [
      "\u001b[1;31m---------------------------------------------------------------------------\u001b[0m",
      "\u001b[1;31mNameError\u001b[0m                                 Traceback (most recent call last)",
      "Cell \u001b[1;32mIn[1], line 3\u001b[0m\n\u001b[0;32m      1\u001b[0m CLASSES \u001b[38;5;241m=\u001b[39m {\u001b[38;5;124m'\u001b[39m\u001b[38;5;124mCNV\u001b[39m\u001b[38;5;124m'\u001b[39m: \u001b[38;5;241m0\u001b[39m, \u001b[38;5;124m'\u001b[39m\u001b[38;5;124mDME\u001b[39m\u001b[38;5;124m'\u001b[39m: \u001b[38;5;241m1\u001b[39m, \u001b[38;5;124m'\u001b[39m\u001b[38;5;124mDRUSEN\u001b[39m\u001b[38;5;124m'\u001b[39m: \u001b[38;5;241m2\u001b[39m, \u001b[38;5;124m'\u001b[39m\u001b[38;5;124mNORMAL\u001b[39m\u001b[38;5;124m'\u001b[39m: \u001b[38;5;241m3\u001b[39m}\n\u001b[1;32m----> 3\u001b[0m model \u001b[38;5;241m=\u001b[39m \u001b[43mload_model\u001b[49m(\u001b[38;5;124m'\u001b[39m\u001b[38;5;124m./retinal-oct.h5\u001b[39m\u001b[38;5;124m'\u001b[39m)\n\u001b[0;32m      5\u001b[0m all_preds \u001b[38;5;241m=\u001b[39m {}\n\u001b[0;32m      6\u001b[0m \u001b[38;5;28;01mfor\u001b[39;00m file \u001b[38;5;129;01min\u001b[39;00m os\u001b[38;5;241m.\u001b[39mlistdir(\u001b[38;5;124m\"\u001b[39m\u001b[38;5;124m./Test_data\u001b[39m\u001b[38;5;124m\"\u001b[39m):\n",
      "\u001b[1;31mNameError\u001b[0m: name 'load_model' is not defined"
     ]
    }
   ],
   "source": [
    "CLASSES = {'CNV': 0, 'DME': 1, 'DRUSEN': 2, 'NORMAL': 3}\n",
    "\n",
    "model = load_model('./retinal-oct.h5')\n",
    "\n",
    "all_preds = {}\n",
    "for file in os.listdir(\"./Test_data\"):\n",
    "    test_image = image.load_img(f\"./Test_data/{file}\", target_size = (224, 224))\n",
    "    test_image = image.img_to_array(test_image)\n",
    "    test_image = np.expand_dims(test_image, axis = 0)\n",
    "    test_image = test_image / 255.0\n",
    "\n",
    "\n",
    "    result = model.predict(test_image, verbose=0)\n",
    "    pred = {}\n",
    "    for i, key in enumerate(CLASSES):\n",
    "        pred[key] = result[0][i]\n",
    "    all_preds[file] = pred\n",
    "\n",
    "compare = {}\n",
    "for key in all_preds:\n",
    "    # print(f\"True : {key.split('-')[0]} ==> Pred : {max(all_preds[key], key=all_preds[key].get)}\")\n",
    "    compare[key] = max(all_preds[key], key=all_preds[key].get)\n",
    "\n",
    "precision = {'CNV' : 0, 'DME' : 0, 'DRUSEN' : 0, 'NORMAL' : 0}\n",
    "for key in compare:\n",
    "    classe = key.split('-')[0]\n",
    "    if classe == 'CNV' and classe == compare[key]:\n",
    "        precision['CNV'] += 1\n",
    "        \n",
    "    elif classe ==  'DME' and classe == compare[key]:\n",
    "        precision['DME'] += 1\n",
    "\n",
    "    elif classe == 'DRUSEN' and classe == compare[key]:\n",
    "        precision['DRUSEN'] += 1\n",
    "\n",
    "    elif classe == 'NORMAL' and classe == compare[key]:\n",
    "        precision['NORMAL'] += 1\n",
    "\n",
    "\n",
    "for key in precision:\n",
    "    precision[key] = (precision[key]/(len(compare)/4))*100\n",
    "\n",
    "for key in precision:\n",
    "    print(f\"Precision de la classe {key} : {precision[key]}%\")"
   ]
  },
  {
   "cell_type": "markdown",
   "metadata": {},
   "source": [
    "---\n",
    "\n",
    "## Test de l'API"
   ]
  },
  {
   "cell_type": "code",
   "execution_count": 2,
   "metadata": {},
   "outputs": [],
   "source": [
    "res = requests.post(\"https://retinal-oct.azurewebsites.net/api/pred?code=IJFVm8oQBMandrApZ6eARiBmomCXQb0ruRgtak4W1rocAzFukgMJQA==\")"
   ]
  }
 ],
 "metadata": {
  "kernelspec": {
   "display_name": "Python 3",
   "language": "python",
   "name": "python3"
  },
  "language_info": {
   "codemirror_mode": {
    "name": "ipython",
    "version": 3
   },
   "file_extension": ".py",
   "mimetype": "text/x-python",
   "name": "python",
   "nbconvert_exporter": "python",
   "pygments_lexer": "ipython3",
   "version": "3.9.13"
  }
 },
 "nbformat": 4,
 "nbformat_minor": 2
}
