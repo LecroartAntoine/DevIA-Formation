{
 "cells": [
  {
   "cell_type": "markdown",
   "metadata": {},
   "source": [
    "# Detection d'objet sur une video"
   ]
  },
  {
   "cell_type": "code",
   "execution_count": null,
   "metadata": {},
   "outputs": [],
   "source": [
    "import cv2,random\n",
    "import numpy as np\n",
    "from ultralytics import YOLO"
   ]
  },
  {
   "attachments": {},
   "cell_type": "markdown",
   "metadata": {},
   "source": [
    "**initialiser yolo**"
   ]
  },
  {
   "cell_type": "code",
   "execution_count": null,
   "metadata": {},
   "outputs": [],
   "source": [
    "yolo = YOLO(model=\"yolov8n.pt\")"
   ]
  },
  {
   "attachments": {},
   "cell_type": "markdown",
   "metadata": {},
   "source": [
    "### Detection d'objet en temps réel"
   ]
  },
  {
   "cell_type": "code",
   "execution_count": null,
   "metadata": {},
   "outputs": [],
   "source": [
    "cap = cv2.VideoCapture(0)\n",
    "\n",
    "# dictionnaire pour stocker la couleur pour chaque classe\n",
    "color_dict = {}\n",
    "\n",
    "\n",
    "while True:\n",
    "    #Recupere chaque frame de la camera\n",
    "    _,frame = cap.read()\n",
    "    #Recupere le resultat pour chaque frame \n",
    "    results = yolo(source=frame, verbose=False)\n",
    "    \n",
    "    for result in results:\n",
    "        boxes = result.boxes.xyxy\n",
    "        confidences = result.boxes.conf\n",
    "        class_labels = result.boxes.cls\n",
    "    \n",
    "        for i in range(len(boxes)):\n",
    "            box = boxes[i] # Donne les coordonnées de chaque box\n",
    "            confidence = confidences[i] # Donne le score de confiance\n",
    "            class_label = class_labels[i] # Donne le nom de l'objet detecté\n",
    "\n",
    "            if confidence > 0.5:\n",
    "                if yolo.names[int(class_label)] not in color_dict:\n",
    "                    color_dict[yolo.names[int(class_label)]] = [random.randint(0, 255), random.randint(0, 255), random.randint(0, 255)]\n",
    "                color = color_dict[yolo.names[int(class_label)]]                \n",
    "                # Recuperer les coordonnées de la box \n",
    "                x_min,y_min,x_max,y_max = (int(x) for x in box.tolist()[:4])\n",
    "                #Dessiner la box autour de l'objet\n",
    "                cv2.rectangle(frame,(x_min,y_min),(x_max,y_max),color,2)\n",
    "\n",
    "                \n",
    "                # écrire l'étiquette de classe et le score de confiance\n",
    "                cv2.putText(frame, f\"{yolo.names[int(class_label)]} {confidence:.2f}\", (x_min, y_min-10), cv2.FONT_HERSHEY_SIMPLEX, 0.5, color, 2)\n",
    "                \n",
    "                \n",
    "                \n",
    "                \n",
    "                \n",
    "                \n",
    "    cv2.imshow(\"frame\",frame)\n",
    "    key = cv2.waitKey(1)\n",
    "    if key == ord('q'):\n",
    "        break\n",
    "\n",
    "cap.release()\n",
    "cv2.destroyAllWindows()"
   ]
  }
 ],
 "metadata": {
  "kernelspec": {
   "display_name": "yolov8",
   "language": "python",
   "name": "python3"
  },
  "language_info": {
   "codemirror_mode": {
    "name": "ipython",
    "version": 3
   },
   "file_extension": ".py",
   "mimetype": "text/x-python",
   "name": "python",
   "nbconvert_exporter": "python",
   "pygments_lexer": "ipython3",
   "version": "3.9.16"
  },
  "orig_nbformat": 4,
  "vscode": {
   "interpreter": {
    "hash": "964e6873c3b33b715e25da504426972b9a81b1699f47671c359c175e2fae8d09"
   }
  }
 },
 "nbformat": 4,
 "nbformat_minor": 2
}
