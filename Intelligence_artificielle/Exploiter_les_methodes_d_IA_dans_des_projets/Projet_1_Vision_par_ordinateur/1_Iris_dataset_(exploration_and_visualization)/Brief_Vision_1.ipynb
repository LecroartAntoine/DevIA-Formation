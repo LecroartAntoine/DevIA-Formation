{
 "cells": [
  {
   "cell_type": "markdown",
   "id": "fa9b2df8",
   "metadata": {},
   "source": [
    "# Iris dataset : exploration and visualization\n",
    "![image info](https://miro.medium.com/max/1400/1*f6KbPXwksAliMIsibFyGJw.png)\n",
    "\n",
    "Ref: https://towardsdatascience.com/the-iris-dataset-a-little-bit-of-history-and-biology-fb4812f5a7b5\n",
    "\n",
    "As shown in the figure above, there are indeed morphological similarities between the three flowers. In this notebook, we will explore the different measurements related to these flowers, and see if we can discriminate the type of flower based on these measurements.\n",
    "\n",
    "\n",
    "In this notebook you will learn:\n",
    "* Examining a data type images\n",
    "* Indexing and selecting segments/slices from our DataFrame\n",
    "* Descriptive statistics on data type images\n",
    "* Filtering using boolean operations"
   ]
  },
  {
   "cell_type": "markdown",
   "id": "b8d18281-c683-439c-8326-0dcf474a6d7a",
   "metadata": {},
   "source": [
    "## Load data\n",
    "upload the csv file in the brief and put it in the same directory as this notebook."
   ]
  },
  {
   "cell_type": "code",
   "execution_count": null,
   "id": "62852a19-159c-40a5-b99c-c12f0f2bb265",
   "metadata": {},
   "outputs": [],
   "source": [
    "# load pandas library \n",
    "import pandas as pd"
   ]
  },
  {
   "cell_type": "code",
   "execution_count": null,
   "id": "8fe8b263-f22f-40b0-b6ab-8ed1193bd4fd",
   "metadata": {},
   "outputs": [],
   "source": [
    "# Use the read_csv method to read the file\n",
    "with open(\"iris_csv.csv\", \"r\") as file:\n",
    "    df = pd.read_csv(file)\n"
   ]
  },
  {
   "cell_type": "code",
   "execution_count": null,
   "id": "1d889024-c24d-46d1-ad63-74e74fcb6df2",
   "metadata": {},
   "outputs": [],
   "source": [
    "# display the header of the df dataframe using the .head() method\n",
    "df.head()"
   ]
  },
  {
   "cell_type": "code",
   "execution_count": null,
   "id": "419dd588-1a57-4e3b-8ac2-49fcd38886ba",
   "metadata": {},
   "outputs": [],
   "source": [
    "# Explore the data using summary statistics, use the .describe() method\n",
    "df.describe()"
   ]
  },
  {
   "cell_type": "code",
   "execution_count": null,
   "id": "4687a909-19bb-47aa-9c8c-34c4ff0ecc09",
   "metadata": {},
   "outputs": [],
   "source": [
    "# display the names of the columns.\n",
    "df.columns"
   ]
  },
  {
   "cell_type": "code",
   "execution_count": null,
   "id": "4b17a21a-9aaa-4e81-9707-e2e2f780326b",
   "metadata": {},
   "outputs": [],
   "source": [
    "# show 2nd column\n",
    "df.sepal_width"
   ]
  },
  {
   "cell_type": "markdown",
   "id": "77f034b5-b4c1-4696-884a-a022bb378931",
   "metadata": {},
   "source": [
    "## Indexing and selection of segments/slices in our DataFrame\n",
    "\n"
   ]
  },
  {
   "cell_type": "code",
   "execution_count": null,
   "id": "e6e12839-cbb2-4ab1-a5d2-654bf8ad309f",
   "metadata": {},
   "outputs": [],
   "source": [
    "# create a sub_df with two columns \"sepal_length\" and \"class\"\n",
    "sub_df = df[[\"sepal_length\", \"flower\"]]\n",
    "sub_df"
   ]
  },
  {
   "cell_type": "code",
   "execution_count": null,
   "id": "51702711-5a7e-4ec1-a22b-34440472f3bc",
   "metadata": {},
   "outputs": [],
   "source": [
    "# take the first 10 rows of the petal_length column in a sub_df2 dataframe\n",
    "sub_df2 = df[\"petal_length\"].head(10)\n",
    "sub_df2"
   ]
  },
  {
   "cell_type": "code",
   "execution_count": null,
   "id": "f2809fe6-b650-43bc-8c6b-6b191d873d2a",
   "metadata": {},
   "outputs": [],
   "source": [
    "# get all the instances with \"sepal_length\" > 5\n",
    "df[df[\"sepal_length\"] > 5]"
   ]
  },
  {
   "cell_type": "markdown",
   "id": "3c703a39-9a13-40e7-b2c3-0919b7ef5355",
   "metadata": {},
   "source": [
    "## Descriptive statistics on DataFrames\n"
   ]
  },
  {
   "cell_type": "code",
   "execution_count": null,
   "id": "6d67bebf-16d2-4443-b4c8-b56be493dca5",
   "metadata": {},
   "outputs": [],
   "source": [
    "# calculate the max, min, mean of the sepal_width column\n",
    "df.sepal_width.describe()"
   ]
  },
  {
   "cell_type": "code",
   "execution_count": null,
   "id": "96c72f83-d6c5-4a69-b1ab-d33f25670791",
   "metadata": {},
   "outputs": [],
   "source": [
    "# calculate the sum of the values in column 2\n",
    "df.sepal_width.sum()"
   ]
  },
  {
   "cell_type": "code",
   "execution_count": null,
   "id": "3bf12f39-9be8-4800-962d-cdbdef7cea3f",
   "metadata": {},
   "outputs": [],
   "source": [
    "# calculate the maximum value of each instance of the 4 columns \"sepallength\",\"sepalwidth\", \"petallength\", \"petalwidth\"\n",
    "df.drop(\"flower\", axis = 1).max()"
   ]
  },
  {
   "cell_type": "code",
   "execution_count": null,
   "id": "47f83f28-7e34-4ebc-954e-e80462221855",
   "metadata": {},
   "outputs": [],
   "source": [
    "# check that the maximum value is always the one of \"sepal_length\"\n",
    "df.drop(\"flower\", axis = 1).idxmax(axis=1).value_counts()"
   ]
  },
  {
   "cell_type": "code",
   "execution_count": null,
   "id": "2ef6d382",
   "metadata": {},
   "outputs": [],
   "source": [
    "# Are there any missing values in the database?\n",
    "df.isnull().value_counts()"
   ]
  },
  {
   "cell_type": "code",
   "execution_count": null,
   "id": "52008755",
   "metadata": {},
   "outputs": [],
   "source": [
    "# display flower types in Iris dataset (hint the type is unique)\n",
    "df.flower.unique()"
   ]
  },
  {
   "cell_type": "code",
   "execution_count": null,
   "id": "d0d0dfa7",
   "metadata": {},
   "outputs": [],
   "source": [
    "# how many flowers for each type\n",
    "df.flower.value_counts()"
   ]
  },
  {
   "cell_type": "code",
   "execution_count": null,
   "id": "b88823bf",
   "metadata": {},
   "outputs": [],
   "source": [
    "# what is the average by type for each column (\"sepalength\", \"sepalwidth\", \"petallength\", \"petalwidth\")\n",
    "df.groupby('flower').mean()"
   ]
  },
  {
   "cell_type": "markdown",
   "id": "a23851d4",
   "metadata": {},
   "source": [
    "## Visualization"
   ]
  },
  {
   "cell_type": "code",
   "execution_count": null,
   "id": "7ab848fb-21c2-4bc1-9fd6-cc18e638d1cb",
   "metadata": {},
   "outputs": [],
   "source": [
    "# load the library matplotlib.pyplot\n",
    "import matplotlib.pyplot as plt"
   ]
  },
  {
   "cell_type": "code",
   "execution_count": null,
   "id": "c6942c8e",
   "metadata": {},
   "outputs": [],
   "source": [
    "# display the number of instances in each class by a bar chart\n",
    "df.flower.value_counts().plot.bar(xlabel = 'Class', ylabel = 'Count')"
   ]
  },
  {
   "cell_type": "code",
   "execution_count": null,
   "id": "c682a301-f9c6-4dec-bab4-0492e782d756",
   "metadata": {},
   "outputs": [],
   "source": [
    "# display a scatter plot between x: \"sepal_length\", and y: \"petal_length\", \n",
    "# where each flower type has its own color\n",
    "\n",
    "import seaborn as sns\n",
    "\n",
    "sns.scatterplot(x='sepal_length', y='petal_length', hue='flower', data=df)"
   ]
  },
  {
   "cell_type": "markdown",
   "id": "9fdb1b8a",
   "metadata": {},
   "source": [
    "Bravo !"
   ]
  }
 ],
 "metadata": {
  "kernelspec": {
   "display_name": "base",
   "language": "python",
   "name": "python3"
  },
  "language_info": {
   "codemirror_mode": {
    "name": "ipython",
    "version": 3
   },
   "file_extension": ".py",
   "mimetype": "text/x-python",
   "name": "python",
   "nbconvert_exporter": "python",
   "pygments_lexer": "ipython3",
   "version": "3.9.15"
  },
  "toc": {
   "base_numbering": 1,
   "nav_menu": {},
   "number_sections": true,
   "sideBar": true,
   "skip_h1_title": false,
   "title_cell": "Table of Contents",
   "title_sidebar": "Contents",
   "toc_cell": false,
   "toc_position": {},
   "toc_section_display": true,
   "toc_window_display": false
  },
  "varInspector": {
   "cols": {
    "lenName": 16,
    "lenType": 16,
    "lenVar": 40
   },
   "kernels_config": {
    "python": {
     "delete_cmd_postfix": "",
     "delete_cmd_prefix": "del ",
     "library": "var_list.py",
     "varRefreshCmd": "print(var_dic_list())"
    },
    "r": {
     "delete_cmd_postfix": ") ",
     "delete_cmd_prefix": "rm(",
     "library": "var_list.r",
     "varRefreshCmd": "cat(var_dic_list()) "
    }
   },
   "types_to_exclude": [
    "module",
    "function",
    "builtin_function_or_method",
    "instance",
    "_Feature"
   ],
   "window_display": false
  },
  "vscode": {
   "interpreter": {
    "hash": "45bb1cb4637e4034484920e5cfb24c9afd84b0847d6c36e39edd3067d3a05462"
   }
  }
 },
 "nbformat": 4,
 "nbformat_minor": 5
}
