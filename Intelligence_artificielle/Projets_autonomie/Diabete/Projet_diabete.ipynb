{
 "cells": [
  {
   "attachments": {},
   "cell_type": "markdown",
   "metadata": {},
   "source": [
    "# Projet prédiction diabète"
   ]
  },
  {
   "attachments": {},
   "cell_type": "markdown",
   "metadata": {},
   "source": [
    "## Import des librairies"
   ]
  },
  {
   "cell_type": "code",
   "execution_count": null,
   "metadata": {},
   "outputs": [],
   "source": [
    "# Analyse\n",
    "import pandas as pd\n",
    "import matplotlib.pyplot as plt\n",
    "import seaborn as sns\n",
    "import numpy as np\n",
    "\n",
    "# Evaluation\n",
    "from sklearn.model_selection import train_test_split\n",
    "from sklearn.metrics import confusion_matrix\n",
    "from sklearn.metrics import classification_report\n",
    "from sklearn.metrics import accuracy_score\n",
    "\n",
    "# Models\n",
    "from sklearn.linear_model import LogisticRegression\n",
    "from sklearn.ensemble import RandomForestClassifier\n",
    "from sklearn.svm import SVC\n",
    "from sklearn.ensemble import GradientBoostingClassifier\n",
    "from sklearn.neighbors import KNeighborsClassifier"
   ]
  },
  {
   "attachments": {},
   "cell_type": "markdown",
   "metadata": {},
   "source": [
    "## Import des données"
   ]
  },
  {
   "cell_type": "code",
   "execution_count": null,
   "metadata": {},
   "outputs": [],
   "source": [
    "df = pd.read_csv(\"diabetes.csv\")\n",
    "df"
   ]
  },
  {
   "attachments": {},
   "cell_type": "markdown",
   "metadata": {},
   "source": [
    "## Analyse du dataset"
   ]
  },
  {
   "cell_type": "code",
   "execution_count": null,
   "metadata": {},
   "outputs": [],
   "source": [
    "df.info()"
   ]
  },
  {
   "cell_type": "code",
   "execution_count": null,
   "metadata": {},
   "outputs": [],
   "source": [
    "df.describe()"
   ]
  },
  {
   "cell_type": "code",
   "execution_count": null,
   "metadata": {},
   "outputs": [],
   "source": [
    "fig, axes = plt.subplots(nrows = 2, ncols = 4, figsize = (20, 10))\n",
    "\n",
    "for col, axe in zip(df.columns[:-1], axes.flatten()):\n",
    "    axe.boxplot(df[col])\n",
    "    axe.set_title(col)"
   ]
  },
  {
   "attachments": {},
   "cell_type": "markdown",
   "metadata": {},
   "source": [
    "## Management valeurs aberrantes        "
   ]
  },
  {
   "cell_type": "code",
   "execution_count": null,
   "metadata": {},
   "outputs": [],
   "source": [
    "# Remplacement des 0 par NaN\n",
    "df['BMI'] = df['BMI'].replace(0, np.NaN)\n",
    "df['BloodPressure'] = df['BloodPressure'].replace(0, np.NaN)\n",
    "df['SkinThickness'] = df['SkinThickness'].replace(0, np.NaN)\n",
    "df['Insulin'] = df['Insulin'].replace(0, np.NaN)\n",
    "df['Glucose'] = df['Glucose'].replace(0, np.NaN)"
   ]
  },
  {
   "cell_type": "code",
   "execution_count": null,
   "metadata": {},
   "outputs": [],
   "source": [
    "# Remplacement des NaNs par la moyenne par rapport à la sortie\n",
    "df['BMI'] = df.groupby('Outcome')['BMI'].transform(lambda x: x.fillna(x.mean()))\n",
    "df['BloodPressure'] = df.groupby('Outcome')['BloodPressure'].transform(lambda x: x.fillna(x.mean()))\n",
    "df['SkinThickness'] = df.groupby('Outcome')['SkinThickness'].transform(lambda x: x.fillna(x.mean()))\n",
    "df['Insulin'] = df.groupby('Outcome')['Insulin'].transform(lambda x: x.fillna(x.mean()))\n",
    "df['Glucose'] = df.groupby('Outcome')['Glucose'].transform(lambda x: x.fillna(x.mean()))"
   ]
  },
  {
   "attachments": {},
   "cell_type": "markdown",
   "metadata": {},
   "source": [
    "## Tests Modèles"
   ]
  },
  {
   "attachments": {},
   "cell_type": "markdown",
   "metadata": {},
   "source": [
    "### Train split"
   ]
  },
  {
   "cell_type": "code",
   "execution_count": null,
   "metadata": {},
   "outputs": [],
   "source": [
    "x = df.drop(['Outcome'], axis = 1)\n",
    "\n",
    "y = df['Outcome']"
   ]
  },
  {
   "cell_type": "code",
   "execution_count": null,
   "metadata": {},
   "outputs": [],
   "source": [
    "x_train, x_test, y_train, y_test = train_test_split(x, y, test_size = 0.2)"
   ]
  },
  {
   "attachments": {},
   "cell_type": "markdown",
   "metadata": {},
   "source": [
    "### Log Reg"
   ]
  },
  {
   "cell_type": "code",
   "execution_count": null,
   "metadata": {},
   "outputs": [],
   "source": [
    "logReg = LogisticRegression()\n",
    "\n",
    "logReg.fit(x_test, y_test)\n",
    "\n",
    "y_pred = logReg.predict(x_test)\n",
    "\n",
    "print(f\"Matrice de confusion: \\n{confusion_matrix(y_test, y_pred)}\\n\")\n",
    "\n",
    "print(classification_report(y_test, y_pred))"
   ]
  },
  {
   "attachments": {},
   "cell_type": "markdown",
   "metadata": {},
   "source": [
    "### Random Forest"
   ]
  },
  {
   "cell_type": "code",
   "execution_count": null,
   "metadata": {},
   "outputs": [],
   "source": [
    "forest = RandomForestClassifier(n_estimators = 100)\n",
    "\n",
    "forest.fit(x_train, y_train)\n",
    "\n",
    "y_pred = forest.predict(x_test)\n",
    "\n",
    "print(f\"Matrice de confusion: \\n{confusion_matrix(y_test, y_pred)}\\n\")\n",
    "\n",
    "print(classification_report(y_test, y_pred))"
   ]
  },
  {
   "cell_type": "code",
   "execution_count": null,
   "metadata": {},
   "outputs": [],
   "source": [
    "importances = forest.feature_importances_\n",
    "colones = df.drop(['Outcome'], axis = 1).columns.values.tolist()\n",
    "\n",
    "imp_df = pd.DataFrame()\n",
    "\n",
    "imp_df['feature'] = colones\n",
    "imp_df['importance'] = importances\n",
    "\n",
    "imp_df.sort_values('importance', axis = 0, ascending = False, inplace = True)\n",
    "\n",
    "imp_df.plot.bar(x = 'feature', y = 'importance', rot = 90)"
   ]
  },
  {
   "attachments": {},
   "cell_type": "markdown",
   "metadata": {},
   "source": [
    "### SVM"
   ]
  },
  {
   "cell_type": "code",
   "execution_count": null,
   "metadata": {},
   "outputs": [],
   "source": [
    "clf = SVC()\n",
    "clf.fit(x_train, y_train)\n",
    "y_pred = clf.predict(x_test)\n",
    "\n",
    "print(f\"Matrice de confusion: \\n{confusion_matrix(y_test, y_pred)}\\n\")\n",
    "\n",
    "print(classification_report(y_test, y_pred))"
   ]
  },
  {
   "attachments": {},
   "cell_type": "markdown",
   "metadata": {},
   "source": [
    "### XGBoost"
   ]
  },
  {
   "cell_type": "code",
   "execution_count": null,
   "metadata": {},
   "outputs": [],
   "source": [
    "xg_boost = GradientBoostingClassifier()\n",
    "xg_boost.fit(x_train, y_train)\n",
    "y_pred = xg_boost.predict(x_test)\n",
    "\n",
    "print(f\"Matrice de confusion: \\n{confusion_matrix(y_test, y_pred)}\\n\")\n",
    "\n",
    "print(classification_report(y_test, y_pred))"
   ]
  },
  {
   "attachments": {},
   "cell_type": "markdown",
   "metadata": {},
   "source": [
    "### KNeighborsClassifier"
   ]
  },
  {
   "cell_type": "code",
   "execution_count": null,
   "metadata": {},
   "outputs": [],
   "source": [
    "best_score = 0\n",
    "for i in range(1, 20):\n",
    "    knn = KNeighborsClassifier(n_neighbors=i)\n",
    "    knn.fit(x_train, y_train)\n",
    "    y_pred = knn.predict(x_test)\n",
    "\n",
    "    score = round(accuracy_score(y_test, y_pred), 3) * 100\n",
    "\n",
    "    if score > best_score:\n",
    "        best_score = round(accuracy_score(y_test, y_pred), 3) * 100\n",
    "        best_n = i\n",
    "\n",
    "print(best_n)"
   ]
  },
  {
   "cell_type": "code",
   "execution_count": null,
   "metadata": {},
   "outputs": [],
   "source": [
    "knn = KNeighborsClassifier(best_n)\n",
    "knn.fit(x_train, y_train)\n",
    "y_pred = knn.predict(x_test)\n",
    "\n",
    "print(f\"Matrice de confusion: \\n{confusion_matrix(y_test, y_pred)}\\n\")\n",
    "\n",
    "print(classification_report(y_test, y_pred))"
   ]
  }
 ],
 "metadata": {
  "kernelspec": {
   "display_name": "base",
   "language": "python",
   "name": "python3"
  },
  "language_info": {
   "codemirror_mode": {
    "name": "ipython",
    "version": 3
   },
   "file_extension": ".py",
   "mimetype": "text/x-python",
   "name": "python",
   "nbconvert_exporter": "python",
   "pygments_lexer": "ipython3",
   "version": "3.9.15"
  },
  "orig_nbformat": 4
 },
 "nbformat": 4,
 "nbformat_minor": 2
}
