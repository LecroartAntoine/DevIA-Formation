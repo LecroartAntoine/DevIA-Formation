{
 "cells": [
  {
   "attachments": {},
   "cell_type": "markdown",
   "metadata": {},
   "source": [
    "# Contexte du projet\n",
    "\n",
    "Le scrapping est l'opération permettant d'éxtraire d'une page web, des données spécifiques. Les données d'une page web étant \"noyées\" au mileu du code HTML de la page, le scrapping permet de sélectionner certaines données suivant l'analyse de la structure du code HTML.\n",
    "\n",
    "Dans cette activité, vous irez sur le site OpenClassRooms, suivre le tuto expliquant l'utilisation de la librairie BeautifulSoup qui permet la récupération de certaines données : le titre des articles d'un site de communication gouvernemental britannique.\n",
    "\n",
    "++A noter++ que dans les exemples de manipulation, l'auteur réalise les commandes directement dans une console python. Dans une console, il suffit de saisir le nom d'un objet pour en afficher le contenu, alors que dans un programme, il faudra utiliser l'instruction print() pour afficher le contenu d'un objet.\n",
    "\n",
    "Les 2 sites de tuto supplémentaires sont donnés à titre d'information..."
   ]
  },
  {
   "attachments": {},
   "cell_type": "markdown",
   "metadata": {},
   "source": [
    "## Le package Requests"
   ]
  },
  {
   "cell_type": "code",
   "execution_count": null,
   "metadata": {},
   "outputs": [],
   "source": [
    "import requests\n",
    "url = \"https://www.gov.uk/search/news-and-communications\"\n",
    "page = requests.get(url)\n",
    "# Voir le code html source\n",
    "print(page.content)"
   ]
  },
  {
   "attachments": {},
   "cell_type": "markdown",
   "metadata": {},
   "source": [
    "## Le package Beautiful Soup"
   ]
  },
  {
   "attachments": {},
   "cell_type": "markdown",
   "metadata": {},
   "source": [
    "- ### Récupérer une page"
   ]
  },
  {
   "cell_type": "code",
   "execution_count": null,
   "metadata": {},
   "outputs": [],
   "source": [
    "import requests\n",
    "from bs4 import BeautifulSoup\n",
    "url = \"https://www.gov.uk/search/news-and-communications\"\n",
    "page = requests.get(url)\n",
    "soup = BeautifulSoup(page.content, 'html.parser')\n",
    "print(soup)"
   ]
  },
  {
   "attachments": {},
   "cell_type": "markdown",
   "metadata": {},
   "source": [
    "- ### Lire les éléments d'une page"
   ]
  },
  {
   "cell_type": "code",
   "execution_count": null,
   "metadata": {},
   "outputs": [],
   "source": [
    "# Récupération du titre de la page HTML\n",
    "print(f\"Titre de la page: {soup.title}\")\n",
    "\n",
    "# Récupération de la chaîne de caractères du titre HTML\n",
    "print(f\"Titre de la page sans les balises : {soup.title.string}\\n\\n\")\n",
    "\n",
    "# Trouver tous les éléments avec la balise <a>\n",
    "print(f\"Éléments ayant une balise <a> : {soup.find_all('a')}\\n\\n\")\n",
    "\n",
    "# Trouver les éléments avec l’id du « lien1 »\n",
    "print(f\"Éléments ayant un ID 'lien1' : {soup.find(id = 'lien1')}\\n\\n\")\n",
    "\n",
    "# Trouver tous les éléments p avec la classe « title »\n",
    "print(f\"Éléments p avec la classe 'title' : {soup.find_all('p', class_ = 'title')}\\n\\n\")"
   ]
  },
  {
   "cell_type": "code",
   "execution_count": null,
   "metadata": {},
   "outputs": [],
   "source": [
    "titres = soup.find_all(\"a\", class_=\"gem-c-document-list__item-title\")\n",
    "\n",
    "for title in titres:\n",
    "    print(title.string)\n"
   ]
  },
  {
   "cell_type": "code",
   "execution_count": null,
   "metadata": {},
   "outputs": [],
   "source": [
    "descriptions_bs = soup.find_all(\"p\", class_=\"gem-c-document-list__item-description\")\n",
    "\n",
    "descriptions = []\n",
    "\n",
    "for desc in descriptions_bs:\n",
    "    descriptions.append(desc.string)\n",
    "\n",
    "descriptions"
   ]
  },
  {
   "cell_type": "code",
   "execution_count": null,
   "metadata": {},
   "outputs": [],
   "source": [
    "titres_bs = soup.find_all(\"a\", class_=\"gem-c-document-list__item-title\")\n",
    "\n",
    "titres = []\n",
    "\n",
    "for titre in titres_bs:\n",
    "    titres.append(titre.string)\n",
    "\n",
    "titres"
   ]
  }
 ],
 "metadata": {
  "kernelspec": {
   "display_name": "base",
   "language": "python",
   "name": "python3"
  },
  "language_info": {
   "codemirror_mode": {
    "name": "ipython",
    "version": 3
   },
   "file_extension": ".py",
   "mimetype": "text/x-python",
   "name": "python",
   "nbconvert_exporter": "python",
   "pygments_lexer": "ipython3",
   "version": "3.9.16"
  },
  "orig_nbformat": 4,
  "vscode": {
   "interpreter": {
    "hash": "ad2bdc8ecc057115af97d19610ffacc2b4e99fae6737bb82f5d7fb13d2f2c186"
   }
  }
 },
 "nbformat": 4,
 "nbformat_minor": 2
}
