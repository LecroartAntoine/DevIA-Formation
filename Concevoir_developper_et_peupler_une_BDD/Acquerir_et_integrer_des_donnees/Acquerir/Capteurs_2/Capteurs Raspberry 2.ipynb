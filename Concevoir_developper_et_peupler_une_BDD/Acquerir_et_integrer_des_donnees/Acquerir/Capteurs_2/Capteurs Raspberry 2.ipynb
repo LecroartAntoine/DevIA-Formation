{
 "cells": [
  {
   "attachments": {},
   "cell_type": "markdown",
   "metadata": {},
   "source": [
    "# Programmer la récupération périodique de données issues de capteurs, en BDD."
   ]
  },
  {
   "attachments": {},
   "cell_type": "markdown",
   "metadata": {},
   "source": [
    "## Import librairies"
   ]
  },
  {
   "cell_type": "code",
   "execution_count": null,
   "metadata": {},
   "outputs": [],
   "source": [
    "import requests, json"
   ]
  },
  {
   "attachments": {},
   "cell_type": "markdown",
   "metadata": {},
   "source": [
    "## Gestion de l'afficheur"
   ]
  },
  {
   "cell_type": "code",
   "execution_count": null,
   "metadata": {},
   "outputs": [],
   "source": [
    "# Récupération des données\n",
    "data = json.loads(requests.get('http://192.168.20.27/modulesGrove.php?all').text)\n",
    "\n",
    "# Affichage si mouvement\n",
    "if data['PIR'] == 1:\n",
    "    requests.get(f\"http://192.168.20.27/modulesGrove.php?texte=INTRUS !!& couleur=255,0,0\")\n",
    "\n",
    "# Affichage si température non lisible\n",
    "\n",
    "while data['temperature'] == '?':\n",
    "    time.sleep(1)\n",
    "\n",
    "# Affichage température supérieure 25\n",
    "if float(data['temperature']) > 25 :\n",
    "    requests.get(f\"http://192.168.20.27/modulesGrove.php?texte=Temp : {data['temperature']} C& couleur=0,255,0\")\n",
    "\n",
    "else:\n",
    "    # Affichage température inférieure égale 25\n",
    "    requests.get(f\"http://192.168.20.27/modulesGrove.php?texte=Temp : {data['temperature']} C& couleur=0,0,255\")"
   ]
  },
  {
   "attachments": {},
   "cell_type": "markdown",
   "metadata": {},
   "source": [
    "## Lancement périodique du script d'affichage et d'aquisition avec un crontab"
   ]
  },
  {
   "attachments": {},
   "cell_type": "markdown",
   "metadata": {},
   "source": [
    "`nano /etc/crond.allow` <br>\n",
    "-> écrire nom d'utilisateur <br><br>\n",
    "`crontab -e` <br>\n",
    "-> ajouter une ligne `*/5 * * * * python3 /chemin/script.py` pour lancer toutes les 5 minutes <br><br>\n",
    "`sudo systemctl restart cron`"
   ]
  }
 ],
 "metadata": {
  "kernelspec": {
   "display_name": "base",
   "language": "python",
   "name": "python3"
  },
  "language_info": {
   "codemirror_mode": {
    "name": "ipython",
    "version": 3
   },
   "file_extension": ".py",
   "mimetype": "text/x-python",
   "name": "python",
   "nbconvert_exporter": "python",
   "pygments_lexer": "ipython3",
   "version": "3.9.16"
  },
  "orig_nbformat": 4
 },
 "nbformat": 4,
 "nbformat_minor": 2
}
