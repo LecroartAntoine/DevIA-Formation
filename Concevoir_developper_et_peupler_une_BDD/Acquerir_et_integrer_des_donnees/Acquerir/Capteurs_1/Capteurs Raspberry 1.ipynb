{
 "cells": [
  {
   "attachments": {},
   "cell_type": "markdown",
   "metadata": {},
   "source": [
    "# Acquisition de données avec une RaspberryPi"
   ]
  },
  {
   "attachments": {},
   "cell_type": "markdown",
   "metadata": {},
   "source": [
    "## Import librairies"
   ]
  },
  {
   "cell_type": "code",
   "execution_count": null,
   "metadata": {},
   "outputs": [],
   "source": [
    "import requests, json, time\n",
    "import pandas as pd\n",
    "import matplotlib.pyplot as plt\n",
    "import matplotlib.animation as animation\n",
    "import mysql.connector as cnt"
   ]
  },
  {
   "attachments": {},
   "cell_type": "markdown",
   "metadata": {},
   "source": [
    "## Fonctions de connection et d'éxecution"
   ]
  },
  {
   "cell_type": "code",
   "execution_count": null,
   "metadata": {},
   "outputs": [],
   "source": [
    "def connect_db(host, user, pswd, database = None):\n",
    "    db = cnt.connect(\n",
    "        host = host,\n",
    "        user = user,\n",
    "        passwd = pswd,\n",
    "        database = database\n",
    "    )\n",
    "    return(db)\n",
    "\n",
    "def exe(db, request, value = None, verbose = False, name = False):\n",
    "    cursor = db.cursor(buffered = True)\n",
    "    \n",
    "    if value:\n",
    "        cursor.execute(request, value)\n",
    "\n",
    "    else :\n",
    "        cursor.execute(request)\n",
    "\n",
    "    db.commit()\n",
    "    \n",
    "    if verbose:\n",
    "        result = cursor.fetchall()\n",
    "        if name:\n",
    "            result.insert(0, cursor.column_names)\n",
    "        return(result)"
   ]
  },
  {
   "attachments": {},
   "cell_type": "markdown",
   "metadata": {},
   "source": [
    "## Création d'une table pour insertion"
   ]
  },
  {
   "cell_type": "code",
   "execution_count": null,
   "metadata": {},
   "outputs": [],
   "source": [
    "db = connect_db('192.168.20.118', 'grogu', 'grogu')\n",
    "\n",
    "queries = ['CREATE DATABASE IF NOT EXISTS RaspberryPi;']\n",
    "\n",
    "queries.append(\"\"\"\n",
    "    CREATE TABLE IF NOT EXISTS RaspberryPi.Capteurs (\n",
    "        Date timestamp PRIMARY KEY,\n",
    "        Movemt BOOLEAN,\n",
    "        Temp FLOAT,\n",
    "        Humid FLOAT,\n",
    "        Dist INT\n",
    "    )ENGINE = InnoDB;    \n",
    "\"\"\")\n",
    "\n",
    "for query in queries:\n",
    "    exe(db, query)"
   ]
  },
  {
   "attachments": {},
   "cell_type": "markdown",
   "metadata": {},
   "source": [
    "![Image](Images/Structure.jpg)"
   ]
  },
  {
   "cell_type": "code",
   "execution_count": null,
   "metadata": {},
   "outputs": [],
   "source": [
    "json.loads(requests.get('http://192.168.20.27/modulesGrove.php?all').text)"
   ]
  },
  {
   "attachments": {},
   "cell_type": "markdown",
   "metadata": {},
   "source": [
    "## Récupération et insertion des données"
   ]
  },
  {
   "cell_type": "code",
   "execution_count": null,
   "metadata": {},
   "outputs": [],
   "source": [
    "for i in range(5):\n",
    "    try:\n",
    "        db = connect_db('192.168.20.118', 'grogu', 'grogu')\n",
    "\n",
    "        data = json.loads(requests.get('http://192.168.20.27/modulesGrove.php?all').text)\n",
    "        query = (f\"\"\"\n",
    "            INSERT INTO RaspberryPi.Capteurs (Movemt, Temp, Humid, Dist) VALUES (\n",
    "                                                                                {data['PIR'] if data['PIR'] != '?' else 'NULL'}, \n",
    "                                                                                {data['temperature'] if data['temperature'] != '?' else 'NULL'}, \n",
    "                                                                                {data['humidite'] if data['humidite'] != '?' else 'NULL'}, \n",
    "                                                                                {data['US'] if data['US'] < 505 else 'NULL'});\n",
    "        \"\"\")\n",
    "\n",
    "        exe(db, query)\n",
    "\n",
    "        time.sleep(1)\n",
    "\n",
    "    except Exception as e:\n",
    "        print(e)"
   ]
  },
  {
   "attachments": {},
   "cell_type": "markdown",
   "metadata": {},
   "source": [
    "![Image](Images/Resultat.jpg)"
   ]
  },
  {
   "attachments": {},
   "cell_type": "markdown",
   "metadata": {},
   "source": [
    "## Analyse des données graphiquement"
   ]
  },
  {
   "cell_type": "code",
   "execution_count": null,
   "metadata": {},
   "outputs": [],
   "source": [
    "db = connect_db('192.168.20.118', 'grogu', 'grogu')\n",
    "data = exe(db, 'SELECT * FROM RaspberryPi.Capteurs', verbose = True, name = True)\n",
    "\n",
    "df = pd.DataFrame(data[1:], columns = data[0])\n",
    "df['Date'] = df['Date'] + pd.Timedelta(hours=1)\n",
    "\n",
    "fig, axes = plt.subplots(2, 2, figsize = (15, 15))\n",
    "for i, column in enumerate(df.columns[1:]):\n",
    "    if i < 2:\n",
    "        axes[0][i].plot(df['Date'], df[column], drawstyle = \"steps-mid\")\n",
    "        axes[0][i].set_title(column)\n",
    "        axes[0][i].tick_params(labelrotation=45)\n",
    "    else:\n",
    "        axes[1][i-2].plot(df['Date'], df[column], drawstyle = \"steps-mid\")\n",
    "        axes[1][i-2].set_title(column)\n",
    "        axes[1][i-2].tick_params(labelrotation=45)\n",
    "\n",
    "plt.show()"
   ]
  },
  {
   "attachments": {},
   "cell_type": "markdown",
   "metadata": {},
   "source": [
    "![Image](Images/Courbes.jpg)"
   ]
  },
  {
   "attachments": {},
   "cell_type": "markdown",
   "metadata": {},
   "source": [
    "## Graphique en temps réel"
   ]
  },
  {
   "cell_type": "code",
   "execution_count": null,
   "metadata": {},
   "outputs": [],
   "source": [
    "def get_data():\n",
    "    db = connect_db('192.168.20.118', 'grogu', 'grogu')\n",
    "    data = exe(db, 'SELECT * FROM RaspberryPi.Capteurs', verbose = True, name = True)\n",
    "    df = pd.DataFrame(data[1:], columns = data[0])\n",
    "    df['Date'] = df['Date'] + pd.Timedelta(hours=1)\n",
    "    return(df)\n",
    "\n",
    "def draw_plot():\n",
    "    df = get_data()\n",
    "\n",
    "\n",
    "fig, axes = plt.subplots(2, 2, figsize = (15, 15))\n",
    "\n",
    "df = get_data()\n",
    "\n",
    "for i, column in enumerate(df.columns[1:]):\n",
    "    if i < 2:\n",
    "        axes[0][i].plot(df['Date'], df[column])\n",
    "        axes[0][i].set_title(column)\n",
    "        axes[0][i].tick_params(labelrotation=45)\n",
    "    else:\n",
    "        axes[1][i-2].plot(df['Date'], df[column])\n",
    "        axes[1][i-2].set_title(column)\n",
    "        axes[1][i-2].tick_params(labelrotation=45)\n",
    "\n",
    "ani = animation.FuncAnimation(plt.gcf(), draw_plot, interval=20)\n",
    "\n",
    "plt.show()"
   ]
  },
  {
   "cell_type": "code",
   "execution_count": null,
   "metadata": {},
   "outputs": [],
   "source": [
    "import matplotlib.pyplot as plt\n",
    "import matplotlib.animation as animation\n",
    "import pandas as pd\n",
    "\n",
    "def get_data():\n",
    "    db = connect_db('192.168.20.118', 'grogu', 'grogu')\n",
    "    data = exe(db, 'SELECT * FROM RaspberryPi.Capteurs', verbose = True, name = True)\n",
    "\n",
    "    return(data)\n",
    "\n",
    "def update_plot(frame):\n",
    "    data = get_data()\n",
    "\n",
    "    df = pd.DataFrame(data[1:], columns = data[0])\n",
    "    df['Date'] = df['Date'] + pd.Timedelta(hours=1)\n",
    "\n",
    "    for ax in axes.flatten():\n",
    "        ax.clear()\n",
    "    for i, column in enumerate(df.columns[1:]):\n",
    "        if i < 2:\n",
    "            axes[0][i].plot(df['Date'], df[column], drawstyle=\"steps-mid\")\n",
    "            axes[0][i].set_title(column)\n",
    "            axes[0][i].tick_params(labelrotation=45)\n",
    "        else:\n",
    "            axes[1][i - 2].plot(df['Date'], df[column], drawstyle=\"steps-mid\")\n",
    "            axes[1][i - 2].set_title(column)\n",
    "            axes[1][i - 2].tick_params(labelrotation=45)\n",
    "\n",
    "\n",
    "fig, axes = plt.subplots(2, 2, figsize=(15, 15))\n",
    "plt.tight_layout()\n",
    "\n",
    "ani = animation.FuncAnimation(fig, update_plot, get_data, interval = 300000, blit=True)\n",
    "\n",
    "plt.show()"
   ]
  }
 ],
 "metadata": {
  "kernelspec": {
   "display_name": "base",
   "language": "python",
   "name": "python3"
  },
  "language_info": {
   "codemirror_mode": {
    "name": "ipython",
    "version": 3
   },
   "file_extension": ".py",
   "mimetype": "text/x-python",
   "name": "python",
   "nbconvert_exporter": "python",
   "pygments_lexer": "ipython3",
   "version": "3.9.16"
  },
  "orig_nbformat": 4
 },
 "nbformat": 4,
 "nbformat_minor": 2
}
