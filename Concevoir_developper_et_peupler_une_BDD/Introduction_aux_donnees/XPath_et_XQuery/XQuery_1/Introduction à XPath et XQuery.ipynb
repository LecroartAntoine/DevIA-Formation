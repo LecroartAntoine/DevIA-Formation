{
 "cells": [
  {
   "attachments": {},
   "cell_type": "markdown",
   "metadata": {},
   "source": [
    "# Contexte du projet\n",
    "\n",
    "Votre entreprise vous demande de vous former à XQuery dans le but de vous préparer à pouvoir extraire des données de fichiers XML.\n",
    "\n",
    "Pour cela, vous suivrez une démonstration sur une vidéo, montrant l'usage de XQuery grace au logiciel libre baseX.\n",
    "\n",
    "Vous testerez les différents exercices proposés, pour en en vérifier les fonctionnalités de base.\n",
    "\n",
    "## On propose l'organisation suivante :\n",
    "\n",
    "1- (s'il n'est pas présent sur le poste) télécharger/installer baseX\n",
    "\n",
    "2- Créer un dossier de travail \"xquery\" dans votre espace personnel\n",
    "\n",
    "3- lancer baseX puis Menu options>Préférences>Général :\n",
    "\n",
    "    affecter le dossier \"xquery\" comme chemin de la base de données\n",
    "    choisir la langue à French\n",
    "\n",
    "4- Créer un sous-dossier xquery_books\n",
    "\n",
    "5- Y copier le fichier books.xml\n",
    "\n",
    "6- Créer une nouvelle base de données et choisir le dossier xquery_books comme dossier source et books comme nom de base.\n",
    "\n",
    "## Découverte de XQuery et baseX\n",
    "\n",
    "7- Suivre la vidéo sur baseX en refaisant les différentes étapes. Notamment aux temps :\n",
    "\n",
    "    4:00 : ouverture base\n",
    "    5:00 : ouverture fichier xml\n",
    "    5:48 : boucle affichage titres dont le prix > 30\n",
    "    12:54 -> 15:00 : insertion d'une sélection de données dans du code HTML pour afficher une liste des résutats\n",
    "    16:35 : affichage conditionnel\n",
    "\n",
    "---\n",
    "\n",
    "## Trouver les livres dont le prix est > à 30, classés par ordre alphabétique"
   ]
  },
  {
   "cell_type": "code",
   "execution_count": null,
   "metadata": {},
   "outputs": [],
   "source": [
    "for $x in doc(\"books.xml\")/bookstore/book\n",
    "where $x/price>30\n",
    "order by $x/title\n",
    "return $x/title"
   ]
  },
  {
   "attachments": {},
   "cell_type": "markdown",
   "metadata": {},
   "source": [
    "---\n",
    "\n",
    "## Afficher les titre en HTML"
   ]
  },
  {
   "cell_type": "code",
   "execution_count": null,
   "metadata": {},
   "outputs": [],
   "source": [
    "<ul>\n",
    "{\n",
    "for $x in doc(\"books.xml\")/bookstore/book/title\n",
    "order by $x\n",
    "return <li>{data($x)}</li>\n",
    "}\n",
    "</ul>"
   ]
  },
  {
   "attachments": {},
   "cell_type": "markdown",
   "metadata": {},
   "source": [
    "---\n",
    "\n",
    "## Affichage conditionnel"
   ]
  },
  {
   "cell_type": "code",
   "execution_count": null,
   "metadata": {},
   "outputs": [],
   "source": [
    "for $x in doc(\"books.xml\")/bookstore/book\n",
    "return if($x/@category=\"CHILDREN\")\n",
    "then <child>{data($x/title)}</child>\n",
    "else <adult>{data($x/title)}</adult>"
   ]
  }
 ],
 "metadata": {
  "kernelspec": {
   "display_name": "base",
   "language": "python",
   "name": "python3"
  },
  "language_info": {
   "name": "python",
   "version": "3.9.15 (main, Nov 24 2022, 14:39:17) [MSC v.1916 64 bit (AMD64)]"
  },
  "orig_nbformat": 4,
  "vscode": {
   "interpreter": {
    "hash": "ad2bdc8ecc057115af97d19610ffacc2b4e99fae6737bb82f5d7fb13d2f2c186"
   }
  }
 },
 "nbformat": 4,
 "nbformat_minor": 2
}
