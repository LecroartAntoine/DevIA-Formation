{
 "cells": [
  {
   "attachments": {},
   "cell_type": "markdown",
   "metadata": {},
   "source": [
    "# Contexte du projet\n",
    "\n",
    "Pratiquer XQuery et XPath\n",
    "\n",
    "Dans baseX, sur la même base \"books\" que pour le travail précédent, en vous référant à la présentation XQuery et le site montrant des exemples XQuery.\n",
    "\n",
    "Remarque : En cas de réouverture de la base, pour afficher la carte du fichier XML : menu Base de données > Administrer > Ouvrir\n",
    "\n",
    "---\n",
    "\n",
    "## XQuery\n",
    "\n",
    "### Récupérer tous les titres, triés ordre alphabétiques"
   ]
  },
  {
   "cell_type": "code",
   "execution_count": null,
   "metadata": {},
   "outputs": [],
   "source": [
    "for $x in doc(\"books.xml\")/bookstore/book/title\n",
    "order by $x\n",
    "return $x"
   ]
  },
  {
   "attachments": {},
   "cell_type": "markdown",
   "metadata": {},
   "source": [
    "### Récupérer les titres seuls (sans balises), triés par prix décroissant"
   ]
  },
  {
   "cell_type": "code",
   "execution_count": null,
   "metadata": {},
   "outputs": [],
   "source": [
    "for $x in doc(\"books.xml\")/bookstore/book\n",
    "order by $x/price\n",
    "return data($x/title)"
   ]
  },
  {
   "attachments": {},
   "cell_type": "markdown",
   "metadata": {},
   "source": [
    "### Récupérer les titres des livres avant 2004"
   ]
  },
  {
   "cell_type": "code",
   "execution_count": null,
   "metadata": {},
   "outputs": [],
   "source": [
    "for $x in doc(\"books.xml\")/bookstore/book\n",
    "where $x/year<2004\n",
    "return $x/title"
   ]
  },
  {
   "attachments": {},
   "cell_type": "markdown",
   "metadata": {},
   "source": [
    "### Récupérer les titres des livres après 2004"
   ]
  },
  {
   "cell_type": "code",
   "execution_count": null,
   "metadata": {},
   "outputs": [],
   "source": [
    "for $x in doc(\"books.xml\")/bookstore/book\n",
    "where $x/year>2004\n",
    "return $x/title"
   ]
  },
  {
   "attachments": {},
   "cell_type": "markdown",
   "metadata": {},
   "source": [
    "### Liste les livres sous la forme : titre (année) : prix (voir la fonction concat())"
   ]
  },
  {
   "cell_type": "code",
   "execution_count": null,
   "metadata": {},
   "outputs": [],
   "source": [
    "for $x in doc(\"books.xml\")/bookstore/book\n",
    "order by $x/year\n",
    "return concat($x/title,\":\",$x/price)"
   ]
  },
  {
   "attachments": {},
   "cell_type": "markdown",
   "metadata": {},
   "source": [
    "### Modifier la liste pour ajouter l'auteur titre de auteur (année) : prix (attention, problème pour les auteurs multiples, il faudra introduire une boucle dans la boucle principale)"
   ]
  },
  {
   "cell_type": "code",
   "execution_count": null,
   "metadata": {},
   "outputs": [],
   "source": [
    "for $x in doc(\"books.xml\")/bookstore/book\n",
    "order by $x/year\n",
    "return concat($x/title, \" (\", string-join(for $author in $x return $author/author,\", \"), \")\", \" : \", $x/price)"
   ]
  },
  {
   "attachments": {},
   "cell_type": "markdown",
   "metadata": {},
   "source": [
    "### Qu'est-ce qu'une requête de type Flwor ?"
   ]
  },
  {
   "attachments": {},
   "cell_type": "markdown",
   "metadata": {},
   "source": [
    "Une requête de type Flwor est une requête XQuery qui utilise les expressions de type \"For\", \"Let\", \"Where\", \"Order by\" et \"Return\" (abrégées en Flwor) pour sélectionner et retourner des données d'un document XML. </br>\n",
    "\n",
    "Les expressions \"For\" et \"Let\" sont utilisées pour itérer sur des éléments dans le document XML et les stocker dans des variables pour un traitement ultérieur.</br>\n",
    "\n",
    "L'expression \"Where\" est utilisée pour filtrer les données en fonction de conditions spécifiées.</br>\n",
    "\n",
    "\"Order by\" est utilisé pour trier les données retournées selon les critères spécifiés.</br>\n",
    "\n",
    "Et enfin \"Return\" est utilisé pour spécifier les données qui doivent être retournées.</br>\n",
    "\n",
    "Les requêtes de type Flwor sont très utiles pour extraire des données complexes d'un document XML en combinant les différentes expressions et en permettant une grande flexibilité dans la sélection et le tri des données."
   ]
  },
  {
   "attachments": {},
   "cell_type": "markdown",
   "metadata": {},
   "source": [
    "---\n",
    "\n",
    "## XPath\n",
    "\n",
    "Utiliser uniquement la syntaxe xpath dans la section éditeur de baseX (pas de doc() ni de for() )"
   ]
  },
  {
   "attachments": {},
   "cell_type": "markdown",
   "metadata": {},
   "source": [
    "### Récupérer tous les titres"
   ]
  },
  {
   "cell_type": "code",
   "execution_count": null,
   "metadata": {},
   "outputs": [],
   "source": [
    "//title"
   ]
  },
  {
   "attachments": {},
   "cell_type": "markdown",
   "metadata": {},
   "source": [
    "### Récupérer les titres seuls (sans balises)"
   ]
  },
  {
   "cell_type": "code",
   "execution_count": null,
   "metadata": {},
   "outputs": [],
   "source": [
    "//title/text()"
   ]
  },
  {
   "attachments": {},
   "cell_type": "markdown",
   "metadata": {},
   "source": [
    "### Récupérer les titres des livres avant 2004"
   ]
  },
  {
   "cell_type": "code",
   "execution_count": null,
   "metadata": {},
   "outputs": [],
   "source": [
    "//book[year<2004]"
   ]
  },
  {
   "attachments": {},
   "cell_type": "markdown",
   "metadata": {},
   "source": [
    "### Récupérer les titres des livres après 2004"
   ]
  },
  {
   "cell_type": "code",
   "execution_count": null,
   "metadata": {},
   "outputs": [],
   "source": [
    "//book[year>2004]"
   ]
  }
 ],
 "metadata": {
  "kernelspec": {
   "display_name": "base",
   "language": "python",
   "name": "python3"
  },
  "language_info": {
   "name": "python",
   "version": "3.9.15 (main, Nov 24 2022, 14:39:17) [MSC v.1916 64 bit (AMD64)]"
  },
  "orig_nbformat": 4,
  "vscode": {
   "interpreter": {
    "hash": "ad2bdc8ecc057115af97d19610ffacc2b4e99fae6737bb82f5d7fb13d2f2c186"
   }
  }
 },
 "nbformat": 4,
 "nbformat_minor": 2
}
