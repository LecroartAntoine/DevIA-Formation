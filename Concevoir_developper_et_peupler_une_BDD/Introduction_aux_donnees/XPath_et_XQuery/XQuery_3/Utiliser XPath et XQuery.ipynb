{
 "cells": [
  {
   "attachments": {},
   "cell_type": "markdown",
   "metadata": {},
   "source": [
    "# Contexte du projet\n",
    "\n",
    "Utiliser XQuery et XPath\n",
    "\n",
    "​\n",
    "On travaille à nouveau sur le fichier XML sur les randonnées autour de Besançon.\n",
    "\n",
    "Créer un dossier de travail xquery_randos (au même niveau que xquery_books)\n",
    "\n",
    "Y déposer le fichier XML Lancer baseX et créer une base randos_besac à partir du dossier xquery_randos"
   ]
  },
  {
   "attachments": {},
   "cell_type": "markdown",
   "metadata": {},
   "source": [
    "---\n",
    "\n",
    "## Lister le nom des toutes les randos"
   ]
  },
  {
   "cell_type": "code",
   "execution_count": null,
   "metadata": {},
   "outputs": [],
   "source": [
    "for $rando in //rando\n",
    "return $rando/nom/text()\n"
   ]
  },
  {
   "attachments": {},
   "cell_type": "markdown",
   "metadata": {},
   "source": [
    "---\n",
    "\n",
    "## Lister le nom des randos ayant la thématique Forêt"
   ]
  },
  {
   "cell_type": "code",
   "execution_count": null,
   "metadata": {},
   "outputs": [],
   "source": [
    "for $rando in //rando\n",
    "where $rando/thematique = 'Forêt'\n",
    "return $rando/nom/text()\n"
   ]
  },
  {
   "attachments": {},
   "cell_type": "markdown",
   "metadata": {},
   "source": [
    "---\n",
    "\n",
    "## Lister les différentes thématiques classée par ordre alphabétique"
   ]
  },
  {
   "cell_type": "code",
   "execution_count": null,
   "metadata": {},
   "outputs": [],
   "source": [
    "let $theme := sort(distinct-values(//rando/thematique))\n",
    "return $theme"
   ]
  },
  {
   "attachments": {},
   "cell_type": "markdown",
   "metadata": {},
   "source": [
    "---\n",
    "\n",
    "## Lister le nombre de randos par thématique"
   ]
  },
  {
   "cell_type": "code",
   "execution_count": null,
   "metadata": {},
   "outputs": [],
   "source": [
    "let $nodes := //thematique/text()\n",
    "for $value in fn:sort(fn:distinct-values($nodes))\n",
    "return concat($value, ': ', fn:count(//thematique[text() = $value]))"
   ]
  },
  {
   "attachments": {},
   "cell_type": "markdown",
   "metadata": {},
   "source": [
    "---\n",
    "\n",
    "## Lister le nombre de randos par couleur (niveau)"
   ]
  },
  {
   "cell_type": "code",
   "execution_count": null,
   "metadata": {},
   "outputs": [],
   "source": [
    "let $attributes := //niveau/@couleur\n",
    "for $value in fn:distinct-values($attributes) \n",
    "return concat($value, ': ', count(//niveau[@couleur=$value]))"
   ]
  },
  {
   "attachments": {},
   "cell_type": "markdown",
   "metadata": {},
   "source": [
    "---\n",
    "\n",
    "## Lister le secteur des circuits de VTT et de cyclo"
   ]
  },
  {
   "cell_type": "code",
   "execution_count": null,
   "metadata": {},
   "outputs": [],
   "source": [
    "let $secteur := distinct-values(//rando[@type='VTT' or @type='cyclo']/secteur/text())\n",
    "return $secteur"
   ]
  },
  {
   "attachments": {},
   "cell_type": "markdown",
   "metadata": {},
   "source": [
    "---\n",
    "\n",
    "## Lister un résumé (numéro d'ordre (ordre naturel : 1, 2...), nom, thématique, secteur, commune, depart, arrivée) des randos pratiquables en famille"
   ]
  },
  {
   "cell_type": "code",
   "execution_count": null,
   "metadata": {},
   "outputs": [],
   "source": [
    "for $rando in //rando[souscategorie = 'En famille']\n",
    "return concat($rando/nom/text(), $rando/thematique/text(), $rando/secteur/text(), $rando/commune/text(), $rando/depart/text(), $rando/arrivee/text())"
   ]
  },
  {
   "attachments": {},
   "cell_type": "markdown",
   "metadata": {},
   "source": [
    "---\n",
    "\n",
    "## Créer une fonction \"afficheRando\" qui prépare la ligne d'affichage précédent à partir des différents paramètres et utiliser la. Soigner la qualité de l'affichage en adaptant la fonction"
   ]
  },
  {
   "cell_type": "code",
   "execution_count": null,
   "metadata": {},
   "outputs": [],
   "source": [
    "declare function local:afficheRando($string as xs:string) {\n",
    "  for $rando in doc(\"20220111_242500361_Circuits_de_randonnee_dans_le_Grand_Besancon V2.xml\")/randos/liste/rando\n",
    "  where $rando/souscategorie = $string\n",
    "  return concat('Circuits praticables en famille:\n",
    "  ', 'Nom: ', $rando/nom/text(), '\n",
    "  Thématique: ', $rando/thematique/text(), '\n",
    "  Secteur: ', $rando/secteur/text(), '\n",
    "  Commune: ', $rando/commune/text(), '\n",
    "  Départ: ', $rando/depart/text(), '\n",
    "  Arrivée: ', $rando/arrivee/text(), '\n",
    "  ')\n",
    "};\n",
    "\n",
    "\n",
    "let $def := local:afficheRando('En famille')\n",
    "return $def"
   ]
  }
 ],
 "metadata": {
  "kernelspec": {
   "display_name": "base",
   "language": "python",
   "name": "python3"
  },
  "language_info": {
   "name": "python",
   "version": "3.9.15 (main, Nov 24 2022, 14:39:17) [MSC v.1916 64 bit (AMD64)]"
  },
  "orig_nbformat": 4,
  "vscode": {
   "interpreter": {
    "hash": "ad2bdc8ecc057115af97d19610ffacc2b4e99fae6737bb82f5d7fb13d2f2c186"
   }
  }
 },
 "nbformat": 4,
 "nbformat_minor": 2
}
