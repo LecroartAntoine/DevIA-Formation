{
 "cells": [
  {
   "attachments": {},
   "cell_type": "markdown",
   "id": "3f7f4e9b",
   "metadata": {},
   "source": [
    "# Contexte du projet\n",
    "Au sein du bureau d'études, on vous fournit des données sous forme d'un fichier CSV. On vous demande d'en effectuer le traitement, puis de fournir en retour un fichier de données au format CSV présentant le résultat du traitement.\n",
    "\n",
    "---\n",
    "\n",
    "# Modalités pédagogiques\n",
    "On travaille sur un fichier contenant les notes obtenues par des élèves notes livrets.csv.\n",
    "\n",
    "\n",
    "Ouvrir ce fichier dans Excel (visualiseur par défaut pour ce type de fichier) pour en voir le contenu, et l’organisation (attention à ne pas le modifier).\n",
    "\n",
    "\n",
    "Le tableau présente les notes obtenues par les élèves dans 3 matières : Informatique, Système et TP.\n",
    "\n",
    "\n",
    "La 1ère ligne indique le nom de l’évaluation, dont le début du nom permet de savoir à quelle matière il correspond.\n",
    "\n",
    "\n",
    "On souhaite obtenir les moyennes des élèves pour chaque matière, et enfin la moyenne générale, en tenant compte du ++coefficient de la matière++ .\n",
    "\n",
    "\n",
    "Le coefficient de chaque matière sera lu dans un fichier CSV coefNotes.csv, que vous allez créer, et contenant l’intitulé de la matière, l’acronyme utilisé dans le nom de l’évaluation (par exemple info pour Informatique), et le coefficient.\n",
    "\n",
    "\n",
    "Initialement, la matière Informatique a le coefficient 3, Système le coef 2 et TP le coef 1.\n",
    "\n",
    "\n",
    "Par exemple, pour l’informatique, le fichier coefNotes.csv contiendra la ligne : Informatique;info;3\n",
    "\n",
    "\n",
    "Développer une application en python effectuant le traitement de ce fichier :\n",
    "\n",
    "• Importer les notes dans une liste notes à 2 dimensions ( notes[i][n] avec i le n° d’élève, et n le n° d’évaluation)\n",
    "\n",
    "• Lire le fichier des coefficients et placer les éléments dans une liste matieres à 2 dimensions (matieres[j][k] avec j le n° de la matière (peu important) et k le n° de champs : 0 pour l’intitulé, 1 pour l’acronyme et 2 pour le coefficient)\n",
    "\n",
    "• Rechercher, pour chaque matière, quelle colonne comporte une évaluation qui la concerne\n",
    "\n",
    "• Calculer la moyenne des notes pour chaque élève et pour chaque matière (à mettre dans une liste)\n",
    "\n",
    "• Attention : une note vide concerne une absence à l'évaluation et ne doit pas être prise en compte dans la moyenne\n",
    "\n",
    "• Calculer la moyenne générale pour chaque élève en tenant compte des coefficients (dans une liste également)\n",
    "\n",
    "• Créer un fichier bilan notes.csv (séparateurs ‘ ; ’ ) avec une entête « nom;Informatique ;Système ;TP ;Moyenne générale », qui liste les noms et les moyennes, puis en ajoutant à la fin une ligne vide, suivie de moyennes dans la première colonne, puis les valeurs des moyennes dans la colonne suivante."
   ]
  },
  {
   "cell_type": "markdown",
   "id": "ff9a2bca",
   "metadata": {},
   "source": [
    "# Importer les notes dans une liste notes à 2 dimensions \n",
    "### (notes[i][n] avec i le n° d’élève, et n le n° d’évaluation)"
   ]
  },
  {
   "cell_type": "code",
   "execution_count": null,
   "id": "32cd5638",
   "metadata": {},
   "outputs": [],
   "source": [
    "with open ('notes livrets.csv', 'r') as file: # Ouverture et lecture du fichier csv\n",
    "    fichier = file.read().replace(',', '.').split('\\n') # On remplace les ',' par des '.' et on créer une liste de chaque ligne\n",
    "\n",
    "fichier.pop(0) # On supprime la première liste (nom des colones)\n",
    "\n",
    "if not fichier[-1]: # Si le dernier élément est vide (retour à la ligne), on le supprime\n",
    "    fichier.pop() \n",
    "\n",
    "\n",
    "notes = [] \n",
    "# Pour chaque ligne:\n",
    "for ligne in fichier:\n",
    "    ligne = ligne.split(';')[1:] # On sépare la ligne en une liste de chacun de chaque élément, on stocke cette liste sans le premier élément (le nom de l'élève)\n",
    "    \n",
    "    # Pour chaque note dans la ligne (sous forme de liste de chaines)\n",
    "    for i, note in enumerate(ligne):\n",
    "        if note: # Si la note n'est pas une chaine vide\n",
    "            ligne[i] = float(ligne[i]) # On la convertit en float\n",
    "            \n",
    "    notes.append(ligne) # La liste de note ainsi crée (notes d'un élève) est ajouté à notre liste de notes\n",
    "    \n",
    "print(notes)"
   ]
  },
  {
   "cell_type": "markdown",
   "id": "45fdaccf",
   "metadata": {},
   "source": [
    "---\n",
    "\n",
    "# Lire le fichier des coefficients et placer les éléments dans une liste matieres à 2 dimensions \n",
    "### (matieres[j][k] avec j le n° de la matière (peu important) et k le n° de champs : 0 pour l’intitulé, 1 pour l’acronyme et 2 pour le coefficient)"
   ]
  },
  {
   "cell_type": "code",
   "execution_count": null,
   "id": "b33db946",
   "metadata": {},
   "outputs": [],
   "source": [
    "with open ('coefNotes.csv', 'r') as file: # Ouverture et lecture du fichier csv\n",
    "    fichier = file.read().split('\\n') # On créer une liste de chaque ligne\n",
    "\n",
    "# On créer un liste 'matieres' qui contient chaque ligne de notre fichier, ligne convertit en liste de chaque élément (Comprehension)\n",
    "matieres = [ligne.split(';') for ligne in fichier]\n",
    "print(matieres)"
   ]
  },
  {
   "cell_type": "markdown",
   "id": "7479cb0f",
   "metadata": {},
   "source": [
    "---\n",
    "\n",
    "# Rechercher, pour chaque matière, quelle colonne comporte une évaluation qui la concerne"
   ]
  },
  {
   "cell_type": "code",
   "execution_count": null,
   "id": "7d78950d",
   "metadata": {},
   "outputs": [],
   "source": [
    "with open ('notes livrets.csv', 'r') as file: # Ouverture et lecture du fichier csv\n",
    "    fichier = file.read().split('\\n') # On créer une liste de chaque ligne\n",
    "\n",
    "fichier = fichier[0].split(';') # On ne garde que la première ligne (nom des colones) et on la convertit en liste de ses éléments\n",
    "fichier.pop(0) # On supprime le premier élément ('Evaluation')\n",
    "\n",
    "colones_matieres = [] # On initialise la liste qui contiendra une liste de numeros de colones par matière\n",
    "for matiere in matieres: # Pour chaque matière (et son)\n",
    "\n",
    "    liste_colones = [] # On initialise la liste qui contiendra les numeros de colone\n",
    "\n",
    "    for j, element in enumerate(fichier): # Pour chaque nom de colone dans notre fichier 'notes livrets'\n",
    "\n",
    "        if element.find(matiere[1]) == 0 : # On vérifie si on trouve l'abréviation de la matière dans le nom de la colone\n",
    "            liste_colones.append(j) # On ajoute l'index de la colone à notre liste\n",
    "\n",
    "    colones_matieres.append(liste_colones) # Quand on a traité tous les noms de colones pour notre matière, on stock la liste des index trouvé dans notre liste finale \n",
    "\n",
    "print(colones_matieres)"
   ]
  },
  {
   "cell_type": "markdown",
   "id": "5dbeb5a6",
   "metadata": {},
   "source": [
    "---\n",
    "\n",
    "# Calculer la moyenne des notes pour chaque élève et pour chaque matière (à mettre dans une liste)\n",
    "### Attention : une note vide concerne une absence à l'évaluation et ne doit pas être prise en compte dans la moyenne"
   ]
  },
  {
   "cell_type": "code",
   "execution_count": null,
   "id": "bb2b6cf8",
   "metadata": {},
   "outputs": [],
   "source": [
    "moyennes = [] # Initialisation de la liste des moyennes\n",
    "for i, eleve in enumerate(notes): # Pour chaque liste de notes des élèves\n",
    "    moyennes.append([]) # On ajoute une liste vide dans notre liste 'moyennes'(correspond à la liste des moyennes d'un élève dans chaque matière)\n",
    "\n",
    "    for matiere in colones_matieres: # Pour chaque liste des numéros de colones de chaque matière\n",
    "        somme = 0 # La somme des notes initialisée à 0 (numérateur de la moyenne)\n",
    "        denom = 0 # Le nombre de notes initialisée à 0 (dénominateur de la moyenne)\n",
    "\n",
    "        for colone in matiere: # Pour chaque numéro de colone d'une matière\n",
    "            if isinstance(eleve[colone], float): # Si on a une note (type float)\n",
    "                somme += eleve[colone] # On l'ajoute à la somme\n",
    "                denom += 1 # On a une note en plus (+1 au denominateur)\n",
    "\n",
    "        if denom != 0: # Si l'élève à des notes dans cette matière (donc denominateur différent de 0)\n",
    "            moyennes[i].append(round(somme / denom, 2)) # On calcul sa moyenne et on l'ajoute à sa liste de moyennes dans la grande liste des moyennes de tous les élèves\n",
    "\n",
    "        else:\n",
    "            moyennes[i].append('') # Sinon on ajoute '' (pas de notes dans cette matière donc moyenne vide)\n",
    "            \n",
    "print(moyennes)\n",
    "\n",
    "\n",
    "moyennes_matieres = [] # Liste des moyennes générales de chaque matières\n",
    "for i in range(len(matieres)): # Pour i allant de 0 au nombre de matières\n",
    "    somme = 0 # La somme des notes initialisée à 0 (numérateur de la moyenne)\n",
    "    denom = 0 # Le nombre de notes initialisée à 0 (dénominateur de la moyenne)\n",
    "\n",
    "    for moyenne in moyennes: # Pour chaque liste de moyennes de chaque élève\n",
    "\n",
    "        if isinstance(moyenne[i], float): # Si on a une moyenne dans la liste à l'indice i (matière traité) (type float)\n",
    "            somme += moyenne[i] # On l'ajoute au numérateur\n",
    "            denom += 1 # On ajoute +1 au dénominateur\n",
    "            \n",
    "    if denom != 0: # Quand on à traité toutes les moyennes d'une matière, si le dénominateur n'est pas 0 (donc an a eu des moyennes)\n",
    "        moyennes_matieres.append(round(somme / denom, 2)) # On calcul la moyenne générale\n",
    "\n",
    "    else:\n",
    "        moyennes_matieres.append('') # Sinon on ajoute ''\n",
    "\n",
    "print(moyennes_matieres)"
   ]
  },
  {
   "cell_type": "markdown",
   "id": "382f8be8",
   "metadata": {},
   "source": [
    "---\n",
    "\n",
    "# Calculer la moyenne générale pour chaque élève en tenant compte des coefficients (dans une liste également)"
   ]
  },
  {
   "cell_type": "code",
   "execution_count": null,
   "id": "ba6a1079",
   "metadata": {},
   "outputs": [],
   "source": [
    "moyennes_coef = [] # Liste des moyennes coéfficientées de chaque élève\n",
    "for i, eleve in enumerate(moyennes): # Pour chaque liste de moyennes d'un élève\n",
    "    somme = 0 # La somme des notes initialisée à 0 (numérateur de la moyenne)\n",
    "    denom = 0 # Le nombre de notes initialisée à 0 (dénominateur de la moyenne)\n",
    "\n",
    "    for j, moyenne in enumerate(eleve): # Pour chaque moyenne d'une matière\n",
    "\n",
    "        if isinstance(moyenne, float): # Si elle existe (type float)\n",
    "            somme += moyenne * int(matieres[j][2]) # On l'ajoute à la somme multiplié par son coefficient\n",
    "            denom += 1 * int(matieres[j][2]) # On ajoute 1 au dénominateur multiplié par son coefficient\n",
    "            \n",
    "    moyennes_coef.append(round(somme / denom, 2)) # On calcul la moyenne coefficienté et on l'ajoute à la liste\n",
    "\n",
    "print(moyennes_coef)"
   ]
  },
  {
   "cell_type": "markdown",
   "id": "aec178eb",
   "metadata": {},
   "source": [
    "---\n",
    "\n",
    "#  Créer un fichier bilan notes.csv\n",
    "\n",
    "### (séparateurs ‘ ; ’ ) avec une entête « nom;Informatique ;Système ;TP ;Moyenne générale », qui liste les noms et les moyennes, puis en ajoutant à la fin une ligne vide, suivie de moyennes dans la première colonne, puis les valeurs des moyennes dans la colonne suivante."
   ]
  },
  {
   "cell_type": "code",
   "execution_count": null,
   "id": "41856bd1",
   "metadata": {},
   "outputs": [],
   "source": [
    "with open ('notes livrets.csv', 'r') as file: # Ouverture et lecture du fichier csv\n",
    "    fichier = file.read().split('\\n') # On créer une liste de chaque ligne\n",
    "\n",
    "    fichier.pop(0) # On enlève la première ligne (noms des colones)\n",
    "\n",
    "liste_nom = [ligne[:ligne.find(';')] for ligne in fichier] # On crée une liste qui contient tout ce qu'il y a dans une ligne jusqu'au premier ';' (=nom de l'élève)\n",
    "\n",
    "bilan = \"nom ;\" # Initialisation du texte final avec le nom de la première colone\n",
    "\n",
    "for matiere in matieres: # Pour chaque matière\n",
    "    bilan += f\"{matiere[0]} ;\" # On ajoute son intitulé à la première ligne du texte final\n",
    "\n",
    "bilan += \"Moyenne générale\\n\" # On ajoute le nom de la dernière colone au texte final\n",
    "\n",
    "for i, nom in enumerate(liste_nom): # Pour chaque élève\n",
    "    bilan += f\"{nom};{moyennes[i][0]};{moyennes[i][1]};{moyennes[i][2]};{moyennes_coef[i]}\\n\" # On créer une ligne avec le nom, les 3 moyennes et la moyenne coefficientée\n",
    "    \n",
    "bilan += f\"\\nmoyennes;{moyennes_matieres[0]};{moyennes_matieres[1]};{moyennes_matieres[2]};{round(sum(moyennes_coef) / len(moyennes_coef), 2)}\" # On ajoute à la fin la lignes avec toutes les moyennes générales\n",
    "\n",
    "bilan = bilan.replace('.', ',') # on remplace les '.' par des ',' pour les notes\n",
    "\n",
    "with open (\"bilan notes.csv\", \"w\") as file: # On écrit le texte final dans un fichier sauvegardé au format CSV\n",
    "    file.write(bilan)"
   ]
  }
 ],
 "metadata": {
  "kernelspec": {
   "display_name": "Python 3",
   "language": "python",
   "name": "python3"
  },
  "language_info": {
   "codemirror_mode": {
    "name": "ipython",
    "version": 3
   },
   "file_extension": ".py",
   "mimetype": "text/x-python",
   "name": "python",
   "nbconvert_exporter": "python",
   "pygments_lexer": "ipython3",
   "version": "3.7.9"
  },
  "vscode": {
   "interpreter": {
    "hash": "9ef7018aa8daec01a119e0ae047546aed5b285b43e8fe7480d338bd98da61027"
   }
  }
 },
 "nbformat": 4,
 "nbformat_minor": 5
}
