{
 "cells": [
  {
   "attachments": {},
   "cell_type": "markdown",
   "id": "45b50d65",
   "metadata": {},
   "source": [
    "# Contexte du projet\n",
    "Au sein du bureau d'études, on vous fournit des données sous forme d'un fichier CSV. On vous demande d'en effectuer le traitement, puis de fournir en retour un fichier de données au format CSV présentant le résultat du traitement.\n",
    "\n",
    "---\n",
    "\n",
    "# Modalités pédagogiques\n",
    "On travaille sur un fichier contenant les notes obtenues par des élèves : notes bts blanc.csv.\n",
    "\n",
    "Ouvrir ce fichier dans Excel (visualiseur par défaut pour ce type de fichier) pour en voir le contenu, et l’organisation.\n",
    "\n",
    "Développer une application en python effectuant le traitement de ce fichier : A partir du fichier notes bts blanc.csv :\n",
    "\n",
    "• Ouvrir le fichier\n",
    "\n",
    "• Importer les noms dans une liste **noms **et les notes dans une liste notes\n",
    "\n",
    "• Calculer la moyenne des notes\n",
    "\n",
    "• A noter que pour les élèves absents (note = abs), ils ne rentrent pas en compte dans le calcul de la moyenne.\n",
    "\n",
    "• Afficher à l’écran les noms, les notes, puis à la fin la moyenne\n",
    "\n",
    "• Créer un fichier bilan bts blanc.csv (séparateurs ‘; ’ ) avec une entête « nom;note », qui liste les noms et les notes, puis en ajoutant à la fin une ligne vide, suivi de moyenne dans la première colonne, puis la valeur de la moyenne dans la colonne suivante.\n",
    "\n",
    "• Attention, le fichier bilan doit pouvoir être ouvert sur excel, et donc respecter l'utilisation de ',' comme séparateur décimal."
   ]
  },
  {
   "cell_type": "markdown",
   "id": "63efcd7b",
   "metadata": {},
   "source": [
    "---\n",
    "\n",
    "# Ouvrir le fichier"
   ]
  },
  {
   "cell_type": "code",
   "execution_count": null,
   "id": "f5c4fd35",
   "metadata": {},
   "outputs": [],
   "source": [
    "with open ('notes bts blanc.csv', 'r') as file: # Ouverture fichier csv en mode lecture\n",
    "    fichier = file.read() # Stockage de son contenu dans une variable"
   ]
  },
  {
   "cell_type": "markdown",
   "id": "1f462735",
   "metadata": {},
   "source": [
    "---\n",
    "\n",
    "# Importer les noms dans une liste *noms *et les notes dans une liste notes"
   ]
  },
  {
   "cell_type": "code",
   "execution_count": null,
   "id": "7ccad80d",
   "metadata": {},
   "outputs": [],
   "source": [
    "liste_nom, liste_note = [], [] # Initialisation des 2 listes, nom et note\n",
    "\n",
    "liste_ligne = fichier.split('\\n') # Transformation du fichier en une liste de chaque ligne\n",
    "liste_ligne.pop(-1) # Suppression du dernier élément (ligne vide)\n",
    "\n",
    "for ligne in liste_ligne: # Pour chaque ligne\n",
    "    \n",
    "    ligne = ligne.replace(',', '.').split(';') # Remplacement des virgules par des points et transformation de chaque ligne en une liste de deux éléments, nom et note\n",
    "    liste_nom.append(ligne[0]) # Ajout du premier élément de la sous-liste à la liste nom \n",
    "    \n",
    "    if ligne[1] != 'abs': # Si la note n'est pas 'abs'\n",
    "        liste_note.append(float(ligne[1])) # On la convertit en float et l'ajoute à la liste de notes\n",
    "            \n",
    "    else: # Sinon on l'ajoute sans la convertir\n",
    "        liste_note.append(ligne[1])"
   ]
  },
  {
   "cell_type": "markdown",
   "id": "dc374c4d",
   "metadata": {},
   "source": [
    "---\n",
    "\n",
    "# Calculer la moyenne des notes\n",
    "\n",
    "• A noter que pour les élèves absents (note = abs), ils ne rentrent pas en compte dans le calcul de la moyenne."
   ]
  },
  {
   "cell_type": "code",
   "execution_count": null,
   "id": "8b9a3ccf",
   "metadata": {},
   "outputs": [],
   "source": [
    "somme = 0 # Variable somme initialisé\n",
    "for note in liste_note: # Pour chaque note dans la liste\n",
    "    if isinstance(note, float): # Si la note est de type 'float' on l'ajout à la somme\n",
    "        somme += note\n",
    "        \n",
    "moyenne = round(somme / (len(liste_note) - 1), 2) # Calcul de la moyenne, arrondit à deux chiffres après la virgule"
   ]
  },
  {
   "cell_type": "markdown",
   "id": "f9ef1a40",
   "metadata": {},
   "source": [
    "---\n",
    "\n",
    "# Afficher à l’écran les noms, les notes, puis à la fin la moyenne"
   ]
  },
  {
   "cell_type": "code",
   "execution_count": null,
   "id": "3ad83aba",
   "metadata": {},
   "outputs": [],
   "source": [
    "print (f\"Liste des noms:\\n{liste_nom}\\n\\nListe des notes:\\n{liste_note}\\n\\nMoyenne: {moyenne}\")"
   ]
  },
  {
   "cell_type": "markdown",
   "id": "30d70822",
   "metadata": {},
   "source": [
    "---\n",
    "\n",
    "# Créer un fichier bilan bts blanc.csv\n",
    "\n",
    "• Séparateurs ‘; ’ avec une entête « nom;note », qui liste les noms et les notes, puis en ajoutant à la fin une ligne vide, suivi de moyenne dans la première colonne, puis la valeur de la moyenne dans la colonne suivante."
   ]
  },
  {
   "cell_type": "code",
   "execution_count": null,
   "id": "382ff815",
   "metadata": {},
   "outputs": [],
   "source": [
    "# Pour le fichier final, on récupère le fichier original auquel on ajoute une ligne 'nom;note' au début et une ligne 'moyenne;{valeur de la moyenne}' à la fin\n",
    "fichier_final = f\"nom;note\\n{fichier}\\nmoyenne;{str(moyenne).replace('.', ',')}\"\n",
    "\n",
    "with open (\"bilan bts blanc.csv\", \"w\") as file: # Création et chargement d'un fichier csv\n",
    "    file.write(fichier_final) # Ecriture du fichier final dans le fichier csv"
   ]
  }
 ],
 "metadata": {
  "kernelspec": {
   "display_name": "base",
   "language": "python",
   "name": "python3"
  },
  "language_info": {
   "codemirror_mode": {
    "name": "ipython",
    "version": 3
   },
   "file_extension": ".py",
   "mimetype": "text/x-python",
   "name": "python",
   "nbconvert_exporter": "python",
   "pygments_lexer": "ipython3",
   "version": "3.9.15"
  },
  "vscode": {
   "interpreter": {
    "hash": "ad2bdc8ecc057115af97d19610ffacc2b4e99fae6737bb82f5d7fb13d2f2c186"
   }
  }
 },
 "nbformat": 4,
 "nbformat_minor": 5
}
