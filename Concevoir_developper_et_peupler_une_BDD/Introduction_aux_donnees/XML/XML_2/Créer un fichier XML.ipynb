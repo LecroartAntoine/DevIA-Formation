{
 "cells": [
  {
   "attachments": {},
   "cell_type": "markdown",
   "metadata": {},
   "source": [
    "# Contexte du projet\n",
    "\n",
    "On vous demande de travailler sur des données concernant les chargeurs de voiture électrique de marque Tesla.\n",
    "\n",
    "En vue d'une possible utilisation de ces données par un logiciel tiers, vous devez remettre ces données au format XML.\n",
    "\n",
    "---\n",
    "\n",
    "# Modalités pédagogiques\n",
    "\n",
    "On travaille sur des données concernant les chargeurs de voiture électrique de marque Tesla.\n",
    "\n",
    "Les données sont fournies dans un tableau Excel.\n",
    "\n",
    "On souhaite nettoyer / organiser ces données et les mettre au format XML."
   ]
  },
  {
   "attachments": {},
   "cell_type": "markdown",
   "metadata": {},
   "source": [
    "# 1. Ouvrir le fichier xlsx avec Excel\n",
    "## 1.1. Combien de colonnes (de champs) contient le tableau"
   ]
  },
  {
   "attachments": {},
   "cell_type": "markdown",
   "metadata": {},
   "source": [
    "Le tableau contient 17 colonnes."
   ]
  },
  {
   "attachments": {},
   "cell_type": "markdown",
   "metadata": {},
   "source": [
    "## 1.2. compléter l'id des chargeurs en les numérotant dans l'ordre (en partant de 1)"
   ]
  },
  {
   "attachments": {},
   "cell_type": "markdown",
   "metadata": {},
   "source": [
    "---\n",
    "\n",
    "# 2. Créer un fichier \"chargeursTesla.xml\" à l'aide d'un éditeur de texte (type VsCode)"
   ]
  },
  {
   "attachments": {},
   "cell_type": "markdown",
   "metadata": {},
   "source": [
    "---\n",
    "\n",
    "# 3. Y placer :\n",
    "\n",
    "- l'entête XML\n",
    "- un commentaire détaillant ce que contient le fichier\n",
    "- le noeud racine \"chargeurs\"\n",
    "- un noeud \"chargeur\" par chargeur déclaré, possédant un attribut \"id\", et tous les éléments correspondant aux champs du fichier (on se limitera aux 10 premiers chargeurs)"
   ]
  },
  {
   "attachments": {},
   "cell_type": "markdown",
   "metadata": {},
   "source": [
    "---\n",
    "\n",
    "# 4. On souhaite détailler davantage certains champs, dans le but de pouvoir, par exemple, effectuer des classements par département.\n",
    "\n",
    "- Dupliquer le fichier précédent vers \"chargeursTesla2.xml\", et modifier le noeud \"ad_station\" en ajoutant les noeuds enfants \"département\", \"ville\", \"code postal\", \"autoroute\", \"aire\", \"rue\" (ces 3 derniers noeuds pouvant ne pas être remplis selon le cas).\n"
   ]
  },
  {
   "attachments": {},
   "cell_type": "markdown",
   "metadata": {},
   "source": [
    "---\n",
    "\n",
    "# 5. Quand certains champs comportent une valeur qui ne peut appartenir qu'à un nombre défini de valeur (puiss_max ou type prise, par exemple), on peut simplifier le fichier en modifiant la structure.\n",
    "\n",
    "On crée des noeuds listant les valeurs possibles pour une catégorie. Par exemple, le noeud \"categoriesPuissanceMax\", avec un noeud enfant \"categoriePMax\" par puissance possible, ayant un attribut id unique, et une valeur qui est celle de la puissance. Puis on remplace la valeur du noeud \"puiss_max\", enfant du noeud \"chargeur\", par l'id de la catégorie correspondant.\n",
    "\n",
    "Comme il ne peut y avoir qu'un seul noeud racine, on crée un nouveau noeud racine \"chargeursDatas\", contenant les noeuds enfants : \"chargeurs\" (ancien noeud racine), suivi d'un noeud enfant par catégorie.\n",
    "\n",
    "Modifier le fichier XML pour qu'il prenne en compte cette modification."
   ]
  }
 ],
 "metadata": {
  "kernelspec": {
   "display_name": "base",
   "language": "python",
   "name": "python3"
  },
  "language_info": {
   "codemirror_mode": {
    "name": "ipython",
    "version": 3
   },
   "file_extension": ".py",
   "mimetype": "text/x-python",
   "name": "python",
   "nbconvert_exporter": "python",
   "pygments_lexer": "ipython3",
   "version": "3.9.15"
  },
  "orig_nbformat": 4,
  "vscode": {
   "interpreter": {
    "hash": "ad2bdc8ecc057115af97d19610ffacc2b4e99fae6737bb82f5d7fb13d2f2c186"
   }
  }
 },
 "nbformat": 4,
 "nbformat_minor": 2
}
