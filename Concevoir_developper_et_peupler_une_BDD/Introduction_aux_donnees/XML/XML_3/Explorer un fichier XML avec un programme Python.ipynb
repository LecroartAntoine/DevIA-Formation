{
 "cells": [
  {
   "attachments": {},
   "cell_type": "markdown",
   "metadata": {},
   "source": [
    "# Contexte du projet\n",
    "On souhaite obtenir des informations à partir du fichier XML sur les chargeurs TESLA, produit dans le brief XML n°2.\n",
    "\n",
    "---\n",
    "\n",
    "# Modalités pédagogiques\n",
    "On cherche à lire et exploiter le fichier XML sur les chargeurs TESLA (créé dans un brief précédent), à partir d'un programme Python."
   ]
  },
  {
   "attachments": {},
   "cell_type": "markdown",
   "metadata": {},
   "source": [
    "# 1. Recherche de solution </br>\n",
    "A partir du site https://docs.python.org/3/library/xml.etree.elementtree.html , et des chapitres \"XML tree and elements\" et \"Parsing XML\" de la section \"Tutorial\", faire les exemples proposés pour découvrir les différentes instructions permettant la lecture d'un fichier XML."
   ]
  },
  {
   "attachments": {},
   "cell_type": "markdown",
   "metadata": {},
   "source": [
    "### Parsing XML"
   ]
  },
  {
   "cell_type": "code",
   "execution_count": null,
   "metadata": {},
   "outputs": [],
   "source": [
    "import xml.etree.ElementTree as ET\n",
    "tree = ET.parse('country_data.xml')\n",
    "root = tree.getroot()\n",
    "\n",
    "print(root.tag, root.attrib)\n",
    "\n",
    "for child in root:\n",
    "    print(child.tag, child.attrib)\n",
    "\n",
    "print(root[0][2].text)"
   ]
  },
  {
   "attachments": {},
   "cell_type": "markdown",
   "metadata": {},
   "source": [
    "### Finding interesting elements"
   ]
  },
  {
   "cell_type": "code",
   "execution_count": null,
   "metadata": {},
   "outputs": [],
   "source": [
    "for neighbor in root.iter('neighbor'):\n",
    "    print(neighbor.attrib)\n",
    "\n",
    "for country in root.findall('country'):\n",
    "    gdppc = country.find('gdppc').text\n",
    "    name = country.get('name')\n",
    "    print(name, gdppc)"
   ]
  },
  {
   "attachments": {},
   "cell_type": "markdown",
   "metadata": {},
   "source": [
    "### Modifying an XML File"
   ]
  },
  {
   "cell_type": "code",
   "execution_count": null,
   "metadata": {},
   "outputs": [],
   "source": [
    "for rank in root.iter('rank'):\n",
    "    rank.text = str(int(rank.text) + 1)\n",
    "    rank.set('updated', 'yes')\n",
    "\n",
    "tree.write('output.xml')\n",
    "\n",
    "for country in root.findall('country'):\n",
    "    rank = int(country.find('rank').text)\n",
    "    if rank > 50:\n",
    "        root.remove(country)\n",
    "\n",
    "tree.write('output.xml')"
   ]
  },
  {
   "attachments": {},
   "cell_type": "markdown",
   "metadata": {},
   "source": [
    "### Building XML documents"
   ]
  },
  {
   "cell_type": "code",
   "execution_count": null,
   "metadata": {},
   "outputs": [],
   "source": [
    "a = ET.Element('a')\n",
    "b = ET.SubElement(a, 'b')\n",
    "c = ET.SubElement(a, 'c')\n",
    "d = ET.SubElement(c, 'd')\n",
    "ET.dump(a)"
   ]
  },
  {
   "attachments": {},
   "cell_type": "markdown",
   "metadata": {},
   "source": [
    "### Parsing XML with Namespaces"
   ]
  },
  {
   "cell_type": "code",
   "execution_count": null,
   "metadata": {},
   "outputs": [],
   "source": [
    "root = ET.fromstring(\n",
    "    \"\"\"<?xml version=\"1.0\"?>\n",
    "    <actors xmlns:fictional=\"http://characters.example.com\"\n",
    "            xmlns=\"http://people.example.com\">\n",
    "        <actor>\n",
    "            <name>John Cleese</name>\n",
    "            <fictional:character>Lancelot</fictional:character>\n",
    "            <fictional:character>Archie Leach</fictional:character>\n",
    "        </actor>\n",
    "        <actor>\n",
    "            <name>Eric Idle</name>\n",
    "            <fictional:character>Sir Robin</fictional:character>\n",
    "            <fictional:character>Gunther</fictional:character>\n",
    "            <fictional:character>Commander Clement</fictional:character>\n",
    "        </actor>\n",
    "    </actors>\"\"\"\n",
    ")\n",
    "\n",
    "for actor in root.findall('{http://people.example.com}actor'):\n",
    "    name = actor.find('{http://people.example.com}name')\n",
    "    print(name.text)\n",
    "    for char in actor.findall('{http://characters.example.com}character'):\n",
    "        print(' |-->', char.text)"
   ]
  },
  {
   "attachments": {},
   "cell_type": "markdown",
   "metadata": {},
   "source": [
    "---\n",
    "\n",
    "# 2. Transposer ces instructions à la lecture du fichier XML sur les chargeurs TESLA. Faire quelques essais pour, par exemple, afficher la liste des chargeurs."
   ]
  },
  {
   "cell_type": "code",
   "execution_count": null,
   "metadata": {},
   "outputs": [],
   "source": [
    "import xml.etree.ElementTree as ET\n",
    "tree = ET.parse('chargeursTesla.xml')\n",
    "root = tree.getroot()\n",
    "\n",
    "for chargeur in root.findall('chargeur'):\n",
    "    station = chargeur.find('n_station').text\n",
    "    id = chargeur.get('id')\n",
    "    print(f\"ID : {id} => Station : {station[18:]}\")"
   ]
  },
  {
   "attachments": {},
   "cell_type": "markdown",
   "metadata": {},
   "source": [
    "---\n",
    "\n",
    "# 3. Ecrire un programme qui demander la saisie d'un département, puis affiche le ou les chargeurs de ce département."
   ]
  },
  {
   "cell_type": "code",
   "execution_count": null,
   "metadata": {},
   "outputs": [],
   "source": [
    "def recherche_dep(dep):\n",
    "\n",
    "    trouver = False\n",
    "\n",
    "\n",
    "    for chargeur in root.findall('chargeur'):\n",
    "        if chargeur.find('code_insee').text[:2] == dep:\n",
    "            print(f\"Chargeur dans le département N°{dep} : {chargeur.find('n_station').text}.\\n\")\n",
    "            trouver = True\n",
    "\n",
    "    if not trouver:\n",
    "        print(f\"Pas de chargeur dans le département N°{dep}.\\n\")\n",
    "\n",
    "def menu():\n",
    "    while True:\n",
    "        try:\n",
    "            entree = int(input(\"Saisissez un numéro de département:\\n\"))\n",
    "\n",
    "        except ValueError:\n",
    "            print(\"Entrez un numéro valide !\\n\")\n",
    "            continue\n",
    "\n",
    "        recherche_dep(str(entree))\n",
    "\n",
    "        entree = input(\"Voulez-vous continuer ? (yes)\\n\")\n",
    "        if entree.find('yes') == -1:\n",
    "            break\n",
    "            \n",
    "menu()"
   ]
  },
  {
   "attachments": {},
   "cell_type": "markdown",
   "metadata": {},
   "source": [
    "---\n",
    "\n",
    "# 4. A partir d'une liste contenant le numéro des départements d'une région donnée (la franche-comté par exemple):"
   ]
  },
  {
   "attachments": {},
   "cell_type": "markdown",
   "metadata": {},
   "source": [
    "## 4.1. lister les chargeurs se trouvant dans cette région"
   ]
  },
  {
   "cell_type": "code",
   "execution_count": null,
   "metadata": {},
   "outputs": [],
   "source": [
    "def recherche_reg(reg):\n",
    "\n",
    "    for dep in reg:\n",
    "        trouver = False\n",
    "        for chargeur in root.findall('chargeur'):\n",
    "            if chargeur.find('code_insee').text[:2] == dep:\n",
    "                print(f\"Chargeur dans le département N°{dep} : {chargeur.find('n_station').text}.\\n\")\n",
    "                trouver = True\n",
    "        if not trouver:\n",
    "            print(f\"Pas de chargeur dans le département N°{dep}.\\n\")\n",
    "\n",
    "def menu():\n",
    "    while True:\n",
    "        try:\n",
    "            nbr_dep = int(input(\"Saisissez le nombre de départements dans votre région:\\n\"))\n",
    "            entree = [str(int(input(\"Saisissez un de numéro de département:\\n\"))) for _ in range(nbr_dep)]\n",
    "\n",
    "        except ValueError:\n",
    "            print(\"Entrez un numéro valide !\\n\")\n",
    "            continue\n",
    "\n",
    "        recherche_reg(entree)\n",
    "\n",
    "        entree = input(\"Voulez-vous continuer ? (yes)\\n\")\n",
    "        if entree.find('yes') == -1:\n",
    "            break\n",
    "            \n",
    "menu()"
   ]
  },
  {
   "attachments": {},
   "cell_type": "markdown",
   "metadata": {},
   "source": [
    "## 4.2 calculer le nombre total de prises disponibles ainsi que la puissance cumulée"
   ]
  },
  {
   "cell_type": "code",
   "execution_count": null,
   "metadata": {},
   "outputs": [],
   "source": [
    "def recherche_dep(reg):\n",
    "    \n",
    "    somme_prise = 0\n",
    "    somme_puissance = 0\n",
    "\n",
    "    for chargeur in root.findall('chargeur'):\n",
    "\n",
    "        if chargeur.find('code_insee').text[:2] in reg:\n",
    "            somme_prise += int(chargeur.find('nbre_pdc').text)\n",
    "            somme_puissance += int(chargeur.find('puiss_max').text) * int(chargeur.find('nbre_pdc').text)\n",
    "    \n",
    "    if somme_prise != 0:\n",
    "        print(f\"Nombre de prises dans cette région: {somme_prise} pour une puissance cumulée de {somme_puissance} Watts.\\n\")\n",
    "\n",
    "    else:\n",
    "        print(\"Pas de chargeurs dans ces départements\\n\")\n",
    "    \n",
    "def menu():\n",
    "    while True:\n",
    "\n",
    "        try:\n",
    "            nbr_dep = int(input(\"Combien y a-t-il de départements dans votre région ?:\\n\"))\n",
    "            entree = [str(int(input(\"Saisissez un des numéros de département de votre région:\\n\"))) for _ in range(nbr_dep)]\n",
    "\n",
    "        except ValueError:\n",
    "            print(\"Entrez un numéro valide !\\n\")\n",
    "            continue\n",
    "\n",
    "        recherche_dep(entree)\n",
    "\n",
    "        entree = input(\"Voulez-vous continuer ? (yes)\\n\")\n",
    "        if entree.find('yes') == -1:\n",
    "            break\n",
    "            \n",
    "menu()"
   ]
  },
  {
   "attachments": {},
   "cell_type": "markdown",
   "metadata": {},
   "source": [
    "---\n",
    "\n",
    "# 5. Demander la saisie d'un numéro d'autoroute, puis afficher, s'il y en a, la liste des chargeurs pour cet autoroute ainsi que ses caractéristiques. \n",
    "S'il y a plusieurs chargeurs, la liste sera présentée du nord au sud (on utilisera les coordonnées GPS pour ce classement)."
   ]
  },
  {
   "cell_type": "code",
   "execution_count": null,
   "metadata": {},
   "outputs": [],
   "source": [
    "import xml.etree.ElementTree as ET\n",
    "tree = ET.parse('chargeursTesla2.xml')\n",
    "root = tree.getroot()\n",
    "\n",
    "def recherche_chargeur(autoroute):\n",
    "    liste_lat = []\n",
    "    for child in root:\n",
    "\n",
    "        for chargeur in child.findall('chargeur'):\n",
    "            \n",
    "            for detail in chargeur.findall('ad_station'):\n",
    "                \n",
    "                if f\"A{autoroute}\" == detail.find('autoroute').text :\n",
    "                    liste_lat.append(chargeur.find('Ylatitude').text)\n",
    "        \n",
    "    liste_lat.sort()\n",
    "    \n",
    "    while liste_lat:\n",
    "        for child in root:\n",
    "\n",
    "            for chargeur in child.findall('chargeur'):\n",
    "\n",
    "                if chargeur.find('Ylatitude').text == liste_lat[0]:\n",
    "                    puissance = 150 if chargeur.find('puiss_max').text == \"\"\"\"1\"\"\"\"\" else 250\n",
    "                    type_prise = \"CCS Combo 2 - T2 (spécifique Tesla)\" if chargeur.find('type_prise').text == \"\"\"\"1\"\"\"\"\" else \"CCS Combo 2\"\n",
    "                    print(f\"Chargeur sur la A{autoroute}:\\nNom: {chargeur.find('n_station').text}\\nID: {chargeur.find('id_station').text}\\nPuissance: {puissance} Watts\\nType de prise: {type_prise}\\nLatitude: {chargeur.find('Ylatitude').text}\\nLongitude: {chargeur.find('Xlongitude').text}\\n\\n\")\n",
    "\n",
    "        liste_lat.pop(0)\n",
    "\n",
    "def menu():\n",
    "    while True:\n",
    "\n",
    "        try:\n",
    "            entree = str(int(input(\"Saisissez un numéro d'autoroute':\\n\")))\n",
    "\n",
    "        except ValueError:\n",
    "            print(\"Entrez un numéro valide !\\n\")\n",
    "            continue\n",
    "\n",
    "        recherche_chargeur(entree)\n",
    "\n",
    "        entree = input(\"Voulez-vous continuer ? (yes)\\n\")\n",
    "        if entree.find('yes') == -1:\n",
    "            break\n",
    "            \n",
    "menu()"
   ]
  }
 ],
 "metadata": {
  "kernelspec": {
   "display_name": "base",
   "language": "python",
   "name": "python3"
  },
  "language_info": {
   "codemirror_mode": {
    "name": "ipython",
    "version": 3
   },
   "file_extension": ".py",
   "mimetype": "text/x-python",
   "name": "python",
   "nbconvert_exporter": "python",
   "pygments_lexer": "ipython3",
   "version": "3.9.15"
  },
  "orig_nbformat": 4,
  "vscode": {
   "interpreter": {
    "hash": "ad2bdc8ecc057115af97d19610ffacc2b4e99fae6737bb82f5d7fb13d2f2c186"
   }
  }
 },
 "nbformat": 4,
 "nbformat_minor": 2
}
