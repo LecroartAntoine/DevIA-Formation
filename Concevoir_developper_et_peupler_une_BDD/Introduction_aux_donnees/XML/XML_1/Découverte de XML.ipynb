{
 "cells": [
  {
   "cell_type": "markdown",
   "metadata": {},
   "source": [
    "# Contexte du projet\n",
    "Vous récupérez un fichier de données sur les Circuits de Randonnée dans le Grand Besançon.\n",
    "\n",
    "On vous demande d'analyser l'organisation hiérarchique de ces données dans le but de pouvoir, si nécessaire, en effectuer le traitement (gestion par programme, insertion de BDD, etc...)\n",
    "\n",
    "---\n",
    "\n",
    "# Modalités pédagogiques\n",
    "On travaille sur un fichier de données contenant le détail de circuits de randonnées autour de Besançon.\n",
    "\n",
    "Ce fichier est au format XML.\n",
    "\n",
    "Ouvrez le fichier dans un éditeur de texte. Constatez la difficulté de lecture du document...\n",
    "\n",
    "Utiliser un formatteur XML en ligne pour visualiser le fichier de manière plus lisible\n"
   ]
  },
  {
   "cell_type": "markdown",
   "metadata": {},
   "source": [
    "---\n",
    "\n",
    "## 1. Quel est le noeud racine\n"
   ]
  },
  {
   "cell_type": "markdown",
   "metadata": {},
   "source": [
    "Le noeud racine est 'Rando'."
   ]
  },
  {
   "cell_type": "markdown",
   "metadata": {},
   "source": [
    "---\n",
    "\n",
    "## 2. Etablir la hiérarchie de l'arborescence XML\n"
   ]
  },
  {
   "cell_type": "markdown",
   "metadata": {},
   "source": [
    "Un fichier XML possède un élément racine unique. Chaque élément peut contenir d’autres éléments qui peuvent à leur tour contenir du texte ou d’autres éléments. On peut donc représenter les données d'un fichier XML sous forme d'arbre."
   ]
  },
  {
   "cell_type": "markdown",
   "metadata": {},
   "source": [
    "---\n",
    "\n",
    "## 3. Lister les champs qui caractérisent une randonnée"
   ]
  },
  {
   "attachments": {},
   "cell_type": "markdown",
   "metadata": {},
   "source": [
    "`<status> <description> <liste>`"
   ]
  },
  {
   "cell_type": "markdown",
   "metadata": {},
   "source": [
    "---\n",
    "\n",
    "## 4. Quel noeud XML contient des attributs ? Quels sont-il ?"
   ]
  },
  {
   "cell_type": "markdown",
   "metadata": {},
   "source": [
    "Le noeud 'rando' contient les attributs 'id', 'type' et 'dtInfo'."
   ]
  },
  {
   "cell_type": "markdown",
   "metadata": {},
   "source": [
    "---\n",
    "\n",
    "## 5. Donner un noeud enfant de rando"
   ]
  },
  {
   "cell_type": "markdown",
   "metadata": {},
   "source": [
    "Un noeud enfant de rando est 'nom'."
   ]
  },
  {
   "cell_type": "markdown",
   "metadata": {},
   "source": [
    "---\n",
    "\n",
    "## 6. Combien y'a t-il de noeud enfants à rando"
   ]
  },
  {
   "cell_type": "markdown",
   "metadata": {},
   "source": [
    "Il y a 26 noeuds enfants à rando."
   ]
  },
  {
   "cell_type": "markdown",
   "metadata": {},
   "source": [
    "---\n",
    "\n",
    "## 7. Citer 2 noeuds frères de départ"
   ]
  },
  {
   "cell_type": "markdown",
   "metadata": {},
   "source": [
    "'status' et 'description' sont 2 noeuds frères de départ."
   ]
  },
  {
   "cell_type": "markdown",
   "metadata": {},
   "source": [
    "---\n",
    "\n",
    "## 8. Lister tous les champs qui définissent une randonnée"
   ]
  },
  {
   "attachments": {},
   "cell_type": "markdown",
   "metadata": {},
   "source": [
    "`<nom> <thematique> <souscategorie> <secteur> <commune> <communeAutre> <departAutre> <depart> <arrivee> <descriptif> <alerte> <photo> <duree> <niveau> <longueur> <denivele> <pdf> <photoProfil> <video> <lignesBus> <departX> <departY> <kml> <gpx> <mp3> <carteGenerale>`"
   ]
  },
  {
   "cell_type": "markdown",
   "metadata": {},
   "source": [
    "---\n",
    "\n",
    "## 9. Combien existe-t-il de niveaux de difficulté différents"
   ]
  },
  {
   "cell_type": "markdown",
   "metadata": {},
   "source": [
    "Il existe 3 niveaux de difficulté différents: 'facile', 'moyenne' et 'difficile' ('vert', 'bleu', 'rouge')."
   ]
  },
  {
   "cell_type": "markdown",
   "metadata": {},
   "source": [
    "---\n",
    "\n",
    "## 10. Combien de randonnées sont dans la thématique Forêt"
   ]
  },
  {
   "cell_type": "markdown",
   "metadata": {},
   "source": [
    "Il y a 30 randonnées dans la thématique 'Forêt'."
   ]
  },
  {
   "cell_type": "markdown",
   "metadata": {},
   "source": [
    "---\n",
    "\n",
    "## 11. Quel encodage de caractère est utilisé pour l'enregistrement des données ?"
   ]
  },
  {
   "cell_type": "markdown",
   "metadata": {},
   "source": [
    "L'encodage de caractère 'utf-8' est utilisé pour l'enregistrement des données."
   ]
  },
  {
   "cell_type": "markdown",
   "metadata": {},
   "source": [
    "---\n",
    "\n",
    "## 12. Quel est le commentaire présent dans le fichier ?"
   ]
  },
  {
   "cell_type": "markdown",
   "metadata": {},
   "source": [
    "Le commentaire situé ligne 1 est le suivant: `<!-- Circuits de Randonnée dans le Grand Besançon -->` "
   ]
  }
 ],
 "metadata": {
  "kernelspec": {
   "display_name": "Python 3 (ipykernel)",
   "language": "python",
   "name": "python3"
  },
  "language_info": {
   "codemirror_mode": {
    "name": "ipython",
    "version": 3
   },
   "file_extension": ".py",
   "mimetype": "text/x-python",
   "name": "python",
   "nbconvert_exporter": "python",
   "pygments_lexer": "ipython3",
   "version": "3.9.15 (main, Nov 24 2022, 14:39:17) [MSC v.1916 64 bit (AMD64)]"
  },
  "vscode": {
   "interpreter": {
    "hash": "ad2bdc8ecc057115af97d19610ffacc2b4e99fae6737bb82f5d7fb13d2f2c186"
   }
  }
 },
 "nbformat": 4,
 "nbformat_minor": 2
}
