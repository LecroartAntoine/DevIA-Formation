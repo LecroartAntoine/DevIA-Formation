{
 "cells": [
  {
   "attachments": {},
   "cell_type": "markdown",
   "metadata": {},
   "source": [
    "# Connexion à la base de données"
   ]
  },
  {
   "attachments": {},
   "cell_type": "markdown",
   "metadata": {},
   "source": [
    "```\n",
    "\n",
    "pip install firebase-admin\n",
    "\n",
    "```"
   ]
  },
  {
   "cell_type": "code",
   "execution_count": null,
   "metadata": {},
   "outputs": [],
   "source": [
    "import firebase_admin\n",
    "from firebase_admin import credentials\n",
    "from firebase_admin import firestore\n",
    "\n",
    "# Use a service account.\n",
    "cred = credentials.Certificate('Files/devia-f6704-firebase-adminsdk-ay7ci-26941e7999.json')\n",
    "\n",
    "app = firebase_admin.initialize_app(cred)\n",
    "\n",
    "db = firestore.client()"
   ]
  },
  {
   "attachments": {},
   "cell_type": "markdown",
   "metadata": {},
   "source": [
    "---\n",
    "---\n",
    "\n",
    "# Traitement des données"
   ]
  },
  {
   "attachments": {},
   "cell_type": "markdown",
   "metadata": {},
   "source": [
    "### Convertir les données en json"
   ]
  },
  {
   "cell_type": "code",
   "execution_count": null,
   "metadata": {},
   "outputs": [],
   "source": [
    "import json\n",
    "\n",
    "with open (\"Files/donnees1.txt\", \"r\") as file:\n",
    "    datas = file.read().split(\"\\n\")\n",
    "\n",
    "with open (\"Files/donnees2.txt\", \"r\") as file:\n",
    "    datas.extend(file.read().split(\"\\n\"))\n",
    "\n",
    "final_data = {}\n",
    "for i, data in enumerate(datas):\n",
    "    final_data[i] = json.loads(data)\n",
    "\n",
    "with open (\"Files/donnees.json\", \"w\") as file:\n",
    "    json.dump(final_data, file)"
   ]
  },
  {
   "attachments": {},
   "cell_type": "markdown",
   "metadata": {},
   "source": [
    "---\n",
    "---\n",
    "\n",
    "# Ajout des données à Firestore"
   ]
  },
  {
   "attachments": {},
   "cell_type": "markdown",
   "metadata": {},
   "source": [
    "\n",
    "### Importer les données"
   ]
  },
  {
   "cell_type": "code",
   "execution_count": null,
   "metadata": {},
   "outputs": [],
   "source": [
    "import os, json\n",
    "\n",
    "with open (\"Files/donnees.json\", \"r\") as file:\n",
    "    datas = json.load(file)"
   ]
  },
  {
   "attachments": {},
   "cell_type": "markdown",
   "metadata": {},
   "source": [
    "---\n",
    "\n",
    "### Upload des données sur la BDD Firebase"
   ]
  },
  {
   "cell_type": "code",
   "execution_count": null,
   "metadata": {},
   "outputs": [],
   "source": [
    "for key in datas: # Notre Json contient tous les users dans un dictionnaire avec les clefs numérotés (\"0\", \"1\", ...)\n",
    "    db.collection('users').document(datas[key][\"user\"]).set(datas[key][\"personalData\"]) # On ajoute le champ \"personnalData\" au document <userID> (3ac88a6d-bbcf-4ab2-88f2-9df2e1dd32b0 par ex)\n",
    "\n",
    "    for tags_key in list(datas[key][\"tags\"].keys()): # On récupere tous les noms de tags\n",
    "\n",
    "        db.collection('users').document(datas[key][\"user\"]).collection(\"tags\").document(tags_key).set({\"algo\" : datas[key][\"tags\"][tags_key]['algo']}) # Pour chaque user, pour chaque tag, on ajoute un document au nom du tag avec un champ \"algo\" : \"A_\".\n",
    "\n",
    "        for element in datas[key][\"tags\"][tags_key][\"hist\"]: # On récupère la liste \"hist\" pour chaque user dans notre fichier json, on itère les éléments\n",
    "            \n",
    "            # Pour chaque élément on réorganise le timestamp et l'url dans 1 seul dico\n",
    "            dict_to_add = {}\n",
    "            dict_to_add[\"ts\"] =  element[\"ts\"][\"$date\"]\n",
    "            dict_to_add[\"url\"] = element[\"url\"]\n",
    "\n",
    "            db.collection('users').document(datas[key][\"user\"]).collection(\"tags\").document(tags_key).collection('hist').add(dict_to_add) # On ajoute ce dico dans la collection 'hist' dans un document (Id généré aléatoirement)."
   ]
  },
  {
   "attachments": {},
   "cell_type": "markdown",
   "metadata": {},
   "source": [
    "---\n",
    "---\n",
    "\n",
    "# Résultat"
   ]
  },
  {
   "attachments": {},
   "cell_type": "markdown",
   "metadata": {},
   "source": [
    "![alternative text](Files/Screenshot_BDD_1.png)\n",
    "![alternative text](Files/Screenshot_BDD_2.png)\n",
    "![alternative text](Files/Screenshot_BDD_3.png)"
   ]
  }
 ],
 "metadata": {
  "kernelspec": {
   "display_name": "base",
   "language": "python",
   "name": "python3"
  },
  "language_info": {
   "codemirror_mode": {
    "name": "ipython",
    "version": 3
   },
   "file_extension": ".py",
   "mimetype": "text/x-python",
   "name": "python",
   "nbconvert_exporter": "python",
   "pygments_lexer": "ipython3",
   "version": "3.9.16"
  },
  "orig_nbformat": 4,
  "vscode": {
   "interpreter": {
    "hash": "45bb1cb4637e4034484920e5cfb24c9afd84b0847d6c36e39edd3067d3a05462"
   }
  }
 },
 "nbformat": 4,
 "nbformat_minor": 2
}
