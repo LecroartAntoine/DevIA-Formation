{
 "cells": [
  {
   "attachments": {},
   "cell_type": "markdown",
   "metadata": {},
   "source": [
    "# Créer une table\n",
    "\n",
    "\n",
    "Nous allons créer une table permettant de lister les utilisateurs d’un site ainsi que leurs droits\n",
    "(super utilisateur, ou simple utilisateur). </br>\n",
    "- Une base de données nommée « prenom.nom » a déjà été créée.\n",
    "- Cliquer sur la base de données à gauche. Il s’affiche « Aucune table n’a été trouvée\n",
    "dans cette base de données ».\n",
    "- Dans l’encart « nouvelle table », rentrer les informations pour créer une nouvelle\n",
    "table : Nom : « utilisateurs », nombre de colonnes : 3.</br>\n",
    "\n",
    "La table est immédiatement créée : il faut maintenant indiquer le nom des champs, et les\n",
    "données qu'ils peuvent contenir.</br>\n",
    "\n",
    "Créer les trois champs suivants dans la colonne « Nom » :\n",
    "- Id : comme bien souvent, vous allez devoir créer un champ appelé id. C'est le\n",
    "numéro d'identification. Grâce à lui, toutes vos entrées seront numérotées, ce qui\n",
    "est bien pratique\n",
    "- Login : ce champ contiendra l’identifiant d’un utilisateur\n",
    "- Password : enfin, ce champ contiendra le mot de passe de l’utilisateur"
   ]
  },
  {
   "cell_type": "code",
   "execution_count": null,
   "metadata": {},
   "outputs": [],
   "source": [
    "CREATE TABLE `antoine.lecroart`.`utilisateurs` (`Id` INT NOT NULL AUTO_INCREMENT , `Login` VARCHAR(25) NOT NULL , `Password` VARCHAR(25) NOT NULL , PRIMARY KEY (`Id`)) ENGINE = InnoDB; "
   ]
  },
  {
   "attachments": {},
   "cell_type": "markdown",
   "metadata": {},
   "source": [
    "![Image](Images/BDD_1.jpg)"
   ]
  },
  {
   "attachments": {},
   "cell_type": "markdown",
   "metadata": {},
   "source": [
    "Créer une nouvelle entrée avec les valeurs suivantes : login = ‘root’ ; password = ‘password’. (Attention, il ne faut pas donner de valeur à id qui s’incrémente automatiquement. SQL va donc lui donner une valeur par défaut de départ (1) et l’incrémenter à chaque nouvelle entrée). Une fois les informations entrées, cliquer sur exécuter."
   ]
  },
  {
   "cell_type": "code",
   "execution_count": null,
   "metadata": {},
   "outputs": [],
   "source": [
    "INSERT INTO `utilisateurs` (`Id`, `Login`, `Password`) VALUES (NULL, 'root', 'password') "
   ]
  },
  {
   "attachments": {},
   "cell_type": "markdown",
   "metadata": {},
   "source": [
    "![Image](Images/BDD_2.jpg)"
   ]
  },
  {
   "attachments": {},
   "cell_type": "markdown",
   "metadata": {},
   "source": [
    "Recommencer cette manipulation afin d’ajouter deux nouveaux utilisateurs : ‘user1’ ; ‘password1’ et ‘user2’ ; ‘password2’."
   ]
  },
  {
   "cell_type": "code",
   "execution_count": null,
   "metadata": {},
   "outputs": [],
   "source": [
    "INSERT INTO `utilisateurs` (`Id`, `Login`, `Password`) VALUES (NULL, 'user1', 'password1'), (NULL, 'user2', 'password2');"
   ]
  },
  {
   "attachments": {},
   "cell_type": "markdown",
   "metadata": {},
   "source": [
    "![Image](Images/BDD_3.jpg)"
   ]
  },
  {
   "attachments": {},
   "cell_type": "markdown",
   "metadata": {},
   "source": [
    "Rajouter un champ « superUser » dans votre table qui ne peut prendre que trois valeurs différentes (0 ou 1 ; aide : https://www.w3schools.com/sql/sql_datatypes.asp).\n",
    "Ce champ pourrait être utilisé de la manière suivante :\n",
    "- S’il est à 1 : l’utilisateur a des droits plus importants que simple utilisateur\n",
    "- S’il est à 0 : l’utilisateur reste simple utilisateur"
   ]
  },
  {
   "cell_type": "code",
   "execution_count": null,
   "metadata": {},
   "outputs": [],
   "source": [
    "ALTER TABLE `utilisateurs` ADD `superUser` BOOLEAN NOT NULL AFTER `Password`; "
   ]
  },
  {
   "attachments": {},
   "cell_type": "markdown",
   "metadata": {},
   "source": [
    "![Image](Images/BDD_4.jpg)\n",
    "\n",
    "---\n",
    "\n",
    "![Image](Images/BDD_5.jpg)"
   ]
  },
  {
   "attachments": {},
   "cell_type": "markdown",
   "metadata": {},
   "source": [
    "Faire une simulation en autorisant les droits à un ou plusieurs utilisateurs"
   ]
  },
  {
   "cell_type": "code",
   "execution_count": null,
   "metadata": {},
   "outputs": [],
   "source": [
    "UPDATE `utilisateurs` SET `superUser` = '1' WHERE `utilisateurs`.`Id` = 1; "
   ]
  },
  {
   "attachments": {},
   "cell_type": "markdown",
   "metadata": {},
   "source": [
    "![Image](Images/BDD_6.jpg)"
   ]
  },
  {
   "attachments": {},
   "cell_type": "markdown",
   "metadata": {},
   "source": [
    "Ajouter à votre base de données une seconde table nommée ‘IMC’. Puis configurer cette table en y ajoutant les champs : ‘nom’ ; ‘prenom’ ; ‘taille’ ; ‘poids’ ; ‘genre’ ; ‘IMC’. En réfléchissant au type de données (: https://www.w3schools.com/sql/sql_datatypes.asp)."
   ]
  },
  {
   "cell_type": "code",
   "execution_count": null,
   "metadata": {},
   "outputs": [],
   "source": [
    "CREATE TABLE `antoine.lecroart`.`IMC` (`Id` INT NOT NULL AUTO_INCREMENT , `nom` VARCHAR(25) NOT NULL , `prenom` VARCHAR(25) NOT NULL , `taille` INT(220) NOT NULL , `poids` FLOAT NOT NULL , `genre` BOOLEAN NOT NULL , `IMC` FLOAT(50) NOT NULL , PRIMARY KEY (`Id`)) ENGINE = InnoDB; "
   ]
  },
  {
   "attachments": {},
   "cell_type": "markdown",
   "metadata": {},
   "source": [
    "![Image](Images/BDD_7.jpg)"
   ]
  },
  {
   "attachments": {},
   "cell_type": "markdown",
   "metadata": {},
   "source": [
    "De même que précédemment, faire quelques entrées pour tester la table (simuler les données de deux ou trois personnes dans la base)."
   ]
  },
  {
   "cell_type": "code",
   "execution_count": null,
   "metadata": {},
   "outputs": [],
   "source": [
    "INSERT INTO `IMC` (`Id`, `nom`, `prenom`, `taille`, `poids`, `genre`, `IMC`) VALUES (NULL, 'Pierron', 'Tom-Lou', '172', '68', '0', '19.2'), (NULL, 'Vuillemin', 'Ethan', '184', '76', '0', '23.0'), (NULL, 'Lécroart', 'Antoine', '194', '72', '0', '18.6') "
   ]
  },
  {
   "attachments": {},
   "cell_type": "markdown",
   "metadata": {},
   "source": [
    "![Image](Images/BDD_8.jpg)"
   ]
  }
 ],
 "metadata": {
  "kernelspec": {
   "display_name": "Python 3",
   "language": "python",
   "name": "python3"
  },
  "language_info": {
   "codemirror_mode": {
    "name": "ipython",
    "version": 3
   },
   "file_extension": ".py",
   "mimetype": "text/x-python",
   "name": "python",
   "nbconvert_exporter": "python",
   "pygments_lexer": "ipython3",
   "version": "3.7.9 (tags/v3.7.9:13c94747c7, Aug 17 2020, 18:58:18) [MSC v.1900 64 bit (AMD64)]"
  },
  "orig_nbformat": 4,
  "vscode": {
   "interpreter": {
    "hash": "9ef7018aa8daec01a119e0ae047546aed5b285b43e8fe7480d338bd98da61027"
   }
  }
 },
 "nbformat": 4,
 "nbformat_minor": 2
}
