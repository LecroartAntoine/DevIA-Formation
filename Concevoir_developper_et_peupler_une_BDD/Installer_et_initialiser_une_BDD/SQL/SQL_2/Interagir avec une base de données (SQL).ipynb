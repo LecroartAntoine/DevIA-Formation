{
 "cells": [
  {
   "attachments": {},
   "cell_type": "markdown",
   "metadata": {},
   "source": [
    "# Tester les requêtes\n",
    "\n",
    "Cliquer sur la base sur laquelle la requête doit être effectuée (choisir une des deux tables, peu importe). Ensuite, dans l’onglet SQL il est possible de rentrer n’importe quelle requête SQL. Il est également possible d’avoir des requêtes déjà formatées en cliquant sur les différents boutons de requêtes en bas. Dans la colonne de droite, il y a les champs que l’on peut utiliser. En double cliquant dessus, le champ s’écrit dans la requête de manière déjà formatée. <br><br>\n",
    "\n",
    "Après avoir exécuté les deux requêtes précédentes (SELECT et UPDATE) ajouter manuellement les entrées suivantes dans la table utilisateur (Login:pssword:superuser) :\n",
    "- User10:password10:0\n",
    "- User20:password20:0\n",
    "- User30:password30:1\n",
    "- User40:password40:1\n",
    "- User50:password50:0\n",
    "- User60:password60:1"
   ]
  },
  {
   "cell_type": "code",
   "execution_count": null,
   "metadata": {},
   "outputs": [],
   "source": [
    "INSERT INTO `utilisateurs` (`Id`, `Login`, `Password`, `superUser`) VALUES (NULL, 'user10', 'password10', '0'), (NULL, 'user20', 'password20', '0'), (NULL, 'user30', 'password30', '1'), (NULL, 'user40', 'password40', '1'), (NULL, 'user50', 'password50', '0'), (NULL, 'user60', 'password60', '1');"
   ]
  },
  {
   "attachments": {},
   "cell_type": "markdown",
   "metadata": {},
   "source": [
    "![Image](Images/BDD_1.jpg)"
   ]
  },
  {
   "attachments": {},
   "cell_type": "markdown",
   "metadata": {},
   "source": [
    "Dans la table IMC (nom:prenom:taille:poids:genre:IMC) :\n",
    "\n",
    "Si vous choisissez de coder le genre avec un seul caractère, alors remplacer le genre par la lettre que vous avez choisie (ex : homme = h ; femme = f). Si vous choisissez de le coder avec un chiffre alors homme=0 et femme=1 par exemple, ou l’inverse. <br>\n",
    "\n",
    "Dans les entrées ci-dessous, « NULL » ne veut pas dire écrire « NULL » dans la case. Le champ doit pouvoir être NULL, il faut pour cela retourner dans la structure de la table et autoriser ce champ à être NULL (cocher la case null). <br>\n",
    "\n",
    "- Nom30:prenom30:130:50:homme:NULL\n",
    "- Nom40:prenom40:140:60:femme:NULL\n",
    "- Nom50:prenom50:150:70:femme:NULL\n",
    "- Nom60:prenom60:160:80:homme:NULL\n",
    "- Nom65:prenom65:165:80:femme:NULL\n",
    "- Nom68:prenom68:168:80:homme:NULL\n",
    "- Nom70:prenom70:170:90:homme:NULL\n",
    "- Nom80:prenom80:180:100:homme:NULL\n",
    "- Nom90:prenom90:190:110:femme:NULL\n"
   ]
  },
  {
   "cell_type": "code",
   "execution_count": null,
   "metadata": {},
   "outputs": [],
   "source": [
    "ALTER TABLE `IMC` CHANGE `IMC` `IMC` DOUBLE NULL; \n",
    "\n",
    "INSERT INTO `IMC` (`nom`, `prenom`, `taille`, `poids`, `genre`, `IMC`) VALUES ('nom30', 'prenom30', 130, 50, 0, NULL), ('nom40', 'prenom40', 140, 60, 1, NULL) , ('nom50', 'prenom50', 150, 70, 1, NULL) , ('nom60', 'prenom60', 160, 80, 0, NULL) , ('nom65', 'prenom65', 165, 80, 1, NULL) , ('nom68', 'prenom68', 168, 80, 0, NULL) , ('nom70', 'prenom70', 170, 90, 0, NULL) , ('nom80', 'prenom80', 180, 100, 0, NULL) , ('nom90', 'prenom90', 190, 110, 1, NULL);"
   ]
  },
  {
   "attachments": {},
   "cell_type": "markdown",
   "metadata": {},
   "source": [
    "![Image](Images/BDD_2.jpg)"
   ]
  },
  {
   "attachments": {},
   "cell_type": "markdown",
   "metadata": {},
   "source": [
    "---\n",
    "---\n",
    "\n",
    "## Pour les questions suivantes, trouver les requêtes SQL permettant de faire l’action voulue. \n",
    "Vous pouvez vous aider d’internet.\n",
    "\n",
    "---\n",
    "\n",
    "### Q1) Sélectionner toutes les lignes de la table ‘utilisateurs’."
   ]
  },
  {
   "cell_type": "code",
   "execution_count": null,
   "metadata": {},
   "outputs": [],
   "source": [
    "SELECT * FROM `utilisateurs` WHERE 1"
   ]
  },
  {
   "attachments": {},
   "cell_type": "markdown",
   "metadata": {},
   "source": [
    "![Image](Images/BDD_3.jpg)"
   ]
  },
  {
   "attachments": {},
   "cell_type": "markdown",
   "metadata": {},
   "source": [
    "---\n",
    "\n",
    "### Q2) Sélectionner toutes les lignes de la table ‘IMC’."
   ]
  },
  {
   "cell_type": "code",
   "execution_count": null,
   "metadata": {},
   "outputs": [],
   "source": [
    "SELECT * FROM `IMC` WHERE 1"
   ]
  },
  {
   "attachments": {},
   "cell_type": "markdown",
   "metadata": {},
   "source": [
    "![Image](Images/BDD_4.jpg)"
   ]
  },
  {
   "attachments": {},
   "cell_type": "markdown",
   "metadata": {},
   "source": [
    "---\n",
    "\n",
    "### Q3) Sélectionner toutes les lignes de la table ‘utilisateurs’ et ‘IMC’ à la fois."
   ]
  },
  {
   "cell_type": "code",
   "execution_count": null,
   "metadata": {},
   "outputs": [],
   "source": [
    "SELECT * FROM `utilisateurs`, `IMC` WHERE 1"
   ]
  },
  {
   "attachments": {},
   "cell_type": "markdown",
   "metadata": {},
   "source": [
    "![Image](Images/BDD_5.jpg)"
   ]
  },
  {
   "attachments": {},
   "cell_type": "markdown",
   "metadata": {},
   "source": [
    "---\n",
    "\n",
    "### Q4) Sélectionner tous les utilisateurs qui sont super utilisateurs."
   ]
  },
  {
   "cell_type": "code",
   "execution_count": null,
   "metadata": {},
   "outputs": [],
   "source": [
    "SELECT * FROM `utilisateurs` WHERE `superUser` = 1"
   ]
  },
  {
   "attachments": {},
   "cell_type": "markdown",
   "metadata": {},
   "source": [
    "![Image](Images/BDD_6.jpg)"
   ]
  },
  {
   "attachments": {},
   "cell_type": "markdown",
   "metadata": {},
   "source": [
    "---\n",
    "\n",
    "### Q5) Sélectionner toutes les personnes qui pèsent plus de 65 Kg."
   ]
  },
  {
   "cell_type": "code",
   "execution_count": null,
   "metadata": {},
   "outputs": [],
   "source": [
    "SELECT * FROM `IMC` WHERE `poids` > 65"
   ]
  },
  {
   "attachments": {},
   "cell_type": "markdown",
   "metadata": {},
   "source": [
    "![Image](Images/BDD_8.jpg)"
   ]
  },
  {
   "attachments": {},
   "cell_type": "markdown",
   "metadata": {},
   "source": [
    "---\n",
    "\n",
    "### Q6) Sélectionner toutes les personnes qui mesurent moins de 175cm ET qui pèsent plus de 62 Kg."
   ]
  },
  {
   "cell_type": "code",
   "execution_count": null,
   "metadata": {},
   "outputs": [],
   "source": [
    "SELECT * FROM `IMC` WHERE `taille` < 175 AND `poids` > 62"
   ]
  },
  {
   "attachments": {},
   "cell_type": "markdown",
   "metadata": {},
   "source": [
    "![Image](Images/BDD_9.jpg)"
   ]
  },
  {
   "attachments": {},
   "cell_type": "markdown",
   "metadata": {},
   "source": [
    "---\n",
    "\n",
    "### Q7) Mettre l’IMC de toutes les personnes qui pèsent 80Kg à la valeur 20."
   ]
  },
  {
   "cell_type": "code",
   "execution_count": null,
   "metadata": {},
   "outputs": [],
   "source": [
    "UPDATE `IMC` SET `IMC`.`IMC` = 20 WHERE `IMC`.`poids` = 80"
   ]
  },
  {
   "attachments": {},
   "cell_type": "markdown",
   "metadata": {},
   "source": [
    "![Image](Images/BDD_10.jpg)"
   ]
  },
  {
   "attachments": {},
   "cell_type": "markdown",
   "metadata": {},
   "source": [
    "---\n",
    "\n",
    "### Q8) Supprimer de la table IMC la personne dont le nom est NOM80."
   ]
  },
  {
   "cell_type": "code",
   "execution_count": null,
   "metadata": {},
   "outputs": [],
   "source": [
    "DELETE FROM `IMC` WHERE `IMC`.`nom` = 'nom80'"
   ]
  },
  {
   "attachments": {},
   "cell_type": "markdown",
   "metadata": {},
   "source": [
    "![Image](Images/BDD_11.jpg)"
   ]
  },
  {
   "attachments": {},
   "cell_type": "markdown",
   "metadata": {},
   "source": [
    "---\n",
    "\n",
    "### Bonus : Calcul de L'IMC"
   ]
  },
  {
   "cell_type": "code",
   "execution_count": null,
   "metadata": {},
   "outputs": [],
   "source": [
    "UPDATE IMC\n",
    "SET IMC = poids / ((taille / 100) * (taille / 100));"
   ]
  },
  {
   "attachments": {},
   "cell_type": "markdown",
   "metadata": {},
   "source": [
    "![Image](Images/BDD_12.jpg)"
   ]
  }
 ],
 "metadata": {
  "kernelspec": {
   "display_name": "base",
   "language": "python",
   "name": "python3"
  },
  "language_info": {
   "name": "python",
   "version": "3.9.15 (main, Nov 24 2022, 14:39:17) [MSC v.1916 64 bit (AMD64)]"
  },
  "orig_nbformat": 4,
  "vscode": {
   "interpreter": {
    "hash": "ad2bdc8ecc057115af97d19610ffacc2b4e99fae6737bb82f5d7fb13d2f2c186"
   }
  }
 },
 "nbformat": 4,
 "nbformat_minor": 2
}
