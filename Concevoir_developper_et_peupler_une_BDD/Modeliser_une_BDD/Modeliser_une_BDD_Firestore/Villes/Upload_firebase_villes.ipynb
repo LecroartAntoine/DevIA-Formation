{
 "cells": [
  {
   "attachments": {},
   "cell_type": "markdown",
   "metadata": {},
   "source": [
    "# Connexion à la base de données"
   ]
  },
  {
   "cell_type": "code",
   "execution_count": null,
   "metadata": {},
   "outputs": [],
   "source": [
    "import firebase_admin\n",
    "from firebase_admin import credentials\n",
    "from firebase_admin import firestore\n",
    "\n",
    "# Use a service account.\n",
    "cred = credentials.Certificate('Files/devia-f6704-firebase-adminsdk-ay7ci-26941e7999.json')\n",
    "\n",
    "app = firebase_admin.initialize_app(cred)\n",
    "\n",
    "db = firestore.client()"
   ]
  },
  {
   "attachments": {},
   "cell_type": "markdown",
   "metadata": {},
   "source": [
    "---\n",
    "---\n",
    "\n",
    "# Ajout des données"
   ]
  },
  {
   "attachments": {},
   "cell_type": "markdown",
   "metadata": {},
   "source": [
    "### Importer les données"
   ]
  },
  {
   "cell_type": "code",
   "execution_count": null,
   "metadata": {},
   "outputs": [],
   "source": [
    "import json\n",
    "\n",
    "with open (\"Objet_JSON_villes.json\", \"r\") as file:\n",
    "    datas = json.load(file)"
   ]
  },
  {
   "attachments": {},
   "cell_type": "markdown",
   "metadata": {},
   "source": [
    "---\n",
    "\n",
    "### Upload des données sur la BDD Firebase"
   ]
  },
  {
   "cell_type": "code",
   "execution_count": null,
   "metadata": {},
   "outputs": [],
   "source": [
    "for ville in datas[\"villes\"]:\n",
    "\n",
    "    db.collection(\"villes\").document(ville[\"nom\"]).set({key : ville[key] for key in [\"nom\", \"region\", \"departement\", \"appreciation\"]})\n",
    "\n",
    "\n",
    "    if isinstance(ville[\"population\"], int) :\n",
    "\n",
    "        db.collection(\"villes\").document(ville[\"nom\"]).update({\"population\" : ville[\"population\"]})\n",
    "\n",
    "\n",
    "    else :\n",
    "\n",
    "        for dico in ville[\"population\"]:\n",
    "            \n",
    "            db.collection(\"villes\").document(ville[\"nom\"]).collection(\"population\").document(list(dico)[0]).set(dico)\n"
   ]
  },
  {
   "attachments": {},
   "cell_type": "markdown",
   "metadata": {},
   "source": [
    "---\n",
    "---\n",
    "\n",
    "# Résultat\n"
   ]
  },
  {
   "attachments": {},
   "cell_type": "markdown",
   "metadata": {},
   "source": [
    "### Lyon\n",
    "\n",
    "![alternative text](Files/BDD_Villes_01.jpg)"
   ]
  },
  {
   "attachments": {},
   "cell_type": "markdown",
   "metadata": {},
   "source": [
    "---\n",
    "\n",
    "### Paris\n",
    "\n",
    "![alternative text](Files/BDD_Villes_02.jpg)\n",
    "![alternative text](Files/BDD_Villes_03.jpg)"
   ]
  },
  {
   "attachments": {},
   "cell_type": "markdown",
   "metadata": {},
   "source": [
    "---\n",
    "\n",
    "### Nice\n",
    "\n",
    "![alternative text](Files/BDD_Villes_04.jpg)\n",
    "![alternative text](Files/BDD_Villes_05.jpg)"
   ]
  }
 ],
 "metadata": {
  "kernelspec": {
   "display_name": "base",
   "language": "python",
   "name": "python3"
  },
  "language_info": {
   "codemirror_mode": {
    "name": "ipython",
    "version": 3
   },
   "file_extension": ".py",
   "mimetype": "text/x-python",
   "name": "python",
   "nbconvert_exporter": "python",
   "pygments_lexer": "ipython3",
   "version": "3.9.15"
  },
  "orig_nbformat": 4,
  "vscode": {
   "interpreter": {
    "hash": "45bb1cb4637e4034484920e5cfb24c9afd84b0847d6c36e39edd3067d3a05462"
   }
  }
 },
 "nbformat": 4,
 "nbformat_minor": 2
}
