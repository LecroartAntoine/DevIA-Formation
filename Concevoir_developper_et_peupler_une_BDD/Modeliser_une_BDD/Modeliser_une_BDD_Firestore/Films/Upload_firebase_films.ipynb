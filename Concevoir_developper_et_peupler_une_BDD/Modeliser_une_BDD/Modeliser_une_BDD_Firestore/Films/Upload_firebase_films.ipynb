{
 "cells": [
  {
   "attachments": {},
   "cell_type": "markdown",
   "metadata": {},
   "source": [
    "# Connexion à la base de données"
   ]
  },
  {
   "cell_type": "code",
   "execution_count": 4,
   "metadata": {},
   "outputs": [],
   "source": [
    "import firebase_admin\n",
    "from firebase_admin import credentials\n",
    "from firebase_admin import firestore\n",
    "\n",
    "# Use a service account.\n",
    "cred = credentials.Certificate('Files/devia-f6704-firebase-adminsdk-ay7ci-26941e7999.json')\n",
    "\n",
    "app = firebase_admin.initialize_app(cred)\n",
    "\n",
    "db = firestore.client()"
   ]
  },
  {
   "attachments": {},
   "cell_type": "markdown",
   "metadata": {},
   "source": [
    "---\n",
    "---\n",
    "\n",
    "# Ajout des données"
   ]
  },
  {
   "attachments": {},
   "cell_type": "markdown",
   "metadata": {},
   "source": [
    "### Importer les données"
   ]
  },
  {
   "cell_type": "code",
   "execution_count": 5,
   "metadata": {},
   "outputs": [],
   "source": [
    "import os, json\n",
    "\n",
    "with open (\"Objet_JSON_films.json\", \"r\") as file:\n",
    "    datas = json.load(file)"
   ]
  },
  {
   "attachments": {},
   "cell_type": "markdown",
   "metadata": {},
   "source": [
    "---\n",
    "\n",
    "### Upload des données sur la BDD Firebase"
   ]
  },
  {
   "cell_type": "code",
   "execution_count": 6,
   "metadata": {},
   "outputs": [],
   "source": [
    "for film in datas[\"films\"]:\n",
    "\n",
    "    db.collection('films').document(film[\"title\"].replace(\" \", \"_\")).set({key: film[key] for key in [\"title\", \"year\", \"genre\", \"country\"]})\n",
    "\n",
    "\n",
    "    for director in film[\"director\"]:\n",
    "\n",
    "        db.collection('directors').document(f\"{director['last_name']}_{director['first_name']}\").set(director)\n",
    "\n",
    "    for actor in film[\"actors\"]:\n",
    "        db.collection('actors').document(f\"{actor['last_name']}_{actor['first_name']}\").set({key : actor[key] for key in [\"last_name\", \"first_name\", \"birth_date\"]})\n",
    "        db.collection('films').document(film[\"title\"].replace(\" \", \"_\")).collection('actors').document(f\"{actor['last_name']}_{actor['first_name']}\").set({\"role\" : actor[\"role\"], \"info\" : db.collection('actors').document(f\"{actor['last_name']}_{actor['first_name']}\")})\n",
    "\n",
    "\n",
    "\n",
    "\n",
    "for film in datas[\"films\"]:\n",
    "\n",
    "    for director in film[\"director\"]:\n",
    "        doc = db.collection('directors').document(f\"{director['last_name']}_{director['first_name']}\").get().to_dict()\n",
    "        if \"films\" in list(doc):\n",
    "            db.collection('directors').document(f\"{director['last_name']}_{director['first_name']}\").update({\"films\" : firestore.ArrayUnion([db.collection('films').document(film[\"title\"].replace(\" \", \"_\"))])})\n",
    "        else :\n",
    "            db.collection('directors').document(f\"{director['last_name']}_{director['first_name']}\").update({\"films\" : [db.collection('films').document(film[\"title\"].replace(\" \", \"_\"))]})\n",
    "\n",
    "        doc = db.collection('films').document(film[\"title\"].replace(\" \", \"_\")).get().to_dict()\n",
    "        if \"directors\" in list(doc.keys()):\n",
    "            db.collection('films').document(film[\"title\"].replace(\" \", \"_\")).update({\"directors\" : firestore.ArrayUnion([db.collection('directors').document(f\"{director['last_name']}_{director['first_name']}\")])})\n",
    "        else :\n",
    "            db.collection('films').document(film[\"title\"].replace(\" \", \"_\")).update({\"directors\" : [db.collection('directors').document(f\"{director['last_name']}_{director['first_name']}\")]})\n",
    "\n",
    "\n",
    "    for actor in film[\"actors\"]:\n",
    "        doc = db.collection('actors').document(f\"{actor['last_name']}_{actor['first_name']}\").get().to_dict()\n",
    "        if \"films\" in list(doc):\n",
    "            db.collection('actors').document(f\"{actor['last_name']}_{actor['first_name']}\").update({\"films\" : firestore.ArrayUnion([db.collection('films').document(film[\"title\"].replace(\" \", \"_\"))])})\n",
    "        else :\n",
    "            db.collection('actors').document(f\"{actor['last_name']}_{actor['first_name']}\").update({\"films\" : [db.collection('films').document(film[\"title\"].replace(\" \", \"_\"))]})"
   ]
  },
  {
   "attachments": {},
   "cell_type": "markdown",
   "metadata": {},
   "source": [
    "---\n",
    "---\n",
    "\n",
    "# Résultat"
   ]
  },
  {
   "attachments": {},
   "cell_type": "markdown",
   "metadata": {},
   "source": [
    "---\n",
    "\n",
    "### Collection : films\n",
    "\n",
    "![alternative text](Files/BDD_Films_01.jpg)\n",
    "![alternative text](Files/BDD_Films_02.jpg)"
   ]
  },
  {
   "attachments": {},
   "cell_type": "markdown",
   "metadata": {},
   "source": [
    "---\n",
    "\n",
    "### Collection : directors\n",
    "\n",
    "![alternative text](Files/BDD_Films_03.jpg)"
   ]
  },
  {
   "attachments": {},
   "cell_type": "markdown",
   "metadata": {},
   "source": [
    "---\n",
    "\n",
    "### Collection : actors\n",
    "\n",
    "![alternative text](Files/BDD_Films_04.jpg)"
   ]
  }
 ],
 "metadata": {
  "kernelspec": {
   "display_name": "base",
   "language": "python",
   "name": "python3"
  },
  "language_info": {
   "codemirror_mode": {
    "name": "ipython",
    "version": 3
   },
   "file_extension": ".py",
   "mimetype": "text/x-python",
   "name": "python",
   "nbconvert_exporter": "python",
   "pygments_lexer": "ipython3",
   "version": "3.9.15"
  },
  "orig_nbformat": 4,
  "vscode": {
   "interpreter": {
    "hash": "45bb1cb4637e4034484920e5cfb24c9afd84b0847d6c36e39edd3067d3a05462"
   }
  }
 },
 "nbformat": 4,
 "nbformat_minor": 2
}
