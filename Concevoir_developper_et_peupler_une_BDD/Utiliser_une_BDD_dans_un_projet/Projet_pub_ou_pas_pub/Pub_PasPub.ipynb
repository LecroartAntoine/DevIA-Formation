{
 "cells": [
  {
   "attachments": {},
   "cell_type": "markdown",
   "metadata": {},
   "source": [
    "# Projet Pub ou Pas Pub"
   ]
  },
  {
   "attachments": {},
   "cell_type": "markdown",
   "metadata": {},
   "source": [
    "## Imports librairies"
   ]
  },
  {
   "cell_type": "code",
   "execution_count": 1,
   "metadata": {},
   "outputs": [
    {
     "name": "stderr",
     "output_type": "stream",
     "text": [
      "Ultralytics YOLOv8.0.53  Python-3.9.16 torch-1.13.1+cpu CPU\n",
      "Setup complete  (16 CPUs, 15.8 GB RAM, 124.0/465.0 GB disk)\n"
     ]
    }
   ],
   "source": [
    "import matplotlib.pyplot as plt\n",
    "import ultralytics, os, yaml, time, cv2, requests\n",
    "from ultralytics import YOLO\n",
    "ultralytics.checks()\n",
    "\n",
    "os.environ[\"KMP_DUPLICATE_LIB_OK\"] = \"TRUE\""
   ]
  },
  {
   "attachments": {},
   "cell_type": "markdown",
   "metadata": {},
   "source": [
    "## Récupération flux image pour entrainement"
   ]
  },
  {
   "cell_type": "code",
   "execution_count": null,
   "metadata": {},
   "outputs": [],
   "source": [
    "\n",
    "# for i in range(200):\n",
    "cap = cv2.VideoCapture('http://192.168.20.37:88/cgi-bin/CGIProxy.fcgi?cmd=snapPicture2&usr=Camera_IA-Greta&pwd=IA-Greta25')\n",
    "_, frame = cap.read()    \n",
    "frame = cv2.cvtColor(frame, cv2.COLOR_BGR2RGB)  \n",
    "plt.imsave('lol.png', frame)"
   ]
  },
  {
   "cell_type": "code",
   "execution_count": null,
   "metadata": {},
   "outputs": [],
   "source": [
    "for image in os.listdir('datasets/images'):\n",
    "    img = cv2.imread(f'datasets/images/{image}')\n",
    "    img = img[:, 420:-420]\n",
    "    plt.imsave(f'datasets/images/{image}', img)"
   ]
  },
  {
   "attachments": {},
   "cell_type": "markdown",
   "metadata": {},
   "source": [
    "## Entrainement Yolo"
   ]
  },
  {
   "attachments": {},
   "cell_type": "markdown",
   "metadata": {},
   "source": [
    "### Création ichier YAML"
   ]
  },
  {
   "cell_type": "code",
   "execution_count": null,
   "metadata": {},
   "outputs": [],
   "source": [
    "cell_yaml = dict(\n",
    "    train = r'C:\\Users\\antoi\\Documents\\GitHub\\antoine.lecroart\\Concevoir_developper_et_peupler_une_BDD\\Utiliser_une_BDD_dans_un_projet\\Projet_pub_ou_pas_pub\\datasets\\images\\train',\n",
    "    val = r'C:\\Users\\antoi\\Documents\\GitHub\\antoine.lecroart\\Concevoir_developper_et_peupler_une_BDD\\Utiliser_une_BDD_dans_un_projet\\Projet_pub_ou_pas_pub\\datasets\\images\\val',\n",
    "    nc = 2,\n",
    "    names = ['01', '02']\n",
    ")\n",
    "\n",
    "with open('Pub.yaml', 'w') as outfile:\n",
    "    yaml.dump(cell_yaml, outfile, default_flow_style=True)"
   ]
  },
  {
   "cell_type": "code",
   "execution_count": null,
   "metadata": {},
   "outputs": [],
   "source": [
    "model_name = 'yolov8n.pt'\n",
    "\n",
    "model = YOLO(model_name)"
   ]
  },
  {
   "cell_type": "code",
   "execution_count": null,
   "metadata": {},
   "outputs": [],
   "source": [
    "model.train(data = 'Pub.yaml', \n",
    "            epochs = 10,\n",
    "            imgsz = 640, \n",
    "            dropout = 0.2,\n",
    "            project = model_name[:-3], \n",
    "            device = 'cpu',\n",
    "            verbose = True)"
   ]
  },
  {
   "attachments": {},
   "cell_type": "markdown",
   "metadata": {},
   "source": [
    "## Test Yolo"
   ]
  },
  {
   "cell_type": "code",
   "execution_count": null,
   "metadata": {},
   "outputs": [],
   "source": [
    "# Chemins du modèle entraîné et des images de test\n",
    "best_path = model_name[:-3] + '/train/weights/best.pt'\n",
    "source = r'C:\\Users\\antoi\\Documents\\GitHub\\antoine.lecroart\\Concevoir_developper_et_peupler_une_BDD\\Utiliser_une_BDD_dans_un_projet\\Projet_pub_ou_pas_pub\\datasets\\images\\test'"
   ]
  },
  {
   "cell_type": "code",
   "execution_count": null,
   "metadata": {},
   "outputs": [],
   "source": [
    "# Chargement du modèle\n",
    "model_trained = YOLO(best_path)"
   ]
  },
  {
   "cell_type": "code",
   "execution_count": null,
   "metadata": {},
   "outputs": [],
   "source": [
    "# Intervalle de confiance (de 0 à 1)\n",
    "confiance = 0.05\n",
    "\n",
    "# Prédiction\n",
    "results = model_trained(source, conf = confiance)\n",
    "\n",
    "for i, result in enumerate(results):\n",
    "    plt.imsave(f'results/image{i}.png', result.plot())\n",
    "\n",
    "# if len(results[0]) == 0:\n",
    "#     print('coupe le son')\n",
    "\n",
    "# else:\n",
    "#     print('laisse le son')\n"
   ]
  },
  {
   "attachments": {},
   "cell_type": "markdown",
   "metadata": {},
   "source": [
    "## Affichage raspi"
   ]
  },
  {
   "cell_type": "code",
   "execution_count": 13,
   "metadata": {},
   "outputs": [],
   "source": [
    "model_name = 'yolov8n.pt'\n",
    "best_path = model_name[:-3] + '/train/weights/best.pt'\n",
    "source = 'datasets/images/test'"
   ]
  },
  {
   "cell_type": "code",
   "execution_count": 14,
   "metadata": {},
   "outputs": [],
   "source": [
    "model_trained = YOLO(best_path)"
   ]
  },
  {
   "cell_type": "code",
   "execution_count": 18,
   "metadata": {},
   "outputs": [
    {
     "name": "stderr",
     "output_type": "stream",
     "text": [
      "\n",
      "0: 640x640 (no detections), 115.5ms\n",
      "Speed: 1.0ms preprocess, 115.5ms inference, 0.0ms postprocess per image at shape (1, 3, 640, 640)\n",
      "\n",
      "0: 640x640 (no detections), 105.7ms\n",
      "Speed: 1.0ms preprocess, 105.7ms inference, 1.0ms postprocess per image at shape (1, 3, 640, 640)\n",
      "\n",
      "0: 640x640 (no detections), 104.7ms\n",
      "Speed: 2.0ms preprocess, 104.7ms inference, 0.0ms postprocess per image at shape (1, 3, 640, 640)\n",
      "\n",
      "0: 640x640 (no detections), 113.4ms\n",
      "Speed: 1.0ms preprocess, 113.4ms inference, 0.0ms postprocess per image at shape (1, 3, 640, 640)\n"
     ]
    },
    {
     "ename": "KeyboardInterrupt",
     "evalue": "",
     "output_type": "error",
     "traceback": [
      "\u001b[1;31m---------------------------------------------------------------------------\u001b[0m",
      "\u001b[1;31mKeyboardInterrupt\u001b[0m                         Traceback (most recent call last)",
      "\u001b[1;32m~\\AppData\\Local\\Temp\\ipykernel_1992\\2551856756.py\u001b[0m in \u001b[0;36m<module>\u001b[1;34m\u001b[0m\n\u001b[0;32m     16\u001b[0m         \u001b[0mPub\u001b[0m \u001b[1;33m=\u001b[0m \u001b[1;32mTrue\u001b[0m\u001b[1;33m\u001b[0m\u001b[1;33m\u001b[0m\u001b[0m\n\u001b[0;32m     17\u001b[0m \u001b[1;33m\u001b[0m\u001b[0m\n\u001b[1;32m---> 18\u001b[1;33m     \u001b[0mtime\u001b[0m\u001b[1;33m.\u001b[0m\u001b[0msleep\u001b[0m\u001b[1;33m(\u001b[0m\u001b[1;36m1\u001b[0m\u001b[1;33m)\u001b[0m\u001b[1;33m\u001b[0m\u001b[1;33m\u001b[0m\u001b[0m\n\u001b[0m",
      "\u001b[1;31mKeyboardInterrupt\u001b[0m: "
     ]
    }
   ],
   "source": [
    "Pub = True\n",
    "\n",
    "while True:\n",
    "    cap = cv2.VideoCapture('http://192.168.20.37:88/cgi-bin/CGIProxy.fcgi?cmd=snapPicture2&usr=Camera_IA-Greta&pwd=IA-Greta25')\n",
    "    _, frame = cap.read()\n",
    "    frame = frame[:, 420:-420]\n",
    "    frame = cv2.cvtColor(frame, cv2.COLOR_BGR2RGB)  \n",
    "    results = model_trained(frame, conf = 0.5)\n",
    "\n",
    "    if len(results[0]) != 0 and Pub:\n",
    "        requests.get(f\"http://192.168.20.27/modulesGrove.php?texte=Pas Pub&couleur=0,255,0\")\n",
    "        Pub = False\n",
    "\n",
    "    if len(results[0]) == 0 and not Pub:\n",
    "        requests.get(f\"http://192.168.20.27/modulesGrove.php?texte=Pub&couleur=255,0,0\")\n",
    "        Pub = True\n",
    "\n",
    "    time.sleep(1)"
   ]
  }
 ],
 "metadata": {
  "kernelspec": {
   "display_name": "base",
   "language": "python",
   "name": "python3"
  },
  "language_info": {
   "codemirror_mode": {
    "name": "ipython",
    "version": 3
   },
   "file_extension": ".py",
   "mimetype": "text/x-python",
   "name": "python",
   "nbconvert_exporter": "python",
   "pygments_lexer": "ipython3",
   "version": "3.9.16"
  },
  "orig_nbformat": 4
 },
 "nbformat": 4,
 "nbformat_minor": 2
}
