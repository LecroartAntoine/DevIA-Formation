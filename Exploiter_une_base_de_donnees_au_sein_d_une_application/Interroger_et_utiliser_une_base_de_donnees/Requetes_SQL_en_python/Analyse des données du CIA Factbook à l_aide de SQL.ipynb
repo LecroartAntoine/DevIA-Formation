{
 "cells": [
  {
   "attachments": {},
   "cell_type": "markdown",
   "id": "f19c6d89",
   "metadata": {},
   "source": [
    "## Introduction \n",
    "\n",
    "Dans ce projet, nous allons travailler avec les données du CIA World Factbook, un recueil de statistiques sur tous les pays de la planète. Le Factbook contient des informations démographiques telles que les suivantes:\n",
    "\n",
    "- population (La population mondiale)\n",
    "- population_growth (le taux de croissance annuel de la population, en pourcentage)\n",
    "- superficie (la superficie totale des terres et des eaux)\n",
    "\n",
    "### Objectif\n",
    "\n",
    "Pour ce projet, nous allons utiliser SQL pour effectuer une analyse de base des données "
   ]
  },
  {
   "cell_type": "code",
   "execution_count": null,
   "id": "eeb0d112",
   "metadata": {},
   "outputs": [],
   "source": [
    "import sqlite3 as sq\n",
    "import mysql.connector as cnt"
   ]
  },
  {
   "attachments": {},
   "cell_type": "markdown",
   "id": "f45dd24f",
   "metadata": {},
   "source": [
    "### Se connecter à la base"
   ]
  },
  {
   "cell_type": "code",
   "execution_count": null,
   "id": "fa62f5a0",
   "metadata": {},
   "outputs": [],
   "source": [
    "def connect_db(host, user, pswd, database = None):\n",
    "    db = cnt.connect(\n",
    "        host = host,\n",
    "        user = user,\n",
    "        passwd = pswd,\n",
    "        database = database\n",
    "    )\n",
    "    return(db)\n",
    "\n",
    "def exe(db, request, value = None, verbose = False, name = False, buffered = True):\n",
    "    cursor = db.cursor(buffered = buffered)\n",
    "    \n",
    "    if value:\n",
    "        cursor.execute(request, value)\n",
    "\n",
    "    else :\n",
    "        cursor.execute(request)\n",
    "\n",
    "    db.commit()\n",
    "    \n",
    "    if verbose:\n",
    "        result = cursor.fetchall()\n",
    "        if name:\n",
    "            result.insert(0, cursor.column_names)\n",
    "        return(result)"
   ]
  },
  {
   "attachments": {},
   "cell_type": "markdown",
   "id": "a73cd20e",
   "metadata": {},
   "source": [
    "#### Créer une connection à la base de données factbook.db"
   ]
  },
  {
   "cell_type": "code",
   "execution_count": null,
   "id": "c00c4d3d",
   "metadata": {},
   "outputs": [],
   "source": [
    "# Connexion à Factbase.db\n",
    "db_local = sq.connect(\"factbook.db\")\n",
    "\n",
    "# Récupération des données\n",
    "\n",
    "query = \"SELECT * FROM sqlite_master;\"\n",
    "create_table = exe(db_local, query, verbose = True, buffered = False)\n",
    "\n",
    "query = \"SELECT * FROM facts;\"\n",
    "data = exe(db_local, query, verbose = True, buffered = False)\n",
    "\n",
    "db_local.close()"
   ]
  },
  {
   "cell_type": "code",
   "execution_count": null,
   "id": "35959eaf",
   "metadata": {},
   "outputs": [],
   "source": [
    "# création de la BDD sur le server\n",
    "\n",
    "db = connect_db(\"192.168.20.118\", \"grogu\", \"grogu\")\n",
    "\n",
    "exe(db, \"CREATE DATABASE IF NOT EXISTS factbook\")"
   ]
  },
  {
   "cell_type": "code",
   "execution_count": null,
   "id": "d73fcc1b",
   "metadata": {},
   "outputs": [],
   "source": [
    "# Connexion à la BDD GRETA\n",
    "\n",
    "db = connect_db(\"192.168.20.118\", \"grogu\", \"grogu\", \"factbook\")"
   ]
  },
  {
   "cell_type": "code",
   "execution_count": null,
   "id": "40afe9a5",
   "metadata": {},
   "outputs": [],
   "source": [
    "# Création des deux tables\n",
    "\n",
    "requete_1 = create_table[0][-1].replace('\"', '`').replace('(name,seq)', '(name VARCHAR(255), seq INT)')\n",
    "requete_2 = create_table[1][-1].replace('\"', '`').replace('AUTOINCREMENT', 'AUTO_INCREMENT')\n",
    "\n",
    "exe(db, f\"{requete_1};\")\n",
    "exe(db, f\"{requete_2};\")\n",
    "exe(db, \"ALTER TABLE `facts` CHANGE `population` `population` BIGINT(12) NULL DEFAULT NULL;\")"
   ]
  },
  {
   "cell_type": "code",
   "execution_count": null,
   "id": "5f2d955f",
   "metadata": {},
   "outputs": [],
   "source": [
    "# Ajout des données\n",
    "\n",
    "for row in data:\n",
    "    requete = \"INSERT INTO facts VALUES (%s, %s, %s, %s, %s, %s, %s, %s, %s, %s, %s);\"\n",
    "    values = [value for value in row]\n",
    "    exe(db, requete, value = values)"
   ]
  },
  {
   "attachments": {},
   "cell_type": "markdown",
   "id": "87dca7e6",
   "metadata": {},
   "source": [
    "**Vérification des 5 premières lignes du tableau des faits**"
   ]
  },
  {
   "cell_type": "code",
   "execution_count": null,
   "id": "241b06ef",
   "metadata": {},
   "outputs": [],
   "source": [
    "db = connect_db(\"192.168.20.118\", \"grogu\", \"grogu\", \"factbook\")\n",
    "\n",
    "query = \"Select * FROM facts WHERE id < 6;\"\n",
    "\n",
    "result = exe(db, query, verbose = True)\n",
    "for line in  result:\n",
    "    print(line)"
   ]
  },
  {
   "attachments": {},
   "cell_type": "markdown",
   "id": "e3fc76eb",
   "metadata": {},
   "source": [
    "\n",
    "### Descriptions des données\n",
    "- name : Le nom du pays\n",
    "- area : La superficie totale du pays (terre et eau)\n",
    "- area_land : La superficie terrestre du pays en kilomètres carrés\n",
    "- area_water : Superficie en eau du pays en kilomètres carrés\n",
    "- population : Population du pays\n",
    "- population_growth : Croissance de la population du pays en pourcentage\n",
    "- birth rate : Le taux de natalité du pays, ou le nombre de naissances par an pour 1 000 habitants.\n",
    "- death_rate : Taux de mortalité du pays, ou nombre de décès par an pour 1 000 personnes.\n"
   ]
  },
  {
   "attachments": {},
   "cell_type": "markdown",
   "id": "dda67cb2",
   "metadata": {},
   "source": [
    "### Utilisation de sous-requêtes pour détecter les pays présentant ces valeurs démographiques aberrantes.\n"
   ]
  },
  {
   "attachments": {},
   "cell_type": "markdown",
   "id": "3a5c635e",
   "metadata": {},
   "source": [
    "#### Résumé statistiques\n"
   ]
  },
  {
   "cell_type": "code",
   "execution_count": null,
   "id": "4a2c5bb4",
   "metadata": {},
   "outputs": [],
   "source": [
    "db = connect_db(\"192.168.20.118\", \"grogu\", \"grogu\", \"factbook\")\n",
    "\n",
    "# Afficher le pays ayant la plus petite population \n",
    "\n",
    "query = \"SELECT name FROM facts WHERE population = (SELECT MIN(population) FROM facts);\"\n",
    "\n",
    "result = exe(db, query, verbose = True)\n",
    "\n",
    "print(f\"Pays avec la plus petite population : {result[0][0]}\\n\")\n",
    "\n",
    "# Afficher le pays ayant la plus grande population \n",
    "\n",
    "query = \"\"\"SELECT name FROM facts WHERE population = (SELECT MAX(population) FROM facts WHERE name <> \"World\");\"\"\"\n",
    "\n",
    "result = exe(db, query, verbose = True)\n",
    "\n",
    "print(f\"Pays avec la plus grande population : {result[0][0]}\\n\")\n",
    "\n",
    "# Afficher le pays ayant le plus petit taux de natalité \n",
    "\n",
    "query = \"SELECT name FROM facts WHERE birth_rate = (SELECT MIN(birth_rate) FROM facts);\"\n",
    "\n",
    "result = exe(db, query, verbose = True)\n",
    "\n",
    "print(f\"Pays avec le plus petit taux de natalité : {result[0][0]}\\n\")\n",
    "\n",
    "# Afficher le pays ayant le plus grand taux de natalité \n",
    "\n",
    "query = \"SELECT name FROM facts WHERE birth_rate = (SELECT MAX(birth_rate) FROM facts);\"\n",
    "\n",
    "result = exe(db, query, verbose = True)\n",
    "\n",
    "print(f\"Pays avec le plus grand taux de natalité : {result[0][0]}\\n\")"
   ]
  },
  {
   "attachments": {},
   "cell_type": "markdown",
   "id": "99824f6b",
   "metadata": {},
   "source": [
    "#### Afficher le nom et la population  du pays ayant la plus grande population"
   ]
  },
  {
   "cell_type": "code",
   "execution_count": null,
   "id": "99767955",
   "metadata": {},
   "outputs": [],
   "source": [
    "db = connect_db(\"192.168.20.118\", \"grogu\", \"grogu\", \"factbook\")\n",
    "\n",
    "query = \"\"\"SELECT name, population FROM facts WHERE population = (SELECT MAX(population) FROM facts WHERE name <> \"World\");\"\"\"\n",
    "\n",
    "result = exe(db, query, verbose = True)\n",
    "\n",
    "print(f\"Pays avec la plus grande population : {result[0][0]}\\nNombre d'habitant : {result[0][1]:,}\")"
   ]
  },
  {
   "attachments": {},
   "cell_type": "markdown",
   "id": "9640b770",
   "metadata": {},
   "source": [
    "####  Calculer la valeur moyenne de la population et de la superficie"
   ]
  },
  {
   "cell_type": "code",
   "execution_count": null,
   "id": "807e8645",
   "metadata": {},
   "outputs": [],
   "source": [
    "db = connect_db(\"192.168.20.118\", \"grogu\", \"grogu\", \"factbook\")\n",
    "\n",
    "query = \"\"\"SELECT AVG(population) FROM facts WHERE name <> \"World\";\"\"\"\n",
    "\n",
    "pop = exe(db, query, verbose = True)\n",
    "\n",
    "query = \"SELECT AVG(area) FROM facts;\"\n",
    "\n",
    "sup = exe(db, query, verbose = True)\n",
    "\n",
    "print(f\"Valeur moyenne de la population des pays du monde : {pop[0][0]:,}\\nValeur moyenne de la surface des pays du monde : {sup[0][0]:,}\")"
   ]
  },
  {
   "attachments": {},
   "cell_type": "markdown",
   "id": "778e363f",
   "metadata": {},
   "source": [
    "#### Trouver les pays qui sont densément peuplés. \n",
    "\n",
    "\n",
    "I.E - Pays ayant des valeurs supérieures à la moyenne pour la population et inférieures à la moyenne pour la superficie."
   ]
  },
  {
   "cell_type": "code",
   "execution_count": null,
   "id": "23a16559",
   "metadata": {},
   "outputs": [],
   "source": [
    "db = connect_db(\"192.168.20.118\", \"grogu\", \"grogu\", \"factbook\")\n",
    "\n",
    "query = f\"\"\"SELECT name FROM facts WHERE (population > {round(pop[0][0], 0)} AND area < {round(sup[0][0], 0)} AND name <> \"World\");\"\"\"\n",
    "\n",
    "result = exe(db, query, verbose = True)\n",
    "\n",
    "for country in result :\n",
    "    print(f\"{country[0]} est densément peuplé\\n\")"
   ]
  },
  {
   "attachments": {},
   "cell_type": "markdown",
   "id": "37958c5e",
   "metadata": {},
   "source": [
    "## Répondre à d'autres questions axées sur les données"
   ]
  },
  {
   "attachments": {},
   "cell_type": "markdown",
   "id": "ddac7f7c",
   "metadata": {},
   "source": [
    "#### 1. Quels pays sont les plus peuplés ? Quels pays ont le taux de croissance le plus élevé ? Nous restons dans la même logique de comparaison avec la moyenne"
   ]
  },
  {
   "cell_type": "code",
   "execution_count": null,
   "id": "a7716df9",
   "metadata": {},
   "outputs": [],
   "source": [
    "db = connect_db(\"192.168.20.118\", \"grogu\", \"grogu\", \"factbook\")\n",
    "\n",
    "query = f\"\"\"SELECT name FROM facts WHERE (population > {round(pop[0][0], 0)} AND name <> \"World\");\"\"\"\n",
    "\n",
    "result = exe(db, query, verbose = True)\n",
    "\n",
    "for country in result :\n",
    "    print(f\"{country[0]} est plus peuplé que la moyenne\\n\")"
   ]
  },
  {
   "cell_type": "code",
   "execution_count": null,
   "id": "c6cfb963",
   "metadata": {},
   "outputs": [],
   "source": [
    "db = connect_db(\"192.168.20.118\", \"grogu\", \"grogu\", \"factbook\")\n",
    "\n",
    "query = f\"\"\"SELECT name FROM facts WHERE (population_growth > (SELECT AVG(population_growth) FROM facts WHERE name <> \"World\") AND name <> \"World\");\"\"\"\n",
    "\n",
    "result = exe(db, query, verbose = True)\n",
    "\n",
    "for country in result :\n",
    "    print(f\"{country[0]} a une croissance de population plus importante que la moyenne\\n\")"
   ]
  },
  {
   "attachments": {},
   "cell_type": "markdown",
   "id": "d5255762",
   "metadata": {},
   "source": [
    "#### 2.1 Quels pays ont les rapports eau/terre les plus élevés ?"
   ]
  },
  {
   "cell_type": "code",
   "execution_count": null,
   "id": "754ec0a7",
   "metadata": {},
   "outputs": [],
   "source": [
    "db = connect_db(\"192.168.20.118\", \"grogu\", \"grogu\", \"factbook\")\n",
    "\n",
    "query = f\"\"\"SELECT name FROM facts WHERE (area_water / area_land) > (SELECT AVG(area_water / area_land) FROM facts);\"\"\"\n",
    "\n",
    "result = exe(db, query, verbose = True)\n",
    "\n",
    "for country in result :\n",
    "    print(f\"{country[0]} a un rapport eau/terre plus importante que la moyenne\\n\")"
   ]
  },
  {
   "attachments": {},
   "cell_type": "markdown",
   "id": "6f687c24",
   "metadata": {},
   "source": [
    "#### 2.2 Quels pays ont plus d'eau que de terre ?"
   ]
  },
  {
   "cell_type": "code",
   "execution_count": null,
   "id": "13328594",
   "metadata": {},
   "outputs": [],
   "source": [
    "db = connect_db(\"192.168.20.118\", \"grogu\", \"grogu\", \"factbook\")\n",
    "\n",
    "query = f\"\"\"SELECT name FROM facts WHERE (area_water > area_land);\"\"\"\n",
    "\n",
    "result = exe(db, query, verbose = True)\n",
    "\n",
    "for country in result :\n",
    "    print(f\"{country[0]} a plus d'eau que de terre\\n\")"
   ]
  },
  {
   "attachments": {},
   "cell_type": "markdown",
   "id": "e361ab2e",
   "metadata": {},
   "source": [
    "#### 3. Quels sont les 5 pays dont la population augmentera le plus l'année prochaine ?\n",
    "I.E Calculer la croissance démographique effective (population_growth * population) pour une année sur la base de la population actuelle du pays."
   ]
  },
  {
   "cell_type": "code",
   "execution_count": null,
   "id": "188eaa83",
   "metadata": {},
   "outputs": [],
   "source": [
    "db = connect_db(\"192.168.20.118\", \"grogu\", \"grogu\", \"factbook\")\n",
    "\n",
    "query = f\"\"\"SELECT name FROM facts WHERE name <> \"World\" ORDER BY (population_growth * population) DESC;\"\"\"\n",
    "\n",
    "result = exe(db, query, verbose = True)\n",
    "\n",
    "for country in result[:5] :\n",
    "    print(f\"{country[0]} est un pays dont la population augmentera le plus l'année prochaine \\n\")"
   ]
  },
  {
   "attachments": {},
   "cell_type": "markdown",
   "id": "5ec7c27d",
   "metadata": {},
   "source": [
    "#### 4. Quels pays ont un taux de mortalité supérieur au taux de natalité ? (Taux à afficher)"
   ]
  },
  {
   "cell_type": "code",
   "execution_count": null,
   "id": "444233d6",
   "metadata": {},
   "outputs": [],
   "source": [
    "db = connect_db(\"192.168.20.118\", \"grogu\", \"grogu\", \"factbook\")\n",
    "\n",
    "query = f\"\"\"SELECT name, death_rate, birth_rate FROM facts WHERE ((death_rate > birth_rate) AND name <> \"World\");\"\"\"\n",
    "\n",
    "result = exe(db, query, verbose = True)\n",
    "\n",
    "for country in result :\n",
    "    print(f\"{country[0]} est un pays qui a un taux de mortalité supérieur au taux de natalité avec un rapport de {country[1]}/{country[2]} \\n\")"
   ]
  },
  {
   "attachments": {},
   "cell_type": "markdown",
   "id": "71496145",
   "metadata": {},
   "source": [
    "#### 5. Quels sont les pays dont le rapport population / superficie est le plus élevé ?"
   ]
  },
  {
   "cell_type": "code",
   "execution_count": null,
   "id": "cae37495",
   "metadata": {},
   "outputs": [],
   "source": [
    "db = connect_db(\"192.168.20.118\", \"grogu\", \"grogu\", \"factbook\")\n",
    "\n",
    "query = f\"\"\"SELECT name FROM facts WHERE ((population / area) > (SELECT AVG(population / area) FROM facts) AND name <> \"World\") ORDER BY (population / area) DESC;\"\"\"\n",
    "\n",
    "result = exe(db, query, verbose = True)\n",
    "\n",
    "for country in result :\n",
    "    print(f\"{country[0]} est un pays qui a rapport population / superficie élevé\\n\")"
   ]
  },
  {
   "attachments": {},
   "cell_type": "markdown",
   "id": "e08fcf97",
   "metadata": {},
   "source": [
    "# Remettre les données dans un dataframe à l'aide de Pandas et répondre aux questions précédement posées"
   ]
  },
  {
   "cell_type": "code",
   "execution_count": null,
   "id": "801f2665",
   "metadata": {},
   "outputs": [],
   "source": [
    "import pandas as pd\n",
    "\n",
    "db = connect_db(\"192.168.20.118\", \"grogu\", \"grogu\", \"factbook\")\n",
    "\n",
    "liste = [list(line) for line in exe(db, \"SELECT * FROM facts\", name = True, verbose = True)]\n",
    "\n",
    "df = pd.DataFrame(data = liste[1:], columns = liste[0])\n",
    "df"
   ]
  },
  {
   "attachments": {},
   "cell_type": "markdown",
   "id": "8a39019a",
   "metadata": {},
   "source": [
    "#### 1. Quel est le pays le plus peuplé ? Quel pays a le taux de croissance le plus élevé ? Nous restons dans la même logique de comparaison avec la moyenne"
   ]
  },
  {
   "cell_type": "code",
   "execution_count": null,
   "id": "c0b9efd6",
   "metadata": {},
   "outputs": [],
   "source": [
    "\n",
    "result = df[df['population'] > df['population'].mean()]['name']\n",
    "display(result)"
   ]
  },
  {
   "cell_type": "code",
   "execution_count": null,
   "id": "6e92f24c",
   "metadata": {},
   "outputs": [],
   "source": [
    "result = df[df['population_growth'] > df['population_growth'].mean()]['name']\n",
    "display(result)"
   ]
  },
  {
   "attachments": {},
   "cell_type": "markdown",
   "id": "3ce6930c",
   "metadata": {},
   "source": [
    "#### 2.1 Quels pays ont les rapports eau/terre les plus élevés ?"
   ]
  },
  {
   "cell_type": "code",
   "execution_count": null,
   "id": "be4d9105",
   "metadata": {},
   "outputs": [],
   "source": [
    "result = df[(df['area_water'] / df['area_land']) > (df['area_water'] / df['area_land']).mean()]['name']\n",
    "display(result)"
   ]
  },
  {
   "attachments": {},
   "cell_type": "markdown",
   "id": "46473173",
   "metadata": {},
   "source": [
    "#### 2.2 Quels pays ont plus d'eau que de terre ?"
   ]
  },
  {
   "cell_type": "code",
   "execution_count": null,
   "id": "964e6147",
   "metadata": {},
   "outputs": [],
   "source": [
    "result = df[df['area_water'] > df['area_land']]['name']\n",
    "display(result)"
   ]
  },
  {
   "attachments": {},
   "cell_type": "markdown",
   "id": "ac99b75f",
   "metadata": {},
   "source": [
    "#### 3. Quels sont les 5 pays dont la population augmentera le plus l'année prochaine ?"
   ]
  },
  {
   "cell_type": "code",
   "execution_count": null,
   "id": "208329c3",
   "metadata": {},
   "outputs": [],
   "source": [
    "result = df.iloc[(df['population']*df['population_growth']).sort_values(ascending = False).head(6).index]['name'].iloc[1:6]\n",
    "print(result)"
   ]
  },
  {
   "attachments": {},
   "cell_type": "markdown",
   "id": "81cd5134",
   "metadata": {},
   "source": [
    "#### 4. Quels pays ont un taux de mortalité supérieur au taux de natalité ? (Taux à afficher)"
   ]
  },
  {
   "cell_type": "code",
   "execution_count": null,
   "id": "95746e1a",
   "metadata": {},
   "outputs": [],
   "source": [
    "result = df[df['death_rate'] > df['birth_rate']][['name', 'death_rate', 'birth_rate']]\n",
    "display(result)"
   ]
  },
  {
   "attachments": {},
   "cell_type": "markdown",
   "id": "330a38d5",
   "metadata": {},
   "source": [
    "#### 5. Quels sont les pays dont le rapport population / superficie est le plus élevé ?"
   ]
  },
  {
   "cell_type": "code",
   "execution_count": null,
   "id": "1b8c3df8",
   "metadata": {},
   "outputs": [],
   "source": [
    "result = df.iloc[(df['population']/df['area']).sort_values(ascending=False).index]['name']\n",
    "print(result)"
   ]
  }
 ],
 "metadata": {
  "kernelspec": {
   "display_name": "PySQL",
   "language": "python",
   "name": "python3"
  },
  "language_info": {
   "codemirror_mode": {
    "name": "ipython",
    "version": 3
   },
   "file_extension": ".py",
   "mimetype": "text/x-python",
   "name": "python",
   "nbconvert_exporter": "python",
   "pygments_lexer": "ipython3",
   "version": "3.9.16"
  },
  "vscode": {
   "interpreter": {
    "hash": "8964efdb95157df2a67d9552bebf22a320adbf5c4820aed625f17aa63e1cb10c"
   }
  }
 },
 "nbformat": 4,
 "nbformat_minor": 5
}
