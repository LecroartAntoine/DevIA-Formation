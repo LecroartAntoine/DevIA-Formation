{
 "cells": [
  {
   "cell_type": "markdown",
   "id": "a874b505",
   "metadata": {},
   "source": [
    "# Interroger des bases de données SQL avec Python "
   ]
  },
  {
   "attachments": {},
   "cell_type": "markdown",
   "id": "3a0d1416",
   "metadata": {},
   "source": [
    "Dans ce brief, nous allons explorer toutes les étapes nécessaires pour connecter Python et SQL:\n",
    "\n",
    "- Importation de la bibliothèque\n",
    "- Connexion au serveur et création de la base de données\n",
    "- Créer des tables\n",
    "- Remplissage des tables\n",
    "- Lecture des données\n",
    "- Mise à jour des enregistrements\n",
    "- Suppression d'enregistrements\n",
    "- Création d'enregistrements à partir de listes"
   ]
  },
  {
   "cell_type": "markdown",
   "id": "d5fd54bd",
   "metadata": {},
   "source": [
    "## 1. Exigences et connexion au serveur\n"
   ]
  },
  {
   "cell_type": "markdown",
   "id": "632e0386",
   "metadata": {},
   "source": [
    "#### Créer un environnement Python qu'on nommera \"PySQL\""
   ]
  },
  {
   "cell_type": "code",
   "execution_count": null,
   "id": "0362e3f2",
   "metadata": {},
   "outputs": [],
   "source": [
    "\"\"\"\n",
    "Anaconda Navigator > Environments > Create > Name : PySQL | version : 3.8.16\n",
    "\"\"\""
   ]
  },
  {
   "cell_type": "markdown",
   "id": "9fa1db75",
   "metadata": {},
   "source": [
    "#### Installer les bibliothèque mysql.connector et Pandas dans l'environnement"
   ]
  },
  {
   "cell_type": "code",
   "execution_count": null,
   "id": "6c9aabe4",
   "metadata": {},
   "outputs": [],
   "source": [
    "\"\"\"\n",
    "conda install -c anaconda mysql-connector-python\n",
    "\"\"\""
   ]
  },
  {
   "cell_type": "code",
   "execution_count": null,
   "id": "9c1cee42",
   "metadata": {},
   "outputs": [],
   "source": [
    "\"\"\"\n",
    "conda install -c anaconda pandas\n",
    "\"\"\""
   ]
  },
  {
   "cell_type": "code",
   "execution_count": null,
   "id": "60c13594",
   "metadata": {},
   "outputs": [],
   "source": [
    "\"\"\"\n",
    "conda install -c anaconda ipykernel\n",
    "\"\"\""
   ]
  },
  {
   "cell_type": "markdown",
   "id": "c9d7c098",
   "metadata": {},
   "source": [
    "#### Créer une connexion au serveur SQL "
   ]
  },
  {
   "cell_type": "markdown",
   "id": "c445ec06",
   "metadata": {},
   "source": [
    "Ensuite, nous voulons définir une fonction dans Python qui se connecte à notre serveur SQL. Pour ce faire, nous utilisons la méthode mysql.connector.connect().\n"
   ]
  },
  {
   "cell_type": "code",
   "execution_count": null,
   "id": "8caf0f43",
   "metadata": {},
   "outputs": [],
   "source": [
    "import mysql.connector\n",
    "\n",
    "def connect_serv (host, user, pswd):\n",
    "    server = mysql.connector.connect(\n",
    "    host = host,\n",
    "    user = user,\n",
    "    password = pswd\n",
    "    )\n",
    "    return(server)\n",
    "\n",
    "connect_serv(\"192.168.20.118\", \"grogu\", \"grogu\")"
   ]
  },
  {
   "attachments": {},
   "cell_type": "markdown",
   "id": "82e1df31",
   "metadata": {},
   "source": [
    "---\n",
    "\n",
    "## 2. Création d'une BDD"
   ]
  },
  {
   "cell_type": "markdown",
   "id": "06f0785b",
   "metadata": {},
   "source": [
    "#### Créer une BDD"
   ]
  },
  {
   "cell_type": "markdown",
   "id": "67231f0b",
   "metadata": {},
   "source": [
    "Maintenant nous définissons une fonction pour créer une nouvelle base de données sur notre serveur. Ici, nous utilisons cursor.execute() pour exécuter une commande SQL CREATE DATABASE."
   ]
  },
  {
   "cell_type": "code",
   "execution_count": null,
   "id": "6a644801",
   "metadata": {},
   "outputs": [],
   "source": [
    "def create_db (server, name):\n",
    "    cursor = server.cursor()\n",
    "    cursor.execute(\"CREATE DATABASE \" + name)\n",
    "\n",
    "create_db(connect_serv(\"192.168.20.118\", \"grogu\", \"grogu\"), \"pysql\")"
   ]
  },
  {
   "cell_type": "markdown",
   "id": "0d806122",
   "metadata": {},
   "source": [
    "#### Modifier la fonction de connexion au serveur, créer la fonction de connexion à la base de données"
   ]
  },
  {
   "cell_type": "markdown",
   "id": "c7e41a6d",
   "metadata": {},
   "source": [
    "Maintenant que nous avons créé une BD, modifions notre fonction pour créer une nouvelle fonction permettant de se connecter directement à cette BD. Cela s'avérera plus utile que la simple connexion à notre serveur."
   ]
  },
  {
   "cell_type": "code",
   "execution_count": null,
   "id": "d178af3c",
   "metadata": {},
   "outputs": [],
   "source": [
    "def connect_db (host, user, pswd, db_name):\n",
    "    db = mysql.connector.connect(\n",
    "    host = host,\n",
    "    database = db_name,\n",
    "    user = user,\n",
    "    password = pswd)\n",
    "    return(db)\n",
    "\n",
    "connect_db(\"192.168.20.118\", \"grogu\", \"grogu\", \"pysql\")"
   ]
  },
  {
   "cell_type": "markdown",
   "id": "23427a1f",
   "metadata": {},
   "source": [
    "#### Créer une fonction d'exécution de requête\n"
   ]
  },
  {
   "cell_type": "markdown",
   "id": "1fb7616a",
   "metadata": {},
   "source": [
    "La dernière étape de cette phase consiste à créer une fonction qui nous permettra d'exécuter des requêtes écrites en SQL. Cela va être extrêmement utile !"
   ]
  },
  {
   "cell_type": "code",
   "execution_count": null,
   "id": "8cd6c31e",
   "metadata": {},
   "outputs": [],
   "source": [
    "def exe(server, request):\n",
    "    cursor = server.cursor()\n",
    "    cursor.execute(request)\n",
    "    server.commit()"
   ]
  },
  {
   "attachments": {},
   "cell_type": "markdown",
   "id": "c6d37622",
   "metadata": {},
   "source": [
    "---\n",
    "\n",
    "## 3. Création de Tables"
   ]
  },
  {
   "cell_type": "markdown",
   "id": "eb8ece76",
   "metadata": {},
   "source": [
    "#### Créer une table \"Enseignant\""
   ]
  },
  {
   "cell_type": "markdown",
   "id": "bf80eca4",
   "metadata": {},
   "source": [
    "Maintenant, créons notre première table à l'intérieur de notre BD, en utilisant nos fonctions nouvellement définies"
   ]
  },
  {
   "cell_type": "code",
   "execution_count": null,
   "id": "f73e1474",
   "metadata": {},
   "outputs": [],
   "source": [
    "# Assigner notre commande SQL à une variable python en utilisant des guillemets triples pour créer une chaîne de caractères de plusieurs lignes.\n",
    "\n",
    "request = \"\"\"\n",
    "CREATE TABLE `pysql`.`Teacher`(\n",
    "    `teacher_id` INT NOT NULL AUTO_INCREMENT ,\n",
    "    `first_name` VARCHAR(40) NOT NULL ,\n",
    "    `last_name` VARCHAR(40) NOT NULL ,\n",
    "    `dob` DATE NOT NULL ,\n",
    "    `phone_no` VARCHAR(20) NOT NULL ,\n",
    "    `language_1` VARCHAR(3) NOT NULL ,\n",
    "    `language_2` VARCHAR(3) ,\n",
    "    `tax_id` INT NOT NULL ,\n",
    "    PRIMARY KEY (`teacher_id`)\n",
    ")ENGINE = InnoDB;\n",
    "\"\"\"\n",
    "\n",
    "# Connexion à la base de données\n",
    "\n",
    "db = connect_db(\"192.168.20.118\", \"grogu\", \"grogu\", \"pysql\")\n",
    "\n",
    "# Exécuter notre requête définie\n",
    "\n",
    "exe(db, request)\n"
   ]
  },
  {
   "cell_type": "markdown",
   "id": "9188e6e6",
   "metadata": {},
   "source": [
    "#### Créer le reste des  tables de données \"Client\", \"Participant\", \"Course\", de la même façon"
   ]
  },
  {
   "cell_type": "code",
   "execution_count": null,
   "id": "9b651eae",
   "metadata": {},
   "outputs": [],
   "source": [
    "#client_table\n",
    "requests = []\n",
    "requests.append(\"\"\"\n",
    "CREATE TABLE `pysql`.`Client` (\n",
    "    `client_id` INT NOT NULL AUTO_INCREMENT ,\n",
    "    `client_name` VARCHAR(40) NOT NULL ,\n",
    "    `address` VARCHAR(60) NOT NULL , \n",
    "    `industry` VARCHAR(20) NOT NULL , \n",
    "    PRIMARY KEY (`client_id`)\n",
    ")ENGINE = InnoDB;\n",
    "\"\"\"\n",
    ")\n",
    "\n",
    "#Participant_table\n",
    "\n",
    "requests.append(\"\"\"\n",
    "CREATE TABLE `pysql`.`Participant` (\n",
    "    `participant_id` INT NOT NULL AUTO_INCREMENT , \n",
    "    `first_name` VARCHAR(20) NOT NULL , \n",
    "    `last_name` VARCHAR(20) NOT NULL , \n",
    "    `phone_no` VARCHAR(20) NOT NULL ,\n",
    "    `client` INT NOT NULL , \n",
    "    PRIMARY KEY (`participant_id`)\n",
    ")ENGINE = InnoDB;\n",
    "\"\"\"\n",
    ")\n",
    "\n",
    "#course_table\n",
    "\n",
    "requests.append(\"\"\"\n",
    "CREATE TABLE `pysql`.`Course` (\n",
    "    `course_id` INT NOT NULL AUTO_INCREMENT , \n",
    "    `course_name` VARCHAR(40) NOT NULL , \n",
    "    `course_length_weeks` INT NOT NULL , \n",
    "    `language` VARCHAR(3) NOT NULL , \n",
    "    `level` VARCHAR(2) NOT NULL , \n",
    "    `start_date` DATE NOT NULL , \n",
    "    `in_school` BOOLEAN NOT NULL , \n",
    "    `teacher` INT NOT NULL , \n",
    "    `client` INT NOT NULL , \n",
    "    PRIMARY KEY (`course_id`)\n",
    ")ENGINE = InnoDB;\n",
    "\"\"\"\n",
    ")\n",
    "\n",
    "# Connexion à la base de données\n",
    "\n",
    "db = connect_db(\"192.168.20.118\", \"grogu\", \"grogu\", \"pysql\")\n",
    "\n",
    "# Exécuter nos requêtes définies\n",
    "\n",
    "for request in requests:\n",
    "    exe(db, request)"
   ]
  },
  {
   "cell_type": "markdown",
   "id": "02974c53",
   "metadata": {},
   "source": [
    "#### Définir les relations entre \"Client\", \"Participant\", \"Course\" en se référant à l'architecture de la BDD"
   ]
  },
  {
   "cell_type": "markdown",
   "id": "3a0b3091",
   "metadata": {},
   "source": [
    "Maintenant, nous modifions les tables pour créer des relations de type clé étrangère et nous créons notre table finale"
   ]
  },
  {
   "cell_type": "code",
   "execution_count": null,
   "id": "8046ba7f",
   "metadata": {},
   "outputs": [],
   "source": [
    "requests = []\n",
    "\n",
    "# Participant\n",
    "\n",
    "requests.append(\"\"\"\n",
    "ALTER TABLE `Participant` \n",
    "ADD FOREIGN KEY (`client`) REFERENCES `Client` (`client_id`);\n",
    "\"\"\"\n",
    ")\n",
    "\n",
    "# Course\n",
    "\n",
    "requests.append(\"\"\"\n",
    "ALTER TABLE `Course`\n",
    "ADD FOREIGN KEY (`client`) REFERENCES `Client` (`client_id`) ,\n",
    "ADD FOREIGN KEY (`teacher`) REFERENCES `Teacher` (`teacher_id`);\n",
    "\"\"\"\n",
    ")\n",
    "\n",
    "# Takes_course\n",
    "\n",
    "requests.append(\"\"\"\n",
    "CREATE TABLE `Takes_Course`(\n",
    "    `participant_id` INT NOT NULL,\n",
    "    `course_id` INT NOT NULL,\n",
    "\tFOREIGN KEY (`participant_id`) REFERENCES `Participant` (`participant_id`),\n",
    "    FOREIGN KEY (`course_id`) REFERENCES `Course` (`course_id`)\n",
    ")ENGINE=InnoDB;\n",
    "\"\"\"\n",
    ")\n",
    "# Connexion à la base de données\n",
    "\n",
    "db = connect_db(\"192.168.20.118\", \"grogu\", \"grogu\", \"pysql\")\n",
    "\n",
    "# Exécuter nos requêtes définies\n",
    "\n",
    "for request in requests:\n",
    "    exe(db, request)"
   ]
  },
  {
   "attachments": {},
   "cell_type": "markdown",
   "id": "cdb1b937",
   "metadata": {},
   "source": [
    "---\n",
    "\n",
    "##  4. Remplissage les tables avec les données "
   ]
  },
  {
   "cell_type": "markdown",
   "id": "fc7aa3fa",
   "metadata": {},
   "source": [
    "Remplir la table 'Teacher' avec les données du fichier Excel"
   ]
  },
  {
   "cell_type": "markdown",
   "id": "c5a58ffa",
   "metadata": {},
   "source": [
    "Ici, nous assignons à nouveau une chaîne de plusieurs lignes avec notre commande SQL à une variable, puis nous appelons nos fonctions de création et d'execution déjà définies"
   ]
  },
  {
   "cell_type": "code",
   "execution_count": null,
   "id": "100223de",
   "metadata": {},
   "outputs": [],
   "source": [
    "# Installation openpyxl\n",
    "\"\"\"\n",
    "conda install -c anaconda openpyxl\n",
    "\"\"\""
   ]
  },
  {
   "cell_type": "code",
   "execution_count": null,
   "id": "03d7bb81",
   "metadata": {},
   "outputs": [],
   "source": [
    "import pandas as pd\n",
    "\n",
    "# lecture du fichier avec pandas\n",
    "df = pd.read_excel('Tables.xlsx', sheet_name = \"ILS DB\", usecols = 'B:I', skiprows = 2, nrows = 6)\n",
    "\n",
    "# Enumeration des valeurs (nested liste), génération des requetes pour chaque ligne\n",
    "requests = []\n",
    "for line in df.values.tolist():\n",
    "    requests.append(f\"\"\"\n",
    "    INSERT INTO `pysql`.`Teacher` VALUES (\n",
    "        '{line[0]}', \n",
    "        '{line[1]}',\n",
    "        '{line[2]}', \n",
    "        '{line[5]}', \n",
    "        '{line[7]}', \n",
    "        '{line[3]}', \n",
    "        '{line[4]}', \n",
    "        '{line[6]}');\n",
    "    \"\"\")\n",
    "\n",
    "# Connexion à la base de données\n",
    "\n",
    "db = connect_db(\"192.168.20.118\", \"grogu\", \"grogu\", \"pysql\")\n",
    "\n",
    "# Exécuter nos requêtes définies\n",
    "\n",
    "for request in requests:\n",
    "    exe(db, request)"
   ]
  },
  {
   "cell_type": "markdown",
   "id": "c4601da2",
   "metadata": {},
   "source": [
    "#### Vérifiez que les tables sont bien remplies "
   ]
  },
  {
   "cell_type": "markdown",
   "id": "1cdce5ae",
   "metadata": {},
   "source": [
    "Nous allons remplir les autres tables de la même manière"
   ]
  },
  {
   "cell_type": "code",
   "execution_count": null,
   "id": "b6f2aa56",
   "metadata": {},
   "outputs": [],
   "source": [
    "# Client\n",
    "\n",
    "df = pd.read_excel('Tables.xlsx', sheet_name = \"ILS DB\", usecols = 'B:E', skiprows = 11, nrows = 5)\n",
    "\n",
    "requests = []\n",
    "for line in df.values.tolist():\n",
    "    requests.append(f\"\"\"\n",
    "    INSERT INTO `pysql`.`Client` VALUES (\n",
    "        '{line[0]}', \n",
    "        '{line[1]}',\n",
    "        '{line[2]}', \n",
    "        '{line[3]}');\n",
    "    \"\"\")\n",
    "    \n",
    "# Connexion à la base de données\n",
    "\n",
    "db = connect_db(\"192.168.20.118\", \"grogu\", \"grogu\", \"pysql\")\n",
    "\n",
    "# Exécuter nos requêtes définies\n",
    "\n",
    "for request in requests:\n",
    "    exe(db, request)"
   ]
  },
  {
   "cell_type": "code",
   "execution_count": null,
   "id": "417b5a49",
   "metadata": {},
   "outputs": [],
   "source": [
    "# Participant\n",
    "\n",
    "df = pd.read_excel('Tables.xlsx', sheet_name = \"ILS DB\", usecols = 'B:F', skiprows = 19, nrows = 14)\n",
    "\n",
    "requests = []\n",
    "for line in df.values.tolist():\n",
    "    requests.append(f\"\"\"\n",
    "    INSERT INTO `pysql`.`Participant` VALUES (\n",
    "        '{line[0]}', \n",
    "        '{line[1]}',\n",
    "        '{line[2]}', \n",
    "        '{line[3]}',\n",
    "        '{line[4]}');\n",
    "    \"\"\")\n",
    "    \n",
    "# Connexion à la base de données\n",
    "\n",
    "db = connect_db(\"192.168.20.118\", \"grogu\", \"grogu\", \"pysql\")\n",
    "\n",
    "# Exécuter nos requêtes définies\n",
    "\n",
    "for request in requests:\n",
    "    exe(db, request)"
   ]
  },
  {
   "cell_type": "code",
   "execution_count": null,
   "id": "32518007",
   "metadata": {},
   "outputs": [],
   "source": [
    "# Course\n",
    "df = pd.read_excel('Tables.xlsx', sheet_name = \"ILS DB\", usecols = 'B:J', skiprows = 36, nrows = 9)\n",
    "\n",
    "requests = []\n",
    "for line in df.values.tolist():\n",
    "    requests.append(f\"\"\"\n",
    "    INSERT INTO `pysql`.`Course` VALUES (\n",
    "        '{line[0]}', \n",
    "        '{line[1]}',\n",
    "        '{line[4]}', \n",
    "        '{line[2]}',\n",
    "        '{line[3]}',\n",
    "        '{line[5]}',\n",
    "        '{1 if line[6] else 0}',\n",
    "        '{line[7]}',\n",
    "        '{line[8]}');\n",
    "    \"\"\")\n",
    "    \n",
    "# Connexion à la base de données\n",
    "\n",
    "db = connect_db(\"192.168.20.118\", \"grogu\", \"grogu\", \"pysql\")\n",
    "\n",
    "# Exécuter nos requêtes définies\n",
    "\n",
    "for request in requests:\n",
    "    exe(db, request)"
   ]
  },
  {
   "cell_type": "code",
   "execution_count": null,
   "id": "76691fb2",
   "metadata": {},
   "outputs": [],
   "source": [
    "# Takes_Course\n",
    "\n",
    "df = pd.read_excel('Tables.xlsx', sheet_name = \"ILS DB\", usecols = 'B:C', skiprows = 48, nrows = 17)\n",
    "requests = []\n",
    "for line in df.values.tolist():\n",
    "    requests.append(f\"\"\"\n",
    "    INSERT INTO `pysql`.`Takes_Course` VALUES (\n",
    "        '{line[0]}', \n",
    "        '{line[1]}');\n",
    "    \"\"\")\n",
    "    \n",
    "# Connexion à la base de données\n",
    "\n",
    "db = connect_db(\"192.168.20.118\", \"grogu\", \"grogu\", \"pysql\")\n",
    "\n",
    "# Exécuter nos requêtes définies\n",
    "\n",
    "for request in requests:\n",
    "    exe(db, request)"
   ]
  },
  {
   "attachments": {},
   "cell_type": "markdown",
   "id": "31cb66dc",
   "metadata": {},
   "source": [
    "---\n",
    "\n",
    "## 5. Lire des données"
   ]
  },
  {
   "cell_type": "markdown",
   "id": "d362693b",
   "metadata": {},
   "source": [
    "Maintenant que nous avons rempli nos tables, il est temps de commencer à créer des requêtes de lecture. Pour ce faire, nous avons besoin d'une nouvelle fonction."
   ]
  },
  {
   "cell_type": "markdown",
   "id": "960ac479",
   "metadata": {},
   "source": [
    "#### Fonction de lecture des données"
   ]
  },
  {
   "cell_type": "code",
   "execution_count": null,
   "id": "cc802aba",
   "metadata": {},
   "outputs": [],
   "source": [
    "def read_exe(server, request, col_name = False):\n",
    "    cursor = db.cursor(buffered = True)\n",
    "    cursor.execute(request)\n",
    "    server.commit()\n",
    "    result = cursor.fetchall()\n",
    "    if col_name:\n",
    "        result.insert(0, cursor.column_names)\n",
    "    return(result)"
   ]
  },
  {
   "cell_type": "markdown",
   "id": "4ebd2b8e",
   "metadata": {},
   "source": [
    "#### Appliquez la fonction de lecture des données sur les tables de la BDD"
   ]
  },
  {
   "cell_type": "markdown",
   "id": "60ce2942",
   "metadata": {},
   "source": [
    "Nous pouvons maintenant affecter les résultats à une liste, pour les utiliser ensuite dans nos applications ou scripts python.\n"
   ]
  },
  {
   "cell_type": "markdown",
   "id": "6b30b77d",
   "metadata": {},
   "source": [
    "#### Mettez  les données dans une liste de tuples "
   ]
  },
  {
   "cell_type": "code",
   "execution_count": null,
   "id": "8c82437e",
   "metadata": {},
   "outputs": [],
   "source": [
    "import mysql.connector\n",
    "\n",
    "db = connect_db(\"192.168.20.118\", \"grogu\", \"grogu\", \"pysql\")\n",
    "\n",
    "data = read_exe(db, \"SELECT * FROM Client;\")\n",
    "\n",
    "print(data)"
   ]
  },
  {
   "cell_type": "markdown",
   "id": "6c39fed4",
   "metadata": {},
   "source": [
    "#### Mettez  les données dans un dataframe Pandas\n"
   ]
  },
  {
   "cell_type": "code",
   "execution_count": null,
   "id": "6c5c4c95",
   "metadata": {},
   "outputs": [],
   "source": [
    "import pandas as pd\n",
    "\n",
    "def table_to_df(db, request):\n",
    "    liste = [list(line) for line in read_exe(db, request, True)]\n",
    "\n",
    "    df = pd.DataFrame(data = liste[1:], columns = liste[0])\n",
    "    \n",
    "    return(df)\n",
    "\n",
    "db = connect_db(\"192.168.20.118\", \"grogu\", \"grogu\", \"pysql\")\n",
    "\n",
    "table_to_df(db, \"SELECT * FROM Course;\")\n"
   ]
  },
  {
   "attachments": {},
   "cell_type": "markdown",
   "id": "ee5abccd",
   "metadata": {},
   "source": [
    "---\n",
    "\n",
    "## 6. Mise à jour des enregistrements"
   ]
  },
  {
   "attachments": {},
   "cell_type": "markdown",
   "id": "168d3d7f",
   "metadata": {},
   "source": [
    "L'école a été informée que la Big Business Federation (id =101) avait déménagé et qu'elle se trouvait désormais au 323 Fingiertweg, 14534 Berlin3. Modifiez cette adresse dans la base de données en  utilisant la fonction 'update' "
   ]
  },
  {
   "cell_type": "code",
   "execution_count": null,
   "id": "ccda2208",
   "metadata": {},
   "outputs": [],
   "source": [
    "db = connect_db(\"192.168.20.118\", \"grogu\", \"grogu\", \"pysql\")\n",
    "\n",
    "exe(db, \"UPDATE Client SET address = '323 Fingiertweg, 14534 Berlin3' WHERE client_id = 101;\")"
   ]
  },
  {
   "attachments": {},
   "cell_type": "markdown",
   "id": "1e746de1",
   "metadata": {},
   "source": [
    "Vérifiez si l'adresse a été bien changée"
   ]
  },
  {
   "cell_type": "code",
   "execution_count": null,
   "id": "77b75939",
   "metadata": {},
   "outputs": [],
   "source": [
    "db = connect_db(\"192.168.20.118\", \"grogu\", \"grogu\", \"pysql\")\n",
    "\n",
    "table_to_df(db, \"SELECT * FROM Client WHERE client_id = 101;\")"
   ]
  },
  {
   "attachments": {},
   "cell_type": "markdown",
   "id": "9c219e03",
   "metadata": {},
   "source": [
    "---\n",
    "\n",
    "## 7. Suppression d'enregistrements"
   ]
  },
  {
   "attachments": {},
   "cell_type": "markdown",
   "id": "40bcb8e4",
   "metadata": {},
   "source": [
    "Supprimez le cours dont l'identifiant est 20. Pour cela, utilisez la commande SQL DELETE."
   ]
  },
  {
   "cell_type": "code",
   "execution_count": null,
   "id": "2c8fea52",
   "metadata": {},
   "outputs": [],
   "source": [
    "db = connect_db(\"192.168.20.118\", \"grogu\", \"grogu\", \"pysql\")\n",
    "\n",
    "queries = (\"DELETE FROM Takes_Course WHERE course_id = 20;\", \"DELETE FROM Course WHERE course_id = 20;\")\n",
    "\n",
    "for query in queries:\n",
    "    exe(db, query)"
   ]
  },
  {
   "attachments": {},
   "cell_type": "markdown",
   "id": "e5ad3d91",
   "metadata": {},
   "source": [
    "Vérifiez si le cours a été bien supprimé"
   ]
  },
  {
   "cell_type": "code",
   "execution_count": null,
   "id": "b5ba7669",
   "metadata": {},
   "outputs": [],
   "source": [
    "db = connect_db(\"192.168.20.118\", \"grogu\", \"grogu\", \"pysql\")\n",
    "\n",
    "table_to_df(db, \"SELECT * FROM Course;\")"
   ]
  },
  {
   "attachments": {},
   "cell_type": "markdown",
   "id": "6e792aa1",
   "metadata": {},
   "source": [
    "Rétablir le cours supprimé  et vérifié qu'il est bien rétabli "
   ]
  },
  {
   "cell_type": "code",
   "execution_count": null,
   "id": "551ba50d",
   "metadata": {},
   "outputs": [],
   "source": [
    "requests = []\n",
    "\n",
    "df = pd.read_excel('Tables.xlsx', sheet_name = \"ILS DB\", usecols = 'B:J', skiprows = 44, nrows = 1)\n",
    "\n",
    "for line in df.values.tolist() :\n",
    "    requests.append(f\"\"\"\n",
    "    INSERT INTO `pysql`.`Course` VALUES (\n",
    "        '{line[0]}', \n",
    "        '{line[1]}',\n",
    "        '{line[4]}', \n",
    "        '{line[2]}',\n",
    "        '{line[3]}',\n",
    "        '{line[5]}',\n",
    "        '{1 if line[6] else 0}',\n",
    "        '{line[7]}',\n",
    "        '{line[8]}');\n",
    "    \"\"\")\n",
    "    \n",
    "df = pd.read_excel('Tables.xlsx', sheet_name = \"ILS DB\", usecols = 'B:C', skiprows = 60, nrows = 1)\n",
    "\n",
    "\n",
    "for line in df.values.tolist() :\n",
    "    requests.append(f\"\"\"\n",
    "    INSERT INTO `pysql`.`Takes_Course` VALUES (\n",
    "        '{line[0]}', \n",
    "        '{line[1]}');\n",
    "    \"\"\")\n",
    "\n",
    "# Connexion à la base de données\n",
    "\n",
    "db = connect_db(\"192.168.20.118\", \"grogu\", \"grogu\", \"pysql\")\n",
    "\n",
    "# Exécuter nos requêtes définies\n",
    "\n",
    "for request in requests:\n",
    "    exe(db, request)"
   ]
  },
  {
   "cell_type": "code",
   "execution_count": null,
   "id": "44fef49b",
   "metadata": {},
   "outputs": [],
   "source": [
    "db = connect_db(\"192.168.20.118\", \"grogu\", \"grogu\", \"pysql\")\n",
    "\n",
    "table_to_df(db, \"SELECT * FROM Course;\")"
   ]
  },
  {
   "attachments": {},
   "cell_type": "markdown",
   "id": "79ec1771",
   "metadata": {},
   "source": [
    "---\n",
    "\n",
    "## 8. Création d'enregistrements à partir de listes"
   ]
  },
  {
   "attachments": {},
   "cell_type": "markdown",
   "id": "23bda232",
   "metadata": {},
   "source": [
    "Ajoutons quelques nouveaux professeurs à notre table 'teacher'.\n",
    "Tout d'abord, modifions notre fonction execute_query pour utiliser executemany() et accepter un argument supplémentaire."
   ]
  },
  {
   "cell_type": "code",
   "execution_count": null,
   "id": "e160e03b",
   "metadata": {},
   "outputs": [],
   "source": [
    "def exe_many(server, request, data):\n",
    "    cursor = server.cursor()\n",
    "    cursor.executemany(request, data)\n",
    "    server.commit()"
   ]
  },
  {
   "attachments": {},
   "cell_type": "markdown",
   "id": "f306714b",
   "metadata": {},
   "source": [
    "Maintenant, créons une liste contenant les données des nouveaux enseignants (chacune étant stockée dans un tuple), et la commande SQL pour effectuer notre action.\n",
    "\n",
    "Notez que la commande SQL nécessite un caractère générique '%s' pour chacune des colonnes sur lesquelles nous souhaitons agir, donc dans ce cas, nous avons besoin de 8 pour les 8 colonnes pour lesquelles nous souhaitons ajouter des valeurs."
   ]
  },
  {
   "cell_type": "code",
   "execution_count": null,
   "id": "2a86e715",
   "metadata": {},
   "outputs": [],
   "source": [
    "new_teachers = [\n",
    "    (None, 'Tom-Lou', 'Pierron', '2001-06-01', '+251210451', 'FRA', None, 54861),\n",
    "    (None, 'Ethan', 'Vuillemin', '2002-07-04', '+545105455', 'FRA', 'ENG', 66514)\n",
    "]"
   ]
  },
  {
   "cell_type": "code",
   "execution_count": null,
   "id": "9c694639",
   "metadata": {},
   "outputs": [],
   "source": [
    "db = connect_db(\"192.168.20.118\", \"grogu\", \"grogu\", \"pysql\")\n",
    "\n",
    "exe_many(db, \"INSERT INTO Teacher VALUES (%s, %s, %s, %s, %s, %s, %s, %s)\", new_teachers)"
   ]
  },
  {
   "attachments": {},
   "cell_type": "markdown",
   "id": "f8586d64",
   "metadata": {},
   "source": [
    "---\n",
    "\n",
    "## CONCLUSION"
   ]
  },
  {
   "attachments": {},
   "cell_type": "markdown",
   "id": "ba90de9a",
   "metadata": {},
   "source": [
    "Nous avons couvert beaucoup de terrain dans ces deux premières briefs. De l'utilisation de Python et du connecteur MySQL à la création d'une toute nouvelle base de données dans le serveur MariaDB, en passant par la création de tables, la définition de leurs relations mutuelles et leur alimentation en données. Nous avons vu comment créer, lire, mettre à jour et supprimer des données dans notre base de données.\n",
    "\n",
    "Nous avons vu comment extraire des données de bases de données existantes et les charger dans des DataFrames pandas, prêtes à être analysées et travaillées en tirant parti de toutes les possibilités offertes par la pile PyData. Dans l'autre sens, nous avons également appris à prendre les données générées par nos scripts et applications Python et à les écrire dans une base de données où elles peuvent être stockées en toute sécurité pour être récupérées ultérieurement.\n"
   ]
  }
 ],
 "metadata": {
  "kernelspec": {
   "display_name": "base",
   "language": "python",
   "name": "python3"
  },
  "language_info": {
   "codemirror_mode": {
    "name": "ipython",
    "version": 3
   },
   "file_extension": ".py",
   "mimetype": "text/x-python",
   "name": "python",
   "nbconvert_exporter": "python",
   "pygments_lexer": "ipython3",
   "version": "3.9.16"
  },
  "vscode": {
   "interpreter": {
    "hash": "ad2bdc8ecc057115af97d19610ffacc2b4e99fae6737bb82f5d7fb13d2f2c186"
   }
  }
 },
 "nbformat": 4,
 "nbformat_minor": 5
}
