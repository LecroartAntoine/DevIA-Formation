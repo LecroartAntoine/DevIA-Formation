{
 "cells": [
  {
   "attachments": {},
   "cell_type": "markdown",
   "metadata": {},
   "source": [
    "# Atelier 5\n",
    "\n",
    "---\n",
    "\n",
    "## Instructions\n",
    "\n",
    "En se basant sur le fichier sql (ci-dessous) et la figure, vous devez réaliser les étapes suivantes en utilisant les requêtes SQL. </br>\n",
    "\n",
    "![5_schema_figure.png](5_schema_figure.png)"
   ]
  },
  {
   "attachments": {},
   "cell_type": "markdown",
   "metadata": {},
   "source": [
    "---\n",
    "\n",
    "### Partie 0 - Imports et fonctions"
   ]
  },
  {
   "cell_type": "code",
   "execution_count": null,
   "metadata": {},
   "outputs": [],
   "source": [
    "import sqlite3 as sq\n",
    "import mysql.connector as cnt\n",
    "\n",
    "def connect_db(host, user, pswd, database = None):\n",
    "    db = cnt.connect(\n",
    "        host = host,\n",
    "        user = user,\n",
    "        passwd = pswd,\n",
    "        database = database\n",
    "    )\n",
    "    return(db)\n",
    "\n",
    "def exe(db, request, value = None, verbose = False, name = False):\n",
    "    cursor = db.cursor(buffered = True)\n",
    "    \n",
    "    if value:\n",
    "        cursor.execute(request, value)\n",
    "\n",
    "    else :\n",
    "        cursor.execute(request)\n",
    "\n",
    "    db.commit()\n",
    "    \n",
    "    if verbose:\n",
    "        result = cursor.fetchall()\n",
    "        if name:\n",
    "            result.insert(0, cursor.column_names)\n",
    "        return(result)"
   ]
  },
  {
   "attachments": {},
   "cell_type": "markdown",
   "metadata": {},
   "source": [
    "---\n",
    "\n",
    "### Partie 1 - création de la base et des tables :"
   ]
  },
  {
   "attachments": {},
   "cell_type": "markdown",
   "metadata": {},
   "source": [
    "#### 1.1/ créer une nouelle base données nommée atelier5"
   ]
  },
  {
   "cell_type": "code",
   "execution_count": null,
   "metadata": {},
   "outputs": [],
   "source": [
    "db = connect_db('192.168.20.118', 'grogu', 'grogu')\n",
    "\n",
    "query = 'CREATE DATABASE IF NOT EXISTS atelier5;'\n",
    "\n",
    "exe(db, query)"
   ]
  },
  {
   "attachments": {},
   "cell_type": "markdown",
   "metadata": {},
   "source": [
    "#### 1.2/ Imiter les requêtes du fichier sql shema pour créer les tables et les remplir.\n",
    "\n",
    "```\n",
    "\n",
    "CREATE TABLE Pieces (\n",
    " Code INTEGER PRIMARY KEY NOT NULL,\n",
    " Name TEXT NOT NULL\n",
    " );\n",
    "CREATE TABLE Providers (\n",
    " Code VARCHAR(40) \n",
    " PRIMARY KEY NOT NULL,  \n",
    " Name TEXT NOT NULL \n",
    " );\n",
    "CREATE TABLE Provides (\n",
    " Piece INTEGER, \n",
    " FOREIGN KEY (Piece) REFERENCES Pieces(Code),\n",
    " Provider VARCHAR(40), \n",
    " FOREIGN KEY (Provider) REFERENCES Providers(Code),  \n",
    " Price INTEGER NOT NULL,\n",
    " PRIMARY KEY(Piece, Provider) \n",
    " );\n",
    " \n",
    "INSERT INTO Providers(Code, Name) VALUES('HAL','Clarke Enterprises');\n",
    "INSERT INTO Providers(Code, Name) VALUES('RBT','Susan Calvin Corp.');\n",
    "INSERT INTO Providers(Code, Name) VALUES('TNBC','Skellington Supplies');\n",
    "\n",
    "INSERT INTO Pieces(Code, Name) VALUES(1,'Sprocket');\n",
    "INSERT INTO Pieces(Code, Name) VALUES(2,'Screw');\n",
    "INSERT INTO Pieces(Code, Name) VALUES(3,'Nut');\n",
    "INSERT INTO Pieces(Code, Name) VALUES(4,'Bolt');\n",
    "\n",
    "INSERT INTO Provides(Piece, Provider, Price) VALUES(1,'HAL',10);\n",
    "INSERT INTO Provides(Piece, Provider, Price) VALUES(1,'RBT',15);\n",
    "INSERT INTO Provides(Piece, Provider, Price) VALUES(2,'HAL',20);\n",
    "INSERT INTO Provides(Piece, Provider, Price) VALUES(2,'RBT',15);\n",
    "INSERT INTO Provides(Piece, Provider, Price) VALUES(2,'TNBC',14);\n",
    "INSERT INTO Provides(Piece, Provider, Price) VALUES(3,'RBT',50);\n",
    "INSERT INTO Provides(Piece, Provider, Price) VALUES(3,'TNBC',45);\n",
    "INSERT INTO Provides(Piece, Provider, Price) VALUES(4,'HAL',5);\n",
    "INSERT INTO Provides(Piece, Provider, Price) VALUES(4,'RBT',7);\n",
    "\n",
    "```"
   ]
  },
  {
   "cell_type": "code",
   "execution_count": null,
   "metadata": {},
   "outputs": [],
   "source": [
    "db = connect_db('192.168.20.118', 'grogu', 'grogu', database = 'atelier5')\n",
    "\n",
    "queries = [\"\"\"\n",
    "    CREATE TABLE IF NOT EXISTS Pieces (\n",
    "        Code INTEGER PRIMARY KEY NOT NULL,\n",
    "        Name TEXT NOT NULL\n",
    "    )ENGINE = InnoDB;\n",
    "\"\"\"]\n",
    "\n",
    "queries.append(\"\"\"\n",
    "    CREATE TABLE IF NOT EXISTS Providers (\n",
    "        Code VARCHAR(40) \n",
    "        PRIMARY KEY NOT NULL,  \n",
    "        Name TEXT NOT NULL \n",
    "    )ENGINE = InnoDB;\n",
    "\"\"\")\n",
    "\n",
    "queries.append(\"\"\"\n",
    "    CREATE TABLE Provides (\n",
    "        Piece INTEGER, \n",
    "        FOREIGN KEY (Piece) REFERENCES Pieces(Code),\n",
    "        Provider VARCHAR(40), \n",
    "        FOREIGN KEY (Provider) REFERENCES Providers(Code),  \n",
    "        Price INTEGER NOT NULL,\n",
    "        PRIMARY KEY(Piece, Provider) \n",
    "    )ENGINE = InnoDB;\n",
    "\"\"\")\n",
    "\n",
    "queries.append(\"\"\"\n",
    "    INSERT INTO Providers VALUES\n",
    "        ('HAL','Clarke Enterprises'),\n",
    "        ('RBT','Susan Calvin Corp.'),\n",
    "        ('TNBC','Skellington Supplies');\n",
    "    \"\"\")\n",
    "\n",
    "queries.append(\"\"\"\n",
    "    INSERT INTO Pieces VALUES\n",
    "        (1,'Sprocket'),\n",
    "        (2,'Screw'),\n",
    "        (3,'Nut'),\n",
    "        (4,'Bolt');\n",
    "\"\"\")\n",
    "\n",
    "queries.append(\"\"\"\n",
    "    INSERT INTO Provides VALUES\n",
    "        (1,'HAL',10),\n",
    "        (1,'RBT',15),\n",
    "        (2,'HAL',20),\n",
    "        (2,'RBT',15),\n",
    "        (2,'TNBC',14),\n",
    "        (3,'RBT',50),\n",
    "        (3,'TNBC',45),\n",
    "        (4,'HAL',5),\n",
    "        (4,'RBT',7);\n",
    "\"\"\")\n",
    "\n",
    "for query in queries:\n",
    "    exe(db, query)"
   ]
  },
  {
   "attachments": {},
   "cell_type": "markdown",
   "metadata": {},
   "source": [
    "---\n",
    "\n",
    "### Partie 2 - réaliser une sélection de données :"
   ]
  },
  {
   "attachments": {},
   "cell_type": "markdown",
   "metadata": {},
   "source": [
    "#### 2.1/ Sélectionnez le nom de toutes les pièces."
   ]
  },
  {
   "cell_type": "code",
   "execution_count": null,
   "metadata": {},
   "outputs": [],
   "source": [
    "db = connect_db('192.168.20.118', 'grogu', 'grogu', database = \"atelier5\")\n",
    "\n",
    "query = \"\"\"\n",
    "    SELECT Name\n",
    "    FROM Pieces;\n",
    "\"\"\"\n",
    "\n",
    "responses = exe(db, query, verbose = True)\n",
    "\n",
    "for response in responses:\n",
    "    print(f\"{response[0]}\")"
   ]
  },
  {
   "attachments": {},
   "cell_type": "markdown",
   "metadata": {},
   "source": [
    "#### 2.2/ Sélectionnez les données de tous les fournisseurs(providers)."
   ]
  },
  {
   "cell_type": "code",
   "execution_count": null,
   "metadata": {},
   "outputs": [],
   "source": [
    "db = connect_db('192.168.20.118', 'grogu', 'grogu', database = \"atelier5\")\n",
    "\n",
    "query = \"\"\"\n",
    "    SELECT *\n",
    "    FROM Providers;\n",
    "\"\"\"\n",
    "\n",
    "responses = exe(db, query, verbose = True)\n",
    "\n",
    "for response in responses:\n",
    "    print(f\"{response}\")"
   ]
  },
  {
   "attachments": {},
   "cell_type": "markdown",
   "metadata": {},
   "source": [
    "#### 2.3/ Obtenir le prix moyen de chaque pièce (ne montrer que le code de la pièce et le prix moyen). Utiliser la fonction AVG et GROUP BY.\n"
   ]
  },
  {
   "cell_type": "code",
   "execution_count": null,
   "metadata": {},
   "outputs": [],
   "source": [
    "db = connect_db('192.168.20.118', 'grogu', 'grogu', database = \"atelier5\")\n",
    "\n",
    "query = \"\"\"\n",
    "    SELECT Piece, AVG(Price)\n",
    "    FROM Provides\n",
    "    GROUP BY Piece;\n",
    "\"\"\"\n",
    "\n",
    "responses = exe(db, query, verbose = True)\n",
    "\n",
    "for response in responses:\n",
    "    print(f\"{response}\")"
   ]
  },
  {
   "attachments": {},
   "cell_type": "markdown",
   "metadata": {},
   "source": [
    "#### 2.4/ Obtenir les noms de tous les fournisseurs qui fournissent la pièce 1."
   ]
  },
  {
   "cell_type": "code",
   "execution_count": null,
   "metadata": {},
   "outputs": [],
   "source": [
    "db = connect_db('192.168.20.118', 'grogu', 'grogu', database = \"atelier5\")\n",
    "\n",
    "query = \"\"\"\n",
    "    SELECT Name\n",
    "    FROM Providers\n",
    "    INNER JOIN Provides ON Provides.Provider = Providers.Code\n",
    "    WHERE Piece = 1;\n",
    "\"\"\"\n",
    "\n",
    "responses = exe(db, query, verbose = True)\n",
    "\n",
    "for response in responses:\n",
    "    print(f\"{response[0]}\")"
   ]
  },
  {
   "attachments": {},
   "cell_type": "markdown",
   "metadata": {},
   "source": [
    "---\n",
    "\n",
    "### Partie 3 - Utiliser les jointures :"
   ]
  },
  {
   "attachments": {},
   "cell_type": "markdown",
   "metadata": {},
   "source": [
    "#### 3.1/ Sélectionner le nom des pièces fournies par le fournisseur avec le code \"HAL\"."
   ]
  },
  {
   "cell_type": "code",
   "execution_count": null,
   "metadata": {},
   "outputs": [],
   "source": [
    "db = connect_db('192.168.20.118', 'grogu', 'grogu', database = \"atelier5\")\n",
    "\n",
    "query = \"\"\"\n",
    "    SELECT Pieces.Name\n",
    "    FROM Pieces\n",
    "    INNER JOIN Provides ON Provides.Piece = Pieces.Code\n",
    "    WHERE Provider = 'HAL';\n",
    "\"\"\"\n",
    "\n",
    "responses = exe(db, query, verbose = True)\n",
    "\n",
    "for response in responses:\n",
    "    print(f\"{response[0]}\")"
   ]
  },
  {
   "attachments": {},
   "cell_type": "markdown",
   "metadata": {},
   "source": [
    "---\n",
    "\n",
    "### Partie 4 - réaliser des modifications des tables :"
   ]
  },
  {
   "attachments": {},
   "cell_type": "markdown",
   "metadata": {},
   "source": [
    "#### 4.1/ Ajouter une entrée dans la base de données pour indiquer que \"Skellington Supplies\" (code \"TNBC\") fournira des pignons (code \"1\") pour 7 cents chacun."
   ]
  },
  {
   "cell_type": "code",
   "execution_count": null,
   "metadata": {},
   "outputs": [],
   "source": [
    "db = connect_db('192.168.20.118', 'grogu', 'grogu', database = 'atelier5')\n",
    "\n",
    "query = \"\"\"\n",
    "    INSERT INTO Provides VALUES (1, 'TNBC', 7);\n",
    "\"\"\"\n",
    "\n",
    "exe(db, query)"
   ]
  },
  {
   "attachments": {},
   "cell_type": "markdown",
   "metadata": {},
   "source": [
    "#### 4.2/ Augmenter tous les prix d'un centime."
   ]
  },
  {
   "cell_type": "code",
   "execution_count": null,
   "metadata": {},
   "outputs": [],
   "source": [
    "db = connect_db('192.168.20.118', 'grogu', 'grogu', database = 'atelier5')\n",
    "\n",
    "query = \"\"\"\n",
    "    UPDATE Provides\n",
    "    SET Price = Price + 1;\n",
    "\"\"\"\n",
    "\n",
    "responses = exe(db, query)"
   ]
  },
  {
   "attachments": {},
   "cell_type": "markdown",
   "metadata": {},
   "source": [
    "#### 4.3/ Mettre à jour la base de données pour indiquer que \"Susan Calvin Corp. (code \"RBT\") ne fournira pas de boulons (code 4)."
   ]
  },
  {
   "cell_type": "code",
   "execution_count": null,
   "metadata": {},
   "outputs": [],
   "source": [
    "db = connect_db('192.168.20.118', 'grogu', 'grogu', database = 'atelier5')\n",
    "\n",
    "query = \"\"\"\n",
    "    DELETE FROM Provides\n",
    "    WHERE Piece = 4 AND Provider = 'RBT';\n",
    "\"\"\"\n",
    "\n",
    "responses = exe(db, query)"
   ]
  },
  {
   "attachments": {},
   "cell_type": "markdown",
   "metadata": {},
   "source": [
    "---\n",
    "\n",
    "### Partie 5 - BONUS :"
   ]
  },
  {
   "attachments": {},
   "cell_type": "markdown",
   "metadata": {},
   "source": [
    "#### 5.1/ Pour chaque pièce, trouvez l'offre la plus chère de cette pièce et indiquez le nom de la pièce, le nom du fournisseur et le prix\n",
    "\n",
    "-- (notez qu'il peut y avoir deux fournisseurs qui fournissent la même pièce au prix le plus élevé)."
   ]
  },
  {
   "cell_type": "code",
   "execution_count": null,
   "metadata": {},
   "outputs": [],
   "source": [
    "db = connect_db('192.168.20.118', 'grogu', 'grogu', database = 'atelier5')\n",
    "\n",
    "query = \"\"\"\n",
    "    SELECT\n",
    "    Pieces.Name,\n",
    "    Providers.Name,\n",
    "    MAX(Provides.Price)\n",
    "    FROM Provides\n",
    "    JOIN Pieces\n",
    "    ON Pieces.Code = Provides.Piece\n",
    "    JOIN Providers\n",
    "    ON Providers.Code = Provides.Provider\n",
    "    GROUP BY Pieces.Code;\n",
    "\"\"\"\n",
    "\n",
    "responses = exe(db, query, verbose = True)\n",
    "\n",
    "for response in responses:\n",
    "    print(f\"{response}\")"
   ]
  }
 ],
 "metadata": {
  "kernelspec": {
   "display_name": "base",
   "language": "python",
   "name": "python3"
  },
  "language_info": {
   "codemirror_mode": {
    "name": "ipython",
    "version": 3
   },
   "file_extension": ".py",
   "mimetype": "text/x-python",
   "name": "python",
   "nbconvert_exporter": "python",
   "pygments_lexer": "ipython3",
   "version": "3.9.15"
  },
  "orig_nbformat": 4,
  "vscode": {
   "interpreter": {
    "hash": "45bb1cb4637e4034484920e5cfb24c9afd84b0847d6c36e39edd3067d3a05462"
   }
  }
 },
 "nbformat": 4,
 "nbformat_minor": 2
}
