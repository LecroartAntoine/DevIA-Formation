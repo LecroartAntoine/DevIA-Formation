{
 "cells": [
  {
   "attachments": {},
   "cell_type": "markdown",
   "metadata": {},
   "source": [
    "# Atelier 4\n",
    "\n",
    "---\n",
    "\n",
    "## Instructions\n",
    "\n",
    "En se basant sur le fichier sql (ci-dessous) et la figure, vous devez réaliser les étapes suivantes en utilisant les requêtes SQL. </br>\n",
    "\n",
    "![4_schema_figure.png](4_schema_figure.png)"
   ]
  },
  {
   "attachments": {},
   "cell_type": "markdown",
   "metadata": {},
   "source": [
    "---\n",
    "\n",
    "### Partie 0 - Imports et fonctions"
   ]
  },
  {
   "cell_type": "code",
   "execution_count": null,
   "metadata": {},
   "outputs": [],
   "source": [
    "import sqlite3 as sq\n",
    "import mysql.connector as cnt\n",
    "\n",
    "def connect_db(host, user, pswd, database = None):\n",
    "    db = cnt.connect(\n",
    "        host = host,\n",
    "        user = user,\n",
    "        passwd = pswd,\n",
    "        database = database\n",
    "    )\n",
    "    return(db)\n",
    "\n",
    "def exe(db, request, value = None, verbose = False, name = False):\n",
    "    cursor = db.cursor(buffered = True)\n",
    "    \n",
    "    if value:\n",
    "        cursor.execute(request, value)\n",
    "\n",
    "    else :\n",
    "        cursor.execute(request)\n",
    "\n",
    "    db.commit()\n",
    "    \n",
    "    if verbose:\n",
    "        result = cursor.fetchall()\n",
    "        if name:\n",
    "            result.insert(0, cursor.column_names)\n",
    "        return(result)"
   ]
  },
  {
   "attachments": {},
   "cell_type": "markdown",
   "metadata": {},
   "source": [
    "---\n",
    "\n",
    "### Partie 1 - création de la base et des tables :\n",
    "\n",
    "Réaliser ces actions directement avec des requêtes SQL"
   ]
  },
  {
   "attachments": {},
   "cell_type": "markdown",
   "metadata": {},
   "source": [
    "#### 1.1/ créer une nouvelle base données nommée atelier4"
   ]
  },
  {
   "cell_type": "code",
   "execution_count": null,
   "metadata": {},
   "outputs": [],
   "source": [
    "db = connect_db('192.168.20.118', 'grogu', 'grogu')\n",
    "\n",
    "query = 'CREATE DATABASE IF NOT EXISTS atelier4;'\n",
    "\n",
    "exe(db, query)"
   ]
  },
  {
   "attachments": {},
   "cell_type": "markdown",
   "metadata": {},
   "source": [
    "#### 1.2/ Imiter les requêtes du fichier sql shema pour créer les tables et les remplir.\n",
    "\n",
    "```\n",
    "\n",
    "CREATE TABLE Movies (\n",
    "  Code INTEGER PRIMARY KEY,\n",
    "  Title VARCHAR(255) NOT NULL,\n",
    "  Rating VARCHAR(255) \n",
    ");\n",
    "\n",
    "CREATE TABLE MovieTheaters (\n",
    "  Code INTEGER PRIMARY KEY,\n",
    "  Name VARCHAR(255) NOT NULL,\n",
    "  Movie INTEGER,  \n",
    "    FOREIGN KEY (Movie) REFERENCES Movies(Code)\n",
    ") ENGINE=INNODB;\n",
    "\n",
    "INSERT INTO Movies(Code,Title,Rating) VALUES(1,'Citizen Kane','PG');\n",
    "INSERT INTO Movies(Code,Title,Rating) VALUES(2,'Singin'' in the Rain','G');\n",
    "INSERT INTO Movies(Code,Title,Rating) VALUES(3,'The Wizard of Oz','G');\n",
    "INSERT INTO Movies(Code,Title,Rating) VALUES(4,'The Quiet Man',NULL);\n",
    "INSERT INTO Movies(Code,Title,Rating) VALUES(5,'North by Northwest',NULL);\n",
    "INSERT INTO Movies(Code,Title,Rating) VALUES(6,'The Last Tango in Paris','NC-17');\n",
    "INSERT INTO Movies(Code,Title,Rating) VALUES(7,'Some Like it Hot','PG-13');\n",
    "INSERT INTO Movies(Code,Title,Rating) VALUES(8,'A Night at the Opera',NULL);\n",
    " \n",
    "INSERT INTO MovieTheaters(Code,Name,Movie) VALUES(1,'Odeon',5);\n",
    "INSERT INTO MovieTheaters(Code,Name,Movie) VALUES(2,'Imperial',1);\n",
    "INSERT INTO MovieTheaters(Code,Name,Movie) VALUES(3,'Majestic',NULL);\n",
    "INSERT INTO MovieTheaters(Code,Name,Movie) VALUES(4,'Royale',6);\n",
    "INSERT INTO MovieTheaters(Code,Name,Movie) VALUES(5,'Paraiso',3);\n",
    "INSERT INTO MovieTheaters(Code,Name,Movie) VALUES(6,'Nickelodeon',NULL);\n",
    "\n",
    "```"
   ]
  },
  {
   "cell_type": "code",
   "execution_count": null,
   "metadata": {},
   "outputs": [],
   "source": [
    "db = connect_db('192.168.20.118', 'grogu', 'grogu', database = 'atelier4')\n",
    "\n",
    "queries = [\"\"\"\n",
    "    CREATE TABLE IF NOT EXISTS Movies (\n",
    "        Code INTEGER PRIMARY KEY,\n",
    "        Title VARCHAR(255) NOT NULL,\n",
    "        Rating VARCHAR(255) \n",
    "    )ENGINE = InnoDB;\n",
    "\"\"\"]\n",
    "\n",
    "queries.append(\"\"\"\n",
    "    CREATE TABLE IF NOT EXISTS MovieTheaters (\n",
    "        Code INTEGER PRIMARY KEY,\n",
    "        Name VARCHAR(255) NOT NULL,\n",
    "        Movie INTEGER,  \n",
    "        FOREIGN KEY (Movie) REFERENCES Movies(Code)\n",
    "    ) ENGINE = InnoDB;\n",
    "\"\"\")\n",
    "\n",
    "queries.append(\"\"\"\n",
    "    INSERT INTO Movies VALUES\n",
    "        (1,'Citizen Kane','PG'),\n",
    "        (2,'Singin'' in the Rain','G'),\n",
    "        (3,'The Wizard of Oz','G'),\n",
    "        (4,'The Quiet Man',NULL),\n",
    "        (5,'North by Northwest',NULL),\n",
    "        (6,'The Last Tango in Paris','NC-17'),\n",
    "        (7,'Some Like it Hot','PG-13'),\n",
    "        (8,'A Night at the Opera',NULL);\n",
    "\"\"\")\n",
    "\n",
    "queries.append(\"\"\"\n",
    "    INSERT INTO MovieTheaters \n",
    "        VALUES(1,'Odeon',5),\n",
    "        (2,'Imperial',1),\n",
    "        (3,'Majestic',NULL),\n",
    "        (4,'Royale',6),\n",
    "        (5,'Paraiso',3),\n",
    "        (6,'Nickelodeon',NULL);\n",
    "\"\"\")\n",
    "\n",
    "for query in queries:\n",
    "    exe(db, query)"
   ]
  },
  {
   "attachments": {},
   "cell_type": "markdown",
   "metadata": {},
   "source": [
    "---\n",
    "\n",
    "### Partie 2 - réaliser une sélection de données :"
   ]
  },
  {
   "attachments": {},
   "cell_type": "markdown",
   "metadata": {},
   "source": [
    "#### 2.1/ Sélectionnez le titre de tous les films."
   ]
  },
  {
   "cell_type": "code",
   "execution_count": null,
   "metadata": {},
   "outputs": [],
   "source": [
    "db = connect_db('192.168.20.118', 'grogu', 'grogu', database = \"atelier4\")\n",
    "\n",
    "query = \"\"\"\n",
    "    SELECT Title\n",
    "    FROM Movies;\n",
    "\"\"\"\n",
    "\n",
    "responses = exe(db, query, verbose = True)\n",
    "\n",
    "for response in responses:\n",
    "    print(f\"{response[0]}\")"
   ]
  },
  {
   "attachments": {},
   "cell_type": "markdown",
   "metadata": {},
   "source": [
    "#### 2.2/ Afficher toutes les classifications distinctes dans la base de données (utilsier DISTINCT)."
   ]
  },
  {
   "cell_type": "code",
   "execution_count": null,
   "metadata": {},
   "outputs": [],
   "source": [
    "db = connect_db('192.168.20.118', 'grogu', 'grogu', database = \"atelier4\")\n",
    "\n",
    "query = \"\"\"\n",
    "    SELECT DISTINCT Rating\n",
    "    FROM Movies\n",
    "    WHERE Rating IS NOT NULL;\n",
    "\"\"\"\n",
    "\n",
    "responses = exe(db, query, verbose = True)\n",
    "\n",
    "for response in responses:\n",
    "    print(f\"{response[0]}\")"
   ]
  },
  {
   "attachments": {},
   "cell_type": "markdown",
   "metadata": {},
   "source": [
    "#### 2.3/ Afficher tous les films non classés (si un film est non classé, sa valeur est NULL)."
   ]
  },
  {
   "cell_type": "code",
   "execution_count": null,
   "metadata": {},
   "outputs": [],
   "source": [
    "db = connect_db('192.168.20.118', 'grogu', 'grogu', database = \"atelier4\")\n",
    "\n",
    "query = \"\"\"\n",
    "    SELECT Title\n",
    "    FROM Movies\n",
    "    WHERE Rating IS NULL;\n",
    "\"\"\"\n",
    "\n",
    "responses = exe(db, query, verbose = True)\n",
    "\n",
    "for response in responses:\n",
    "    print(f\"{response[0]}\")"
   ]
  },
  {
   "attachments": {},
   "cell_type": "markdown",
   "metadata": {},
   "source": [
    "#### 2.4/ Sélectionner tous les cinémas qui ne diffusent pas de film actuellement (utiliser NULL également)."
   ]
  },
  {
   "cell_type": "code",
   "execution_count": null,
   "metadata": {},
   "outputs": [],
   "source": [
    "db = connect_db('192.168.20.118', 'grogu', 'grogu', database = \"atelier4\")\n",
    "\n",
    "query = \"\"\"\n",
    "    SELECT Name\n",
    "    FROM MovieTheaters\n",
    "    WHERE Movie IS NULL;\n",
    "\"\"\"\n",
    "\n",
    "responses = exe(db, query, verbose = True)\n",
    "\n",
    "for response in responses:\n",
    "    print(f\"{response[0]}\")"
   ]
  },
  {
   "attachments": {},
   "cell_type": "markdown",
   "metadata": {},
   "source": [
    "---\n",
    "\n",
    "### Partie 3 - utiliser les jointures :"
   ]
  },
  {
   "attachments": {},
   "cell_type": "markdown",
   "metadata": {},
   "source": [
    "#### 3.1/ Sélectionner toutes les données de tous les cinémas ainsi que les données du film qui est projeté en salle (si un film est projeté)."
   ]
  },
  {
   "cell_type": "code",
   "execution_count": null,
   "metadata": {},
   "outputs": [],
   "source": [
    "db = connect_db('192.168.20.118', 'grogu', 'grogu', database = \"atelier4\")\n",
    "\n",
    "query = \"\"\"\n",
    "    SELECT *\n",
    "    FROM MovieTheaters\n",
    "    INNER JOIN Movies ON Movies.Code = MovieTheaters.Movie\n",
    "\"\"\"\n",
    "\n",
    "responses = exe(db, query, verbose = True)\n",
    "\n",
    "for response in responses:\n",
    "    print(f\"{response}\")"
   ]
  },
  {
   "attachments": {},
   "cell_type": "markdown",
   "metadata": {},
   "source": [
    "#### 3.2/ Ajouter le film non coté \"One, Two, three\"."
   ]
  },
  {
   "cell_type": "code",
   "execution_count": null,
   "metadata": {},
   "outputs": [],
   "source": [
    "db = connect_db('192.168.20.118', 'grogu', 'grogu', database = 'atelier4')\n",
    "\n",
    "query = \"\"\"\n",
    "    INSERT INTO Movies VALUES (9, 'One, Two, three', NULL);\n",
    "\"\"\"\n",
    "\n",
    "responses = exe(db, query)"
   ]
  },
  {
   "attachments": {},
   "cell_type": "markdown",
   "metadata": {},
   "source": [
    "#### 3.3/ Fixer la classification de tous les films non classés à \"G\"."
   ]
  },
  {
   "cell_type": "code",
   "execution_count": null,
   "metadata": {},
   "outputs": [],
   "source": [
    "db = connect_db('192.168.20.118', 'grogu', 'grogu', database = 'atelier4')\n",
    "\n",
    "query = \"\"\"\n",
    "    UPDATE Movies\n",
    "    SET Rating = 'G'\n",
    "    WHERE Rating IS NULL;\n",
    "\"\"\"\n",
    "\n",
    "responses = exe(db, query)"
   ]
  },
  {
   "attachments": {},
   "cell_type": "markdown",
   "metadata": {},
   "source": [
    "---\n",
    "\n",
    "#### Partie 4 - BONUS :"
   ]
  },
  {
   "attachments": {},
   "cell_type": "markdown",
   "metadata": {},
   "source": [
    "#### 4.1/ Sélectionnez toutes les données de tous les films et, si ce film est diffusé dans une salle de cinéma, affichez les données de la salle de cinéma (Utiliser LEFT JOIN : https://sql.sh/cours/jointures/left-join)"
   ]
  },
  {
   "cell_type": "code",
   "execution_count": null,
   "metadata": {},
   "outputs": [],
   "source": [
    "db = connect_db('192.168.20.118', 'grogu', 'grogu', database = \"atelier4\")\n",
    "\n",
    "query = \"\"\"\n",
    "    SELECT *\n",
    "    FROM Movies\n",
    "    LEFT JOIN MovieTheaters ON Movies.Code = MovieTheaters.Movie;\n",
    "\"\"\"\n",
    "\n",
    "responses = exe(db, query, verbose = True)\n",
    "\n",
    "for response in responses:\n",
    "    print(f\"{response}\")"
   ]
  },
  {
   "attachments": {},
   "cell_type": "markdown",
   "metadata": {},
   "source": [
    "#### 4.2 Afficher les titres des films qui ne sont actuellement diffusés dans aucun cinéma."
   ]
  },
  {
   "cell_type": "code",
   "execution_count": null,
   "metadata": {},
   "outputs": [],
   "source": [
    "db = connect_db('192.168.20.118', 'grogu', 'grogu', database = \"atelier4\")\n",
    "\n",
    "query = \"\"\"\n",
    "    SELECT Title\n",
    "    FROM Movies\n",
    "    LEFT JOIN MovieTheaters ON Movies.Code = MovieTheaters.Movie\n",
    "    WHERE MovieTheaters.Movie IS NULL;\n",
    "\"\"\"\n",
    "\n",
    "responses = exe(db, query, verbose = True)\n",
    "\n",
    "for response in responses:\n",
    "    print(f\"{response[0]}\")"
   ]
  },
  {
   "attachments": {},
   "cell_type": "markdown",
   "metadata": {},
   "source": [
    "#### 4.3 Supprimer les salles de cinéma qui projettent des films classés \"NC-17\"."
   ]
  },
  {
   "cell_type": "code",
   "execution_count": null,
   "metadata": {},
   "outputs": [],
   "source": [
    "db = connect_db('192.168.20.118', 'grogu', 'grogu', database = 'atelier4')\n",
    "\n",
    "query = \"\"\"\n",
    "    DELETE MovieTheaters\n",
    "    FROM MovieTheaters\n",
    "    INNER JOIN Movies ON Movies.Code = MovieTheaters.Movie\n",
    "    WHERE  Rating = 'NC-17';\n",
    "\"\"\"\n",
    "\n",
    "responses = exe(db, query)"
   ]
  }
 ],
 "metadata": {
  "kernelspec": {
   "display_name": "base",
   "language": "python",
   "name": "python3"
  },
  "language_info": {
   "codemirror_mode": {
    "name": "ipython",
    "version": 3
   },
   "file_extension": ".py",
   "mimetype": "text/x-python",
   "name": "python",
   "nbconvert_exporter": "python",
   "pygments_lexer": "ipython3",
   "version": "3.9.15"
  },
  "orig_nbformat": 4,
  "vscode": {
   "interpreter": {
    "hash": "45bb1cb4637e4034484920e5cfb24c9afd84b0847d6c36e39edd3067d3a05462"
   }
  }
 },
 "nbformat": 4,
 "nbformat_minor": 2
}
