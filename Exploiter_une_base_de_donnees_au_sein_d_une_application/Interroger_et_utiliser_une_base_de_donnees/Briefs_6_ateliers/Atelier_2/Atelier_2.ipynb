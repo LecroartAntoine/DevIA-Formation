{
 "cells": [
  {
   "attachments": {},
   "cell_type": "markdown",
   "metadata": {},
   "source": [
    "# Atelier 2 \n",
    "\n",
    "---\n",
    "\n",
    "## Instructions\n",
    "\n",
    "En se basant sur le fichier sql (ci-dessous) et la figure, vous devez réaliser les étapes suivantes en utilisant les requêtes SQL. </br>\n",
    "\n",
    "![2_schema_figure.png](2_schema_figure.png)"
   ]
  },
  {
   "attachments": {},
   "cell_type": "markdown",
   "metadata": {},
   "source": [
    "---\n",
    "\n",
    "### Partie 0 - Imports et fonctions"
   ]
  },
  {
   "cell_type": "code",
   "execution_count": null,
   "metadata": {},
   "outputs": [],
   "source": [
    "import sqlite3 as sq\n",
    "import mysql.connector as cnt\n",
    "\n",
    "def connect_db(host, user, pswd, database = None):\n",
    "    db = cnt.connect(\n",
    "        host = host,\n",
    "        user = user,\n",
    "        passwd = pswd,\n",
    "        database = database\n",
    "    )\n",
    "    return(db)\n",
    "\n",
    "def exe(db, request, value = None, verbose = False, name = False):\n",
    "    cursor = db.cursor(buffered = True)\n",
    "    \n",
    "    if value:\n",
    "        cursor.execute(request, value)\n",
    "\n",
    "    else :\n",
    "        cursor.execute(request)\n",
    "\n",
    "    db.commit()\n",
    "    \n",
    "    if verbose:\n",
    "        result = cursor.fetchall()\n",
    "        if name:\n",
    "            result.insert(0, cursor.column_names)\n",
    "        return(result)"
   ]
  },
  {
   "attachments": {},
   "cell_type": "markdown",
   "metadata": {},
   "source": [
    "---\n",
    "\n",
    "###  Partie 1 - création de la base et des tables :\n",
    "\n",
    "Réaliser ces actions directement avec des requêtes SQL"
   ]
  },
  {
   "attachments": {},
   "cell_type": "markdown",
   "metadata": {},
   "source": [
    "#### 1.1/ créer une nouelle base données nommée atelier2"
   ]
  },
  {
   "cell_type": "code",
   "execution_count": null,
   "metadata": {},
   "outputs": [],
   "source": [
    "db = connect_db('192.168.20.118', 'grogu', 'grogu')\n",
    "\n",
    "query = 'CREATE DATABASE IF NOT EXISTS atelier2'\n",
    "\n",
    "exe(db, query)"
   ]
  },
  {
   "attachments": {},
   "cell_type": "markdown",
   "metadata": {},
   "source": [
    "#### 1.2/ Imiter les requêtes du fichier sql shema pour créer les tables et les remplir.\n",
    "\n",
    "```\n",
    "\n",
    "CREATE TABLE Departments (\n",
    "  Code INTEGER PRIMARY KEY,\n",
    "  Name varchar(255) NOT NULL ,\n",
    "  Budget decimal NOT NULL \n",
    ");\n",
    "\n",
    "CREATE TABLE Employees (\n",
    "  SSN INTEGER PRIMARY KEY,\n",
    "  Name varchar(255) NOT NULL ,\n",
    "  LastName varchar(255) NOT NULL ,\n",
    "  Department INTEGER NOT NULL , \n",
    "  foreign key (department) references Departments(Code) \n",
    ");\n",
    "\n",
    "INSERT INTO Departments(Code,Name,Budget) VALUES(14,'IT',65000);\n",
    "INSERT INTO Departments(Code,Name,Budget) VALUES(37,'Accounting',15000);\n",
    "INSERT INTO Departments(Code,Name,Budget) VALUES(59,'Human Resources',240000);\n",
    "INSERT INTO Departments(Code,Name,Budget) VALUES(77,'Research',55000);\n",
    "\n",
    "INSERT INTO Employees(SSN,Name,LastName,Department) VALUES('123234877','Michael','Rogers',14);\n",
    "INSERT INTO Employees(SSN,Name,LastName,Department) VALUES('152934485','Anand','Manikutty',14);\n",
    "INSERT INTO Employees(SSN,Name,LastName,Department) VALUES('222364883','Carol','Smith',37);\n",
    "INSERT INTO Employees(SSN,Name,LastName,Department) VALUES('326587417','Joe','Stevens',37);\n",
    "INSERT INTO Employees(SSN,Name,LastName,Department) VALUES('332154719','Mary-Anne','Foster',14);\n",
    "INSERT INTO Employees(SSN,Name,LastName,Department) VALUES('332569843','George','ODonnell',77);\n",
    "INSERT INTO Employees(SSN,Name,LastName,Department) VALUES('546523478','John','Doe',59);\n",
    "INSERT INTO Employees(SSN,Name,LastName,Department) VALUES('631231482','David','Smith',77);\n",
    "INSERT INTO Employees(SSN,Name,LastName,Department) VALUES('654873219','Zacary','Efron',59);\n",
    "INSERT INTO Employees(SSN,Name,LastName,Department) VALUES('745685214','Eric','Goldsmith',59);\n",
    "INSERT INTO Employees(SSN,Name,LastName,Department) VALUES('845657245','Elizabeth','Doe',14);\n",
    "INSERT INTO Employees(SSN,Name,LastName,Department) VALUES('845657246','Kumar','Swamy',14);\n",
    "\n",
    "```"
   ]
  },
  {
   "cell_type": "code",
   "execution_count": null,
   "metadata": {},
   "outputs": [],
   "source": [
    "db = connect_db('192.168.20.118', 'grogu', 'grogu', database = 'atelier2')\n",
    "\n",
    "queries = [\"\"\"\n",
    "    CREATE TABLE IF NOT EXISTS Departments (\n",
    "        Code INTEGER PRIMARY KEY,\n",
    "        Name varchar(255) NOT NULL ,\n",
    "        Budget decimal NOT NULL \n",
    "    )ENGINE = InnoDB;\n",
    "\"\"\"]\n",
    "\n",
    "queries.append(\"\"\"\n",
    "    CREATE TABLE IF NOT EXISTS Employees (\n",
    "        SSN INTEGER PRIMARY KEY,\n",
    "        Name varchar(255) NOT NULL ,\n",
    "        LastName varchar(255) NOT NULL ,\n",
    "        Department INTEGER NOT NULL , \n",
    "        foreign key (department) references Departments(Code) \n",
    "    )ENGINE = InnoDB;\n",
    "\"\"\")\n",
    "\n",
    "queries.append(\"\"\"\n",
    "    INSERT INTO Departments (Code,Name,Budget) \n",
    "    VALUES \n",
    "        (14,'IT',65000), \n",
    "        (37,'Accounting',15000),\n",
    "        (59,'Human Resources',240000), \n",
    "        (77,'Research',55000)\n",
    "    ;\n",
    "\"\"\")\n",
    "\n",
    "queries.append(\"\"\"\n",
    "    INSERT INTO Employees (SSN,Name,LastName,Department) \n",
    "    VALUES  \n",
    "        ('123234877', 'Rogers', 'Michael', 14),\n",
    "        ('152934485', 'Manikutty', 'Anand', 14),\n",
    "        ('222364883', 'Carol', 'Smith', 37),\n",
    "        ('326587417', 'Stevens', 'Joe', 37),\n",
    "        ('332154719','Foster', 'Mary-Anne', 14),\n",
    "        ('332569843', 'ODonnell', 'George', 77),\n",
    "        ('546523478', 'Doe', 'John', 59),\n",
    "        ('631231482', 'Smith', 'David', 77),\n",
    "        ('654873219', 'Efron', 'Zacary', 59),\n",
    "        ('745685214', 'Goldsmith', 'Eric', 59),\n",
    "        ('845657245', 'Doe', 'Elizabeth', 14),\n",
    "        ('845657246', 'Swamy', 'Kumar', 14)\n",
    "    ;\n",
    "\"\"\")\n",
    "\n",
    "for query in queries:\n",
    "    exe(db, query)"
   ]
  },
  {
   "attachments": {},
   "cell_type": "markdown",
   "metadata": {},
   "source": [
    "---\n",
    "\n",
    "###  Partie 2 - réaliser une sélection de données :"
   ]
  },
  {
   "attachments": {},
   "cell_type": "markdown",
   "metadata": {},
   "source": [
    "#### 2.1/ Sélectionnez le nom de famille de tous les employés."
   ]
  },
  {
   "cell_type": "code",
   "execution_count": null,
   "metadata": {},
   "outputs": [],
   "source": [
    "db = connect_db('192.168.20.118', 'grogu', 'grogu', database = \"atelier2\")\n",
    "\n",
    "query = \"\"\"\n",
    "    SELECT Name\n",
    "    FROM Employees\n",
    "\"\"\"\n",
    "\n",
    "responses = exe(db, query, verbose = True)\n",
    "\n",
    "print(f\"Noms des employees : {[response[0] for response in responses]}\")"
   ]
  },
  {
   "attachments": {},
   "cell_type": "markdown",
   "metadata": {},
   "source": [
    "#### 2.2/ Sélectionnez le nom de famille de tous les employés, sans doublons. (utiliser DISTINCT)"
   ]
  },
  {
   "cell_type": "code",
   "execution_count": null,
   "metadata": {},
   "outputs": [],
   "source": [
    "db = connect_db('192.168.20.118', 'grogu', 'grogu', database = \"atelier2\")\n",
    "\n",
    "query = \"\"\"\n",
    "    SELECT DISTINCT(Name) \n",
    "    FROM Employees\n",
    "\"\"\"\n",
    "\n",
    "responses = exe(db, query, verbose = True)\n",
    "\n",
    "print(f\"Noms des employees : {[response[0] for response in responses]}\")"
   ]
  },
  {
   "attachments": {},
   "cell_type": "markdown",
   "metadata": {},
   "source": [
    "#### 2.3/ Sélectionnez toutes les données des employés dont le nom de famille est \"Smith\"."
   ]
  },
  {
   "cell_type": "code",
   "execution_count": null,
   "metadata": {},
   "outputs": [],
   "source": [
    "db = connect_db('192.168.20.118', 'grogu', 'grogu', database = \"atelier2\")\n",
    "\n",
    "query = \"\"\"\n",
    "    SELECT * \n",
    "    FROM Employees\n",
    "    WHERE Name = 'Smith';\n",
    "\"\"\"\n",
    "\n",
    "responses = exe(db, query, verbose = True)\n",
    "\n",
    "for response in responses:\n",
    "    print(f\"{response}\\n\")"
   ]
  },
  {
   "attachments": {},
   "cell_type": "markdown",
   "metadata": {},
   "source": [
    "#### 2.4/ Sélectionnez toutes les données des employés dont le nom de famille est \"Smith\" ou \"Doe\".(utiliser la logique dans la requête : https://sql.sh/cours/where/and-or"
   ]
  },
  {
   "cell_type": "code",
   "execution_count": null,
   "metadata": {},
   "outputs": [],
   "source": [
    "db = connect_db('192.168.20.118', 'grogu', 'grogu', database = \"atelier2\")\n",
    "\n",
    "query = \"\"\"\n",
    "    SELECT * \n",
    "    FROM Employees\n",
    "    WHERE Name = 'Smith' OR Name = 'Doe';\n",
    "\"\"\"\n",
    "\n",
    "responses = exe(db, query, verbose = True)\n",
    "\n",
    "for response in responses:\n",
    "    print(f\"{response}\\n\")"
   ]
  },
  {
   "attachments": {},
   "cell_type": "markdown",
   "metadata": {},
   "source": [
    "#### 2.5/ Sélectionnez toutes les données des employés qui travaillent dans le département 14."
   ]
  },
  {
   "cell_type": "code",
   "execution_count": null,
   "metadata": {},
   "outputs": [],
   "source": [
    "db = connect_db('192.168.20.118', 'grogu', 'grogu', database = \"atelier2\")\n",
    "\n",
    "query = \"\"\"\n",
    "    SELECT * \n",
    "    FROM Employees\n",
    "    WHERE Department = 14;\n",
    "\"\"\"\n",
    "\n",
    "responses = exe(db, query, verbose = True)\n",
    "\n",
    "for response in responses:\n",
    "    print(f\"{response}\\n\")"
   ]
  },
  {
   "attachments": {},
   "cell_type": "markdown",
   "metadata": {},
   "source": [
    "#### 2.6/ Sélectionner toutes les données des employés qui travaillent dans le département 37 ou le département 77."
   ]
  },
  {
   "cell_type": "code",
   "execution_count": null,
   "metadata": {},
   "outputs": [],
   "source": [
    "db = connect_db('192.168.20.118', 'grogu', 'grogu', database = \"atelier2\")\n",
    "\n",
    "query = \"\"\"\n",
    "    SELECT * \n",
    "    FROM Employees\n",
    "    WHERE Department = 37 OR Department = 77;\n",
    "\"\"\"\n",
    "\n",
    "responses = exe(db, query, verbose = True)\n",
    "\n",
    "for response in responses:\n",
    "    print(f\"{response}\\n\")"
   ]
  },
  {
   "attachments": {},
   "cell_type": "markdown",
   "metadata": {},
   "source": [
    "#### 2.7/ Sélectionner toutes les données des employés dont le nom de famille commence par un \"S\". Indice :\n",
    "\n",
    "Utiliser LEFT : https://sql.sh/fonctions/left </br>\n",
    "Utiliser SUBSTRING : https://sql.sh/fonctions/substring\n"
   ]
  },
  {
   "cell_type": "code",
   "execution_count": null,
   "metadata": {},
   "outputs": [],
   "source": [
    "db = connect_db('192.168.20.118', 'grogu', 'grogu', database = \"atelier2\")\n",
    "\n",
    "query = \"\"\"\n",
    "    SELECT * \n",
    "    FROM Employees\n",
    "    WHERE LEFT(Name, 1) = 'S';\n",
    "\"\"\"\n",
    "\n",
    "responses = exe(db, query, verbose = True)\n",
    "\n",
    "for response in responses:\n",
    "    print(f\"{response}\\n\")"
   ]
  },
  {
   "attachments": {},
   "cell_type": "markdown",
   "metadata": {},
   "source": [
    "#### 2.8/ Sélectionner la somme des budgets de tous les départements. (Utiliser SUM)"
   ]
  },
  {
   "cell_type": "code",
   "execution_count": null,
   "metadata": {},
   "outputs": [],
   "source": [
    "db = connect_db('192.168.20.118', 'grogu', 'grogu', database = \"atelier2\")\n",
    "\n",
    "query = \"\"\"\n",
    "    SELECT SUM(Budget)\n",
    "    FROM Departments;\n",
    "\"\"\"\n",
    "\n",
    "responses = exe(db, query, verbose = True)\n",
    "\n",
    "print(f\"Somme des budgets de tous les départements : {responses[0][0]:,}$\")"
   ]
  },
  {
   "attachments": {},
   "cell_type": "markdown",
   "metadata": {},
   "source": [
    "#### 2.9/ Sélectionnez le nombre d'employés dans chaque département (vous devez seulement indiquer le code du département et le nombre d'employés). (utiliser GROUP BY)"
   ]
  },
  {
   "cell_type": "code",
   "execution_count": null,
   "metadata": {},
   "outputs": [],
   "source": [
    "db = connect_db('192.168.20.118', 'grogu', 'grogu', database = \"atelier2\")\n",
    "\n",
    "query = \"\"\"\n",
    "    SELECT Department, COUNT(Name)\n",
    "    FROM Employees\n",
    "    GROUP BY Department;\n",
    "\"\"\"\n",
    "\n",
    "responses = exe(db, query, verbose = True)\n",
    "\n",
    "for response in responses:\n",
    "    print(f\"Nombre d'employées dans le departement N°{response[0]} : {response[1]}\")"
   ]
  },
  {
   "attachments": {},
   "cell_type": "markdown",
   "metadata": {},
   "source": [
    "---\n",
    "\n",
    "### Partie 3 - Utiliser les jointures :"
   ]
  },
  {
   "attachments": {},
   "cell_type": "markdown",
   "metadata": {},
   "source": [
    "#### 3.1/ Sélectionnez toutes les données des employés, y compris les données du département de chaque employé. Utiliser INNER JOIN."
   ]
  },
  {
   "cell_type": "code",
   "execution_count": null,
   "metadata": {},
   "outputs": [],
   "source": [
    "db = connect_db('192.168.20.118', 'grogu', 'grogu', database = 'atelier2')\n",
    "\n",
    "query = \"\"\"\n",
    "    SELECT *\n",
    "    FROM Employees\n",
    "    INNER JOIN Departments ON Employees.Department = Departments.Code;\n",
    "\"\"\"\n",
    "\n",
    "responses = exe(db, query, verbose = True)\n",
    "\n",
    "for response in responses:\n",
    "    print(f\"{response}\\n\")"
   ]
  },
  {
   "attachments": {},
   "cell_type": "markdown",
   "metadata": {},
   "source": [
    "#### 3.2/ Sélectionnez le nom et le prénom de chaque employé, ainsi que le nom et le budget du département de l'employé. Utiliser INNER JOIN"
   ]
  },
  {
   "cell_type": "code",
   "execution_count": null,
   "metadata": {},
   "outputs": [],
   "source": [
    "db = connect_db('192.168.20.118', 'grogu', 'grogu', database = 'atelier2')\n",
    "\n",
    "query = \"\"\"\n",
    "    SELECT Employees.Name, LastName, Departments.Name, Budget\n",
    "    FROM Employees\n",
    "    INNER JOIN Departments ON Employees.Department = Departments.Code;\n",
    "\"\"\"\n",
    "\n",
    "responses = exe(db, query, verbose = True)\n",
    "\n",
    "for response in responses:\n",
    "    print(f\"{response}\\n\")"
   ]
  },
  {
   "attachments": {},
   "cell_type": "markdown",
   "metadata": {},
   "source": [
    "#### 3.3/ Sélectionnez le nom et le nom de famille des employés travaillant pour des ministères dont le budget est supérieur à 60 000 dollars. Utiliser INNER JOIN"
   ]
  },
  {
   "cell_type": "code",
   "execution_count": null,
   "metadata": {},
   "outputs": [],
   "source": [
    "db = connect_db('192.168.20.118', 'grogu', 'grogu', database = 'atelier2')\n",
    "\n",
    "query = \"\"\"\n",
    "    SELECT Employees.Name, LastName, Budget\n",
    "    FROM Employees\n",
    "    INNER JOIN Departments ON Employees.Department = Departments.Code\n",
    "    HAVING Budget > 60000;\n",
    "\"\"\"\n",
    "\n",
    "responses = exe(db, query, verbose = True)\n",
    "\n",
    "for response in responses:\n",
    "    print(f\"{response}\\n\")"
   ]
  },
  {
   "attachments": {},
   "cell_type": "markdown",
   "metadata": {},
   "source": [
    "#### 3.4/ Sélectionnez les noms des départements ayant plus de deux employés. (Utiliser HAVING)"
   ]
  },
  {
   "cell_type": "code",
   "execution_count": null,
   "metadata": {},
   "outputs": [],
   "source": [
    "db = connect_db('192.168.20.118', 'grogu', 'grogu', database = 'atelier2')\n",
    "\n",
    "query = \"\"\"\n",
    "    SELECT Departments.Name\n",
    "    FROM Departments\n",
    "    INNER JOIN Employees ON Departments.Code = Employees.Department\n",
    "    GROUP BY Departments.Name\n",
    "    HAVING COUNT(Employees.Department) > 2;\n",
    "\"\"\"\n",
    "\n",
    "responses = exe(db, query, verbose = True)\n",
    "\n",
    "for response in responses:\n",
    "    print(f\"{response[0]}\\n\")"
   ]
  },
  {
   "attachments": {},
   "cell_type": "markdown",
   "metadata": {},
   "source": [
    "----\n",
    "\n",
    "###  Partie 4 - réaliser des insertions/mis à jour dans les tables :"
   ]
  },
  {
   "attachments": {},
   "cell_type": "markdown",
   "metadata": {},
   "source": [
    "#### 4.1/ Ajoutez un nouveau service appelé \"Quality assurance\", avec un budget de 40 000 dollars et le code de service 11."
   ]
  },
  {
   "cell_type": "code",
   "execution_count": null,
   "metadata": {},
   "outputs": [],
   "source": [
    "db = connect_db('192.168.20.118', 'grogu', 'grogu', database = 'atelier2')\n",
    "\n",
    "query = \"\"\"\n",
    "    INSERT INTO Departments VALUES (11, 'Quality assurance', 40000);\n",
    "\"\"\"\n",
    "\n",
    "responses = exe(db, query)"
   ]
  },
  {
   "attachments": {},
   "cell_type": "markdown",
   "metadata": {},
   "source": [
    "#### 4.2/ Ajoutez un employé appelé \"Mary Moore\" dans ce département, avec le code  SSN 847-21-9811."
   ]
  },
  {
   "cell_type": "code",
   "execution_count": null,
   "metadata": {},
   "outputs": [],
   "source": [
    "db = connect_db('192.168.20.118', 'grogu', 'grogu', database = 'atelier2')\n",
    "\n",
    "query = \"\"\"\n",
    "    INSERT INTO Employees VALUES (847219811, 'Moore', 'Mary', 11);\n",
    "\"\"\"\n",
    "\n",
    "responses = exe(db, query)"
   ]
  },
  {
   "attachments": {},
   "cell_type": "markdown",
   "metadata": {},
   "source": [
    "#### 4.3/ Réduire le budget de tous les départements de 10 pourcent."
   ]
  },
  {
   "cell_type": "code",
   "execution_count": null,
   "metadata": {},
   "outputs": [],
   "source": [
    "db = connect_db('192.168.20.118', 'grogu', 'grogu', database = 'atelier2')\n",
    "\n",
    "query = \"\"\"\n",
    "    UPDATE Departments SET Budget = Budget * 0.9;\n",
    "\"\"\"\n",
    "\n",
    "responses = exe(db, query)"
   ]
  },
  {
   "attachments": {},
   "cell_type": "markdown",
   "metadata": {},
   "source": [
    "#### 4.4/ Réaffecter tous les employés du département de la recherche (code 77) au département informatique (code 14)."
   ]
  },
  {
   "cell_type": "code",
   "execution_count": null,
   "metadata": {},
   "outputs": [],
   "source": [
    "db = connect_db('192.168.20.118', 'grogu', 'grogu', database = 'atelier2')\n",
    "\n",
    "query = \"\"\"\n",
    "    UPDATE Employees\n",
    "    SET Department = 14\n",
    "    WHERE  Department = 77;\n",
    "\"\"\"\n",
    "\n",
    "responses = exe(db, query)"
   ]
  },
  {
   "attachments": {},
   "cell_type": "markdown",
   "metadata": {},
   "source": [
    "#### 4.5/ Supprimer du tableau tous les employés du département informatique (code 14)."
   ]
  },
  {
   "cell_type": "code",
   "execution_count": null,
   "metadata": {},
   "outputs": [],
   "source": [
    "db = connect_db('192.168.20.118', 'grogu', 'grogu', database = 'atelier2')\n",
    "\n",
    "query = \"\"\"\n",
    "    DELETE FROM Employees\n",
    "    WHERE  Department = 14;\n",
    "\"\"\"\n",
    "\n",
    "responses = exe(db, query)"
   ]
  },
  {
   "attachments": {},
   "cell_type": "markdown",
   "metadata": {},
   "source": [
    "#### 4.6/ Supprimer du tableau tous les employés qui travaillent dans des départements dont le budget est supérieur ou égal à 60 000 dollars. Utiliser INNER JOIN"
   ]
  },
  {
   "cell_type": "code",
   "execution_count": null,
   "metadata": {},
   "outputs": [],
   "source": [
    "db = connect_db('192.168.20.118', 'grogu', 'grogu', database = 'atelier2')\n",
    "\n",
    "query = \"\"\"\n",
    "    DELETE Employees\n",
    "    FROM Employees\n",
    "    INNER JOIN Departments ON Departments.Code = Employees.Department\n",
    "    WHERE Departments.Budget >= 60000;\n",
    "\"\"\"\n",
    "\n",
    "responses = exe(db, query)"
   ]
  },
  {
   "attachments": {},
   "cell_type": "markdown",
   "metadata": {},
   "source": [
    "#### 4.7/ Supprimer du tableau tous les employés."
   ]
  },
  {
   "cell_type": "code",
   "execution_count": null,
   "metadata": {},
   "outputs": [],
   "source": [
    "db = connect_db('192.168.20.118', 'grogu', 'grogu', database = 'atelier2')\n",
    "\n",
    "query = \"\"\"\n",
    "    DELETE FROM Employees\n",
    "\"\"\"\n",
    "\n",
    "responses = exe(db, query)"
   ]
  },
  {
   "attachments": {},
   "cell_type": "markdown",
   "metadata": {},
   "source": [
    "---\n",
    "\n",
    "###  Partie 5 - BONUS :"
   ]
  },
  {
   "attachments": {},
   "cell_type": "markdown",
   "metadata": {},
   "source": [
    "#### 5.1/ Sélectionnez les départements dont le budget est supérieur au budget moyen de l'ensemble des départements. (Se référer au bonus de l'atelier 1)."
   ]
  },
  {
   "cell_type": "code",
   "execution_count": null,
   "metadata": {},
   "outputs": [],
   "source": [
    "db = connect_db('192.168.20.118', 'grogu', 'grogu', database = 'atelier2')\n",
    "\n",
    "query = \"\"\"\n",
    "    SELECT Name \n",
    "    FROM Departments \n",
    "    WHERE Budget > (SELECT AVG(Budget) FROM Departments);\n",
    "\"\"\"\n",
    "\n",
    "responses = exe(db, query, verbose= True)\n",
    "\n",
    "for response in responses:\n",
    "    print(f\"{response[0]}\\n\")"
   ]
  },
  {
   "attachments": {},
   "cell_type": "markdown",
   "metadata": {},
   "source": [
    "#### 5.2/ Très important - Sélectionnez le nom et le nom de famille des employés travaillant pour les ministères dont le budget est le deuxième plus bas. (Utiliser les requêtes imbriquées ou HAVING)"
   ]
  },
  {
   "cell_type": "code",
   "execution_count": null,
   "metadata": {},
   "outputs": [],
   "source": [
    "# Rajout des employées précédemment supprimés \n",
    "\n",
    "db = connect_db('192.168.20.118', 'grogu', 'grogu', database = 'atelier2')\n",
    "\n",
    "queries = [\"\"\"\n",
    "    INSERT INTO Employees (SSN,Name,LastName,Department) \n",
    "    VALUES  \n",
    "        ('123234877', 'Rogers', 'Michael', 14),\n",
    "        ('152934485', 'Manikutty', 'Anand', 14),\n",
    "        ('222364883', 'Carol', 'Smith', 37),\n",
    "        ('326587417', 'Stevens', 'Joe', 37),\n",
    "        ('332154719','Foster', 'Mary-Anne', 14),\n",
    "        ('332569843', 'ODonnell', 'George', 77),\n",
    "        ('546523478', 'Doe', 'John', 59),\n",
    "        ('631231482', 'Smith', 'David', 77),\n",
    "        ('654873219', 'Efron', 'Zacary', 59),\n",
    "        ('745685214', 'Goldsmith', 'Eric', 59),\n",
    "        ('845657245', 'Doe', 'Elizabeth', 14),\n",
    "        ('845657246', 'Swamy', 'Kumar', 14)\n",
    "    ;\n",
    "\"\"\"]\n",
    "\n",
    "queries.append(\"\"\"\n",
    "    INSERT INTO Employees VALUES (847219811, 'Moore', 'Mary', 11);\n",
    "\"\"\")\n",
    "\n",
    "for query in queries:\n",
    "    exe(db, query)"
   ]
  },
  {
   "cell_type": "code",
   "execution_count": null,
   "metadata": {},
   "outputs": [],
   "source": [
    "db = connect_db('192.168.20.118', 'grogu', 'grogu', database = 'atelier2')\n",
    "\n",
    "query = \"\"\"\n",
    "    SELECT Employees.Name, LastName\n",
    "    FROM Employees\n",
    "    INNER JOIN Departments ON Departments.Code = Employees.Department\n",
    "    WHERE Budget = (\n",
    "        SELECT MIN(Budget) From Departments WHERE Budget > (SELECT MIN(Budget) From Departments)\n",
    "    );\n",
    "\"\"\"\n",
    "\n",
    "responses = exe(db, query, verbose= True)\n",
    "\n",
    "for response in responses:\n",
    "    print(f\"{response}\\n\")"
   ]
  }
 ],
 "metadata": {
  "kernelspec": {
   "display_name": "base",
   "language": "python",
   "name": "python3"
  },
  "language_info": {
   "codemirror_mode": {
    "name": "ipython",
    "version": 3
   },
   "file_extension": ".py",
   "mimetype": "text/x-python",
   "name": "python",
   "nbconvert_exporter": "python",
   "pygments_lexer": "ipython3",
   "version": "3.9.15"
  },
  "orig_nbformat": 4,
  "vscode": {
   "interpreter": {
    "hash": "45bb1cb4637e4034484920e5cfb24c9afd84b0847d6c36e39edd3067d3a05462"
   }
  }
 },
 "nbformat": 4,
 "nbformat_minor": 2
}
