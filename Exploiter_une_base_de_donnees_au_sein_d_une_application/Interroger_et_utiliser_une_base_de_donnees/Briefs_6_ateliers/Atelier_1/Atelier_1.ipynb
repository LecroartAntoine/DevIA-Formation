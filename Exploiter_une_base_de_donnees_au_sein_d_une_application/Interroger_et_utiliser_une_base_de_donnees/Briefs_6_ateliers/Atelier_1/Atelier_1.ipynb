{
 "cells": [
  {
   "attachments": {},
   "cell_type": "markdown",
   "metadata": {},
   "source": [
    "# Atelier 1 \n",
    "\n",
    "---\n",
    "\n",
    "Rappel: une étape primordiale consiste à créer les fonctions \"Connexion\" et \"Execution\" qui permettent de se connecter à la base et executer des requêtes, respectivement. \n",
    "Nous allons appliquer ces fonctions pour répondre aux différentes questions de ce brief! \n",
    "\n",
    "---\n",
    "\n",
    "## Instructions\n",
    "A partir du schéma, vous devez réaliser les étapes suivantes en utilisant les requêtes SQL.\n",
    "Vous utiliserez le lien suivant pour trouver les fonctions à utiliser dans vos requêtes SQL : https://sql.sh/cours\n",
    "\n",
    "![1_schema_figure.png](1_schema_figure.png)"
   ]
  },
  {
   "attachments": {},
   "cell_type": "markdown",
   "metadata": {},
   "source": [
    "---\n",
    "\n",
    "### Partie 0 - Imports et fonctions"
   ]
  },
  {
   "cell_type": "code",
   "execution_count": null,
   "metadata": {},
   "outputs": [],
   "source": [
    "import sqlite3 as sq\n",
    "import mysql.connector as cnt\n",
    "\n",
    "def connect_db(host, user, pswd, database = None):\n",
    "    db = cnt.connect(\n",
    "        host = host,\n",
    "        user = user,\n",
    "        passwd = pswd,\n",
    "        database = database\n",
    "    )\n",
    "    return(db)\n",
    "\n",
    "def exe(db, request, value = None, verbose = False, name = False):\n",
    "    cursor = db.cursor(buffered = True)\n",
    "    \n",
    "    if value:\n",
    "        cursor.execute(request, value)\n",
    "\n",
    "    else :\n",
    "        cursor.execute(request)\n",
    "\n",
    "    db.commit()\n",
    "    \n",
    "    if verbose:\n",
    "        result = cursor.fetchall()\n",
    "        if name:\n",
    "            result.insert(0, cursor.column_names)\n",
    "        return(result)"
   ]
  },
  {
   "attachments": {},
   "cell_type": "markdown",
   "metadata": {},
   "source": [
    "---\n",
    "\n",
    "### Partie 1 - création de la base et des tables :"
   ]
  },
  {
   "attachments": {},
   "cell_type": "markdown",
   "metadata": {},
   "source": [
    "#### 1.1/ Créer la base donnée sous nom \"boutique\"."
   ]
  },
  {
   "cell_type": "code",
   "execution_count": null,
   "metadata": {},
   "outputs": [],
   "source": [
    "db = connect_db('192.168.20.118', 'grogu', 'grogu')\n",
    "\n",
    "query = 'CREATE DATABASE IF NOT EXISTS boutique'\n",
    "\n",
    "exe(db, query)"
   ]
  },
  {
   "attachments": {},
   "cell_type": "markdown",
   "metadata": {},
   "source": [
    "#### 1.2/  Créer les tables (Manufacturers, Products). \n",
    "Sur le schéma, (PK) signifie \"Primary Key\" ou clé primaire et (FK) signifie \"Foreign key\" ou clé étrangère."
   ]
  },
  {
   "cell_type": "code",
   "execution_count": null,
   "metadata": {},
   "outputs": [],
   "source": [
    "db = connect_db('192.168.20.118', 'grogu', 'grogu', database = 'boutique')\n",
    "\n",
    "queries = [\"\"\"\n",
    "    CREATE TABLE IF NOT EXISTS boutique.Manufacturers(\n",
    "        Code INT NOT NULL AUTO_INCREMENT,\n",
    "        Name TEXT NOT NULL,\n",
    "        PRIMARY KEY (Code)\n",
    "    )ENGINE = InnoDB;\n",
    "\"\"\"]\n",
    "\n",
    "queries.append(\"\"\"\n",
    "    CREATE TABLE IF NOT EXISTS boutique.Products(\n",
    "        Code INT NOT NULL AUTO_INCREMENT,\n",
    "        Name TEXT NOT NULL,\n",
    "        Price REAL NOT NULL,\n",
    "        Manufacturer INT,\n",
    "        PRIMARY KEY (Code)\n",
    "    )ENGINE = InnoDB;\n",
    "\"\"\")\n",
    "\n",
    "queries.append(\"\"\"\n",
    "ALTER TABLE Products \n",
    "ADD FOREIGN KEY (Manufacturer) REFERENCES Manufacturers (Code);\n",
    "\"\"\")\n",
    "\n",
    "for query in queries:\n",
    "    exe(db, query)"
   ]
  },
  {
   "attachments": {},
   "cell_type": "markdown",
   "metadata": {},
   "source": [
    "#### 1.3/ Insérer dans la table Manufacturers les valeurs :\n",
    "\n",
    "(Code, Name)(1,Sony)(2,Creative Labs)(3,Hewlett-Packard)(4,Iomega)(5,Fujitsu)(6,Winchester)"
   ]
  },
  {
   "cell_type": "code",
   "execution_count": null,
   "metadata": {},
   "outputs": [],
   "source": [
    "db = connect_db('192.168.20.118', 'grogu', 'grogu', database = 'boutique')\n",
    "\n",
    "query = \"\"\"\n",
    "    INSERT INTO Manufacturers VALUES \n",
    "        (1, 'Sony'), \n",
    "        (2, 'Creative Labs'), \n",
    "        (3, 'Hewlett-Packard'), \n",
    "        (4, 'Iomega'), \n",
    "        (5, 'Fujitsu'), \n",
    "        (6, 'Winchester');\n",
    "\"\"\"\n",
    "\n",
    "exe(db, query)"
   ]
  },
  {
   "attachments": {},
   "cell_type": "markdown",
   "metadata": {},
   "source": [
    "#### 1.4/ Insérer dans la table Products : \n",
    "(Code,Name,Price,Manufacturer) (1,Hard drive,240,5) (2,Memory,120,6) (3,ZIP drive,150,4) (4,Floppy disk,5,6) (5,Monitor,240,1) (6,DVD drive,180,2) VALUES(7,CD drive,90,2) VALUES(8,Printer,270,3) (9,Toner cartridge,66,3) (10,DVD burner,180,2)."
   ]
  },
  {
   "cell_type": "code",
   "execution_count": null,
   "metadata": {},
   "outputs": [],
   "source": [
    "db = connect_db('192.168.20.118', 'grogu', 'grogu', database = 'boutique')\n",
    "\n",
    "query = \"\"\"\n",
    "    INSERT INTO Products VALUES \n",
    "        (1, 'Hard drive', 240, 5),\n",
    "        (2, 'Memory', 120, 6), \n",
    "        (3, 'ZIP drive', 150, 4), \n",
    "        (4, 'Floppy disk', 5, 6), \n",
    "        (5, 'Monitor', 240, 1), \n",
    "        (6, 'DVD drive', 180, 2), \n",
    "        (7, 'CD drive', 90, 2), \n",
    "        (8, 'Printer', 270, 3), \n",
    "        (9, 'Toner cartridge', 66, 3), \n",
    "        (10, 'DVD burner', 180, 2);\n",
    "\"\"\"\n",
    "\n",
    "exe(db, query)"
   ]
  },
  {
   "attachments": {},
   "cell_type": "markdown",
   "metadata": {},
   "source": [
    "---\n",
    "\n",
    "### Partie 2 - faire des requêtes de sélection :"
   ]
  },
  {
   "attachments": {},
   "cell_type": "markdown",
   "metadata": {},
   "source": [
    "#### 2.1/ Sélectionnez les noms de tous les produits du magasin."
   ]
  },
  {
   "cell_type": "code",
   "execution_count": null,
   "metadata": {},
   "outputs": [],
   "source": [
    "db = connect_db('192.168.20.118', 'grogu', 'grogu', database = 'boutique')\n",
    "\n",
    "query = \"\"\"\n",
    "    SELECT Name from Products;\n",
    "\"\"\"\n",
    "\n",
    "responses = exe(db, query, verbose = True)\n",
    "\n",
    "print(f\"Noms des produits du magasin : {[response[0] for response in responses]}\")"
   ]
  },
  {
   "attachments": {},
   "cell_type": "markdown",
   "metadata": {},
   "source": [
    "#### 2.2/ Sélectionner les noms et les prix de tous les produits du magasin."
   ]
  },
  {
   "cell_type": "code",
   "execution_count": null,
   "metadata": {},
   "outputs": [],
   "source": [
    "db = connect_db('192.168.20.118', 'grogu', 'grogu', database = 'boutique')\n",
    "\n",
    "query = \"\"\"\n",
    "    SELECT Name, Price from Products;\n",
    "\"\"\"\n",
    "\n",
    "responses = exe(db, query, verbose = True)\n",
    "\n",
    "print(f\"Noms et prix des produits du magasin : {[response for response in responses]}\")"
   ]
  },
  {
   "attachments": {},
   "cell_type": "markdown",
   "metadata": {},
   "source": [
    "#### 2.3/ Sélectionner le nom des produits dont le prix est inférieur ou égal à 200 dollars."
   ]
  },
  {
   "cell_type": "code",
   "execution_count": null,
   "metadata": {},
   "outputs": [],
   "source": [
    "db = connect_db('192.168.20.118', 'grogu', 'grogu', database = 'boutique')\n",
    "\n",
    "query = \"\"\"\n",
    "    SELECT Name from Products WHERE Price <= 200;\n",
    "\"\"\"\n",
    "\n",
    "responses = exe(db, query, verbose = True)\n",
    "\n",
    "print(f\"Noms des produits dont le prix est inférieur à 200$ : {[response[0] for response in responses]}\")"
   ]
  },
  {
   "attachments": {},
   "cell_type": "markdown",
   "metadata": {},
   "source": [
    "#### 2.4/ Sélectionnez tous les produits dont le prix est compris entre 60 et 120 dollars."
   ]
  },
  {
   "cell_type": "code",
   "execution_count": null,
   "metadata": {},
   "outputs": [],
   "source": [
    "db = connect_db('192.168.20.118', 'grogu', 'grogu', database = 'boutique')\n",
    "\n",
    "query = \"\"\"\n",
    "    SELECT Name from Products WHERE Price <= 120 AND Price >= 60;\n",
    "\"\"\"\n",
    "\n",
    "responses = exe(db, query, verbose = True)\n",
    "\n",
    "print(f\"Noms des produits dont le prix est compris entre 60$ et 120$ : {[response[0] for response in responses]}\")"
   ]
  },
  {
   "attachments": {},
   "cell_type": "markdown",
   "metadata": {},
   "source": [
    "#### 2.5/ Sélectionnez le nom et le prix en cents (c'est-à-dire que le prix doit être multiplié par 100)."
   ]
  },
  {
   "cell_type": "code",
   "execution_count": null,
   "metadata": {},
   "outputs": [],
   "source": [
    "db = connect_db('192.168.20.118', 'grogu', 'grogu', database = 'boutique')\n",
    "\n",
    "query = \"\"\"\n",
    "    SELECT Name, Price * 100 from Products;\n",
    "\"\"\"\n",
    "\n",
    "responses = exe(db, query, verbose = True)\n",
    "\n",
    "print(f\"Noms et prix en cent des produits du magasin : {[response for response in responses]}\")"
   ]
  },
  {
   "attachments": {},
   "cell_type": "markdown",
   "metadata": {},
   "source": [
    "#### 2.6/ Sélectionner le nom et le prix de tous les produits dont le prix est supérieur ou égal à 180 dollars, et trier d'abord par prix (par ordre décroissant), puis par nom (ordre croissant). "
   ]
  },
  {
   "cell_type": "code",
   "execution_count": null,
   "metadata": {},
   "outputs": [],
   "source": [
    "db = connect_db('192.168.20.118', 'grogu', 'grogu', database = 'boutique')\n",
    "\n",
    "query = \"\"\"\n",
    "    SELECT Name, Price from Products WHERE Price >= 180 ORDER BY Price DESC;\n",
    "\"\"\"\n",
    "\n",
    "responses = exe(db, query, verbose = True)\n",
    "\n",
    "print(f\"Noms et prix des produits dont le prix est supérieur à 180$ : {[response for response in responses]}\\n\")\n",
    "\n",
    "query = \"\"\"\n",
    "    SELECT Name, Price from Products WHERE Price >= 180 ORDER BY Name;\n",
    "\"\"\"\n",
    "\n",
    "responses = exe(db, query, verbose = True)\n",
    "\n",
    "print(f\"Noms et prix des produits dont le prix est supérieur à 180$ : {[response for response in responses]}\")"
   ]
  },
  {
   "attachments": {},
   "cell_type": "markdown",
   "metadata": {},
   "source": [
    "#### 2.7/ Sélectionnez le prix moyen des produits de chaque fabricant, en indiquant uniquement le code du fabricant. (Utiliser GROUP BY pour regrouper les constructeurs)"
   ]
  },
  {
   "cell_type": "code",
   "execution_count": null,
   "metadata": {},
   "outputs": [],
   "source": [
    "db = connect_db('192.168.20.118', 'grogu', 'grogu', database = 'boutique')\n",
    "\n",
    "query = \"\"\"\n",
    "    SELECT Manufacturer, AVG(Price) FROM Products GROUP BY Manufacturer;\n",
    "\"\"\"\n",
    "\n",
    "responses = exe(db, query, verbose = True)\n",
    "\n",
    "for response in responses:\n",
    "    print(f\"Prix moyen des produits du fabricant {response[0]} : {response[1]}\")"
   ]
  },
  {
   "attachments": {},
   "cell_type": "markdown",
   "metadata": {},
   "source": [
    "#### 2.8/ Sélectionnez le nom et le prix du produit le moins cher. (Utiliser la fonction MIN)."
   ]
  },
  {
   "cell_type": "code",
   "execution_count": null,
   "metadata": {},
   "outputs": [],
   "source": [
    "db = connect_db('192.168.20.118', 'grogu', 'grogu', database = 'boutique')\n",
    "\n",
    "query = \"\"\"\n",
    "    SELECT Name, MIN(Price) from Products;\n",
    "\"\"\"\n",
    "\n",
    "responses = exe(db, query, verbose = True)\n",
    "\n",
    "print(f\"Nom et prix du produit le moins cher : {[response for response in responses]}\")"
   ]
  },
  {
   "attachments": {},
   "cell_type": "markdown",
   "metadata": {},
   "source": [
    "---\n",
    "\n",
    "### Partie 3 - calculs statistiques sur les tables :"
   ]
  },
  {
   "attachments": {},
   "cell_type": "markdown",
   "metadata": {},
   "source": [
    "#### 3.1/ Calculer le prix moyen de tous les produits. (Utiliser la fonction Average AVG)"
   ]
  },
  {
   "cell_type": "code",
   "execution_count": null,
   "metadata": {},
   "outputs": [],
   "source": [
    "db = connect_db('192.168.20.118', 'grogu', 'grogu', database = 'boutique')\n",
    "\n",
    "query = \"\"\"\n",
    "    SELECT AVG(Price) from Products;\n",
    "\"\"\"\n",
    "\n",
    "responses = exe(db, query, verbose = True)\n",
    "\n",
    "print(f\"Prix moyen d'un produit : {responses[0][0]}\")"
   ]
  },
  {
   "attachments": {},
   "cell_type": "markdown",
   "metadata": {},
   "source": [
    "#### 3.2/ Calculer le prix moyen de tous les produits dont le code fabricant est égal à 2."
   ]
  },
  {
   "cell_type": "code",
   "execution_count": null,
   "metadata": {},
   "outputs": [],
   "source": [
    "db = connect_db('192.168.20.118', 'grogu', 'grogu', database = 'boutique')\n",
    "\n",
    "query = \"\"\"\n",
    "    SELECT AVG(Price) from Products WHERE Manufacturer = 2;\n",
    "\"\"\"\n",
    "\n",
    "responses = exe(db, query, verbose = True)\n",
    "\n",
    "print(f\"Prix moyen d'un produit du fabicant n°2: {responses[0][0]}\")"
   ]
  },
  {
   "attachments": {},
   "cell_type": "markdown",
   "metadata": {},
   "source": [
    "#### 3.3/ Calculer le nombre de produits dont le prix est supérieur ou égal à 180 dollars. (Utiliser la fonction COUNT)."
   ]
  },
  {
   "cell_type": "code",
   "execution_count": null,
   "metadata": {},
   "outputs": [],
   "source": [
    "db = connect_db('192.168.20.118', 'grogu', 'grogu', database = 'boutique')\n",
    "\n",
    "query = \"\"\"\n",
    "    SELECT COUNT(Price) from Products WHERE Price >= 180;\n",
    "\"\"\"\n",
    "\n",
    "responses = exe(db, query, verbose = True)\n",
    "\n",
    "print(f\"Nombre de produits dont le prix est supérieur à 180$ : {responses[0][0]}\\n\")"
   ]
  },
  {
   "attachments": {},
   "cell_type": "markdown",
   "metadata": {},
   "source": [
    "---\n",
    "\n",
    "### Partie 4 - jointures :\n",
    "\n",
    "Pour sélectionner des colonnes (champs) dans plusieurs tables en une seules requête, il faut utiliser les jointures. C'est à dire que l'on spécifie dans la requête les tables à utiliser et la condition pour que les lignes soient sélectionnées. On utiliser la clause JOIN de SQL."
   ]
  },
  {
   "attachments": {},
   "cell_type": "markdown",
   "metadata": {},
   "source": [
    "#### 4.1/ Lire le cours sur les jointures : https://sql.sh/cours/jointures "
   ]
  },
  {
   "attachments": {},
   "cell_type": "markdown",
   "metadata": {},
   "source": [
    "#### 4.2/ Sélectionnez toutes les données des produits, y compris toutes les données relatives au fabricant de chaque produit. (Utiliser INNER JOIN)"
   ]
  },
  {
   "cell_type": "code",
   "execution_count": null,
   "metadata": {},
   "outputs": [],
   "source": [
    "db = connect_db('192.168.20.118', 'grogu', 'grogu', database = 'boutique')\n",
    "\n",
    "query = \"\"\"\n",
    "    SELECT *\n",
    "    FROM Products\n",
    "    INNER JOIN Manufacturers ON Products.Manufacturer = Manufacturers.Code;\n",
    "\"\"\"\n",
    "\n",
    "responses = exe(db, query, verbose = True)\n",
    "\n",
    "for response in responses:\n",
    "    print(f\"{response}\\n\")"
   ]
  },
  {
   "attachments": {},
   "cell_type": "markdown",
   "metadata": {},
   "source": [
    "#### 4.3/ Sélectionnez le nom du produit, le prix et le nom du fabricant de tous les produits. (Utiliser INNER JOIN)."
   ]
  },
  {
   "cell_type": "code",
   "execution_count": null,
   "metadata": {},
   "outputs": [],
   "source": [
    "db = connect_db('192.168.20.118', 'grogu', 'grogu', database = 'boutique')\n",
    "\n",
    "query = \"\"\"\n",
    "    SELECT Products.Name, Price, Manufacturers.Name\n",
    "    FROM Products\n",
    "    INNER JOIN Manufacturers ON Products.Manufacturer = Manufacturers.Code;\n",
    "\"\"\"\n",
    "\n",
    "responses = exe(db, query, verbose = True)\n",
    "\n",
    "for response in responses:\n",
    "    print(f\"{response}\\n\")"
   ]
  },
  {
   "attachments": {},
   "cell_type": "markdown",
   "metadata": {},
   "source": [
    "#### 4.4/ Sélectionnez le nom de chaque fabricant ainsi que le nom et le prix de son produit le plus cher."
   ]
  },
  {
   "cell_type": "code",
   "execution_count": null,
   "metadata": {},
   "outputs": [],
   "source": [
    "db = connect_db('192.168.20.118', 'grogu', 'grogu', database = 'boutique')\n",
    "\n",
    "query = \"\"\"\n",
    "    SELECT Manufacturers.Name, Products.Name, MAX(Price)\n",
    "    FROM Products\n",
    "    INNER JOIN Manufacturers ON Products.Manufacturer = Manufacturers.Code\n",
    "    GROUP BY Manufacturer;\n",
    "\"\"\"\n",
    "\n",
    "responses = exe(db, query, verbose = True)\n",
    "\n",
    "for response in responses:\n",
    "    print(f\"{response}\\n\")"
   ]
  },
  {
   "attachments": {},
   "cell_type": "markdown",
   "metadata": {},
   "source": [
    "---\n",
    "\n",
    "### Partie 5 - ajout et mis à jour :"
   ]
  },
  {
   "attachments": {},
   "cell_type": "markdown",
   "metadata": {},
   "source": [
    "#### 5.1/ Ajouter un nouveau produit: (Loudspeakers, 70 dollar, manufacter 2)"
   ]
  },
  {
   "cell_type": "code",
   "execution_count": null,
   "metadata": {},
   "outputs": [],
   "source": [
    "db = connect_db('192.168.20.118', 'grogu', 'grogu', database = 'boutique')\n",
    "\n",
    "query = \"\"\"\n",
    "    INSERT INTO Products VALUES (NULL, 'Loudspeakers', 70, 2);\n",
    "\"\"\"\n",
    "\n",
    "responses = exe(db, query)"
   ]
  },
  {
   "attachments": {},
   "cell_type": "markdown",
   "metadata": {},
   "source": [
    "#### 5.2/ Mettre à jour le nom du produit 8 en \"laser Print\"."
   ]
  },
  {
   "cell_type": "code",
   "execution_count": null,
   "metadata": {},
   "outputs": [],
   "source": [
    "db = connect_db('192.168.20.118', 'grogu', 'grogu', database = 'boutique')\n",
    "\n",
    "query = \"\"\"\n",
    "    UPDATE Products SET Name = 'laser Print' WHERE Code = 8;\n",
    "\"\"\"\n",
    "\n",
    "responses = exe(db, query)"
   ]
  },
  {
   "attachments": {},
   "cell_type": "markdown",
   "metadata": {},
   "source": [
    "#### 5.3/ Appliquer une remise de 10 pourcent à tous les produits."
   ]
  },
  {
   "cell_type": "code",
   "execution_count": null,
   "metadata": {},
   "outputs": [],
   "source": [
    "db = connect_db('192.168.20.118', 'grogu', 'grogu', database = 'boutique')\n",
    "\n",
    "query = \"\"\"\n",
    "    UPDATE Products SET Price = Price * 0.9;\n",
    "\"\"\"\n",
    "\n",
    "responses = exe(db, query)"
   ]
  },
  {
   "attachments": {},
   "cell_type": "markdown",
   "metadata": {},
   "source": [
    "#### 5.4/ Appliquer une remise de 10 pourcent à tous les produits dont le prix est supérieur ou égal à 120 dollar."
   ]
  },
  {
   "cell_type": "code",
   "execution_count": null,
   "metadata": {},
   "outputs": [],
   "source": [
    "db = connect_db('192.168.20.118', 'grogu', 'grogu', database = 'boutique')\n",
    "\n",
    "query = \"\"\"\n",
    "    UPDATE Products SET Price = Price * 0.9 WHERE Price >= 120;\n",
    "\"\"\"\n",
    "\n",
    "responses = exe(db, query)"
   ]
  },
  {
   "attachments": {},
   "cell_type": "markdown",
   "metadata": {},
   "source": [
    "---\n",
    "\n",
    "### Partie 6 - BONUS :"
   ]
  },
  {
   "attachments": {},
   "cell_type": "markdown",
   "metadata": {},
   "source": [
    "#### 6.1/ Sélectionnez les noms des fabricants dont les produits ont un prix moyen supérieur ou égal à 150.\n",
    "\n",
    "Indice : il faut utiliser la requête de la question précédente. En effet, la requête de la question 16 donne en résultat une table avec deux colonnes. Le but est de faire sur cette table une nouvelle requête pour ne récupérer que les fabricants dont le prix moyen est >= à 150.\n",
    "\n",
    "Utiliser l'instruction HAVING (https://sql.sh/cours/having) qui permet d'appliquer une condition sur les résultats sélectionnés.</br>\n",
    "Utiliser la clause WITH : https://www.it-swarm-fr.com/fr/sql/exemple-de-clause-sql/1069300364/. </br>\n",
    "Cette clause permet de récupérer le résultat d'une requête en tant que table, puis de faire une nouvelle requête sur celle-ci.</br>\n",
    "Utiliser les requêtes imbriquées (https://sql.sh/cours/sous-requete)</br>"
   ]
  },
  {
   "cell_type": "code",
   "execution_count": null,
   "metadata": {},
   "outputs": [],
   "source": [
    "db = connect_db('192.168.20.118', 'grogu', 'grogu', database = 'boutique')\n",
    "query = \"\"\"\n",
    "    SELECT Manufacturers.Name, Products.Name, Price \n",
    "    FROM Products \n",
    "    INNER JOIN Manufacturers ON Products.Manufacturer = Manufacturers.Code \n",
    "    GROUP BY Manufacturer \n",
    "    HAVING (AVG(Products.Price) > 150);\n",
    "\"\"\"\n",
    "exe(db, query, verbose= True)\n",
    "\n",
    "for response in responses:\n",
    "    print(f\"{response}\\n\")\n"
   ]
  }
 ],
 "metadata": {
  "kernelspec": {
   "display_name": "base",
   "language": "python",
   "name": "python3"
  },
  "language_info": {
   "codemirror_mode": {
    "name": "ipython",
    "version": 3
   },
   "file_extension": ".py",
   "mimetype": "text/x-python",
   "name": "python",
   "nbconvert_exporter": "python",
   "pygments_lexer": "ipython3",
   "version": "3.9.16"
  },
  "orig_nbformat": 4,
  "vscode": {
   "interpreter": {
    "hash": "ad2bdc8ecc057115af97d19610ffacc2b4e99fae6737bb82f5d7fb13d2f2c186"
   }
  }
 },
 "nbformat": 4,
 "nbformat_minor": 2
}
