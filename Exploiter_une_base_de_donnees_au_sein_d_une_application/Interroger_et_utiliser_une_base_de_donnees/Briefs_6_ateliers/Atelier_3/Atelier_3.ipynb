{
 "cells": [
  {
   "attachments": {},
   "cell_type": "markdown",
   "metadata": {},
   "source": [
    "# Atelier 3 \n",
    "\n",
    "---\n",
    "\n",
    "## Instructions\n",
    "\n",
    "En se basant sur le fichier sql (ci-dessous) et la figure, vous devez réaliser les étapes suivantes en utilisant les requêtes SQL. </br>\n",
    "\n",
    "![3_schema_figure.png](3_schema_figure.png)\n",
    "\n",
    "Vous utiliserez le lien suivant pour trouver les fonctions à utiliser dans vos requêtes SQL : https://sql.sh/cours </br>\n",
    "En se basant sur le fichier sql shema et shema figure:"
   ]
  },
  {
   "attachments": {},
   "cell_type": "markdown",
   "metadata": {},
   "source": [
    "---\n",
    "\n",
    "### Partie 0 - Imports et fonctions"
   ]
  },
  {
   "cell_type": "code",
   "execution_count": null,
   "metadata": {},
   "outputs": [],
   "source": [
    "import sqlite3 as sq\n",
    "import mysql.connector as cnt\n",
    "\n",
    "def connect_db(host, user, pswd, database = None):\n",
    "    db = cnt.connect(\n",
    "        host = host,\n",
    "        user = user,\n",
    "        passwd = pswd,\n",
    "        database = database\n",
    "    )\n",
    "    return(db)\n",
    "\n",
    "def exe(db, request, value = None, verbose = False, name = False):\n",
    "    cursor = db.cursor(buffered = True)\n",
    "    \n",
    "    if value:\n",
    "        cursor.execute(request, value)\n",
    "\n",
    "    else :\n",
    "        cursor.execute(request)\n",
    "\n",
    "    db.commit()\n",
    "    \n",
    "    if verbose:\n",
    "        result = cursor.fetchall()\n",
    "        if name:\n",
    "            result.insert(0, cursor.column_names)\n",
    "        return(result)"
   ]
  },
  {
   "attachments": {},
   "cell_type": "markdown",
   "metadata": {},
   "source": [
    "---\n",
    "\n",
    "### Partie 1 - création de la base et des tables :"
   ]
  },
  {
   "attachments": {},
   "cell_type": "markdown",
   "metadata": {},
   "source": [
    "#### 1.1/ Créer une base données nommé Atelier3"
   ]
  },
  {
   "cell_type": "code",
   "execution_count": null,
   "metadata": {},
   "outputs": [],
   "source": [
    "db = connect_db('192.168.20.118', 'grogu', 'grogu')\n",
    "\n",
    "query = 'CREATE DATABASE IF NOT EXISTS atelier3'\n",
    "\n",
    "exe(db, query)"
   ]
  },
  {
   "attachments": {},
   "cell_type": "markdown",
   "metadata": {},
   "source": [
    "#### 1.2/ Imiter les requêtes dans le fichier sql shema pour créer les tables et importer les données\n",
    "\n",
    "```\n",
    "\n",
    "CREATE TABLE Warehouses (\n",
    "   Code INTEGER NOT NULL,\n",
    "   Location VARCHAR(255) NOT NULL ,\n",
    "   Capacity INTEGER NOT NULL,\n",
    "   PRIMARY KEY (Code)\n",
    " );\n",
    "CREATE TABLE Boxes (\n",
    "    Code CHAR(4) NOT NULL,\n",
    "    Contents VARCHAR(255) NOT NULL ,\n",
    "    Value REAL NOT NULL ,\n",
    "    Warehouse INTEGER NOT NULL,\n",
    "    PRIMARY KEY (Code),\n",
    "    FOREIGN KEY (Warehouse) REFERENCES Warehouses(Code)\n",
    " ) ENGINE=INNODB;\n",
    " \n",
    "INSERT INTO Warehouses(Code,Location,Capacity) VALUES(1,'Chicago',3);\n",
    "INSERT INTO Warehouses(Code,Location,Capacity) VALUES(2,'Chicago',4);\n",
    "INSERT INTO Warehouses(Code,Location,Capacity) VALUES(3,'New York',7);\n",
    "INSERT INTO Warehouses(Code,Location,Capacity) VALUES(4,'Los Angeles',2);\n",
    "INSERT INTO Warehouses(Code,Location,Capacity) VALUES(5,'San Francisco',8);\n",
    " \n",
    "INSERT INTO Boxes(Code,Contents,Value,Warehouse) VALUES('0MN7','Rocks',180,3);\n",
    "INSERT INTO Boxes(Code,Contents,Value,Warehouse) VALUES('4H8P','Rocks',250,1);\n",
    "INSERT INTO Boxes(Code,Contents,Value,Warehouse) VALUES('4RT3','Scissors',190,4);\n",
    "INSERT INTO Boxes(Code,Contents,Value,Warehouse) VALUES('7G3H','Rocks',200,1);\n",
    "INSERT INTO Boxes(Code,Contents,Value,Warehouse) VALUES('8JN6','Papers',75,1);\n",
    "INSERT INTO Boxes(Code,Contents,Value,Warehouse) VALUES('8Y6U','Papers',50,3);\n",
    "INSERT INTO Boxes(Code,Contents,Value,Warehouse) VALUES('9J6F','Papers',175,2);\n",
    "INSERT INTO Boxes(Code,Contents,Value,Warehouse) VALUES('LL08','Rocks',140,4);\n",
    "INSERT INTO Boxes(Code,Contents,Value,Warehouse) VALUES('P0H6','Scissors',125,1);\n",
    "INSERT INTO Boxes(Code,Contents,Value,Warehouse) VALUES('P2T6','Scissors',150,2);\n",
    "INSERT INTO Boxes(Code,Contents,Value,Warehouse) VALUES('TU55','Papers',90,5);\n",
    "\n",
    "```"
   ]
  },
  {
   "cell_type": "code",
   "execution_count": null,
   "metadata": {},
   "outputs": [],
   "source": [
    "db = connect_db('192.168.20.118', 'grogu', 'grogu', database = 'atelier3')\n",
    "\n",
    "queries = [\"\"\"\n",
    "    CREATE TABLE IF NOT EXISTS Warehouses (\n",
    "        Code INTEGER NOT NULL,\n",
    "        Location VARCHAR(255) NOT NULL ,\n",
    "        Capacity INTEGER NOT NULL,\n",
    "        PRIMARY KEY (Code)\n",
    "    )ENGINE = InnoDB;\n",
    "\"\"\"]\n",
    "\n",
    "queries.append(\"\"\"\n",
    "    CREATE TABLE Boxes (\n",
    "        Code CHAR(4) NOT NULL,\n",
    "        Contents VARCHAR(255) NOT NULL ,\n",
    "        Value REAL NOT NULL ,\n",
    "        Warehouse INTEGER NOT NULL,\n",
    "        PRIMARY KEY (Code),\n",
    "        FOREIGN KEY (Warehouse) REFERENCES Warehouses(Code)\n",
    "    ) ENGINE=INNODB;\n",
    "\"\"\")\n",
    "\n",
    "queries.append(\"\"\"\n",
    "    INSERT INTO Warehouses VALUES \n",
    "        (1, 'Chicago', 3), \n",
    "        (2, 'Chicago', 4), \n",
    "        (3, 'New York', 7), \n",
    "        (4, 'Los Angeles', 2), \n",
    "        (5, 'San Francisco', 8);\n",
    "\"\"\")\n",
    "\n",
    "queries.append(\"\"\"\n",
    "INSERT INTO Boxes VALUES \n",
    "    ('0MN7', 'Rocks', 180, 3), \n",
    "    ('4H8P', 'Rocks', 250, 1), \n",
    "    ('4RT3', 'Scissors', 190, 4), \n",
    "    ('7G3H', 'Rocks', 200, 1), \n",
    "    ('8JN6', 'Papers', 75, 1), \n",
    "    ('8Y6U', 'Papers', 50, 3),\n",
    "    ('9J6F', 'Papers', 175, 2),\n",
    "    ('LL08', 'Rocks', 140, 4),\n",
    "    ('P0H6', 'Scissors', 125, 1),\n",
    "    ('P2T6', 'Scissors', 150, 2),\n",
    "    ('TU55', 'Papers', 90, 5);\n",
    "\"\"\")\n",
    "\n",
    "for query in queries:\n",
    "    exe(db, query)"
   ]
  },
  {
   "attachments": {},
   "cell_type": "markdown",
   "metadata": {},
   "source": [
    "---\n",
    "\n",
    "### Partie 2 - réaliser une sélection de données :"
   ]
  },
  {
   "attachments": {},
   "cell_type": "markdown",
   "metadata": {},
   "source": [
    "#### 2.1/ Sélectionner tous les entrepôts."
   ]
  },
  {
   "cell_type": "code",
   "execution_count": null,
   "metadata": {},
   "outputs": [],
   "source": [
    "db = connect_db('192.168.20.118', 'grogu', 'grogu', database = \"atelier3\")\n",
    "\n",
    "query = \"\"\"\n",
    "    SELECT *\n",
    "    FROM Warehouses;\n",
    "\"\"\"\n",
    "\n",
    "responses = exe(db, query, verbose = True)\n",
    "\n",
    "for response in responses:\n",
    "    print(f\"{response}\")"
   ]
  },
  {
   "attachments": {},
   "cell_type": "markdown",
   "metadata": {},
   "source": [
    "#### 2.2/ Sélectionnez toutes les cases dont la valeur est supérieure à 150 dollars."
   ]
  },
  {
   "cell_type": "code",
   "execution_count": null,
   "metadata": {},
   "outputs": [],
   "source": [
    "db = connect_db('192.168.20.118', 'grogu', 'grogu', database = \"atelier3\")\n",
    "\n",
    "query = \"\"\"\n",
    "    SELECT *\n",
    "    FROM Boxes\n",
    "    WHERE Value > 150;\n",
    "\"\"\"\n",
    "\n",
    "responses = exe(db, query, verbose = True)\n",
    "\n",
    "for response in responses:\n",
    "    print(f\"{response}\")"
   ]
  },
  {
   "attachments": {},
   "cell_type": "markdown",
   "metadata": {},
   "source": [
    "#### 2.3/ Sélectionner tous les contenus distincts dans toutes les cases."
   ]
  },
  {
   "cell_type": "code",
   "execution_count": null,
   "metadata": {},
   "outputs": [],
   "source": [
    "db = connect_db('192.168.20.118', 'grogu', 'grogu', database = \"atelier3\")\n",
    "\n",
    "query = \"\"\"\n",
    "    SELECT DISTINCT(Contents)\n",
    "    FROM Boxes;\n",
    "\"\"\"\n",
    "\n",
    "responses = exe(db, query, verbose = True)\n",
    "\n",
    "for response in responses:\n",
    "    print(f\"{response[0]}\")"
   ]
  },
  {
   "attachments": {},
   "cell_type": "markdown",
   "metadata": {},
   "source": [
    "#### 2.4/ Sélectionner la valeur moyenne de toutes les boîtes."
   ]
  },
  {
   "cell_type": "code",
   "execution_count": null,
   "metadata": {},
   "outputs": [],
   "source": [
    "db = connect_db('192.168.20.118', 'grogu', 'grogu', database = \"atelier3\")\n",
    "\n",
    "query = \"\"\"\n",
    "    SELECT ROUND(AVG(Value))\n",
    "    FROM Boxes;\n",
    "\"\"\"\n",
    "\n",
    "responses = exe(db, query, verbose = True)\n",
    "\n",
    "for response in responses:\n",
    "    print(f\"{response[0]}\")"
   ]
  },
  {
   "attachments": {},
   "cell_type": "markdown",
   "metadata": {},
   "source": [
    "#### 2.5/ Sélectionner le code de l'entrepôt et la valeur moyenne des boîtes dans chaque entrepôt (utiliser GROUP BY)."
   ]
  },
  {
   "cell_type": "code",
   "execution_count": null,
   "metadata": {},
   "outputs": [],
   "source": [
    "db = connect_db('192.168.20.118', 'grogu', 'grogu', database = \"atelier3\")\n",
    "\n",
    "query = \"\"\"\n",
    "    SELECT Warehouse, ROUND(AVG(Value))\n",
    "    FROM Boxes\n",
    "    GROUP BY Warehouse;\n",
    "\"\"\"\n",
    "\n",
    "responses = exe(db, query, verbose = True)\n",
    "\n",
    "for response in responses:\n",
    "    print(f\"Valeur moyenne dans l'entrepot N°{response[0]} : {response[1]}\")"
   ]
  },
  {
   "attachments": {},
   "cell_type": "markdown",
   "metadata": {},
   "source": [
    "#### 2.6/ Rajouter à la requête précédente uniquement la sélection des entrepôts où la valeur moyenne des boîtes est supérieure à 150. (Utiliser HAVING https://sql.sh/cours/having)"
   ]
  },
  {
   "cell_type": "code",
   "execution_count": null,
   "metadata": {},
   "outputs": [],
   "source": [
    "db = connect_db('192.168.20.118', 'grogu', 'grogu', database = \"atelier3\")\n",
    "\n",
    "query = \"\"\"\n",
    "    SELECT Warehouse, ROUND(AVG(Value))\n",
    "    FROM Boxes\n",
    "    GROUP BY Warehouse\n",
    "    HAVING AVG(Value) > 150;\n",
    "\"\"\"\n",
    "\n",
    "responses = exe(db, query, verbose = True)\n",
    "\n",
    "for response in responses:\n",
    "    print(f\"Valeur moyenne dans l'entrepot N°{response[0]} : {response[1]}\")"
   ]
  },
  {
   "attachments": {},
   "cell_type": "markdown",
   "metadata": {},
   "source": [
    "---\n",
    "\n",
    "### Partie 3 - utiliser les jointures :"
   ]
  },
  {
   "attachments": {},
   "cell_type": "markdown",
   "metadata": {},
   "source": [
    "#### 3.1/ Sélectionnez le code de chaque boîte, ainsi que le nom de la ville dans laquelle la boîte est située."
   ]
  },
  {
   "cell_type": "code",
   "execution_count": null,
   "metadata": {},
   "outputs": [],
   "source": [
    "db = connect_db('192.168.20.118', 'grogu', 'grogu', database = \"atelier3\")\n",
    "\n",
    "query = \"\"\"\n",
    "    SELECT Boxes.Code, Location\n",
    "    FROM Boxes\n",
    "    INNER JOIN Warehouses ON Warehouses.Code = Boxes.Warehouse\n",
    "\"\"\"\n",
    "\n",
    "responses = exe(db, query, verbose = True)\n",
    "\n",
    "for response in responses:\n",
    "    print(f\"{response}\")"
   ]
  },
  {
   "attachments": {},
   "cell_type": "markdown",
   "metadata": {},
   "source": [
    "#### 3.2/ Sélectionnez les codes des entrepôts, ainsi que le nombre de boîtes dans chaque entrepôt (Utiliser INNER JOINN et GROUP BY).\n",
    "-- Facultativement, tenez compte du fait que certains entrepôts sont vides (c'est-à-dire que le nombre de boîtes devrait apparaître comme zéro, au lieu d'omettre l'entrepôt du résultat)."
   ]
  },
  {
   "cell_type": "code",
   "execution_count": null,
   "metadata": {},
   "outputs": [],
   "source": [
    "db = connect_db('192.168.20.118', 'grogu', 'grogu', database = \"atelier3\")\n",
    "\n",
    "query = \"\"\"\n",
    "    SELECT Warehouses.Code, COUNT(Boxes.Code)\n",
    "    FROM Boxes\n",
    "    INNER JOIN Warehouses ON Warehouses.Code = Boxes.Warehouse\n",
    "    GROUP BY Warehouses.Code\n",
    "\"\"\"\n",
    "\n",
    "responses = exe(db, query, verbose = True)\n",
    "\n",
    "for response in responses:\n",
    "    print(f\"Nombre de boites dans l'entrepot N°{response[0]} : {response[1]}\")"
   ]
  },
  {
   "attachments": {},
   "cell_type": "markdown",
   "metadata": {},
   "source": [
    "#### 3.3/ Sélectionnez les codes de tous les entrepôts qui sont saturés (un entrepôt est saturé si le nombre de boîtes qu'il contient est supérieur à la capacité de l'entrepôt).\n",
    "Utiliser INNER JOIN, GROUP BY et HAVING."
   ]
  },
  {
   "cell_type": "code",
   "execution_count": null,
   "metadata": {},
   "outputs": [],
   "source": [
    "db = connect_db('192.168.20.118', 'grogu', 'grogu', database = \"atelier3\")\n",
    "\n",
    "query = \"\"\"\n",
    "    SELECT Warehouses.Code, COUNT(Boxes.Code), Capacity\n",
    "    FROM Boxes\n",
    "    INNER JOIN Warehouses ON Warehouses.Code = Boxes.Warehouse\n",
    "    GROUP BY Warehouses.Code\n",
    "    HAVING COUNT(Boxes.Code) > Capacity\n",
    "\"\"\"\n",
    "\n",
    "responses = exe(db, query, verbose = True)\n",
    "\n",
    "for response in responses:\n",
    "    print(f\"L'entrepot N°{response[0]} est saturé\")"
   ]
  },
  {
   "attachments": {},
   "cell_type": "markdown",
   "metadata": {},
   "source": [
    "#### 3.4/ Sélectionnez les codes de toutes les boîtes situées à Chicago. Utiliser INNER JOIN"
   ]
  },
  {
   "cell_type": "code",
   "execution_count": null,
   "metadata": {},
   "outputs": [],
   "source": [
    "db = connect_db('192.168.20.118', 'grogu', 'grogu', database = \"atelier3\")\n",
    "\n",
    "query = \"\"\"\n",
    "    SELECT Boxes.Code\n",
    "    FROM Boxes\n",
    "    INNER JOIN Warehouses ON Warehouses.Code = Boxes.Warehouse\n",
    "    WHERE Location = 'Chicago'\n",
    "\"\"\"\n",
    "\n",
    "responses = exe(db, query, verbose = True)\n",
    "\n",
    "for response in responses:\n",
    "    print(f\"La boite {response[0]} est a Chicago\")"
   ]
  },
  {
   "attachments": {},
   "cell_type": "markdown",
   "metadata": {},
   "source": [
    "---\n",
    "\n",
    "### Partie 4 - réaliser des insertions et modifications des tables :"
   ]
  },
  {
   "attachments": {},
   "cell_type": "markdown",
   "metadata": {},
   "source": [
    "#### 4.1/ Créer un nouvel entrepôt à New York avec une capacité de 3 boîtes."
   ]
  },
  {
   "cell_type": "code",
   "execution_count": null,
   "metadata": {},
   "outputs": [],
   "source": [
    "db = connect_db('192.168.20.118', 'grogu', 'grogu', database = 'atelier3')\n",
    "\n",
    "query = \"\"\"\n",
    "    INSERT INTO Warehouses VALUES (6, 'New York', 3);\n",
    "\"\"\"\n",
    "\n",
    "responses = exe(db, query)"
   ]
  },
  {
   "attachments": {},
   "cell_type": "markdown",
   "metadata": {},
   "source": [
    "#### 4.2/ Créer une nouvelle boîte, avec le code \"H5RT\", contenant des \"Papers\" d'une valeur de 200 dollars, et située dans l'entrepôt 2."
   ]
  },
  {
   "cell_type": "code",
   "execution_count": null,
   "metadata": {},
   "outputs": [],
   "source": [
    "db = connect_db('192.168.20.118', 'grogu', 'grogu', database = 'atelier3')\n",
    "\n",
    "query = \"\"\"\n",
    "    INSERT INTO Boxes VALUES ('H5RT', 'Papers', 200, 2);\n",
    "\"\"\"\n",
    "\n",
    "responses = exe(db, query)"
   ]
  },
  {
   "attachments": {},
   "cell_type": "markdown",
   "metadata": {},
   "source": [
    "#### 4.3/ Réduire la valeur de toutes les boîtes de 15 pourcent."
   ]
  },
  {
   "cell_type": "code",
   "execution_count": null,
   "metadata": {},
   "outputs": [],
   "source": [
    "db = connect_db('192.168.20.118', 'grogu', 'grogu', database = 'atelier3')\n",
    "\n",
    "query = \"\"\"\n",
    "    UPDATE Boxes SET Value = Value * 0.85;\n",
    "\"\"\"\n",
    "\n",
    "responses = exe(db, query)"
   ]
  },
  {
   "attachments": {},
   "cell_type": "markdown",
   "metadata": {},
   "source": [
    "#### 4.4/ Retirer toutes les boîtes d'une valeur inférieure à 100 dollars.\n"
   ]
  },
  {
   "cell_type": "code",
   "execution_count": null,
   "metadata": {},
   "outputs": [],
   "source": [
    "db = connect_db('192.168.20.118', 'grogu', 'grogu', database = 'atelier3')\n",
    "\n",
    "query = \"\"\"\n",
    "    DELETE FROM Boxes\n",
    "    WHERE  Value < 100;\n",
    "\"\"\"\n",
    "\n",
    "responses = exe(db, query)"
   ]
  },
  {
   "attachments": {},
   "cell_type": "markdown",
   "metadata": {},
   "source": [
    "#### 4.5/ Ajouter un indice pour la colonne \"Entrepôt\" dans le tableau \"boîtes\". (Utiliser CREATE INDEX)\n"
   ]
  },
  {
   "cell_type": "code",
   "execution_count": null,
   "metadata": {},
   "outputs": [],
   "source": [
    "db = connect_db('192.168.20.118', 'grogu', 'grogu', database = 'atelier3')\n",
    "\n",
    "query = \"\"\"\n",
    "    CREATE INDEX idx_code ON Boxes (Warehouse);\n",
    "\"\"\"\n",
    "\n",
    "responses = exe(db, query)"
   ]
  },
  {
   "attachments": {},
   "cell_type": "markdown",
   "metadata": {},
   "source": [
    "#### 4.6/ Sélectionner tous les index existants (Utiliser la table information_schema)\n"
   ]
  },
  {
   "cell_type": "code",
   "execution_count": null,
   "metadata": {},
   "outputs": [],
   "source": [
    "db = connect_db('192.168.20.118', 'grogu', 'grogu')\n",
    "\n",
    "query = \"\"\"\n",
    "    SELECT DISTINCT TABLE_NAME, INDEX_NAME\n",
    "    FROM INFORMATION_SCHEMA.STATISTICS;\n",
    "\"\"\"\n",
    "\n",
    "responses = exe(db, query, verbose = True)\n",
    "\n",
    "for response in responses:\n",
    "    print(f\"{response}\")\n"
   ]
  },
  {
   "attachments": {},
   "cell_type": "markdown",
   "metadata": {},
   "source": [
    "---\n",
    "\n",
    "### Partie 5 - BONUS :"
   ]
  },
  {
   "attachments": {},
   "cell_type": "markdown",
   "metadata": {},
   "source": [
    "#### 5.1/ Retirer toutes les boîtes des entrepôts saturés.\n",
    "\n",
    "Indice : faire des requêtes imbriquées."
   ]
  },
  {
   "cell_type": "code",
   "execution_count": null,
   "metadata": {},
   "outputs": [],
   "source": [
    "db = connect_db('192.168.20.118', 'grogu', 'grogu', database = \"atelier3\")\n",
    "\n",
    "query = \"\"\"\n",
    "    DELETE FROM Boxes\n",
    "        WHERE Code = (\n",
    "            SELECT Code FROM (\n",
    "                SELECT Warehouses.Code AS Code1, Boxes.Code AS Code2, Capacity\n",
    "                FROM Boxes\n",
    "                INNER JOIN Warehouses ON Warehouses.Code = Boxes.Warehouse\n",
    "                GROUP BY Warehouses.Code\n",
    "                HAVING COUNT(Boxes.Code) > Capacity\n",
    "            ) AS T\n",
    "        );\n",
    "\"\"\"\n",
    "\n",
    "exe(db, query)"
   ]
  }
 ],
 "metadata": {
  "kernelspec": {
   "display_name": "base",
   "language": "python",
   "name": "python3"
  },
  "language_info": {
   "codemirror_mode": {
    "name": "ipython",
    "version": 3
   },
   "file_extension": ".py",
   "mimetype": "text/x-python",
   "name": "python",
   "nbconvert_exporter": "python",
   "pygments_lexer": "ipython3",
   "version": "3.9.15"
  },
  "orig_nbformat": 4,
  "vscode": {
   "interpreter": {
    "hash": "45bb1cb4637e4034484920e5cfb24c9afd84b0847d6c36e39edd3067d3a05462"
   }
  }
 },
 "nbformat": 4,
 "nbformat_minor": 2
}
