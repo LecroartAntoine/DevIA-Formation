{
 "cells": [
  {
   "attachments": {},
   "cell_type": "markdown",
   "metadata": {},
   "source": [
    "# Tests des enpoints de l'API avec requests, avec et sans token\n",
    "\n",
    "---\n",
    "---"
   ]
  },
  {
   "cell_type": "code",
   "execution_count": 12,
   "metadata": {},
   "outputs": [],
   "source": [
    "import requests"
   ]
  },
  {
   "cell_type": "code",
   "execution_count": 13,
   "metadata": {},
   "outputs": [],
   "source": [
    "login = {\"username\": \"Grogu\", \"password\": \"Grogu\"}\n",
    "\n",
    "response = requests.post(\"http://leboncassoulet.pythonanywhere.com/login\", data=login)\n",
    "if response.status_code == 200:\n",
    "    token = response.json()[\"access_token\"]\n",
    "    headers = {\"Authorization\": f\"Bearer {token}\"}\n",
    "else:\n",
    "    print(\"Login failed\")"
   ]
  },
  {
   "attachments": {},
   "cell_type": "markdown",
   "metadata": {},
   "source": [
    "\n",
    "---\n",
    "---\n",
    "\n",
    "## Méthode `GET`"
   ]
  },
  {
   "attachments": {},
   "cell_type": "markdown",
   "metadata": {},
   "source": [
    "---\n",
    "\n",
    "### Test endpoint : `/` (GET) sans login"
   ]
  },
  {
   "cell_type": "code",
   "execution_count": 14,
   "metadata": {},
   "outputs": [
    {
     "data": {
      "text/plain": [
       "{'error': 'Missing authentication token'}"
      ]
     },
     "execution_count": 14,
     "metadata": {},
     "output_type": "execute_result"
    }
   ],
   "source": [
    "data = requests.get(\"http://leboncassoulet.pythonanywhere.com\").json()\n",
    "data"
   ]
  },
  {
   "attachments": {},
   "cell_type": "markdown",
   "metadata": {},
   "source": [
    "### Test endpoint : `/` (GET) avec login"
   ]
  },
  {
   "cell_type": "code",
   "execution_count": 15,
   "metadata": {},
   "outputs": [
    {
     "data": {
      "text/plain": [
       "b'\\n        <h1 align=\"center\">API du projet PubNoPub</h1>\\n        '"
      ]
     },
     "execution_count": 15,
     "metadata": {},
     "output_type": "execute_result"
    }
   ],
   "source": [
    "data = requests.get(\"http://leboncassoulet.pythonanywhere.com\", headers=headers).content\n",
    "data"
   ]
  },
  {
   "attachments": {},
   "cell_type": "markdown",
   "metadata": {},
   "source": [
    "---\n",
    "\n",
    "### Test endpoint : `/allRapports` (GET) sans login"
   ]
  },
  {
   "cell_type": "code",
   "execution_count": 16,
   "metadata": {},
   "outputs": [
    {
     "data": {
      "text/plain": [
       "{'error': 'Missing authentication token'}"
      ]
     },
     "execution_count": 16,
     "metadata": {},
     "output_type": "execute_result"
    }
   ],
   "source": [
    "data = requests.get(\"http://leboncassoulet.pythonanywhere.com/allRapports\").json()\n",
    "data"
   ]
  },
  {
   "attachments": {},
   "cell_type": "markdown",
   "metadata": {},
   "source": [
    "### Test endpoint : `/allRapports` (GET) avec login"
   ]
  },
  {
   "cell_type": "code",
   "execution_count": 17,
   "metadata": {},
   "outputs": [
    {
     "data": {
      "text/plain": [
       "[{'date_rapport': 'Thu, 22 Jun 2023 13:00:00 GMT',\n",
       "  'erreur': True,\n",
       "  'images': ['IMG0001', 'IMG0002', 'IMG0003'],\n",
       "  'parametres': 'parametres/B3HO4gdjesJWFlZp5fQV',\n",
       "  'prediction_classe_noPub': 0.12,\n",
       "  'prediction_classe_pub': 0.95},\n",
       " {'date_rapport': 'Thu, 22 Jun 2023 14:00:00 GMT',\n",
       "  'erreur': False,\n",
       "  'images': ['IMG0004', 'IMG0005'],\n",
       "  'parametres': 'parametres/B3HO4gdjesJWFlZp5fQV',\n",
       "  'prediction_classe_noPub': 0.96,\n",
       "  'prediction_classe_pub': 0.23},\n",
       " {'date_rapport': 'Wed, 28 Jun 2023 12:00:00 GMT',\n",
       "  'erreur': True,\n",
       "  'images': ['IMG010011', 'IMG010044', 'IMG010055'],\n",
       "  'parametres': 'parametres/unrUKSdPYYNYt3zlKfO8',\n",
       "  'prediction_classe_noPub': 0.99,\n",
       "  'prediction_classe_pub': 0.01},\n",
       " {'date_rapport': 'Wed, 28 Jun 2023 12:00:00 GMT',\n",
       "  'erreur': True,\n",
       "  'images': ['IMG010011', 'IMG010044', 'IMG010055'],\n",
       "  'parametres': 'parametres/unrUKSdPYYNYt3zlKfO8',\n",
       "  'prediction_classe_noPub': 0.99,\n",
       "  'prediction_classe_pub': 0.01},\n",
       " {'date_rapport': 'Wed, 28 Jun 2023 12:00:00 GMT',\n",
       "  'erreur': True,\n",
       "  'images': ['IMG010011', 'IMG010044', 'IMG010055'],\n",
       "  'parametres': 'parametres/unrUKSdPYYNYt3zlKfO8',\n",
       "  'prediction_classe_noPub': 0.99,\n",
       "  'prediction_classe_pub': 0.01},\n",
       " {'date_rapport': 'Wed, 28 Jun 2023 12:00:00 GMT',\n",
       "  'erreur': True,\n",
       "  'images': ['IMG010011', 'IMG010044', 'IMG010055'],\n",
       "  'parametres': 'parametres/unrUKSdPYYNYt3zlKfO8',\n",
       "  'prediction_classe_noPub': 0.99,\n",
       "  'prediction_classe_pub': 0.01},\n",
       " {'date_rapport': 'Thu, 22 Jun 2023 15:00:00 GMT',\n",
       "  'erreur': False,\n",
       "  'images': ['IMG0006', 'IMG0007', 'IMG0008', 'IMG0009', 'IMG0010'],\n",
       "  'parametres': 'parametres/unrUKSdPYYNYt3zlKfO8',\n",
       "  'prediction_classe_noPub': 0.14,\n",
       "  'prediction_classe_pub': 0.79},\n",
       " {'date_rapport': 'Wed, 28 Jun 2023 12:00:00 GMT',\n",
       "  'erreur': True,\n",
       "  'images': ['IMG010011', 'IMG010044', 'IMG010055'],\n",
       "  'parametres': 'parametres/unrUKSdPYYNYt3zlKfO8',\n",
       "  'prediction_classe_noPub': 0.99,\n",
       "  'prediction_classe_pub': 0.01}]"
      ]
     },
     "execution_count": 17,
     "metadata": {},
     "output_type": "execute_result"
    }
   ],
   "source": [
    "data = requests.get(\"http://leboncassoulet.pythonanywhere.com/allRapports\", headers=headers).json()\n",
    "data"
   ]
  },
  {
   "attachments": {},
   "cell_type": "markdown",
   "metadata": {},
   "source": [
    "---\n",
    "\n",
    "### Test endpoint : `/dernierRapport` (GET) sans login"
   ]
  },
  {
   "cell_type": "code",
   "execution_count": 18,
   "metadata": {},
   "outputs": [
    {
     "data": {
      "text/plain": [
       "{'error': 'Missing authentication token'}"
      ]
     },
     "execution_count": 18,
     "metadata": {},
     "output_type": "execute_result"
    }
   ],
   "source": [
    "data = requests.get(\"http://leboncassoulet.pythonanywhere.com/dernierRapport\").json()\n",
    "data"
   ]
  },
  {
   "attachments": {},
   "cell_type": "markdown",
   "metadata": {},
   "source": [
    "### Test endpoint : `/dernierRapport` (GET) avec login"
   ]
  },
  {
   "cell_type": "code",
   "execution_count": 19,
   "metadata": {},
   "outputs": [
    {
     "data": {
      "text/plain": [
       "{'date_rapport': 'Wed, 28 Jun 2023 12:00:00 GMT',\n",
       " 'erreur': True,\n",
       " 'images': ['IMG010011', 'IMG010044', 'IMG010055'],\n",
       " 'parametres': 'parametres/unrUKSdPYYNYt3zlKfO8',\n",
       " 'prediction_classe_noPub': 0.99,\n",
       " 'prediction_classe_pub': 0.01}"
      ]
     },
     "execution_count": 19,
     "metadata": {},
     "output_type": "execute_result"
    }
   ],
   "source": [
    "data = requests.get(\"http://leboncassoulet.pythonanywhere.com/dernierRapport\", headers=headers).json()\n",
    "data"
   ]
  },
  {
   "attachments": {},
   "cell_type": "markdown",
   "metadata": {},
   "source": [
    "---\n",
    "\n",
    "### Test endpoint : `/infos` (GET) sans login"
   ]
  },
  {
   "cell_type": "code",
   "execution_count": 20,
   "metadata": {},
   "outputs": [
    {
     "data": {
      "text/plain": [
       "{'error': 'Missing authentication token'}"
      ]
     },
     "execution_count": 20,
     "metadata": {},
     "output_type": "execute_result"
    }
   ],
   "source": [
    "data = requests.get(\"http://leboncassoulet.pythonanywhere.com/infos\").json()\n",
    "data"
   ]
  },
  {
   "attachments": {},
   "cell_type": "markdown",
   "metadata": {},
   "source": [
    "### Test endpoint : `/infos` (GET) avec login"
   ]
  },
  {
   "cell_type": "code",
   "execution_count": 21,
   "metadata": {},
   "outputs": [
    {
     "data": {
      "text/plain": [
       "{'date': 'Thu, 01 Jun 2023 08:00:00 GMT',\n",
       " 'dev': 'Antoine Lecroart',\n",
       " 'nb_user': 3,\n",
       " 'success_rate': 0.9,\n",
       " 'version': '1.5'}"
      ]
     },
     "execution_count": 21,
     "metadata": {},
     "output_type": "execute_result"
    }
   ],
   "source": [
    "data = requests.get(\"http://leboncassoulet.pythonanywhere.com/infos\", headers=headers).json()\n",
    "data"
   ]
  },
  {
   "attachments": {},
   "cell_type": "markdown",
   "metadata": {},
   "source": [
    "---\n",
    "\n",
    "### Test endpoint : `/parametres` (GET) sans login"
   ]
  },
  {
   "cell_type": "code",
   "execution_count": 22,
   "metadata": {},
   "outputs": [
    {
     "data": {
      "text/plain": [
       "{'error': 'Missing authentication token'}"
      ]
     },
     "execution_count": 22,
     "metadata": {},
     "output_type": "execute_result"
    }
   ],
   "source": [
    "data = requests.get(\"http://leboncassoulet.pythonanywhere.com/parametres\").json()\n",
    "data"
   ]
  },
  {
   "attachments": {},
   "cell_type": "markdown",
   "metadata": {},
   "source": [
    "### Test endpoint : `/parametres` (GET) avec login"
   ]
  },
  {
   "cell_type": "code",
   "execution_count": 23,
   "metadata": {},
   "outputs": [
    {
     "data": {
      "text/plain": [
       "{'conf': 0.8, 'iou': 0.6, 'max_det': 1}"
      ]
     },
     "execution_count": 23,
     "metadata": {},
     "output_type": "execute_result"
    }
   ],
   "source": [
    "data = requests.get(\"http://leboncassoulet.pythonanywhere.com/parametres\", headers=headers).json()\n",
    "data"
   ]
  },
  {
   "attachments": {},
   "cell_type": "markdown",
   "metadata": {},
   "source": [
    "---\n",
    "\n",
    "### Test endpoint : `/rapports/nb` (GET) sans login"
   ]
  },
  {
   "cell_type": "code",
   "execution_count": 24,
   "metadata": {},
   "outputs": [
    {
     "data": {
      "text/plain": [
       "{'error': 'Missing authentication token'}"
      ]
     },
     "execution_count": 24,
     "metadata": {},
     "output_type": "execute_result"
    }
   ],
   "source": [
    "data = requests.get(\"http://leboncassoulet.pythonanywhere.com/rapports/3\").json()\n",
    "data"
   ]
  },
  {
   "attachments": {},
   "cell_type": "markdown",
   "metadata": {},
   "source": [
    "### Test endpoint : `/rapports/nb` (GET) avec login"
   ]
  },
  {
   "cell_type": "code",
   "execution_count": 25,
   "metadata": {},
   "outputs": [
    {
     "data": {
      "text/plain": [
       "[{'date_rapport': 'Wed, 28 Jun 2023 12:00:00 GMT',\n",
       "  'erreur': True,\n",
       "  'images': ['IMG010011', 'IMG010044', 'IMG010055'],\n",
       "  'parametres': 'parametres/unrUKSdPYYNYt3zlKfO8',\n",
       "  'prediction_classe_noPub': 0.99,\n",
       "  'prediction_classe_pub': 0.01},\n",
       " {'date_rapport': 'Wed, 28 Jun 2023 12:00:00 GMT',\n",
       "  'erreur': True,\n",
       "  'images': ['IMG010011', 'IMG010044', 'IMG010055'],\n",
       "  'parametres': 'parametres/unrUKSdPYYNYt3zlKfO8',\n",
       "  'prediction_classe_noPub': 0.99,\n",
       "  'prediction_classe_pub': 0.01},\n",
       " {'date_rapport': 'Wed, 28 Jun 2023 12:00:00 GMT',\n",
       "  'erreur': True,\n",
       "  'images': ['IMG010011', 'IMG010044', 'IMG010055'],\n",
       "  'parametres': 'parametres/unrUKSdPYYNYt3zlKfO8',\n",
       "  'prediction_classe_noPub': 0.99,\n",
       "  'prediction_classe_pub': 0.01}]"
      ]
     },
     "execution_count": 25,
     "metadata": {},
     "output_type": "execute_result"
    }
   ],
   "source": [
    "data = requests.get(\"http://leboncassoulet.pythonanywhere.com/rapports/3\", headers=headers).json()\n",
    "data"
   ]
  },
  {
   "attachments": {},
   "cell_type": "markdown",
   "metadata": {},
   "source": [
    "---\n",
    "---\n",
    "\n",
    "## Méthode POST"
   ]
  },
  {
   "attachments": {},
   "cell_type": "markdown",
   "metadata": {},
   "source": [
    "---\n",
    "\n",
    "### Test endpoint: `/rapport` (POST) sans login"
   ]
  },
  {
   "cell_type": "code",
   "execution_count": 26,
   "metadata": {},
   "outputs": [
    {
     "data": {
      "text/plain": [
       "b'{\"error\":\"Missing authentication token\"}\\n'"
      ]
     },
     "execution_count": 26,
     "metadata": {},
     "output_type": "execute_result"
    }
   ],
   "source": [
    "data = {\n",
    "        'date_rapport' : '28-06-2023 12:00:00', \n",
    "        'erreur' : True, \n",
    "        \"images\" : [\"IMG010011\", \"IMG010044\", \"IMG010055\"], \n",
    "        \"parametres\" : \"unrUKSdPYYNYt3zlKfO8\",\n",
    "        \"prediction_classe_noPub\": 0.99, \n",
    "        \"prediction_classe_pub\" : 0.01\n",
    "    }\n",
    "\n",
    "query = requests.post(\"http://leboncassoulet.pythonanywhere.com/rapports\", json=data)\n",
    "\n",
    "query.content"
   ]
  },
  {
   "attachments": {},
   "cell_type": "markdown",
   "metadata": {},
   "source": [
    "### Test endpoint: `/rapport` (POST) avec login"
   ]
  },
  {
   "cell_type": "code",
   "execution_count": 27,
   "metadata": {},
   "outputs": [
    {
     "data": {
      "text/plain": [
       "b'Rapport_uploaded'"
      ]
     },
     "execution_count": 27,
     "metadata": {},
     "output_type": "execute_result"
    }
   ],
   "source": [
    "data = {\n",
    "        'date_rapport' : '28-06-2023 12:00:00', \n",
    "        'erreur' : True, \n",
    "        \"images\" : [\"IMG010011\", \"IMG010044\", \"IMG010055\"], \n",
    "        \"parametres\" : \"unrUKSdPYYNYt3zlKfO8\",\n",
    "        \"prediction_classe_noPub\": 0.99, \n",
    "        \"prediction_classe_pub\" : 0.01\n",
    "    }\n",
    "\n",
    "query = requests.post(\"http://leboncassoulet.pythonanywhere.com/rapports\", headers=headers, json=data)\n",
    "\n",
    "query.content"
   ]
  },
  {
   "attachments": {},
   "cell_type": "markdown",
   "metadata": {},
   "source": [
    "---\n",
    "\n",
    "### Test endpoint: `/infos` (POST) sans login"
   ]
  },
  {
   "cell_type": "code",
   "execution_count": 28,
   "metadata": {},
   "outputs": [
    {
     "data": {
      "text/plain": [
       "b'{\"error\":\"Missing authentication token\"}\\n'"
      ]
     },
     "execution_count": 28,
     "metadata": {},
     "output_type": "execute_result"
    }
   ],
   "source": [
    "data = {\n",
    "        'date' : '01-06-2023 08:00:00', \n",
    "        'dev' : \"Antoine Lecroart\", \n",
    "        \"nb_user\" : 3,\n",
    "        \"success_rate\": 0.9, \n",
    "        \"version\" : '1.5'\n",
    "    }\n",
    "\n",
    "query = requests.post(\"http://leboncassoulet.pythonanywhere.com/infos\", json=data)\n",
    "\n",
    "query.content"
   ]
  },
  {
   "attachments": {},
   "cell_type": "markdown",
   "metadata": {},
   "source": [
    "### Test endpoint: `/infos` (POST) avec login"
   ]
  },
  {
   "cell_type": "code",
   "execution_count": 29,
   "metadata": {},
   "outputs": [
    {
     "data": {
      "text/plain": [
       "b'Infos_uploaded'"
      ]
     },
     "execution_count": 29,
     "metadata": {},
     "output_type": "execute_result"
    }
   ],
   "source": [
    "data = {\n",
    "        'date' : '01-06-2023 08:00:00', \n",
    "        'dev' : \"Antoine Lecroart\", \n",
    "        \"nb_user\" : 3,\n",
    "        \"success_rate\": 0.9, \n",
    "        \"version\" : '1.5'\n",
    "    }\n",
    "\n",
    "query = requests.post(\"http://leboncassoulet.pythonanywhere.com/infos\", headers=headers, json=data)\n",
    "\n",
    "query.content"
   ]
  },
  {
   "attachments": {},
   "cell_type": "markdown",
   "metadata": {},
   "source": [
    "---\n",
    "\n",
    "### Test endpoint: `/parametres` (POST) sans login"
   ]
  },
  {
   "cell_type": "code",
   "execution_count": 30,
   "metadata": {},
   "outputs": [
    {
     "data": {
      "text/plain": [
       "b'{\"error\":\"Missing authentication token\"}\\n'"
      ]
     },
     "execution_count": 30,
     "metadata": {},
     "output_type": "execute_result"
    }
   ],
   "source": [
    "data = {\n",
    "        \"conf\" : 0.8,\n",
    "        \"iou\": 0.45, \n",
    "        \"max_det\" : 1\n",
    "    }\n",
    "\n",
    "query = requests.post(\"http://leboncassoulet.pythonanywhere.com/parametres\", json=data)\n",
    "\n",
    "query.content"
   ]
  },
  {
   "attachments": {},
   "cell_type": "markdown",
   "metadata": {},
   "source": [
    "### Test endpoint: `/parametres` (POST) avec login"
   ]
  },
  {
   "cell_type": "code",
   "execution_count": 31,
   "metadata": {},
   "outputs": [
    {
     "data": {
      "text/plain": [
       "b'Parametres_uploaded'"
      ]
     },
     "execution_count": 31,
     "metadata": {},
     "output_type": "execute_result"
    }
   ],
   "source": [
    "data = {\n",
    "        \"conf\" : 0.8,\n",
    "        \"iou\": 0.45, \n",
    "        \"max_det\" : 1\n",
    "    }\n",
    "\n",
    "query = requests.post(\"http://leboncassoulet.pythonanywhere.com/parametres\", headers=headers, json=data)\n",
    "\n",
    "query.content"
   ]
  }
 ],
 "metadata": {
  "kernelspec": {
   "display_name": "base",
   "language": "python",
   "name": "python3"
  },
  "language_info": {
   "codemirror_mode": {
    "name": "ipython",
    "version": 3
   },
   "file_extension": ".py",
   "mimetype": "text/x-python",
   "name": "python",
   "nbconvert_exporter": "python",
   "pygments_lexer": "ipython3",
   "version": "3.7.9"
  },
  "orig_nbformat": 4
 },
 "nbformat": 4,
 "nbformat_minor": 2
}
