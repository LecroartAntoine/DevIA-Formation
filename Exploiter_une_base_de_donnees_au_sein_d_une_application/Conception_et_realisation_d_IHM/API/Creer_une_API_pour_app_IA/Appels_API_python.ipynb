{
 "cells": [
  {
   "attachments": {},
   "cell_type": "markdown",
   "metadata": {},
   "source": [
    "# Tests des enpoints de l'API avec requests\n",
    "\n",
    "---\n",
    "---"
   ]
  },
  {
   "cell_type": "code",
   "execution_count": 31,
   "metadata": {},
   "outputs": [],
   "source": [
    "import requests"
   ]
  },
  {
   "attachments": {},
   "cell_type": "markdown",
   "metadata": {},
   "source": [
    "\n",
    "---\n",
    "---\n",
    "\n",
    "## Méthode `GET`"
   ]
  },
  {
   "attachments": {},
   "cell_type": "markdown",
   "metadata": {},
   "source": [
    "---\n",
    "\n",
    "### Test endpoint : `/` (GET)"
   ]
  },
  {
   "cell_type": "code",
   "execution_count": 32,
   "metadata": {},
   "outputs": [
    {
     "data": {
      "text/plain": [
       "b'\\n        <h1 align=\"center\">API du projet PubNoPub</h1>\\n        '"
      ]
     },
     "execution_count": 32,
     "metadata": {},
     "output_type": "execute_result"
    }
   ],
   "source": [
    "data = requests.get(\"http://leboncassoulet.pythonanywhere.com\").content\n",
    "data"
   ]
  },
  {
   "attachments": {},
   "cell_type": "markdown",
   "metadata": {},
   "source": [
    "#### Navigateur :\n",
    "\n",
    "![image](./Fichiers/Images/screenshot_1.png)"
   ]
  },
  {
   "attachments": {},
   "cell_type": "markdown",
   "metadata": {},
   "source": [
    "---\n",
    "\n",
    "### Test endpoint : `/allRapports` (GET)"
   ]
  },
  {
   "cell_type": "code",
   "execution_count": 33,
   "metadata": {},
   "outputs": [
    {
     "data": {
      "text/plain": [
       "[{'date_rapport': 'Thu, 22 Jun 2023 13:00:00 GMT',\n",
       "  'erreur': True,\n",
       "  'images': ['IMG0001', 'IMG0002', 'IMG0003'],\n",
       "  'parametres': 'parametres/B3HO4gdjesJWFlZp5fQV',\n",
       "  'prediction_classe_noPub': 0.12,\n",
       "  'prediction_classe_pub': 0.95},\n",
       " {'date_rapport': 'Thu, 22 Jun 2023 14:00:00 GMT',\n",
       "  'erreur': False,\n",
       "  'images': ['IMG0004', 'IMG0005'],\n",
       "  'parametres': 'parametres/B3HO4gdjesJWFlZp5fQV',\n",
       "  'prediction_classe_noPub': 0.96,\n",
       "  'prediction_classe_pub': 0.23},\n",
       " {'date_rapport': 'Wed, 28 Jun 2023 12:00:00 GMT',\n",
       "  'erreur': True,\n",
       "  'images': ['IMG010011', 'IMG010044', 'IMG010055'],\n",
       "  'parametres': 'parametres/unrUKSdPYYNYt3zlKfO8',\n",
       "  'prediction_classe_noPub': 0.99,\n",
       "  'prediction_classe_pub': 0.01},\n",
       " {'date_rapport': 'Wed, 28 Jun 2023 12:00:00 GMT',\n",
       "  'erreur': True,\n",
       "  'images': ['IMG010011', 'IMG010044', 'IMG010055'],\n",
       "  'parametres': 'parametres/unrUKSdPYYNYt3zlKfO8',\n",
       "  'prediction_classe_noPub': 0.99,\n",
       "  'prediction_classe_pub': 0.01},\n",
       " {'date_rapport': 'Wed, 28 Jun 2023 12:00:00 GMT',\n",
       "  'erreur': True,\n",
       "  'images': ['IMG010011', 'IMG010044', 'IMG010055'],\n",
       "  'parametres': 'parametres/unrUKSdPYYNYt3zlKfO8',\n",
       "  'prediction_classe_noPub': 0.99,\n",
       "  'prediction_classe_pub': 0.01},\n",
       " {'date_rapport': 'Thu, 22 Jun 2023 15:00:00 GMT',\n",
       "  'erreur': False,\n",
       "  'images': ['IMG0006', 'IMG0007', 'IMG0008', 'IMG0009', 'IMG0010'],\n",
       "  'parametres': 'parametres/unrUKSdPYYNYt3zlKfO8',\n",
       "  'prediction_classe_noPub': 0.14,\n",
       "  'prediction_classe_pub': 0.79},\n",
       " {'date_rapport': 'Wed, 28 Jun 2023 12:00:00 GMT',\n",
       "  'erreur': True,\n",
       "  'images': ['IMG010011', 'IMG010044', 'IMG010055'],\n",
       "  'parametres': 'parametres/unrUKSdPYYNYt3zlKfO8',\n",
       "  'prediction_classe_noPub': 0.99,\n",
       "  'prediction_classe_pub': 0.01}]"
      ]
     },
     "execution_count": 33,
     "metadata": {},
     "output_type": "execute_result"
    }
   ],
   "source": [
    "data = requests.get(\"http://leboncassoulet.pythonanywhere.com/allRapports\").json()\n",
    "data"
   ]
  },
  {
   "attachments": {},
   "cell_type": "markdown",
   "metadata": {},
   "source": [
    "#### Navigateur :\n",
    "\n",
    "![image](./Fichiers/Images/screenshot_2.png)"
   ]
  },
  {
   "attachments": {},
   "cell_type": "markdown",
   "metadata": {},
   "source": [
    "---\n",
    "\n",
    "### Test endpoint : `/dernierRapport` (GET)"
   ]
  },
  {
   "cell_type": "code",
   "execution_count": 34,
   "metadata": {},
   "outputs": [
    {
     "data": {
      "text/plain": [
       "{'date_rapport': 'Wed, 28 Jun 2023 12:00:00 GMT',\n",
       " 'erreur': True,\n",
       " 'images': ['IMG010011', 'IMG010044', 'IMG010055'],\n",
       " 'parametres': 'parametres/unrUKSdPYYNYt3zlKfO8',\n",
       " 'prediction_classe_noPub': 0.99,\n",
       " 'prediction_classe_pub': 0.01}"
      ]
     },
     "execution_count": 34,
     "metadata": {},
     "output_type": "execute_result"
    }
   ],
   "source": [
    "data = requests.get(\"http://leboncassoulet.pythonanywhere.com/dernierRapport\").json()\n",
    "data"
   ]
  },
  {
   "attachments": {},
   "cell_type": "markdown",
   "metadata": {},
   "source": [
    "#### Navigateur :\n",
    "\n",
    "![image](./Fichiers/Images/screenshot_3.png)"
   ]
  },
  {
   "attachments": {},
   "cell_type": "markdown",
   "metadata": {},
   "source": [
    "---\n",
    "\n",
    "### Test endpoint : `/infos` (GET)"
   ]
  },
  {
   "cell_type": "code",
   "execution_count": 35,
   "metadata": {},
   "outputs": [
    {
     "data": {
      "text/plain": [
       "{'date': 'Thu, 01 Jun 2023 08:00:00 GMT',\n",
       " 'dev': 'Antoine Lecroart',\n",
       " 'nb_user': 3,\n",
       " 'success_rate': 0.9,\n",
       " 'version': '1.5'}"
      ]
     },
     "execution_count": 35,
     "metadata": {},
     "output_type": "execute_result"
    }
   ],
   "source": [
    "data = requests.get(\"http://leboncassoulet.pythonanywhere.com/infos\").json()\n",
    "data"
   ]
  },
  {
   "attachments": {},
   "cell_type": "markdown",
   "metadata": {},
   "source": [
    "#### Navigateur :\n",
    "\n",
    "![image](./Fichiers/Images/screenshot_4.png)"
   ]
  },
  {
   "attachments": {},
   "cell_type": "markdown",
   "metadata": {},
   "source": [
    "---\n",
    "\n",
    "### Test endpoint : `/parametres` (GET)"
   ]
  },
  {
   "cell_type": "code",
   "execution_count": 36,
   "metadata": {},
   "outputs": [
    {
     "data": {
      "text/plain": [
       "{'conf': 0.8, 'iou': 0.6, 'max_det': 1}"
      ]
     },
     "execution_count": 36,
     "metadata": {},
     "output_type": "execute_result"
    }
   ],
   "source": [
    "data = requests.get(\"http://leboncassoulet.pythonanywhere.com/parametres\").json()\n",
    "data"
   ]
  },
  {
   "attachments": {},
   "cell_type": "markdown",
   "metadata": {},
   "source": [
    "#### Navigateur :\n",
    "\n",
    "![image](./Fichiers/Images/screenshot_9.png)"
   ]
  },
  {
   "attachments": {},
   "cell_type": "markdown",
   "metadata": {},
   "source": [
    "---\n",
    "\n",
    "### Test endpoint : `/rapports/nb` (GET)"
   ]
  },
  {
   "cell_type": "code",
   "execution_count": 37,
   "metadata": {},
   "outputs": [
    {
     "data": {
      "text/plain": [
       "[{'date_rapport': 'Wed, 28 Jun 2023 12:00:00 GMT',\n",
       "  'erreur': True,\n",
       "  'images': ['IMG010011', 'IMG010044', 'IMG010055'],\n",
       "  'parametres': 'parametres/unrUKSdPYYNYt3zlKfO8',\n",
       "  'prediction_classe_noPub': 0.99,\n",
       "  'prediction_classe_pub': 0.01},\n",
       " {'date_rapport': 'Wed, 28 Jun 2023 12:00:00 GMT',\n",
       "  'erreur': True,\n",
       "  'images': ['IMG010011', 'IMG010044', 'IMG010055'],\n",
       "  'parametres': 'parametres/unrUKSdPYYNYt3zlKfO8',\n",
       "  'prediction_classe_noPub': 0.99,\n",
       "  'prediction_classe_pub': 0.01},\n",
       " {'date_rapport': 'Wed, 28 Jun 2023 12:00:00 GMT',\n",
       "  'erreur': True,\n",
       "  'images': ['IMG010011', 'IMG010044', 'IMG010055'],\n",
       "  'parametres': 'parametres/unrUKSdPYYNYt3zlKfO8',\n",
       "  'prediction_classe_noPub': 0.99,\n",
       "  'prediction_classe_pub': 0.01}]"
      ]
     },
     "execution_count": 37,
     "metadata": {},
     "output_type": "execute_result"
    }
   ],
   "source": [
    "data = requests.get(\"http://leboncassoulet.pythonanywhere.com/rapports/3\").json()\n",
    "data"
   ]
  },
  {
   "attachments": {},
   "cell_type": "markdown",
   "metadata": {},
   "source": [
    "#### Navigateur :\n",
    "\n",
    "![image](./Fichiers/Images/screenshot_5.png)"
   ]
  },
  {
   "attachments": {},
   "cell_type": "markdown",
   "metadata": {},
   "source": [
    "---\n",
    "---\n",
    "\n",
    "## Méthode POST"
   ]
  },
  {
   "attachments": {},
   "cell_type": "markdown",
   "metadata": {},
   "source": [
    "---\n",
    "\n",
    "### Test endpoint: `/rapport` (POST)"
   ]
  },
  {
   "cell_type": "code",
   "execution_count": 38,
   "metadata": {},
   "outputs": [
    {
     "data": {
      "text/plain": [
       "b'Rapport_uploaded'"
      ]
     },
     "execution_count": 38,
     "metadata": {},
     "output_type": "execute_result"
    }
   ],
   "source": [
    "data = {\n",
    "        'date_rapport' : '28-06-2023 12:00:00', \n",
    "        'erreur' : True, \n",
    "        \"images\" : [\"IMG010011\", \"IMG010044\", \"IMG010055\"], \n",
    "        \"parametres\" : \"unrUKSdPYYNYt3zlKfO8\",\n",
    "        \"prediction_classe_noPub\": 0.99, \n",
    "        \"prediction_classe_pub\" : 0.01\n",
    "    }\n",
    "\n",
    "query = requests.post(\"http://leboncassoulet.pythonanywhere.com/rapports\", json=data)\n",
    "\n",
    "query.content"
   ]
  },
  {
   "attachments": {},
   "cell_type": "markdown",
   "metadata": {},
   "source": [
    "#### Résultat :\n",
    "\n",
    "![image](./Fichiers/Images/screenshot_6.png)"
   ]
  },
  {
   "attachments": {},
   "cell_type": "markdown",
   "metadata": {},
   "source": [
    "---\n",
    "\n",
    "### Test endpoint: `/infos` (POST)"
   ]
  },
  {
   "cell_type": "code",
   "execution_count": 39,
   "metadata": {},
   "outputs": [
    {
     "data": {
      "text/plain": [
       "b'Infos_uploaded'"
      ]
     },
     "execution_count": 39,
     "metadata": {},
     "output_type": "execute_result"
    }
   ],
   "source": [
    "data = {\n",
    "        'date' : '01-06-2023 08:00:00', \n",
    "        'dev' : \"Antoine Lecroart\", \n",
    "        \"nb_user\" : 3,\n",
    "        \"success_rate\": 0.9, \n",
    "        \"version\" : '1.5'\n",
    "    }\n",
    "\n",
    "query = requests.post(\"http://leboncassoulet.pythonanywhere.com/infos\", json=data)\n",
    "\n",
    "query.content"
   ]
  },
  {
   "attachments": {},
   "cell_type": "markdown",
   "metadata": {},
   "source": [
    "#### Résultat :\n",
    "\n",
    "![image](./Fichiers/Images/screenshot_7.png)"
   ]
  },
  {
   "attachments": {},
   "cell_type": "markdown",
   "metadata": {},
   "source": [
    "---\n",
    "\n",
    "### Test endpoint: `/parametres` (POST)"
   ]
  },
  {
   "cell_type": "code",
   "execution_count": 40,
   "metadata": {},
   "outputs": [
    {
     "data": {
      "text/plain": [
       "b'Parametres_uploaded'"
      ]
     },
     "execution_count": 40,
     "metadata": {},
     "output_type": "execute_result"
    }
   ],
   "source": [
    "data = {\n",
    "        \"conf\" : 0.8,\n",
    "        \"iou\": 0.45, \n",
    "        \"max_det\" : 1\n",
    "    }\n",
    "\n",
    "query = requests.post(\"http://leboncassoulet.pythonanywhere.com/parametres\", json=data)\n",
    "\n",
    "query.content"
   ]
  },
  {
   "attachments": {},
   "cell_type": "markdown",
   "metadata": {},
   "source": [
    "#### Résultat :\n",
    "\n",
    "![image](./Fichiers/Images/screenshot_8.png)"
   ]
  }
 ],
 "metadata": {
  "kernelspec": {
   "display_name": "base",
   "language": "python",
   "name": "python3"
  },
  "language_info": {
   "codemirror_mode": {
    "name": "ipython",
    "version": 3
   },
   "file_extension": ".py",
   "mimetype": "text/x-python",
   "name": "python",
   "nbconvert_exporter": "python",
   "pygments_lexer": "ipython3",
   "version": "3.7.9"
  },
  "orig_nbformat": 4
 },
 "nbformat": 4,
 "nbformat_minor": 2
}
